{
 "cells": [
  {
   "cell_type": "markdown",
   "id": "4e8000e5-5d02-4c37-899e-9099d7f46c78",
   "metadata": {
    "tags": []
   },
   "source": [
    "# [Ask the Expert: How can I Integrate SAS® and Open Source for Analytics and Machine Learning?](https://www.sas.com/en_us/webinars/integrate-sas-open-source.html)\n",
    "\n",
    "## Part 1 - Data Exploration and Preparation with Python and SAS Viya (this notebook)\n",
    "1. Data exploration and preparation in SAS Viya using the Python SWAT package.\n",
    "2. Integration with SAS Visual Analytics to work with the final data.\n",
    "\n",
    "## Part 2 - Machine Learning with Viya and Open Source\n",
    "1. How Viya was designed to integrate with open source languages and packages to enable development and deployment of superior models for your organization.\n",
    "2. The key integration points between Viya and open source.\n",
    "3. How open source developers can take advantage of the massively parallel processing Cloud Analytics Services in-memory engine of Viya to speed model development against large data."
   ]
  },
  {
   "cell_type": "code",
   "execution_count": null,
   "id": "4ffb3fb5-bf10-48b9-881c-30d4db9cfcc0",
   "metadata": {},
   "outputs": [],
   "source": [
    "from IPython.display import Image\n",
    "def display_image(img):\n",
    "    ''' Display images for presentation'''\n",
    "    return Image(url=r'https://raw.githubusercontent.com/pestyld/Python-Integration-to-SAS-Viya/master/images/' + img, embed=True)"
   ]
  },
  {
   "cell_type": "code",
   "execution_count": null,
   "id": "fdf512de-4375-4bc9-9244-b58cf8bb33ba",
   "metadata": {},
   "outputs": [],
   "source": [
    "display('Part 1 - Data Preparation and Exploration Using Python and Visual Analtyics', display_image('00_VA_Basic.png'))"
   ]
  },
  {
   "cell_type": "code",
   "execution_count": null,
   "id": "dd9f8dd3-9a9d-4647-bf8a-2971cd86ec40",
   "metadata": {},
   "outputs": [],
   "source": [
    "display('Part 2 - Machine Learning on the Final Data', display_image('00_Model_Studio.png'))"
   ]
  },
  {
   "cell_type": "markdown",
   "id": "1adfd0bb-afce-448f-a4e9-ec008f5ac505",
   "metadata": {},
   "source": [
    "## Introduction to SAS Viya"
   ]
  },
  {
   "cell_type": "markdown",
   "id": "1b8154fe-3d1d-4d34-a094-69448dbb51c4",
   "metadata": {},
   "source": [
    "### SAS Viya Overview"
   ]
  },
  {
   "cell_type": "code",
   "execution_count": null,
   "id": "a1fa7340-56aa-4017-b283-e52a7cc29a1a",
   "metadata": {
    "tags": []
   },
   "outputs": [],
   "source": [
    "display_image('01_Viya_Overview.png')"
   ]
  },
  {
   "cell_type": "markdown",
   "id": "ac5121f1-502d-4695-ae42-d3622cbde504",
   "metadata": {},
   "source": [
    "**Expand notes below each slide for more information**"
   ]
  },
  {
   "cell_type": "markdown",
   "id": "12fb1af4-a956-4e00-86f5-a6119d146d73",
   "metadata": {
    "jupyter": {
     "source_hidden": true
    },
    "tags": []
   },
   "source": [
    "\n",
    "SAS Viya contains a variety of applications to process your data through the entirety of the analytics life cycle, but SAS Viya is much more than that. It's\n",
    " also cloud native, allowing scalable, web-based access to quick, accurate, and reliable analytical insights. \n",
    "Its in-memory engine and parallel processing capabilities can significantly improve the execution speed of your analytics. \n",
    "In its entirety, SAS Viya is a collaborative environment for all users. It enables everyone – data scientists, business analysts, developers, report viewers and executives alike – to collaborate, scale, and operationalize insights. \n",
    "\n",
    "How does all of this happen? SAS Viya includes multiple servers. The SAS Compute Server and SAS Cloud Analytic Services, or the CAS server for short. \n",
    "The SAS Compute Server enables you to execute traditional SAS code. The SAS Compute Server is the Viya equivalent of the SAS®9 workspace server. \n",
    "\n",
    "Then there’s the CAS server.  CAS has a massively parallel processing (MPP) architecture that is appropriate for analyzing big data and resource-intensive programs. It performs parallel processing on resident in-memory data to boost performance and produce lightning-fast results. It is optimal for big data and resource-intensive programs like machine learning. In this course, we focus on working with the CAS server in SAS Viya. \n",
    "\n",
    "All of these features are accessed from a web browser, and SAS Viya provides integration with open-source languages like Python, R, REST, JAVA, and LUA."
   ]
  },
  {
   "cell_type": "code",
   "execution_count": null,
   "id": "7a967e1d-00e2-4571-aa67-d345a92f83eb",
   "metadata": {
    "tags": []
   },
   "outputs": [],
   "source": [
    "display_image('02_Viya_Apps.png')"
   ]
  },
  {
   "cell_type": "markdown",
   "id": "d21a7e6c-ea54-4f04-b46b-c52f6e13f8c3",
   "metadata": {
    "jupyter": {
     "source_hidden": true
    },
    "tags": []
   },
   "source": [
    "SAS Viya consists of many applications that enable you to work with your data no matter your job role or skill level. This can be done through the collection of integrated AI, analytic, and data management solutions in SAS Viya.\n",
    "\n",
    "- The entry point for SAS Viya is **SAS Drive**, a collaborative interface for accessing, organizing, and sharing content. This application is the gateway to all other applications in SAS Viya. \n",
    "- **SAS Studio** is the interactive development environment (IDE) in SAS Viya that enables you to program, build flows, and even use point-and-click tools to process your data. \n",
    "- **SAS Visual Analytics** enables you to visualize data, build statistical models, and create interactive dashboards with an easy-to-use point-and-click interface.  \n",
    "- **SAS Data Studio** is the data preparation application that enables you to easily prepare data using point-and-click transforms. It also enables you to easily embed custom code if necessary.\n",
    "- **SAS Visual Statistics**, **SAS Visual Data Mining and Machine Learning**, and **SAS Visual Forecasting** are applications built for data scientists. Users can interactively create and refine predictive machine learning models and forecasts. \n",
    "- **SAS Model Manager** streamlines the model life cycle \n",
    "- **SAS Environment Manager** manages the entire environment. \n",
    "\n",
    "These are just a few of the many applications available in SAS Viya. All of these applications enable individuals in an organization to work with data.\n"
   ]
  },
  {
   "cell_type": "markdown",
   "id": "2b6beb07-7645-418e-9901-9a17e035bd18",
   "metadata": {},
   "source": [
    "### CAS Server Overview"
   ]
  },
  {
   "cell_type": "code",
   "execution_count": null,
   "id": "cef8dd8c-080b-442f-b41c-e1a4fb4ad96c",
   "metadata": {
    "tags": []
   },
   "outputs": [],
   "source": [
    "display_image('03_CAS_Overview1.png')"
   ]
  },
  {
   "cell_type": "markdown",
   "id": "bb738e3f-731d-4f13-bbf9-3387690c6e00",
   "metadata": {
    "jupyter": {
     "source_hidden": true
    },
    "tags": []
   },
   "source": [
    "The CAS server is the cloud-native, high-performance in-memory analytics and massively parallel processing engine. The CAS server is configured to run on multiple machines. Typically, you will have one controller node and several worker nodes. You need to make a connection to the CAS server from your client. This is called a CAS session or CAS connection. \n",
    "\n",
    "SAS Documentation - [SAS® Cloud Analytic Services: Fundamentals](https://go.documentation.sas.com/doc/en/pgmsascdc/default/casfun/titlepage.htm)"
   ]
  },
  {
   "cell_type": "code",
   "execution_count": null,
   "id": "fc9724d4-a7aa-42c7-9fd4-d193129db2ef",
   "metadata": {
    "tags": []
   },
   "outputs": [],
   "source": [
    "display_image('03_CAS_Overview2.png')"
   ]
  },
  {
   "cell_type": "markdown",
   "id": "5adf785e-c487-4d65-abd4-2deb2d0aa537",
   "metadata": {
    "jupyter": {
     "source_hidden": true
    },
    "tags": []
   },
   "source": [
    "For data to be processed in CAS, data is copied into memory from some data source, and data blocks are automatically distributed across the worker nodes and loaded into memory. This is called serial loading. Once data is loaded into memory it persists in memory until explicitly dropped or the CAS session ends. \n",
    "\n",
    "You can also load data into memory in parallel. View the following resources for additional information:\n",
    "- [Five Approaches for High-Performance Data Loading to the SAS® Cloud Analytic Services Server](https://www.sas.com/content/dam/SAS/support/en/sas-global-forum-proceedings/2018/1854-2018.pdf)\n",
    "-[Parallel data load to SAS Viya](https://communities.sas.com/t5/SAS-Communities-Library/Parallel-data-load-to-SAS-Viya/ta-p/361318#:~:text=In%20SAS%C2%AE%20Viya%E2%84%A2,sets%20into%20the%20CAS%20server.)\n",
    "- [4 Approaches for Parallel Data Loading to CAS](https://communities.sas.com/t5/SAS-Communities-Library/4-Approaches-for-Parallel-Data-Loading-to-CAS/ta-p/370955)]\n",
    "- [How to Parallel Load and Compress a SAS® Cloud Analytic Services (CAS) Table](https://blogs.sas.com/content/sgf/2019/10/17/how-to-parallel-load-and-compress-a-sas-cloud-analytic-services-cas-table/)\n",
    "\n",
    "If you persist the data in memory, it enables multiple users to access the same in-memory table without any additional I/O (data load from disk to memory). Because I/O is more resource intensive, having data preloaded into memory speeds up the processing for all users.   "
   ]
  },
  {
   "cell_type": "code",
   "execution_count": null,
   "id": "576deeb1-dec9-43d6-bcf1-ff2caade9d12",
   "metadata": {},
   "outputs": [],
   "source": [
    "display_image('03_CAS_Overview3.png')"
   ]
  },
  {
   "cell_type": "markdown",
   "id": "6be05b9c-2f05-4782-a350-91b326fdc126",
   "metadata": {
    "jupyter": {
     "source_hidden": true
    },
    "tags": []
   },
   "source": [
    "With CAS, multiple users can access the same in-memory table.\n",
    "\n",
    "For example, person A can execute a variety of Python programs, person B can create dashboards using SAS Visual Analytics, and person C can execute machine learning models. All users can do this using the same in-memory table copy. \n",
    "\n",
    "In all instances, the controller accepts the programs from the client and distributes code to the workers. The workers perform coordinated parallel processing on their portion of the data, with multiple nodes executing the same actions on different parts of the data at the same time. The controller monitors progress and coordinates re-assembling the result segments produced by each worker. If requested by the client, the controller then returns the results to the client for further processing. Modifications to the in-memory table are not reflected in the physically stored data source. If you want to update the physical data source, the in-memory table must be explicitly saved back to the physical storage location."
   ]
  },
  {
   "cell_type": "code",
   "execution_count": null,
   "id": "37cd0147-33fc-4310-a9c4-ed845e84596e",
   "metadata": {},
   "outputs": [],
   "source": [
    "display_image('03_CAS_Overview4.png')"
   ]
  },
  {
   "cell_type": "markdown",
   "id": "f228744b-a141-4799-8938-c8c5adfae664",
   "metadata": {
    "jupyter": {
     "source_hidden": true
    },
    "tags": []
   },
   "source": [
    "The CAS server needs to access data from some physical data source. CAS can access data from a variety of sources using [SAS Viya Data Connectors](https://go.documentation.sas.com/doc/en/pgmsascdc/default/casref/p0j09xx6p9ffven1x7z9cq8s1zaa.htm), including databases, Hadoop, streaming data, path-based files, and data stored in the cloud.\n",
    "\n",
    "Once data is loaded into memory on the CAS server, you can process that data using CAS actions. Actions are optimized units of work built for the distributed CAS server. CAS actions provide a range of functionality from managing, processing, analyzing, and modeling data, to executing most traditional SAS DATA step, FedSQL, and even DS2! \n",
    "\n",
    "CAS actions are organized into groups called CAS action sets, and the actions within a set perform related tasks. You can think of action sets as a package, and the actions within an action set as methods. \n",
    "\n",
    "For example, the table action set provides many actions for accessing and managing data.  These include the caslibInfo action to view available data sources, the tableInfo action to view available tables, the fileInfo action to list the data source files, and the fetch action to retrieve n rows of a table.\n",
    "\n",
    "You request a specific action by specifying the action set name, a period, and the action name. Specifying the action set name is usually optional. However, there are a few actions with the same name in different action sets. In those cases, the action set name is required. In this course, we typically specify only the action.\n",
    "\n",
    "CAS actions provide a variety of benefits.\n",
    "- First, CAS actions are optimized to run in the CAS server's massively parallel processing engine for lightening-fast results.\n",
    "- Second, the same CAS action is used regardless of programming language or application. That means you can use the same CAS action in CASL, Python, R, and more. This enables you to easily pass information between languages.\n",
    "- When using actions in different languages, the results are equivalent (given seeds).\n",
    "- Lastly, actions are multi-purpose. Actions perform a specific task, and within that task, an action can also perform a variety of other tasks like create a new table, create calculated columns, filter rows and columns, and group data.\n",
    "\n",
    "The question is, how can you execute actions? \n",
    "\n",
    "SAS Viya provides a variety of interfaces for executing CAS actions. One way to execute actions on the CAS server is to use the native CAS language, or CASL for short. CASL supports executing CAS actions on the CAS server and uses normal programing logic. If you have experience using languages like Lua, Python, or R, CASL will be an easy language to learn.\n",
    "\n",
    "Instead of using CASL, you can also execute CAS actions through the CAS API using traditional SAS programming, FedSQL, Java, Python, R, Lua, and REST API. This course focuses on using the Python language.\n",
    "\n",
    " Lastly, you can use a variety of SAS Viya applications like SAS Visual Analytics to create dashboards, SAS Visual Statistics and SAS Visual Data Mining and Machine Learning for modeling and statistics, and a variety of others. All applications execute actions behind the scenes.\n",
    "\n",
    "\n",
    "NOTES:\n",
    "1. With the SAS programming language, many PROCs and much of the traditional DATA step is CAS enabled and can be executed on CAS tables. For more information about how to execute traditional SAS code in SAS Viya, you can view the Programming for SAS Viya course: https://support.sas.com/edu/schedules.html?crs=PGVIYA&ctry=US.\n",
    "2. For Java, you must use the CASClient class.\n",
    "3. For Python, R, and Luna, the SWAT package is required. Many familiar methods are available through the SWAT package.\n",
    "4. The CAS API converts the native language syntax to CAS actions behind the scenes.\n",
    "5. Visit the SAS website for detailed information about all available SAS Viya offerings."
   ]
  },
  {
   "cell_type": "code",
   "execution_count": null,
   "id": "f582cece-cf46-4c2d-8d18-8e2dc1b5f423",
   "metadata": {},
   "outputs": [],
   "source": [
    "display_image('05_Client_Server.png')"
   ]
  },
  {
   "cell_type": "markdown",
   "id": "66b25214-0ebd-4a1c-97c9-fb3edcc9077f",
   "metadata": {
    "jupyter": {
     "source_hidden": true
    },
    "tags": []
   },
   "source": [
    "You can use Python on your client to explore, prepare, analyze, and model big data on the CAS server using familiar Python syntax along with CAS actions to take advantage of the parallel processing power of CAS. If you are preparing data in CAS, you can then share that data with other users or other SAS Viya applications like SAS Visual Analytics to create shareable dashboards. \n",
    "\n",
    "If you are exploring, analyzing, or modeling data in CAS to take advantage of the in-memory parallel processing power,  CAS returns smaller summarized results back to your local Python client. Once the summarized results from the CAS server are returned to your client, you can use native Python packages on the smaller, more manageable data.\n"
   ]
  },
  {
   "cell_type": "code",
   "execution_count": null,
   "id": "c9116865-c27b-4504-9daa-57fe26b64e5d",
   "metadata": {},
   "outputs": [],
   "source": [
    "display_image('07_pandas.png')"
   ]
  },
  {
   "cell_type": "markdown",
   "id": "a2240545-f62b-44ae-ac50-be86bf1c1197",
   "metadata": {
    "jupyter": {
     "source_hidden": true
    },
    "tags": []
   },
   "source": [
    "As an experienced Python programmer, you most likely are familiar with Python packages like Pandas, Matplotlib, NumPy, and seaborn. You might be thinking, “Great, I can use these packages on data in CAS!” \n",
    "\n",
    "**False!**\n",
    "\n",
    "Although these are great packages, they do not execute on data on the CAS server. I'll repeat this because it's very important and a common misconception.  Native Python packages do not execute on data on the CAS server.\n"
   ]
  },
  {
   "cell_type": "markdown",
   "id": "1ae71a99-126a-4e5e-8b08-2208845ef514",
   "metadata": {},
   "source": [
    "### SWAT Package Overview\n",
    "[SWAT Documentation](https://sassoftware.github.io/python-swat/getting-started.html)"
   ]
  },
  {
   "cell_type": "code",
   "execution_count": null,
   "id": "d984ebe3-3533-46c3-9d1e-9517dccf516d",
   "metadata": {},
   "outputs": [],
   "source": [
    "display_image('08a_swat.png')"
   ]
  },
  {
   "cell_type": "markdown",
   "id": "a448daba-5325-4401-ac84-64b419144486",
   "metadata": {
    "jupyter": {
     "source_hidden": true
    },
    "tags": []
   },
   "source": [
    "In order to process data with Python on the CAS server, you must use the SAS Scripting Wrapper for Analytics Transfer, or the SWAT package for short. This is an open-source package used with Python, R, and Lua. With the SWAT package, you can write a program that connects to the CAS server, quickly load large amounts of data into memory, analyze the data, and then work with the results of your analysis using familiar techniques in the open-source language of your choice.\n",
    "\n",
    "The Python SWAT package contains many familiar Pandas methods, functions, and attributes that work like their counterparts. However, not all methods and functions are available, so be sure to download the latest version of the SWAT package for the most up-to-date functionality.\n",
    "\n",
    "The SWAT package also contains an enormous number of CAS actions and CAS methods that can be used to process your data.\n",
    "\n",
    "For example, with the SWAT package, you can use the familiar head method from the Pandas API on a CAS table to return the first n rows of a CAS table.\n",
    "\n",
    "In all cases, the code is translated through the CAS API into the same fetch CAS action behind the scenes and sent to the CAS server. The action is processed in CAS, and the results are sent from the CAS server to the client.The CAS API converts familiar Pandas methods into actions behind the scenes, but you can also execute actions directly through the SWAT package.\n",
    "\n",
    "In this example, you can execute the same fetch CAS action in Python. The action is sent to the CAS server, and CAS processes the action and returns the results to the client. The same action can be used in all languages that work with CAS.\n",
    "\n",
    "The CAS API converts familiar Pandas methods into actions behind the scenes, but you can also execute actions directly through the SWAT package.\n",
    "\n",
    "In this example, you can execute the same fetch CAS action in Python. The action is sent to the CAS server, and CAS processes the action and returns the results to the client. The same action can be used in all languages that work with CAS."
   ]
  },
  {
   "cell_type": "code",
   "execution_count": null,
   "id": "5b491ca0-1357-4e9f-b6b1-87793c52fa8d",
   "metadata": {},
   "outputs": [],
   "source": [
    "display_image('09_client_server.png')"
   ]
  },
  {
   "cell_type": "markdown",
   "id": "b53ae633-f82d-4fa1-8043-3e200d065572",
   "metadata": {
    "jupyter": {
     "source_hidden": true
    },
    "tags": []
   },
   "source": [
    "In the end, having both your Python client and the CAS server offers you a lot of flexibility. The goal is to look at each as a tool and determine the best tool for the job."
   ]
  },
  {
   "cell_type": "markdown",
   "id": "b8d78342-2223-4369-8c05-49eb5d01123a",
   "metadata": {},
   "source": [
    "# Accessing, exploring and preparing distributed data using the Python SWAT Package"
   ]
  },
  {
   "cell_type": "markdown",
   "id": "bbba523e-da3c-473f-8a65-20a11c5130c0",
   "metadata": {},
   "source": [
    "## 1. Setup"
   ]
  },
  {
   "cell_type": "markdown",
   "id": "70b037a1-cc9a-4b51-822a-ad4611e7475d",
   "metadata": {},
   "source": [
    "### a. Import packages"
   ]
  },
  {
   "cell_type": "code",
   "execution_count": null,
   "id": "6a06a1e1-bf47-47ae-8eec-0ee5bc4c2ac6",
   "metadata": {},
   "outputs": [],
   "source": [
    "## System packages\n",
    "import sys\n",
    "import os\n",
    "\n",
    "## Data packages\n",
    "import swat\n",
    "import numpy as np\n",
    "import pandas as pd\n",
    "import matplotlib.pyplot as plt\n",
    "\n",
    "## Set pandas column options\n",
    "pd.set_option('max_colwidth', 200)\n",
    "pd.set_option('display.max_columns', None)\n",
    "\n",
    "## My custom personal module to connect to my CAS environment\n",
    "try:\n",
    "    from casConnect import connect_to_cas \n",
    "except:\n",
    "    print('casConnect package not available')\n",
    "\n",
    "## Check Python and package versions\n",
    "print(f'Python version:{sys.version.split(\" \")[0]}')\n",
    "print(f'numpy:{np.__version__}')\n",
    "print(f'pandas:{pd.__version__}')\n",
    "print(f'swat:{swat.__version__}')"
   ]
  },
  {
   "cell_type": "markdown",
   "id": "a63a1ada-7275-4370-877f-7d9115922867",
   "metadata": {},
   "source": [
    "### b. Connect to the CAS server"
   ]
  },
  {
   "cell_type": "code",
   "execution_count": null,
   "id": "e386304c-422d-4955-83de-2b95ca6bc5bb",
   "metadata": {},
   "outputs": [],
   "source": [
    "display_image('10_CAS_session.png')"
   ]
  },
  {
   "cell_type": "markdown",
   "id": "49d58c6a-65b4-42ce-b991-05fd99c87447",
   "metadata": {
    "jupyter": {
     "source_hidden": true
    },
    "tags": []
   },
   "source": [
    "To begin working with CAS, you need to make a connection to the CAS server. This is known as a CAS session. A CAS session contains a variety of information and properties. These include server status and licensing, as well as session properties like timeout, locale, active caslib, metrics, and more. \n",
    "\n",
    "You can also create multiple CAS sessions on the CAS server, and these CAS sessions are independent of each other. One reason you would want to create multiple CAS sessions is to execute programs in parallel. One example would be if you want to execute three different machine learning models at the same time. Otherwise, if you do not terminate your connection to CAS, you might mistakenly create multiple connections to CAS, consuming resources.\n"
   ]
  },
  {
   "cell_type": "markdown",
   "id": "7b31efaf-cbd3-46c5-86b6-059e60762564",
   "metadata": {},
   "source": [
    "To connect to the CAS server, you need:\n",
    "- the host name, \n",
    "- the port number, \n",
    "- authentication\n",
    "\n",
    "**Be aware that connecting to the CAS server can be implemented in various ways, so you might need to see your system administrator about how to make a connection. Please follow company policy regarding authentication.**"
   ]
  },
  {
   "cell_type": "code",
   "execution_count": null,
   "id": "7d51adba-95dc-4301-8afa-90844248599e",
   "metadata": {},
   "outputs": [],
   "source": [
    "###################################################################################\n",
    "## General syntax\n",
    "###################################################################################\n",
    "## conn = swat.CAS('server.demo.sas.com', port number, 'username', 'password')\n",
    "###################################################################################\n",
    "\n",
    "\n",
    "###################################################################################\n",
    "## Viya for Learners 3.5 CAS connection information\n",
    "###################################################################################\n",
    "# hostValue = os.environ.get('CASHOST')\n",
    "# portValue = os.environ.get('CASPORT')\n",
    "# passwordToken=os.environ.get('SAS_VIYA_TOKEN')\n",
    "# conn = swat.CAS(hostname=hostValue,port=portValue,password=passwordToken)\n",
    "###################################################################################"
   ]
  },
  {
   "cell_type": "markdown",
   "id": "3f3efb94-5c7a-4bb8-8cb1-cb2a4f54a143",
   "metadata": {},
   "source": [
    "#### REQUIRED: Modify the connection information below to connect to your CAS server\n",
    "\n",
    "This connection uses a demo environment and my personal connection to CAS. You will have to modify this to connect to your CAS server."
   ]
  },
  {
   "cell_type": "code",
   "execution_count": null,
   "id": "ce8ad166-42e2-439e-b853-25ab1c5a25bf",
   "metadata": {},
   "outputs": [],
   "source": [
    "conn = connect_to_cas()"
   ]
  },
  {
   "cell_type": "code",
   "execution_count": null,
   "id": "37a6ae07-0d41-4532-aaa5-7ec06e03ba42",
   "metadata": {},
   "outputs": [],
   "source": [
    "type(conn)"
   ]
  },
  {
   "cell_type": "markdown",
   "id": "215448cc-fa2b-4ff1-9c66-6baedbcacda0",
   "metadata": {},
   "source": [
    "Confirm the connection is working and view the version of SAS Viya."
   ]
  },
  {
   "cell_type": "code",
   "execution_count": null,
   "id": "dbbe1c63-486e-4b14-a9b7-28e423bc4f48",
   "metadata": {},
   "outputs": [],
   "source": [
    "try:\n",
    "    print(conn.about()['About']['Viya Version'])  ## Current SAS Viya versions\n",
    "except:\n",
    "    print(conn.about()['About']['Version'])       ## If you are using SAS Viya 3.5 or prior"
   ]
  },
  {
   "cell_type": "markdown",
   "id": "dd07216b-9adb-42db-adf6-216dba53c585",
   "metadata": {},
   "source": [
    "### c. <a id='setup'>Set up demonstration data</a>\n",
    "The following script will create a parquet file for the demonstration. We are using small, familiar data for training purposes. Typically the CAS server is used for larger data and resource intensive ML. \n",
    "\n",
    "The script will:\n",
    "1. Download the **home_equity.csv** file from the **Example Data Sets for the SAS® Viya® Platform** webpage and load it to the CAS server as the CAS table **home_equity_raw**.\n",
    "2. Save the CAS table as the file **home_equity_raw.parquet** in the Casuser caslib.\n",
    "3. Drop the **home_equity_raw** in-memory CAS table."
   ]
  },
  {
   "cell_type": "code",
   "execution_count": null,
   "id": "56a55fab-694f-4f2f-ab04-a5b87367b5d2",
   "metadata": {},
   "outputs": [],
   "source": [
    "## Download the CSV file from the SAS Viya Examples Data Sets website and load it to CAS\n",
    "uploadFile = \"https://support.sas.com/documentation/onlinedoc/viya/exampledatasets/home_equity.csv\"\n",
    "\n",
    "## Load the data to CAS\n",
    "castbl = conn.read_csv(uploadFile,\n",
    "                       casout = {'name':'home_equity_raw', \n",
    "                                 'caslib':'casuser',\n",
    "                                 'replace':True}\n",
    "                      )\n",
    "\n",
    "## Save the CAS table as a parquet file in the Casuser caslib\n",
    "castbl.save(name='home_equity_raw.parquet', caslib='casuser', replace = True)\n",
    "\n",
    "## Drop the CAS table\n",
    "castbl.dropTable()"
   ]
  },
  {
   "cell_type": "markdown",
   "id": "4b58bceb-3bfe-4410-b632-ffbcfb2174d9",
   "metadata": {},
   "source": [
    "## 2. Explore available data in the CAS server\n",
    "\n",
    "[SAS Viya Data Connectors](https://go.documentation.sas.com/doc/en/pgmsascdc/default/casref/p0j09xx6p9ffven1x7z9cq8s1zaa.htm) enable you to connect to a variety of data sources throughout your organization like Amazone Redshift, SQL Server, Postgres, Salesforce, Snowflake, Spark and more."
   ]
  },
  {
   "cell_type": "code",
   "execution_count": null,
   "id": "3e35ca2f-6549-401c-87e5-4be5a415e82e",
   "metadata": {},
   "outputs": [],
   "source": [
    "display_image('11a_caslibs.png')"
   ]
  },
  {
   "cell_type": "markdown",
   "id": "6e4107f3-542b-4b57-ba1f-df1b4a547124",
   "metadata": {
    "jupyter": {
     "source_hidden": true
    },
    "tags": []
   },
   "source": [
    "CAS stores and accesses data via caslibs. Caslibs provide a common interface into accessing different data sources. No matter which data source you access in CAS, it is connected via a caslib. Caslibs connect into a variety of data sources in your organization.\n",
    "\n",
    "A caslib consists of three main parts. \n",
    "\n",
    "First, there’s the data source portion. The data source portion contains connection information to a physical data source for storage. Data might be stored on disk in a path with familiar formats such as SAS data sets, CSV, Microsoft Excel, or parquet files, or stored in databases, the cloud, Hadoop, or other systems. The data source portion stores the connection and authorization information required for interacting with those files using SAS Viya data connectors. Data stored in the data source portion of a caslib is generally referred to as files. Files in the data source area cannot be processed directly. \n",
    "\n",
    "The second part of a caslib is the in-memory portion. The in-memory portion provides a space to hold tables that can have operations performed on them. You can almost think of a CAS table as a DataFrame on the CAS server. A file must first be loaded into memory from a data source. Data loaded into memory is generally referred to as tables or CAS tables. >When they are loaded, in-memory tables are available for processing, and they persist in memory. Because there's no connection between the in-memory copy and the data source file, if you want to permanently keep changes made to the data during processing, the in-memory table should be explicitly written back to the data source. If you are done with the CAS table, you can drop the table. We discuss this more later.\n",
    "\n",
    "Lastly, a caslib contains access controls about who can access that specific caslib."
   ]
  },
  {
   "cell_type": "markdown",
   "id": "d3448db5-1c84-4fd0-9189-9040f2067eb6",
   "metadata": {},
   "source": [
    "### a. View available caslibs (data sources) in the CAS server"
   ]
  },
  {
   "cell_type": "code",
   "execution_count": null,
   "id": "cdf648e9-8130-4c59-b560-dc6d10ecb35e",
   "metadata": {},
   "outputs": [],
   "source": [
    "conn.caslibInfo()"
   ]
  },
  {
   "cell_type": "markdown",
   "id": "c7e890c7-e2e4-4502-bf99-c2def3deb91f",
   "metadata": {},
   "source": [
    "### b. View available data source files in a caslib\n",
    "\n",
    "[table.fileInfo CAS action](https://go.documentation.sas.com/doc/en/pgmsascdc/default/caspg/cas-table-fileinfo.htm)"
   ]
  },
  {
   "cell_type": "code",
   "execution_count": null,
   "id": "7ed1764c-af5b-4678-93dd-b14947581450",
   "metadata": {},
   "outputs": [],
   "source": [
    "conn.fileInfo(caslib = 'casuser')"
   ]
  },
  {
   "cell_type": "code",
   "execution_count": null,
   "id": "019dfeca-8f6c-4036-9111-0bd55fb49e58",
   "metadata": {},
   "outputs": [],
   "source": [
    "conn.fileInfo(caslib = 'samples')"
   ]
  },
  {
   "cell_type": "markdown",
   "id": "82877628-f21d-4191-b0d4-62030038c000",
   "metadata": {},
   "source": [
    "### c. View available in-memory CAS tables in a caslib\n",
    "[table.tableInfo CAS action](https://go.documentation.sas.com/doc/en/pgmsascdc/default/caspg/cas-table-tableinfo.htm)"
   ]
  },
  {
   "cell_type": "code",
   "execution_count": null,
   "id": "bc492c75-b4ad-4009-94a1-3854de67b985",
   "metadata": {},
   "outputs": [],
   "source": [
    "conn.tableInfo(caslib = 'casuser')"
   ]
  },
  {
   "cell_type": "markdown",
   "id": "a1042702-ed1a-4f72-ad48-913f1e0116ef",
   "metadata": {},
   "source": [
    "### d. Load a file into memory on the CAS server"
   ]
  },
  {
   "cell_type": "markdown",
   "id": "60fdb828-ab00-4874-8f8f-31364f1aaa82",
   "metadata": {},
   "source": [
    "Confirm the **home_equity_raw.parquet** file exits in the Casuser caslib. If it does not, run the code in the [Set up demonstration data](#setup) section."
   ]
  },
  {
   "cell_type": "code",
   "execution_count": null,
   "id": "83a58524-39f6-4d8f-abcc-c110580a47e4",
   "metadata": {},
   "outputs": [],
   "source": [
    "conn.fileInfo(caslib = 'casuser')"
   ]
  },
  {
   "cell_type": "markdown",
   "id": "2f443d71-0b3e-4eb5-b912-c19f2306260c",
   "metadata": {},
   "source": [
    "Use the [table.loadTable action](https://go.documentation.sas.com/doc/en/pgmsascdc/default/caspg/cas-table-loadtable.htm) to load the **home_equity_raw.parquet** data source file into memory. This is similar to loading a file as a DataFrame in pandas using a read_csv method."
   ]
  },
  {
   "cell_type": "code",
   "execution_count": null,
   "id": "d0e2a65d-f7d0-42b7-84d8-3456c356c802",
   "metadata": {},
   "outputs": [],
   "source": [
    "conn.loadTable(path = 'home_equity_raw.parquet', caslib = 'casuser',    ## File to load into memory. Similar to a pandas read_ method\n",
    "               casout = {                                               ## Output CAS in-memory table information\n",
    "                   'name':'home_equity_raw',\n",
    "                   'caslib':'casuser',\n",
    "                   'replace':True\n",
    "               })"
   ]
  },
  {
   "cell_type": "markdown",
   "id": "5875fab4-7c2c-4b86-b4c7-8ea453975246",
   "metadata": {},
   "source": [
    "View the available in-memory tables on the CAS server. The **HOME_EQUITY_RAW** CAS table is now in-memory on the CAS server."
   ]
  },
  {
   "cell_type": "code",
   "execution_count": null,
   "id": "34644665-d76e-45dd-9957-0fed58f5582d",
   "metadata": {},
   "outputs": [],
   "source": [
    "conn.tableInfo(caslib = 'casuser')"
   ]
  },
  {
   "cell_type": "markdown",
   "id": "3eb612eb-8cbe-4b23-ae54-82ce3a2c7722",
   "metadata": {},
   "source": [
    "## 3. Exploratory data analysis\n",
    "Use the the pandas API and CAS actions from the SWAT package to explore a CAS table."
   ]
  },
  {
   "cell_type": "markdown",
   "id": "46dc7128-c161-4cae-8dea-975c275b4ef3",
   "metadata": {},
   "source": [
    "### a. Create a client-side reference to the CAS table"
   ]
  },
  {
   "cell_type": "markdown",
   "id": "90576821-08e8-459a-a2ae-9a299f71971e",
   "metadata": {},
   "source": [
    "Reference the CAS table."
   ]
  },
  {
   "cell_type": "code",
   "execution_count": null,
   "id": "88272a6d-76b9-4923-80ab-f0fd8ebaedb4",
   "metadata": {},
   "outputs": [],
   "source": [
    "rawTbl = conn.CASTable('home_equity_raw', caslib = 'casuser')"
   ]
  },
  {
   "cell_type": "markdown",
   "id": "edf64b0b-6451-4923-929d-936be2788e17",
   "metadata": {},
   "source": [
    "View the value of castbl. Notice that it's simply a reference to a distributed CAS table."
   ]
  },
  {
   "cell_type": "code",
   "execution_count": null,
   "id": "89c254da-6206-4c37-bf6b-cfd6a16b111a",
   "metadata": {},
   "outputs": [],
   "source": [
    "rawTbl"
   ]
  },
  {
   "cell_type": "markdown",
   "id": "8ad29dbd-4328-4f3a-8335-f7a411384618",
   "metadata": {},
   "source": [
    "View the object type."
   ]
  },
  {
   "cell_type": "code",
   "execution_count": null,
   "id": "99dc00a5-523b-468c-9fc7-514f36b57477",
   "metadata": {},
   "outputs": [],
   "source": [
    "type(rawTbl)"
   ]
  },
  {
   "cell_type": "markdown",
   "id": "e4fb1a03-52ee-450a-99a8-a69a2420055c",
   "metadata": {},
   "source": [
    "**CASTable object**\n",
    "\n",
    "CASTable objects and DataFrame objects (either pandas.DataFrame or SASDataFrame) act very similar in many ways, but they are extremely different constructs. CASTable objects do not contain actual data. They are simply a client-side view of the data in a CAS table on a CAS server. DataFrames and SASDataFrames contain data in-memory on the client machine."
   ]
  },
  {
   "cell_type": "markdown",
   "id": "abff9008-3f89-4a21-9e03-fe0d80e4e943",
   "metadata": {},
   "source": [
    "### b. Explore the CAS table"
   ]
  },
  {
   "cell_type": "markdown",
   "id": "5ff06a15-cc4e-4d7a-a95e-df74ee3ac99d",
   "metadata": {},
   "source": [
    "View the number of rows and columns in the CAS table."
   ]
  },
  {
   "cell_type": "code",
   "execution_count": null,
   "id": "5486e63f-b5cc-48ef-9f7d-ac641722f684",
   "metadata": {},
   "outputs": [],
   "source": [
    "rawTbl.shape"
   ]
  },
  {
   "cell_type": "markdown",
   "id": "7a687fee-0a6a-4771-9553-28148d28d342",
   "metadata": {},
   "source": [
    "View details about the CAS table using the [table.tableDetails CAS action](https://go.documentation.sas.com/doc/en/pgmsascdc/default/caspg/cas-table-tabledetails.htm)."
   ]
  },
  {
   "cell_type": "code",
   "execution_count": null,
   "id": "4a463741-b20b-4e6b-b091-26eea0666eeb",
   "metadata": {},
   "outputs": [],
   "source": [
    "rawTbl.tableDetails()"
   ]
  },
  {
   "cell_type": "markdown",
   "id": "2e471b17-1544-480c-950e-af4dfc7d1b6e",
   "metadata": {},
   "source": [
    "Run the head method on the CASTable object and store the results of the head method on the client. Notice that it's a SASDataFrame object. A SASDataFrame is simply a subclass to a pandas DataFrame."
   ]
  },
  {
   "cell_type": "code",
   "execution_count": null,
   "id": "8197d06a-11f2-4846-bc22-97d932b03341",
   "metadata": {},
   "outputs": [],
   "source": [
    "df = rawTbl.head()\n",
    "type(df)"
   ]
  },
  {
   "cell_type": "markdown",
   "id": "f7519b0b-207d-461c-8a2e-c9dfc2a634e2",
   "metadata": {},
   "source": [
    "**SASDataFrame object**\n",
    "\n",
    "The SASDataFrame object is a subclass of pandas.DataFrame and local on the client. SASDataFames have some additional attributes to hold SAS metadata such as titles, labels, column metadata, etc. It also adds a few utility methods for handling By group representations."
   ]
  },
  {
   "cell_type": "markdown",
   "id": "80c9db0c-79df-4ad1-8835-44b0747edfc1",
   "metadata": {},
   "source": [
    "View column attributes of the CAS table using the [table.columnInfo](https://go.documentation.sas.com/doc/en/pgmsascdc/default/caspg/cas-table-columninfo.htm) CAS action."
   ]
  },
  {
   "cell_type": "code",
   "execution_count": null,
   "id": "79d972b0-3122-4c9a-b6fb-5603dc09559d",
   "metadata": {},
   "outputs": [],
   "source": [
    "rawTbl.columnInfo()"
   ]
  },
  {
   "cell_type": "markdown",
   "id": "27a4041f-06f9-4c85-b6f8-6915eca81ad1",
   "metadata": {},
   "source": [
    "Store the results of a CAS action. All CAS actions return CASResults objects. These are simply python dictionaries on the client-side. They contain some additional methods and attributes."
   ]
  },
  {
   "cell_type": "code",
   "execution_count": null,
   "id": "8c6e9f53-7bbb-48a6-bc67-40b0fa0ca9fa",
   "metadata": {},
   "outputs": [],
   "source": [
    "cr = rawTbl.columnInfo()\n",
    "type(cr)"
   ]
  },
  {
   "cell_type": "markdown",
   "id": "6afb9073-9a0e-4c47-9840-4401c8308dd5",
   "metadata": {},
   "source": [
    "**CASResults object**\n",
    "\n",
    "The output of all CAS actions is a CASResults object. This is a Python ordered dictionary with a few methods added to assist in handling the output keys, and attributes added to report information from the CAS action."
   ]
  },
  {
   "cell_type": "code",
   "execution_count": null,
   "id": "77b144a1-8a36-4b0f-8079-78983a12585f",
   "metadata": {},
   "outputs": [],
   "source": [
    "cr.keys()"
   ]
  },
  {
   "cell_type": "markdown",
   "id": "020c08c2-f6eb-4d96-af18-e98ac1e1c86a",
   "metadata": {},
   "source": [
    "### c. SWAT package common objects overview\n",
    "\n",
    "[CASTable vs. DataFrame vs. SASDataFrame](https://sassoftware.github.io/python-swat/table-vs-dataframe.html#castable-vs-dataframe-vs-sasdataframe)\n",
    "\n",
    "[Handling the output](https://sassoftware.github.io/python-swat/getting-started.html#handling-the-output)"
   ]
  },
  {
   "cell_type": "code",
   "execution_count": null,
   "id": "008bb3f2-8353-4332-b602-c2af5b012b4a",
   "metadata": {},
   "outputs": [],
   "source": [
    "display_image('12b_swat_objects.png')"
   ]
  },
  {
   "cell_type": "markdown",
   "id": "74f76cf5-18b3-49b9-a002-2ca8668dd6c7",
   "metadata": {
    "jupyter": {
     "source_hidden": true
    },
    "tags": []
   },
   "source": [
    "After using a SWAT method or CAS action, the results are returned to the client. Let's investigate a few of the common client-side objects a bit further.\n",
    "\n",
    "**CASTable or CASColumn**\n",
    "\n",
    "First, if you see a CASTable or CASColumn object, those are simply client-side references to an in-memory table on the CAS server. The physical table is not stored on your client machine. You can think of these objects as simply pointing to a table in CAS. To process a CAS table, you must execute a method or action on the object. The CASTable object is the most important object in the SWAT package other than the CAS connection object.\n",
    "\n",
    "**SASDataFrame**\n",
    "\n",
    "Another common object that you will see is a SASDataFrame. A SASDataFrame object is a subclass to a pandas.DataFrame. For the most part, you don’t need to worry about the difference between a SASDataFrame and a panda.DataFrame. They work the same way. The only difference is that a SASDataFrame contains extra attributes to store the SAS metadata such as title, label, and name. If you see a SASDataFrame object, that data lives on your client.\n",
    "\n",
    "**CASResults**\n",
    "\n",
    "Lastly, there is the CASResults object. This is simply a Python dictionary with additional attributes. You can simply work with the CASResults object as you would a Python dictionary. If you see a CASResults object, that data lives on your client.\n"
   ]
  },
  {
   "cell_type": "markdown",
   "id": "45d88992-0315-416b-8058-87126082b67b",
   "metadata": {},
   "source": [
    "### d. Find the number of distinct and missing values"
   ]
  },
  {
   "cell_type": "markdown",
   "id": "610c7071-80a3-4c34-8dad-3ad4887c7fe2",
   "metadata": {},
   "source": [
    "Find the number of distinct and missing values in a CAS table."
   ]
  },
  {
   "cell_type": "code",
   "execution_count": null,
   "id": "8088a1ba-e93d-4b5c-afc1-a2f0c39e4bd0",
   "metadata": {},
   "outputs": [],
   "source": [
    "rawTbl.BAD.nunique()"
   ]
  },
  {
   "cell_type": "code",
   "execution_count": null,
   "id": "2ac60ce3-b3d1-4a3b-884b-7f4f23097275",
   "metadata": {},
   "outputs": [],
   "source": [
    "rawTbl.REASON.unique()"
   ]
  },
  {
   "cell_type": "code",
   "execution_count": null,
   "id": "278e92c0-c6a1-410c-8872-3338e0e95bc5",
   "metadata": {},
   "outputs": [],
   "source": [
    "rawTbl.nmiss()"
   ]
  },
  {
   "cell_type": "markdown",
   "id": "de3809cf-8e51-490e-b51a-3ab6f18f98e3",
   "metadata": {},
   "source": [
    "Use the [simple.distinct](https://go.documentation.sas.com/doc/en/pgmsascdc/default/casanpg/cas-simple-distinct.htm) CAS action to compute the number of distinct and missing values of each column in a CAS table. Call the dictionary key to access the SASDataFrame, and store the results in the variable distinct_df. Notice that distinct_df is a SASDataFrame and is local on the client."
   ]
  },
  {
   "cell_type": "code",
   "execution_count": null,
   "id": "438945f4-4408-4236-9ce6-892d9afd96dd",
   "metadata": {},
   "outputs": [],
   "source": [
    "distinct_df = rawTbl.distinct()['Distinct']\n",
    "\n",
    "display(type(distinct_df), distinct_df)"
   ]
  },
  {
   "cell_type": "markdown",
   "id": "2e478bbc-8c32-462b-88b6-255b12704f83",
   "metadata": {},
   "source": [
    "A SASDataFrame is a subclass of pandas DataFrame. Therefore, anything you can do with a pandas DataFrame will also work with SASDataFrame. SASDataFrames are local on the client.\n",
    "\n",
    "Create the **pctDistinct** and **pctMissing** columns using traditional pandas code. All work on a SASDataFrame is done on the client. "
   ]
  },
  {
   "cell_type": "code",
   "execution_count": null,
   "id": "f1f8cbc1-80b2-435e-ae24-62b414be19a9",
   "metadata": {},
   "outputs": [],
   "source": [
    "## Get the total number of rows from the CAS table\n",
    "totalRows = rawTbl.shape[0]\n",
    "\n",
    "## Calculate a new column in the DataFrame with the percentage of missing values by column using pandas\n",
    "distinct_df = (distinct_df\n",
    "               .assign(pctMissing = distinct_df.NMiss / totalRows,\n",
    "                       pctDistinct = distinct_df.NDistinct / totalRows\n",
    "                      )\n",
    "               .sort_values('pctMissing', ascending = False)\n",
    ")\n",
    "\n",
    "distinct_df"
   ]
  },
  {
   "cell_type": "markdown",
   "id": "8c14dee5-96ba-4f2a-9889-69db71000135",
   "metadata": {},
   "source": [
    "Plot the DataFrame on the Python client using pandas"
   ]
  },
  {
   "cell_type": "code",
   "execution_count": null,
   "id": "862981e8-4692-42bb-84a1-d30291db0508",
   "metadata": {},
   "outputs": [],
   "source": [
    "distinct_df.plot(x='Column', y='pctMissing', kind = 'bar', \n",
    "                 figsize = (12,6), title='Percent of Missing Values by Column');"
   ]
  },
  {
   "cell_type": "markdown",
   "id": "a692175f-2a19-4fba-ae0f-45351a66ad40",
   "metadata": {},
   "source": [
    "Store a list of columns that having missing values using pandas on the client."
   ]
  },
  {
   "cell_type": "code",
   "execution_count": null,
   "id": "08644d39-51fd-43e6-944b-7bd1a17be74c",
   "metadata": {},
   "outputs": [],
   "source": [
    "columnsWithMissingValues = (distinct_df\n",
    "                            .query('NMiss > 0')\n",
    "                            .loc[:,'Column']\n",
    "                            .to_list())\n",
    "\n",
    "columnsWithMissingValues"
   ]
  },
  {
   "cell_type": "markdown",
   "id": "4fc46d17-f1a8-4185-854a-c168878c36e9",
   "metadata": {},
   "source": [
    "### e. Explore categorical columns"
   ]
  },
  {
   "cell_type": "markdown",
   "id": "79c330fe-26b3-4aa6-89c3-7f8f5ca8ccb9",
   "metadata": {},
   "source": [
    "Use the SWAT package value_counts method on the CAS table to summarize the data in CAS. The SWAT value_counts method returns a series to the Python client as expected."
   ]
  },
  {
   "cell_type": "code",
   "execution_count": null,
   "id": "1d291b8d-19f9-4be2-914a-ef689d7ae69d",
   "metadata": {},
   "outputs": [],
   "source": [
    "(rawTbl                           ## CASTable object\n",
    " .Bad                             ## CAS table column\n",
    " .value_counts(normalize=True))   ## SWAT package value_counts method (using the pandas API)"
   ]
  },
  {
   "cell_type": "markdown",
   "id": "500e8e4f-ed46-4ed0-9c2a-13f936fc16e4",
   "metadata": {},
   "source": [
    "Create a Python loop to summarize the data in the distributed CAS server and then plot the Series returned from the CAS server on the Python client using pandas."
   ]
  },
  {
   "cell_type": "code",
   "execution_count": null,
   "id": "e00bc2ff-7a78-4ce7-93a8-b805c05ce427",
   "metadata": {},
   "outputs": [],
   "source": [
    "colNames = ['BAD','JOB','REASON']\n",
    "\n",
    "for col in colNames:\n",
    "    uniqueCounts = (rawTbl[col]                                   ## CASTable object\n",
    "                    .value_counts(normalize=True, dropna=False)   ## SWAT package value_counts method to process in the distributed CAS server\n",
    "                    .plot(kind = 'bar',                           ## Plot the Series returned from the CAS server on the Python client\n",
    "                          title = f'Column: {col}', \n",
    "                          figsize=(6,4))\n",
    "                   )\n",
    "    plt.show()"
   ]
  },
  {
   "cell_type": "markdown",
   "id": "56c1a98a-d807-4511-bab2-8140008d4224",
   "metadata": {},
   "source": [
    "You can also use the [simple.freq](https://go.documentation.sas.com/doc/en/pgmsascdc/default/casanpg/cas-simple-freq.htm) CAS action to get similar results."
   ]
  },
  {
   "cell_type": "code",
   "execution_count": null,
   "id": "d0fd9bf5-f59a-4d71-a011-c35149b61622",
   "metadata": {},
   "outputs": [],
   "source": [
    "rawTbl.freq(inputs = colNames)"
   ]
  },
  {
   "cell_type": "markdown",
   "id": "18748e46-3ff4-4d8c-87e4-575d4c9824bb",
   "metadata": {},
   "source": [
    "### f. Explore numeric columns"
   ]
  },
  {
   "cell_type": "markdown",
   "id": "288830b5-7945-4468-b6b5-fc6ca64ae647",
   "metadata": {},
   "source": [
    "You can use the pandas API describe method with the SWAT package to process in the CAS server."
   ]
  },
  {
   "cell_type": "code",
   "execution_count": null,
   "id": "06846254-eba3-444e-a221-d26e989af650",
   "metadata": {},
   "outputs": [],
   "source": [
    "rawTbl.describe()"
   ]
  },
  {
   "cell_type": "markdown",
   "id": "2fbbd4e8-14e0-436e-867d-271f71deb005",
   "metadata": {},
   "source": [
    "The [simple.summary](https://go.documentation.sas.com/doc/en/pgmsascdc/default/casanpg/cas-simple-summary.htm) action can get similar results."
   ]
  },
  {
   "cell_type": "code",
   "execution_count": null,
   "id": "fa46bf75-37d7-4a58-be25-68ff5e45646a",
   "metadata": {},
   "outputs": [],
   "source": [
    "rawTbl.summary()"
   ]
  },
  {
   "cell_type": "markdown",
   "id": "07a8ece0-7c1d-48ed-9aa6-da4d32605703",
   "metadata": {},
   "source": [
    "#### Compare processing speeds of CAS actions and SWAT methods"
   ]
  },
  {
   "cell_type": "markdown",
   "id": "737053b2-34ea-4859-81ab-c78eba6c864a",
   "metadata": {},
   "source": [
    "Pandas API methods from the SWAT package are converted into actions behind the scenes through the CAS API. \n",
    "\n",
    "CAS actions are sent to the CAS server for processing.\n",
    "\n",
    "You will find that the actions will run faster.\n",
    "\n",
    "You can view the actions that are called by the pandas API methods in the SWAT package by turning on the following options:\n",
    "- *swat.options.cas.trace_ui_actions = True*\n",
    "- *swat.options.cas.trace_actions = True*"
   ]
  },
  {
   "cell_type": "code",
   "execution_count": null,
   "id": "a3d9e8e0-70c8-4015-8096-a603fad798a9",
   "metadata": {},
   "outputs": [],
   "source": [
    "%%capture pandasAPISWAT_time\n",
    "%%timeit\n",
    "rawTbl.describe()"
   ]
  },
  {
   "cell_type": "code",
   "execution_count": null,
   "id": "266ba6a4-0187-43d2-af11-4efa3d1b570f",
   "metadata": {},
   "outputs": [],
   "source": [
    "%%capture action_time\n",
    "%%timeit\n",
    "rawTbl.summary()"
   ]
  },
  {
   "cell_type": "code",
   "execution_count": null,
   "id": "e0335d49-c824-4561-b112-7f9a73f149a3",
   "metadata": {},
   "outputs": [],
   "source": [
    "display(f'SWAT Pandas API: {pandasAPISWAT_time}', f'CAS Action: {action_time} ms')\n",
    "\n",
    "## Store the timing from the captured results\n",
    "pandasAPISWAT_time = float(pandasAPISWAT_time.stdout.split(' ')[0])\n",
    "action_time = float(action_time.stdout.split(' ')[0])\n",
    "\n",
    "## Display values\n",
    "display()\n",
    "display(f'{pandasAPISWAT_time} ms', f'{action_time} ms')"
   ]
  },
  {
   "cell_type": "code",
   "execution_count": null,
   "id": "4de7c40f-100e-47d8-a3c5-a035d31ef091",
   "metadata": {},
   "outputs": [],
   "source": [
    "def timeFaster(pandasSWAT_time, action_time):\n",
    "    timeFaster = pandasSWAT_time/action_time\n",
    "    print(f'The action executed about {round(timeFaster,0)} times faster')\n",
    "    \n",
    "timeFaster(pandasAPISWAT_time, action_time)"
   ]
  },
  {
   "cell_type": "markdown",
   "id": "df69a2d1-a111-450b-b0bb-be3ce821914d",
   "metadata": {},
   "source": [
    "### g. Use SQL in the distributed CAS server\n",
    "Load the [fedSQL action set](https://go.documentation.sas.com/doc/en/pgmsascdc/v_038/caspg/cas-fedsql-TblOfActions.htm) to use SQL in CAS."
   ]
  },
  {
   "cell_type": "code",
   "execution_count": null,
   "id": "90b323c7-3e6d-4433-a201-ba79c2cdb531",
   "metadata": {},
   "outputs": [],
   "source": [
    "conn.loadActionSet('fedSQL')"
   ]
  },
  {
   "cell_type": "markdown",
   "id": "e658bed7-f5b0-4814-aab1-02e2642ee112",
   "metadata": {},
   "source": [
    "You can execute SQL in the CAS server using the execDirection action. Simply pass your query as a string in the query parameter."
   ]
  },
  {
   "cell_type": "code",
   "execution_count": null,
   "id": "82ce3d52-e29f-423b-b353-cf8a9fc9bf08",
   "metadata": {},
   "outputs": [],
   "source": [
    "myQuery = '''\n",
    "    select DIVISION, BAD, count(*) as TotalCount\n",
    "        from casuser.HOME_EQUITY_RAW\n",
    "        group by DIVISION, BAD\n",
    "        order by DIVISION, BAD\n",
    "'''\n",
    "\n",
    "conn.execdirect(query = myQuery)"
   ]
  },
  {
   "cell_type": "markdown",
   "id": "eeaa97d5-3125-4f9f-a5ba-094e751dae80",
   "metadata": {},
   "source": [
    "## 4. Prepare the final data\n",
    "\n",
    "#### Data requirements\n",
    "- a. Update columns in the CAS table\n",
    "    - Standardize the case in the REASON, JOB and CITY colum\n",
    "    - Round the CLAGE column\n",
    "- b. Impute columns with missing values\n",
    "    - Interval(numeric) columns with the mean\n",
    "    - Nominal(character) columns with the mode\n",
    "- c. Add a SAS date format to the APPDATE column\n",
    "- d. Create new calculated columns\n",
    "    - YEAR = Year of the application\n",
    "    - QTR = Quarter of the application\n",
    "    - DATE_SINCE_LAST_APP = Days since the last application (Dynamic, always use today's date)\n",
    "- e. Create the final CAS table\n",
    "- f. Save the CAS table to disk as a parquet/sashdat/csv file in the shared **Public** caslib"
   ]
  },
  {
   "cell_type": "code",
   "execution_count": null,
   "id": "444f0c16-efa4-4d4d-bfa0-186a293b9f71",
   "metadata": {},
   "outputs": [],
   "source": [
    "rawTbl.head()"
   ]
  },
  {
   "cell_type": "markdown",
   "id": "ebe93683-ca74-42c9-945e-f2bacd5a4ae5",
   "metadata": {},
   "source": [
    "### a. Update columns in the CAS table"
   ]
  },
  {
   "cell_type": "markdown",
   "id": "165abc53-3a3f-4885-b5dc-02e1cccbb56f",
   "metadata": {},
   "source": [
    "The [table.update](https://go.documentation.sas.com/doc/en/pgmsascdc/default/caspg/cas-table-update.htm) CAS action will update rows in a CAS table. The set parameter accepts a list of dictionaries. Each dictionary specifies the column to update and how to update it.\n",
    "\n",
    "- The var key specifies the column to update\n",
    "- The value key specifies how to update it. [SAS functions are required](https://go.documentation.sas.com/doc/en/pgmsascdc/v_038/lefunctionsref/p1q8bq2v0o11n6n1gpij335fqpph.htm?fromDefault=)."
   ]
  },
  {
   "cell_type": "code",
   "execution_count": null,
   "id": "48d93efc-fbc2-4df3-97fb-dd274a51a521",
   "metadata": {},
   "outputs": [],
   "source": [
    "## Specify a dictionary for each column to update\n",
    "updateReason = {'var':'REASON', 'value':'upcase(REASON)'}\n",
    "\n",
    "updateJob = {'var':'JOB','value':'upcase(JOB)'}\n",
    "\n",
    "updateCity = {'var':'CITY', 'value':'propcase(CITY)'}\n",
    "\n",
    "roundCLAGE = {'var':'CLAGE', 'value': 'round(CLAGE)'}\n",
    "\n",
    "## Update the columns. Requires a list of dictionaries in the set parameter\n",
    "rawTbl.update(set = [\n",
    "                updateReason,\n",
    "                updateJob,\n",
    "                updateCity,\n",
    "                roundCLAGE\n",
    "                ])"
   ]
  },
  {
   "cell_type": "code",
   "execution_count": null,
   "id": "5a401b5c-611d-4d83-8c2e-c55482e6f6db",
   "metadata": {},
   "outputs": [],
   "source": [
    "rawTbl.head()"
   ]
  },
  {
   "cell_type": "markdown",
   "id": "1e7ea55b-12e4-46f3-a16c-38cbea80b3ca",
   "metadata": {},
   "source": [
    "### b. Impute columns with missing values"
   ]
  },
  {
   "cell_type": "markdown",
   "id": "39aab4c9-de0b-4966-ac92-9cadfa5f7e14",
   "metadata": {},
   "source": [
    "Use the list of columns with missing values we created earlier."
   ]
  },
  {
   "cell_type": "code",
   "execution_count": null,
   "id": "e7db59af-2f9d-4de7-81f9-bda4a77d243a",
   "metadata": {},
   "outputs": [],
   "source": [
    "columnsWithMissingValues"
   ]
  },
  {
   "cell_type": "markdown",
   "id": "e4991a0d-c687-4724-a6b3-e0a572beb393",
   "metadata": {},
   "source": [
    "Use the [dataPreprocess.impute](https://go.documentation.sas.com/doc/en/pgmsascdc/default/casanpg/cas-datapreprocess-impute.htm) action to impute all interval missing values with the mean, all nominal values with the mode. Create a new CAS table named home_equity_impute in the Casuser caslib. Use the copyAllVars parameter to keep all original columns."
   ]
  },
  {
   "cell_type": "code",
   "execution_count": null,
   "id": "456a32d6-96c5-42fd-befc-9e0979641419",
   "metadata": {},
   "outputs": [],
   "source": [
    "rawTbl.impute(inputs = columnsWithMissingValues,                         ## Columns to impute\n",
    "              methodInterval = 'MEAN',                                   ## How to impute interval columns\n",
    "              methodNominal = 'MODE',                                    ## How to impute nominal columns\n",
    "              copyAllVars = True,                                        ## Keep all original columns\n",
    "              casOut = {'name':'home_equity_impute',                     ## Output CAS table information\n",
    "                        'caslib':'casuser',\n",
    "                        'label':'Imputed missing values raw data',\n",
    "                        'replace':True})"
   ]
  },
  {
   "cell_type": "markdown",
   "id": "e9e3489f-d20e-4c38-aa66-b744b53182e7",
   "metadata": {},
   "source": [
    "View available CAS tables. Notice that another table is now in-memory."
   ]
  },
  {
   "cell_type": "code",
   "execution_count": null,
   "id": "22bf0e2f-4e5f-4700-828e-4d1274ec3684",
   "metadata": {},
   "outputs": [],
   "source": [
    "conn.tableInfo(caslib = 'casuser')"
   ]
  },
  {
   "cell_type": "markdown",
   "id": "3a5a3133-db74-4740-8fcd-2985cad4e996",
   "metadata": {},
   "source": [
    "Reference the new imputed CAS table."
   ]
  },
  {
   "cell_type": "code",
   "execution_count": null,
   "id": "9fec7361-b1c0-42e6-be24-ff941e84dbfe",
   "metadata": {},
   "outputs": [],
   "source": [
    "imputeTbl = conn.CASTable('home_equity_impute', caslib = 'casuser')\n",
    "imputeTbl"
   ]
  },
  {
   "cell_type": "code",
   "execution_count": null,
   "id": "ca7f9a0c-ec38-4ecc-9db8-e932a4970f4d",
   "metadata": {},
   "outputs": [],
   "source": [
    "imputeTbl.head()"
   ]
  },
  {
   "cell_type": "markdown",
   "id": "261d922e-a921-4c2f-896c-0207361c3c96",
   "metadata": {},
   "source": [
    "Confirm the new columns do not contain missing values."
   ]
  },
  {
   "cell_type": "code",
   "execution_count": null,
   "id": "006e4506-f636-4bab-a169-bc38525a2934",
   "metadata": {},
   "outputs": [],
   "source": [
    "imputeTbl.distinct()"
   ]
  },
  {
   "cell_type": "markdown",
   "id": "c2bcb7b8-ffe6-4b12-b34c-c41d48d54f6b",
   "metadata": {},
   "source": [
    "### c. Add a SAS date format to the APPDATE column"
   ]
  },
  {
   "cell_type": "markdown",
   "id": "bff37689-ebbe-478b-95f6-ec153a24177a",
   "metadata": {},
   "source": [
    "The APPDATE column is a SAS date value that specifies the date. SAS dates are stored as the number of days after January 1, 1960."
   ]
  },
  {
   "cell_type": "code",
   "execution_count": null,
   "id": "028bbe2e-ec69-444d-b661-8ab5d5a5cf41",
   "metadata": {},
   "outputs": [],
   "source": [
    "imputeTbl.head()"
   ]
  },
  {
   "cell_type": "markdown",
   "id": "7e7200ae-69d8-4ad6-b370-7207289feb15",
   "metadata": {},
   "source": [
    "You can use the [table.alterTable action](https://go.documentation.sas.com/doc/en/pgmsascdc/default/caspg/cas-table-altertable.htm) to rename tables, change labels and formats in columns and drop columns.\n",
    "\n",
    "Add a SAS date format to the APPDATE column to display the date."
   ]
  },
  {
   "cell_type": "code",
   "execution_count": null,
   "id": "d90f60ef-e2e8-4386-bd17-573f5918253e",
   "metadata": {},
   "outputs": [],
   "source": [
    "imputeTbl.alterTable(columns = [\n",
    "    {'name':'APPDATE', 'format':'mmddyy10'}\n",
    "])\n",
    "\n",
    "imputeTbl.head()"
   ]
  },
  {
   "cell_type": "markdown",
   "id": "559b1339-fa57-4176-99a3-76a2c3ac9a77",
   "metadata": {},
   "source": [
    "### d. Create new calculated columns"
   ]
  },
  {
   "cell_type": "markdown",
   "id": "05c82fd4-8afe-47e0-acef-8adf180d650e",
   "metadata": {},
   "source": [
    "Use the eval method to create new columns in the CAS table.\n",
    "\n",
    "**The eval method enables you to use [SAS functions](https://go.documentation.sas.com/doc/en/pgmsascdc/default/lefunctionsref/p1q8bq2v0o11n6n1gpij335fqpph.htm) and assignment statements to create columns.**"
   ]
  },
  {
   "cell_type": "code",
   "execution_count": null,
   "id": "6f24942f-a1c4-4445-89c6-5da05330e811",
   "metadata": {},
   "outputs": [],
   "source": [
    "imputeTbl.eval('YEAR = year(APPDATE)')\n",
    "\n",
    "imputeTbl.eval('QTR = qtr(APPDATE)')\n",
    "\n",
    "imputeTbl.eval('DATE_SINCE_LAST_APP = today() - APPDATE')"
   ]
  },
  {
   "cell_type": "markdown",
   "id": "3ee35f13-7f1f-4899-ab48-37786fcbf1f6",
   "metadata": {},
   "source": [
    "View the parameters of the CASTable object. Notice that the eval method added how to create the calculated columns.\n",
    "\n",
    "CASTable objects are lazily evaluated. The object knows how to create the new columns, but will not create them until an action or method is specified on the CASTable object."
   ]
  },
  {
   "cell_type": "code",
   "execution_count": null,
   "id": "1fb3c417-87c5-4125-9977-af8335e03a00",
   "metadata": {},
   "outputs": [],
   "source": [
    "imputeTbl.params"
   ]
  },
  {
   "cell_type": "code",
   "execution_count": null,
   "id": "0a301385-082a-4eb7-91e4-6dce4fb42976",
   "metadata": {},
   "outputs": [],
   "source": [
    "imputeTbl.head()"
   ]
  },
  {
   "cell_type": "markdown",
   "id": "f89a0373-cf47-4ba0-a7b3-8b200845541d",
   "metadata": {},
   "source": [
    "### e. Create the final CAS table\n",
    "\n",
    "Use the [table.copyTable action](https://go.documentation.sas.com/doc/en/pgmsascdc/default/caspg/cas-table-copytable.htm) to create a new final CAS table that contains the updated rows, imputed missing values and calculated columns. "
   ]
  },
  {
   "cell_type": "code",
   "execution_count": null,
   "id": "51f87c3d-eed0-4359-9078-e34dc95124fd",
   "metadata": {},
   "outputs": [],
   "source": [
    "imputeTbl.copyTable(casout = {'name':'home_equity_final', \n",
    "                              'caslib':'casuser',\n",
    "                              'label':'Final home equity table',\n",
    "                              'replace':True})\n",
    "\n",
    "conn.tableInfo(caslib = 'casuser')"
   ]
  },
  {
   "cell_type": "markdown",
   "id": "1fb6e4f0-ddd9-45cc-9d2e-5a3a9f650415",
   "metadata": {},
   "source": [
    "Reference the new final CAS table."
   ]
  },
  {
   "cell_type": "code",
   "execution_count": null,
   "id": "32be43f1-cfbd-4920-a1a0-bcc581c51945",
   "metadata": {},
   "outputs": [],
   "source": [
    "finalTbl = conn.CASTable('home_equity_final', caslib = 'casuser')\n",
    "finalTbl"
   ]
  },
  {
   "cell_type": "code",
   "execution_count": null,
   "id": "5dc35b7f-30ac-4906-8640-c4b27caedfe5",
   "metadata": {},
   "outputs": [],
   "source": [
    "finalTbl.head()"
   ]
  },
  {
   "cell_type": "markdown",
   "id": "8c4307db-5e9e-4874-83e0-51b129a6ce69",
   "metadata": {},
   "source": [
    "### f. Save CAS table to disk\n",
    "\n",
    "We will want to save the in-memory CAS table to disk to store a permanent copy of the table. You can save a CAS table in a variety of file formats using the [table.save action](https://go.documentation.sas.com/doc/en/pgmsascdc/default/caspg/cas-table-save.htm). You can save to file formats like sashdat, parquet, csv and more. You can also save a CAS table back to a database."
   ]
  },
  {
   "cell_type": "code",
   "execution_count": null,
   "id": "057f2ec6-49a2-43f0-8008-6cf980f8f9fe",
   "metadata": {},
   "outputs": [],
   "source": [
    "finalTbl.save(name = 'home_equity_final.sashdat', caslib = 'public', replace = True)"
   ]
  },
  {
   "cell_type": "code",
   "execution_count": null,
   "id": "b0499347-28df-449d-b818-b7283f691d7c",
   "metadata": {
    "tags": []
   },
   "outputs": [],
   "source": [
    "conn.fileInfo(caslib = 'public', path='home_%')"
   ]
  },
  {
   "cell_type": "code",
   "execution_count": null,
   "id": "04b86f63-891d-48ad-9eff-736a13d11c2c",
   "metadata": {},
   "outputs": [],
   "source": [
    "finalTbl.save(name = 'home_equity_final.parquet', caslib = 'public', replace = True)"
   ]
  },
  {
   "cell_type": "code",
   "execution_count": null,
   "id": "2ccfbc1e-5669-4e1f-9fcc-b42e4a7ff6d7",
   "metadata": {},
   "outputs": [],
   "source": [
    "finalTbl.save(name = 'home_equity_final.csv', caslib = 'public', replace = True)"
   ]
  },
  {
   "cell_type": "code",
   "execution_count": null,
   "id": "174078ea-4a98-4826-8b4f-ee2c83096166",
   "metadata": {},
   "outputs": [],
   "source": [
    "conn.fileInfo(caslib = 'public', path='home_%')"
   ]
  },
  {
   "cell_type": "markdown",
   "id": "d0975fe1-97f7-4fe2-9e7a-627f560b608b",
   "metadata": {},
   "source": [
    "## 5. Open the  **final cas table** in SAS Visual Analytics\n",
    "1. Log into SAS Viya\n",
    "2. Select show applications on the top left\n",
    "3. Select Explore & Visualize\n",
    "4. Select Start with Data. Navigate to the **Public** caslib and load then right click onthe **home_equity_final.parquet** file and load it into memory"
   ]
  },
  {
   "cell_type": "markdown",
   "id": "5478632d-0892-424e-b6af-85653b70c118",
   "metadata": {},
   "source": [
    "## 6. Final code for my data preparation pipeline\n",
    "Create a scheduled job for your data prepration pipeline within SAS Studio.\n",
    "\n",
    "1. Log into SAS Viya\n",
    "2. Select the applications menu, then **Develop Code and Flows**\n",
    "3. Use the [Hotwire your SWAT inside SAS Studio!](https://communities.sas.com/t5/SAS-Communities-Library/Hotwire-your-SWAT-inside-SAS-Studio/ta-p/835956) to use the SWAT package in SAS Studio to connect the SAS client to CAS.\n",
    "4. Create a Python program and save the .py file in SAS Studio.\n",
    "5. Select the More options (three ellipses at the top right corner of the program) and select Schedule as a job."
   ]
  },
  {
   "cell_type": "code",
   "execution_count": null,
   "id": "565d9918-8485-43fc-a093-51387a99db68",
   "metadata": {},
   "outputs": [],
   "source": [
    "##\n",
    "## Load the home_equity_raw.parquet file into memory\n",
    "##\n",
    "conn.loadTable(path = 'home_equity_raw.parquet', caslib = 'casuser',    ## File to load into memory. Similar to a pandas read_ method\n",
    "               casout = {                                               ## Output CAS in-memory table information\n",
    "                   'name':'home_equity_raw',\n",
    "                   'caslib':'casuser',\n",
    "                   'replace':True\n",
    "               })\n",
    "rawTbl = conn.CASTable('home_equity_raw', caslib = 'casuser')\n",
    "\n",
    "\n",
    "##\n",
    "## Find all columns with missing values\n",
    "##\n",
    "distinct_df = rawTbl.distinct()['Distinct']\n",
    "columnsWithMissingValues = (distinct_df\n",
    "                            .query('NMiss > 0')\n",
    "                            .loc[:,'Column']\n",
    "                            .to_list())\n",
    "\n",
    "\n",
    "##\n",
    "## Prepare the final data\n",
    "##\n",
    "\n",
    "## Standardize the character columns\n",
    "updateReason = {'var':'REASON', 'value':'upcase(REASON)'}\n",
    "updateJob = {'var':'JOB','value':'upcase(JOB)'}\n",
    "updateCity = {'var':'CITY', 'value':'propcase(CITY)'}\n",
    "roundCLAGE = {'var':'CLAGE', 'value': 'round(CLAGE)'}\n",
    "\n",
    "rawTbl.update(set = [\n",
    "    updateReason,\n",
    "    updateJob,\n",
    "    updateCity,\n",
    "    roundCLAGE\n",
    "])\n",
    "\n",
    "\n",
    "## Impute missing values \n",
    "rawTbl.impute(inputs = columnsWithMissingValues,\n",
    "              methodInterval = 'MEAN',\n",
    "              methodNominal = 'MODE',\n",
    "              copyAllVars = True,\n",
    "              casOut = {'name':'home_equity_impute', \n",
    "                        'caslib':'casuser',\n",
    "                        'label':'Imputed missing values raw data',\n",
    "                        'replace':True})\n",
    "imputeTbl = conn.CASTable('HOME_EQUITY_IMPUTE', caslib = 'casuser')\n",
    "\n",
    "\n",
    "## Add a date format\n",
    "imputeTbl.alterTable(columns = [\n",
    "    {'name':'APPDATE', 'format':'mmddyy10'}\n",
    "])\n",
    "\n",
    "\n",
    "## Create calculated columns\n",
    "imputeTbl.eval('YEAR = year(APPDATE)')\n",
    "imputeTbl.eval('QTR = qtr(APPDATE)')\n",
    "imputeTbl.eval('DATE_SINCE_LAST_APP = today() - APPDATE')\n",
    "\n",
    "\n",
    "## Create the new CAS table\n",
    "imputeTbl.copyTable(casout = {'name':'home_equity_final', \n",
    "                              'caslib':'casuser',\n",
    "                              'label':'Final home equity table',\n",
    "                              'replace':True})\n",
    "finalTbl = conn.CASTable('home_equity_final', caslib = 'casuser')\n",
    "\n",
    "\n",
    "##\n",
    "## Save the CAS table back to disk\n",
    "##\n",
    "finalTbl.save(name = 'home_equity_final.sashdat', caslib = 'public', replace = True)\n",
    "finalTbl.save(name = 'home_equity_final.parquet', caslib = 'public', replace = True)\n",
    "finalTbl.save(name = 'home_equity_final.csv', caslib = 'public', replace = True)"
   ]
  },
  {
   "cell_type": "markdown",
   "id": "afe137ef-660e-47c2-8253-933444034133",
   "metadata": {},
   "source": [
    "## 7. Terminate the CAS connection"
   ]
  },
  {
   "cell_type": "markdown",
   "id": "5a1e472a-bbd1-4a09-86e1-81e9b6a627e5",
   "metadata": {},
   "source": [
    "Uncomment the code below if you want to delete the data source files that were created in this workshop."
   ]
  },
  {
   "cell_type": "code",
   "execution_count": null,
   "id": "f9ca9b0c-b662-49a5-bdef-4399931a3bc0",
   "metadata": {},
   "outputs": [],
   "source": [
    "# deleteFiles = ['home_equity_final.csv','home_equity_final.sashdat','home_equity_final.parquet']\n",
    "\n",
    "# for file in deleteFiles:\n",
    "#     conn.deleteSource(source=file, caslib='public')"
   ]
  },
  {
   "cell_type": "code",
   "execution_count": null,
   "id": "e54e1779-8f24-4dcf-b015-de3dd6a0bc22",
   "metadata": {},
   "outputs": [],
   "source": [
    "conn.terminate()"
   ]
  },
  {
   "cell_type": "markdown",
   "id": "48f2e2c1-0dd3-4572-a841-21146bb4def1",
   "metadata": {
    "tags": []
   },
   "source": [
    "# Thank You for Attending!\n",
    "\n",
    "### Connect with me on LinkedIn for my latest blog posts and upcoming workshops!\n",
    "[Peter Styliadis](https://www.linkedin.com/in/peter-styliadis-712bb357/) Technical Training Consultant at SAS"
   ]
  },
  {
   "cell_type": "markdown",
   "id": "446bf021-2e3c-4148-8534-c63fdcec332e",
   "metadata": {},
   "source": [
    "# Additional Resources\n",
    "\n",
    "Blog Series \n",
    "- [Getting Started with Python Integration to SAS® Viya®](https://blogs.sas.com/content/sgf/2020/06/19/getting-started-with-python-integration-to-sas-viya-index/) \n",
    "- [Getting Started with Python Integration to SAS Viya for Predictive Modeling - Index](https://blogs.sas.com/content/sgf/2023/03/20/getting-started-with-python-integration-to-sas-viya-for-predictive-modeling-index/)\n",
    "- [CAS Action! - a series on fundamentals](https://blogs.sas.com/content/sgf/2021/08/06/cas-action-a-series-on-fundamentals/)\n",
    "\n",
    "SAS Documentation \n",
    "- [SAS® Cloud Analytic Services: Fundamentals](https://go.documentation.sas.com/doc/en/pgmsascdc/default/casfun/titlepage.htm)\n",
    "- [SWAT Package](https://sassoftware.github.io/python-swat/getting-started.html)\n",
    "- [CAS Actions](https://go.documentation.sas.com/doc/en/pgmsascdc/default/pgmsassyntaxwlcm/home.htm)\n",
    "\n",
    "SAS Courses \n",
    "- [SAS® Viya® and Python Integration Fundamentals](https://support.sas.com/edu/schedules.html?crs=PIVY&ctry=US) \n",
    "- [SAS® Viya® and Python Integration for Machine Learning](https://support.sas.com/edu/schedules.html?crs=POSI34&ctry=US)\n",
    "- [High-Performance Data Processing with CASL in SAS® Viya®](https://support.sas.com/edu/schedules.html?crs=CASL&ctry=US)\n",
    "\n",
    "Additional Resources\n",
    "- SAS Explore 2022 - [Using Python for Data Analytics in SAS Viya](https://www.youtube.com/watch?v=skd9-it5NPU)\n",
    "- Free Webinar - [Ask the Expert Webinar - How Do I Use Python in SAS® Viya®?](https://www.sas.com/en_us/webinars/use-python-in-sas-viya.html)\n",
    "- YouTube Tutorial - [SAS Tutorial | Python Integration with SAS Viya](https://www.youtube.com/watch?v=6cDU6JGEYSo)\n",
    "- SAS Viya - [Getting Started with the Python Interface of SAS Viya](https://video.sas.com/detail/video/5430217787001/getting-started-with-the-python-interface-of-sas-viya)\n",
    "- SAS Communities - [Loading Data from Python into CAS](https://communities.sas.com/t5/SAS-Communities-Library/Loading-Data-from-Python-into-CAS/ta-p/263567)\n",
    "- SAS Communities - [4 Approaches for Parallel Data Loading to CAS](https://communities.sas.com/t5/SAS-Communities-Library/4-Approaches-for-Parallel-Data-Loading-to-CAS/ta-p/370955)\n",
    "- SAS Paper - [Seriously Serial or Perfectly Parallel Data Transfer with SAS® Viya®](https://www.sas.com/content/dam/SAS/support/en/sas-global-forum-proceedings/2019/3479-2019.pdf)\n",
    "- SAS Communities - [Hotwire your SWAT inside SAS Studio!](https://communities.sas.com/t5/SAS-Communities-Library/Hotwire-your-SWAT-inside-SAS-Studio/ta-p/835956)"
   ]
  },
  {
   "cell_type": "markdown",
   "id": "103b4499-b31f-422f-97b9-549982ec5cbf",
   "metadata": {},
   "source": [
    " "
   ]
  }
 ],
 "metadata": {
  "kernelspec": {
   "display_name": "Python 3 (ipykernel)",
   "language": "python",
   "name": "python3"
  },
  "language_info": {
   "codemirror_mode": {
    "name": "ipython",
    "version": 3
   },
   "file_extension": ".py",
   "mimetype": "text/x-python",
   "name": "python",
   "nbconvert_exporter": "python",
   "pygments_lexer": "ipython3",
   "version": "3.8.16"
  }
 },
 "nbformat": 4,
 "nbformat_minor": 5
}
