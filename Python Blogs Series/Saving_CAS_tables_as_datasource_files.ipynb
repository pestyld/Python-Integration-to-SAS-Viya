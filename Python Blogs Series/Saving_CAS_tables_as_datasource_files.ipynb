{
 "cells": [
  {
   "cell_type": "markdown",
   "id": "cd696936-27b8-457a-a7bb-0892660787d7",
   "metadata": {},
   "source": [
    "# Saving CAS tables as data source files"
   ]
  },
  {
   "cell_type": "code",
   "execution_count": 3,
   "id": "d744c006-b1cd-401f-a462-241170437b8a",
   "metadata": {},
   "outputs": [],
   "source": [
    "## Packages\n",
    "import swat\n",
    "import pandas as pd\n",
    "from casConnect import connect_to_cas ## custom personal module\n",
    "\n",
    "##\n",
    "## Connect to CAS\n",
    "##\n",
    "\n",
    "## General connection syntax\n",
    "# conn = swat.CAS(host, port, username, password)\n",
    "\n",
    "## Viya for Learners 3.5 connection\n",
    "# hostValue = os.environ.get('CASHOST')\n",
    "# portValue = os.environ.get('CASPORT')\n",
    "# passwordToken=os.environ.get('SAS_VIYA_TOKEN')\n",
    "# conn = swat.CAS(hostname=hostValue, port=portValue, password=passwordToken)\n",
    "\n",
    "## Personal connection\n",
    "conn = connect_to_cas()"
   ]
  },
  {
   "cell_type": "markdown",
   "id": "c8f39d84-716d-4507-91db-29edd6f70112",
   "metadata": {},
   "source": [
    "## Load the demonstration data into memory\n",
    "Load the xxx"
   ]
  },
  {
   "cell_type": "code",
   "execution_count": 7,
   "id": "d84763e1-898a-41a9-80cc-da8866e14bb9",
   "metadata": {},
   "outputs": [
    {
     "name": "stdout",
     "output_type": "stream",
     "text": [
      "NOTE: Cloud Analytic Services made the uploaded file available as table CARS_CAS_TABLE in caslib CASUSER(Peter.Styliadis@sas.com).\n",
      "NOTE: The table CARS_CAS_TABLE has been created in caslib CASUSER(Peter.Styliadis@sas.com) from binary data uploaded to Cloud Analytic Services.\n"
     ]
    }
   ],
   "source": [
    "def prep_data():\n",
    "    ## Load the data into memory in CAS\n",
    "    conn.loadTable(path='WARRANTY_CLAIMS_0117.sashdat', caslib='samples',\n",
    "                   casout={'name':'warranty_claims', \n",
    "                           'caslib':'casuser', \n",
    "                           'replace':True})\n",
    "    \n",
    "    ## Reference the CAS table in an object\n",
    "    castbl = conn.CASTable('warranty_claims', caslib = 'casuser')\n",
    "    \n",
    "    ## Store the column names and labels in a dataframe\n",
    "    df_col_names = castbl.columnInfo()['ColumnInfo'].loc[:,['Column','Label']]\n",
    "\n",
    "    ## Create a list of dictionaries of how to rename each column using the column labels\n",
    "    renameColumns = []\n",
    "    for row in df_col_names.iterrows():\n",
    "        colName = row[1].values[0]\n",
    "        labelName = row[1].values[1].replace(' ','_')\n",
    "        renameColumns.append(dict(name=colName, rename=labelName))\n",
    "\n",
    "    ## List of columns to keep in the CAS table\n",
    "    keepColumns = {'Campaign_Type', 'Platform','Trim_Level','Make','Model_Year','Engine_Model',\n",
    "                   'Vehicle_Assembly_Plant','Claim_Repair_Start_Date', 'Claim_Repair_End_Date','Gross_Claim_Amount'}\n",
    "\n",
    "    ## Rename and drop columns to make the table easier to use\n",
    "    castbl.alterTable(columns = renameColumns, keep = keepColumns)\n",
    "    \n",
    "    return castbl"
   ]
  },
  {
   "cell_type": "code",
   "execution_count": null,
   "id": "8954a96a-2ec2-4ed0-8ecd-8a1843f0bae3",
   "metadata": {},
   "outputs": [],
   "source": [
    "castbl = prep_data()\n",
    "type(tbl)"
   ]
  },
  {
   "cell_type": "code",
   "execution_count": null,
   "id": "11fec6a9-9aa3-4c69-95cf-b7f3a987aae5",
   "metadata": {},
   "outputs": [],
   "source": [
    "conn.tableInfo(caslib = 'casuser')"
   ]
  },
  {
   "cell_type": "code",
   "execution_count": null,
   "id": "c546a8f1-0e6a-443e-a731-df1f4659e417",
   "metadata": {},
   "outputs": [],
   "source": []
  },
  {
   "cell_type": "code",
   "execution_count": null,
   "id": "ee637d9c-eadd-47b8-a542-521cbdd8f19d",
   "metadata": {},
   "outputs": [],
   "source": []
  },
  {
   "cell_type": "code",
   "execution_count": null,
   "id": "7a13f67d-2af6-4b1e-b093-590ca3ba00ed",
   "metadata": {},
   "outputs": [],
   "source": []
  },
  {
   "cell_type": "code",
   "execution_count": null,
   "id": "4552c9a5-2b3a-4f63-b15b-ea98f635f768",
   "metadata": {},
   "outputs": [],
   "source": []
  },
  {
   "cell_type": "markdown",
   "id": "a79c86fd-3818-454d-8518-911dcb47b50b",
   "metadata": {},
   "source": [
    "## Terminate the CAS connection"
   ]
  },
  {
   "cell_type": "code",
   "execution_count": 37,
   "id": "3f6fb6b4-68d9-415b-8ef7-c65ed08882f5",
   "metadata": {},
   "outputs": [],
   "source": [
    "conn.terminate()"
   ]
  },
  {
   "cell_type": "markdown",
   "id": "d34d7c0d-0a11-4503-ae9c-62f6d9e7755f",
   "metadata": {},
   "source": [
    " "
   ]
  }
 ],
 "metadata": {
  "kernelspec": {
   "display_name": "Python 3 (ipykernel)",
   "language": "python",
   "name": "python3"
  },
  "language_info": {
   "codemirror_mode": {
    "name": "ipython",
    "version": 3
   },
   "file_extension": ".py",
   "mimetype": "text/x-python",
   "name": "python",
   "nbconvert_exporter": "python",
   "pygments_lexer": "ipython3",
   "version": "3.8.16"
  }
 },
 "nbformat": 4,
 "nbformat_minor": 5
}
