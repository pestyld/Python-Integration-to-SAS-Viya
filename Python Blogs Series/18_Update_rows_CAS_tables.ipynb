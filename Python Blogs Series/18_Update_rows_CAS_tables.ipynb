{
 "cells": [
  {
   "cell_type": "code",
   "execution_count": null,
   "metadata": {},
   "outputs": [],
   "source": [
    "## Packages\n",
    "import swat\n",
    "import os\n",
    "import pandas as pd\n",
    "pd.set_option('display.max_columns', 50)\n",
    "import numpy as np\n",
    "\n",
    "\n",
    "## custom personal module to connect to my CAS environment\n",
    "try:\n",
    "    from casConnect import connect_to_cas \n",
    "except:\n",
    "    print('CasConnect package not available')\n",
    "\n",
    "    \n",
    "\n",
    "######################\n",
    "## Connect to CAS   ##\n",
    "######################\n",
    "\n",
    "## My personal connection to CAS. You will need to modify your connection object\n",
    "try:\n",
    "    conn = connect_to_cas()\n",
    "except:\n",
    "    print('My personal connection to CAS. You will need to modify yours using your connection information.')\n",
    "\n",
    "\n",
    "## General connection syntax\n",
    "# conn = swat.CAS(host, port, username, password)\n",
    "\n",
    "## Viya for Learners 3.5 connection\n",
    "hostValue = os.environ.get('CASHOST')\n",
    "portValue = os.environ.get('CASPORT')\n",
    "passwordToken=os.environ.get('SAS_VIYA_TOKEN')\n",
    "conn = swat.CAS(hostname=hostValue, port=portValue, password=passwordToken)"
   ]
  },
  {
   "cell_type": "markdown",
   "metadata": {},
   "source": [
    "## Create demo CAS table"
   ]
  },
  {
   "cell_type": "code",
   "execution_count": 47,
   "metadata": {},
   "outputs": [
    {
     "name": "stdout",
     "output_type": "stream",
     "text": [
      "NOTE: Cloud Analytic Services made the file RAND_RETAILDEMO.sashdat available as table RAND_RETAILDEMO in caslib CASUSER(Peter.Styliadis@sas.com).\n"
     ]
    },
    {
     "data": {
      "text/plain": [
       "(930046, 8)"
      ]
     },
     "metadata": {},
     "output_type": "display_data"
    },
    {
     "data": {
      "text/html": [
       "<div class=\"cas-results-key\"><b>&#167; TableDetails</b></div>\n",
       "<div class=\"cas-results-body\">\n",
       "<div>\n",
       "<style scoped>\n",
       "    .dataframe tbody tr th:only-of-type {\n",
       "        vertical-align: middle;\n",
       "    }\n",
       "\n",
       "    .dataframe tbody tr th {\n",
       "        vertical-align: top;\n",
       "    }\n",
       "\n",
       "    .dataframe thead th {\n",
       "        text-align: right;\n",
       "    }\n",
       "</style>\n",
       "<table border=\"1\" class=\"dataframe\">\n",
       "  <thead>\n",
       "    <tr style=\"text-align: right;\">\n",
       "      <th title=\"\"></th>\n",
       "      <th title=\"Node\">Node</th>\n",
       "      <th title=\"Blocks\">Blocks</th>\n",
       "      <th title=\"Active\">Active</th>\n",
       "      <th title=\"Rows\">Rows</th>\n",
       "      <th title=\"IndexSize\">IndexSize</th>\n",
       "      <th title=\"DataSize\">DataSize</th>\n",
       "      <th title=\"VardataSize\">VardataSize</th>\n",
       "      <th title=\"CompressedSize\">CompressedSize</th>\n",
       "      <th title=\"CompressionRatio\">CompressionRatio</th>\n",
       "      <th title=\"Mapped\">Mapped</th>\n",
       "      <th title=\"MappedMemory\">MappedMemory</th>\n",
       "      <th title=\"Unmapped\">Unmapped</th>\n",
       "      <th title=\"UnmappedMemory\">UnmappedMemory</th>\n",
       "      <th title=\"Allocated\">Allocated</th>\n",
       "      <th title=\"AllocatedMemory\">AllocatedMemory</th>\n",
       "      <th title=\"DeletedRows\">DeletedRows</th>\n",
       "    </tr>\n",
       "  </thead>\n",
       "  <tbody>\n",
       "    <tr>\n",
       "      <th>0</th>\n",
       "      <td>ALL</td>\n",
       "      <td>383</td>\n",
       "      <td>383</td>\n",
       "      <td>930046</td>\n",
       "      <td>0</td>\n",
       "      <td>372018400</td>\n",
       "      <td>0</td>\n",
       "      <td>0</td>\n",
       "      <td>0</td>\n",
       "      <td>351</td>\n",
       "      <td>364683456</td>\n",
       "      <td>0</td>\n",
       "      <td>0</td>\n",
       "      <td>32</td>\n",
       "      <td>7375600</td>\n",
       "      <td>0</td>\n",
       "    </tr>\n",
       "  </tbody>\n",
       "</table>\n",
       "</div>\n",
       "</div>\n",
       "<div class=\"cas-output-area\"></div>\n",
       "<p class=\"cas-results-performance\"><small><span class=\"cas-elapsed\">elapsed 0.000524s</span> &#183; <span class=\"cas-user\">user 0.000504s</span> &#183; <span class=\"cas-memory\">mem 0.677MB</span></small></p>"
      ],
      "text/plain": [
       "[TableDetails]\n",
       "\n",
       "   Node  Blocks  Active    Rows  IndexSize   DataSize  VardataSize  \\\n",
       " 0  ALL     383     383  930046          0  372018400            0   \n",
       " \n",
       "    CompressedSize  CompressionRatio  Mapped  MappedMemory  Unmapped  \\\n",
       " 0               0                 0     351     364683456         0   \n",
       " \n",
       "    UnmappedMemory  Allocated  AllocatedMemory  DeletedRows  \n",
       " 0               0         32          7375600            0  \n",
       "\n",
       "+ Elapsed: 0.000524s, user: 0.000504s, mem: 0.677mb"
      ]
     },
     "metadata": {},
     "output_type": "display_data"
    },
    {
     "data": {
      "text/html": [
       "<div class=\"cas-results-key\"><b>&#167; TableInfo</b></div>\n",
       "<div class=\"cas-results-body\">\n",
       "<div>\n",
       "<style scoped>\n",
       "    .dataframe tbody tr th:only-of-type {\n",
       "        vertical-align: middle;\n",
       "    }\n",
       "\n",
       "    .dataframe tbody tr th {\n",
       "        vertical-align: top;\n",
       "    }\n",
       "\n",
       "    .dataframe thead th {\n",
       "        text-align: right;\n",
       "    }\n",
       "</style>\n",
       "<table border=\"1\" class=\"dataframe\">\n",
       "  <thead>\n",
       "    <tr style=\"text-align: right;\">\n",
       "      <th title=\"\"></th>\n",
       "      <th title=\"Name\">Name</th>\n",
       "      <th title=\"Rows\">Rows</th>\n",
       "      <th title=\"Columns\">Columns</th>\n",
       "      <th title=\"Indexed Columns\">IndexedColumns</th>\n",
       "      <th title=\"Encoding\">Encoding</th>\n",
       "      <th title=\"Created\">CreateTimeFormatted</th>\n",
       "      <th title=\"Last Modified\">ModTimeFormatted</th>\n",
       "      <th title=\"Last Accessed\">AccessTimeFormatted</th>\n",
       "      <th title=\"Character Set\">JavaCharSet</th>\n",
       "      <th title=\"CreateTime\">CreateTime</th>\n",
       "      <th title=\"ModTime\">ModTime</th>\n",
       "      <th title=\"AccessTime\">AccessTime</th>\n",
       "      <th title=\"Global\">Global</th>\n",
       "      <th title=\"Repeated\">Repeated</th>\n",
       "      <th title=\"View\">View</th>\n",
       "      <th title=\"MultiPart\">MultiPart</th>\n",
       "      <th title=\"Loaded Source\">SourceName</th>\n",
       "      <th title=\"Source Caslib\">SourceCaslib</th>\n",
       "      <th title=\"Compressed\">Compressed</th>\n",
       "      <th title=\"Table Creator\">Creator</th>\n",
       "      <th title=\"Last Table Modifier\">Modifier</th>\n",
       "      <th title=\"Source Modified\">SourceModTimeFormatted</th>\n",
       "      <th title=\"SourceModTime\">SourceModTime</th>\n",
       "    </tr>\n",
       "  </thead>\n",
       "  <tbody>\n",
       "    <tr>\n",
       "      <th>0</th>\n",
       "      <td>RAND_RETAILDEMO</td>\n",
       "      <td>930046</td>\n",
       "      <td>8</td>\n",
       "      <td>0</td>\n",
       "      <td>utf-8</td>\n",
       "      <td>2023-03-31T10:05:33-04:00</td>\n",
       "      <td>2023-03-31T10:05:33-04:00</td>\n",
       "      <td>2023-03-31T10:05:33-04:00</td>\n",
       "      <td>UTF8</td>\n",
       "      <td>1.995891e+09</td>\n",
       "      <td>1.995891e+09</td>\n",
       "      <td>1.995891e+09</td>\n",
       "      <td>0</td>\n",
       "      <td>0</td>\n",
       "      <td>0</td>\n",
       "      <td>0</td>\n",
       "      <td></td>\n",
       "      <td></td>\n",
       "      <td>0</td>\n",
       "      <td>Peter.Styliadis@sas.com</td>\n",
       "      <td></td>\n",
       "      <td></td>\n",
       "      <td>NaN</td>\n",
       "    </tr>\n",
       "  </tbody>\n",
       "</table>\n",
       "</div>\n",
       "</div>\n",
       "<div class=\"cas-output-area\"></div>\n",
       "<p class=\"cas-results-performance\"><small><span class=\"cas-elapsed\">elapsed 0.000524s</span> &#183; <span class=\"cas-user\">user 0.000508s</span> &#183; <span class=\"cas-memory\">mem 0.682MB</span></small></p>"
      ],
      "text/plain": [
       "[TableInfo]\n",
       "\n",
       "               Name    Rows  Columns  IndexedColumns Encoding  \\\n",
       " 0  RAND_RETAILDEMO  930046        8               0    utf-8   \n",
       " \n",
       "          CreateTimeFormatted           ModTimeFormatted  \\\n",
       " 0  2023-03-31T10:05:33-04:00  2023-03-31T10:05:33-04:00   \n",
       " \n",
       "          AccessTimeFormatted JavaCharSet    CreateTime       ModTime  \\\n",
       " 0  2023-03-31T10:05:33-04:00        UTF8  1.995891e+09  1.995891e+09   \n",
       " \n",
       "      AccessTime  Global  Repeated  View  MultiPart SourceName SourceCaslib  \\\n",
       " 0  1.995891e+09       0         0     0          0                           \n",
       " \n",
       "    Compressed                  Creator Modifier SourceModTimeFormatted  \\\n",
       " 0           0  Peter.Styliadis@sas.com                                   \n",
       " \n",
       "    SourceModTime  \n",
       " 0            NaN  \n",
       "\n",
       "+ Elapsed: 0.000524s, user: 0.000508s, mem: 0.682mb"
      ]
     },
     "metadata": {},
     "output_type": "display_data"
    },
    {
     "data": {
      "text/html": [
       "<div>\n",
       "<style scoped>\n",
       "    .dataframe tbody tr th:only-of-type {\n",
       "        vertical-align: middle;\n",
       "    }\n",
       "\n",
       "    .dataframe tbody tr th {\n",
       "        vertical-align: top;\n",
       "    }\n",
       "\n",
       "    .dataframe thead th {\n",
       "        text-align: right;\n",
       "    }\n",
       "</style>\n",
       "<table border=\"1\" class=\"dataframe\"><caption>Selected Rows from Table RAND_RETAILDEMO</caption>\n",
       "  <thead>\n",
       "    <tr style=\"text-align: right;\">\n",
       "      <th title=\"\"></th>\n",
       "      <th title=\"CustID\">custid</th>\n",
       "      <th title=\"12 week RFM Bucket\">bucket</th>\n",
       "      <th title=\"Customer Age\">age</th>\n",
       "      <th title=\"age_dup\">age_dup</th>\n",
       "      <th title=\"Loyalty Card\">loyalty_card</th>\n",
       "      <th title=\"Brand Name\">brand_name</th>\n",
       "      <th title=\"ChannelType\">channeltype</th>\n",
       "      <th title=\"Class\">class</th>\n",
       "    </tr>\n",
       "  </thead>\n",
       "  <tbody>\n",
       "    <tr>\n",
       "      <th>0</th>\n",
       "      <td>32368571.0</td>\n",
       "      <td>2.0</td>\n",
       "      <td>68.0</td>\n",
       "      <td>68.0</td>\n",
       "      <td>1.0</td>\n",
       "      <td>Oak</td>\n",
       "      <td>Internet</td>\n",
       "      <td>women_Juniors</td>\n",
       "    </tr>\n",
       "    <tr>\n",
       "      <th>1</th>\n",
       "      <td>32368571.0</td>\n",
       "      <td>2.0</td>\n",
       "      <td>68.0</td>\n",
       "      <td>68.0</td>\n",
       "      <td>1.0</td>\n",
       "      <td>Oak</td>\n",
       "      <td>Internet</td>\n",
       "      <td>women_Pants</td>\n",
       "    </tr>\n",
       "    <tr>\n",
       "      <th>2</th>\n",
       "      <td>32368625.0</td>\n",
       "      <td>1.0</td>\n",
       "      <td>NaN</td>\n",
       "      <td>NaN</td>\n",
       "      <td>0.0</td>\n",
       "      <td>Oak</td>\n",
       "      <td>Internet</td>\n",
       "      <td>women_socks</td>\n",
       "    </tr>\n",
       "    <tr>\n",
       "      <th>3</th>\n",
       "      <td>32368682.0</td>\n",
       "      <td>2.0</td>\n",
       "      <td>NaN</td>\n",
       "      <td>NaN</td>\n",
       "      <td>0.0</td>\n",
       "      <td>Oak</td>\n",
       "      <td>Internet</td>\n",
       "      <td>women_handbags</td>\n",
       "    </tr>\n",
       "    <tr>\n",
       "      <th>4</th>\n",
       "      <td>32368682.0</td>\n",
       "      <td>2.0</td>\n",
       "      <td>NaN</td>\n",
       "      <td>NaN</td>\n",
       "      <td>0.0</td>\n",
       "      <td>Oak</td>\n",
       "      <td>Internet</td>\n",
       "      <td>women_jewelry</td>\n",
       "    </tr>\n",
       "  </tbody>\n",
       "</table>\n",
       "</div>"
      ],
      "text/plain": [
       "Selected Rows from Table RAND_RETAILDEMO\n",
       "\n",
       "       custid  bucket   age  age_dup  loyalty_card brand_name channeltype  \\\n",
       "0  32368571.0     2.0  68.0     68.0           1.0        Oak    Internet   \n",
       "1  32368571.0     2.0  68.0     68.0           1.0        Oak    Internet   \n",
       "2  32368625.0     1.0   NaN      NaN           0.0        Oak    Internet   \n",
       "3  32368682.0     2.0   NaN      NaN           0.0        Oak    Internet   \n",
       "4  32368682.0     2.0   NaN      NaN           0.0        Oak    Internet   \n",
       "\n",
       "            class  \n",
       "0   women_Juniors  \n",
       "1     women_Pants  \n",
       "2     women_socks  \n",
       "3  women_handbags  \n",
       "4   women_jewelry  "
      ]
     },
     "metadata": {},
     "output_type": "display_data"
    }
   ],
   "source": [
    "## Load the RAND_RETAILDEMO.sashdat file into memory on the CAS server\n",
    "conn.loadTable(path = 'RAND_RETAILDEMO.sashdat', caslib = 'samples',\n",
    "               casout = {\n",
    "                      'name' : 'rand_retaildemo',\n",
    "                      'caslib' : 'casuser',\n",
    "                      'replace' : True\n",
    "               })\n",
    "\n",
    "## Reference the CAS table\n",
    "retailTbl = conn.CASTable('rand_retaildemo', caslib = 'casuser')\n",
    "\n",
    "## Create a copy of the table with a new column\n",
    "(retailTbl\n",
    " .eval(\"age_dup = age\", inplace = False)          ## create a duplicate of the age column\n",
    " .partition(casout = {'name':'rand_retaildemo',\n",
    "                      'caslib':'casuser',\n",
    "                      'replace':True})\n",
    ")\n",
    "\n",
    "\n",
    "## Create a list of columns to rename \n",
    "newColNames = [{'name':col,'rename':col.lower()} for col in retailTbl.columns.to_list()]\n",
    "\n",
    "## List of columns to keep\n",
    "keepColumns = ['custid','bucket','age','age_dup','loyalty_card','brand_name','channeltype','class']\n",
    "\n",
    "## Rename and keep columns\n",
    "retailTbl.alterTable(columns = newColNames, \n",
    "                     keep = keepColumns)\n",
    "\n",
    "## Preview the new CAS table\n",
    "display(retailTbl.shape, \n",
    "        retailTbl.tableDetails(),\n",
    "        retailTbl.tableInfo(caslib = 'casuser'),\n",
    "        retailTbl.head())"
   ]
  },
  {
   "cell_type": "markdown",
   "metadata": {},
   "source": [
    "## Simple column updates in place"
   ]
  },
  {
   "cell_type": "code",
   "execution_count": 48,
   "metadata": {},
   "outputs": [
    {
     "data": {
      "text/html": [
       "<div class=\"cas-results-key\"><b>&#167; tableName</b></div>\n",
       "<div class=\"cas-results-body\">\n",
       "<div>RAND_RETAILDEMO</div>\n",
       "</div>\n",
       "<div class=\"cas-results-key\"><hr/><b>&#167; rowsUpdated</b></div>\n",
       "<div class=\"cas-results-body\">\n",
       "<div>930046</div>\n",
       "</div>\n",
       "<div class=\"cas-output-area\"></div>\n",
       "<p class=\"cas-results-performance\"><small><span class=\"cas-elapsed\">elapsed 0.16s</span> &#183; <span class=\"cas-user\">user 1.13s</span> &#183; <span class=\"cas-sys\">sys 0.224s</span> &#183; <span class=\"cas-memory\">mem 351MB</span></small></p>"
      ],
      "text/plain": [
       "[tableName]\n",
       "\n",
       " 'RAND_RETAILDEMO'\n",
       "\n",
       "[rowsUpdated]\n",
       "\n",
       " 930046\n",
       "\n",
       "+ Elapsed: 0.16s, user: 1.13s, sys: 0.224s, mem: 351mb"
      ]
     },
     "execution_count": 48,
     "metadata": {},
     "output_type": "execute_result"
    }
   ],
   "source": [
    "retailTbl.update(set = [\n",
    "    {'var':'brand_name', 'value':'upcase(brand_name)'},\n",
    "    {'var':'channeltype', 'value':'lowcase(channeltype)'},\n",
    "    {'var':'class', 'value':'propcase(class)'}\n",
    "])"
   ]
  },
  {
   "cell_type": "code",
   "execution_count": 50,
   "metadata": {},
   "outputs": [
    {
     "data": {
      "text/html": [
       "<div>\n",
       "<style scoped>\n",
       "    .dataframe tbody tr th:only-of-type {\n",
       "        vertical-align: middle;\n",
       "    }\n",
       "\n",
       "    .dataframe tbody tr th {\n",
       "        vertical-align: top;\n",
       "    }\n",
       "\n",
       "    .dataframe thead th {\n",
       "        text-align: right;\n",
       "    }\n",
       "</style>\n",
       "<table border=\"1\" class=\"dataframe\"><caption>Selected Rows from Table RAND_RETAILDEMO</caption>\n",
       "  <thead>\n",
       "    <tr style=\"text-align: right;\">\n",
       "      <th title=\"\"></th>\n",
       "      <th title=\"CustID\">custid</th>\n",
       "      <th title=\"12 week RFM Bucket\">bucket</th>\n",
       "      <th title=\"Customer Age\">age</th>\n",
       "      <th title=\"age_dup\">age_dup</th>\n",
       "      <th title=\"Loyalty Card\">loyalty_card</th>\n",
       "      <th title=\"Brand Name\">brand_name</th>\n",
       "      <th title=\"ChannelType\">channeltype</th>\n",
       "      <th title=\"Class\">class</th>\n",
       "    </tr>\n",
       "  </thead>\n",
       "  <tbody>\n",
       "    <tr>\n",
       "      <th>0</th>\n",
       "      <td>32368571.0</td>\n",
       "      <td>2.0</td>\n",
       "      <td>68.0</td>\n",
       "      <td>68.0</td>\n",
       "      <td>1.0</td>\n",
       "      <td>OAK</td>\n",
       "      <td>internet</td>\n",
       "      <td>Women_juniors</td>\n",
       "    </tr>\n",
       "    <tr>\n",
       "      <th>1</th>\n",
       "      <td>32368571.0</td>\n",
       "      <td>2.0</td>\n",
       "      <td>68.0</td>\n",
       "      <td>68.0</td>\n",
       "      <td>1.0</td>\n",
       "      <td>OAK</td>\n",
       "      <td>internet</td>\n",
       "      <td>Women_pants</td>\n",
       "    </tr>\n",
       "    <tr>\n",
       "      <th>2</th>\n",
       "      <td>32368625.0</td>\n",
       "      <td>1.0</td>\n",
       "      <td>NaN</td>\n",
       "      <td>NaN</td>\n",
       "      <td>0.0</td>\n",
       "      <td>OAK</td>\n",
       "      <td>internet</td>\n",
       "      <td>Women_socks</td>\n",
       "    </tr>\n",
       "    <tr>\n",
       "      <th>3</th>\n",
       "      <td>32368682.0</td>\n",
       "      <td>2.0</td>\n",
       "      <td>NaN</td>\n",
       "      <td>NaN</td>\n",
       "      <td>0.0</td>\n",
       "      <td>OAK</td>\n",
       "      <td>internet</td>\n",
       "      <td>Women_handbags</td>\n",
       "    </tr>\n",
       "    <tr>\n",
       "      <th>4</th>\n",
       "      <td>32368682.0</td>\n",
       "      <td>2.0</td>\n",
       "      <td>NaN</td>\n",
       "      <td>NaN</td>\n",
       "      <td>0.0</td>\n",
       "      <td>OAK</td>\n",
       "      <td>internet</td>\n",
       "      <td>Women_jewelry</td>\n",
       "    </tr>\n",
       "  </tbody>\n",
       "</table>\n",
       "</div>"
      ],
      "text/plain": [
       "Selected Rows from Table RAND_RETAILDEMO\n",
       "\n",
       "       custid  bucket   age  age_dup  loyalty_card brand_name channeltype  \\\n",
       "0  32368571.0     2.0  68.0     68.0           1.0        OAK    internet   \n",
       "1  32368571.0     2.0  68.0     68.0           1.0        OAK    internet   \n",
       "2  32368625.0     1.0   NaN      NaN           0.0        OAK    internet   \n",
       "3  32368682.0     2.0   NaN      NaN           0.0        OAK    internet   \n",
       "4  32368682.0     2.0   NaN      NaN           0.0        OAK    internet   \n",
       "\n",
       "            class  \n",
       "0   Women_juniors  \n",
       "1     Women_pants  \n",
       "2     Women_socks  \n",
       "3  Women_handbags  \n",
       "4   Women_jewelry  "
      ]
     },
     "execution_count": 50,
     "metadata": {},
     "output_type": "execute_result"
    }
   ],
   "source": [
    "retailTbl.head()"
   ]
  },
  {
   "cell_type": "markdown",
   "metadata": {},
   "source": [
    "## Update column based on a conditions"
   ]
  },
  {
   "cell_type": "code",
   "execution_count": 51,
   "metadata": {},
   "outputs": [
    {
     "data": {
      "text/html": [
       "<div class=\"cas-results-key\"><b>&#167; Distinct</b></div>\n",
       "<div class=\"cas-results-body\">\n",
       "<div>\n",
       "<style scoped>\n",
       "    .dataframe tbody tr th:only-of-type {\n",
       "        vertical-align: middle;\n",
       "    }\n",
       "\n",
       "    .dataframe tbody tr th {\n",
       "        vertical-align: top;\n",
       "    }\n",
       "\n",
       "    .dataframe thead th {\n",
       "        text-align: right;\n",
       "    }\n",
       "</style>\n",
       "<table border=\"1\" class=\"dataframe\"><caption>Distinct Counts for RAND_RETAILDEMO</caption>\n",
       "  <thead>\n",
       "    <tr style=\"text-align: right;\">\n",
       "      <th title=\"\"></th>\n",
       "      <th title=\"Analysis Variable\">Column</th>\n",
       "      <th title=\"Number of Distinct Values\">NDistinct</th>\n",
       "      <th title=\"Number of Missing Values\">NMiss</th>\n",
       "      <th title=\"Truncated\">Trunc</th>\n",
       "    </tr>\n",
       "  </thead>\n",
       "  <tbody>\n",
       "    <tr>\n",
       "      <th>0</th>\n",
       "      <td>age</td>\n",
       "      <td>124.0</td>\n",
       "      <td>673447.0</td>\n",
       "      <td>0.0</td>\n",
       "    </tr>\n",
       "    <tr>\n",
       "      <th>1</th>\n",
       "      <td>age_dup</td>\n",
       "      <td>124.0</td>\n",
       "      <td>673447.0</td>\n",
       "      <td>0.0</td>\n",
       "    </tr>\n",
       "  </tbody>\n",
       "</table>\n",
       "</div>\n",
       "</div>\n",
       "<div class=\"cas-output-area\"></div>\n",
       "<p class=\"cas-results-performance\"><small><span class=\"cas-elapsed\">elapsed 0.0461s</span> &#183; <span class=\"cas-user\">user 0.271s</span> &#183; <span class=\"cas-sys\">sys 0.00378s</span> &#183; <span class=\"cas-memory\">mem 4.9MB</span></small></p>"
      ],
      "text/plain": [
       "[Distinct]\n",
       "\n",
       " Distinct Counts for RAND_RETAILDEMO\n",
       " \n",
       "     Column  NDistinct     NMiss  Trunc\n",
       " 0      age      124.0  673447.0    0.0\n",
       " 1  age_dup      124.0  673447.0    0.0\n",
       "\n",
       "+ Elapsed: 0.0461s, user: 0.271s, sys: 0.00378s, mem: 4.9mb"
      ]
     },
     "execution_count": 51,
     "metadata": {},
     "output_type": "execute_result"
    }
   ],
   "source": [
    "retailTbl.distinct(inputs = ['age', 'age_dup'])"
   ]
  },
  {
   "cell_type": "markdown",
   "metadata": {},
   "source": [
    "Get the mean of the age column"
   ]
  },
  {
   "cell_type": "code",
   "execution_count": 52,
   "metadata": {},
   "outputs": [
    {
     "data": {
      "text/plain": [
       "43.577"
      ]
     },
     "execution_count": 52,
     "metadata": {},
     "output_type": "execute_result"
    }
   ],
   "source": [
    "meanAge = retailTbl.age.mean().round(3)\n",
    "meanAge"
   ]
  },
  {
   "cell_type": "code",
   "execution_count": 53,
   "metadata": {},
   "outputs": [
    {
     "data": {
      "text/html": [
       "<div class=\"cas-results-key\"><b>&#167; tableName</b></div>\n",
       "<div class=\"cas-results-body\">\n",
       "<div>RAND_RETAILDEMO</div>\n",
       "</div>\n",
       "<div class=\"cas-results-key\"><hr/><b>&#167; rowsUpdated</b></div>\n",
       "<div class=\"cas-results-body\">\n",
       "<div>673447</div>\n",
       "</div>\n",
       "<div class=\"cas-output-area\"></div>\n",
       "<p class=\"cas-results-performance\"><small><span class=\"cas-elapsed\">elapsed 0.091s</span> &#183; <span class=\"cas-user\">user 0.495s</span> &#183; <span class=\"cas-sys\">sys 0.176s</span> &#183; <span class=\"cas-memory\">mem 269MB</span></small></p>"
      ],
      "text/plain": [
       "[tableName]\n",
       "\n",
       " 'RAND_RETAILDEMO'\n",
       "\n",
       "[rowsUpdated]\n",
       "\n",
       " 673447\n",
       "\n",
       "+ Elapsed: 0.091s, user: 0.495s, sys: 0.176s, mem: 269mb"
      ]
     },
     "execution_count": 53,
     "metadata": {},
     "output_type": "execute_result"
    }
   ],
   "source": [
    "(retailTbl\n",
    " .query(\"age is null\")\n",
    " .update(set = [\n",
    "     {'var':'age', 'value':f'{meanAge}'}])\n",
    ")"
   ]
  },
  {
   "cell_type": "markdown",
   "metadata": {},
   "source": [
    "### Confirm no missing values exists in age"
   ]
  },
  {
   "cell_type": "code",
   "execution_count": 54,
   "metadata": {},
   "outputs": [
    {
     "data": {
      "text/html": [
       "<div class=\"cas-results-key\"><b>&#167; Distinct</b></div>\n",
       "<div class=\"cas-results-body\">\n",
       "<div>\n",
       "<style scoped>\n",
       "    .dataframe tbody tr th:only-of-type {\n",
       "        vertical-align: middle;\n",
       "    }\n",
       "\n",
       "    .dataframe tbody tr th {\n",
       "        vertical-align: top;\n",
       "    }\n",
       "\n",
       "    .dataframe thead th {\n",
       "        text-align: right;\n",
       "    }\n",
       "</style>\n",
       "<table border=\"1\" class=\"dataframe\"><caption>Distinct Counts for RAND_RETAILDEMO</caption>\n",
       "  <thead>\n",
       "    <tr style=\"text-align: right;\">\n",
       "      <th title=\"\"></th>\n",
       "      <th title=\"Analysis Variable\">Column</th>\n",
       "      <th title=\"Number of Distinct Values\">NDistinct</th>\n",
       "      <th title=\"Number of Missing Values\">NMiss</th>\n",
       "      <th title=\"Truncated\">Trunc</th>\n",
       "    </tr>\n",
       "  </thead>\n",
       "  <tbody>\n",
       "    <tr>\n",
       "      <th>0</th>\n",
       "      <td>age</td>\n",
       "      <td>124.0</td>\n",
       "      <td>0.0</td>\n",
       "      <td>0.0</td>\n",
       "    </tr>\n",
       "  </tbody>\n",
       "</table>\n",
       "</div>\n",
       "</div>\n",
       "<div class=\"cas-output-area\"></div>\n",
       "<p class=\"cas-results-performance\"><small><span class=\"cas-elapsed\">elapsed 0.0332s</span> &#183; <span class=\"cas-user\">user 0.34s</span> &#183; <span class=\"cas-sys\">sys 0.00788s</span> &#183; <span class=\"cas-memory\">mem 4.88MB</span></small></p>"
      ],
      "text/plain": [
       "[Distinct]\n",
       "\n",
       " Distinct Counts for RAND_RETAILDEMO\n",
       " \n",
       "   Column  NDistinct  NMiss  Trunc\n",
       " 0    age      124.0    0.0    0.0\n",
       "\n",
       "+ Elapsed: 0.0332s, user: 0.34s, sys: 0.00788s, mem: 4.88mb"
      ]
     },
     "execution_count": 54,
     "metadata": {},
     "output_type": "execute_result"
    }
   ],
   "source": [
    "retailTbl.distinct(inputs = 'age')"
   ]
  },
  {
   "cell_type": "markdown",
   "metadata": {},
   "source": [
    "Notice that all the missing values (673,447) are now the mean age (44)"
   ]
  },
  {
   "cell_type": "code",
   "execution_count": 55,
   "metadata": {},
   "outputs": [
    {
     "data": {
      "text/plain": [
       "43.577     673447\n",
       "19.000       6996\n",
       "23.000       6944\n",
       "24.000       6941\n",
       "21.000       6882\n",
       "            ...  \n",
       "97.000         26\n",
       "98.000         25\n",
       "94.000         21\n",
       "105.000        20\n",
       "140.000        18\n",
       "Length: 124, dtype: int64"
      ]
     },
     "execution_count": 55,
     "metadata": {},
     "output_type": "execute_result"
    }
   ],
   "source": [
    "(retailTbl\n",
    " .age\n",
    " .value_counts()\n",
    ")"
   ]
  },
  {
   "cell_type": "markdown",
   "metadata": {},
   "source": [
    "## Update rows using conditional logic"
   ]
  },
  {
   "cell_type": "code",
   "execution_count": 56,
   "metadata": {},
   "outputs": [
    {
     "data": {
      "text/plain": [
       "CASTable('rand_retaildemo', caslib='casuser')"
      ]
     },
     "execution_count": 56,
     "metadata": {},
     "output_type": "execute_result"
    }
   ],
   "source": [
    "retailTbl"
   ]
  },
  {
   "cell_type": "code",
   "execution_count": 66,
   "metadata": {},
   "outputs": [
    {
     "data": {
      "text/html": [
       "<div class=\"cas-results-key\"><b>&#167; tableName</b></div>\n",
       "<div class=\"cas-results-body\">\n",
       "<div>RAND_RETAILDEMO</div>\n",
       "</div>\n",
       "<div class=\"cas-results-key\"><hr/><b>&#167; rowsUpdated</b></div>\n",
       "<div class=\"cas-results-body\">\n",
       "<div>930046</div>\n",
       "</div>\n",
       "<div class=\"cas-output-area\"></div>\n",
       "<p class=\"cas-results-performance\"><small><span class=\"cas-elapsed\">elapsed 0.0687s</span> &#183; <span class=\"cas-user\">user 0.579s</span> &#183; <span class=\"cas-sys\">sys 0.0255s</span> &#183; <span class=\"cas-memory\">mem 16.6MB</span></small></p>"
      ],
      "text/plain": [
       "[tableName]\n",
       "\n",
       " 'RAND_RETAILDEMO'\n",
       "\n",
       "[rowsUpdated]\n",
       "\n",
       " 930046\n",
       "\n",
       "+ Elapsed: 0.0687s, user: 0.579s, sys: 0.0255s, mem: 16.6mb"
      ]
     },
     "execution_count": 66,
     "metadata": {},
     "output_type": "execute_result"
    }
   ],
   "source": [
    "(retailTbl\n",
    " .update(set = [\n",
    "     {'var':'age_dup', 'value':f'ifn(age_dup = . , {meanAge}, age_dup)'}])\n",
    ")"
   ]
  },
  {
   "cell_type": "markdown",
   "metadata": {},
   "source": [
    "### Confirm no missing values exists in age"
   ]
  },
  {
   "cell_type": "code",
   "execution_count": 67,
   "metadata": {},
   "outputs": [
    {
     "data": {
      "text/html": [
       "<div class=\"cas-results-key\"><b>&#167; Distinct</b></div>\n",
       "<div class=\"cas-results-body\">\n",
       "<div>\n",
       "<style scoped>\n",
       "    .dataframe tbody tr th:only-of-type {\n",
       "        vertical-align: middle;\n",
       "    }\n",
       "\n",
       "    .dataframe tbody tr th {\n",
       "        vertical-align: top;\n",
       "    }\n",
       "\n",
       "    .dataframe thead th {\n",
       "        text-align: right;\n",
       "    }\n",
       "</style>\n",
       "<table border=\"1\" class=\"dataframe\"><caption>Distinct Counts for RAND_RETAILDEMO</caption>\n",
       "  <thead>\n",
       "    <tr style=\"text-align: right;\">\n",
       "      <th title=\"\"></th>\n",
       "      <th title=\"Analysis Variable\">Column</th>\n",
       "      <th title=\"Number of Distinct Values\">NDistinct</th>\n",
       "      <th title=\"Number of Missing Values\">NMiss</th>\n",
       "      <th title=\"Truncated\">Trunc</th>\n",
       "    </tr>\n",
       "  </thead>\n",
       "  <tbody>\n",
       "    <tr>\n",
       "      <th>0</th>\n",
       "      <td>age_dup</td>\n",
       "      <td>124.0</td>\n",
       "      <td>0.0</td>\n",
       "      <td>0.0</td>\n",
       "    </tr>\n",
       "  </tbody>\n",
       "</table>\n",
       "</div>\n",
       "</div>\n",
       "<div class=\"cas-output-area\"></div>\n",
       "<p class=\"cas-results-performance\"><small><span class=\"cas-elapsed\">elapsed 0.025s</span> &#183; <span class=\"cas-user\">user 0.301s</span> &#183; <span class=\"cas-sys\">sys 0.00567s</span> &#183; <span class=\"cas-memory\">mem 4.88MB</span></small></p>"
      ],
      "text/plain": [
       "[Distinct]\n",
       "\n",
       " Distinct Counts for RAND_RETAILDEMO\n",
       " \n",
       "     Column  NDistinct  NMiss  Trunc\n",
       " 0  age_dup      124.0    0.0    0.0\n",
       "\n",
       "+ Elapsed: 0.025s, user: 0.301s, sys: 0.00567s, mem: 4.88mb"
      ]
     },
     "execution_count": 67,
     "metadata": {},
     "output_type": "execute_result"
    }
   ],
   "source": [
    "retailTbl.distinct(inputs = 'age_dup')"
   ]
  },
  {
   "cell_type": "code",
   "execution_count": 68,
   "metadata": {},
   "outputs": [
    {
     "data": {
      "text/plain": [
       "43.577     673447\n",
       "19.000       6996\n",
       "23.000       6944\n",
       "24.000       6941\n",
       "21.000       6882\n",
       "            ...  \n",
       "97.000         26\n",
       "98.000         25\n",
       "94.000         21\n",
       "105.000        20\n",
       "140.000        18\n",
       "Length: 124, dtype: int64"
      ]
     },
     "execution_count": 68,
     "metadata": {},
     "output_type": "execute_result"
    }
   ],
   "source": [
    "(retailTbl\n",
    " .age_dup\n",
    " .value_counts()\n",
    ")"
   ]
  },
  {
   "cell_type": "markdown",
   "metadata": {},
   "source": [
    "## Save the CAS table as a data soure file"
   ]
  },
  {
   "cell_type": "code",
   "execution_count": 70,
   "metadata": {},
   "outputs": [
    {
     "name": "stdout",
     "output_type": "stream",
     "text": [
      "NOTE: Cloud Analytic Services saved the file retail_clean.sashdat in caslib CASUSER(Peter.Styliadis@sas.com).\n"
     ]
    },
    {
     "data": {
      "text/html": [
       "<div class=\"cas-results-key\"><b>&#167; caslib</b></div>\n",
       "<div class=\"cas-results-body\">\n",
       "<div>CASUSER(Peter.Styliadis@sas.com)</div>\n",
       "</div>\n",
       "<div class=\"cas-results-key\"><hr/><b>&#167; name</b></div>\n",
       "<div class=\"cas-results-body\">\n",
       "<div>retail_clean.sashdat</div>\n",
       "</div>\n",
       "<div class=\"cas-output-area\"></div>\n",
       "<p class=\"cas-results-performance\"><small><span class=\"cas-elapsed\">elapsed 0.604s</span> &#183; <span class=\"cas-user\">user 0.274s</span> &#183; <span class=\"cas-sys\">sys 0.108s</span> &#183; <span class=\"cas-memory\">mem 83.3MB</span></small></p>"
      ],
      "text/plain": [
       "[caslib]\n",
       "\n",
       " 'CASUSER(Peter.Styliadis@sas.com)'\n",
       "\n",
       "[name]\n",
       "\n",
       " 'retail_clean.sashdat'\n",
       "\n",
       "+ Elapsed: 0.604s, user: 0.274s, sys: 0.108s, mem: 83.3mb"
      ]
     },
     "execution_count": 70,
     "metadata": {},
     "output_type": "execute_result"
    }
   ],
   "source": [
    "retailTbl.save(name = 'retail_clean.sashdat', caslib = 'casuser', replace = True)"
   ]
  },
  {
   "cell_type": "code",
   "execution_count": 71,
   "metadata": {},
   "outputs": [
    {
     "data": {
      "text/html": [
       "<div class=\"cas-results-key\"><b>&#167; FileInfo</b></div>\n",
       "<div class=\"cas-results-body\">\n",
       "<div>\n",
       "<style scoped>\n",
       "    .dataframe tbody tr th:only-of-type {\n",
       "        vertical-align: middle;\n",
       "    }\n",
       "\n",
       "    .dataframe tbody tr th {\n",
       "        vertical-align: top;\n",
       "    }\n",
       "\n",
       "    .dataframe thead th {\n",
       "        text-align: right;\n",
       "    }\n",
       "</style>\n",
       "<table border=\"1\" class=\"dataframe\">\n",
       "  <thead>\n",
       "    <tr style=\"text-align: right;\">\n",
       "      <th title=\"\"></th>\n",
       "      <th title=\"Permission\">Permission</th>\n",
       "      <th title=\"Owner\">Owner</th>\n",
       "      <th title=\"Group\">Group</th>\n",
       "      <th title=\"Name\">Name</th>\n",
       "      <th title=\"Size of File in Bytes\">Size</th>\n",
       "      <th title=\"Encryption Method\">Encryption</th>\n",
       "      <th title=\"Time\">Time</th>\n",
       "      <th title=\"ModTime\">ModTime</th>\n",
       "    </tr>\n",
       "  </thead>\n",
       "  <tbody>\n",
       "    <tr>\n",
       "      <th>0</th>\n",
       "      <td>-rwxr-xr-x</td>\n",
       "      <td>Peter.Styliadis@sas.com</td>\n",
       "      <td>v4e_users</td>\n",
       "      <td>warranty_final.csv</td>\n",
       "      <td>39528995</td>\n",
       "      <td></td>\n",
       "      <td>2023-03-27T10:42:55-04:00</td>\n",
       "      <td>1.995547e+09</td>\n",
       "    </tr>\n",
       "    <tr>\n",
       "      <th>1</th>\n",
       "      <td>-rwxr-xr-x</td>\n",
       "      <td>Peter.Styliadis@sas.com</td>\n",
       "      <td>v4e_users</td>\n",
       "      <td>sales.sas7bdat</td>\n",
       "      <td>73728</td>\n",
       "      <td></td>\n",
       "      <td>2023-02-06T14:19:30-04:00</td>\n",
       "      <td>1.991327e+09</td>\n",
       "    </tr>\n",
       "    <tr>\n",
       "      <th>2</th>\n",
       "      <td>-rwxr-xr-x</td>\n",
       "      <td>Peter.Styliadis@sas.com</td>\n",
       "      <td>v4e_users</td>\n",
       "      <td>sales.csv</td>\n",
       "      <td>10506</td>\n",
       "      <td></td>\n",
       "      <td>2022-12-09T12:14:52-04:00</td>\n",
       "      <td>1.986222e+09</td>\n",
       "    </tr>\n",
       "    <tr>\n",
       "      <th>3</th>\n",
       "      <td>-rwxr-xr-x</td>\n",
       "      <td>Peter.Styliadis@sas.com</td>\n",
       "      <td>v4e_users</td>\n",
       "      <td>heart_raw.sashdat</td>\n",
       "      <td>1051328</td>\n",
       "      <td>NONE</td>\n",
       "      <td>2022-10-12T13:06:07-04:00</td>\n",
       "      <td>1.981214e+09</td>\n",
       "    </tr>\n",
       "    <tr>\n",
       "      <th>4</th>\n",
       "      <td>-rwxr-xr-x</td>\n",
       "      <td>Peter.Styliadis@sas.com</td>\n",
       "      <td>v4e_users</td>\n",
       "      <td>products.xlsx</td>\n",
       "      <td>225072</td>\n",
       "      <td></td>\n",
       "      <td>2022-12-09T12:15:02-04:00</td>\n",
       "      <td>1.986222e+09</td>\n",
       "    </tr>\n",
       "    <tr>\n",
       "      <th>5</th>\n",
       "      <td>-rwxr-xr-x</td>\n",
       "      <td>Peter.Styliadis@sas.com</td>\n",
       "      <td>v4e_users</td>\n",
       "      <td>orders_hd.sashdat</td>\n",
       "      <td>1728621720</td>\n",
       "      <td>NONE</td>\n",
       "      <td>2022-12-09T12:15:01-04:00</td>\n",
       "      <td>1.986222e+09</td>\n",
       "    </tr>\n",
       "    <tr>\n",
       "      <th>6</th>\n",
       "      <td>-rwxr-xr-x</td>\n",
       "      <td>Peter.Styliadis@sas.com</td>\n",
       "      <td>v4e_users</td>\n",
       "      <td>tsa_claims_raw.csv</td>\n",
       "      <td>34936237</td>\n",
       "      <td></td>\n",
       "      <td>2023-01-04T13:50:33-04:00</td>\n",
       "      <td>1.988474e+09</td>\n",
       "    </tr>\n",
       "    <tr>\n",
       "      <th>7</th>\n",
       "      <td>-rwxr-xr-x</td>\n",
       "      <td>Peter.Styliadis@sas.com</td>\n",
       "      <td>v4e_users</td>\n",
       "      <td>warranty_claims_2015.csv</td>\n",
       "      <td>144481</td>\n",
       "      <td></td>\n",
       "      <td>2023-03-27T09:07:18-04:00</td>\n",
       "      <td>1.995542e+09</td>\n",
       "    </tr>\n",
       "    <tr>\n",
       "      <th>8</th>\n",
       "      <td>-rwxr-xr-x</td>\n",
       "      <td>Peter.Styliadis@sas.com</td>\n",
       "      <td>v4e_users</td>\n",
       "      <td>warranty_demo.csv</td>\n",
       "      <td>53297896</td>\n",
       "      <td></td>\n",
       "      <td>2023-02-27T20:01:49-04:00</td>\n",
       "      <td>1.993162e+09</td>\n",
       "    </tr>\n",
       "    <tr>\n",
       "      <th>9</th>\n",
       "      <td>-rwxr-xr-x</td>\n",
       "      <td>Peter.Styliadis@sas.com</td>\n",
       "      <td>v4e_users</td>\n",
       "      <td>myfinaltable.sashdat</td>\n",
       "      <td>74432416</td>\n",
       "      <td>NONE</td>\n",
       "      <td>2023-03-13T13:01:42-04:00</td>\n",
       "      <td>1.994346e+09</td>\n",
       "    </tr>\n",
       "    <tr>\n",
       "      <th>10</th>\n",
       "      <td>-rwxr-xr-x</td>\n",
       "      <td>Peter.Styliadis@sas.com</td>\n",
       "      <td>v4e_users</td>\n",
       "      <td>retail_clean.sashdat</td>\n",
       "      <td>74423984</td>\n",
       "      <td>NONE</td>\n",
       "      <td>2023-03-31T10:11:25-04:00</td>\n",
       "      <td>1.995891e+09</td>\n",
       "    </tr>\n",
       "    <tr>\n",
       "      <th>11</th>\n",
       "      <td>drwxr-xr-x</td>\n",
       "      <td>Peter.Styliadis@sas.com</td>\n",
       "      <td>v4e_users</td>\n",
       "      <td>warranty_final.parquet</td>\n",
       "      <td>4096</td>\n",
       "      <td></td>\n",
       "      <td>2023-03-27T10:43:17-04:00</td>\n",
       "      <td>1.995547e+09</td>\n",
       "    </tr>\n",
       "    <tr>\n",
       "      <th>12</th>\n",
       "      <td>-rwxr-xr-x</td>\n",
       "      <td>Peter.Styliadis@sas.com</td>\n",
       "      <td>v4e_users</td>\n",
       "      <td>warranty_final.sashdat</td>\n",
       "      <td>68665536</td>\n",
       "      <td>NONE</td>\n",
       "      <td>2023-03-27T10:43:36-04:00</td>\n",
       "      <td>1.995547e+09</td>\n",
       "    </tr>\n",
       "  </tbody>\n",
       "</table>\n",
       "</div>\n",
       "</div>\n",
       "<div class=\"cas-output-area\"></div>\n",
       "<p class=\"cas-results-performance\"><small><span class=\"cas-elapsed\">elapsed 0.0107s</span> &#183; <span class=\"cas-user\">user 0.00164s</span> &#183; <span class=\"cas-sys\">sys 0.00516s</span> &#183; <span class=\"cas-memory\">mem 0.685MB</span></small></p>"
      ],
      "text/plain": [
       "[FileInfo]\n",
       "\n",
       "     Permission                    Owner      Group                      Name  \\\n",
       " 0   -rwxr-xr-x  Peter.Styliadis@sas.com  v4e_users        warranty_final.csv   \n",
       " 1   -rwxr-xr-x  Peter.Styliadis@sas.com  v4e_users            sales.sas7bdat   \n",
       " 2   -rwxr-xr-x  Peter.Styliadis@sas.com  v4e_users                 sales.csv   \n",
       " 3   -rwxr-xr-x  Peter.Styliadis@sas.com  v4e_users         heart_raw.sashdat   \n",
       " 4   -rwxr-xr-x  Peter.Styliadis@sas.com  v4e_users             products.xlsx   \n",
       " 5   -rwxr-xr-x  Peter.Styliadis@sas.com  v4e_users         orders_hd.sashdat   \n",
       " 6   -rwxr-xr-x  Peter.Styliadis@sas.com  v4e_users        tsa_claims_raw.csv   \n",
       " 7   -rwxr-xr-x  Peter.Styliadis@sas.com  v4e_users  warranty_claims_2015.csv   \n",
       " 8   -rwxr-xr-x  Peter.Styliadis@sas.com  v4e_users         warranty_demo.csv   \n",
       " 9   -rwxr-xr-x  Peter.Styliadis@sas.com  v4e_users      myfinaltable.sashdat   \n",
       " 10  -rwxr-xr-x  Peter.Styliadis@sas.com  v4e_users      retail_clean.sashdat   \n",
       " 11  drwxr-xr-x  Peter.Styliadis@sas.com  v4e_users    warranty_final.parquet   \n",
       " 12  -rwxr-xr-x  Peter.Styliadis@sas.com  v4e_users    warranty_final.sashdat   \n",
       " \n",
       "           Size Encryption                       Time       ModTime  \n",
       " 0     39528995             2023-03-27T10:42:55-04:00  1.995547e+09  \n",
       " 1        73728             2023-02-06T14:19:30-04:00  1.991327e+09  \n",
       " 2        10506             2022-12-09T12:14:52-04:00  1.986222e+09  \n",
       " 3      1051328       NONE  2022-10-12T13:06:07-04:00  1.981214e+09  \n",
       " 4       225072             2022-12-09T12:15:02-04:00  1.986222e+09  \n",
       " 5   1728621720       NONE  2022-12-09T12:15:01-04:00  1.986222e+09  \n",
       " 6     34936237             2023-01-04T13:50:33-04:00  1.988474e+09  \n",
       " 7       144481             2023-03-27T09:07:18-04:00  1.995542e+09  \n",
       " 8     53297896             2023-02-27T20:01:49-04:00  1.993162e+09  \n",
       " 9     74432416       NONE  2023-03-13T13:01:42-04:00  1.994346e+09  \n",
       " 10    74423984       NONE  2023-03-31T10:11:25-04:00  1.995891e+09  \n",
       " 11        4096             2023-03-27T10:43:17-04:00  1.995547e+09  \n",
       " 12    68665536       NONE  2023-03-27T10:43:36-04:00  1.995547e+09  \n",
       "\n",
       "+ Elapsed: 0.0107s, user: 0.00164s, sys: 0.00516s, mem: 0.685mb"
      ]
     },
     "execution_count": 71,
     "metadata": {},
     "output_type": "execute_result"
    }
   ],
   "source": [
    "conn.fileInfo(caslib = 'casuser')"
   ]
  },
  {
   "cell_type": "markdown",
   "metadata": {},
   "source": [
    "## Delete the source file"
   ]
  },
  {
   "cell_type": "code",
   "execution_count": 72,
   "metadata": {},
   "outputs": [
    {
     "name": "stdout",
     "output_type": "stream",
     "text": [
      "NOTE: Cloud Analytic Services removed the source data retail_clean.sashdat from caslib CASUSER(Peter.Styliadis@sas.com).\n"
     ]
    },
    {
     "data": {
      "text/html": [
       "<div class=\"cas-output-area\"></div>\n",
       "<p class=\"cas-results-performance\"><small><span class=\"cas-elapsed\">elapsed 0.00315s</span> &#183; <span class=\"cas-sys\">sys 0.000639s</span> &#183; <span class=\"cas-memory\">mem 0.273MB</span></small></p>"
      ],
      "text/plain": [
       "+ Elapsed: 0.00315s, sys: 0.000639s, mem: 0.273mb"
      ]
     },
     "execution_count": 72,
     "metadata": {},
     "output_type": "execute_result"
    }
   ],
   "source": [
    "conn.deleteSource(source = 'retail_clean.sashdat', caslib = 'casuser')"
   ]
  },
  {
   "cell_type": "markdown",
   "metadata": {},
   "source": [
    "## Terminate the CAS connection"
   ]
  },
  {
   "cell_type": "code",
   "execution_count": 73,
   "metadata": {},
   "outputs": [],
   "source": [
    "conn.terminate()"
   ]
  },
  {
   "cell_type": "markdown",
   "metadata": {},
   "source": [
    " "
   ]
  }
 ],
 "metadata": {
  "kernelspec": {
   "display_name": "Python 3 (ipykernel)",
   "language": "python",
   "name": "python3"
  },
  "language_info": {
   "codemirror_mode": {
    "name": "ipython",
    "version": 3
   },
   "file_extension": ".py",
   "mimetype": "text/x-python",
   "name": "python",
   "nbconvert_exporter": "python",
   "pygments_lexer": "ipython3",
   "version": "3.8.16"
  }
 },
 "nbformat": 4,
 "nbformat_minor": 4
}
