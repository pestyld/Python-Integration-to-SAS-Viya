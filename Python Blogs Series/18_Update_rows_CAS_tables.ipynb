{
 "cells": [
  {
   "cell_type": "markdown",
   "metadata": {},
   "source": [
    "# Update rows in a table\n",
    "[Getting Started with Python Integration to SAS® Viya® - Part 18 - Update rows in a table](https://blogs.sas.com/content/sgf/2023/04/19/getting-started-with-python-integration-to-sas-viya-part-18-update-rows-in-a-table/)"
   ]
  },
  {
   "cell_type": "code",
   "execution_count": 1,
   "metadata": {},
   "outputs": [],
   "source": [
    "## Packages\n",
    "import swat\n",
    "import os\n",
    "import pandas as pd\n",
    "pd.set_option('display.max_columns', 50)\n",
    "import numpy as np\n",
    "\n",
    "\n",
    "## custom personal module to connect to my CAS environment\n",
    "try:\n",
    "    from casConnect import connect_to_cas \n",
    "except:\n",
    "    print('CasConnect package not available')"
   ]
  },
  {
   "cell_type": "markdown",
   "metadata": {},
   "source": [
    "## Make a Connection to CAS (REQUIRED: MODIFY CONNECTION INFORMATION)\n",
    "\n",
    "##### To connect to the CAS server you will need:\n",
    "1. the host name, \n",
    "2. the portnumber, \n",
    "3. your user name, and your password.\n",
    "\n",
    "Visit the documentation [Getting Started with SAS® Viya® for Python](https://go.documentation.sas.com/doc/en/pgmsascdc/default/caspg3/titlepage.htm) for more information about connecting to CAS.\n",
    "\n",
    "**Be aware that connecting to the CAS server can be implemented in various ways, so you might need to see your system administrator about how to make a connection. Please follow company policy regarding authentication.**"
   ]
  },
  {
   "cell_type": "code",
   "execution_count": 2,
   "metadata": {},
   "outputs": [
    {
     "name": "stdout",
     "output_type": "stream",
     "text": [
      "CAS connection succesful\n",
      "CAS('ssemonthly.demo.sas.com', 443, protocol='https', name='py-session-1', session='1207df8d-3d86-d34a-aac6-9f222115242a')\n"
     ]
    }
   ],
   "source": [
    "##\n",
    "## Connect to CAS\n",
    "##\n",
    "\n",
    "## General connection syntax\n",
    "# conn = swat.CAS(host, port, username, password)\n",
    "\n",
    "## SAS Viya for Learners 3.5 connection\n",
    "# hostValue = os.environ.get('CASHOST')\n",
    "# portValue = os.environ.get('CASPORT')\n",
    "# passwordToken=os.environ.get('SAS_VIYA_TOKEN')\n",
    "# conn = swat.CAS(hostname=hostValue, port=portValue, password=passwordToken)\n",
    "\n",
    "## Personal connection\n",
    "try:\n",
    "    conn = connect_to_cas()\n",
    "    print('CAS connection succesful')\n",
    "    print(conn)\n",
    "except:\n",
    "    print('No connection')\n",
    "    pass"
   ]
  },
  {
   "cell_type": "markdown",
   "metadata": {},
   "source": [
    "## Create demo CAS table"
   ]
  },
  {
   "cell_type": "code",
   "execution_count": 3,
   "metadata": {},
   "outputs": [
    {
     "name": "stdout",
     "output_type": "stream",
     "text": [
      "NOTE: Cloud Analytic Services made the file RAND_RETAILDEMO.sashdat available as table RAND_RETAILDEMO in caslib CASUSER(Peter.Styliadis@sas.com).\n"
     ]
    },
    {
     "data": {
      "text/plain": [
       "(930046, 8)"
      ]
     },
     "metadata": {},
     "output_type": "display_data"
    },
    {
     "data": {
      "text/html": [
       "<div class=\"cas-results-key\"><b>&#167; TableDetails</b></div>\n",
       "<div class=\"cas-results-body\">\n",
       "<div>\n",
       "<style scoped>\n",
       "    .dataframe tbody tr th:only-of-type {\n",
       "        vertical-align: middle;\n",
       "    }\n",
       "\n",
       "    .dataframe tbody tr th {\n",
       "        vertical-align: top;\n",
       "    }\n",
       "\n",
       "    .dataframe thead th {\n",
       "        text-align: right;\n",
       "    }\n",
       "</style>\n",
       "<table border=\"1\" class=\"dataframe\">\n",
       "  <thead>\n",
       "    <tr style=\"text-align: right;\">\n",
       "      <th title=\"\"></th>\n",
       "      <th title=\"Node\">Node</th>\n",
       "      <th title=\"Blocks\">Blocks</th>\n",
       "      <th title=\"Active\">Active</th>\n",
       "      <th title=\"Rows\">Rows</th>\n",
       "      <th title=\"IndexSize\">IndexSize</th>\n",
       "      <th title=\"DataSize\">DataSize</th>\n",
       "      <th title=\"VardataSize\">VardataSize</th>\n",
       "      <th title=\"CompressedSize\">CompressedSize</th>\n",
       "      <th title=\"CompressionRatio\">CompressionRatio</th>\n",
       "      <th title=\"Mapped\">Mapped</th>\n",
       "      <th title=\"MappedMemory\">MappedMemory</th>\n",
       "      <th title=\"Unmapped\">Unmapped</th>\n",
       "      <th title=\"UnmappedMemory\">UnmappedMemory</th>\n",
       "      <th title=\"Allocated\">Allocated</th>\n",
       "      <th title=\"AllocatedMemory\">AllocatedMemory</th>\n",
       "      <th title=\"DeletedRows\">DeletedRows</th>\n",
       "      <th title=\"TableLocation\">TableLocation</th>\n",
       "    </tr>\n",
       "  </thead>\n",
       "  <tbody>\n",
       "    <tr>\n",
       "      <td>0</td>\n",
       "      <td>ALL</td>\n",
       "      <td>802</td>\n",
       "      <td>401</td>\n",
       "      <td>930046</td>\n",
       "      <td>0</td>\n",
       "      <td>372018400</td>\n",
       "      <td>0</td>\n",
       "      <td>0</td>\n",
       "      <td>0</td>\n",
       "      <td>401</td>\n",
       "      <td>372064848</td>\n",
       "      <td>401</td>\n",
       "      <td>372064848</td>\n",
       "      <td>0</td>\n",
       "      <td>0</td>\n",
       "      <td>0</td>\n",
       "      <td>CAS</td>\n",
       "    </tr>\n",
       "  </tbody>\n",
       "</table>\n",
       "</div>\n",
       "</div>\n",
       "<div class=\"cas-output-area\"></div>\n",
       "<p class=\"cas-results-performance\"><small><span class=\"cas-elapsed\">elapsed 0.0135s</span> &#183; <span class=\"cas-user\">user 0.00885s</span> &#183; <span class=\"cas-sys\">sys 0.0169s</span> &#183; <span class=\"cas-memory\">mem 1.82MB</span></small></p>"
      ],
      "text/plain": [
       "[TableDetails]\n",
       "\n",
       "   Node  Blocks  Active    Rows  IndexSize   DataSize  VardataSize  CompressedSize  CompressionRatio  Mapped  MappedMemory  Unmapped  UnmappedMemory  Allocated  AllocatedMemory  DeletedRows TableLocation\n",
       " 0  ALL     802     401  930046          0  372018400            0               0                 0     401     372064848       401       372064848          0                0            0           CAS\n",
       "\n",
       "+ Elapsed: 0.0135s, user: 0.00885s, sys: 0.0169s, mem: 1.82mb"
      ]
     },
     "metadata": {},
     "output_type": "display_data"
    },
    {
     "data": {
      "text/html": [
       "<div class=\"cas-results-key\"><b>&#167; TableInfo</b></div>\n",
       "<div class=\"cas-results-body\">\n",
       "<div>\n",
       "<style scoped>\n",
       "    .dataframe tbody tr th:only-of-type {\n",
       "        vertical-align: middle;\n",
       "    }\n",
       "\n",
       "    .dataframe tbody tr th {\n",
       "        vertical-align: top;\n",
       "    }\n",
       "\n",
       "    .dataframe thead th {\n",
       "        text-align: right;\n",
       "    }\n",
       "</style>\n",
       "<table border=\"1\" class=\"dataframe\">\n",
       "  <thead>\n",
       "    <tr style=\"text-align: right;\">\n",
       "      <th title=\"\"></th>\n",
       "      <th title=\"Name\">Name</th>\n",
       "      <th title=\"Rows\">Rows</th>\n",
       "      <th title=\"Columns\">Columns</th>\n",
       "      <th title=\"Indexed Columns\">IndexedColumns</th>\n",
       "      <th title=\"Encoding\">Encoding</th>\n",
       "      <th title=\"Created\">CreateTimeFormatted</th>\n",
       "      <th title=\"Last Modified\">ModTimeFormatted</th>\n",
       "      <th title=\"Last Accessed\">AccessTimeFormatted</th>\n",
       "      <th title=\"Character Set\">JavaCharSet</th>\n",
       "      <th title=\"CreateTime\">CreateTime</th>\n",
       "      <th title=\"ModTime\">ModTime</th>\n",
       "      <th title=\"AccessTime\">AccessTime</th>\n",
       "      <th title=\"Global\">Global</th>\n",
       "      <th title=\"Repeated\">Repeated</th>\n",
       "      <th title=\"View\">View</th>\n",
       "      <th title=\"MultiPart\">MultiPart</th>\n",
       "      <th title=\"Loaded Source\">SourceName</th>\n",
       "      <th title=\"Source Caslib\">SourceCaslib</th>\n",
       "      <th title=\"Compressed\">Compressed</th>\n",
       "      <th title=\"Table Creator\">Creator</th>\n",
       "      <th title=\"Last Table Modifier\">Modifier</th>\n",
       "      <th title=\"Source Modified\">SourceModTimeFormatted</th>\n",
       "      <th title=\"SourceModTime\">SourceModTime</th>\n",
       "    </tr>\n",
       "  </thead>\n",
       "  <tbody>\n",
       "    <tr>\n",
       "      <td>0</td>\n",
       "      <td>RAND_RETAILDEMO</td>\n",
       "      <td>930046</td>\n",
       "      <td>8</td>\n",
       "      <td>0</td>\n",
       "      <td>utf-8</td>\n",
       "      <td>2023-05-09T18:20:43+00:00</td>\n",
       "      <td>2023-05-09T18:20:44+00:00</td>\n",
       "      <td>2023-05-09T18:20:48+00:00</td>\n",
       "      <td>UTF8</td>\n",
       "      <td>1.999276e+09</td>\n",
       "      <td>1.999276e+09</td>\n",
       "      <td>1.999276e+09</td>\n",
       "      <td>0</td>\n",
       "      <td>0</td>\n",
       "      <td>0</td>\n",
       "      <td>0</td>\n",
       "      <td></td>\n",
       "      <td></td>\n",
       "      <td>0</td>\n",
       "      <td>Peter.Styliadis@sas.com</td>\n",
       "      <td></td>\n",
       "      <td></td>\n",
       "      <td>NaN</td>\n",
       "    </tr>\n",
       "  </tbody>\n",
       "</table>\n",
       "</div>\n",
       "</div>\n",
       "<div class=\"cas-output-area\"></div>\n",
       "<p class=\"cas-results-performance\"><small><span class=\"cas-elapsed\">elapsed 0.0086s</span> &#183; <span class=\"cas-user\">user 0.00714s</span> &#183; <span class=\"cas-sys\">sys 0.0101s</span> &#183; <span class=\"cas-memory\">mem 1.84MB</span></small></p>"
      ],
      "text/plain": [
       "[TableInfo]\n",
       "\n",
       "               Name    Rows  Columns  IndexedColumns Encoding        CreateTimeFormatted           ModTimeFormatted        AccessTimeFormatted JavaCharSet    CreateTime       ModTime    AccessTime  Global  Repeated  View  MultiPart SourceName SourceCaslib  Compressed                  Creator Modifier SourceModTimeFormatted  SourceModTime\n",
       " 0  RAND_RETAILDEMO  930046        8               0    utf-8  2023-05-09T18:20:43+00:00  2023-05-09T18:20:44+00:00  2023-05-09T18:20:48+00:00        UTF8  1.999276e+09  1.999276e+09  1.999276e+09       0         0     0          0                                   0  Peter.Styliadis@sas.com                                            NaN\n",
       "\n",
       "+ Elapsed: 0.0086s, user: 0.00714s, sys: 0.0101s, mem: 1.84mb"
      ]
     },
     "metadata": {},
     "output_type": "display_data"
    },
    {
     "data": {
      "text/html": [
       "<div>\n",
       "<style scoped>\n",
       "    .dataframe tbody tr th:only-of-type {\n",
       "        vertical-align: middle;\n",
       "    }\n",
       "\n",
       "    .dataframe tbody tr th {\n",
       "        vertical-align: top;\n",
       "    }\n",
       "\n",
       "    .dataframe thead th {\n",
       "        text-align: right;\n",
       "    }\n",
       "</style>\n",
       "<table border=\"1\" class=\"dataframe\"><caption>Selected Rows from Table RAND_RETAILDEMO</caption>\n",
       "  <thead>\n",
       "    <tr style=\"text-align: right;\">\n",
       "      <th title=\"\"></th>\n",
       "      <th title=\"CustID\">custid</th>\n",
       "      <th title=\"12 week RFM Bucket\">bucket</th>\n",
       "      <th title=\"Customer Age\">age</th>\n",
       "      <th title=\"age_dup\">age_dup</th>\n",
       "      <th title=\"Loyalty Card\">loyalty_card</th>\n",
       "      <th title=\"Brand Name\">brand_name</th>\n",
       "      <th title=\"ChannelType\">channeltype</th>\n",
       "      <th title=\"Class\">class</th>\n",
       "    </tr>\n",
       "  </thead>\n",
       "  <tbody>\n",
       "    <tr>\n",
       "      <td>0</td>\n",
       "      <td>4940875.0</td>\n",
       "      <td>1.0</td>\n",
       "      <td>40.0</td>\n",
       "      <td>40.0</td>\n",
       "      <td>1.0</td>\n",
       "      <td>Pine</td>\n",
       "      <td>Internet</td>\n",
       "      <td>kids_hats</td>\n",
       "    </tr>\n",
       "    <tr>\n",
       "      <td>1</td>\n",
       "      <td>4940875.0</td>\n",
       "      <td>1.0</td>\n",
       "      <td>40.0</td>\n",
       "      <td>40.0</td>\n",
       "      <td>1.0</td>\n",
       "      <td>Pine</td>\n",
       "      <td>Internet</td>\n",
       "      <td>kids_outerwear</td>\n",
       "    </tr>\n",
       "    <tr>\n",
       "      <td>2</td>\n",
       "      <td>4940875.0</td>\n",
       "      <td>2.0</td>\n",
       "      <td>40.0</td>\n",
       "      <td>40.0</td>\n",
       "      <td>1.0</td>\n",
       "      <td>Pine</td>\n",
       "      <td>Internet</td>\n",
       "      <td>bath &amp; body</td>\n",
       "    </tr>\n",
       "    <tr>\n",
       "      <td>3</td>\n",
       "      <td>4940875.0</td>\n",
       "      <td>2.0</td>\n",
       "      <td>40.0</td>\n",
       "      <td>40.0</td>\n",
       "      <td>1.0</td>\n",
       "      <td>Pine</td>\n",
       "      <td>Internet</td>\n",
       "      <td>vitamins</td>\n",
       "    </tr>\n",
       "    <tr>\n",
       "      <td>4</td>\n",
       "      <td>4940985.0</td>\n",
       "      <td>2.0</td>\n",
       "      <td>NaN</td>\n",
       "      <td>NaN</td>\n",
       "      <td>0.0</td>\n",
       "      <td>Pine</td>\n",
       "      <td>Internet</td>\n",
       "      <td>computers</td>\n",
       "    </tr>\n",
       "  </tbody>\n",
       "</table>\n",
       "</div>"
      ],
      "text/plain": [
       "Selected Rows from Table RAND_RETAILDEMO\n",
       "\n",
       "      custid  bucket   age  age_dup  loyalty_card brand_name channeltype           class\n",
       "0  4940875.0     1.0  40.0     40.0           1.0       Pine    Internet       kids_hats\n",
       "1  4940875.0     1.0  40.0     40.0           1.0       Pine    Internet  kids_outerwear\n",
       "2  4940875.0     2.0  40.0     40.0           1.0       Pine    Internet     bath & body\n",
       "3  4940875.0     2.0  40.0     40.0           1.0       Pine    Internet        vitamins\n",
       "4  4940985.0     2.0   NaN      NaN           0.0       Pine    Internet       computers"
      ]
     },
     "metadata": {},
     "output_type": "display_data"
    }
   ],
   "source": [
    "## Load the RAND_RETAILDEMO.sashdat file into memory on the CAS server\n",
    "conn.loadTable(path = 'RAND_RETAILDEMO.sashdat', caslib = 'samples',\n",
    "               casout = {\n",
    "                      'name' : 'rand_retaildemo',\n",
    "                      'caslib' : 'casuser',\n",
    "                      'replace' : True\n",
    "               })\n",
    "\n",
    "## Reference the CAS table\n",
    "retailTbl = conn.CASTable('rand_retaildemo', caslib = 'casuser')\n",
    "\n",
    "## Create a copy of the table with a new column\n",
    "(retailTbl\n",
    " .eval(\"age_dup = age\", inplace = False)          ## create a duplicate of the age column\n",
    " .partition(casout = {'name':'rand_retaildemo',\n",
    "                      'caslib':'casuser',\n",
    "                      'replace':True})\n",
    ")\n",
    "\n",
    "\n",
    "## Create a list of columns to rename \n",
    "newColNames = [{'name':col,'rename':col.lower()} for col in retailTbl.columns.to_list()]\n",
    "\n",
    "## List of columns to keep\n",
    "keepColumns = ['custid','bucket','age','age_dup','loyalty_card','brand_name','channeltype','class']\n",
    "\n",
    "## Rename and keep columns\n",
    "retailTbl.alterTable(columns = newColNames, \n",
    "                     keep = keepColumns)\n",
    "\n",
    "## Preview the new CAS table\n",
    "display(retailTbl.shape, \n",
    "        retailTbl.tableDetails(),\n",
    "        retailTbl.tableInfo(caslib = 'casuser'),\n",
    "        retailTbl.head())"
   ]
  },
  {
   "cell_type": "markdown",
   "metadata": {},
   "source": [
    "## Simple column updates in place"
   ]
  },
  {
   "cell_type": "code",
   "execution_count": 4,
   "metadata": {},
   "outputs": [
    {
     "data": {
      "text/html": [
       "<div class=\"cas-results-key\"><b>&#167; rowsUpdated</b></div>\n",
       "<div class=\"cas-results-body\">\n",
       "<div>930046</div>\n",
       "</div>\n",
       "<div class=\"cas-results-key\"><hr/><b>&#167; tableName</b></div>\n",
       "<div class=\"cas-results-body\">\n",
       "<div>RAND_RETAILDEMO</div>\n",
       "</div>\n",
       "<div class=\"cas-output-area\"></div>\n",
       "<p class=\"cas-results-performance\"><small><span class=\"cas-elapsed\">elapsed 0.443s</span> &#183; <span class=\"cas-user\">user 2.11s</span> &#183; <span class=\"cas-sys\">sys 1.49s</span> &#183; <span class=\"cas-memory\">mem 675MB</span></small></p>"
      ],
      "text/plain": [
       "[rowsUpdated]\n",
       "\n",
       " 930046\n",
       "\n",
       "[tableName]\n",
       "\n",
       " 'RAND_RETAILDEMO'\n",
       "\n",
       "+ Elapsed: 0.443s, user: 2.11s, sys: 1.49s, mem: 675mb"
      ]
     },
     "execution_count": 4,
     "metadata": {},
     "output_type": "execute_result"
    }
   ],
   "source": [
    "retailTbl.update(set = [\n",
    "    {'var':'brand_name', 'value':'upcase(brand_name)'},\n",
    "    {'var':'channeltype', 'value':'lowcase(channeltype)'},\n",
    "    {'var':'class', 'value':'propcase(class)'}\n",
    "])"
   ]
  },
  {
   "cell_type": "code",
   "execution_count": 5,
   "metadata": {},
   "outputs": [
    {
     "data": {
      "text/html": [
       "<div>\n",
       "<style scoped>\n",
       "    .dataframe tbody tr th:only-of-type {\n",
       "        vertical-align: middle;\n",
       "    }\n",
       "\n",
       "    .dataframe tbody tr th {\n",
       "        vertical-align: top;\n",
       "    }\n",
       "\n",
       "    .dataframe thead th {\n",
       "        text-align: right;\n",
       "    }\n",
       "</style>\n",
       "<table border=\"1\" class=\"dataframe\"><caption>Selected Rows from Table RAND_RETAILDEMO</caption>\n",
       "  <thead>\n",
       "    <tr style=\"text-align: right;\">\n",
       "      <th title=\"\"></th>\n",
       "      <th title=\"CustID\">custid</th>\n",
       "      <th title=\"12 week RFM Bucket\">bucket</th>\n",
       "      <th title=\"Customer Age\">age</th>\n",
       "      <th title=\"age_dup\">age_dup</th>\n",
       "      <th title=\"Loyalty Card\">loyalty_card</th>\n",
       "      <th title=\"Brand Name\">brand_name</th>\n",
       "      <th title=\"ChannelType\">channeltype</th>\n",
       "      <th title=\"Class\">class</th>\n",
       "    </tr>\n",
       "  </thead>\n",
       "  <tbody>\n",
       "    <tr>\n",
       "      <td>0</td>\n",
       "      <td>4940875.0</td>\n",
       "      <td>1.0</td>\n",
       "      <td>40.0</td>\n",
       "      <td>40.0</td>\n",
       "      <td>1.0</td>\n",
       "      <td>PINE</td>\n",
       "      <td>internet</td>\n",
       "      <td>Kids_hats</td>\n",
       "    </tr>\n",
       "    <tr>\n",
       "      <td>1</td>\n",
       "      <td>4940875.0</td>\n",
       "      <td>1.0</td>\n",
       "      <td>40.0</td>\n",
       "      <td>40.0</td>\n",
       "      <td>1.0</td>\n",
       "      <td>PINE</td>\n",
       "      <td>internet</td>\n",
       "      <td>Kids_outerwear</td>\n",
       "    </tr>\n",
       "    <tr>\n",
       "      <td>2</td>\n",
       "      <td>4940875.0</td>\n",
       "      <td>2.0</td>\n",
       "      <td>40.0</td>\n",
       "      <td>40.0</td>\n",
       "      <td>1.0</td>\n",
       "      <td>PINE</td>\n",
       "      <td>internet</td>\n",
       "      <td>Bath &amp; Body</td>\n",
       "    </tr>\n",
       "    <tr>\n",
       "      <td>3</td>\n",
       "      <td>4940875.0</td>\n",
       "      <td>2.0</td>\n",
       "      <td>40.0</td>\n",
       "      <td>40.0</td>\n",
       "      <td>1.0</td>\n",
       "      <td>PINE</td>\n",
       "      <td>internet</td>\n",
       "      <td>Vitamins</td>\n",
       "    </tr>\n",
       "    <tr>\n",
       "      <td>4</td>\n",
       "      <td>4940985.0</td>\n",
       "      <td>2.0</td>\n",
       "      <td>NaN</td>\n",
       "      <td>NaN</td>\n",
       "      <td>0.0</td>\n",
       "      <td>PINE</td>\n",
       "      <td>internet</td>\n",
       "      <td>Computers</td>\n",
       "    </tr>\n",
       "  </tbody>\n",
       "</table>\n",
       "</div>"
      ],
      "text/plain": [
       "Selected Rows from Table RAND_RETAILDEMO\n",
       "\n",
       "      custid  bucket   age  age_dup  loyalty_card brand_name channeltype           class\n",
       "0  4940875.0     1.0  40.0     40.0           1.0       PINE    internet       Kids_hats\n",
       "1  4940875.0     1.0  40.0     40.0           1.0       PINE    internet  Kids_outerwear\n",
       "2  4940875.0     2.0  40.0     40.0           1.0       PINE    internet     Bath & Body\n",
       "3  4940875.0     2.0  40.0     40.0           1.0       PINE    internet        Vitamins\n",
       "4  4940985.0     2.0   NaN      NaN           0.0       PINE    internet       Computers"
      ]
     },
     "execution_count": 5,
     "metadata": {},
     "output_type": "execute_result"
    }
   ],
   "source": [
    "retailTbl.head()"
   ]
  },
  {
   "cell_type": "markdown",
   "metadata": {},
   "source": [
    "## Update column based on a conditions"
   ]
  },
  {
   "cell_type": "code",
   "execution_count": 6,
   "metadata": {},
   "outputs": [
    {
     "data": {
      "text/html": [
       "<div class=\"cas-results-key\"><b>&#167; Distinct</b></div>\n",
       "<div class=\"cas-results-body\">\n",
       "<div>\n",
       "<style scoped>\n",
       "    .dataframe tbody tr th:only-of-type {\n",
       "        vertical-align: middle;\n",
       "    }\n",
       "\n",
       "    .dataframe tbody tr th {\n",
       "        vertical-align: top;\n",
       "    }\n",
       "\n",
       "    .dataframe thead th {\n",
       "        text-align: right;\n",
       "    }\n",
       "</style>\n",
       "<table border=\"1\" class=\"dataframe\"><caption>Distinct Counts for RAND_RETAILDEMO</caption>\n",
       "  <thead>\n",
       "    <tr style=\"text-align: right;\">\n",
       "      <th title=\"\"></th>\n",
       "      <th title=\"Analysis Variable\">Column</th>\n",
       "      <th title=\"Number of Distinct Values\">NDistinct</th>\n",
       "      <th title=\"Number of Missing Values\">NMiss</th>\n",
       "      <th title=\"Truncated\">Trunc</th>\n",
       "    </tr>\n",
       "  </thead>\n",
       "  <tbody>\n",
       "    <tr>\n",
       "      <td>0</td>\n",
       "      <td>age</td>\n",
       "      <td>124.0</td>\n",
       "      <td>673447.0</td>\n",
       "      <td>0.0</td>\n",
       "    </tr>\n",
       "    <tr>\n",
       "      <td>1</td>\n",
       "      <td>age_dup</td>\n",
       "      <td>124.0</td>\n",
       "      <td>673447.0</td>\n",
       "      <td>0.0</td>\n",
       "    </tr>\n",
       "  </tbody>\n",
       "</table>\n",
       "</div>\n",
       "</div>\n",
       "<div class=\"cas-output-area\"></div>\n",
       "<p class=\"cas-results-performance\"><small><span class=\"cas-elapsed\">elapsed 0.0365s</span> &#183; <span class=\"cas-user\">user 0.56s</span> &#183; <span class=\"cas-sys\">sys 0.105s</span> &#183; <span class=\"cas-memory\">mem 70.2MB</span></small></p>"
      ],
      "text/plain": [
       "[Distinct]\n",
       "\n",
       " Distinct Counts for RAND_RETAILDEMO\n",
       " \n",
       "     Column  NDistinct     NMiss  Trunc\n",
       " 0      age      124.0  673447.0    0.0\n",
       " 1  age_dup      124.0  673447.0    0.0\n",
       "\n",
       "+ Elapsed: 0.0365s, user: 0.56s, sys: 0.105s, mem: 70.2mb"
      ]
     },
     "execution_count": 6,
     "metadata": {},
     "output_type": "execute_result"
    }
   ],
   "source": [
    "retailTbl.distinct(inputs = ['age', 'age_dup'])"
   ]
  },
  {
   "cell_type": "markdown",
   "metadata": {},
   "source": [
    "Get the mean of the age column"
   ]
  },
  {
   "cell_type": "code",
   "execution_count": 7,
   "metadata": {},
   "outputs": [
    {
     "data": {
      "text/plain": [
       "43.577"
      ]
     },
     "execution_count": 7,
     "metadata": {},
     "output_type": "execute_result"
    }
   ],
   "source": [
    "meanAge = retailTbl.age.mean().round(3)\n",
    "meanAge"
   ]
  },
  {
   "cell_type": "code",
   "execution_count": 8,
   "metadata": {},
   "outputs": [
    {
     "data": {
      "text/html": [
       "<div class=\"cas-results-key\"><b>&#167; rowsUpdated</b></div>\n",
       "<div class=\"cas-results-body\">\n",
       "<div>673447</div>\n",
       "</div>\n",
       "<div class=\"cas-results-key\"><hr/><b>&#167; tableName</b></div>\n",
       "<div class=\"cas-results-body\">\n",
       "<div>RAND_RETAILDEMO</div>\n",
       "</div>\n",
       "<div class=\"cas-output-area\"></div>\n",
       "<p class=\"cas-results-performance\"><small><span class=\"cas-elapsed\">elapsed 0.304s</span> &#183; <span class=\"cas-user\">user 1.12s</span> &#183; <span class=\"cas-sys\">sys 1.1s</span> &#183; <span class=\"cas-memory\">mem 549MB</span></small></p>"
      ],
      "text/plain": [
       "[rowsUpdated]\n",
       "\n",
       " 673447\n",
       "\n",
       "[tableName]\n",
       "\n",
       " 'RAND_RETAILDEMO'\n",
       "\n",
       "+ Elapsed: 0.304s, user: 1.12s, sys: 1.1s, mem: 549mb"
      ]
     },
     "execution_count": 8,
     "metadata": {},
     "output_type": "execute_result"
    }
   ],
   "source": [
    "(retailTbl\n",
    " .query(\"age is null\")\n",
    " .update(set = [\n",
    "     {'var':'age', 'value':f'{meanAge}'}])\n",
    ")"
   ]
  },
  {
   "cell_type": "markdown",
   "metadata": {},
   "source": [
    "### Confirm no missing values exists in age"
   ]
  },
  {
   "cell_type": "code",
   "execution_count": 9,
   "metadata": {},
   "outputs": [
    {
     "data": {
      "text/html": [
       "<div class=\"cas-results-key\"><b>&#167; Distinct</b></div>\n",
       "<div class=\"cas-results-body\">\n",
       "<div>\n",
       "<style scoped>\n",
       "    .dataframe tbody tr th:only-of-type {\n",
       "        vertical-align: middle;\n",
       "    }\n",
       "\n",
       "    .dataframe tbody tr th {\n",
       "        vertical-align: top;\n",
       "    }\n",
       "\n",
       "    .dataframe thead th {\n",
       "        text-align: right;\n",
       "    }\n",
       "</style>\n",
       "<table border=\"1\" class=\"dataframe\"><caption>Distinct Counts for RAND_RETAILDEMO</caption>\n",
       "  <thead>\n",
       "    <tr style=\"text-align: right;\">\n",
       "      <th title=\"\"></th>\n",
       "      <th title=\"Analysis Variable\">Column</th>\n",
       "      <th title=\"Number of Distinct Values\">NDistinct</th>\n",
       "      <th title=\"Number of Missing Values\">NMiss</th>\n",
       "      <th title=\"Truncated\">Trunc</th>\n",
       "    </tr>\n",
       "  </thead>\n",
       "  <tbody>\n",
       "    <tr>\n",
       "      <td>0</td>\n",
       "      <td>age</td>\n",
       "      <td>124.0</td>\n",
       "      <td>0.0</td>\n",
       "      <td>0.0</td>\n",
       "    </tr>\n",
       "    <tr>\n",
       "      <td>1</td>\n",
       "      <td>age_dup</td>\n",
       "      <td>124.0</td>\n",
       "      <td>673447.0</td>\n",
       "      <td>0.0</td>\n",
       "    </tr>\n",
       "  </tbody>\n",
       "</table>\n",
       "</div>\n",
       "</div>\n",
       "<div class=\"cas-output-area\"></div>\n",
       "<p class=\"cas-results-performance\"><small><span class=\"cas-elapsed\">elapsed 0.0427s</span> &#183; <span class=\"cas-user\">user 0.798s</span> &#183; <span class=\"cas-sys\">sys 0.087s</span> &#183; <span class=\"cas-memory\">mem 70.2MB</span></small></p>"
      ],
      "text/plain": [
       "[Distinct]\n",
       "\n",
       " Distinct Counts for RAND_RETAILDEMO\n",
       " \n",
       "     Column  NDistinct     NMiss  Trunc\n",
       " 0      age      124.0       0.0    0.0\n",
       " 1  age_dup      124.0  673447.0    0.0\n",
       "\n",
       "+ Elapsed: 0.0427s, user: 0.798s, sys: 0.087s, mem: 70.2mb"
      ]
     },
     "execution_count": 9,
     "metadata": {},
     "output_type": "execute_result"
    }
   ],
   "source": [
    "retailTbl.distinct(inputs = ['age', 'age_dup'])"
   ]
  },
  {
   "cell_type": "markdown",
   "metadata": {},
   "source": [
    "Notice that all the missing values (673,447) are now the mean age (44)"
   ]
  },
  {
   "cell_type": "code",
   "execution_count": 10,
   "metadata": {},
   "outputs": [
    {
     "data": {
      "text/plain": [
       "43.577     673447\n",
       "19.000       6996\n",
       "23.000       6944\n",
       "24.000       6941\n",
       "21.000       6882\n",
       "            ...  \n",
       "97.000         26\n",
       "98.000         25\n",
       "94.000         21\n",
       "105.000        20\n",
       "140.000        18\n",
       "Length: 124, dtype: int64"
      ]
     },
     "execution_count": 10,
     "metadata": {},
     "output_type": "execute_result"
    }
   ],
   "source": [
    "(retailTbl\n",
    " .age\n",
    " .value_counts()\n",
    ")"
   ]
  },
  {
   "cell_type": "markdown",
   "metadata": {},
   "source": [
    "## Update rows using conditional logic"
   ]
  },
  {
   "cell_type": "code",
   "execution_count": 11,
   "metadata": {},
   "outputs": [
    {
     "data": {
      "text/html": [
       "<div class=\"cas-results-key\"><b>&#167; rowsUpdated</b></div>\n",
       "<div class=\"cas-results-body\">\n",
       "<div>930046</div>\n",
       "</div>\n",
       "<div class=\"cas-results-key\"><hr/><b>&#167; tableName</b></div>\n",
       "<div class=\"cas-results-body\">\n",
       "<div>RAND_RETAILDEMO</div>\n",
       "</div>\n",
       "<div class=\"cas-output-area\"></div>\n",
       "<p class=\"cas-results-performance\"><small><span class=\"cas-elapsed\">elapsed 0.587s</span> &#183; <span class=\"cas-user\">user 1.42s</span> &#183; <span class=\"cas-sys\">sys 1.96s</span> &#183; <span class=\"cas-memory\">mem 770MB</span></small></p>"
      ],
      "text/plain": [
       "[rowsUpdated]\n",
       "\n",
       " 930046\n",
       "\n",
       "[tableName]\n",
       "\n",
       " 'RAND_RETAILDEMO'\n",
       "\n",
       "+ Elapsed: 0.587s, user: 1.42s, sys: 1.96s, mem: 770mb"
      ]
     },
     "execution_count": 11,
     "metadata": {},
     "output_type": "execute_result"
    }
   ],
   "source": [
    "(retailTbl\n",
    " .update(set = [\n",
    "     {'var':'age_dup', 'value':f'ifn(age_dup = . , {meanAge}, age_dup)'}])\n",
    ")"
   ]
  },
  {
   "cell_type": "markdown",
   "metadata": {},
   "source": [
    "### Confirm no missing values exists in age_dup"
   ]
  },
  {
   "cell_type": "code",
   "execution_count": 12,
   "metadata": {},
   "outputs": [
    {
     "data": {
      "text/html": [
       "<div class=\"cas-results-key\"><b>&#167; Distinct</b></div>\n",
       "<div class=\"cas-results-body\">\n",
       "<div>\n",
       "<style scoped>\n",
       "    .dataframe tbody tr th:only-of-type {\n",
       "        vertical-align: middle;\n",
       "    }\n",
       "\n",
       "    .dataframe tbody tr th {\n",
       "        vertical-align: top;\n",
       "    }\n",
       "\n",
       "    .dataframe thead th {\n",
       "        text-align: right;\n",
       "    }\n",
       "</style>\n",
       "<table border=\"1\" class=\"dataframe\"><caption>Distinct Counts for RAND_RETAILDEMO</caption>\n",
       "  <thead>\n",
       "    <tr style=\"text-align: right;\">\n",
       "      <th title=\"\"></th>\n",
       "      <th title=\"Analysis Variable\">Column</th>\n",
       "      <th title=\"Number of Distinct Values\">NDistinct</th>\n",
       "      <th title=\"Number of Missing Values\">NMiss</th>\n",
       "      <th title=\"Truncated\">Trunc</th>\n",
       "    </tr>\n",
       "  </thead>\n",
       "  <tbody>\n",
       "    <tr>\n",
       "      <td>0</td>\n",
       "      <td>age</td>\n",
       "      <td>124.0</td>\n",
       "      <td>0.0</td>\n",
       "      <td>0.0</td>\n",
       "    </tr>\n",
       "    <tr>\n",
       "      <td>1</td>\n",
       "      <td>age_dup</td>\n",
       "      <td>124.0</td>\n",
       "      <td>0.0</td>\n",
       "      <td>0.0</td>\n",
       "    </tr>\n",
       "  </tbody>\n",
       "</table>\n",
       "</div>\n",
       "</div>\n",
       "<div class=\"cas-output-area\"></div>\n",
       "<p class=\"cas-results-performance\"><small><span class=\"cas-elapsed\">elapsed 0.0795s</span> &#183; <span class=\"cas-user\">user 1.37s</span> &#183; <span class=\"cas-sys\">sys 1.58s</span> &#183; <span class=\"cas-memory\">mem 70.2MB</span></small></p>"
      ],
      "text/plain": [
       "[Distinct]\n",
       "\n",
       " Distinct Counts for RAND_RETAILDEMO\n",
       " \n",
       "     Column  NDistinct  NMiss  Trunc\n",
       " 0      age      124.0    0.0    0.0\n",
       " 1  age_dup      124.0    0.0    0.0\n",
       "\n",
       "+ Elapsed: 0.0795s, user: 1.37s, sys: 1.58s, mem: 70.2mb"
      ]
     },
     "execution_count": 12,
     "metadata": {},
     "output_type": "execute_result"
    }
   ],
   "source": [
    "retailTbl.distinct(inputs = ['age', 'age_dup'])"
   ]
  },
  {
   "cell_type": "code",
   "execution_count": 13,
   "metadata": {},
   "outputs": [
    {
     "data": {
      "text/plain": [
       "43.577     673447\n",
       "19.000       6996\n",
       "23.000       6944\n",
       "24.000       6941\n",
       "21.000       6882\n",
       "            ...  \n",
       "97.000         26\n",
       "98.000         25\n",
       "94.000         21\n",
       "105.000        20\n",
       "140.000        18\n",
       "Length: 124, dtype: int64"
      ]
     },
     "execution_count": 13,
     "metadata": {},
     "output_type": "execute_result"
    }
   ],
   "source": [
    "(retailTbl\n",
    " .age_dup\n",
    " .value_counts()\n",
    ")"
   ]
  },
  {
   "cell_type": "markdown",
   "metadata": {},
   "source": [
    "## Save the CAS table as a data source file"
   ]
  },
  {
   "cell_type": "code",
   "execution_count": 14,
   "metadata": {},
   "outputs": [
    {
     "name": "stdout",
     "output_type": "stream",
     "text": [
      "NOTE: Cloud Analytic Services saved the file retail_clean.parquet in caslib CASUSER(Peter.Styliadis@sas.com).\n"
     ]
    },
    {
     "data": {
      "text/html": [
       "<div class=\"cas-results-key\"><b>&#167; caslib</b></div>\n",
       "<div class=\"cas-results-body\">\n",
       "<div>CASUSER(Peter.Styliadis@sas.com)</div>\n",
       "</div>\n",
       "<div class=\"cas-results-key\"><hr/><b>&#167; name</b></div>\n",
       "<div class=\"cas-results-body\">\n",
       "<div>retail_clean.parquet</div>\n",
       "</div>\n",
       "<div class=\"cas-output-area\"></div>\n",
       "<p class=\"cas-results-performance\"><small><span class=\"cas-elapsed\">elapsed 0.333s</span> &#183; <span class=\"cas-user\">user 1.47s</span> &#183; <span class=\"cas-sys\">sys 0.278s</span> &#183; <span class=\"cas-memory\">mem 1.15e+03MB</span></small></p>"
      ],
      "text/plain": [
       "[caslib]\n",
       "\n",
       " 'CASUSER(Peter.Styliadis@sas.com)'\n",
       "\n",
       "[name]\n",
       "\n",
       " 'retail_clean.parquet'\n",
       "\n",
       "+ Elapsed: 0.333s, user: 1.47s, sys: 0.278s, mem: 1.15e+03mb"
      ]
     },
     "execution_count": 14,
     "metadata": {},
     "output_type": "execute_result"
    }
   ],
   "source": [
    "retailTbl.save(name = 'retail_clean.parquet', caslib = 'casuser')"
   ]
  },
  {
   "cell_type": "markdown",
   "metadata": {},
   "source": [
    "## Delete the source file"
   ]
  },
  {
   "cell_type": "code",
   "execution_count": 15,
   "metadata": {},
   "outputs": [
    {
     "name": "stdout",
     "output_type": "stream",
     "text": [
      "NOTE: Cloud Analytic Services removed the source data retail_clean.parquet from caslib CASUSER(Peter.Styliadis@sas.com).\n"
     ]
    },
    {
     "data": {
      "text/html": [
       "<div class=\"cas-output-area\"></div>\n",
       "<p class=\"cas-results-performance\"><small><span class=\"cas-elapsed\">elapsed 0.0296s</span> &#183; <span class=\"cas-user\">user 0.013s</span> &#183; <span class=\"cas-sys\">sys 0.0127s</span> &#183; <span class=\"cas-memory\">mem 1.39MB</span></small></p>"
      ],
      "text/plain": [
       "+ Elapsed: 0.0296s, user: 0.013s, sys: 0.0127s, mem: 1.39mb"
      ]
     },
     "execution_count": 15,
     "metadata": {},
     "output_type": "execute_result"
    }
   ],
   "source": [
    "conn.deleteSource(source = 'retail_clean.parquet', caslib = 'casuser')"
   ]
  },
  {
   "cell_type": "markdown",
   "metadata": {},
   "source": [
    "## Terminate the CAS connection"
   ]
  },
  {
   "cell_type": "code",
   "execution_count": 16,
   "metadata": {},
   "outputs": [],
   "source": [
    "conn.terminate()"
   ]
  },
  {
   "cell_type": "markdown",
   "metadata": {},
   "source": [
    " "
   ]
  }
 ],
 "metadata": {
  "kernelspec": {
   "display_name": "Python 3 (ipykernel)",
   "language": "python",
   "name": "python3"
  },
  "language_info": {
   "codemirror_mode": {
    "name": "ipython",
    "version": 3
   },
   "file_extension": ".py",
   "mimetype": "text/x-python",
   "name": "python",
   "nbconvert_exporter": "python",
   "pygments_lexer": "ipython3",
   "version": "3.8.16"
  }
 },
 "nbformat": 4,
 "nbformat_minor": 4
}
