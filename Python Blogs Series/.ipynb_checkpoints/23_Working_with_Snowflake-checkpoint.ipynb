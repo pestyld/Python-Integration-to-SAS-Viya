{
 "cells": [
  {
   "cell_type": "markdown",
   "id": "85e29674-ef26-4cf8-b188-e1dde438ebc9",
   "metadata": {},
   "source": [
    "# Working with Snowflake"
   ]
  },
  {
   "cell_type": "code",
   "execution_count": 90,
   "id": "d02dc7f4-5fed-4273-a6d5-b4fb3d0cd5bc",
   "metadata": {
    "tags": []
   },
   "outputs": [
    {
     "name": "stdout",
     "output_type": "stream",
     "text": [
      "Imported personal custom CAS auth package\n",
      "Python version:3.11.5 \n",
      "swat version:1.13.3\n",
      "pandas version:2.1.4\n",
      "numpy version:1.26.4\n"
     ]
    }
   ],
   "source": [
    "## Packages\n",
    "import swat\n",
    "import sys\n",
    "import os\n",
    "import pandas as pd\n",
    "import numpy as np\n",
    "import json\n",
    "\n",
    "\n",
    "## Options\n",
    "pd.set_option('display.max_columns', 50)\n",
    "pd.set_option('display.max_colwidth', None)\n",
    "\n",
    "## My custom connection package for CAS\n",
    "try:\n",
    "    from casauth import CASAuth\n",
    "    print('Imported personal custom CAS auth package')\n",
    "except:\n",
    "    print('casauth package not available')\n",
    "\n",
    "    \n",
    "## View versions of packages\n",
    "print(f'Python version:{sys.version.split(\"|\")[0]}')\n",
    "print(f'swat version:{swat.__version__}')\n",
    "print(f'pandas version:{pd.__version__}')\n",
    "print(f'numpy version:{np.__version__}')"
   ]
  },
  {
   "cell_type": "markdown",
   "id": "d98577de-8a93-421c-a874-a0b2895caf72",
   "metadata": {},
   "source": [
    "## Connect to CAS\n",
    "My personal CAS connection information."
   ]
  },
  {
   "cell_type": "code",
   "execution_count": 91,
   "id": "90f0f6d4-57e3-473d-b4a9-799fd7b247da",
   "metadata": {
    "tags": []
   },
   "outputs": [
    {
     "name": "stdout",
     "output_type": "stream",
     "text": [
      "CAS Connection created\n"
     ]
    }
   ],
   "source": [
    "###################################################\n",
    "## My Personal connection using a custom package ##\n",
    "###################################################\n",
    "path = os.getenv('CAS_CREDENTIALS')\n",
    "pem_file = os.getenv('CAS_CLIENT_SSL_CA_LIST')\n",
    "\n",
    "conn = CASAuth(path, ssl_ca_list = pem_file)\n",
    "\n",
    "################################\n",
    "## General connection syntax  ##\n",
    "################################\n",
    "# conn = swat.CAS(host, port, username, password)\n",
    "\n",
    "##########################################\n",
    "## SAS Viya for Learners 3.5 connection ##\n",
    "##########################################\n",
    "# hostValue = os.environ.get('CASHOST')\n",
    "# portValue = os.environ.get('CASPORT')\n",
    "# passwordToken=os.environ.get('SAS_VIYA_TOKEN')\n",
    "# conn = swat.CAS(hostname=hostValue, port=portValue, password=passwordToken)"
   ]
  },
  {
   "cell_type": "markdown",
   "id": "3ee9c2c5-52db-46c9-8c42-4690fe5ad381",
   "metadata": {
    "tags": []
   },
   "source": [
    "Current version of SAS Viya."
   ]
  },
  {
   "cell_type": "code",
   "execution_count": 92,
   "id": "e61a9b9f-71b0-4530-8ef2-8edcbfe213ba",
   "metadata": {
    "tags": []
   },
   "outputs": [
    {
     "name": "stdout",
     "output_type": "stream",
     "text": [
      "NOTE: Grid node action status report: 5 nodes, 9 total actions executed.\n"
     ]
    },
    {
     "data": {
      "text/plain": [
       "'Stable 2024.01'"
      ]
     },
     "execution_count": 92,
     "metadata": {},
     "output_type": "execute_result"
    }
   ],
   "source": [
    "conn.about()['About']['Viya Version']"
   ]
  },
  {
   "cell_type": "markdown",
   "id": "d8c81691-f87f-45fa-8311-1715e6d8e05d",
   "metadata": {},
   "source": [
    "## Connect to Snowflake\n",
    "Connect to my trial Snowflake environment. I'm using a simple username and password to connect to Snowflake and have stored all of my information in a JSON file. **Please follow any company guidelines to connect to your production Snowflake environment.**\n",
    "\n",
    "My JSON file template:\n",
    "\n",
    "{\n",
    "\n",
    "    \"server\"  : \"<your account>.snowflakecomputing.com\",\n",
    "    \"userName\": \"user-name\",\n",
    "    \"password\": \"password\"\n",
    "}\n",
    "\n",
    "For more information about connecting to a Snowflake database:\n",
    "- [SAS Viya Best practices with Snowflake Data](https://video.sas.com/detail/video/6312274491112/sas-viya-best-practices-with-snowflake-data)\n",
    "- [Documentation - Snowflake Data Connector](https://go.documentation.sas.com/doc/en/pgmsascdc/default/casref/p183rli8obtde3n10y9bzbrpwnsh.htm)"
   ]
  },
  {
   "cell_type": "code",
   "execution_count": 94,
   "id": "c5bfc7e4-c3f1-4a95-8d20-fee1974ea775",
   "metadata": {
    "tags": []
   },
   "outputs": [
    {
     "name": "stdout",
     "output_type": "stream",
     "text": [
      "ERROR: Duplicate Caslib\n",
      "ERROR: Could not add caslib 'my_snow_db'. Make sure that the caslib does not already exist and that you have permissions to add caslibs to Cloud Analytic Services.\n",
      "ERROR: The action stopped due to errors.\n"
     ]
    }
   ],
   "source": [
    "## Get my Snowflake connection information from my JSON file\n",
    "my_json_file = open(os.getenv('CAS_CREDENTIALS') + '\\snowflake_creds.json')\n",
    "snow_creds = json.load(my_json_file)\n",
    "\n",
    "## Create a caslib to Snowflake using my specified connection information\n",
    "cr = conn.addcaslib(name = 'my_snow_db',\n",
    "                    datasource = dict(\n",
    "                        srctype = 'snowflake',\n",
    "                        server = snow_creds['account_url'],     \n",
    "                        userName = snow_creds['userName'],\n",
    "                        password = snow_creds['password'],\n",
    "                        database = \"SNOWFLAKE_SAMPLE_DATA\", \n",
    "                        schema = \"TPCH_SF10\"\n",
    "                    )\n",
    "              )"
   ]
  },
  {
   "cell_type": "markdown",
   "id": "51ef2bf3-8299-4a7d-93ba-2084f0ebc70d",
   "metadata": {},
   "source": [
    "View available tables in Snowflake."
   ]
  },
  {
   "cell_type": "code",
   "execution_count": 95,
   "id": "1e6d6e20-0aa0-4b1d-a53c-78135a6c53ea",
   "metadata": {
    "tags": []
   },
   "outputs": [
    {
     "data": {
      "text/html": [
       "<div class=\"cas-results-key\"><b>&#167; FileInfo</b></div>\n",
       "<div class=\"cas-results-body\">\n",
       "<div>\n",
       "<style scoped>\n",
       "    .dataframe tbody tr th:only-of-type {\n",
       "        vertical-align: middle;\n",
       "    }\n",
       "\n",
       "    .dataframe tbody tr th {\n",
       "        vertical-align: top;\n",
       "    }\n",
       "\n",
       "    .dataframe thead th {\n",
       "        text-align: right;\n",
       "    }\n",
       "</style>\n",
       "<table border=\"1\" class=\"dataframe\"><caption>Available Data Source Entities</caption>\n",
       "  <thead>\n",
       "    <tr style=\"text-align: right;\">\n",
       "      <th title=\"\"></th>\n",
       "      <th title=\"Catalog\">Catalog</th>\n",
       "      <th title=\"Schema\">Schema</th>\n",
       "      <th title=\"Name\">Name</th>\n",
       "      <th title=\"Type\">Type</th>\n",
       "      <th title=\"Description\">Description</th>\n",
       "    </tr>\n",
       "  </thead>\n",
       "  <tbody>\n",
       "    <tr>\n",
       "      <td>0</td>\n",
       "      <td>SNOWFLAKE_SAMPLE_DATA</td>\n",
       "      <td>TPCH_SF10</td>\n",
       "      <td>CUSTOMER</td>\n",
       "      <td>TABLE</td>\n",
       "      <td>Customer data as defined by TPC-H</td>\n",
       "    </tr>\n",
       "    <tr>\n",
       "      <td>1</td>\n",
       "      <td>SNOWFLAKE_SAMPLE_DATA</td>\n",
       "      <td>TPCH_SF10</td>\n",
       "      <td>LINEITEM</td>\n",
       "      <td>TABLE</td>\n",
       "      <td>Lineitem data as defined by TPC-H</td>\n",
       "    </tr>\n",
       "    <tr>\n",
       "      <td>2</td>\n",
       "      <td>SNOWFLAKE_SAMPLE_DATA</td>\n",
       "      <td>TPCH_SF10</td>\n",
       "      <td>NATION</td>\n",
       "      <td>TABLE</td>\n",
       "      <td>Nation data as defined by TPC-H</td>\n",
       "    </tr>\n",
       "    <tr>\n",
       "      <td>3</td>\n",
       "      <td>SNOWFLAKE_SAMPLE_DATA</td>\n",
       "      <td>TPCH_SF10</td>\n",
       "      <td>ORDERS</td>\n",
       "      <td>TABLE</td>\n",
       "      <td>Orders data as defined by TPC-H</td>\n",
       "    </tr>\n",
       "    <tr>\n",
       "      <td>4</td>\n",
       "      <td>SNOWFLAKE_SAMPLE_DATA</td>\n",
       "      <td>TPCH_SF10</td>\n",
       "      <td>PART</td>\n",
       "      <td>TABLE</td>\n",
       "      <td>Part data as defined by TPC-H</td>\n",
       "    </tr>\n",
       "    <tr>\n",
       "      <td>5</td>\n",
       "      <td>SNOWFLAKE_SAMPLE_DATA</td>\n",
       "      <td>TPCH_SF10</td>\n",
       "      <td>PARTSUPP</td>\n",
       "      <td>TABLE</td>\n",
       "      <td>Partsupp data as defined by TPC-H</td>\n",
       "    </tr>\n",
       "    <tr>\n",
       "      <td>6</td>\n",
       "      <td>SNOWFLAKE_SAMPLE_DATA</td>\n",
       "      <td>TPCH_SF10</td>\n",
       "      <td>REGION</td>\n",
       "      <td>TABLE</td>\n",
       "      <td>Region data as defined by TPC-H</td>\n",
       "    </tr>\n",
       "    <tr>\n",
       "      <td>7</td>\n",
       "      <td>SNOWFLAKE_SAMPLE_DATA</td>\n",
       "      <td>TPCH_SF10</td>\n",
       "      <td>SUPPLIER</td>\n",
       "      <td>TABLE</td>\n",
       "      <td>Supplier data as defined by TPC-H</td>\n",
       "    </tr>\n",
       "  </tbody>\n",
       "</table>\n",
       "</div>\n",
       "</div>\n",
       "<div class=\"cas-output-area\"></div>\n",
       "<p class=\"cas-results-performance\"><small><span class=\"cas-elapsed\">elapsed 5.67s</span> &#183; <span class=\"cas-user\">user 0.15s</span> &#183; <span class=\"cas-sys\">sys 0.0592s</span> &#183; <span class=\"cas-memory\">mem 2.15MB</span></small></p>"
      ],
      "text/plain": [
       "[FileInfo]\n",
       "\n",
       " Available Data Source Entities\n",
       " \n",
       "                  Catalog     Schema      Name   Type                        Description\n",
       " 0  SNOWFLAKE_SAMPLE_DATA  TPCH_SF10  CUSTOMER  TABLE  Customer data as defined by TPC-H\n",
       " 1  SNOWFLAKE_SAMPLE_DATA  TPCH_SF10  LINEITEM  TABLE  Lineitem data as defined by TPC-H\n",
       " 2  SNOWFLAKE_SAMPLE_DATA  TPCH_SF10    NATION  TABLE    Nation data as defined by TPC-H\n",
       " 3  SNOWFLAKE_SAMPLE_DATA  TPCH_SF10    ORDERS  TABLE    Orders data as defined by TPC-H\n",
       " 4  SNOWFLAKE_SAMPLE_DATA  TPCH_SF10      PART  TABLE      Part data as defined by TPC-H\n",
       " 5  SNOWFLAKE_SAMPLE_DATA  TPCH_SF10  PARTSUPP  TABLE  Partsupp data as defined by TPC-H\n",
       " 6  SNOWFLAKE_SAMPLE_DATA  TPCH_SF10    REGION  TABLE    Region data as defined by TPC-H\n",
       " 7  SNOWFLAKE_SAMPLE_DATA  TPCH_SF10  SUPPLIER  TABLE  Supplier data as defined by TPC-H\n",
       "\n",
       "+ Elapsed: 5.67s, user: 0.15s, sys: 0.0592s, mem: 2.15mb"
      ]
     },
     "execution_count": 95,
     "metadata": {},
     "output_type": "execute_result"
    }
   ],
   "source": [
    "conn.fileInfo(caslib = 'my_snow_db')"
   ]
  },
  {
   "cell_type": "markdown",
   "id": "1b522ca6-193b-4abb-a447-986d5c9c13a8",
   "metadata": {},
   "source": [
    "View available in-memory CAS tables in the **my_snow_db** caslib (should be none since we haven't loaded anything into memory on the CAS server)."
   ]
  },
  {
   "cell_type": "code",
   "execution_count": 96,
   "id": "3c344411-0915-4277-9cad-4d01cbf8ca25",
   "metadata": {
    "tags": []
   },
   "outputs": [
    {
     "name": "stdout",
     "output_type": "stream",
     "text": [
      "NOTE: No tables are available in caslib my_snow_db of Cloud Analytic Services.\n"
     ]
    },
    {
     "data": {
      "text/html": [
       "<div class=\"cas-output-area\"></div>\n",
       "<p class=\"cas-results-performance\"><small><span class=\"cas-elapsed\">elapsed 0.00922s</span> &#183; <span class=\"cas-user\">user 0.00493s</span> &#183; <span class=\"cas-sys\">sys 0.00906s</span> &#183; <span class=\"cas-memory\">mem 1.42MB</span></small></p>"
      ],
      "text/plain": [
       "+ Elapsed: 0.00922s, user: 0.00493s, sys: 0.00906s, mem: 1.42mb"
      ]
     },
     "execution_count": 96,
     "metadata": {},
     "output_type": "execute_result"
    }
   ],
   "source": [
    "conn.tableInfo(caslib = 'my_snow_db')"
   ]
  },
  {
   "cell_type": "markdown",
   "id": "4456933f-a258-4e1a-923a-379d2b7edb1c",
   "metadata": {},
   "source": [
    "## Executing SQL Queries with Snowflake"
   ]
  },
  {
   "cell_type": "markdown",
   "id": "5d156e27-5db9-4825-b809-5e534d913d47",
   "metadata": {},
   "source": [
    "Load the [fedSQL action set](https://go.documentation.sas.com/doc/en/pgmsascdc/default/caspg/cas-fedsql-TblOfActions.htm?fromDefault=)."
   ]
  },
  {
   "cell_type": "code",
   "execution_count": 97,
   "id": "f7d4db9d-4349-451b-95e6-f9032a5b594a",
   "metadata": {
    "tags": []
   },
   "outputs": [
    {
     "name": "stdout",
     "output_type": "stream",
     "text": [
      "NOTE: Added action set 'fedSQL'.\n"
     ]
    },
    {
     "data": {
      "text/html": [
       "<div class=\"cas-results-key\"><b>&#167; actionset</b></div>\n",
       "<div class=\"cas-results-body\">\n",
       "<div>fedSQL</div>\n",
       "</div>\n",
       "<div class=\"cas-output-area\"></div>\n",
       "<p class=\"cas-results-performance\"><small><span class=\"cas-elapsed\">elapsed 0.0109s</span> &#183; <span class=\"cas-sys\">sys 0.0223s</span> &#183; <span class=\"cas-memory\">mem 1.2MB</span></small></p>"
      ],
      "text/plain": [
       "[actionset]\n",
       "\n",
       " 'fedSQL'\n",
       "\n",
       "+ Elapsed: 0.0109s, sys: 0.0223s, mem: 1.2mb"
      ]
     },
     "execution_count": 97,
     "metadata": {},
     "output_type": "execute_result"
    }
   ],
   "source": [
    "conn.loadActionSet('fedSQL')"
   ]
  },
  {
   "cell_type": "markdown",
   "id": "83d7f307-9c9c-486f-bf1a-fabb56623a2f",
   "metadata": {},
   "source": [
    "### Writing FedSQL queries to Snowflake"
   ]
  },
  {
   "cell_type": "markdown",
   "id": "d58ed6e3-f195-42d0-8d68-b1a74163167d",
   "metadata": {
    "tags": []
   },
   "source": [
    "Execute a simple SQL query through the execDirect action. The method option prints a brief description of the FedSQL query plan. Notice that SAS will pass the ANSI SQL query to Snowflake for execution when possible."
   ]
  },
  {
   "cell_type": "code",
   "execution_count": 98,
   "id": "61b5cb5e-2890-4a62-8dd3-2c4d1b2eebc3",
   "metadata": {
    "tags": []
   },
   "outputs": [
    {
     "name": "stdout",
     "output_type": "stream",
     "text": [
      " \n",
      "Methods for full query plan\n",
      "----------------------------\n",
      "        Agg \n",
      "          SeqScan from my_snow_db.PART \n",
      " \n",
      "Offloaded SQL statement\n",
      "------------------------\n",
      " \n",
      "        select COUNT ( * )  as \"COUNT\" from \"SNOWFLAKE_SAMPLE_DATA\".\"TPCH_SF10\".\"PART\"\n",
      " \n",
      "NOTE: The SQL statement was fully offloaded to the underlying data source via full pass-through\n"
     ]
    },
    {
     "data": {
      "text/html": [
       "<div class=\"cas-results-key\"><b>&#167; Result Set</b></div>\n",
       "<div class=\"cas-results-body\">\n",
       "<div>\n",
       "<style scoped>\n",
       "    .dataframe tbody tr th:only-of-type {\n",
       "        vertical-align: middle;\n",
       "    }\n",
       "\n",
       "    .dataframe tbody tr th {\n",
       "        vertical-align: top;\n",
       "    }\n",
       "\n",
       "    .dataframe thead th {\n",
       "        text-align: right;\n",
       "    }\n",
       "</style>\n",
       "<table border=\"1\" class=\"dataframe\">\n",
       "  <thead>\n",
       "    <tr style=\"text-align: right;\">\n",
       "      <th title=\"\"></th>\n",
       "      <th title=\"COUNT\">COUNT</th>\n",
       "    </tr>\n",
       "  </thead>\n",
       "  <tbody>\n",
       "    <tr>\n",
       "      <td>0</td>\n",
       "      <td>2000000.0</td>\n",
       "    </tr>\n",
       "  </tbody>\n",
       "</table>\n",
       "</div>\n",
       "</div>\n",
       "<div class=\"cas-output-area\"></div>\n",
       "<p class=\"cas-results-performance\"><small><span class=\"cas-elapsed\">elapsed 4.13s</span> &#183; <span class=\"cas-user\">user 0.446s</span> &#183; <span class=\"cas-sys\">sys 0.182s</span> &#183; <span class=\"cas-memory\">mem 19.4MB</span></small></p>"
      ],
      "text/plain": [
       "[Result Set]\n",
       "\n",
       "        COUNT\n",
       " 0  2000000.0\n",
       "\n",
       "+ Elapsed: 4.13s, user: 0.446s, sys: 0.182s, mem: 19.4mb"
      ]
     },
     "execution_count": 98,
     "metadata": {},
     "output_type": "execute_result"
    }
   ],
   "source": [
    "totalRows = '''\n",
    "    SELECT count(*)\n",
    "    FROM my_snow_db.part\n",
    "'''\n",
    "\n",
    "conn.execDirect(query = totalRows, method = True)"
   ]
  },
  {
   "cell_type": "markdown",
   "id": "2b76bd0d-2f62-491f-96ac-88dbd0367aae",
   "metadata": {},
   "source": [
    "Execute a FedSQL group by query."
   ]
  },
  {
   "cell_type": "code",
   "execution_count": 99,
   "id": "91cc86cd-9a92-4d1f-80d4-6faca44f19c3",
   "metadata": {
    "tags": []
   },
   "outputs": [
    {
     "name": "stdout",
     "output_type": "stream",
     "text": [
      " \n",
      "Methods for full query plan\n",
      "----------------------------\n",
      "        Agg \n",
      "          Sort \n",
      "            SeqScan from my_snow_db.PART \n",
      " \n",
      "Offloaded SQL statement\n",
      "------------------------\n",
      " \n",
      "        select \"SNOWFLAKE_SAMPLE_DATA\".\"TPCH_SF10\".\"PART\".\"P_MFGR\", COUNT ( * )  as \"COUNT\" from \"SNOWFLAKE_SAMPLE_DATA\".\"TPCH_SF10\".\"PART\" group by \"SNOWFLAKE_SAMPLE_DATA\".\"TPCH_SF10\".\"PART\".\"P_MFGR\"\n",
      " \n",
      "NOTE: The SQL statement was fully offloaded to the underlying data source via full pass-through\n"
     ]
    },
    {
     "data": {
      "text/html": [
       "<div class=\"cas-results-key\"><b>&#167; Result Set</b></div>\n",
       "<div class=\"cas-results-body\">\n",
       "<div>\n",
       "<style scoped>\n",
       "    .dataframe tbody tr th:only-of-type {\n",
       "        vertical-align: middle;\n",
       "    }\n",
       "\n",
       "    .dataframe tbody tr th {\n",
       "        vertical-align: top;\n",
       "    }\n",
       "\n",
       "    .dataframe thead th {\n",
       "        text-align: right;\n",
       "    }\n",
       "</style>\n",
       "<table border=\"1\" class=\"dataframe\">\n",
       "  <thead>\n",
       "    <tr style=\"text-align: right;\">\n",
       "      <th title=\"\"></th>\n",
       "      <th title=\"P_MFGR\">P_MFGR</th>\n",
       "      <th title=\"COUNT\">COUNT</th>\n",
       "    </tr>\n",
       "  </thead>\n",
       "  <tbody>\n",
       "    <tr>\n",
       "      <td>0</td>\n",
       "      <td>Manufacturer#4</td>\n",
       "      <td>400154.0</td>\n",
       "    </tr>\n",
       "    <tr>\n",
       "      <td>1</td>\n",
       "      <td>Manufacturer#1</td>\n",
       "      <td>399506.0</td>\n",
       "    </tr>\n",
       "    <tr>\n",
       "      <td>2</td>\n",
       "      <td>Manufacturer#2</td>\n",
       "      <td>399091.0</td>\n",
       "    </tr>\n",
       "    <tr>\n",
       "      <td>3</td>\n",
       "      <td>Manufacturer#3</td>\n",
       "      <td>400964.0</td>\n",
       "    </tr>\n",
       "    <tr>\n",
       "      <td>4</td>\n",
       "      <td>Manufacturer#5</td>\n",
       "      <td>400285.0</td>\n",
       "    </tr>\n",
       "  </tbody>\n",
       "</table>\n",
       "</div>\n",
       "</div>\n",
       "<div class=\"cas-output-area\"></div>\n",
       "<p class=\"cas-results-performance\"><small><span class=\"cas-elapsed\">elapsed 3.27s</span> &#183; <span class=\"cas-user\">user 0.212s</span> &#183; <span class=\"cas-sys\">sys 0.0601s</span> &#183; <span class=\"cas-memory\">mem 12MB</span></small></p>"
      ],
      "text/plain": [
       "[Result Set]\n",
       "\n",
       "            P_MFGR     COUNT\n",
       " 0  Manufacturer#4  400154.0\n",
       " 1  Manufacturer#1  399506.0\n",
       " 2  Manufacturer#2  399091.0\n",
       " 3  Manufacturer#3  400964.0\n",
       " 4  Manufacturer#5  400285.0\n",
       "\n",
       "+ Elapsed: 3.27s, user: 0.212s, sys: 0.0601s, mem: 12mb"
      ]
     },
     "execution_count": 99,
     "metadata": {},
     "output_type": "execute_result"
    }
   ],
   "source": [
    "group_p_mfgr = '''\n",
    "    SELECT P_MFGR, count(*)\n",
    "    FROM MY_SNOW_DB.PART\n",
    "    GROUP BY P_MFGR\n",
    "'''\n",
    "conn.execDirect(query = group_p_mfgr, method = True)"
   ]
  },
  {
   "cell_type": "markdown",
   "id": "93b2babc-b31b-4be0-b7e4-ada4ff4757de",
   "metadata": {},
   "source": [
    "### Writing native Snowflake SQL (Explicit pass-through)\n",
    "\n",
    "You can use SAS explicit pass through to execute native Snowflake SQL, pushing all of the processing into Snowflake, and only returning the smaller results back.\n",
    "\n",
    "I'll first run the fileInfo action again to view the available tables in the database. You will see the actual database table name (SNOWFLAKE_SAMPLE_DATA), the schema (TPCH_SF10), and all of the available tables."
   ]
  },
  {
   "cell_type": "code",
   "execution_count": 87,
   "id": "551a3577-9ed1-4e60-bfa7-e4cc1bacbd9b",
   "metadata": {
    "tags": []
   },
   "outputs": [
    {
     "data": {
      "text/html": [
       "<div class=\"cas-results-key\"><b>&#167; FileInfo</b></div>\n",
       "<div class=\"cas-results-body\">\n",
       "<div>\n",
       "<style scoped>\n",
       "    .dataframe tbody tr th:only-of-type {\n",
       "        vertical-align: middle;\n",
       "    }\n",
       "\n",
       "    .dataframe tbody tr th {\n",
       "        vertical-align: top;\n",
       "    }\n",
       "\n",
       "    .dataframe thead th {\n",
       "        text-align: right;\n",
       "    }\n",
       "</style>\n",
       "<table border=\"1\" class=\"dataframe\"><caption>Available Data Source Entities</caption>\n",
       "  <thead>\n",
       "    <tr style=\"text-align: right;\">\n",
       "      <th title=\"\"></th>\n",
       "      <th title=\"Catalog\">Catalog</th>\n",
       "      <th title=\"Schema\">Schema</th>\n",
       "      <th title=\"Name\">Name</th>\n",
       "      <th title=\"Type\">Type</th>\n",
       "      <th title=\"Description\">Description</th>\n",
       "    </tr>\n",
       "  </thead>\n",
       "  <tbody>\n",
       "    <tr>\n",
       "      <td>0</td>\n",
       "      <td>SNOWFLAKE_SAMPLE_DATA</td>\n",
       "      <td>TPCH_SF10</td>\n",
       "      <td>CUSTOMER</td>\n",
       "      <td>TABLE</td>\n",
       "      <td>Customer data as defined by TPC-H</td>\n",
       "    </tr>\n",
       "    <tr>\n",
       "      <td>1</td>\n",
       "      <td>SNOWFLAKE_SAMPLE_DATA</td>\n",
       "      <td>TPCH_SF10</td>\n",
       "      <td>LINEITEM</td>\n",
       "      <td>TABLE</td>\n",
       "      <td>Lineitem data as defined by TPC-H</td>\n",
       "    </tr>\n",
       "    <tr>\n",
       "      <td>2</td>\n",
       "      <td>SNOWFLAKE_SAMPLE_DATA</td>\n",
       "      <td>TPCH_SF10</td>\n",
       "      <td>NATION</td>\n",
       "      <td>TABLE</td>\n",
       "      <td>Nation data as defined by TPC-H</td>\n",
       "    </tr>\n",
       "    <tr>\n",
       "      <td>3</td>\n",
       "      <td>SNOWFLAKE_SAMPLE_DATA</td>\n",
       "      <td>TPCH_SF10</td>\n",
       "      <td>ORDERS</td>\n",
       "      <td>TABLE</td>\n",
       "      <td>Orders data as defined by TPC-H</td>\n",
       "    </tr>\n",
       "    <tr>\n",
       "      <td>4</td>\n",
       "      <td>SNOWFLAKE_SAMPLE_DATA</td>\n",
       "      <td>TPCH_SF10</td>\n",
       "      <td>PART</td>\n",
       "      <td>TABLE</td>\n",
       "      <td>Part data as defined by TPC-H</td>\n",
       "    </tr>\n",
       "    <tr>\n",
       "      <td>5</td>\n",
       "      <td>SNOWFLAKE_SAMPLE_DATA</td>\n",
       "      <td>TPCH_SF10</td>\n",
       "      <td>PARTSUPP</td>\n",
       "      <td>TABLE</td>\n",
       "      <td>Partsupp data as defined by TPC-H</td>\n",
       "    </tr>\n",
       "    <tr>\n",
       "      <td>6</td>\n",
       "      <td>SNOWFLAKE_SAMPLE_DATA</td>\n",
       "      <td>TPCH_SF10</td>\n",
       "      <td>REGION</td>\n",
       "      <td>TABLE</td>\n",
       "      <td>Region data as defined by TPC-H</td>\n",
       "    </tr>\n",
       "    <tr>\n",
       "      <td>7</td>\n",
       "      <td>SNOWFLAKE_SAMPLE_DATA</td>\n",
       "      <td>TPCH_SF10</td>\n",
       "      <td>SUPPLIER</td>\n",
       "      <td>TABLE</td>\n",
       "      <td>Supplier data as defined by TPC-H</td>\n",
       "    </tr>\n",
       "  </tbody>\n",
       "</table>\n",
       "</div>\n",
       "</div>\n",
       "<div class=\"cas-output-area\"></div>\n",
       "<p class=\"cas-results-performance\"><small><span class=\"cas-elapsed\">elapsed 3.35s</span> &#183; <span class=\"cas-user\">user 0.0512s</span> &#183; <span class=\"cas-sys\">sys 0.0149s</span> &#183; <span class=\"cas-memory\">mem 1.97MB</span></small></p>"
      ],
      "text/plain": [
       "[FileInfo]\n",
       "\n",
       " Available Data Source Entities\n",
       " \n",
       "                  Catalog     Schema      Name   Type                        Description\n",
       " 0  SNOWFLAKE_SAMPLE_DATA  TPCH_SF10  CUSTOMER  TABLE  Customer data as defined by TPC-H\n",
       " 1  SNOWFLAKE_SAMPLE_DATA  TPCH_SF10  LINEITEM  TABLE  Lineitem data as defined by TPC-H\n",
       " 2  SNOWFLAKE_SAMPLE_DATA  TPCH_SF10    NATION  TABLE    Nation data as defined by TPC-H\n",
       " 3  SNOWFLAKE_SAMPLE_DATA  TPCH_SF10    ORDERS  TABLE    Orders data as defined by TPC-H\n",
       " 4  SNOWFLAKE_SAMPLE_DATA  TPCH_SF10      PART  TABLE      Part data as defined by TPC-H\n",
       " 5  SNOWFLAKE_SAMPLE_DATA  TPCH_SF10  PARTSUPP  TABLE  Partsupp data as defined by TPC-H\n",
       " 6  SNOWFLAKE_SAMPLE_DATA  TPCH_SF10    REGION  TABLE    Region data as defined by TPC-H\n",
       " 7  SNOWFLAKE_SAMPLE_DATA  TPCH_SF10  SUPPLIER  TABLE  Supplier data as defined by TPC-H\n",
       "\n",
       "+ Elapsed: 3.35s, user: 0.0512s, sys: 0.0149s, mem: 1.97mb"
      ]
     },
     "execution_count": 87,
     "metadata": {},
     "output_type": "execute_result"
    }
   ],
   "source": [
    "conn.fileInfo(caslib = 'my_snow_db')"
   ]
  },
  {
   "cell_type": "markdown",
   "id": "82ccdd47-8f14-4406-bfe1-acc039af5644",
   "metadata": {},
   "source": [
    "What if a coworker uses Snowflake SQL, while you work within SAS Viya and the Python SWAT package. Your coworker has written a query for you and sent it your way to summarize the data. You want to run it through Viya to utilize the results for another process. What can you do? What if we just run the native Snowflake query? Let's try it.\n",
    "\n",
    "On the [Snowflake documentation](https://docs.snowflake.com/en/user-guide/sample-data-tpch) there is an example query. It answers the business question \"The Pricing Summary Report Query provides a summary pricing report for all line items shipped as of a given date. The date is within 60-120 days of the greatest ship date contained in the database.\". I'll run the query."
   ]
  },
  {
   "cell_type": "code",
   "execution_count": 88,
   "id": "7d03aeaa-d962-4a91-9103-6d10d72c4fd8",
   "metadata": {},
   "outputs": [
    {
     "name": "stdout",
     "output_type": "stream",
     "text": [
      "ERROR: Table \"SNOWFLAKE_SAMPLE_DATA.TPCH_SF10.LINEITEM\" does not exist or cannot be accessed\n",
      "ERROR: The action stopped due to errors.\n"
     ]
    },
    {
     "data": {
      "text/html": [
       "<div class=\"cas-output-area\"></div>\n",
       "<p class=\"cas-results-performance\"><small><span class=\"cas-elapsed\">elapsed 0.0188s</span> &#183; <span class=\"cas-user\">user 0.0202s</span> &#183; <span class=\"cas-sys\">sys 0.0203s</span> &#183; <span class=\"cas-memory\">mem 6.93MB</span></small></p>"
      ],
      "text/plain": [
       "+ Elapsed: 0.0188s, user: 0.0202s, sys: 0.0203s, mem: 6.93mb"
      ]
     },
     "execution_count": 88,
     "metadata": {},
     "output_type": "execute_result"
    }
   ],
   "source": [
    "snowflakeSQL = '''\n",
    "select\n",
    "       l_returnflag,\n",
    "       l_linestatus,\n",
    "       sum(l_quantity) as sum_qty,\n",
    "       sum(l_extendedprice) as sum_base_price,\n",
    "       sum(l_extendedprice * (1-l_discount)) as sum_disc_price,\n",
    "       sum(l_extendedprice * (1-l_discount) * (1+l_tax)) as sum_charge,\n",
    "       avg(l_quantity) as avg_qty,\n",
    "       avg(l_extendedprice) as avg_price,\n",
    "       avg(l_discount) as avg_disc,\n",
    "       count(*) as count_order\n",
    " from\n",
    "       SNOWFLAKE_SAMPLE_DATA.TPCH_SF10.LINEITEM\n",
    " where\n",
    "       l_shipdate <= dateadd(day, -90, to_date('1998-12-01'))\n",
    " group by\n",
    "       l_returnflag,\n",
    "       l_linestatus\n",
    " order by\n",
    "       l_returnflag,\n",
    "       l_linestatus;\n",
    "'''\n",
    "\n",
    "conn.execDirect(query = snowflakeSQL, method = True)"
   ]
  },
  {
   "cell_type": "markdown",
   "id": "ca737514-fc23-4c54-bff5-8dc7c173bbd5",
   "metadata": {},
   "source": [
    "Use explicit pass through to execute the native Snowflake SQL query."
   ]
  },
  {
   "cell_type": "code",
   "execution_count": 89,
   "id": "fda0daee-6381-4617-ae94-625f7378a204",
   "metadata": {},
   "outputs": [
    {
     "name": "stdout",
     "output_type": "stream",
     "text": [
      "WARNING: Multi-node read is not allowed with the FedSQL execDirect action. The load will proceed with numReadNodes=1.\n",
      " \n",
      "Methods for full query plan\n",
      "----------------------------\n",
      "        SeqScan from my_snow_db.__fedsql_cep_1__ \n",
      " \n",
      "Methods for stage 1\n",
      "--------------------\n",
      "        FedSQL did not generate a plan. Entire query can be pushed to driver.\n",
      " \n"
     ]
    },
    {
     "data": {
      "text/html": [
       "<div class=\"cas-results-key\"><b>&#167; Result Set</b></div>\n",
       "<div class=\"cas-results-body\">\n",
       "<div>\n",
       "<style scoped>\n",
       "    .dataframe tbody tr th:only-of-type {\n",
       "        vertical-align: middle;\n",
       "    }\n",
       "\n",
       "    .dataframe tbody tr th {\n",
       "        vertical-align: top;\n",
       "    }\n",
       "\n",
       "    .dataframe thead th {\n",
       "        text-align: right;\n",
       "    }\n",
       "</style>\n",
       "<table border=\"1\" class=\"dataframe\">\n",
       "  <thead>\n",
       "    <tr style=\"text-align: right;\">\n",
       "      <th title=\"\"></th>\n",
       "      <th title=\"L_RETURNFLAG\">L_RETURNFLAG</th>\n",
       "      <th title=\"L_LINESTATUS\">L_LINESTATUS</th>\n",
       "      <th title=\"SUM_QTY\">SUM_QTY</th>\n",
       "      <th title=\"SUM_BASE_PRICE\">SUM_BASE_PRICE</th>\n",
       "      <th title=\"SUM_DISC_PRICE\">SUM_DISC_PRICE</th>\n",
       "      <th title=\"SUM_CHARGE\">SUM_CHARGE</th>\n",
       "      <th title=\"AVG_QTY\">AVG_QTY</th>\n",
       "      <th title=\"AVG_PRICE\">AVG_PRICE</th>\n",
       "      <th title=\"AVG_DISC\">AVG_DISC</th>\n",
       "      <th title=\"COUNT_ORDER\">COUNT_ORDER</th>\n",
       "    </tr>\n",
       "  </thead>\n",
       "  <tbody>\n",
       "    <tr>\n",
       "      <td>0</td>\n",
       "      <td>A</td>\n",
       "      <td>F</td>\n",
       "      <td>377518399.0</td>\n",
       "      <td>5.660657e+11</td>\n",
       "      <td>5.377591e+11</td>\n",
       "      <td>5.592767e+11</td>\n",
       "      <td>25.500975</td>\n",
       "      <td>38237.151009</td>\n",
       "      <td>0.050007</td>\n",
       "      <td>14804077.0</td>\n",
       "    </tr>\n",
       "    <tr>\n",
       "      <td>1</td>\n",
       "      <td>N</td>\n",
       "      <td>F</td>\n",
       "      <td>9851614.0</td>\n",
       "      <td>1.476744e+10</td>\n",
       "      <td>1.402881e+10</td>\n",
       "      <td>1.459049e+10</td>\n",
       "      <td>25.522448</td>\n",
       "      <td>38257.810660</td>\n",
       "      <td>0.049973</td>\n",
       "      <td>385998.0</td>\n",
       "    </tr>\n",
       "    <tr>\n",
       "      <td>2</td>\n",
       "      <td>N</td>\n",
       "      <td>O</td>\n",
       "      <td>743124873.0</td>\n",
       "      <td>1.114302e+12</td>\n",
       "      <td>1.058581e+12</td>\n",
       "      <td>1.100937e+12</td>\n",
       "      <td>25.498076</td>\n",
       "      <td>38233.902923</td>\n",
       "      <td>0.050001</td>\n",
       "      <td>29144351.0</td>\n",
       "    </tr>\n",
       "    <tr>\n",
       "      <td>3</td>\n",
       "      <td>R</td>\n",
       "      <td>F</td>\n",
       "      <td>377732830.0</td>\n",
       "      <td>5.664311e+11</td>\n",
       "      <td>5.381109e+11</td>\n",
       "      <td>5.596348e+11</td>\n",
       "      <td>25.508385</td>\n",
       "      <td>38251.219274</td>\n",
       "      <td>0.049997</td>\n",
       "      <td>14808183.0</td>\n",
       "    </tr>\n",
       "  </tbody>\n",
       "</table>\n",
       "</div>\n",
       "</div>\n",
       "<div class=\"cas-output-area\"></div>\n",
       "<p class=\"cas-results-performance\"><small><span class=\"cas-elapsed\">elapsed 1.06s</span> &#183; <span class=\"cas-user\">user 0.341s</span> &#183; <span class=\"cas-sys\">sys 0.395s</span> &#183; <span class=\"cas-memory\">mem 180MB</span></small></p>"
      ],
      "text/plain": [
       "[Result Set]\n",
       "\n",
       "   L_RETURNFLAG L_LINESTATUS      SUM_QTY  SUM_BASE_PRICE  SUM_DISC_PRICE    SUM_CHARGE    AVG_QTY     AVG_PRICE  AVG_DISC  COUNT_ORDER\n",
       " 0            A            F  377518399.0    5.660657e+11    5.377591e+11  5.592767e+11  25.500975  38237.151009  0.050007   14804077.0\n",
       " 1            N            F    9851614.0    1.476744e+10    1.402881e+10  1.459049e+10  25.522448  38257.810660  0.049973     385998.0\n",
       " 2            N            O  743124873.0    1.114302e+12    1.058581e+12  1.100937e+12  25.498076  38233.902923  0.050001   29144351.0\n",
       " 3            R            F  377732830.0    5.664311e+11    5.381109e+11  5.596348e+11  25.508385  38251.219274  0.049997   14808183.0\n",
       "\n",
       "+ Elapsed: 1.06s, user: 0.341s, sys: 0.395s, mem: 180mb"
      ]
     },
     "execution_count": 89,
     "metadata": {},
     "output_type": "execute_result"
    }
   ],
   "source": [
    "snowflakeSQL = '''\n",
    "SELECT * FROM CONNECTION TO MY_SNOW_DB\n",
    "(select\n",
    "       l_returnflag,\n",
    "       l_linestatus,\n",
    "       sum(l_quantity) as sum_qty,\n",
    "       sum(l_extendedprice) as sum_base_price,\n",
    "       sum(l_extendedprice * (1-l_discount)) as sum_disc_price,\n",
    "       sum(l_extendedprice * (1-l_discount) * (1+l_tax)) as sum_charge,\n",
    "       avg(l_quantity) as avg_qty,\n",
    "       avg(l_extendedprice) as avg_price,\n",
    "       avg(l_discount) as avg_disc,\n",
    "       count(*) as count_order\n",
    " from\n",
    "       SNOWFLAKE_SAMPLE_DATA.TPCH_SF10.LINEITEM\n",
    " where\n",
    "       l_shipdate <= dateadd(day, -90, to_date('1998-12-01'))\n",
    " group by\n",
    "       l_returnflag,\n",
    "       l_linestatus\n",
    " order by\n",
    "       l_returnflag,\n",
    "       l_linestatus);\n",
    "'''\n",
    "\n",
    "conn.execDirect(query = snowflakeSQL, \n",
    "                method = True)"
   ]
  },
  {
   "cell_type": "markdown",
   "id": "a8db3a9f-b671-4387-8b68-6b096b50da76",
   "metadata": {},
   "source": [
    "### Forcing the SQL to run in Snowflake"
   ]
  },
  {
   "cell_type": "markdown",
   "id": "1e3b3673-63a8-4946-93cf-8b36812a563e",
   "metadata": {},
   "source": [
    "Execute another fedSQL query. Notice that again SAS temporarily loads the entire table into memory to process the query. Moving data from Snowflake back to SAS again can be time consuming for large data."
   ]
  },
  {
   "cell_type": "code",
   "execution_count": null,
   "id": "cbe96da5-780c-46dc-a899-232b4f156a20",
   "metadata": {},
   "outputs": [],
   "source": [
    "myQuery = '''\n",
    "    SELECT *\n",
    "    FROM MY_SNOW_DB.PART\n",
    "    LIMIT 10\n",
    "'''\n",
    "\n",
    "conn.execDirect(query = myQuery, method = True)"
   ]
  },
  {
   "cell_type": "code",
   "execution_count": null,
   "id": "ad33cfeb-0a7e-465a-ae31-4e561ee556bf",
   "metadata": {},
   "outputs": [],
   "source": [
    "myQuery = '''\n",
    "    SELECT *\n",
    "    FROM MY_SNOW_DB.PART\n",
    "    LIMIT 10\n",
    "'''\n",
    "\n",
    "conn.execDirect(query = myQuery, \n",
    "                method = True,\n",
    "                cntl={'requireFullPassThrough':True})"
   ]
  },
  {
   "cell_type": "code",
   "execution_count": null,
   "id": "7d4c2282-c8c4-48af-a716-8a4ca345ba36",
   "metadata": {},
   "outputs": [],
   "source": [
    "myQuery = '''\n",
    "    SELECT * FROM CONNECTION TO MY_SNOW_DB\n",
    "        (SELECT * exclude(P_COMMENT, P_NAME)\n",
    "         FROM SNOWFLAKE_SAMPLE_DATA.TPCH_SF10.PART\n",
    "         LIMIT 10)\n",
    "'''\n",
    "\n",
    "conn.execDirect(query = myQuery, \n",
    "                method = True)"
   ]
  },
  {
   "cell_type": "markdown",
   "id": "c13bb606-acce-4cdc-9933-fbe37bbee9f5",
   "metadata": {},
   "source": [
    "## Terminate the CAS session"
   ]
  },
  {
   "cell_type": "code",
   "execution_count": null,
   "id": "c6c76153-f474-4422-be9c-42c35f800dbf",
   "metadata": {
    "tags": []
   },
   "outputs": [],
   "source": [
    "conn.terminate()"
   ]
  },
  {
   "cell_type": "markdown",
   "id": "308e83fa-a293-4461-a315-bba982668a43",
   "metadata": {},
   "source": [
    "# Additional Resources\n",
    "\n",
    "- [Getting Started with Python Integration to SAS® Viya® - Index](https://blogs.sas.com/content/sgf/2020/06/19/getting-started-with-python-integration-to-sas-viya-index/)\n",
    "- [FedSQL Action Set: Syntax](https://go.documentation.sas.com/doc/en/pgmsascdc/default/caspg/cas-fedsql-TblOfActions.htm?fromDefault=)\n",
    "- [SAS Viya Best practices with Snowflake Data](https://video.sas.com/detail/video/6312274491112/sas-viya-best-practices-with-snowflake-data)\n",
    "- [Documentation - Snowflake Data Connector](https://go.documentation.sas.com/doc/en/pgmsascdc/default/casref/p183rli8obtde3n10y9bzbrpwnsh.htm)\n",
    "- [FedSQL Implicit Pass-Through Facility for CAS](https://communities.sas.com/t5/SAS-Communities-Library/FedSQL-Implicit-Pass-Through-Facility-for-CAS/ta-p/459556)\n",
    "- [Proc FedSQL and Multi-node load to CAS](https://communities.sas.com/t5/SAS-Communities-Library/Proc-FedSQL-and-Multi-node-load-to-CAS/ta-p/824773)"
   ]
  },
  {
   "cell_type": "markdown",
   "id": "a2e9cdcb-de9c-479d-a9b9-b830b59510e9",
   "metadata": {},
   "source": [
    "  "
   ]
  }
 ],
 "metadata": {
  "kernelspec": {
   "display_name": "Python 3 (ipykernel)",
   "language": "python",
   "name": "python3"
  },
  "language_info": {
   "codemirror_mode": {
    "name": "ipython",
    "version": 3
   },
   "file_extension": ".py",
   "mimetype": "text/x-python",
   "name": "python",
   "nbconvert_exporter": "python",
   "pygments_lexer": "ipython3",
   "version": "3.11.5"
  }
 },
 "nbformat": 4,
 "nbformat_minor": 5
}
