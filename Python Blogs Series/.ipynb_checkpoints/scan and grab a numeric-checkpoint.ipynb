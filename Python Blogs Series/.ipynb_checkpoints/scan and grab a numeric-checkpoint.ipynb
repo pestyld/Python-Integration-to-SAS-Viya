{
 "cells": [
  {
   "cell_type": "markdown",
   "metadata": {},
   "source": [
    "# Solve splitting problem"
   ]
  },
  {
   "cell_type": "code",
   "execution_count": 51,
   "metadata": {},
   "outputs": [
    {
     "name": "stdout",
     "output_type": "stream",
     "text": [
      "Imported personal custom CAS auth package\n"
     ]
    }
   ],
   "source": [
    "## Packages\n",
    "import swat\n",
    "import os\n",
    "import pandas as pd\n",
    "import numpy as np\n",
    "\n",
    "## Options\n",
    "pd.set_option('display.max_columns', 50)\n",
    "pd.set_option('display.max_colwidth', None)\n",
    "\n",
    "## My custom connection package for CAS\n",
    "try:\n",
    "    from casauth import CASAuth\n",
    "    print('Imported personal custom CAS auth package')\n",
    "except:\n",
    "    print('casauth package not available')"
   ]
  },
  {
   "cell_type": "markdown",
   "metadata": {},
   "source": [
    "## Make a Connection to CAS (REQUIRED: MODIFY CONNECTION INFORMATION)\n",
    "\n",
    "##### To connect to the CAS server you will need:\n",
    "1. the host name, \n",
    "2. the portnumber, \n",
    "3. your user name, and your password.\n",
    "\n",
    "Visit the documentation [Getting Started with SAS® Viya® for Python](https://go.documentation.sas.com/doc/en/pgmsascdc/default/caspg3/titlepage.htm) for more information about connecting to CAS.\n",
    "\n",
    "**Be aware that connecting to the CAS server can be implemented in various ways, so you might need to see your system administrator about how to make a connection. Please follow company policy regarding authentication.**"
   ]
  },
  {
   "cell_type": "code",
   "execution_count": 52,
   "metadata": {},
   "outputs": [
    {
     "name": "stdout",
     "output_type": "stream",
     "text": [
      "CAS Connection created\n"
     ]
    }
   ],
   "source": [
    "##\n",
    "## Connect to CAS\n",
    "##\n",
    "\n",
    "################################\n",
    "## General connection syntax  ##\n",
    "################################\n",
    "# conn = swat.CAS(host, port, username, password)\n",
    "\n",
    "############################################\n",
    "## SAS Viya for Learners 3.5 connection   ##\n",
    "############################################\n",
    "# hostValue = os.environ.get('CASHOST')\n",
    "# portValue = os.environ.get('CASPORT')\n",
    "# passwordToken=os.environ.get('SAS_VIYA_TOKEN')\n",
    "# conn = swat.CAS(hostname=hostValue, port=portValue, password=passwordToken)\n",
    "\n",
    "## My Personal connection\n",
    "try:\n",
    "    path = os.getenv('CAS_CREDENTIALS')\n",
    "    pem_file = os.getenv('CAS_CLIENT_SSL_CA_LIST')\n",
    "    conn = CASAuth(path, ssl_ca_list = pem_file)\n",
    "except:\n",
    "    print('No connection')\n",
    "    pass"
   ]
  },
  {
   "cell_type": "markdown",
   "metadata": {},
   "source": [
    "## Create fake data"
   ]
  },
  {
   "cell_type": "code",
   "execution_count": 53,
   "metadata": {},
   "outputs": [
    {
     "data": {
      "text/html": [
       "<div>\n",
       "<style scoped>\n",
       "    .dataframe tbody tr th:only-of-type {\n",
       "        vertical-align: middle;\n",
       "    }\n",
       "\n",
       "    .dataframe tbody tr th {\n",
       "        vertical-align: top;\n",
       "    }\n",
       "\n",
       "    .dataframe thead th {\n",
       "        text-align: right;\n",
       "    }\n",
       "</style>\n",
       "<table border=\"1\" class=\"dataframe\">\n",
       "  <thead>\n",
       "    <tr style=\"text-align: right;\">\n",
       "      <th></th>\n",
       "      <th>column_A</th>\n",
       "    </tr>\n",
       "  </thead>\n",
       "  <tbody>\n",
       "    <tr>\n",
       "      <th>0</th>\n",
       "      <td>Tot Amt = USD 2; Tot Count = 5; Min Amt = 0; Min Count = 3</td>\n",
       "    </tr>\n",
       "    <tr>\n",
       "      <th>1</th>\n",
       "      <td>Tot Amt = USD 3; Tot Count = 6; Min Amt = 1; Min Count = 4</td>\n",
       "    </tr>\n",
       "    <tr>\n",
       "      <th>2</th>\n",
       "      <td>Tot Amt = USD 4; Tot Count = 7; Min Amt = 2; Min Count = 5</td>\n",
       "    </tr>\n",
       "    <tr>\n",
       "      <th>3</th>\n",
       "      <td>Tot Amt = USD 25; Tot Count = 101; Min Amt = 85; Min Count = 49</td>\n",
       "    </tr>\n",
       "  </tbody>\n",
       "</table>\n",
       "</div>"
      ],
      "text/plain": [
       "                                                          column_A\n",
       "0       Tot Amt = USD 2; Tot Count = 5; Min Amt = 0; Min Count = 3\n",
       "1       Tot Amt = USD 3; Tot Count = 6; Min Amt = 1; Min Count = 4\n",
       "2       Tot Amt = USD 4; Tot Count = 7; Min Amt = 2; Min Count = 5\n",
       "3  Tot Amt = USD 25; Tot Count = 101; Min Amt = 85; Min Count = 49"
      ]
     },
     "execution_count": 53,
     "metadata": {},
     "output_type": "execute_result"
    }
   ],
   "source": [
    "raw_table = pd.DataFrame([\"Tot Amt = USD 2; Tot Count = 5; Min Amt = 0; Min Count = 3\", \n",
    "                          \"Tot Amt = USD 3; Tot Count = 6; Min Amt = 1; Min Count = 4\", \n",
    "                          \"Tot Amt = USD 4; Tot Count = 7; Min Amt = 2; Min Count = 5\",\n",
    "                          \"Tot Amt = USD 25; Tot Count = 101; Min Amt = 85; Min Count = 49\"], \n",
    "             columns=[\"column_A\"])\n",
    "raw_table"
   ]
  },
  {
   "cell_type": "code",
   "execution_count": 54,
   "metadata": {},
   "outputs": [
    {
     "name": "stdout",
     "output_type": "stream",
     "text": [
      "NOTE: Cloud Analytic Services made the uploaded file available as table RAW_TABLE in caslib CASUSER(Peter.Styliadis@sas.com).\n",
      "NOTE: The table RAW_TABLE has been created in caslib CASUSER(Peter.Styliadis@sas.com) from binary data uploaded to Cloud Analytic Services.\n"
     ]
    },
    {
     "data": {
      "text/html": [
       "<div class=\"cas-results-key\"><b>&#167; TableInfo</b></div>\n",
       "<div class=\"cas-results-body\">\n",
       "<div>\n",
       "<style scoped>\n",
       "    .dataframe tbody tr th:only-of-type {\n",
       "        vertical-align: middle;\n",
       "    }\n",
       "\n",
       "    .dataframe tbody tr th {\n",
       "        vertical-align: top;\n",
       "    }\n",
       "\n",
       "    .dataframe thead th {\n",
       "        text-align: right;\n",
       "    }\n",
       "</style>\n",
       "<table border=\"1\" class=\"dataframe\">\n",
       "  <thead>\n",
       "    <tr style=\"text-align: right;\">\n",
       "      <th title=\"\"></th>\n",
       "      <th title=\"Name\">Name</th>\n",
       "      <th title=\"Label\">Label</th>\n",
       "      <th title=\"Rows\">Rows</th>\n",
       "      <th title=\"Columns\">Columns</th>\n",
       "      <th title=\"Indexed Columns\">IndexedColumns</th>\n",
       "      <th title=\"Encoding\">Encoding</th>\n",
       "      <th title=\"Created\">CreateTimeFormatted</th>\n",
       "      <th title=\"Last Modified\">ModTimeFormatted</th>\n",
       "      <th title=\"Last Accessed\">AccessTimeFormatted</th>\n",
       "      <th title=\"Character Set\">JavaCharSet</th>\n",
       "      <th title=\"CreateTime\">CreateTime</th>\n",
       "      <th title=\"ModTime\">ModTime</th>\n",
       "      <th title=\"AccessTime\">AccessTime</th>\n",
       "      <th title=\"Global\">Global</th>\n",
       "      <th title=\"Repeated\">Repeated</th>\n",
       "      <th title=\"View\">View</th>\n",
       "      <th title=\"MultiPart\">MultiPart</th>\n",
       "      <th title=\"Loaded Source\">SourceName</th>\n",
       "      <th title=\"Source Caslib\">SourceCaslib</th>\n",
       "      <th title=\"Compressed\">Compressed</th>\n",
       "      <th title=\"Table Creator\">Creator</th>\n",
       "      <th title=\"Last Table Modifier\">Modifier</th>\n",
       "      <th title=\"Source Modified\">SourceModTimeFormatted</th>\n",
       "      <th title=\"SourceModTime\">SourceModTime</th>\n",
       "    </tr>\n",
       "  </thead>\n",
       "  <tbody>\n",
       "    <tr>\n",
       "      <td>0</td>\n",
       "      <td>RAW_TABLE</td>\n",
       "      <td></td>\n",
       "      <td>4</td>\n",
       "      <td>1</td>\n",
       "      <td>0</td>\n",
       "      <td>utf-8</td>\n",
       "      <td>2023-08-31T15:05:45+00:00</td>\n",
       "      <td>2023-08-31T15:05:45+00:00</td>\n",
       "      <td>2023-08-31T15:05:45+00:00</td>\n",
       "      <td>UTF8</td>\n",
       "      <td>2.009114e+09</td>\n",
       "      <td>2.009114e+09</td>\n",
       "      <td>2.009114e+09</td>\n",
       "      <td>0</td>\n",
       "      <td>0</td>\n",
       "      <td>0</td>\n",
       "      <td>0</td>\n",
       "      <td></td>\n",
       "      <td></td>\n",
       "      <td>0</td>\n",
       "      <td>Peter.Styliadis@sas.com</td>\n",
       "      <td></td>\n",
       "      <td>2023-08-31T15:05:45+00:00</td>\n",
       "      <td>2.009114e+09</td>\n",
       "    </tr>\n",
       "    <tr>\n",
       "      <td>1</td>\n",
       "      <td>GOV_IT_BUDGET_NARROW</td>\n",
       "      <td></td>\n",
       "      <td>13555</td>\n",
       "      <td>6</td>\n",
       "      <td>0</td>\n",
       "      <td>utf-8</td>\n",
       "      <td>2023-08-16T14:55:21+00:00</td>\n",
       "      <td>2023-08-16T14:55:21+00:00</td>\n",
       "      <td>2023-08-23T20:46:46+00:00</td>\n",
       "      <td>UTF8</td>\n",
       "      <td>2.007817e+09</td>\n",
       "      <td>2.007817e+09</td>\n",
       "      <td>2.008443e+09</td>\n",
       "      <td>1</td>\n",
       "      <td>0</td>\n",
       "      <td>0</td>\n",
       "      <td>0</td>\n",
       "      <td>gov_it_budget_narrow.sashdat</td>\n",
       "      <td>CASUSER(Peter.Styliadis@sas.com)</td>\n",
       "      <td>0</td>\n",
       "      <td>Peter.Styliadis@sas.com</td>\n",
       "      <td></td>\n",
       "      <td>2023-08-16T14:52:12+00:00</td>\n",
       "      <td>2.007817e+09</td>\n",
       "    </tr>\n",
       "    <tr>\n",
       "      <td>2</td>\n",
       "      <td>POP2021_PROC_PYTHON</td>\n",
       "      <td></td>\n",
       "      <td>52</td>\n",
       "      <td>6</td>\n",
       "      <td>0</td>\n",
       "      <td>utf-8</td>\n",
       "      <td>2023-08-23T18:18:09+00:00</td>\n",
       "      <td>2023-08-23T18:18:09+00:00</td>\n",
       "      <td>2023-08-23T18:18:10+00:00</td>\n",
       "      <td>UTF8</td>\n",
       "      <td>2.008434e+09</td>\n",
       "      <td>2.008434e+09</td>\n",
       "      <td>2.008434e+09</td>\n",
       "      <td>1</td>\n",
       "      <td>0</td>\n",
       "      <td>0</td>\n",
       "      <td>0</td>\n",
       "      <td></td>\n",
       "      <td></td>\n",
       "      <td>0</td>\n",
       "      <td>Peter.Styliadis@sas.com</td>\n",
       "      <td></td>\n",
       "      <td></td>\n",
       "      <td>NaN</td>\n",
       "    </tr>\n",
       "    <tr>\n",
       "      <td>3</td>\n",
       "      <td>CARS</td>\n",
       "      <td>2004 Car Data</td>\n",
       "      <td>428</td>\n",
       "      <td>15</td>\n",
       "      <td>0</td>\n",
       "      <td>utf-8</td>\n",
       "      <td>2023-08-25T18:16:23+00:00</td>\n",
       "      <td>2023-08-25T18:16:23+00:00</td>\n",
       "      <td>2023-08-31T13:37:23+00:00</td>\n",
       "      <td>UTF8</td>\n",
       "      <td>2.008607e+09</td>\n",
       "      <td>2.008607e+09</td>\n",
       "      <td>2.009108e+09</td>\n",
       "      <td>1</td>\n",
       "      <td>0</td>\n",
       "      <td>0</td>\n",
       "      <td>0</td>\n",
       "      <td></td>\n",
       "      <td></td>\n",
       "      <td>0</td>\n",
       "      <td>Peter.Styliadis@sas.com</td>\n",
       "      <td></td>\n",
       "      <td></td>\n",
       "      <td>NaN</td>\n",
       "    </tr>\n",
       "  </tbody>\n",
       "</table>\n",
       "</div>\n",
       "</div>\n",
       "<div class=\"cas-output-area\"></div>\n",
       "<p class=\"cas-results-performance\"><small><span class=\"cas-elapsed\">elapsed 0.0084s</span> &#183; <span class=\"cas-user\">user 0.00581s</span> &#183; <span class=\"cas-sys\">sys 0.00866s</span> &#183; <span class=\"cas-memory\">mem 1.86MB</span></small></p>"
      ],
      "text/plain": [
       "[TableInfo]\n",
       "\n",
       "                    Name          Label   Rows  Columns  IndexedColumns Encoding        CreateTimeFormatted           ModTimeFormatted        AccessTimeFormatted JavaCharSet    CreateTime       ModTime    AccessTime  Global  Repeated  View  MultiPart                    SourceName                      SourceCaslib  Compressed                  Creator Modifier     SourceModTimeFormatted  SourceModTime\n",
       " 0             RAW_TABLE                     4        1               0    utf-8  2023-08-31T15:05:45+00:00  2023-08-31T15:05:45+00:00  2023-08-31T15:05:45+00:00        UTF8  2.009114e+09  2.009114e+09  2.009114e+09       0         0     0          0                                                                           0  Peter.Styliadis@sas.com           2023-08-31T15:05:45+00:00   2.009114e+09\n",
       " 1  GOV_IT_BUDGET_NARROW                 13555        6               0    utf-8  2023-08-16T14:55:21+00:00  2023-08-16T14:55:21+00:00  2023-08-23T20:46:46+00:00        UTF8  2.007817e+09  2.007817e+09  2.008443e+09       1         0     0          0  gov_it_budget_narrow.sashdat  CASUSER(Peter.Styliadis@sas.com)           0  Peter.Styliadis@sas.com           2023-08-16T14:52:12+00:00   2.007817e+09\n",
       " 2   POP2021_PROC_PYTHON                    52        6               0    utf-8  2023-08-23T18:18:09+00:00  2023-08-23T18:18:09+00:00  2023-08-23T18:18:10+00:00        UTF8  2.008434e+09  2.008434e+09  2.008434e+09       1         0     0          0                                                                           0  Peter.Styliadis@sas.com                                                NaN\n",
       " 3                  CARS  2004 Car Data    428       15               0    utf-8  2023-08-25T18:16:23+00:00  2023-08-25T18:16:23+00:00  2023-08-31T13:37:23+00:00        UTF8  2.008607e+09  2.008607e+09  2.009108e+09       1         0     0          0                                                                           0  Peter.Styliadis@sas.com                                                NaN\n",
       "\n",
       "+ Elapsed: 0.0084s, user: 0.00581s, sys: 0.00866s, mem: 1.86mb"
      ]
     },
     "execution_count": 54,
     "metadata": {},
     "output_type": "execute_result"
    }
   ],
   "source": [
    "castbl = conn.upload_frame(raw_table, casout={'name':'raw_table', 'replace':True})\n",
    "conn.tableInfo()"
   ]
  },
  {
   "cell_type": "code",
   "execution_count": 55,
   "metadata": {},
   "outputs": [
    {
     "data": {
      "text/html": [
       "<div>\n",
       "<style scoped>\n",
       "    .dataframe tbody tr th:only-of-type {\n",
       "        vertical-align: middle;\n",
       "    }\n",
       "\n",
       "    .dataframe tbody tr th {\n",
       "        vertical-align: top;\n",
       "    }\n",
       "\n",
       "    .dataframe thead th {\n",
       "        text-align: right;\n",
       "    }\n",
       "</style>\n",
       "<table border=\"1\" class=\"dataframe\"><caption>Selected Rows from Table RAW_TABLE</caption>\n",
       "  <thead>\n",
       "    <tr style=\"text-align: right;\">\n",
       "      <th title=\"\"></th>\n",
       "      <th title=\"column_A\">column_A</th>\n",
       "    </tr>\n",
       "  </thead>\n",
       "  <tbody>\n",
       "    <tr>\n",
       "      <td>0</td>\n",
       "      <td>Tot Amt = USD 2; Tot Count = 5; Min Amt = 0; Min Count = 3</td>\n",
       "    </tr>\n",
       "    <tr>\n",
       "      <td>1</td>\n",
       "      <td>Tot Amt = USD 3; Tot Count = 6; Min Amt = 1; Min Count = 4</td>\n",
       "    </tr>\n",
       "    <tr>\n",
       "      <td>2</td>\n",
       "      <td>Tot Amt = USD 4; Tot Count = 7; Min Amt = 2; Min Count = 5</td>\n",
       "    </tr>\n",
       "    <tr>\n",
       "      <td>3</td>\n",
       "      <td>Tot Amt = USD 25; Tot Count = 101; Min Amt = 85; Min Count = 49</td>\n",
       "    </tr>\n",
       "  </tbody>\n",
       "</table>\n",
       "</div>"
      ],
      "text/plain": [
       "Selected Rows from Table RAW_TABLE\n",
       "\n",
       "                                                          column_A\n",
       "0       Tot Amt = USD 2; Tot Count = 5; Min Amt = 0; Min Count = 3\n",
       "1       Tot Amt = USD 3; Tot Count = 6; Min Amt = 1; Min Count = 4\n",
       "2       Tot Amt = USD 4; Tot Count = 7; Min Amt = 2; Min Count = 5\n",
       "3  Tot Amt = USD 25; Tot Count = 101; Min Amt = 85; Min Count = 49"
      ]
     },
     "execution_count": 55,
     "metadata": {},
     "output_type": "execute_result"
    }
   ],
   "source": [
    "castbl.head()"
   ]
  },
  {
   "cell_type": "code",
   "execution_count": 56,
   "metadata": {
    "tags": []
   },
   "outputs": [
    {
     "data": {
      "text/plain": [
       "CASTable('RAW_TABLE', caslib='CASUSER(Peter.Styliadis@sas.com)')"
      ]
     },
     "execution_count": 56,
     "metadata": {},
     "output_type": "execute_result"
    }
   ],
   "source": [
    "castbl"
   ]
  },
  {
   "cell_type": "markdown",
   "metadata": {},
   "source": [
    "## Create columns (test, long solution for the first group)\n",
    "\n",
    "Inplace = false temporarily assigns a new column to the object for development.\n",
    "\n",
    "Eventually create a new CAS table with the calculated columns.\n",
    "\n",
    "In SWAT you will use the SCAN function like you would use the SPLIT funtion in Python"
   ]
  },
  {
   "cell_type": "code",
   "execution_count": 7,
   "metadata": {
    "tags": []
   },
   "outputs": [
    {
     "data": {
      "text/html": [
       "<div>\n",
       "<style scoped>\n",
       "    .dataframe tbody tr th:only-of-type {\n",
       "        vertical-align: middle;\n",
       "    }\n",
       "\n",
       "    .dataframe tbody tr th {\n",
       "        vertical-align: top;\n",
       "    }\n",
       "\n",
       "    .dataframe thead th {\n",
       "        text-align: right;\n",
       "    }\n",
       "</style>\n",
       "<table border=\"1\" class=\"dataframe\"><caption>Selected Rows from Table FINAL_TABLE</caption>\n",
       "  <thead>\n",
       "    <tr style=\"text-align: right;\">\n",
       "      <th title=\"\"></th>\n",
       "      <th title=\"column_A\">column_A</th>\n",
       "      <th title=\"Tot_Amt_string_1\">Tot_Amt_string_1</th>\n",
       "      <th title=\"Tot_Amt_1\">Tot_Amt_1</th>\n",
       "    </tr>\n",
       "  </thead>\n",
       "  <tbody>\n",
       "    <tr>\n",
       "      <td>0</td>\n",
       "      <td>Tot Amt = USD 2; Tot Count = 5; Min Amt = 0; Min Count = 3</td>\n",
       "      <td>Tot Amt = USD 2</td>\n",
       "      <td>2</td>\n",
       "    </tr>\n",
       "    <tr>\n",
       "      <td>1</td>\n",
       "      <td>Tot Amt = USD 3; Tot Count = 6; Min Amt = 1; Min Count = 4</td>\n",
       "      <td>Tot Amt = USD 3</td>\n",
       "      <td>3</td>\n",
       "    </tr>\n",
       "    <tr>\n",
       "      <td>2</td>\n",
       "      <td>Tot Amt = USD 4; Tot Count = 7; Min Amt = 2; Min Count = 5</td>\n",
       "      <td>Tot Amt = USD 4</td>\n",
       "      <td>4</td>\n",
       "    </tr>\n",
       "    <tr>\n",
       "      <td>3</td>\n",
       "      <td>Tot Amt = USD 25; Tot Count = 101; Min Amt = 85; Min Count = 49</td>\n",
       "      <td>Tot Amt = USD 25</td>\n",
       "      <td>25</td>\n",
       "    </tr>\n",
       "  </tbody>\n",
       "</table>\n",
       "</div>"
      ],
      "text/plain": [
       "Selected Rows from Table FINAL_TABLE\n",
       "\n",
       "                                                          column_A  Tot_Amt_string_1 Tot_Amt_1\n",
       "0       Tot Amt = USD 2; Tot Count = 5; Min Amt = 0; Min Count = 3   Tot Amt = USD 2         2\n",
       "1       Tot Amt = USD 3; Tot Count = 6; Min Amt = 1; Min Count = 4   Tot Amt = USD 3         3\n",
       "2       Tot Amt = USD 4; Tot Count = 7; Min Amt = 2; Min Count = 5   Tot Amt = USD 4         4\n",
       "3  Tot Amt = USD 25; Tot Count = 101; Min Amt = 85; Min Count = 49  Tot Amt = USD 25        25"
      ]
     },
     "execution_count": 7,
     "metadata": {},
     "output_type": "execute_result"
    }
   ],
   "source": [
    "(castbl\n",
    " .eval(\"Tot_Amt_string_1 = scan(column_A,1,';')\", inplace=False)            ## Get the string using the ; as the delimiter similar to df.col.split(':')\n",
    " .eval(\"Tot_Amt_1 = scan(Tot_Amt_string_1, -1, ' ')\", inplace=False)        ## Get the last value\n",
    " .copyTable(casout = {'name':'Final_table', \n",
    "                      'caslib':'casuser', \n",
    "                      'replace':True})\n",
    ")\n",
    "\n",
    "finalTbl = conn.CASTable('final_table', caslib = 'casuser')\n",
    "\n",
    "finalTbl.head()"
   ]
  },
  {
   "cell_type": "code",
   "execution_count": 8,
   "metadata": {
    "tags": []
   },
   "outputs": [
    {
     "data": {
      "text/plain": [
       "CASTable('RAW_TABLE', caslib='CASUSER(Peter.Styliadis@sas.com)')"
      ]
     },
     "execution_count": 8,
     "metadata": {},
     "output_type": "execute_result"
    }
   ],
   "source": [
    "castbl"
   ]
  },
  {
   "cell_type": "code",
   "execution_count": 9,
   "metadata": {
    "tags": []
   },
   "outputs": [
    {
     "data": {
      "text/html": [
       "<div class=\"cas-results-key\"><b>&#167; ColumnInfo</b></div>\n",
       "<div class=\"cas-results-body\">\n",
       "<div>\n",
       "<style scoped>\n",
       "    .dataframe tbody tr th:only-of-type {\n",
       "        vertical-align: middle;\n",
       "    }\n",
       "\n",
       "    .dataframe tbody tr th {\n",
       "        vertical-align: top;\n",
       "    }\n",
       "\n",
       "    .dataframe thead th {\n",
       "        text-align: right;\n",
       "    }\n",
       "</style>\n",
       "<table border=\"1\" class=\"dataframe\">\n",
       "  <thead>\n",
       "    <tr style=\"text-align: right;\">\n",
       "      <th title=\"\"></th>\n",
       "      <th title=\"Column\">Column</th>\n",
       "      <th title=\"Label\">Label</th>\n",
       "      <th title=\"ID\">ID</th>\n",
       "      <th title=\"Type\">Type</th>\n",
       "      <th title=\"RawLength\">RawLength</th>\n",
       "      <th title=\"FormattedLength\">FormattedLength</th>\n",
       "      <th title=\"Format\">Format</th>\n",
       "      <th title=\"NFL\">NFL</th>\n",
       "      <th title=\"NFD\">NFD</th>\n",
       "    </tr>\n",
       "  </thead>\n",
       "  <tbody>\n",
       "    <tr>\n",
       "      <td>0</td>\n",
       "      <td>column_A</td>\n",
       "      <td></td>\n",
       "      <td>1</td>\n",
       "      <td>varchar</td>\n",
       "      <td>63</td>\n",
       "      <td>63</td>\n",
       "      <td></td>\n",
       "      <td>0</td>\n",
       "      <td>0</td>\n",
       "    </tr>\n",
       "    <tr>\n",
       "      <td>1</td>\n",
       "      <td>Tot_Amt_string_1</td>\n",
       "      <td></td>\n",
       "      <td>2</td>\n",
       "      <td>char</td>\n",
       "      <td>63</td>\n",
       "      <td>63</td>\n",
       "      <td></td>\n",
       "      <td>0</td>\n",
       "      <td>0</td>\n",
       "    </tr>\n",
       "    <tr>\n",
       "      <td>2</td>\n",
       "      <td>Tot_Amt_1</td>\n",
       "      <td></td>\n",
       "      <td>3</td>\n",
       "      <td>char</td>\n",
       "      <td>63</td>\n",
       "      <td>63</td>\n",
       "      <td></td>\n",
       "      <td>0</td>\n",
       "      <td>0</td>\n",
       "    </tr>\n",
       "  </tbody>\n",
       "</table>\n",
       "</div>\n",
       "</div>\n",
       "<div class=\"cas-output-area\"></div>\n",
       "<p class=\"cas-results-performance\"><small><span class=\"cas-elapsed\">elapsed 0.00923s</span> &#183; <span class=\"cas-user\">user 0.00115s</span> &#183; <span class=\"cas-sys\">sys 0.0145s</span> &#183; <span class=\"cas-memory\">mem 2.53MB</span></small></p>"
      ],
      "text/plain": [
       "[ColumnInfo]\n",
       "\n",
       "              Column Label  ID     Type  RawLength  FormattedLength Format  NFL  NFD\n",
       " 0          column_A         1  varchar         63               63           0    0\n",
       " 1  Tot_Amt_string_1         2     char         63               63           0    0\n",
       " 2         Tot_Amt_1         3     char         63               63           0    0\n",
       "\n",
       "+ Elapsed: 0.00923s, user: 0.00115s, sys: 0.0145s, mem: 2.53mb"
      ]
     },
     "execution_count": 9,
     "metadata": {},
     "output_type": "execute_result"
    }
   ],
   "source": [
    "finalTbl.columnInfo()"
   ]
  },
  {
   "cell_type": "markdown",
   "metadata": {},
   "source": [
    "## Current issue is the SCAN function returns a string\n",
    "Multiple solutions. You can use INPUT to convert a char to a numeric. "
   ]
  },
  {
   "cell_type": "markdown",
   "metadata": {},
   "source": [
    "Use the input function to convert that char to a numeric. The input function is like the .astype function in Python."
   ]
  },
  {
   "cell_type": "code",
   "execution_count": 10,
   "metadata": {
    "tags": []
   },
   "outputs": [
    {
     "data": {
      "text/html": [
       "<div>\n",
       "<style scoped>\n",
       "    .dataframe tbody tr th:only-of-type {\n",
       "        vertical-align: middle;\n",
       "    }\n",
       "\n",
       "    .dataframe tbody tr th {\n",
       "        vertical-align: top;\n",
       "    }\n",
       "\n",
       "    .dataframe thead th {\n",
       "        text-align: right;\n",
       "    }\n",
       "</style>\n",
       "<table border=\"1\" class=\"dataframe\"><caption>Selected Rows from Table FINAL_TABLE</caption>\n",
       "  <thead>\n",
       "    <tr style=\"text-align: right;\">\n",
       "      <th title=\"\"></th>\n",
       "      <th title=\"column_A\">column_A</th>\n",
       "      <th title=\"Tot_Amt_string_1\">Tot_Amt_string_1</th>\n",
       "      <th title=\"Tot_Amt_1\">Tot_Amt_1</th>\n",
       "    </tr>\n",
       "  </thead>\n",
       "  <tbody>\n",
       "    <tr>\n",
       "      <td>0</td>\n",
       "      <td>Tot Amt = USD 2; Tot Count = 5; Min Amt = 0; Min Count = 3</td>\n",
       "      <td>Tot Amt = USD 2</td>\n",
       "      <td>2.0</td>\n",
       "    </tr>\n",
       "    <tr>\n",
       "      <td>1</td>\n",
       "      <td>Tot Amt = USD 3; Tot Count = 6; Min Amt = 1; Min Count = 4</td>\n",
       "      <td>Tot Amt = USD 3</td>\n",
       "      <td>3.0</td>\n",
       "    </tr>\n",
       "    <tr>\n",
       "      <td>2</td>\n",
       "      <td>Tot Amt = USD 4; Tot Count = 7; Min Amt = 2; Min Count = 5</td>\n",
       "      <td>Tot Amt = USD 4</td>\n",
       "      <td>4.0</td>\n",
       "    </tr>\n",
       "    <tr>\n",
       "      <td>3</td>\n",
       "      <td>Tot Amt = USD 25; Tot Count = 101; Min Amt = 85; Min Count = 49</td>\n",
       "      <td>Tot Amt = USD 25</td>\n",
       "      <td>25.0</td>\n",
       "    </tr>\n",
       "  </tbody>\n",
       "</table>\n",
       "</div>"
      ],
      "text/plain": [
       "Selected Rows from Table FINAL_TABLE\n",
       "\n",
       "                                                          column_A  Tot_Amt_string_1  Tot_Amt_1\n",
       "0       Tot Amt = USD 2; Tot Count = 5; Min Amt = 0; Min Count = 3   Tot Amt = USD 2        2.0\n",
       "1       Tot Amt = USD 3; Tot Count = 6; Min Amt = 1; Min Count = 4   Tot Amt = USD 3        3.0\n",
       "2       Tot Amt = USD 4; Tot Count = 7; Min Amt = 2; Min Count = 5   Tot Amt = USD 4        4.0\n",
       "3  Tot Amt = USD 25; Tot Count = 101; Min Amt = 85; Min Count = 49  Tot Amt = USD 25       25.0"
      ]
     },
     "execution_count": 10,
     "metadata": {},
     "output_type": "execute_result"
    }
   ],
   "source": [
    "(castbl\n",
    " .eval(\"Tot_Amt_string_1 = scan(column_A,1,';')\", inplace=False)            ## Get the string using the ; as the delimiter similar to df.col.split(':')\n",
    " .eval(\"Tot_Amt_1 = input(scan(Tot_Amt_string_1, -1, ' '), 8.)\", inplace=False)        ## Get the last value\n",
    " .copyTable(casout = {'name':'Final_table', \n",
    "                      'caslib':'casuser', \n",
    "                      'replace':True})\n",
    ")\n",
    "\n",
    "finalTbl = conn.CASTable('final_table', caslib = 'casuser')\n",
    "\n",
    "finalTbl.head()"
   ]
  },
  {
   "cell_type": "code",
   "execution_count": 11,
   "metadata": {
    "tags": []
   },
   "outputs": [
    {
     "data": {
      "text/html": [
       "<div class=\"cas-results-key\"><b>&#167; ColumnInfo</b></div>\n",
       "<div class=\"cas-results-body\">\n",
       "<div>\n",
       "<style scoped>\n",
       "    .dataframe tbody tr th:only-of-type {\n",
       "        vertical-align: middle;\n",
       "    }\n",
       "\n",
       "    .dataframe tbody tr th {\n",
       "        vertical-align: top;\n",
       "    }\n",
       "\n",
       "    .dataframe thead th {\n",
       "        text-align: right;\n",
       "    }\n",
       "</style>\n",
       "<table border=\"1\" class=\"dataframe\">\n",
       "  <thead>\n",
       "    <tr style=\"text-align: right;\">\n",
       "      <th title=\"\"></th>\n",
       "      <th title=\"Column\">Column</th>\n",
       "      <th title=\"Label\">Label</th>\n",
       "      <th title=\"ID\">ID</th>\n",
       "      <th title=\"Type\">Type</th>\n",
       "      <th title=\"RawLength\">RawLength</th>\n",
       "      <th title=\"FormattedLength\">FormattedLength</th>\n",
       "      <th title=\"Format\">Format</th>\n",
       "      <th title=\"NFL\">NFL</th>\n",
       "      <th title=\"NFD\">NFD</th>\n",
       "    </tr>\n",
       "  </thead>\n",
       "  <tbody>\n",
       "    <tr>\n",
       "      <td>0</td>\n",
       "      <td>column_A</td>\n",
       "      <td></td>\n",
       "      <td>1</td>\n",
       "      <td>varchar</td>\n",
       "      <td>63</td>\n",
       "      <td>63</td>\n",
       "      <td></td>\n",
       "      <td>0</td>\n",
       "      <td>0</td>\n",
       "    </tr>\n",
       "    <tr>\n",
       "      <td>1</td>\n",
       "      <td>Tot_Amt_string_1</td>\n",
       "      <td></td>\n",
       "      <td>2</td>\n",
       "      <td>char</td>\n",
       "      <td>63</td>\n",
       "      <td>63</td>\n",
       "      <td></td>\n",
       "      <td>0</td>\n",
       "      <td>0</td>\n",
       "    </tr>\n",
       "    <tr>\n",
       "      <td>2</td>\n",
       "      <td>Tot_Amt_1</td>\n",
       "      <td></td>\n",
       "      <td>3</td>\n",
       "      <td>double</td>\n",
       "      <td>8</td>\n",
       "      <td>12</td>\n",
       "      <td></td>\n",
       "      <td>0</td>\n",
       "      <td>0</td>\n",
       "    </tr>\n",
       "  </tbody>\n",
       "</table>\n",
       "</div>\n",
       "</div>\n",
       "<div class=\"cas-output-area\"></div>\n",
       "<p class=\"cas-results-performance\"><small><span class=\"cas-elapsed\">elapsed 0.00943s</span> &#183; <span class=\"cas-user\">user 0.00642s</span> &#183; <span class=\"cas-sys\">sys 0.00881s</span> &#183; <span class=\"cas-memory\">mem 2.54MB</span></small></p>"
      ],
      "text/plain": [
       "[ColumnInfo]\n",
       "\n",
       "              Column Label  ID     Type  RawLength  FormattedLength Format  NFL  NFD\n",
       " 0          column_A         1  varchar         63               63           0    0\n",
       " 1  Tot_Amt_string_1         2     char         63               63           0    0\n",
       " 2         Tot_Amt_1         3   double          8               12           0    0\n",
       "\n",
       "+ Elapsed: 0.00943s, user: 0.00642s, sys: 0.00881s, mem: 2.54mb"
      ]
     },
     "execution_count": 11,
     "metadata": {},
     "output_type": "execute_result"
    }
   ],
   "source": [
    "finalTbl.columnInfo()"
   ]
  },
  {
   "cell_type": "markdown",
   "metadata": {},
   "source": [
    "## FINAL SOLUTION\n",
    "\n",
    "- Solution with Pandas\n",
    "- Solution with SWAT/CAS"
   ]
  },
  {
   "cell_type": "markdown",
   "metadata": {},
   "source": [
    "#### 1. Recreate the CAS table to start from scratch"
   ]
  },
  {
   "cell_type": "code",
   "execution_count": 57,
   "metadata": {
    "tags": []
   },
   "outputs": [
    {
     "name": "stdout",
     "output_type": "stream",
     "text": [
      "NOTE: Cloud Analytic Services made the uploaded file available as table RAW_TABLE in caslib CASUSER(Peter.Styliadis@sas.com).\n",
      "NOTE: The table RAW_TABLE has been created in caslib CASUSER(Peter.Styliadis@sas.com) from binary data uploaded to Cloud Analytic Services.\n"
     ]
    },
    {
     "data": {
      "text/html": [
       "<div class=\"cas-results-key\"><b>&#167; TableInfo</b></div>\n",
       "<div class=\"cas-results-body\">\n",
       "<div>\n",
       "<style scoped>\n",
       "    .dataframe tbody tr th:only-of-type {\n",
       "        vertical-align: middle;\n",
       "    }\n",
       "\n",
       "    .dataframe tbody tr th {\n",
       "        vertical-align: top;\n",
       "    }\n",
       "\n",
       "    .dataframe thead th {\n",
       "        text-align: right;\n",
       "    }\n",
       "</style>\n",
       "<table border=\"1\" class=\"dataframe\">\n",
       "  <thead>\n",
       "    <tr style=\"text-align: right;\">\n",
       "      <th title=\"\"></th>\n",
       "      <th title=\"Name\">Name</th>\n",
       "      <th title=\"Label\">Label</th>\n",
       "      <th title=\"Rows\">Rows</th>\n",
       "      <th title=\"Columns\">Columns</th>\n",
       "      <th title=\"Indexed Columns\">IndexedColumns</th>\n",
       "      <th title=\"Encoding\">Encoding</th>\n",
       "      <th title=\"Created\">CreateTimeFormatted</th>\n",
       "      <th title=\"Last Modified\">ModTimeFormatted</th>\n",
       "      <th title=\"Last Accessed\">AccessTimeFormatted</th>\n",
       "      <th title=\"Character Set\">JavaCharSet</th>\n",
       "      <th title=\"CreateTime\">CreateTime</th>\n",
       "      <th title=\"ModTime\">ModTime</th>\n",
       "      <th title=\"AccessTime\">AccessTime</th>\n",
       "      <th title=\"Global\">Global</th>\n",
       "      <th title=\"Repeated\">Repeated</th>\n",
       "      <th title=\"View\">View</th>\n",
       "      <th title=\"MultiPart\">MultiPart</th>\n",
       "      <th title=\"Loaded Source\">SourceName</th>\n",
       "      <th title=\"Source Caslib\">SourceCaslib</th>\n",
       "      <th title=\"Compressed\">Compressed</th>\n",
       "      <th title=\"Table Creator\">Creator</th>\n",
       "      <th title=\"Last Table Modifier\">Modifier</th>\n",
       "      <th title=\"Source Modified\">SourceModTimeFormatted</th>\n",
       "      <th title=\"SourceModTime\">SourceModTime</th>\n",
       "    </tr>\n",
       "  </thead>\n",
       "  <tbody>\n",
       "    <tr>\n",
       "      <td>0</td>\n",
       "      <td>RAW_TABLE</td>\n",
       "      <td></td>\n",
       "      <td>4</td>\n",
       "      <td>1</td>\n",
       "      <td>0</td>\n",
       "      <td>utf-8</td>\n",
       "      <td>2023-08-31T15:05:57+00:00</td>\n",
       "      <td>2023-08-31T15:05:57+00:00</td>\n",
       "      <td>2023-08-31T15:05:57+00:00</td>\n",
       "      <td>UTF8</td>\n",
       "      <td>2.009114e+09</td>\n",
       "      <td>2.009114e+09</td>\n",
       "      <td>2.009114e+09</td>\n",
       "      <td>0</td>\n",
       "      <td>0</td>\n",
       "      <td>0</td>\n",
       "      <td>0</td>\n",
       "      <td></td>\n",
       "      <td></td>\n",
       "      <td>0</td>\n",
       "      <td>Peter.Styliadis@sas.com</td>\n",
       "      <td></td>\n",
       "      <td>2023-08-31T15:05:57+00:00</td>\n",
       "      <td>2.009114e+09</td>\n",
       "    </tr>\n",
       "    <tr>\n",
       "      <td>1</td>\n",
       "      <td>GOV_IT_BUDGET_NARROW</td>\n",
       "      <td></td>\n",
       "      <td>13555</td>\n",
       "      <td>6</td>\n",
       "      <td>0</td>\n",
       "      <td>utf-8</td>\n",
       "      <td>2023-08-16T14:55:21+00:00</td>\n",
       "      <td>2023-08-16T14:55:21+00:00</td>\n",
       "      <td>2023-08-23T20:46:46+00:00</td>\n",
       "      <td>UTF8</td>\n",
       "      <td>2.007817e+09</td>\n",
       "      <td>2.007817e+09</td>\n",
       "      <td>2.008443e+09</td>\n",
       "      <td>1</td>\n",
       "      <td>0</td>\n",
       "      <td>0</td>\n",
       "      <td>0</td>\n",
       "      <td>gov_it_budget_narrow.sashdat</td>\n",
       "      <td>CASUSER(Peter.Styliadis@sas.com)</td>\n",
       "      <td>0</td>\n",
       "      <td>Peter.Styliadis@sas.com</td>\n",
       "      <td></td>\n",
       "      <td>2023-08-16T14:52:12+00:00</td>\n",
       "      <td>2.007817e+09</td>\n",
       "    </tr>\n",
       "    <tr>\n",
       "      <td>2</td>\n",
       "      <td>POP2021_PROC_PYTHON</td>\n",
       "      <td></td>\n",
       "      <td>52</td>\n",
       "      <td>6</td>\n",
       "      <td>0</td>\n",
       "      <td>utf-8</td>\n",
       "      <td>2023-08-23T18:18:09+00:00</td>\n",
       "      <td>2023-08-23T18:18:09+00:00</td>\n",
       "      <td>2023-08-23T18:18:10+00:00</td>\n",
       "      <td>UTF8</td>\n",
       "      <td>2.008434e+09</td>\n",
       "      <td>2.008434e+09</td>\n",
       "      <td>2.008434e+09</td>\n",
       "      <td>1</td>\n",
       "      <td>0</td>\n",
       "      <td>0</td>\n",
       "      <td>0</td>\n",
       "      <td></td>\n",
       "      <td></td>\n",
       "      <td>0</td>\n",
       "      <td>Peter.Styliadis@sas.com</td>\n",
       "      <td></td>\n",
       "      <td></td>\n",
       "      <td>NaN</td>\n",
       "    </tr>\n",
       "    <tr>\n",
       "      <td>3</td>\n",
       "      <td>CARS</td>\n",
       "      <td>2004 Car Data</td>\n",
       "      <td>428</td>\n",
       "      <td>15</td>\n",
       "      <td>0</td>\n",
       "      <td>utf-8</td>\n",
       "      <td>2023-08-25T18:16:23+00:00</td>\n",
       "      <td>2023-08-25T18:16:23+00:00</td>\n",
       "      <td>2023-08-31T13:37:23+00:00</td>\n",
       "      <td>UTF8</td>\n",
       "      <td>2.008607e+09</td>\n",
       "      <td>2.008607e+09</td>\n",
       "      <td>2.009108e+09</td>\n",
       "      <td>1</td>\n",
       "      <td>0</td>\n",
       "      <td>0</td>\n",
       "      <td>0</td>\n",
       "      <td></td>\n",
       "      <td></td>\n",
       "      <td>0</td>\n",
       "      <td>Peter.Styliadis@sas.com</td>\n",
       "      <td></td>\n",
       "      <td></td>\n",
       "      <td>NaN</td>\n",
       "    </tr>\n",
       "  </tbody>\n",
       "</table>\n",
       "</div>\n",
       "</div>\n",
       "<div class=\"cas-output-area\"></div>\n",
       "<p class=\"cas-results-performance\"><small><span class=\"cas-elapsed\">elapsed 0.00828s</span> &#183; <span class=\"cas-user\">user 0.00381s</span> &#183; <span class=\"cas-sys\">sys 0.00855s</span> &#183; <span class=\"cas-memory\">mem 1.86MB</span></small></p>"
      ],
      "text/plain": [
       "[TableInfo]\n",
       "\n",
       "                    Name          Label   Rows  Columns  IndexedColumns Encoding        CreateTimeFormatted           ModTimeFormatted        AccessTimeFormatted JavaCharSet    CreateTime       ModTime    AccessTime  Global  Repeated  View  MultiPart                    SourceName                      SourceCaslib  Compressed                  Creator Modifier     SourceModTimeFormatted  SourceModTime\n",
       " 0             RAW_TABLE                     4        1               0    utf-8  2023-08-31T15:05:57+00:00  2023-08-31T15:05:57+00:00  2023-08-31T15:05:57+00:00        UTF8  2.009114e+09  2.009114e+09  2.009114e+09       0         0     0          0                                                                           0  Peter.Styliadis@sas.com           2023-08-31T15:05:57+00:00   2.009114e+09\n",
       " 1  GOV_IT_BUDGET_NARROW                 13555        6               0    utf-8  2023-08-16T14:55:21+00:00  2023-08-16T14:55:21+00:00  2023-08-23T20:46:46+00:00        UTF8  2.007817e+09  2.007817e+09  2.008443e+09       1         0     0          0  gov_it_budget_narrow.sashdat  CASUSER(Peter.Styliadis@sas.com)           0  Peter.Styliadis@sas.com           2023-08-16T14:52:12+00:00   2.007817e+09\n",
       " 2   POP2021_PROC_PYTHON                    52        6               0    utf-8  2023-08-23T18:18:09+00:00  2023-08-23T18:18:09+00:00  2023-08-23T18:18:10+00:00        UTF8  2.008434e+09  2.008434e+09  2.008434e+09       1         0     0          0                                                                           0  Peter.Styliadis@sas.com                                                NaN\n",
       " 3                  CARS  2004 Car Data    428       15               0    utf-8  2023-08-25T18:16:23+00:00  2023-08-25T18:16:23+00:00  2023-08-31T13:37:23+00:00        UTF8  2.008607e+09  2.008607e+09  2.009108e+09       1         0     0          0                                                                           0  Peter.Styliadis@sas.com                                                NaN\n",
       "\n",
       "+ Elapsed: 0.00828s, user: 0.00381s, sys: 0.00855s, mem: 1.86mb"
      ]
     },
     "execution_count": 57,
     "metadata": {},
     "output_type": "execute_result"
    }
   ],
   "source": [
    "castbl = conn.upload_frame(raw_table, casout={'name':'raw_table', 'replace':True})\n",
    "conn.tableInfo()"
   ]
  },
  {
   "cell_type": "code",
   "execution_count": 58,
   "metadata": {
    "tags": []
   },
   "outputs": [
    {
     "data": {
      "text/html": [
       "<div>\n",
       "<style scoped>\n",
       "    .dataframe tbody tr th:only-of-type {\n",
       "        vertical-align: middle;\n",
       "    }\n",
       "\n",
       "    .dataframe tbody tr th {\n",
       "        vertical-align: top;\n",
       "    }\n",
       "\n",
       "    .dataframe thead th {\n",
       "        text-align: right;\n",
       "    }\n",
       "</style>\n",
       "<table border=\"1\" class=\"dataframe\"><caption>Selected Rows from Table RAW_TABLE</caption>\n",
       "  <thead>\n",
       "    <tr style=\"text-align: right;\">\n",
       "      <th title=\"\"></th>\n",
       "      <th title=\"column_A\">column_A</th>\n",
       "    </tr>\n",
       "  </thead>\n",
       "  <tbody>\n",
       "    <tr>\n",
       "      <td>0</td>\n",
       "      <td>Tot Amt = USD 2; Tot Count = 5; Min Amt = 0; Min Count = 3</td>\n",
       "    </tr>\n",
       "    <tr>\n",
       "      <td>1</td>\n",
       "      <td>Tot Amt = USD 3; Tot Count = 6; Min Amt = 1; Min Count = 4</td>\n",
       "    </tr>\n",
       "    <tr>\n",
       "      <td>2</td>\n",
       "      <td>Tot Amt = USD 4; Tot Count = 7; Min Amt = 2; Min Count = 5</td>\n",
       "    </tr>\n",
       "    <tr>\n",
       "      <td>3</td>\n",
       "      <td>Tot Amt = USD 25; Tot Count = 101; Min Amt = 85; Min Count = 49</td>\n",
       "    </tr>\n",
       "  </tbody>\n",
       "</table>\n",
       "</div>"
      ],
      "text/plain": [
       "Selected Rows from Table RAW_TABLE\n",
       "\n",
       "                                                          column_A\n",
       "0       Tot Amt = USD 2; Tot Count = 5; Min Amt = 0; Min Count = 3\n",
       "1       Tot Amt = USD 3; Tot Count = 6; Min Amt = 1; Min Count = 4\n",
       "2       Tot Amt = USD 4; Tot Count = 7; Min Amt = 2; Min Count = 5\n",
       "3  Tot Amt = USD 25; Tot Count = 101; Min Amt = 85; Min Count = 49"
      ]
     },
     "execution_count": 58,
     "metadata": {},
     "output_type": "execute_result"
    }
   ],
   "source": [
    "castbl.head()"
   ]
  },
  {
   "cell_type": "code",
   "execution_count": 59,
   "metadata": {
    "tags": []
   },
   "outputs": [
    {
     "data": {
      "text/plain": [
       "CASTable('RAW_TABLE', caslib='CASUSER(Peter.Styliadis@sas.com)')"
      ]
     },
     "execution_count": 59,
     "metadata": {},
     "output_type": "execute_result"
    }
   ],
   "source": [
    "castbl"
   ]
  },
  {
   "cell_type": "markdown",
   "metadata": {},
   "source": [
    "### Solving this with Pandas\n",
    "\n",
    "- Use SPLIT twice\n",
    "- Use ASTYPE to convert to integeter (or whatever you want)"
   ]
  },
  {
   "cell_type": "code",
   "execution_count": 60,
   "metadata": {
    "tags": []
   },
   "outputs": [
    {
     "data": {
      "text/html": [
       "<div>\n",
       "<style scoped>\n",
       "    .dataframe tbody tr th:only-of-type {\n",
       "        vertical-align: middle;\n",
       "    }\n",
       "\n",
       "    .dataframe tbody tr th {\n",
       "        vertical-align: top;\n",
       "    }\n",
       "\n",
       "    .dataframe thead th {\n",
       "        text-align: right;\n",
       "    }\n",
       "</style>\n",
       "<table border=\"1\" class=\"dataframe\">\n",
       "  <thead>\n",
       "    <tr style=\"text-align: right;\">\n",
       "      <th></th>\n",
       "      <th>column_A</th>\n",
       "    </tr>\n",
       "  </thead>\n",
       "  <tbody>\n",
       "    <tr>\n",
       "      <th>0</th>\n",
       "      <td>Tot Amt = USD 2; Tot Count = 5; Min Amt = 0; Min Count = 3</td>\n",
       "    </tr>\n",
       "    <tr>\n",
       "      <th>1</th>\n",
       "      <td>Tot Amt = USD 3; Tot Count = 6; Min Amt = 1; Min Count = 4</td>\n",
       "    </tr>\n",
       "    <tr>\n",
       "      <th>2</th>\n",
       "      <td>Tot Amt = USD 4; Tot Count = 7; Min Amt = 2; Min Count = 5</td>\n",
       "    </tr>\n",
       "    <tr>\n",
       "      <th>3</th>\n",
       "      <td>Tot Amt = USD 25; Tot Count = 101; Min Amt = 85; Min Count = 49</td>\n",
       "    </tr>\n",
       "  </tbody>\n",
       "</table>\n",
       "</div>"
      ],
      "text/plain": [
       "                                                          column_A\n",
       "0       Tot Amt = USD 2; Tot Count = 5; Min Amt = 0; Min Count = 3\n",
       "1       Tot Amt = USD 3; Tot Count = 6; Min Amt = 1; Min Count = 4\n",
       "2       Tot Amt = USD 4; Tot Count = 7; Min Amt = 2; Min Count = 5\n",
       "3  Tot Amt = USD 25; Tot Count = 101; Min Amt = 85; Min Count = 49"
      ]
     },
     "execution_count": 60,
     "metadata": {},
     "output_type": "execute_result"
    }
   ],
   "source": [
    "## Preview pandas dataframe\n",
    "raw_table.head()"
   ]
  },
  {
   "cell_type": "code",
   "execution_count": 61,
   "metadata": {
    "tags": []
   },
   "outputs": [
    {
     "data": {
      "text/html": [
       "<div>\n",
       "<style scoped>\n",
       "    .dataframe tbody tr th:only-of-type {\n",
       "        vertical-align: middle;\n",
       "    }\n",
       "\n",
       "    .dataframe tbody tr th {\n",
       "        vertical-align: top;\n",
       "    }\n",
       "\n",
       "    .dataframe thead th {\n",
       "        text-align: right;\n",
       "    }\n",
       "</style>\n",
       "<table border=\"1\" class=\"dataframe\">\n",
       "  <thead>\n",
       "    <tr style=\"text-align: right;\">\n",
       "      <th></th>\n",
       "      <th>column_A</th>\n",
       "      <th>Tot_Amt_1</th>\n",
       "      <th>Tot_Amt_2</th>\n",
       "      <th>Tot_Amt_3</th>\n",
       "      <th>Tot_Amt_4</th>\n",
       "    </tr>\n",
       "  </thead>\n",
       "  <tbody>\n",
       "    <tr>\n",
       "      <th>0</th>\n",
       "      <td>Tot Amt = USD 2; Tot Count = 5; Min Amt = 0; Min Count = 3</td>\n",
       "      <td>2</td>\n",
       "      <td>5</td>\n",
       "      <td>0</td>\n",
       "      <td>3</td>\n",
       "    </tr>\n",
       "    <tr>\n",
       "      <th>1</th>\n",
       "      <td>Tot Amt = USD 3; Tot Count = 6; Min Amt = 1; Min Count = 4</td>\n",
       "      <td>3</td>\n",
       "      <td>6</td>\n",
       "      <td>1</td>\n",
       "      <td>4</td>\n",
       "    </tr>\n",
       "    <tr>\n",
       "      <th>2</th>\n",
       "      <td>Tot Amt = USD 4; Tot Count = 7; Min Amt = 2; Min Count = 5</td>\n",
       "      <td>4</td>\n",
       "      <td>7</td>\n",
       "      <td>2</td>\n",
       "      <td>5</td>\n",
       "    </tr>\n",
       "    <tr>\n",
       "      <th>3</th>\n",
       "      <td>Tot Amt = USD 25; Tot Count = 101; Min Amt = 85; Min Count = 49</td>\n",
       "      <td>25</td>\n",
       "      <td>101</td>\n",
       "      <td>85</td>\n",
       "      <td>49</td>\n",
       "    </tr>\n",
       "  </tbody>\n",
       "</table>\n",
       "</div>"
      ],
      "text/plain": [
       "                                                          column_A  Tot_Amt_1  \\\n",
       "0       Tot Amt = USD 2; Tot Count = 5; Min Amt = 0; Min Count = 3          2   \n",
       "1       Tot Amt = USD 3; Tot Count = 6; Min Amt = 1; Min Count = 4          3   \n",
       "2       Tot Amt = USD 4; Tot Count = 7; Min Amt = 2; Min Count = 5          4   \n",
       "3  Tot Amt = USD 25; Tot Count = 101; Min Amt = 85; Min Count = 49         25   \n",
       "\n",
       "   Tot_Amt_2  Tot_Amt_3  Tot_Amt_4  \n",
       "0          5          0          3  \n",
       "1          6          1          4  \n",
       "2          7          2          5  \n",
       "3        101         85         49  "
      ]
     },
     "execution_count": 61,
     "metadata": {},
     "output_type": "execute_result"
    }
   ],
   "source": [
    "## Create function to get desired number (this is nice with Pandas)\n",
    "def get_numeric_value(column, position):\n",
    "    \n",
    "    return (raw_table['column_A']\n",
    "            .str.split(';')          ## Split all statements by ;\n",
    "            .str[position -1]        ## Get the statement by position (Use 1,2,3 instead of 0,1,2\n",
    "            .str.split(' ')          ## Split the single statement by a space\n",
    "            .str[-1]                 ## Pull the last element (the number)\n",
    "            .astype('int'))          ## Convert the characer number to a numeric column\n",
    "\n",
    "\n",
    "## Create final dataframe\n",
    "final_df = (raw_table\n",
    "            .assign(\n",
    "                 Tot_Amt_1 = get_numeric_value('column_A',1),\n",
    "                 Tot_Amt_2 = get_numeric_value('column_A',2),\n",
    "                 Tot_Amt_3 = get_numeric_value('column_A',3),\n",
    "                 Tot_Amt_4 = get_numeric_value('column_A',4),\n",
    "            )\n",
    ")\n",
    "\n",
    "final_df.head()"
   ]
  },
  {
   "cell_type": "markdown",
   "metadata": {
    "tags": []
   },
   "source": [
    "Check the data types of final dataframe"
   ]
  },
  {
   "cell_type": "code",
   "execution_count": 62,
   "metadata": {
    "tags": []
   },
   "outputs": [
    {
     "data": {
      "text/plain": [
       "column_A     object\n",
       "Tot_Amt_1     int32\n",
       "Tot_Amt_2     int32\n",
       "Tot_Amt_3     int32\n",
       "Tot_Amt_4     int32\n",
       "dtype: object"
      ]
     },
     "execution_count": 62,
     "metadata": {},
     "output_type": "execute_result"
    }
   ],
   "source": [
    "final_df.dtypes"
   ]
  },
  {
   "cell_type": "markdown",
   "metadata": {},
   "source": [
    "### Final SWAT/CAS MPP Solution\n",
    "\n",
    "- Use SCAN instead of SPLIT\n",
    "- Use INPUT instead of ASTYPE to convert to integeter (or whatever you want)"
   ]
  },
  {
   "cell_type": "markdown",
   "metadata": {},
   "source": [
    "#### Add individual statement to each eval method"
   ]
  },
  {
   "cell_type": "code",
   "execution_count": 63,
   "metadata": {
    "tags": []
   },
   "outputs": [
    {
     "data": {
      "text/html": [
       "<div>\n",
       "<style scoped>\n",
       "    .dataframe tbody tr th:only-of-type {\n",
       "        vertical-align: middle;\n",
       "    }\n",
       "\n",
       "    .dataframe tbody tr th {\n",
       "        vertical-align: top;\n",
       "    }\n",
       "\n",
       "    .dataframe thead th {\n",
       "        text-align: right;\n",
       "    }\n",
       "</style>\n",
       "<table border=\"1\" class=\"dataframe\"><caption>Selected Rows from Table FINAL_TABLE</caption>\n",
       "  <thead>\n",
       "    <tr style=\"text-align: right;\">\n",
       "      <th title=\"\"></th>\n",
       "      <th title=\"column_A\">column_A</th>\n",
       "      <th title=\"Tot_Amt_1\">Tot_Amt_1</th>\n",
       "      <th title=\"Tot_Amt_2\">Tot_Amt_2</th>\n",
       "      <th title=\"Tot_Amt_3\">Tot_Amt_3</th>\n",
       "      <th title=\"Tot_Amt_4\">Tot_Amt_4</th>\n",
       "    </tr>\n",
       "  </thead>\n",
       "  <tbody>\n",
       "    <tr>\n",
       "      <td>0</td>\n",
       "      <td>Tot Amt = USD 2; Tot Count = 5; Min Amt = 0; Min Count = 3</td>\n",
       "      <td>2.0</td>\n",
       "      <td>5.0</td>\n",
       "      <td>0.0</td>\n",
       "      <td>3.0</td>\n",
       "    </tr>\n",
       "    <tr>\n",
       "      <td>1</td>\n",
       "      <td>Tot Amt = USD 3; Tot Count = 6; Min Amt = 1; Min Count = 4</td>\n",
       "      <td>3.0</td>\n",
       "      <td>6.0</td>\n",
       "      <td>1.0</td>\n",
       "      <td>4.0</td>\n",
       "    </tr>\n",
       "    <tr>\n",
       "      <td>2</td>\n",
       "      <td>Tot Amt = USD 4; Tot Count = 7; Min Amt = 2; Min Count = 5</td>\n",
       "      <td>4.0</td>\n",
       "      <td>7.0</td>\n",
       "      <td>2.0</td>\n",
       "      <td>5.0</td>\n",
       "    </tr>\n",
       "    <tr>\n",
       "      <td>3</td>\n",
       "      <td>Tot Amt = USD 25; Tot Count = 101; Min Amt = 85; Min Count = 49</td>\n",
       "      <td>25.0</td>\n",
       "      <td>101.0</td>\n",
       "      <td>85.0</td>\n",
       "      <td>49.0</td>\n",
       "    </tr>\n",
       "  </tbody>\n",
       "</table>\n",
       "</div>"
      ],
      "text/plain": [
       "Selected Rows from Table FINAL_TABLE\n",
       "\n",
       "                                                          column_A  Tot_Amt_1  Tot_Amt_2  Tot_Amt_3  Tot_Amt_4\n",
       "0       Tot Amt = USD 2; Tot Count = 5; Min Amt = 0; Min Count = 3        2.0        5.0        0.0        3.0\n",
       "1       Tot Amt = USD 3; Tot Count = 6; Min Amt = 1; Min Count = 4        3.0        6.0        1.0        4.0\n",
       "2       Tot Amt = USD 4; Tot Count = 7; Min Amt = 2; Min Count = 5        4.0        7.0        2.0        5.0\n",
       "3  Tot Amt = USD 25; Tot Count = 101; Min Amt = 85; Min Count = 49       25.0      101.0       85.0       49.0"
      ]
     },
     "execution_count": 63,
     "metadata": {},
     "output_type": "execute_result"
    }
   ],
   "source": [
    "(castbl                  \n",
    " .eval(\"Tot_Amt_1 = input(scan(scan(column_A,1,';'), -1, ' '), 8.)\", inplace=False)   \n",
    " .eval(\"Tot_Amt_2 = input(scan(scan(column_A,2,';'), -1, ' '), 8.)\", inplace=False) \n",
    " .eval(\"Tot_Amt_3 = input(scan(scan(column_A,3,';'), -1, ' '), 8.)\", inplace=False)  \n",
    " .eval(\"Tot_Amt_4 = input(scan(scan(column_A,4,';'), -1, ' '), 8.)\", inplace=False) \n",
    " .copyTable(casout = {'name':'Final_table', \n",
    "                      'caslib':'casuser', \n",
    "                      'replace':True})\n",
    ")\n",
    "\n",
    "finalTbl = conn.CASTable('final_table', caslib = 'casuser')\n",
    "\n",
    "finalTbl.head()"
   ]
  },
  {
   "cell_type": "code",
   "execution_count": 19,
   "metadata": {
    "tags": []
   },
   "outputs": [
    {
     "data": {
      "text/html": [
       "<div class=\"cas-results-key\"><b>&#167; ColumnInfo</b></div>\n",
       "<div class=\"cas-results-body\">\n",
       "<div>\n",
       "<style scoped>\n",
       "    .dataframe tbody tr th:only-of-type {\n",
       "        vertical-align: middle;\n",
       "    }\n",
       "\n",
       "    .dataframe tbody tr th {\n",
       "        vertical-align: top;\n",
       "    }\n",
       "\n",
       "    .dataframe thead th {\n",
       "        text-align: right;\n",
       "    }\n",
       "</style>\n",
       "<table border=\"1\" class=\"dataframe\">\n",
       "  <thead>\n",
       "    <tr style=\"text-align: right;\">\n",
       "      <th title=\"\"></th>\n",
       "      <th title=\"Column\">Column</th>\n",
       "      <th title=\"Label\">Label</th>\n",
       "      <th title=\"ID\">ID</th>\n",
       "      <th title=\"Type\">Type</th>\n",
       "      <th title=\"RawLength\">RawLength</th>\n",
       "      <th title=\"FormattedLength\">FormattedLength</th>\n",
       "      <th title=\"Format\">Format</th>\n",
       "      <th title=\"NFL\">NFL</th>\n",
       "      <th title=\"NFD\">NFD</th>\n",
       "    </tr>\n",
       "  </thead>\n",
       "  <tbody>\n",
       "    <tr>\n",
       "      <td>0</td>\n",
       "      <td>column_A</td>\n",
       "      <td></td>\n",
       "      <td>1</td>\n",
       "      <td>varchar</td>\n",
       "      <td>63</td>\n",
       "      <td>63</td>\n",
       "      <td></td>\n",
       "      <td>0</td>\n",
       "      <td>0</td>\n",
       "    </tr>\n",
       "    <tr>\n",
       "      <td>1</td>\n",
       "      <td>Tot_Amt_1</td>\n",
       "      <td></td>\n",
       "      <td>2</td>\n",
       "      <td>double</td>\n",
       "      <td>8</td>\n",
       "      <td>12</td>\n",
       "      <td></td>\n",
       "      <td>0</td>\n",
       "      <td>0</td>\n",
       "    </tr>\n",
       "    <tr>\n",
       "      <td>2</td>\n",
       "      <td>Tot_Amt_2</td>\n",
       "      <td></td>\n",
       "      <td>3</td>\n",
       "      <td>double</td>\n",
       "      <td>8</td>\n",
       "      <td>12</td>\n",
       "      <td></td>\n",
       "      <td>0</td>\n",
       "      <td>0</td>\n",
       "    </tr>\n",
       "    <tr>\n",
       "      <td>3</td>\n",
       "      <td>Tot_Amt_3</td>\n",
       "      <td></td>\n",
       "      <td>4</td>\n",
       "      <td>double</td>\n",
       "      <td>8</td>\n",
       "      <td>12</td>\n",
       "      <td></td>\n",
       "      <td>0</td>\n",
       "      <td>0</td>\n",
       "    </tr>\n",
       "    <tr>\n",
       "      <td>4</td>\n",
       "      <td>Tot_Amt_4</td>\n",
       "      <td></td>\n",
       "      <td>5</td>\n",
       "      <td>double</td>\n",
       "      <td>8</td>\n",
       "      <td>12</td>\n",
       "      <td></td>\n",
       "      <td>0</td>\n",
       "      <td>0</td>\n",
       "    </tr>\n",
       "  </tbody>\n",
       "</table>\n",
       "</div>\n",
       "</div>\n",
       "<div class=\"cas-output-area\"></div>\n",
       "<p class=\"cas-results-performance\"><small><span class=\"cas-elapsed\">elapsed 0.0116s</span> &#183; <span class=\"cas-user\">user 0.000975s</span> &#183; <span class=\"cas-sys\">sys 0.0166s</span> &#183; <span class=\"cas-memory\">mem 2.52MB</span></small></p>"
      ],
      "text/plain": [
       "[ColumnInfo]\n",
       "\n",
       "       Column Label  ID     Type  RawLength  FormattedLength Format  NFL  NFD\n",
       " 0   column_A         1  varchar         63               63           0    0\n",
       " 1  Tot_Amt_1         2   double          8               12           0    0\n",
       " 2  Tot_Amt_2         3   double          8               12           0    0\n",
       " 3  Tot_Amt_3         4   double          8               12           0    0\n",
       " 4  Tot_Amt_4         5   double          8               12           0    0\n",
       "\n",
       "+ Elapsed: 0.0116s, user: 0.000975s, sys: 0.0166s, mem: 2.52mb"
      ]
     },
     "execution_count": 19,
     "metadata": {},
     "output_type": "execute_result"
    }
   ],
   "source": [
    "finalTbl.columnInfo()"
   ]
  },
  {
   "cell_type": "markdown",
   "metadata": {},
   "source": [
    "#### Make it a bit more dynamic with a Python string function to return the expression"
   ]
  },
  {
   "cell_type": "code",
   "execution_count": 64,
   "metadata": {
    "tags": []
   },
   "outputs": [
    {
     "data": {
      "text/html": [
       "<div>\n",
       "<style scoped>\n",
       "    .dataframe tbody tr th:only-of-type {\n",
       "        vertical-align: middle;\n",
       "    }\n",
       "\n",
       "    .dataframe tbody tr th {\n",
       "        vertical-align: top;\n",
       "    }\n",
       "\n",
       "    .dataframe thead th {\n",
       "        text-align: right;\n",
       "    }\n",
       "</style>\n",
       "<table border=\"1\" class=\"dataframe\"><caption>Selected Rows from Table FINAL_TABLE</caption>\n",
       "  <thead>\n",
       "    <tr style=\"text-align: right;\">\n",
       "      <th title=\"\"></th>\n",
       "      <th title=\"column_A\">column_A</th>\n",
       "      <th title=\"Tot_Amt_1\">Tot_Amt_1</th>\n",
       "      <th title=\"Tot_Amt_2\">Tot_Amt_2</th>\n",
       "      <th title=\"Tot_Amt_3\">Tot_Amt_3</th>\n",
       "      <th title=\"Tot_Amt_4\">Tot_Amt_4</th>\n",
       "    </tr>\n",
       "  </thead>\n",
       "  <tbody>\n",
       "    <tr>\n",
       "      <td>0</td>\n",
       "      <td>Tot Amt = USD 2; Tot Count = 5; Min Amt = 0; Min Count = 3</td>\n",
       "      <td>2.0</td>\n",
       "      <td>5.0</td>\n",
       "      <td>0.0</td>\n",
       "      <td>3.0</td>\n",
       "    </tr>\n",
       "    <tr>\n",
       "      <td>1</td>\n",
       "      <td>Tot Amt = USD 3; Tot Count = 6; Min Amt = 1; Min Count = 4</td>\n",
       "      <td>3.0</td>\n",
       "      <td>6.0</td>\n",
       "      <td>1.0</td>\n",
       "      <td>4.0</td>\n",
       "    </tr>\n",
       "    <tr>\n",
       "      <td>2</td>\n",
       "      <td>Tot Amt = USD 4; Tot Count = 7; Min Amt = 2; Min Count = 5</td>\n",
       "      <td>4.0</td>\n",
       "      <td>7.0</td>\n",
       "      <td>2.0</td>\n",
       "      <td>5.0</td>\n",
       "    </tr>\n",
       "    <tr>\n",
       "      <td>3</td>\n",
       "      <td>Tot Amt = USD 25; Tot Count = 101; Min Amt = 85; Min Count = 49</td>\n",
       "      <td>25.0</td>\n",
       "      <td>101.0</td>\n",
       "      <td>85.0</td>\n",
       "      <td>49.0</td>\n",
       "    </tr>\n",
       "  </tbody>\n",
       "</table>\n",
       "</div>"
      ],
      "text/plain": [
       "Selected Rows from Table FINAL_TABLE\n",
       "\n",
       "                                                          column_A  Tot_Amt_1  Tot_Amt_2  Tot_Amt_3  Tot_Amt_4\n",
       "0       Tot Amt = USD 2; Tot Count = 5; Min Amt = 0; Min Count = 3        2.0        5.0        0.0        3.0\n",
       "1       Tot Amt = USD 3; Tot Count = 6; Min Amt = 1; Min Count = 4        3.0        6.0        1.0        4.0\n",
       "2       Tot Amt = USD 4; Tot Count = 7; Min Amt = 2; Min Count = 5        4.0        7.0        2.0        5.0\n",
       "3  Tot Amt = USD 25; Tot Count = 101; Min Amt = 85; Min Count = 49       25.0      101.0       85.0       49.0"
      ]
     },
     "execution_count": 64,
     "metadata": {},
     "output_type": "execute_result"
    }
   ],
   "source": [
    "## Create a function that uses the expression as a string. \n",
    "## That way it can be dynamic and you can just add the position\n",
    "## Not as elegant as pandas, but works well\n",
    "\n",
    "def cas_function(position):\n",
    "    return f\"input(scan(scan(column_A,{position},';'), -1, ' '), 8.)\"\n",
    "\n",
    "(castbl                  \n",
    " .eval(f\"Tot_Amt_1 = {cas_function(1)}\", inplace=False)   \n",
    " .eval(f\"Tot_Amt_2 = {cas_function(2)}\", inplace=False) \n",
    " .eval(f\"Tot_Amt_3 = {cas_function(3)}\", inplace=False)\n",
    " .eval(f\"Tot_Amt_4 = {cas_function(4)}\", inplace=False)  \n",
    " .copyTable(casout = {'name':'Final_table', \n",
    "                      'caslib':'casuser', \n",
    "                      'replace':True})\n",
    ")\n",
    "\n",
    "finalTbl = conn.CASTable('final_table', caslib = 'casuser')\n",
    "\n",
    "finalTbl.head()"
   ]
  },
  {
   "cell_type": "code",
   "execution_count": 65,
   "metadata": {
    "tags": []
   },
   "outputs": [
    {
     "name": "stdout",
     "output_type": "stream",
     "text": [
      "NOTE: Added action set 'fcmpact'.\n",
      "NOTE: Cloud Analytic Services saved the file FUNCTIONS.sashdat in caslib CASUSER(Peter.Styliadis@sas.com).\n"
     ]
    },
    {
     "data": {
      "text/html": [
       "<div class=\"cas-output-area\"></div>\n",
       "<p class=\"cas-results-performance\"><small><span class=\"cas-elapsed\">elapsed 0.00825s</span> &#183; <span class=\"cas-user\">user 0.00307s</span> &#183; <span class=\"cas-sys\">sys 0.00937s</span> &#183; <span class=\"cas-memory\">mem 1.37MB</span></small></p>"
      ],
      "text/plain": [
       "+ Elapsed: 0.00825s, user: 0.00307s, sys: 0.00937s, mem: 1.37mb"
      ]
     },
     "execution_count": 65,
     "metadata": {},
     "output_type": "execute_result"
    }
   ],
   "source": [
    "##\n",
    "## Create user defined function\n",
    "##\n",
    "\n",
    "## Load the UDF action set to create user defined functions\n",
    "conn.loadActionSet('fcmpact')\n",
    "\n",
    "\n",
    "## Create UDF using PROC FCMP\n",
    "myUDF = '''\n",
    "    function get_numeric_value(colname $, position);\n",
    "        \n",
    "        /* Get the statement by position */\n",
    "        get_statement_from_position = scan(colname, position,';');\n",
    "        \n",
    "        /* Get the number from the statement and convert to a numeric column */\n",
    "        get_numeric_value = input(scan(get_statement_from_position, -1, ' '), 8.);\n",
    "        \n",
    "        /* Return numeric value */\n",
    "        return(get_numeric_value);\n",
    "        \n",
    "    endsub;\n",
    "'''\n",
    "\n",
    "## Create the function and store it\n",
    "conn.addroutines(routineCode = myUDF,                 ## PROC FMCP code to create UDF\n",
    "                 package = \"MyCompanyFunction\",       ## Names the package of function(s)\n",
    "                 saveTable = True,\n",
    "                 appendTable = True,\n",
    "                 funcTable = {'name':\"Functions\", \n",
    "                              'caslib':'casuser', \n",
    "                              'replace':True})\n",
    "\n",
    "\n",
    "## Point to the new stored function(s)\n",
    "conn.setSessOpt(cmplib='casuser.Functions')"
   ]
  },
  {
   "cell_type": "code",
   "execution_count": 66,
   "metadata": {
    "tags": []
   },
   "outputs": [
    {
     "data": {
      "text/html": [
       "<div>\n",
       "<style scoped>\n",
       "    .dataframe tbody tr th:only-of-type {\n",
       "        vertical-align: middle;\n",
       "    }\n",
       "\n",
       "    .dataframe tbody tr th {\n",
       "        vertical-align: top;\n",
       "    }\n",
       "\n",
       "    .dataframe thead th {\n",
       "        text-align: right;\n",
       "    }\n",
       "</style>\n",
       "<table border=\"1\" class=\"dataframe\"><caption>Selected Rows from Table FINAL_TABLE</caption>\n",
       "  <thead>\n",
       "    <tr style=\"text-align: right;\">\n",
       "      <th title=\"\"></th>\n",
       "      <th title=\"column_A\">column_A</th>\n",
       "      <th title=\"Tot_Amt_1\">Tot_Amt_1</th>\n",
       "      <th title=\"Tot_Amt_2\">Tot_Amt_2</th>\n",
       "      <th title=\"Tot_Amt_3\">Tot_Amt_3</th>\n",
       "      <th title=\"Tot_Amt_4\">Tot_Amt_4</th>\n",
       "    </tr>\n",
       "  </thead>\n",
       "  <tbody>\n",
       "    <tr>\n",
       "      <td>0</td>\n",
       "      <td>Tot Amt = USD 2; Tot Count = 5; Min Amt = 0; Min Count = 3</td>\n",
       "      <td>2.0</td>\n",
       "      <td>5.0</td>\n",
       "      <td>0.0</td>\n",
       "      <td>3.0</td>\n",
       "    </tr>\n",
       "    <tr>\n",
       "      <td>1</td>\n",
       "      <td>Tot Amt = USD 3; Tot Count = 6; Min Amt = 1; Min Count = 4</td>\n",
       "      <td>3.0</td>\n",
       "      <td>6.0</td>\n",
       "      <td>1.0</td>\n",
       "      <td>4.0</td>\n",
       "    </tr>\n",
       "    <tr>\n",
       "      <td>2</td>\n",
       "      <td>Tot Amt = USD 4; Tot Count = 7; Min Amt = 2; Min Count = 5</td>\n",
       "      <td>4.0</td>\n",
       "      <td>7.0</td>\n",
       "      <td>2.0</td>\n",
       "      <td>5.0</td>\n",
       "    </tr>\n",
       "    <tr>\n",
       "      <td>3</td>\n",
       "      <td>Tot Amt = USD 25; Tot Count = 101; Min Amt = 85; Min Count = 49</td>\n",
       "      <td>25.0</td>\n",
       "      <td>101.0</td>\n",
       "      <td>85.0</td>\n",
       "      <td>49.0</td>\n",
       "    </tr>\n",
       "  </tbody>\n",
       "</table>\n",
       "</div>"
      ],
      "text/plain": [
       "Selected Rows from Table FINAL_TABLE\n",
       "\n",
       "                                                          column_A  Tot_Amt_1  Tot_Amt_2  Tot_Amt_3  Tot_Amt_4\n",
       "0       Tot Amt = USD 2; Tot Count = 5; Min Amt = 0; Min Count = 3        2.0        5.0        0.0        3.0\n",
       "1       Tot Amt = USD 3; Tot Count = 6; Min Amt = 1; Min Count = 4        3.0        6.0        1.0        4.0\n",
       "2       Tot Amt = USD 4; Tot Count = 7; Min Amt = 2; Min Count = 5        4.0        7.0        2.0        5.0\n",
       "3  Tot Amt = USD 25; Tot Count = 101; Min Amt = 85; Min Count = 49       25.0      101.0       85.0       49.0"
      ]
     },
     "execution_count": 66,
     "metadata": {},
     "output_type": "execute_result"
    }
   ],
   "source": [
    "## Use the PROC FMCP created UDF\n",
    "\n",
    "(castbl                  \n",
    " .eval(\"Tot_Amt_1 = get_numeric_value(column_A, 1)\", inplace=False)   \n",
    " .eval(\"Tot_Amt_2 = get_numeric_value(column_A, 2)\", inplace=False) \n",
    " .eval(\"Tot_Amt_3 = get_numeric_value(column_A, 3)\", inplace=False)\n",
    " .eval(\"Tot_Amt_4 = get_numeric_value(column_A, 4)\", inplace=False)  \n",
    " .copyTable(casout = {'name':'Final_table', \n",
    "                      'caslib':'casuser', \n",
    "                      'replace':True})\n",
    ")\n",
    "\n",
    "finalTbl = conn.CASTable('final_table', caslib = 'casuser')\n",
    "\n",
    "finalTbl.head()"
   ]
  },
  {
   "cell_type": "markdown",
   "metadata": {},
   "source": [
    "## Terminate the CAS session"
   ]
  },
  {
   "cell_type": "code",
   "execution_count": null,
   "metadata": {},
   "outputs": [],
   "source": [
    "conn.terminate()"
   ]
  },
  {
   "cell_type": "markdown",
   "metadata": {},
   "source": [
    " "
   ]
  }
 ],
 "metadata": {
  "kernelspec": {
   "display_name": "Python 3 (ipykernel)",
   "language": "python",
   "name": "python3"
  },
  "language_info": {
   "codemirror_mode": {
    "name": "ipython",
    "version": 3
   },
   "file_extension": ".py",
   "mimetype": "text/x-python",
   "name": "python",
   "nbconvert_exporter": "python",
   "pygments_lexer": "ipython3",
   "version": "3.8.16"
  }
 },
 "nbformat": 4,
 "nbformat_minor": 4
}
