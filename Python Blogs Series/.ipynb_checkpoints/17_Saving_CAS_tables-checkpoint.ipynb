{
 "cells": [
  {
   "cell_type": "markdown",
   "id": "cd696936-27b8-457a-a7bb-0892660787d7",
   "metadata": {},
   "source": [
    "# Saving CAS tables as data source files"
   ]
  },
  {
   "cell_type": "code",
   "execution_count": null,
   "id": "d744c006-b1cd-401f-a462-241170437b8a",
   "metadata": {},
   "outputs": [],
   "source": [
    "## Packages\n",
    "import swat\n",
    "import pandas as pd\n",
    "import os\n",
    "from casConnect import connect_to_cas ## custom personal module\n",
    "\n",
    "##\n",
    "## Connect to CAS\n",
    "##\n",
    "\n",
    "## General connection syntax\n",
    "# conn = swat.CAS(host, port, username, password)\n",
    "\n",
    "## Viya for Learners 3.5 connection\n",
    "# hostValue = os.environ.get('CASHOST')\n",
    "# portValue = os.environ.get('CASPORT')\n",
    "# passwordToken=os.environ.get('SAS_VIYA_TOKEN')\n",
    "# conn = swat.CAS(hostname=hostValue, port=portValue, password=passwordToken)\n",
    "\n",
    "## Personal connection\n",
    "conn = connect_to_cas()"
   ]
  },
  {
   "cell_type": "markdown",
   "id": "c8f39d84-716d-4507-91db-29edd6f70112",
   "metadata": {},
   "source": [
    "## Load the demonstration data into memory\n",
    "Load the xxx"
   ]
  },
  {
   "cell_type": "code",
   "execution_count": 2,
   "id": "d84763e1-898a-41a9-80cc-da8866e14bb9",
   "metadata": {},
   "outputs": [
    {
     "ename": "NameError",
     "evalue": "name 'conn' is not defined",
     "output_type": "error",
     "traceback": [
      "\u001b[1;31m---------------------------------------------------------------------------\u001b[0m",
      "\u001b[1;31mNameError\u001b[0m                                 Traceback (most recent call last)",
      "\u001b[1;32m~\\AppData\\Local\\Temp\\ipykernel_4356\\333853414.py\u001b[0m in \u001b[0;36m<module>\u001b[1;34m\u001b[0m\n\u001b[1;32m----> 1\u001b[1;33m conn.loadTable(path = 'RAND_RETAILDEMO.sashdat', caslib = 'samples',\n\u001b[0m\u001b[0;32m      2\u001b[0m                casout = {\n\u001b[0;32m      3\u001b[0m                       \u001b[1;34m'caslib'\u001b[0m\u001b[1;33m:\u001b[0m\u001b[1;34m'casuser'\u001b[0m\u001b[1;33m,\u001b[0m\u001b[1;33m\u001b[0m\u001b[1;33m\u001b[0m\u001b[0m\n\u001b[0;32m      4\u001b[0m                       \u001b[1;34m'replace'\u001b[0m\u001b[1;33m:\u001b[0m\u001b[1;32mTrue\u001b[0m\u001b[1;33m\u001b[0m\u001b[1;33m\u001b[0m\u001b[0m\n\u001b[0;32m      5\u001b[0m                })\n",
      "\u001b[1;31mNameError\u001b[0m: name 'conn' is not defined"
     ]
    }
   ],
   "source": [
    "conn.loadTable(path = 'RAND_RETAILDEMO.sashdat', caslib = 'samples',\n",
    "               casout = {\n",
    "                      'caslib':'casuser',\n",
    "                      'replace':True\n",
    "               })"
   ]
  },
  {
   "cell_type": "code",
   "execution_count": null,
   "id": "8954a96a-2ec2-4ed0-8ecd-8a1843f0bae3",
   "metadata": {},
   "outputs": [],
   "source": [
    "castbl = prep_data()\n",
    "type(tbl)"
   ]
  },
  {
   "cell_type": "code",
   "execution_count": null,
   "id": "11fec6a9-9aa3-4c69-95cf-b7f3a987aae5",
   "metadata": {},
   "outputs": [],
   "source": [
    "conn.tableInfo(caslib = 'casuser')"
   ]
  },
  {
   "cell_type": "code",
   "execution_count": null,
   "id": "c546a8f1-0e6a-443e-a731-df1f4659e417",
   "metadata": {},
   "outputs": [],
   "source": []
  },
  {
   "cell_type": "code",
   "execution_count": null,
   "id": "ee637d9c-eadd-47b8-a542-521cbdd8f19d",
   "metadata": {},
   "outputs": [],
   "source": []
  },
  {
   "cell_type": "code",
   "execution_count": null,
   "id": "7a13f67d-2af6-4b1e-b093-590ca3ba00ed",
   "metadata": {},
   "outputs": [],
   "source": []
  },
  {
   "cell_type": "code",
   "execution_count": null,
   "id": "4552c9a5-2b3a-4f63-b15b-ea98f635f768",
   "metadata": {},
   "outputs": [],
   "source": []
  },
  {
   "cell_type": "markdown",
   "id": "a79c86fd-3818-454d-8518-911dcb47b50b",
   "metadata": {},
   "source": [
    "## Terminate the CAS connection"
   ]
  },
  {
   "cell_type": "code",
   "execution_count": 37,
   "id": "3f6fb6b4-68d9-415b-8ef7-c65ed08882f5",
   "metadata": {},
   "outputs": [],
   "source": [
    "conn.terminate()"
   ]
  },
  {
   "cell_type": "markdown",
   "id": "d34d7c0d-0a11-4503-ae9c-62f6d9e7755f",
   "metadata": {},
   "source": [
    " "
   ]
  }
 ],
 "metadata": {
  "kernelspec": {
   "display_name": "Python 3 (ipykernel)",
   "language": "python",
   "name": "python3"
  },
  "language_info": {
   "codemirror_mode": {
    "name": "ipython",
    "version": 3
   },
   "file_extension": ".py",
   "mimetype": "text/x-python",
   "name": "python",
   "nbconvert_exporter": "python",
   "pygments_lexer": "ipython3",
   "version": "3.8.16"
  }
 },
 "nbformat": 4,
 "nbformat_minor": 5
}
