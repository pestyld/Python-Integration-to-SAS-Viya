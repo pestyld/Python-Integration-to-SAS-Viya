{
 "cells": [
  {
   "cell_type": "markdown",
   "metadata": {},
   "source": [
    "# DEMO: Imputing Missing Values"
   ]
  },
  {
   "cell_type": "markdown",
   "metadata": {},
   "source": [
    "### 1. Import Packages and Connect to the CAS Server\n",
    "\n",
    "Visit the documentation for the SWAT [(SAS Scripting Wrapper for Analytics Transfer)](https://sassoftware.github.io/python-swat/index.html) package."
   ]
  },
  {
   "cell_type": "code",
   "execution_count": null,
   "metadata": {},
   "outputs": [],
   "source": [
    "## Packages\n",
    "import swat\n",
    "import pandas as pd\n",
    "import numpy as np\n",
    "\n",
    "## custom personal module to connect to my CAS environment\n",
    "try:\n",
    "    from casConnect import connect_to_cas \n",
    "except:\n",
    "    print('CasConnect package not available')\n",
    "\n",
    "    \n",
    "\n",
    "######################\n",
    "## Connect to CAS   ##\n",
    "######################\n",
    "\n",
    "## My personal connection to CAS. You will need to modify your connection object\n",
    "try:\n",
    "    conn = connect_to_cas()\n",
    "except:\n",
    "    print('My personal connection to CAS. You will need to modify yours using your connection information.')\n",
    "\n",
    "\n",
    "## General connection syntax\n",
    "# conn = swat.CAS(host, port, username, password)\n",
    "\n",
    "\n",
    "## Viya for Learners 3.5 connection\n",
    "# hostValue = os.environ.get('CASHOST')/\n",
    "# portValue = os.environ.get('CASPORT')\n",
    "# passwordToken=os.environ.get('SAS_VIYA_TOKEN')\n",
    "# conn = swat.CAS(hostname=hostValue, port=portValue, password=passwordToken)"
   ]
  },
  {
   "cell_type": "markdown",
   "metadata": {},
   "source": [
    "## Load the demonstration data into memory"
   ]
  },
  {
   "cell_type": "code",
   "execution_count": null,
   "metadata": {},
   "outputs": [],
   "source": [
    "## Create a simple dataframe\n",
    "df = pd.DataFrame([\n",
    "            [np.nan, 2, 45, 0, 'A'],\n",
    "            [3, 4, np.nan, 1,'A'],\n",
    "            [np.nan, np.nan, 50, np.nan,'B'],\n",
    "            [np.nan, 3, np.nan, 4,],\n",
    "            [2, 2, np.nan, 0, 'A'],\n",
    "            [3, 4, np.nan, 1,'A'],\n",
    "            [np.nan, np.nan, 75, np.nan,'B'],\n",
    "            [np.nan, 3, 60, 4,]\n",
    "            ],\n",
    "            columns=['col1','col2','col3','col4','col5'])\n",
    "\n",
    "## Upload the dataframe to the CAS server as a CAS table\n",
    "castbl = conn.upload_frame(df,\n",
    "                           casout = {'name':'missing_data', \n",
    "                                     'caslib':'casuser', \n",
    "                                     'replace':True})"
   ]
  },
  {
   "cell_type": "code",
   "execution_count": null,
   "metadata": {},
   "outputs": [],
   "source": [
    "castbl.head(10)"
   ]
  },
  {
   "cell_type": "markdown",
   "metadata": {},
   "source": [
    "## Using the SWAT nmiss method"
   ]
  },
  {
   "cell_type": "code",
   "execution_count": null,
   "metadata": {},
   "outputs": [],
   "source": [
    "castbl.nmiss()"
   ]
  },
  {
   "cell_type": "code",
   "execution_count": null,
   "metadata": {},
   "outputs": [],
   "source": [
    "colNames = ['col1','col5']\n",
    "\n",
    "castbl[colNames].nmiss()"
   ]
  },
  {
   "cell_type": "markdown",
   "metadata": {},
   "source": [
    "## Distinct CAS action"
   ]
  },
  {
   "cell_type": "code",
   "execution_count": null,
   "metadata": {},
   "outputs": [],
   "source": [
    "castbl.distinct()"
   ]
  },
  {
   "cell_type": "code",
   "execution_count": null,
   "metadata": {},
   "outputs": [],
   "source": [
    "castbl.distinct(inputs = colNames)"
   ]
  },
  {
   "cell_type": "markdown",
   "metadata": {},
   "source": [
    "## Summary CAS action"
   ]
  },
  {
   "cell_type": "code",
   "execution_count": null,
   "metadata": {},
   "outputs": [],
   "source": [
    "castbl.summary()"
   ]
  },
  {
   "cell_type": "code",
   "execution_count": null,
   "metadata": {},
   "outputs": [],
   "source": [
    "castbl.summary(inputs = ['col1','col2'], \n",
    "               subSet = ['min','max','nmiss'])"
   ]
  },
  {
   "cell_type": "markdown",
   "metadata": {},
   "source": [
    "## Terminate the CAS Session"
   ]
  },
  {
   "cell_type": "code",
   "execution_count": null,
   "metadata": {},
   "outputs": [],
   "source": [
    "conn.terminate()"
   ]
  },
  {
   "cell_type": "markdown",
   "metadata": {},
   "source": [
    " "
   ]
  }
 ],
 "metadata": {
  "kernelspec": {
   "display_name": "Python 3 (ipykernel)",
   "language": "python",
   "name": "python3"
  },
  "language_info": {
   "codemirror_mode": {
    "name": "ipython",
    "version": 3
   },
   "file_extension": ".py",
   "mimetype": "text/x-python",
   "name": "python",
   "nbconvert_exporter": "python",
   "pygments_lexer": "ipython3",
   "version": "3.8.16"
  }
 },
 "nbformat": 4,
 "nbformat_minor": 4
}
