{
 "cells": [
  {
   "cell_type": "markdown",
   "metadata": {},
   "source": [
    "# Count missing values in CAS tables"
   ]
  },
  {
   "cell_type": "markdown",
   "metadata": {},
   "source": [
    "## Import Packages and Connect to the CAS Server"
   ]
  },
  {
   "cell_type": "code",
   "execution_count": 3,
   "metadata": {},
   "outputs": [
    {
     "name": "stdout",
     "output_type": "stream",
     "text": [
      "CasConnect package not available\n",
      "My personal connection to CAS. You will need to modify yours using your connection information.\n"
     ]
    }
   ],
   "source": [
    "## Packages\n",
    "import swat\n",
    "import pandas as pd\n",
    "import numpy as np\n",
    "import os\n",
    "\n",
    "## custom personal module to connect to my CAS environment\n",
    "try:\n",
    "    from casConnect import connect_to_cas \n",
    "except:\n",
    "    print('CasConnect package not available')\n",
    "\n",
    "    \n",
    "\n",
    "######################\n",
    "## Connect to CAS   ##\n",
    "######################\n",
    "\n",
    "## My personal connection to CAS. You will need to modify your connection object\n",
    "try:\n",
    "    conn = connect_to_cas()\n",
    "except:\n",
    "    print('My personal connection to CAS. You will need to modify yours using your connection information.')\n",
    "\n",
    "\n",
    "## General connection syntax\n",
    "# conn = swat.CAS(host, port, username, password)\n",
    "\n",
    "\n",
    "## Viya for Learners 3.5 connection\n",
    "# hostValue = os.environ.get('CASHOST')\n",
    "# portValue = os.environ.get('CASPORT')\n",
    "# passwordToken=os.environ.get('SAS_VIYA_TOKEN')\n",
    "# conn = swat.CAS(hostname=hostValue, port=portValue, password=passwordToken)"
   ]
  },
  {
   "cell_type": "markdown",
   "metadata": {},
   "source": [
    "## Load the demonstration data into memory"
   ]
  },
  {
   "cell_type": "code",
   "execution_count": 4,
   "metadata": {},
   "outputs": [
    {
     "name": "stdout",
     "output_type": "stream",
     "text": [
      "NOTE: Cloud Analytic Services made the uploaded file available as table MISSING_DATA in caslib CASUSER(Peter.Styliadis@sas.com).\n",
      "NOTE: The table MISSING_DATA has been created in caslib CASUSER(Peter.Styliadis@sas.com) from binary data uploaded to Cloud Analytic Services.\n"
     ]
    }
   ],
   "source": [
    "## Create a simple dataframe\n",
    "df = pd.DataFrame([\n",
    "            [np.nan, 2, 45, 0, 'A'],\n",
    "            [3, 4, np.nan, 1,'A'],\n",
    "            [np.nan, np.nan, 50, np.nan,'B'],\n",
    "            [np.nan, 3, np.nan, 4,],\n",
    "            [2, 2, np.nan, 0, 'A'],\n",
    "            [3, 4, np.nan, 1,'A'],\n",
    "            [np.nan, np.nan, 75, np.nan,'B'],\n",
    "            [np.nan, 3, 60, 4,]\n",
    "            ],\n",
    "            columns=['col1','col2','col3','col4','col5'])\n",
    "\n",
    "## Upload the dataframe to the CAS server as a CAS table\n",
    "castbl = conn.upload_frame(df,\n",
    "                           casout = {'name':'missing_data', \n",
    "                                     'caslib':'casuser', \n",
    "                                     'replace':True})"
   ]
  },
  {
   "cell_type": "code",
   "execution_count": 5,
   "metadata": {},
   "outputs": [
    {
     "data": {
      "text/html": [
       "<div>\n",
       "<style scoped>\n",
       "    .dataframe tbody tr th:only-of-type {\n",
       "        vertical-align: middle;\n",
       "    }\n",
       "\n",
       "    .dataframe tbody tr th {\n",
       "        vertical-align: top;\n",
       "    }\n",
       "\n",
       "    .dataframe thead th {\n",
       "        text-align: right;\n",
       "    }\n",
       "</style>\n",
       "<table border=\"1\" class=\"dataframe\"><caption>Selected Rows from Table MISSING_DATA</caption>\n",
       "  <thead>\n",
       "    <tr style=\"text-align: right;\">\n",
       "      <th title=\"\"></th>\n",
       "      <th title=\"col1\">col1</th>\n",
       "      <th title=\"col2\">col2</th>\n",
       "      <th title=\"col3\">col3</th>\n",
       "      <th title=\"col4\">col4</th>\n",
       "      <th title=\"col5\">col5</th>\n",
       "    </tr>\n",
       "  </thead>\n",
       "  <tbody>\n",
       "    <tr>\n",
       "      <th>0</th>\n",
       "      <td>NaN</td>\n",
       "      <td>2.0</td>\n",
       "      <td>45.0</td>\n",
       "      <td>0.0</td>\n",
       "      <td>A</td>\n",
       "    </tr>\n",
       "    <tr>\n",
       "      <th>1</th>\n",
       "      <td>3.0</td>\n",
       "      <td>4.0</td>\n",
       "      <td>NaN</td>\n",
       "      <td>1.0</td>\n",
       "      <td>A</td>\n",
       "    </tr>\n",
       "    <tr>\n",
       "      <th>2</th>\n",
       "      <td>NaN</td>\n",
       "      <td>NaN</td>\n",
       "      <td>50.0</td>\n",
       "      <td>NaN</td>\n",
       "      <td>B</td>\n",
       "    </tr>\n",
       "    <tr>\n",
       "      <th>3</th>\n",
       "      <td>NaN</td>\n",
       "      <td>3.0</td>\n",
       "      <td>NaN</td>\n",
       "      <td>4.0</td>\n",
       "      <td></td>\n",
       "    </tr>\n",
       "    <tr>\n",
       "      <th>4</th>\n",
       "      <td>2.0</td>\n",
       "      <td>2.0</td>\n",
       "      <td>NaN</td>\n",
       "      <td>0.0</td>\n",
       "      <td>A</td>\n",
       "    </tr>\n",
       "    <tr>\n",
       "      <th>5</th>\n",
       "      <td>3.0</td>\n",
       "      <td>4.0</td>\n",
       "      <td>NaN</td>\n",
       "      <td>1.0</td>\n",
       "      <td>A</td>\n",
       "    </tr>\n",
       "    <tr>\n",
       "      <th>6</th>\n",
       "      <td>NaN</td>\n",
       "      <td>NaN</td>\n",
       "      <td>75.0</td>\n",
       "      <td>NaN</td>\n",
       "      <td>B</td>\n",
       "    </tr>\n",
       "    <tr>\n",
       "      <th>7</th>\n",
       "      <td>NaN</td>\n",
       "      <td>3.0</td>\n",
       "      <td>60.0</td>\n",
       "      <td>4.0</td>\n",
       "      <td></td>\n",
       "    </tr>\n",
       "  </tbody>\n",
       "</table>\n",
       "</div>"
      ],
      "text/plain": [
       "Selected Rows from Table MISSING_DATA\n",
       "\n",
       "   col1  col2  col3  col4 col5\n",
       "0   NaN   2.0  45.0   0.0    A\n",
       "1   3.0   4.0   NaN   1.0    A\n",
       "2   NaN   NaN  50.0   NaN    B\n",
       "3   NaN   3.0   NaN   4.0     \n",
       "4   2.0   2.0   NaN   0.0    A\n",
       "5   3.0   4.0   NaN   1.0    A\n",
       "6   NaN   NaN  75.0   NaN    B\n",
       "7   NaN   3.0  60.0   4.0     "
      ]
     },
     "execution_count": 5,
     "metadata": {},
     "output_type": "execute_result"
    }
   ],
   "source": [
    "castbl.head(10)"
   ]
  },
  {
   "cell_type": "markdown",
   "metadata": {},
   "source": [
    "## Using the SWAT nmiss method"
   ]
  },
  {
   "cell_type": "code",
   "execution_count": 6,
   "metadata": {},
   "outputs": [
    {
     "data": {
      "text/plain": [
       "col1    5\n",
       "col2    2\n",
       "col3    4\n",
       "col4    2\n",
       "col5    2\n",
       "dtype: int64"
      ]
     },
     "execution_count": 6,
     "metadata": {},
     "output_type": "execute_result"
    }
   ],
   "source": [
    "castbl.nmiss()"
   ]
  },
  {
   "cell_type": "code",
   "execution_count": 11,
   "metadata": {},
   "outputs": [
    {
     "data": {
      "text/plain": [
       "<matplotlib.axes._subplots.AxesSubplot at 0x7fc01e267dd0>"
      ]
     },
     "execution_count": 11,
     "metadata": {},
     "output_type": "execute_result"
    },
    {
     "data": {
      "image/png": "[encoded data removed]",
      "text/plain": [
       "<Figure size 432x288 with 1 Axes>"
      ]
     },
     "metadata": {
      "needs_background": "light"
     },
     "output_type": "display_data"
    }
   ],
   "source": [
    "(castbl                    ## CAS table\n",
    " .nmiss()                  ## SWAT method\n",
    " .plot(kind = 'bar'))      ## Pandas plot"
   ]
  },
  {
   "cell_type": "code",
   "execution_count": 12,
   "metadata": {},
   "outputs": [
    {
     "data": {
      "text/plain": [
       "col1    5\n",
       "col5    2\n",
       "dtype: int64"
      ]
     },
     "execution_count": 12,
     "metadata": {},
     "output_type": "execute_result"
    }
   ],
   "source": [
    "colNames = ['col1','col5']\n",
    "\n",
    "castbl[colNames].nmiss()"
   ]
  },
  {
   "cell_type": "markdown",
   "metadata": {},
   "source": [
    "## Distinct CAS action"
   ]
  },
  {
   "cell_type": "code",
   "execution_count": 13,
   "metadata": {},
   "outputs": [
    {
     "data": {
      "text/html": [
       "<div class=\"cas-results-key\"><b>&#167; Distinct</b></div>\n",
       "<div class=\"cas-results-body\">\n",
       "<div>\n",
       "<style scoped>\n",
       "    .dataframe tbody tr th:only-of-type {\n",
       "        vertical-align: middle;\n",
       "    }\n",
       "\n",
       "    .dataframe tbody tr th {\n",
       "        vertical-align: top;\n",
       "    }\n",
       "\n",
       "    .dataframe thead th {\n",
       "        text-align: right;\n",
       "    }\n",
       "</style>\n",
       "<table border=\"1\" class=\"dataframe\"><caption>Distinct Counts for MISSING_DATA</caption>\n",
       "  <thead>\n",
       "    <tr style=\"text-align: right;\">\n",
       "      <th title=\"\"></th>\n",
       "      <th title=\"Analysis Variable\">Column</th>\n",
       "      <th title=\"Number of Distinct Values\">NDistinct</th>\n",
       "      <th title=\"Number of Missing Values\">NMiss</th>\n",
       "      <th title=\"Truncated\">Trunc</th>\n",
       "    </tr>\n",
       "  </thead>\n",
       "  <tbody>\n",
       "    <tr>\n",
       "      <th>0</th>\n",
       "      <td>col1</td>\n",
       "      <td>3.0</td>\n",
       "      <td>5.0</td>\n",
       "      <td>0.0</td>\n",
       "    </tr>\n",
       "    <tr>\n",
       "      <th>1</th>\n",
       "      <td>col2</td>\n",
       "      <td>4.0</td>\n",
       "      <td>2.0</td>\n",
       "      <td>0.0</td>\n",
       "    </tr>\n",
       "    <tr>\n",
       "      <th>2</th>\n",
       "      <td>col3</td>\n",
       "      <td>5.0</td>\n",
       "      <td>4.0</td>\n",
       "      <td>0.0</td>\n",
       "    </tr>\n",
       "    <tr>\n",
       "      <th>3</th>\n",
       "      <td>col4</td>\n",
       "      <td>4.0</td>\n",
       "      <td>2.0</td>\n",
       "      <td>0.0</td>\n",
       "    </tr>\n",
       "    <tr>\n",
       "      <th>4</th>\n",
       "      <td>col5</td>\n",
       "      <td>3.0</td>\n",
       "      <td>2.0</td>\n",
       "      <td>0.0</td>\n",
       "    </tr>\n",
       "  </tbody>\n",
       "</table>\n",
       "</div>\n",
       "</div>\n",
       "<div class=\"cas-output-area\"></div>\n",
       "<p class=\"cas-results-performance\"><small><span class=\"cas-elapsed\">elapsed 0.00618s</span> &#183; <span class=\"cas-user\">user 0.00298s</span> &#183; <span class=\"cas-sys\">sys 0.00607s</span> &#183; <span class=\"cas-memory\">mem 5.3MB</span></small></p>"
      ],
      "text/plain": [
       "[Distinct]\n",
       "\n",
       " Distinct Counts for MISSING_DATA\n",
       " \n",
       "   Column  NDistinct  NMiss  Trunc\n",
       " 0   col1        3.0    5.0    0.0\n",
       " 1   col2        4.0    2.0    0.0\n",
       " 2   col3        5.0    4.0    0.0\n",
       " 3   col4        4.0    2.0    0.0\n",
       " 4   col5        3.0    2.0    0.0\n",
       "\n",
       "+ Elapsed: 0.00618s, user: 0.00298s, sys: 0.00607s, mem: 5.3mb"
      ]
     },
     "execution_count": 13,
     "metadata": {},
     "output_type": "execute_result"
    }
   ],
   "source": [
    "castbl.distinct()"
   ]
  },
  {
   "cell_type": "code",
   "execution_count": 14,
   "metadata": {},
   "outputs": [
    {
     "data": {
      "text/html": [
       "<div class=\"cas-results-key\"><b>&#167; Distinct</b></div>\n",
       "<div class=\"cas-results-body\">\n",
       "<div>\n",
       "<style scoped>\n",
       "    .dataframe tbody tr th:only-of-type {\n",
       "        vertical-align: middle;\n",
       "    }\n",
       "\n",
       "    .dataframe tbody tr th {\n",
       "        vertical-align: top;\n",
       "    }\n",
       "\n",
       "    .dataframe thead th {\n",
       "        text-align: right;\n",
       "    }\n",
       "</style>\n",
       "<table border=\"1\" class=\"dataframe\"><caption>Distinct Counts for MISSING_DATA</caption>\n",
       "  <thead>\n",
       "    <tr style=\"text-align: right;\">\n",
       "      <th title=\"\"></th>\n",
       "      <th title=\"Analysis Variable\">Column</th>\n",
       "      <th title=\"Number of Distinct Values\">NDistinct</th>\n",
       "      <th title=\"Number of Missing Values\">NMiss</th>\n",
       "      <th title=\"Truncated\">Trunc</th>\n",
       "    </tr>\n",
       "  </thead>\n",
       "  <tbody>\n",
       "    <tr>\n",
       "      <th>0</th>\n",
       "      <td>col1</td>\n",
       "      <td>3.0</td>\n",
       "      <td>5.0</td>\n",
       "      <td>0.0</td>\n",
       "    </tr>\n",
       "    <tr>\n",
       "      <th>1</th>\n",
       "      <td>col5</td>\n",
       "      <td>3.0</td>\n",
       "      <td>2.0</td>\n",
       "      <td>0.0</td>\n",
       "    </tr>\n",
       "  </tbody>\n",
       "</table>\n",
       "</div>\n",
       "</div>\n",
       "<div class=\"cas-output-area\"></div>\n",
       "<p class=\"cas-results-performance\"><small><span class=\"cas-elapsed\">elapsed 0.00514s</span> &#183; <span class=\"cas-user\">user 0.000908s</span> &#183; <span class=\"cas-sys\">sys 0.00666s</span> &#183; <span class=\"cas-memory\">mem 4.87MB</span></small></p>"
      ],
      "text/plain": [
       "[Distinct]\n",
       "\n",
       " Distinct Counts for MISSING_DATA\n",
       " \n",
       "   Column  NDistinct  NMiss  Trunc\n",
       " 0   col1        3.0    5.0    0.0\n",
       " 1   col5        3.0    2.0    0.0\n",
       "\n",
       "+ Elapsed: 0.00514s, user: 0.000908s, sys: 0.00666s, mem: 4.87mb"
      ]
     },
     "execution_count": 14,
     "metadata": {},
     "output_type": "execute_result"
    }
   ],
   "source": [
    "castbl.distinct(inputs = colNames)"
   ]
  },
  {
   "cell_type": "markdown",
   "metadata": {},
   "source": [
    "## Summary CAS action"
   ]
  },
  {
   "cell_type": "code",
   "execution_count": 15,
   "metadata": {},
   "outputs": [
    {
     "data": {
      "text/html": [
       "<div class=\"cas-results-key\"><b>&#167; Summary</b></div>\n",
       "<div class=\"cas-results-body\">\n",
       "<div>\n",
       "<style scoped>\n",
       "    .dataframe tbody tr th:only-of-type {\n",
       "        vertical-align: middle;\n",
       "    }\n",
       "\n",
       "    .dataframe tbody tr th {\n",
       "        vertical-align: top;\n",
       "    }\n",
       "\n",
       "    .dataframe thead th {\n",
       "        text-align: right;\n",
       "    }\n",
       "</style>\n",
       "<table border=\"1\" class=\"dataframe\"><caption>Descriptive Statistics for MISSING_DATA</caption>\n",
       "  <thead>\n",
       "    <tr style=\"text-align: right;\">\n",
       "      <th title=\"\"></th>\n",
       "      <th title=\"Analysis Variable\">Column</th>\n",
       "      <th title=\"Minimum\">Min</th>\n",
       "      <th title=\"Maximum\">Max</th>\n",
       "      <th title=\"N\">N</th>\n",
       "      <th title=\"N Miss\">NMiss</th>\n",
       "      <th title=\"Mean\">Mean</th>\n",
       "      <th title=\"Sum\">Sum</th>\n",
       "      <th title=\"Std Dev\">Std</th>\n",
       "      <th title=\"Std Error\">StdErr</th>\n",
       "      <th title=\"Variance\">Var</th>\n",
       "      <th title=\"USS\">USS</th>\n",
       "      <th title=\"Corrected SS\">CSS</th>\n",
       "      <th title=\"Coeff of Variation\">CV</th>\n",
       "      <th title=\"t Value\">TValue</th>\n",
       "      <th title=\"Pr &gt; |t|\">ProbT</th>\n",
       "      <th title=\"Skewness\">Skewness</th>\n",
       "      <th title=\"Kurtosis\">Kurtosis</th>\n",
       "    </tr>\n",
       "  </thead>\n",
       "  <tbody>\n",
       "    <tr>\n",
       "      <th>0</th>\n",
       "      <td>col1</td>\n",
       "      <td>2.0</td>\n",
       "      <td>3.0</td>\n",
       "      <td>3.0</td>\n",
       "      <td>5.0</td>\n",
       "      <td>2.666667</td>\n",
       "      <td>8.0</td>\n",
       "      <td>0.577350</td>\n",
       "      <td>0.333333</td>\n",
       "      <td>0.333333</td>\n",
       "      <td>22.0</td>\n",
       "      <td>0.666667</td>\n",
       "      <td>21.650635</td>\n",
       "      <td>8.000000</td>\n",
       "      <td>0.015268</td>\n",
       "      <td>-1.732051</td>\n",
       "      <td>NaN</td>\n",
       "    </tr>\n",
       "    <tr>\n",
       "      <th>1</th>\n",
       "      <td>col2</td>\n",
       "      <td>2.0</td>\n",
       "      <td>4.0</td>\n",
       "      <td>6.0</td>\n",
       "      <td>2.0</td>\n",
       "      <td>3.000000</td>\n",
       "      <td>18.0</td>\n",
       "      <td>0.894427</td>\n",
       "      <td>0.365148</td>\n",
       "      <td>0.800000</td>\n",
       "      <td>58.0</td>\n",
       "      <td>4.000000</td>\n",
       "      <td>29.814240</td>\n",
       "      <td>8.215838</td>\n",
       "      <td>0.000435</td>\n",
       "      <td>0.000000</td>\n",
       "      <td>-1.875000</td>\n",
       "    </tr>\n",
       "    <tr>\n",
       "      <th>2</th>\n",
       "      <td>col3</td>\n",
       "      <td>45.0</td>\n",
       "      <td>75.0</td>\n",
       "      <td>4.0</td>\n",
       "      <td>4.0</td>\n",
       "      <td>57.500000</td>\n",
       "      <td>230.0</td>\n",
       "      <td>13.228757</td>\n",
       "      <td>6.614378</td>\n",
       "      <td>175.000000</td>\n",
       "      <td>13750.0</td>\n",
       "      <td>525.000000</td>\n",
       "      <td>23.006533</td>\n",
       "      <td>8.693183</td>\n",
       "      <td>0.003203</td>\n",
       "      <td>0.863919</td>\n",
       "      <td>-0.285714</td>\n",
       "    </tr>\n",
       "    <tr>\n",
       "      <th>3</th>\n",
       "      <td>col4</td>\n",
       "      <td>0.0</td>\n",
       "      <td>4.0</td>\n",
       "      <td>6.0</td>\n",
       "      <td>2.0</td>\n",
       "      <td>1.666667</td>\n",
       "      <td>10.0</td>\n",
       "      <td>1.861899</td>\n",
       "      <td>0.760117</td>\n",
       "      <td>3.466667</td>\n",
       "      <td>34.0</td>\n",
       "      <td>17.333333</td>\n",
       "      <td>111.713920</td>\n",
       "      <td>2.192645</td>\n",
       "      <td>0.079830</td>\n",
       "      <td>0.723001</td>\n",
       "      <td>-1.875000</td>\n",
       "    </tr>\n",
       "  </tbody>\n",
       "</table>\n",
       "</div>\n",
       "</div>\n",
       "<div class=\"cas-output-area\"></div>\n",
       "<p class=\"cas-results-performance\"><small><span class=\"cas-elapsed\">elapsed 0.00573s</span> &#183; <span class=\"cas-user\">user 0.00303s</span> &#183; <span class=\"cas-sys\">sys 0.00508s</span> &#183; <span class=\"cas-memory\">mem 4.88MB</span></small></p>"
      ],
      "text/plain": [
       "[Summary]\n",
       "\n",
       " Descriptive Statistics for MISSING_DATA\n",
       " \n",
       "   Column   Min   Max    N  NMiss       Mean    Sum        Std    StdErr  \\\n",
       " 0   col1   2.0   3.0  3.0    5.0   2.666667    8.0   0.577350  0.333333   \n",
       " 1   col2   2.0   4.0  6.0    2.0   3.000000   18.0   0.894427  0.365148   \n",
       " 2   col3  45.0  75.0  4.0    4.0  57.500000  230.0  13.228757  6.614378   \n",
       " 3   col4   0.0   4.0  6.0    2.0   1.666667   10.0   1.861899  0.760117   \n",
       " \n",
       "           Var      USS         CSS          CV    TValue     ProbT  Skewness  \\\n",
       " 0    0.333333     22.0    0.666667   21.650635  8.000000  0.015268 -1.732051   \n",
       " 1    0.800000     58.0    4.000000   29.814240  8.215838  0.000435  0.000000   \n",
       " 2  175.000000  13750.0  525.000000   23.006533  8.693183  0.003203  0.863919   \n",
       " 3    3.466667     34.0   17.333333  111.713920  2.192645  0.079830  0.723001   \n",
       " \n",
       "    Kurtosis  \n",
       " 0       NaN  \n",
       " 1 -1.875000  \n",
       " 2 -0.285714  \n",
       " 3 -1.875000  \n",
       "\n",
       "+ Elapsed: 0.00573s, user: 0.00303s, sys: 0.00508s, mem: 4.88mb"
      ]
     },
     "execution_count": 15,
     "metadata": {},
     "output_type": "execute_result"
    }
   ],
   "source": [
    "castbl.summary()"
   ]
  },
  {
   "cell_type": "code",
   "execution_count": 17,
   "metadata": {},
   "outputs": [
    {
     "data": {
      "text/html": [
       "<div class=\"cas-results-key\"><b>&#167; Summary</b></div>\n",
       "<div class=\"cas-results-body\">\n",
       "<div>\n",
       "<style scoped>\n",
       "    .dataframe tbody tr th:only-of-type {\n",
       "        vertical-align: middle;\n",
       "    }\n",
       "\n",
       "    .dataframe tbody tr th {\n",
       "        vertical-align: top;\n",
       "    }\n",
       "\n",
       "    .dataframe thead th {\n",
       "        text-align: right;\n",
       "    }\n",
       "</style>\n",
       "<table border=\"1\" class=\"dataframe\"><caption>Descriptive Statistics for MISSING_DATA</caption>\n",
       "  <thead>\n",
       "    <tr style=\"text-align: right;\">\n",
       "      <th title=\"\"></th>\n",
       "      <th title=\"Analysis Variable\">Column</th>\n",
       "      <th title=\"Minimum\">Min</th>\n",
       "      <th title=\"Maximum\">Max</th>\n",
       "      <th title=\"N Miss\">NMiss</th>\n",
       "    </tr>\n",
       "  </thead>\n",
       "  <tbody>\n",
       "    <tr>\n",
       "      <th>0</th>\n",
       "      <td>col1</td>\n",
       "      <td>2.0</td>\n",
       "      <td>3.0</td>\n",
       "      <td>5.0</td>\n",
       "    </tr>\n",
       "    <tr>\n",
       "      <th>1</th>\n",
       "      <td>col2</td>\n",
       "      <td>2.0</td>\n",
       "      <td>4.0</td>\n",
       "      <td>2.0</td>\n",
       "    </tr>\n",
       "  </tbody>\n",
       "</table>\n",
       "</div>\n",
       "</div>\n",
       "<div class=\"cas-output-area\"></div>\n",
       "<p class=\"cas-results-performance\"><small><span class=\"cas-elapsed\">elapsed 0.00549s</span> &#183; <span class=\"cas-user\">user 0.00381s</span> &#183; <span class=\"cas-sys\">sys 0.0041s</span> &#183; <span class=\"cas-memory\">mem 4.88MB</span></small></p>"
      ],
      "text/plain": [
       "[Summary]\n",
       "\n",
       " Descriptive Statistics for MISSING_DATA\n",
       " \n",
       "   Column  Min  Max  NMiss\n",
       " 0   col1  2.0  3.0    5.0\n",
       " 1   col2  2.0  4.0    2.0\n",
       "\n",
       "+ Elapsed: 0.00549s, user: 0.00381s, sys: 0.0041s, mem: 4.88mb"
      ]
     },
     "execution_count": 17,
     "metadata": {},
     "output_type": "execute_result"
    }
   ],
   "source": [
    "castbl.summary(inputs = ['col1','col2'], \n",
    "               subSet = ['min','max','nmiss'])"
   ]
  },
  {
   "cell_type": "markdown",
   "metadata": {},
   "source": [
    "## Terminate the CAS Session"
   ]
  },
  {
   "cell_type": "code",
   "execution_count": null,
   "metadata": {},
   "outputs": [],
   "source": [
    "conn.terminate()"
   ]
  },
  {
   "cell_type": "markdown",
   "metadata": {},
   "source": [
    " "
   ]
  }
 ],
 "metadata": {
  "kernelspec": {
   "display_name": "Python 3 (ipykernel)",
   "language": "python",
   "name": "python3"
  },
  "language_info": {
   "codemirror_mode": {
    "name": "ipython",
    "version": 3
   },
   "file_extension": ".py",
   "mimetype": "text/x-python",
   "name": "python",
   "nbconvert_exporter": "python",
   "pygments_lexer": "ipython3",
   "version": "3.8.16"
  }
 },
 "nbformat": 4,
 "nbformat_minor": 4
}
