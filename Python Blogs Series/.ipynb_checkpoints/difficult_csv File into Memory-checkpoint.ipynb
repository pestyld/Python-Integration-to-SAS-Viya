{
 "cells": [
  {
   "cell_type": "markdown",
   "id": "cd696936-27b8-457a-a7bb-0892660787d7",
   "metadata": {},
   "source": [
    "# Loading a Client-Side File into Memory\n",
    "Downloading data from the SAS Viya Example Data Sets Website: https://support.sas.com/documentation/onlinedoc/viya/examples.htm"
   ]
  },
  {
   "cell_type": "code",
   "execution_count": 143,
   "id": "d744c006-b1cd-401f-a462-241170437b8a",
   "metadata": {},
   "outputs": [],
   "source": [
    "## Packages\n",
    "import swat\n",
    "import pandas as pd\n",
    "from casConnect import connect_to_cas ## personal custom package\n",
    "\n",
    "##\n",
    "## Connect to CAS\n",
    "##\n",
    "\n",
    "## General connection syntax\n",
    "# conn = swat.CAS(host, port, username, password)\n",
    "\n",
    "## Viya for Learners 3.5 connection\n",
    "# hostValue = os.environ.get('CASHOST')\n",
    "# portValue = os.environ.get('CASPORT')\n",
    "# passwordToken=os.environ.get('SAS_VIYA_TOKEN')\n",
    "# conn = swat.CAS(hostname=hostValue, port=portValue, password=passwordToken)\n",
    "\n",
    "## Personal connection\n",
    "conn = connect_to_cas()"
   ]
  },
  {
   "cell_type": "code",
   "execution_count": 144,
   "id": "2c84c7e4-b909-4620-bd1f-fe629b5755e4",
   "metadata": {},
   "outputs": [
    {
     "name": "stdout",
     "output_type": "stream",
     "text": [
      "NOTE: No tables are available in caslib CASUSER(Peter.Styliadis@sas.com) of Cloud Analytic Services.\n"
     ]
    },
    {
     "data": {
      "text/html": [
       "<div class=\"cas-output-area\"></div>\n",
       "<p class=\"cas-results-performance\"><small><span class=\"cas-elapsed\">elapsed 0.00843s</span> &#183; <span class=\"cas-user\">user 0.00363s</span> &#183; <span class=\"cas-sys\">sys 0.0139s</span> &#183; <span class=\"cas-memory\">mem 1.45MB</span></small></p>"
      ],
      "text/plain": [
       "+ Elapsed: 0.00843s, user: 0.00363s, sys: 0.0139s, mem: 1.45mb"
      ]
     },
     "execution_count": 144,
     "metadata": {},
     "output_type": "execute_result"
    }
   ],
   "source": [
    "conn.tableInfo(caslib = 'casuser')"
   ]
  },
  {
   "cell_type": "markdown",
   "id": "c8f39d84-716d-4507-91db-29edd6f70112",
   "metadata": {},
   "source": [
    "## Using the Pandas API in the SWAT package"
   ]
  },
  {
   "cell_type": "code",
   "execution_count": 170,
   "id": "d81fd5ce-ab66-4b7b-870a-1018927e114a",
   "metadata": {},
   "outputs": [],
   "source": [
    "df = pd.read_csv(r'https://support.sas.com/documentation/onlinedoc/viya/exampledatasets/volume.csv', \n",
    "                    names=['Date','Volume','Percent'],\n",
    "                    parse_dates=['Date'],\n",
    "                    thousands=',',\n",
    "                    converters={\"Percent\": lambda value : float(value.rstrip(\"%\"))/100})"
   ]
  },
  {
   "cell_type": "code",
   "execution_count": 167,
   "id": "caf106e6-8eea-4f67-afe7-0c575149f059",
   "metadata": {},
   "outputs": [
    {
     "data": {
      "text/html": [
       "<div>\n",
       "<style scoped>\n",
       "    .dataframe tbody tr th:only-of-type {\n",
       "        vertical-align: middle;\n",
       "    }\n",
       "\n",
       "    .dataframe tbody tr th {\n",
       "        vertical-align: top;\n",
       "    }\n",
       "\n",
       "    .dataframe thead th {\n",
       "        text-align: right;\n",
       "    }\n",
       "</style>\n",
       "<table border=\"1\" class=\"dataframe\">\n",
       "  <thead>\n",
       "    <tr style=\"text-align: right;\">\n",
       "      <th></th>\n",
       "      <th>Date</th>\n",
       "      <th>Volume</th>\n",
       "      <th>Percent</th>\n",
       "    </tr>\n",
       "  </thead>\n",
       "  <tbody>\n",
       "    <tr>\n",
       "      <th>0</th>\n",
       "      <td>12-06-2019</td>\n",
       "      <td>1245</td>\n",
       "      <td>0.10</td>\n",
       "    </tr>\n",
       "    <tr>\n",
       "      <th>1</th>\n",
       "      <td>01-03-2020</td>\n",
       "      <td>3400</td>\n",
       "      <td>0.27</td>\n",
       "    </tr>\n",
       "    <tr>\n",
       "      <th>2</th>\n",
       "      <td>02-07-2020</td>\n",
       "      <td>2341</td>\n",
       "      <td>0.18</td>\n",
       "    </tr>\n",
       "    <tr>\n",
       "      <th>3</th>\n",
       "      <td>03-06-2020</td>\n",
       "      <td>5700</td>\n",
       "      <td>0.45</td>\n",
       "    </tr>\n",
       "    <tr>\n",
       "      <th>4</th>\n",
       "      <td>04-03-2020</td>\n",
       "      <td>12686</td>\n",
       "      <td>1.00</td>\n",
       "    </tr>\n",
       "  </tbody>\n",
       "</table>\n",
       "</div>"
      ],
      "text/plain": [
       "         Date  Volume  Percent\n",
       "0  12-06-2019    1245     0.10\n",
       "1  01-03-2020    3400     0.27\n",
       "2  02-07-2020    2341     0.18\n",
       "3  03-06-2020    5700     0.45\n",
       "4  04-03-2020   12686     1.00"
      ]
     },
     "execution_count": 167,
     "metadata": {},
     "output_type": "execute_result"
    }
   ],
   "source": [
    "df.head()"
   ]
  },
  {
   "cell_type": "code",
   "execution_count": 168,
   "id": "eee0eeb9-d998-49e6-a04f-33db315e2267",
   "metadata": {},
   "outputs": [
    {
     "data": {
      "text/plain": [
       "Date        object\n",
       "Volume       int64\n",
       "Percent    float64\n",
       "dtype: object"
      ]
     },
     "execution_count": 168,
     "metadata": {},
     "output_type": "execute_result"
    }
   ],
   "source": [
    "df.dtypes"
   ]
  },
  {
   "cell_type": "code",
   "execution_count": 169,
   "id": "3328b311-9111-42cd-a8d3-af4865ce8abd",
   "metadata": {},
   "outputs": [
    {
     "name": "stdout",
     "output_type": "stream",
     "text": [
      "ERROR: The destination buffer size was not sufficient for the transcoded data.\n",
      "ERROR: The destination buffer size was not sufficient for the transcoded data.\n",
      "ERROR: The action stopped due to errors.\n"
     ]
    },
    {
     "ename": "SWATError",
     "evalue": "The destination buffer size was not sufficient for the transcoded data.",
     "output_type": "error",
     "traceback": [
      "\u001b[1;31m---------------------------------------------------------------------------\u001b[0m",
      "\u001b[1;31mSWATError\u001b[0m                                 Traceback (most recent call last)",
      "\u001b[1;32m<ipython-input-169-a87ce2ed3eae>\u001b[0m in \u001b[0;36m<module>\u001b[1;34m\u001b[0m\n\u001b[1;32m----> 1\u001b[1;33m uf = conn.upload_frame(df, casout={'name':'uploadframe', 'replace':True}, \n\u001b[0m\u001b[0;32m      2\u001b[0m                        importoptions={\n\u001b[0;32m      3\u001b[0m                                 \u001b[1;34m'stripBlanks'\u001b[0m\u001b[1;33m:\u001b[0m\u001b[1;32mTrue\u001b[0m\u001b[1;33m,\u001b[0m\u001b[1;33m\u001b[0m\u001b[1;33m\u001b[0m\u001b[0m\n\u001b[0;32m      4\u001b[0m                                 \u001b[1;34m'getNames'\u001b[0m\u001b[1;33m:\u001b[0m\u001b[1;32mFalse\u001b[0m\u001b[1;33m,\u001b[0m\u001b[1;33m\u001b[0m\u001b[1;33m\u001b[0m\u001b[0m\n\u001b[0;32m      5\u001b[0m                                 'vars':[\n",
      "\u001b[1;32m~\\Anaconda3\\lib\\site-packages\\swat\\cas\\connection.py\u001b[0m in \u001b[0;36mupload_frame\u001b[1;34m(self, data, importoptions, casout, **kwargs)\u001b[0m\n\u001b[0;32m   1800\u001b[0m \u001b[1;33m\u001b[0m\u001b[0m\n\u001b[0;32m   1801\u001b[0m         \u001b[1;32mif\u001b[0m \u001b[0mout\u001b[0m\u001b[1;33m.\u001b[0m\u001b[0mseverity\u001b[0m \u001b[1;33m>\u001b[0m \u001b[1;36m1\u001b[0m\u001b[1;33m:\u001b[0m\u001b[1;33m\u001b[0m\u001b[1;33m\u001b[0m\u001b[0m\n\u001b[1;32m-> 1802\u001b[1;33m             \u001b[1;32mraise\u001b[0m \u001b[0mSWATError\u001b[0m\u001b[1;33m(\u001b[0m\u001b[0mout\u001b[0m\u001b[1;33m.\u001b[0m\u001b[0mstatus\u001b[0m\u001b[1;33m)\u001b[0m\u001b[1;33m\u001b[0m\u001b[1;33m\u001b[0m\u001b[0m\n\u001b[0m\u001b[0;32m   1803\u001b[0m \u001b[1;33m\u001b[0m\u001b[0m\n\u001b[0;32m   1804\u001b[0m         \u001b[1;32mreturn\u001b[0m \u001b[0mout\u001b[0m\u001b[1;33m[\u001b[0m\u001b[1;34m'casTable'\u001b[0m\u001b[1;33m]\u001b[0m\u001b[1;33m\u001b[0m\u001b[1;33m\u001b[0m\u001b[0m\n",
      "\u001b[1;31mSWATError\u001b[0m: The destination buffer size was not sufficient for the transcoded data."
     ]
    }
   ],
   "source": [
    "uf = conn.upload_frame(df, casout={'name':'uploadframe', 'replace':True}, \n",
    "                       importoptions={\n",
    "                                'stripBlanks':True, \n",
    "                                'getNames':False,\n",
    "                                'vars':[\n",
    "                                    {'name':'Date', 'informat':'ANYDTDTE.'},\n",
    "                                    {'name':'Volume'},\n",
    "                                    {'name':'Percent', 'informat':'PERCENT7.2'}\n",
    "                                ]\n",
    "                       })"
   ]
  },
  {
   "cell_type": "code",
   "execution_count": 161,
   "id": "9114843a-6999-44e6-9ce7-7ab51cb82afc",
   "metadata": {},
   "outputs": [
    {
     "data": {
      "text/html": [
       "<div>\n",
       "<style scoped>\n",
       "    .dataframe tbody tr th:only-of-type {\n",
       "        vertical-align: middle;\n",
       "    }\n",
       "\n",
       "    .dataframe tbody tr th {\n",
       "        vertical-align: top;\n",
       "    }\n",
       "\n",
       "    .dataframe thead th {\n",
       "        text-align: right;\n",
       "    }\n",
       "</style>\n",
       "<table border=\"1\" class=\"dataframe\"><caption>Selected Rows from Table UPLOADFRAME</caption>\n",
       "  <thead>\n",
       "    <tr style=\"text-align: right;\">\n",
       "      <th title=\"\"></th>\n",
       "      <th title=\"Date\">Date</th>\n",
       "      <th title=\"Volume\">Volume</th>\n",
       "      <th title=\"Percent\">Percent</th>\n",
       "    </tr>\n",
       "  </thead>\n",
       "  <tbody>\n",
       "    <tr>\n",
       "      <td>0</td>\n",
       "      <td>Date</td>\n",
       "      <td>NaN</td>\n",
       "      <td>NaN</td>\n",
       "    </tr>\n",
       "    <tr>\n",
       "      <td>1</td>\n",
       "      <td>2019-12-06</td>\n",
       "      <td>1245.0</td>\n",
       "      <td>0.10</td>\n",
       "    </tr>\n",
       "    <tr>\n",
       "      <td>2</td>\n",
       "      <td>2020-01-03</td>\n",
       "      <td>3400.0</td>\n",
       "      <td>0.27</td>\n",
       "    </tr>\n",
       "    <tr>\n",
       "      <td>3</td>\n",
       "      <td>2020-02-07</td>\n",
       "      <td>2341.0</td>\n",
       "      <td>0.18</td>\n",
       "    </tr>\n",
       "    <tr>\n",
       "      <td>4</td>\n",
       "      <td>2020-03-06</td>\n",
       "      <td>5700.0</td>\n",
       "      <td>0.45</td>\n",
       "    </tr>\n",
       "  </tbody>\n",
       "</table>\n",
       "</div>"
      ],
      "text/plain": [
       "Selected Rows from Table UPLOADFRAME\n",
       "\n",
       "         Date  Volume  Percent\n",
       "0        Date     NaN      NaN\n",
       "1  2019-12-06  1245.0     0.10\n",
       "2  2020-01-03  3400.0     0.27\n",
       "3  2020-02-07  2341.0     0.18\n",
       "4  2020-03-06  5700.0     0.45"
      ]
     },
     "execution_count": 161,
     "metadata": {},
     "output_type": "execute_result"
    }
   ],
   "source": [
    "uf.head()"
   ]
  },
  {
   "cell_type": "code",
   "execution_count": 162,
   "id": "e0bc8fc5-15a5-4972-b397-7b57e6244e64",
   "metadata": {},
   "outputs": [
    {
     "data": {
      "text/html": [
       "<div class=\"cas-results-key\"><b>&#167; ColumnInfo</b></div>\n",
       "<div class=\"cas-results-body\">\n",
       "<div>\n",
       "<style scoped>\n",
       "    .dataframe tbody tr th:only-of-type {\n",
       "        vertical-align: middle;\n",
       "    }\n",
       "\n",
       "    .dataframe tbody tr th {\n",
       "        vertical-align: top;\n",
       "    }\n",
       "\n",
       "    .dataframe thead th {\n",
       "        text-align: right;\n",
       "    }\n",
       "</style>\n",
       "<table border=\"1\" class=\"dataframe\">\n",
       "  <thead>\n",
       "    <tr style=\"text-align: right;\">\n",
       "      <th title=\"\"></th>\n",
       "      <th title=\"Column\">Column</th>\n",
       "      <th title=\"Label\">Label</th>\n",
       "      <th title=\"ID\">ID</th>\n",
       "      <th title=\"Type\">Type</th>\n",
       "      <th title=\"RawLength\">RawLength</th>\n",
       "      <th title=\"FormattedLength\">FormattedLength</th>\n",
       "      <th title=\"Format\">Format</th>\n",
       "      <th title=\"NFL\">NFL</th>\n",
       "      <th title=\"NFD\">NFD</th>\n",
       "    </tr>\n",
       "  </thead>\n",
       "  <tbody>\n",
       "    <tr>\n",
       "      <td>0</td>\n",
       "      <td>Date</td>\n",
       "      <td></td>\n",
       "      <td>1</td>\n",
       "      <td>varchar</td>\n",
       "      <td>10</td>\n",
       "      <td>10</td>\n",
       "      <td></td>\n",
       "      <td>0</td>\n",
       "      <td>0</td>\n",
       "    </tr>\n",
       "    <tr>\n",
       "      <td>1</td>\n",
       "      <td>Volume</td>\n",
       "      <td></td>\n",
       "      <td>2</td>\n",
       "      <td>double</td>\n",
       "      <td>8</td>\n",
       "      <td>12</td>\n",
       "      <td></td>\n",
       "      <td>0</td>\n",
       "      <td>0</td>\n",
       "    </tr>\n",
       "    <tr>\n",
       "      <td>2</td>\n",
       "      <td>Percent</td>\n",
       "      <td></td>\n",
       "      <td>3</td>\n",
       "      <td>double</td>\n",
       "      <td>8</td>\n",
       "      <td>12</td>\n",
       "      <td></td>\n",
       "      <td>0</td>\n",
       "      <td>0</td>\n",
       "    </tr>\n",
       "  </tbody>\n",
       "</table>\n",
       "</div>\n",
       "</div>\n",
       "<div class=\"cas-output-area\"></div>\n",
       "<p class=\"cas-results-performance\"><small><span class=\"cas-elapsed\">elapsed 0.0132s</span> &#183; <span class=\"cas-user\">user 0.00949s</span> &#183; <span class=\"cas-sys\">sys 0.0195s</span> &#183; <span class=\"cas-memory\">mem 2.53MB</span></small></p>"
      ],
      "text/plain": [
       "[ColumnInfo]\n",
       "\n",
       "     Column Label  ID     Type  RawLength  FormattedLength Format  NFL  NFD\n",
       " 0     Date         1  varchar         10               10           0    0\n",
       " 1   Volume         2   double          8               12           0    0\n",
       " 2  Percent         3   double          8               12           0    0\n",
       "\n",
       "+ Elapsed: 0.0132s, user: 0.00949s, sys: 0.0195s, mem: 2.53mb"
      ]
     },
     "execution_count": 162,
     "metadata": {},
     "output_type": "execute_result"
    }
   ],
   "source": [
    "uf.columnInfo()"
   ]
  },
  {
   "cell_type": "code",
   "execution_count": null,
   "id": "43c34992-7a87-4095-8834-5b0b6500de1d",
   "metadata": {},
   "outputs": [],
   "source": []
  },
  {
   "cell_type": "code",
   "execution_count": 145,
   "id": "0fe0aa2e-f869-4ee9-9bd5-7b6356d2049a",
   "metadata": {},
   "outputs": [
    {
     "name": "stdout",
     "output_type": "stream",
     "text": [
      "NOTE: Cloud Analytic Services made the uploaded file available as table VOLUME_READCSV in caslib CASUSER(Peter.Styliadis@sas.com).\n",
      "NOTE: The table VOLUME_READCSV has been created in caslib CASUSER(Peter.Styliadis@sas.com) from binary data uploaded to Cloud Analytic Services.\n"
     ]
    }
   ],
   "source": [
    "tbl = conn.read_csv(r'https://support.sas.com/documentation/onlinedoc/viya/exampledatasets/volume.csv', \n",
    "                    names=['Date','Volume','Percent'],\n",
    "                    parse_dates=['Date'],\n",
    "                    thousands=',',\n",
    "                    converters={\"Percent\": lambda value : float(value.rstrip(\"%\"))/100},                    \n",
    "                    casout = {'name':'volume_readcsv', \n",
    "                              'caslib':'casuser', \n",
    "                              'replace':True})"
   ]
  },
  {
   "cell_type": "code",
   "execution_count": 146,
   "id": "c140544c-662d-4e7a-8c60-3b8adc14c1de",
   "metadata": {},
   "outputs": [
    {
     "data": {
      "text/html": [
       "<div>\n",
       "<style scoped>\n",
       "    .dataframe tbody tr th:only-of-type {\n",
       "        vertical-align: middle;\n",
       "    }\n",
       "\n",
       "    .dataframe tbody tr th {\n",
       "        vertical-align: top;\n",
       "    }\n",
       "\n",
       "    .dataframe thead th {\n",
       "        text-align: right;\n",
       "    }\n",
       "</style>\n",
       "<table border=\"1\" class=\"dataframe\"><caption>Selected Rows from Table VOLUME_READCSV</caption>\n",
       "  <thead>\n",
       "    <tr style=\"text-align: right;\">\n",
       "      <th title=\"\"></th>\n",
       "      <th title=\"Date\">Date</th>\n",
       "      <th title=\"Volume\">Volume</th>\n",
       "      <th title=\"Percent\">Percent</th>\n",
       "    </tr>\n",
       "  </thead>\n",
       "  <tbody>\n",
       "    <tr>\n",
       "      <td>0</td>\n",
       "      <td>2019-12-06</td>\n",
       "      <td>1245.0</td>\n",
       "      <td>0.10</td>\n",
       "    </tr>\n",
       "    <tr>\n",
       "      <td>1</td>\n",
       "      <td>2020-01-03</td>\n",
       "      <td>3400.0</td>\n",
       "      <td>0.27</td>\n",
       "    </tr>\n",
       "    <tr>\n",
       "      <td>2</td>\n",
       "      <td>2020-02-07</td>\n",
       "      <td>2341.0</td>\n",
       "      <td>0.18</td>\n",
       "    </tr>\n",
       "    <tr>\n",
       "      <td>3</td>\n",
       "      <td>2020-03-06</td>\n",
       "      <td>5700.0</td>\n",
       "      <td>0.45</td>\n",
       "    </tr>\n",
       "    <tr>\n",
       "      <td>4</td>\n",
       "      <td>2020-04-03</td>\n",
       "      <td>12686.0</td>\n",
       "      <td>1.00</td>\n",
       "    </tr>\n",
       "  </tbody>\n",
       "</table>\n",
       "</div>"
      ],
      "text/plain": [
       "Selected Rows from Table VOLUME_READCSV\n",
       "\n",
       "         Date   Volume  Percent\n",
       "0  2019-12-06   1245.0     0.10\n",
       "1  2020-01-03   3400.0     0.27\n",
       "2  2020-02-07   2341.0     0.18\n",
       "3  2020-03-06   5700.0     0.45\n",
       "4  2020-04-03  12686.0     1.00"
      ]
     },
     "execution_count": 146,
     "metadata": {},
     "output_type": "execute_result"
    }
   ],
   "source": [
    "tbl.head()"
   ]
  },
  {
   "cell_type": "code",
   "execution_count": 149,
   "id": "a9ff8c36-47b1-4d83-837a-0ed86712e940",
   "metadata": {},
   "outputs": [
    {
     "data": {
      "text/html": [
       "<div class=\"cas-results-key\"><b>&#167; ColumnInfo</b></div>\n",
       "<div class=\"cas-results-body\">\n",
       "<div>\n",
       "<style scoped>\n",
       "    .dataframe tbody tr th:only-of-type {\n",
       "        vertical-align: middle;\n",
       "    }\n",
       "\n",
       "    .dataframe tbody tr th {\n",
       "        vertical-align: top;\n",
       "    }\n",
       "\n",
       "    .dataframe thead th {\n",
       "        text-align: right;\n",
       "    }\n",
       "</style>\n",
       "<table border=\"1\" class=\"dataframe\">\n",
       "  <thead>\n",
       "    <tr style=\"text-align: right;\">\n",
       "      <th title=\"\"></th>\n",
       "      <th title=\"Column\">Column</th>\n",
       "      <th title=\"Label\">Label</th>\n",
       "      <th title=\"ID\">ID</th>\n",
       "      <th title=\"Type\">Type</th>\n",
       "      <th title=\"RawLength\">RawLength</th>\n",
       "      <th title=\"FormattedLength\">FormattedLength</th>\n",
       "      <th title=\"Format\">Format</th>\n",
       "      <th title=\"NFL\">NFL</th>\n",
       "      <th title=\"NFD\">NFD</th>\n",
       "    </tr>\n",
       "  </thead>\n",
       "  <tbody>\n",
       "    <tr>\n",
       "      <td>0</td>\n",
       "      <td>Date</td>\n",
       "      <td></td>\n",
       "      <td>1</td>\n",
       "      <td>varchar</td>\n",
       "      <td>10</td>\n",
       "      <td>10</td>\n",
       "      <td></td>\n",
       "      <td>0</td>\n",
       "      <td>0</td>\n",
       "    </tr>\n",
       "    <tr>\n",
       "      <td>1</td>\n",
       "      <td>Volume</td>\n",
       "      <td></td>\n",
       "      <td>2</td>\n",
       "      <td>double</td>\n",
       "      <td>8</td>\n",
       "      <td>12</td>\n",
       "      <td></td>\n",
       "      <td>0</td>\n",
       "      <td>0</td>\n",
       "    </tr>\n",
       "    <tr>\n",
       "      <td>2</td>\n",
       "      <td>Percent</td>\n",
       "      <td></td>\n",
       "      <td>3</td>\n",
       "      <td>double</td>\n",
       "      <td>8</td>\n",
       "      <td>12</td>\n",
       "      <td></td>\n",
       "      <td>0</td>\n",
       "      <td>0</td>\n",
       "    </tr>\n",
       "  </tbody>\n",
       "</table>\n",
       "</div>\n",
       "</div>\n",
       "<div class=\"cas-output-area\"></div>\n",
       "<p class=\"cas-results-performance\"><small><span class=\"cas-elapsed\">elapsed 0.0125s</span> &#183; <span class=\"cas-user\">user 0.00483s</span> &#183; <span class=\"cas-sys\">sys 0.0222s</span> &#183; <span class=\"cas-memory\">mem 2.54MB</span></small></p>"
      ],
      "text/plain": [
       "[ColumnInfo]\n",
       "\n",
       "     Column Label  ID     Type  RawLength  FormattedLength Format  NFL  NFD\n",
       " 0     Date         1  varchar         10               10           0    0\n",
       " 1   Volume         2   double          8               12           0    0\n",
       " 2  Percent         3   double          8               12           0    0\n",
       "\n",
       "+ Elapsed: 0.0125s, user: 0.00483s, sys: 0.0222s, mem: 2.54mb"
      ]
     },
     "execution_count": 149,
     "metadata": {},
     "output_type": "execute_result"
    }
   ],
   "source": [
    "tbl.columnInfo()"
   ]
  },
  {
   "cell_type": "code",
   "execution_count": null,
   "id": "e3d1f38d-d08c-463d-ada4-5b17d5deb0c7",
   "metadata": {},
   "outputs": [],
   "source": [
    "tbl.eval('X = input(Date,ANYDTDTE.)')"
   ]
  },
  {
   "cell_type": "code",
   "execution_count": null,
   "id": "60369e51-3c02-4e7f-ac5d-2f3aa7b01191",
   "metadata": {},
   "outputs": [],
   "source": []
  },
  {
   "cell_type": "code",
   "execution_count": null,
   "id": "278013e2-b28a-480d-af9a-78aac0e9efec",
   "metadata": {},
   "outputs": [],
   "source": []
  },
  {
   "cell_type": "markdown",
   "id": "7063d3ec-d920-4741-a2cd-ca099736f08c",
   "metadata": {},
   "source": [
    "## Upload_file method"
   ]
  },
  {
   "cell_type": "code",
   "execution_count": 137,
   "id": "a3eb7fbf-0368-4c3d-8319-24ded6ffb6b4",
   "metadata": {},
   "outputs": [
    {
     "name": "stdout",
     "output_type": "stream",
     "text": [
      "NOTE: Cloud Analytic Services made the uploaded file available as table VOLUME_UPLOAD_FILE in caslib CASUSER(Peter.Styliadis@sas.com).\n",
      "NOTE: The table VOLUME_UPLOAD_FILE has been created in caslib CASUSER(Peter.Styliadis@sas.com) from binary data uploaded to Cloud Analytic Services.\n"
     ]
    }
   ],
   "source": [
    "tbl2 = conn.upload_file(r'https://support.sas.com/documentation/onlinedoc/viya/exampledatasets/volume.csv', \n",
    "                        casout = {'name':'volume_upload_file', \n",
    "                                  'caslib':'casuser',\n",
    "                                  'replace':True},\n",
    "                        importoptions={\n",
    "                                'stripBlanks':True, \n",
    "                                'getNames':False,\n",
    "                                'vars':[\n",
    "                                    {'name':'Date', 'informat':'ANYDTDTE.','format':'DATE9.'},\n",
    "                                    {'name':'Volume'},\n",
    "                                    {'name':'Percent', 'informat':'PERCENT7.2'}\n",
    "                                ]\n",
    "                       }\n",
    "                )     "
   ]
  },
  {
   "cell_type": "code",
   "execution_count": 138,
   "id": "67ca0d89-a8d6-40f4-bbce-44851e022fb5",
   "metadata": {},
   "outputs": [
    {
     "data": {
      "text/html": [
       "<div>\n",
       "<style scoped>\n",
       "    .dataframe tbody tr th:only-of-type {\n",
       "        vertical-align: middle;\n",
       "    }\n",
       "\n",
       "    .dataframe tbody tr th {\n",
       "        vertical-align: top;\n",
       "    }\n",
       "\n",
       "    .dataframe thead th {\n",
       "        text-align: right;\n",
       "    }\n",
       "</style>\n",
       "<table border=\"1\" class=\"dataframe\"><caption>Selected Rows from Table VOLUME_UPLOAD_FILE</caption>\n",
       "  <thead>\n",
       "    <tr style=\"text-align: right;\">\n",
       "      <th title=\"\"></th>\n",
       "      <th title=\"Date\">Date</th>\n",
       "      <th title=\"Volume\">Volume</th>\n",
       "      <th title=\"Percent\">Percent</th>\n",
       "    </tr>\n",
       "  </thead>\n",
       "  <tbody>\n",
       "    <tr>\n",
       "      <td>0</td>\n",
       "      <td>2019-12-06</td>\n",
       "      <td>1245.0</td>\n",
       "      <td>0.10</td>\n",
       "    </tr>\n",
       "    <tr>\n",
       "      <td>1</td>\n",
       "      <td>2020-01-03</td>\n",
       "      <td>3400.0</td>\n",
       "      <td>0.27</td>\n",
       "    </tr>\n",
       "    <tr>\n",
       "      <td>2</td>\n",
       "      <td>2020-02-07</td>\n",
       "      <td>2341.0</td>\n",
       "      <td>0.18</td>\n",
       "    </tr>\n",
       "    <tr>\n",
       "      <td>3</td>\n",
       "      <td>2020-03-06</td>\n",
       "      <td>5700.0</td>\n",
       "      <td>0.45</td>\n",
       "    </tr>\n",
       "    <tr>\n",
       "      <td>4</td>\n",
       "      <td>2020-04-03</td>\n",
       "      <td>12686.0</td>\n",
       "      <td>1.00</td>\n",
       "    </tr>\n",
       "  </tbody>\n",
       "</table>\n",
       "</div>"
      ],
      "text/plain": [
       "Selected Rows from Table VOLUME_UPLOAD_FILE\n",
       "\n",
       "         Date   Volume  Percent\n",
       "0  2019-12-06   1245.0     0.10\n",
       "1  2020-01-03   3400.0     0.27\n",
       "2  2020-02-07   2341.0     0.18\n",
       "3  2020-03-06   5700.0     0.45\n",
       "4  2020-04-03  12686.0     1.00"
      ]
     },
     "execution_count": 138,
     "metadata": {},
     "output_type": "execute_result"
    }
   ],
   "source": [
    "tbl2.head()"
   ]
  },
  {
   "cell_type": "code",
   "execution_count": 139,
   "id": "02b3e4e3-06a4-49a0-8a69-61750c549c13",
   "metadata": {},
   "outputs": [
    {
     "data": {
      "text/html": [
       "<div class=\"cas-results-key\"><b>&#167; ColumnInfo</b></div>\n",
       "<div class=\"cas-results-body\">\n",
       "<div>\n",
       "<style scoped>\n",
       "    .dataframe tbody tr th:only-of-type {\n",
       "        vertical-align: middle;\n",
       "    }\n",
       "\n",
       "    .dataframe tbody tr th {\n",
       "        vertical-align: top;\n",
       "    }\n",
       "\n",
       "    .dataframe thead th {\n",
       "        text-align: right;\n",
       "    }\n",
       "</style>\n",
       "<table border=\"1\" class=\"dataframe\">\n",
       "  <thead>\n",
       "    <tr style=\"text-align: right;\">\n",
       "      <th title=\"\"></th>\n",
       "      <th title=\"Column\">Column</th>\n",
       "      <th title=\"Label\">Label</th>\n",
       "      <th title=\"ID\">ID</th>\n",
       "      <th title=\"Type\">Type</th>\n",
       "      <th title=\"RawLength\">RawLength</th>\n",
       "      <th title=\"FormattedLength\">FormattedLength</th>\n",
       "      <th title=\"Format\">Format</th>\n",
       "      <th title=\"NFL\">NFL</th>\n",
       "      <th title=\"NFD\">NFD</th>\n",
       "    </tr>\n",
       "  </thead>\n",
       "  <tbody>\n",
       "    <tr>\n",
       "      <td>0</td>\n",
       "      <td>Date</td>\n",
       "      <td></td>\n",
       "      <td>1</td>\n",
       "      <td>double</td>\n",
       "      <td>8</td>\n",
       "      <td>12</td>\n",
       "      <td>DATE</td>\n",
       "      <td>9</td>\n",
       "      <td>0</td>\n",
       "    </tr>\n",
       "    <tr>\n",
       "      <td>1</td>\n",
       "      <td>Volume</td>\n",
       "      <td></td>\n",
       "      <td>2</td>\n",
       "      <td>double</td>\n",
       "      <td>8</td>\n",
       "      <td>12</td>\n",
       "      <td></td>\n",
       "      <td>0</td>\n",
       "      <td>0</td>\n",
       "    </tr>\n",
       "    <tr>\n",
       "      <td>2</td>\n",
       "      <td>Percent</td>\n",
       "      <td></td>\n",
       "      <td>3</td>\n",
       "      <td>double</td>\n",
       "      <td>8</td>\n",
       "      <td>12</td>\n",
       "      <td></td>\n",
       "      <td>0</td>\n",
       "      <td>0</td>\n",
       "    </tr>\n",
       "  </tbody>\n",
       "</table>\n",
       "</div>\n",
       "</div>\n",
       "<div class=\"cas-output-area\"></div>\n",
       "<p class=\"cas-results-performance\"><small><span class=\"cas-elapsed\">elapsed 0.0128s</span> &#183; <span class=\"cas-user\">user 0.00516s</span> &#183; <span class=\"cas-sys\">sys 0.0203s</span> &#183; <span class=\"cas-memory\">mem 2.49MB</span></small></p>"
      ],
      "text/plain": [
       "[ColumnInfo]\n",
       "\n",
       "     Column Label  ID    Type  RawLength  FormattedLength Format  NFL  NFD\n",
       " 0     Date         1  double          8               12   DATE    9    0\n",
       " 1   Volume         2  double          8               12           0    0\n",
       " 2  Percent         3  double          8               12           0    0\n",
       "\n",
       "+ Elapsed: 0.0128s, user: 0.00516s, sys: 0.0203s, mem: 2.49mb"
      ]
     },
     "execution_count": 139,
     "metadata": {},
     "output_type": "execute_result"
    }
   ],
   "source": [
    "tbl2.columnInfo()"
   ]
  },
  {
   "cell_type": "code",
   "execution_count": null,
   "id": "dcdaee1b-abbc-47c3-b066-d8842fb51883",
   "metadata": {},
   "outputs": [],
   "source": []
  },
  {
   "cell_type": "code",
   "execution_count": null,
   "id": "d89944d7-c196-4b31-8d51-b54705564bf2",
   "metadata": {},
   "outputs": [],
   "source": []
  },
  {
   "cell_type": "code",
   "execution_count": null,
   "id": "5069b009-c5f2-4e5d-aadc-c148d528ed2c",
   "metadata": {},
   "outputs": [],
   "source": []
  },
  {
   "cell_type": "code",
   "execution_count": null,
   "id": "fd35fbf4-71cd-4ba8-9f97-997b31d286bf",
   "metadata": {},
   "outputs": [],
   "source": []
  },
  {
   "cell_type": "code",
   "execution_count": 67,
   "id": "4965e5fe-3d57-4d6c-81bb-2ac308938367",
   "metadata": {},
   "outputs": [],
   "source": [
    "from swat.cas.utils.datetime import str2cas_date"
   ]
  },
  {
   "cell_type": "code",
   "execution_count": 68,
   "id": "eef3a18e-18b9-4c46-b492-b20e59adc43e",
   "metadata": {},
   "outputs": [
    {
     "data": {
      "text/plain": [
       "21917"
      ]
     },
     "execution_count": 68,
     "metadata": {},
     "output_type": "execute_result"
    }
   ],
   "source": [
    "str2cas_date('2020-01-03')"
   ]
  },
  {
   "cell_type": "markdown",
   "id": "a79c86fd-3818-454d-8518-911dcb47b50b",
   "metadata": {},
   "source": [
    "## Terminate the CAS connection"
   ]
  },
  {
   "cell_type": "code",
   "execution_count": 140,
   "id": "3f6fb6b4-68d9-415b-8ef7-c65ed08882f5",
   "metadata": {},
   "outputs": [],
   "source": [
    "conn.terminate()"
   ]
  },
  {
   "cell_type": "markdown",
   "id": "d34d7c0d-0a11-4503-ae9c-62f6d9e7755f",
   "metadata": {},
   "source": [
    " "
   ]
  }
 ],
 "metadata": {
  "kernelspec": {
   "display_name": "Python 3",
   "language": "python",
   "name": "python3"
  },
  "language_info": {
   "codemirror_mode": {
    "name": "ipython",
    "version": 3
   },
   "file_extension": ".py",
   "mimetype": "text/x-python",
   "name": "python",
   "nbconvert_exporter": "python",
   "pygments_lexer": "ipython3",
   "version": "3.8.8"
  }
 },
 "nbformat": 4,
 "nbformat_minor": 5
}
