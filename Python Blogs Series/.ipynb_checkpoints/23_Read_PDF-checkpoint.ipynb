{
 "cells": [
  {
   "cell_type": "markdown",
   "metadata": {},
   "source": [
    "# Read a PDF file into a Table"
   ]
  },
  {
   "cell_type": "code",
   "execution_count": 46,
   "metadata": {},
   "outputs": [
    {
     "name": "stdout",
     "output_type": "stream",
     "text": [
      "Imported personal custom CAS auth package\n",
      "Python version:3.8.16 (default, Mar  2 2023, 03:18:16) [MSC v.1916 64 bit (AMD64)]\n",
      "swat version:1.13.1\n",
      "pandas version:1.5.3\n",
      "numpy version:1.24.3\n"
     ]
    }
   ],
   "source": [
    "## Packages\n",
    "import swat\n",
    "import sys\n",
    "import os\n",
    "import pandas as pd\n",
    "import numpy as np\n",
    "\n",
    "## My custom package to connect to the CAS Server. Will not work in your environment.\n",
    "try:\n",
    "    from casauth import CASAuth\n",
    "    print('Imported personal custom CAS auth package')\n",
    "except:\n",
    "    print('casauth package not available')\n",
    "\n",
    "\n",
    "print(f'Python version:{sys.version.split(\"|\")[0]}')\n",
    "print(f'swat version:{swat.__version__}')\n",
    "print(f'pandas version:{pd.__version__}')\n",
    "print(f'numpy version:{np.__version__}')"
   ]
  },
  {
   "cell_type": "markdown",
   "metadata": {},
   "source": [
    "## Make a Connection to CAS (REQUIRED: MODIFY CONNECTION INFORMATION)\n",
    "\n",
    "##### To connect to the CAS server you will need:\n",
    "1. the host name, \n",
    "2. the portnumber, \n",
    "3. your user name, and your password.\n",
    "\n",
    "Visit the documentation [Getting Started with SAS® Viya® for Python](https://go.documentation.sas.com/doc/en/pgmsascdc/default/caspg3/titlepage.htm) for more information about connecting to CAS.\n",
    "\n",
    "**Be aware that connecting to the CAS server can be implemented in various ways, so you might need to see your system administrator about how to make a connection. Please follow company policy regarding authentication.**"
   ]
  },
  {
   "cell_type": "code",
   "execution_count": 47,
   "metadata": {},
   "outputs": [
    {
     "name": "stdout",
     "output_type": "stream",
     "text": [
      "CAS Connection created\n"
     ]
    }
   ],
   "source": [
    "##\n",
    "## Connect to CAS\n",
    "##\n",
    "\n",
    "################################\n",
    "## General connection syntax  ##\n",
    "################################\n",
    "# conn = swat.CAS(host, port, username, password)\n",
    "\n",
    "############################################\n",
    "## SAS Viya for Learners 3.5 connection   ##\n",
    "############################################\n",
    "# hostValue = os.environ.get('CASHOST')\n",
    "# portValue = os.environ.get('CASPORT')\n",
    "# passwordToken=os.environ.get('SAS_VIYA_TOKEN')\n",
    "# conn = swat.CAS(hostname=hostValue, port=portValue, password=passwordToken)\n",
    "\n",
    "\n",
    "##############################\n",
    "## My Personal connection   ##\n",
    "##############################\n",
    "try:\n",
    "    path = os.getenv('CAS_CREDENTIALS')\n",
    "    pem_file = os.getenv('CAS_CLIENT_SSL_CA_LIST')\n",
    "    conn = CASAuth(path, ssl_ca_list = pem_file)\n",
    "except:\n",
    "    print('No connection')\n",
    "    pass"
   ]
  },
  {
   "cell_type": "markdown",
   "metadata": {},
   "source": [
    "## Enter your connection information to CAS below"
   ]
  },
  {
   "cell_type": "code",
   "execution_count": 48,
   "metadata": {},
   "outputs": [],
   "source": [
    "## conn = swat.CAS()"
   ]
  },
  {
   "cell_type": "markdown",
   "metadata": {},
   "source": [
    "## Manually upload the PDF files to the CAS server (SAS Viya permissions required)\n",
    "You can do this by going "
   ]
  },
  {
   "cell_type": "code",
   "execution_count": null,
   "metadata": {},
   "outputs": [],
   "source": []
  },
  {
   "cell_type": "code",
   "execution_count": null,
   "metadata": {},
   "outputs": [],
   "source": []
  },
  {
   "cell_type": "code",
   "execution_count": null,
   "metadata": {},
   "outputs": [],
   "source": []
  },
  {
   "cell_type": "code",
   "execution_count": null,
   "metadata": {},
   "outputs": [],
   "source": []
  },
  {
   "cell_type": "markdown",
   "metadata": {},
   "source": [
    "## Terminate the CAS session"
   ]
  },
  {
   "cell_type": "code",
   "execution_count": null,
   "metadata": {},
   "outputs": [],
   "source": [
    "conn.terminate()"
   ]
  },
  {
   "cell_type": "markdown",
   "metadata": {},
   "source": [
    " "
   ]
  }
 ],
 "metadata": {
  "kernelspec": {
   "display_name": "Python 3 (ipykernel)",
   "language": "python",
   "name": "python3"
  },
  "language_info": {
   "codemirror_mode": {
    "name": "ipython",
    "version": 3
   },
   "file_extension": ".py",
   "mimetype": "text/x-python",
   "name": "python",
   "nbconvert_exporter": "python",
   "pygments_lexer": "ipython3",
   "version": "3.8.16"
  }
 },
 "nbformat": 4,
 "nbformat_minor": 4
}
