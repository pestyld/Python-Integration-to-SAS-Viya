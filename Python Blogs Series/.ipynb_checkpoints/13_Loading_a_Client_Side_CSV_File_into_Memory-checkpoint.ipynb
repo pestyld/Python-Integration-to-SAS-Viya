{
 "cells": [
  {
   "cell_type": "markdown",
   "id": "cd696936-27b8-457a-a7bb-0892660787d7",
   "metadata": {},
   "source": [
    "# Loading a Client-Side File into Memory\n",
    "\n",
    "[Getting started with Python integration to SAS® Viya® - Part 13 - Loading a Client-Side CSV File into CAS](https://blogs.sas.com/content/sgf/2023/02/07/getting-started-with-python-integration-to-sas-viya-part-13-loading-a-client-side-csv-file-into-cas/) blog post\n",
    "\n",
    "Downloading data from the SAS Viya Example Data Sets Website: https://support.sas.com/documentation/onlinedoc/viya/examples.htm"
   ]
  },
  {
   "cell_type": "code",
   "execution_count": null,
   "id": "d744c006-b1cd-401f-a462-241170437b8a",
   "metadata": {},
   "outputs": [],
   "source": [
    "## Packages\n",
    "import swat\n",
    "import pandas as pd\n",
    "from casConnect import connect_to_cas ## custom personal module\n",
    "\n",
    "##\n",
    "## Connect to CAS\n",
    "##\n",
    "\n",
    "## General connection syntax\n",
    "# conn = swat.CAS(host, port, username, password)\n",
    "\n",
    "## Viya for Learners 3.5 connection\n",
    "# hostValue = os.environ.get('CASHOST')\n",
    "# portValue = os.environ.get('CASPORT')\n",
    "# passwordToken=os.environ.get('SAS_VIYA_TOKEN')\n",
    "# conn = swat.CAS(hostname=hostValue, port=portValue, password=passwordToken)\n",
    "\n",
    "## Personal connection\n",
    "conn = connect_to_cas()"
   ]
  },
  {
   "cell_type": "code",
   "execution_count": null,
   "id": "2c84c7e4-b909-4620-bd1f-fe629b5755e4",
   "metadata": {},
   "outputs": [],
   "source": [
    "conn.tableInfo(caslib = 'casuser')"
   ]
  },
  {
   "cell_type": "markdown",
   "id": "c8f39d84-716d-4507-91db-29edd6f70112",
   "metadata": {},
   "source": [
    "## Using the Pandas API in the SWAT package (read_csv)"
   ]
  },
  {
   "cell_type": "code",
   "execution_count": null,
   "id": "d81fd5ce-ab66-4b7b-870a-1018927e114a",
   "metadata": {},
   "outputs": [],
   "source": [
    "castbl = conn.read_csv(r'https://support.sas.com/documentation/onlinedoc/viya/exampledatasets/heart.csv',\n",
    "                      casout = {'name':'heart_read_csv', \n",
    "                                'caslib':'casuser', \n",
    "                                'replace':True})"
   ]
  },
  {
   "cell_type": "code",
   "execution_count": null,
   "id": "caf106e6-8eea-4f67-afe7-0c575149f059",
   "metadata": {},
   "outputs": [],
   "source": [
    "conn.tableInfo(caslib = 'casuser')"
   ]
  },
  {
   "cell_type": "code",
   "execution_count": null,
   "id": "827eb6a9-fc3c-44fa-931f-470b95074187",
   "metadata": {},
   "outputs": [],
   "source": [
    "display(type(castbl), castbl)"
   ]
  },
  {
   "cell_type": "code",
   "execution_count": null,
   "id": "4f2bd64c-e3e9-4bc4-a3a2-7fbd252457bb",
   "metadata": {},
   "outputs": [],
   "source": [
    "castbl.head()"
   ]
  },
  {
   "cell_type": "markdown",
   "id": "be6bfddf-0949-4f49-a9a2-b6a4b6f7d076",
   "metadata": {},
   "source": [
    "## Using the upload_file SWAT method"
   ]
  },
  {
   "cell_type": "code",
   "execution_count": null,
   "id": "a3eb7fbf-0368-4c3d-8319-24ded6ffb6b4",
   "metadata": {},
   "outputs": [],
   "source": [
    "castbl2 = conn.upload_file(r'https://support.sas.com/documentation/onlinedoc/viya/exampledatasets/heart.csv', \n",
    "                           casout = {'name':'heart_upload_file', \n",
    "                                     'caslib':'casuser',\n",
    "                                     'replace':True})     "
   ]
  },
  {
   "cell_type": "code",
   "execution_count": null,
   "id": "b64e2ee2-f441-4300-954b-0dba547799e1",
   "metadata": {},
   "outputs": [],
   "source": [
    "conn.tableInfo(caslib = 'casuser')"
   ]
  },
  {
   "cell_type": "code",
   "execution_count": null,
   "id": "566dd60f-26ad-4d8f-b49a-eb67f5d07c9f",
   "metadata": {},
   "outputs": [],
   "source": [
    "display(type(castbl2), castbl2)"
   ]
  },
  {
   "cell_type": "code",
   "execution_count": null,
   "id": "3beaae4e-cbc8-4ed6-a099-902d4e2b5344",
   "metadata": {},
   "outputs": [],
   "source": [
    "castbl2.head()"
   ]
  },
  {
   "cell_type": "markdown",
   "id": "29764814-2677-4ab3-a85d-246adbbd9c2a",
   "metadata": {},
   "source": [
    "## Using the SWAT upload_frame method"
   ]
  },
  {
   "cell_type": "code",
   "execution_count": null,
   "id": "1aea9765-fbb3-4377-a991-89648011b1f8",
   "metadata": {},
   "outputs": [],
   "source": [
    "## Read the data into a DataFrame\n",
    "df_raw = pd.read_csv(r'https://support.sas.com/documentation/onlinedoc/viya/exampledatasets/heart.csv')\n",
    "\n",
    "## Prepare the DataFrame\n",
    "df = (df_raw\n",
    "      .rename(columns = lambda colName: colName.upper())\n",
    "      .assign(\n",
    "         STATUS = lambda _df: _df.STATUS.str.upper(),\n",
    "         DEATHCAUSE = lambda _df: _df.DEATHCAUSE.fillna('Still Alive').str.lower()\n",
    "        )\n",
    "     .drop('AGEATSTART', axis=1)\n",
    ")\n",
    "\n",
    "df.head()"
   ]
  },
  {
   "cell_type": "code",
   "execution_count": null,
   "id": "8102bdd5-1dfd-43ac-b4fa-b1aa34129f0e",
   "metadata": {},
   "outputs": [],
   "source": [
    "castbl3 = conn.upload_frame(df, casout = {'name':'heart_upload_frame', \n",
    "                                          'caslib':'casuser', \n",
    "                                          'replace':True})"
   ]
  },
  {
   "cell_type": "code",
   "execution_count": null,
   "id": "e1c75149-6075-4f79-8f66-3a64b356f68f",
   "metadata": {},
   "outputs": [],
   "source": [
    "conn.tableInfo(caslib = 'casuser')"
   ]
  },
  {
   "cell_type": "markdown",
   "id": "a79c86fd-3818-454d-8518-911dcb47b50b",
   "metadata": {},
   "source": [
    "## Terminate the CAS connection"
   ]
  },
  {
   "cell_type": "code",
   "execution_count": null,
   "id": "3f6fb6b4-68d9-415b-8ef7-c65ed08882f5",
   "metadata": {},
   "outputs": [],
   "source": [
    "conn.terminate()"
   ]
  },
  {
   "cell_type": "markdown",
   "id": "d34d7c0d-0a11-4503-ae9c-62f6d9e7755f",
   "metadata": {},
   "source": [
    " "
   ]
  }
 ],
 "metadata": {
  "kernelspec": {
   "display_name": "Python 3 (ipykernel)",
   "language": "python",
   "name": "python3"
  },
  "language_info": {
   "codemirror_mode": {
    "name": "ipython",
    "version": 3
   },
   "file_extension": ".py",
   "mimetype": "text/x-python",
   "name": "python",
   "nbconvert_exporter": "python",
   "pygments_lexer": "ipython3",
   "version": "3.8.16"
  }
 },
 "nbformat": 4,
 "nbformat_minor": 5
}
