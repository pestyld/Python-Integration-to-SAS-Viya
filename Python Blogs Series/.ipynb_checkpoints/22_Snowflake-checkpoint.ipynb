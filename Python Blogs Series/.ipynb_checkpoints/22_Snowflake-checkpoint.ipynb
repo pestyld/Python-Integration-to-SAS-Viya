{
 "cells": [
  {
   "cell_type": "markdown",
   "id": "85e29674-ef26-4cf8-b188-e1dde438ebc9",
   "metadata": {},
   "source": [
    "# Connect to Snowflake"
   ]
  },
  {
   "cell_type": "code",
   "execution_count": 3,
   "id": "d02dc7f4-5fed-4273-a6d5-b4fb3d0cd5bc",
   "metadata": {
    "tags": []
   },
   "outputs": [
    {
     "name": "stdout",
     "output_type": "stream",
     "text": [
      "Imported personal custom CAS auth package\n",
      "Python version:3.8.16 (default, Mar  2 2023, 03:18:16) [MSC v.1916 64 bit (AMD64)]\n",
      "swat version:1.13.0\n",
      "pandas version:1.5.3\n",
      "numpy version:1.24.3\n"
     ]
    }
   ],
   "source": [
    "## Packages\n",
    "import swat\n",
    "import sys\n",
    "import os\n",
    "import pandas as pd\n",
    "import numpy as np\n",
    "import json\n",
    "\n",
    "\n",
    "## Options\n",
    "pd.set_option('display.max_columns', 50)\n",
    "pd.set_option('display.max_colwidth', None)\n",
    "\n",
    "try:\n",
    "    from casauth import CASAuth\n",
    "    print('Imported personal custom CAS auth package')\n",
    "except:\n",
    "    print('casauth package not available')\n",
    "\n",
    "print(f'Python version:{sys.version.split(\"|\")[0]}')\n",
    "print(f'swat version:{swat.__version__}')\n",
    "print(f'pandas version:{pd.__version__}')\n",
    "print(f'numpy version:{np.__version__}')"
   ]
  },
  {
   "cell_type": "markdown",
   "id": "d98577de-8a93-421c-a874-a0b2895caf72",
   "metadata": {},
   "source": [
    "## Connect to CAS\n",
    "My personal CAS connection information."
   ]
  },
  {
   "cell_type": "code",
   "execution_count": 4,
   "id": "90f0f6d4-57e3-473d-b4a9-799fd7b247da",
   "metadata": {
    "tags": []
   },
   "outputs": [
    {
     "name": "stdout",
     "output_type": "stream",
     "text": [
      "CAS Connection created\n"
     ]
    }
   ],
   "source": [
    "path = os.getenv('CAS_CREDENTIALS')\n",
    "pem_file = os.getenv('CAS_CLIENT_SSL_CA_LIST')\n",
    "\n",
    "conn = CASAuth(path, ssl_ca_list = pem_file)"
   ]
  },
  {
   "cell_type": "markdown",
   "id": "3ee9c2c5-52db-46c9-8c42-4690fe5ad381",
   "metadata": {
    "tags": []
   },
   "source": [
    "Current version of SAS Viya."
   ]
  },
  {
   "cell_type": "code",
   "execution_count": 5,
   "id": "e61a9b9f-71b0-4530-8ef2-8edcbfe213ba",
   "metadata": {
    "tags": []
   },
   "outputs": [
    {
     "name": "stdout",
     "output_type": "stream",
     "text": [
      "NOTE: Grid node action status report: 5 nodes, 9 total actions executed.\n"
     ]
    },
    {
     "data": {
      "text/plain": [
       "'Stable 2023.05'"
      ]
     },
     "execution_count": 5,
     "metadata": {},
     "output_type": "execute_result"
    }
   ],
   "source": [
    "conn.about()['About']['Viya Version']"
   ]
  },
  {
   "cell_type": "markdown",
   "id": "d8c81691-f87f-45fa-8311-1715e6d8e05d",
   "metadata": {},
   "source": [
    "## Connect to Snowflake\n",
    "Connect to my demonstration Snowflake environment. I'm using a simple username and password to connect. Please follow any company guidelines to connect to your production Snowflake environment. I've stored all of my credentials in a JSON file. \n",
    "\n",
    "JSON file example:\n",
    "\n",
    "{\n",
    "\n",
    "    \"srctype\": \"snowflake\",\n",
    "    \"server\": \"<your account>.snowflakecomputing.com\",\n",
    "    \"database\": \"database-name\",\n",
    "    \"schema\": \"schema-name\",\n",
    "    \"userName\": \"user-name\",\n",
    "    \"password\": \"password\"\n",
    "}\n",
    "\n",
    "For more information about connect to a Snowflake database:\n",
    "- [SAS Viya Best practices with Snowflake Data](https://video.sas.com/detail/video/6312274491112/sas-viya-best-practices-with-snowflake-data)\n",
    "- [Documentation - Snowflake Data Connector](https://go.documentation.sas.com/doc/en/pgmsascdc/default/casref/p183rli8obtde3n10y9bzbrpwnsh.htm)"
   ]
  },
  {
   "cell_type": "code",
   "execution_count": null,
   "id": "c5bfc7e4-c3f1-4a95-8d20-fee1974ea775",
   "metadata": {},
   "outputs": [],
   "source": [
    "## Get my Snowflake connection information\n",
    "snow_creds = json.load(open(os.getenv('CAS_CREDENTIALS') + '\\snowflake_creds.json'))\n",
    "\n",
    "## Add the connection to Snowflake to CAS\n",
    "conn.addcaslib(name = 'my_snow_db',\n",
    "               datasource = dict(\n",
    "                        srctype = 'snowflake',\n",
    "                        server = snow_creds['server'],\n",
    "                        database = snow_creds['database'],\n",
    "                        schema = snow_creds['schema'],\n",
    "                        userName = snow_creds['userName'],\n",
    "                        password = snow_creds['password']\n",
    "               )\n",
    "              )"
   ]
  },
  {
   "cell_type": "markdown",
   "id": "51ef2bf3-8299-4a7d-93ba-2084f0ebc70d",
   "metadata": {},
   "source": [
    "View available tables in Snowflake."
   ]
  },
  {
   "cell_type": "code",
   "execution_count": 7,
   "id": "1e6d6e20-0aa0-4b1d-a53c-78135a6c53ea",
   "metadata": {
    "tags": []
   },
   "outputs": [
    {
     "data": {
      "text/html": [
       "<div class=\"cas-results-key\"><b>&#167; FileInfo</b></div>\n",
       "<div class=\"cas-results-body\">\n",
       "<div>\n",
       "<style scoped>\n",
       "    .dataframe tbody tr th:only-of-type {\n",
       "        vertical-align: middle;\n",
       "    }\n",
       "\n",
       "    .dataframe tbody tr th {\n",
       "        vertical-align: top;\n",
       "    }\n",
       "\n",
       "    .dataframe thead th {\n",
       "        text-align: right;\n",
       "    }\n",
       "</style>\n",
       "<table border=\"1\" class=\"dataframe\"><caption>Available Data Source Entities</caption>\n",
       "  <thead>\n",
       "    <tr style=\"text-align: right;\">\n",
       "      <th title=\"\"></th>\n",
       "      <th title=\"Catalog\">Catalog</th>\n",
       "      <th title=\"Schema\">Schema</th>\n",
       "      <th title=\"Name\">Name</th>\n",
       "      <th title=\"Type\">Type</th>\n",
       "      <th title=\"Description\">Description</th>\n",
       "    </tr>\n",
       "  </thead>\n",
       "  <tbody>\n",
       "    <tr>\n",
       "      <td>0</td>\n",
       "      <td>NEWDB</td>\n",
       "      <td>PUBLIC</td>\n",
       "      <td>CUSTOMER</td>\n",
       "      <td>TABLE</td>\n",
       "      <td></td>\n",
       "    </tr>\n",
       "    <tr>\n",
       "      <td>1</td>\n",
       "      <td>NEWDB</td>\n",
       "      <td>PUBLIC</td>\n",
       "      <td>TESTTABLE</td>\n",
       "      <td>TABLE</td>\n",
       "      <td></td>\n",
       "    </tr>\n",
       "  </tbody>\n",
       "</table>\n",
       "</div>\n",
       "</div>\n",
       "<div class=\"cas-output-area\"></div>\n",
       "<p class=\"cas-results-performance\"><small><span class=\"cas-elapsed\">elapsed 1.63s</span> &#183; <span class=\"cas-user\">user 0.0837s</span> &#183; <span class=\"cas-sys\">sys 0.0446s</span> &#183; <span class=\"cas-memory\">mem 2.15MB</span></small></p>"
      ],
      "text/plain": [
       "[FileInfo]\n",
       "\n",
       " Available Data Source Entities\n",
       " \n",
       "   Catalog  Schema       Name   Type Description\n",
       " 0   NEWDB  PUBLIC   CUSTOMER  TABLE            \n",
       " 1   NEWDB  PUBLIC  TESTTABLE  TABLE            \n",
       "\n",
       "+ Elapsed: 1.63s, user: 0.0837s, sys: 0.0446s, mem: 2.15mb"
      ]
     },
     "execution_count": 7,
     "metadata": {},
     "output_type": "execute_result"
    }
   ],
   "source": [
    "conn.fileInfo(caslib = 'my_snow_db')"
   ]
  },
  {
   "cell_type": "markdown",
   "id": "1b522ca6-193b-4abb-a447-986d5c9c13a8",
   "metadata": {},
   "source": [
    "View available in-memory CAS tables in the Snowflake caslib (should be none since we haven't loaded anything into memory)."
   ]
  },
  {
   "cell_type": "code",
   "execution_count": 8,
   "id": "3c344411-0915-4277-9cad-4d01cbf8ca25",
   "metadata": {
    "tags": []
   },
   "outputs": [
    {
     "name": "stdout",
     "output_type": "stream",
     "text": [
      "NOTE: No tables are available in caslib my_snow_db of Cloud Analytic Services.\n"
     ]
    },
    {
     "data": {
      "text/html": [
       "<div class=\"cas-output-area\"></div>\n",
       "<p class=\"cas-results-performance\"><small><span class=\"cas-elapsed\">elapsed 0.00781s</span> &#183; <span class=\"cas-user\">user 0.00993s</span> &#183; <span class=\"cas-sys\">sys 0.00618s</span> &#183; <span class=\"cas-memory\">mem 1.43MB</span></small></p>"
      ],
      "text/plain": [
       "+ Elapsed: 0.00781s, user: 0.00993s, sys: 0.00618s, mem: 1.43mb"
      ]
     },
     "execution_count": 8,
     "metadata": {},
     "output_type": "execute_result"
    }
   ],
   "source": [
    "conn.tableInfo(caslib = 'my_snow_db')"
   ]
  },
  {
   "cell_type": "markdown",
   "id": "4456933f-a258-4e1a-923a-379d2b7edb1c",
   "metadata": {},
   "source": [
    "## Executing SQL"
   ]
  },
  {
   "cell_type": "code",
   "execution_count": 19,
   "id": "f7d4db9d-4349-451b-95e6-f9032a5b594a",
   "metadata": {
    "tags": []
   },
   "outputs": [
    {
     "name": "stdout",
     "output_type": "stream",
     "text": [
      "NOTE: Added action set 'fedSQL'.\n"
     ]
    },
    {
     "data": {
      "text/html": [
       "<div class=\"cas-results-key\"><b>&#167; actionset</b></div>\n",
       "<div class=\"cas-results-body\">\n",
       "<div>fedSQL</div>\n",
       "</div>\n",
       "<div class=\"cas-output-area\"></div>\n",
       "<p class=\"cas-results-performance\"><small><span class=\"cas-elapsed\">elapsed 0.00881s</span> &#183; <span class=\"cas-user\">user 0.00957s</span> &#183; <span class=\"cas-sys\">sys 0.00927s</span> &#183; <span class=\"cas-memory\">mem 1.03MB</span></small></p>"
      ],
      "text/plain": [
       "[actionset]\n",
       "\n",
       " 'fedSQL'\n",
       "\n",
       "+ Elapsed: 0.00881s, user: 0.00957s, sys: 0.00927s, mem: 1.03mb"
      ]
     },
     "execution_count": 19,
     "metadata": {},
     "output_type": "execute_result"
    }
   ],
   "source": [
    "conn.loadActionSet('fedSQL')"
   ]
  },
  {
   "cell_type": "markdown",
   "id": "83d7f307-9c9c-486f-bf1a-fabb56623a2f",
   "metadata": {},
   "source": [
    "### Use SAS FedSQL"
   ]
  },
  {
   "cell_type": "code",
   "execution_count": 33,
   "id": "00b5f98a-3481-4e62-b9a0-f9ba56c930b8",
   "metadata": {
    "tags": []
   },
   "outputs": [
    {
     "name": "stdout",
     "output_type": "stream",
     "text": [
      " \n",
      "Methods for full query plan\n",
      "----------------------------\n",
      "        Agg \n",
      "          Sort \n",
      "            SeqScan from my_snow_db.CUSTOMER \n",
      " \n",
      "NOTE: Performing serial LoadTable action using SAS Data Connector to Snowflake.\n",
      "Methods for stage 1\n",
      "--------------------\n",
      "        Agg \n",
      "            SeqScan with _pushed_ order by from my_snow_db.CUSTOMER \n",
      " \n"
     ]
    },
    {
     "data": {
      "text/html": [
       "<div class=\"cas-results-key\"><b>&#167; Result Set</b></div>\n",
       "<div class=\"cas-results-body\">\n",
       "<div>\n",
       "<style scoped>\n",
       "    .dataframe tbody tr th:only-of-type {\n",
       "        vertical-align: middle;\n",
       "    }\n",
       "\n",
       "    .dataframe tbody tr th {\n",
       "        vertical-align: top;\n",
       "    }\n",
       "\n",
       "    .dataframe thead th {\n",
       "        text-align: right;\n",
       "    }\n",
       "</style>\n",
       "<table border=\"1\" class=\"dataframe\">\n",
       "  <thead>\n",
       "    <tr style=\"text-align: right;\">\n",
       "      <th title=\"\"></th>\n",
       "      <th title=\"C_BIRTH_YEAR\">C_BIRTH_YEAR</th>\n",
       "      <th title=\"COUNT\">COUNT</th>\n",
       "    </tr>\n",
       "  </thead>\n",
       "  <tbody>\n",
       "    <tr>\n",
       "      <td>0</td>\n",
       "      <td>1983.0</td>\n",
       "      <td>1395637</td>\n",
       "    </tr>\n",
       "    <tr>\n",
       "      <td>1</td>\n",
       "      <td>1991.0</td>\n",
       "      <td>1398782</td>\n",
       "    </tr>\n",
       "    <tr>\n",
       "      <td>2</td>\n",
       "      <td>1988.0</td>\n",
       "      <td>1401315</td>\n",
       "    </tr>\n",
       "    <tr>\n",
       "      <td>3</td>\n",
       "      <td>1984.0</td>\n",
       "      <td>1401905</td>\n",
       "    </tr>\n",
       "    <tr>\n",
       "      <td>4</td>\n",
       "      <td>1987.0</td>\n",
       "      <td>1398236</td>\n",
       "    </tr>\n",
       "    <tr>\n",
       "      <td>5</td>\n",
       "      <td>1990.0</td>\n",
       "      <td>1398009</td>\n",
       "    </tr>\n",
       "    <tr>\n",
       "      <td>6</td>\n",
       "      <td>1981.0</td>\n",
       "      <td>1395851</td>\n",
       "    </tr>\n",
       "    <tr>\n",
       "      <td>7</td>\n",
       "      <td>1989.0</td>\n",
       "      <td>1397778</td>\n",
       "    </tr>\n",
       "    <tr>\n",
       "      <td>8</td>\n",
       "      <td>1985.0</td>\n",
       "      <td>1397692</td>\n",
       "    </tr>\n",
       "    <tr>\n",
       "      <td>9</td>\n",
       "      <td>NaN</td>\n",
       "      <td>3500856</td>\n",
       "    </tr>\n",
       "    <tr>\n",
       "      <td>10</td>\n",
       "      <td>1980.0</td>\n",
       "      <td>1403085</td>\n",
       "    </tr>\n",
       "    <tr>\n",
       "      <td>11</td>\n",
       "      <td>1982.0</td>\n",
       "      <td>1400132</td>\n",
       "    </tr>\n",
       "    <tr>\n",
       "      <td>12</td>\n",
       "      <td>1986.0</td>\n",
       "      <td>1397627</td>\n",
       "    </tr>\n",
       "    <tr>\n",
       "      <td>13</td>\n",
       "      <td>1992.0</td>\n",
       "      <td>1401621</td>\n",
       "    </tr>\n",
       "  </tbody>\n",
       "</table>\n",
       "</div>\n",
       "</div>\n",
       "<div class=\"cas-output-area\"></div>\n",
       "<p class=\"cas-results-performance\"><small><span class=\"cas-elapsed\">elapsed 22.7s</span> &#183; <span class=\"cas-user\">user 48s</span> &#183; <span class=\"cas-sys\">sys 11.5s</span> &#183; <span class=\"cas-memory\">mem 1.59e+03MB</span></small></p>"
      ],
      "text/plain": [
       "[Result Set]\n",
       "\n",
       "     C_BIRTH_YEAR    COUNT\n",
       " 0         1983.0  1395637\n",
       " 1         1991.0  1398782\n",
       " 2         1988.0  1401315\n",
       " 3         1984.0  1401905\n",
       " 4         1987.0  1398236\n",
       " 5         1990.0  1398009\n",
       " 6         1981.0  1395851\n",
       " 7         1989.0  1397778\n",
       " 8         1985.0  1397692\n",
       " 9            NaN  3500856\n",
       " 10        1980.0  1403085\n",
       " 11        1982.0  1400132\n",
       " 12        1986.0  1397627\n",
       " 13        1992.0  1401621\n",
       "\n",
       "+ Elapsed: 22.7s, user: 48s, sys: 11.5s, mem: 1.59e+03mb"
      ]
     },
     "execution_count": 33,
     "metadata": {},
     "output_type": "execute_result"
    }
   ],
   "source": [
    "myQuery = '''\n",
    "    SELECT C_BIRTH_YEAR, COUNT(*) as COUNT\n",
    "    FROM MY_SNOW_DB.CUSTOMER\n",
    "    GROUP BY C_BIRTH_YEAR;\n",
    "'''\n",
    "\n",
    "conn.execDirect(query = myQuery, method = True)"
   ]
  },
  {
   "cell_type": "code",
   "execution_count": 30,
   "id": "09467942-1fb7-4c13-a44f-64f43288d727",
   "metadata": {
    "tags": []
   },
   "outputs": [
    {
     "name": "stdout",
     "output_type": "stream",
     "text": [
      "NOTE: No tables are available in caslib my_snow_db of Cloud Analytic Services.\n"
     ]
    },
    {
     "data": {
      "text/html": [
       "<div class=\"cas-output-area\"></div>\n",
       "<p class=\"cas-results-performance\"><small><span class=\"cas-elapsed\">elapsed 0.00971s</span> &#183; <span class=\"cas-user\">user 0.00327s</span> &#183; <span class=\"cas-sys\">sys 0.0174s</span> &#183; <span class=\"cas-memory\">mem 1.49MB</span></small></p>"
      ],
      "text/plain": [
       "+ Elapsed: 0.00971s, user: 0.00327s, sys: 0.0174s, mem: 1.49mb"
      ]
     },
     "execution_count": 30,
     "metadata": {},
     "output_type": "execute_result"
    }
   ],
   "source": [
    "conn.tableInfo(caslib = 'my_snow_db')"
   ]
  },
  {
   "cell_type": "code",
   "execution_count": 32,
   "id": "3a303ac5-773c-4bb7-97a2-a67f931d0e48",
   "metadata": {
    "tags": []
   },
   "outputs": [
    {
     "name": "stdout",
     "output_type": "stream",
     "text": [
      " \n",
      "Methods for full query plan\n",
      "----------------------------\n",
      "        Agg \n",
      "          Sort \n",
      "            SeqScan from my_snow_db.CUSTOMER \n",
      " \n",
      "NOTE: Failure of broadcastDSSTextAndLen prevents full pass-through.\n",
      "NOTE: Full pass-through to the underlying data source was not possible. Stopping execution.\n"
     ]
    },
    {
     "data": {
      "text/html": [
       "<div class=\"cas-output-area\"></div>\n",
       "<p class=\"cas-results-performance\"><small><span class=\"cas-elapsed\">elapsed 2.41s</span> &#183; <span class=\"cas-user\">user 0.0923s</span> &#183; <span class=\"cas-sys\">sys 0.0454s</span> &#183; <span class=\"cas-memory\">mem 7.09MB</span></small></p>"
      ],
      "text/plain": [
       "+ Elapsed: 2.41s, user: 0.0923s, sys: 0.0454s, mem: 7.09mb"
      ]
     },
     "execution_count": 32,
     "metadata": {},
     "output_type": "execute_result"
    }
   ],
   "source": [
    "myQuery = '''\n",
    "    SELECT C_BIRTH_YEAR, COUNT(*) as COUNT\n",
    "    FROM MY_SNOW_DB.CUSTOMER\n",
    "    GROUP BY C_BIRTH_YEAR;\n",
    "'''\n",
    "\n",
    "conn.execDirect(query = myQuery, \n",
    "                method = True,\n",
    "                cntl = {\n",
    "                    'requireFullPassThrough':True\n",
    "                })"
   ]
  },
  {
   "cell_type": "markdown",
   "id": "93b2babc-b31b-4be0-b7e4-ada4ff4757de",
   "metadata": {},
   "source": [
    "### Use Snowflake SQL to process in the database"
   ]
  },
  {
   "cell_type": "code",
   "execution_count": 38,
   "id": "8ad2accb-8604-4639-8b42-733196062e5c",
   "metadata": {
    "tags": []
   },
   "outputs": [
    {
     "name": "stdout",
     "output_type": "stream",
     "text": [
      " \n",
      "Methods for full query plan\n",
      "----------------------------\n",
      "        SeqScan from my_snow_db.__fedsql_cep_1__ \n",
      " \n",
      "Methods for stage 1\n",
      "--------------------\n",
      "        FedSQL did not generate a plan. Entire query can be pushed to driver.\n",
      " \n"
     ]
    },
    {
     "data": {
      "text/html": [
       "<div class=\"cas-results-key\"><b>&#167; Result Set</b></div>\n",
       "<div class=\"cas-results-body\">\n",
       "<div>\n",
       "<style scoped>\n",
       "    .dataframe tbody tr th:only-of-type {\n",
       "        vertical-align: middle;\n",
       "    }\n",
       "\n",
       "    .dataframe tbody tr th {\n",
       "        vertical-align: top;\n",
       "    }\n",
       "\n",
       "    .dataframe thead th {\n",
       "        text-align: right;\n",
       "    }\n",
       "</style>\n",
       "<table border=\"1\" class=\"dataframe\">\n",
       "  <thead>\n",
       "    <tr style=\"text-align: right;\">\n",
       "      <th title=\"\"></th>\n",
       "      <th title=\"C_BIRTH_YEAR\">C_BIRTH_YEAR</th>\n",
       "      <th title=\"COUNT\">COUNT</th>\n",
       "    </tr>\n",
       "  </thead>\n",
       "  <tbody>\n",
       "    <tr>\n",
       "      <td>0</td>\n",
       "      <td>1988.0</td>\n",
       "      <td>1401315.0</td>\n",
       "    </tr>\n",
       "    <tr>\n",
       "      <td>1</td>\n",
       "      <td>1980.0</td>\n",
       "      <td>1403085.0</td>\n",
       "    </tr>\n",
       "    <tr>\n",
       "      <td>2</td>\n",
       "      <td>1982.0</td>\n",
       "      <td>1400132.0</td>\n",
       "    </tr>\n",
       "    <tr>\n",
       "      <td>3</td>\n",
       "      <td>1981.0</td>\n",
       "      <td>1395851.0</td>\n",
       "    </tr>\n",
       "    <tr>\n",
       "      <td>4</td>\n",
       "      <td>1983.0</td>\n",
       "      <td>1395637.0</td>\n",
       "    </tr>\n",
       "    <tr>\n",
       "      <td>5</td>\n",
       "      <td>1984.0</td>\n",
       "      <td>1401905.0</td>\n",
       "    </tr>\n",
       "    <tr>\n",
       "      <td>6</td>\n",
       "      <td>1985.0</td>\n",
       "      <td>1397692.0</td>\n",
       "    </tr>\n",
       "    <tr>\n",
       "      <td>7</td>\n",
       "      <td>1986.0</td>\n",
       "      <td>1397627.0</td>\n",
       "    </tr>\n",
       "    <tr>\n",
       "      <td>8</td>\n",
       "      <td>NaN</td>\n",
       "      <td>3500856.0</td>\n",
       "    </tr>\n",
       "    <tr>\n",
       "      <td>9</td>\n",
       "      <td>1990.0</td>\n",
       "      <td>1398009.0</td>\n",
       "    </tr>\n",
       "    <tr>\n",
       "      <td>10</td>\n",
       "      <td>1992.0</td>\n",
       "      <td>1401621.0</td>\n",
       "    </tr>\n",
       "    <tr>\n",
       "      <td>11</td>\n",
       "      <td>1989.0</td>\n",
       "      <td>1397778.0</td>\n",
       "    </tr>\n",
       "    <tr>\n",
       "      <td>12</td>\n",
       "      <td>1991.0</td>\n",
       "      <td>1398782.0</td>\n",
       "    </tr>\n",
       "    <tr>\n",
       "      <td>13</td>\n",
       "      <td>1987.0</td>\n",
       "      <td>1398236.0</td>\n",
       "    </tr>\n",
       "  </tbody>\n",
       "</table>\n",
       "</div>\n",
       "</div>\n",
       "<div class=\"cas-output-area\"></div>\n",
       "<p class=\"cas-results-performance\"><small><span class=\"cas-elapsed\">elapsed 1.24s</span> &#183; <span class=\"cas-user\">user 0.361s</span> &#183; <span class=\"cas-sys\">sys 0.381s</span> &#183; <span class=\"cas-memory\">mem 187MB</span></small></p>"
      ],
      "text/plain": [
       "[Result Set]\n",
       "\n",
       "     C_BIRTH_YEAR      COUNT\n",
       " 0         1988.0  1401315.0\n",
       " 1         1980.0  1403085.0\n",
       " 2         1982.0  1400132.0\n",
       " 3         1981.0  1395851.0\n",
       " 4         1983.0  1395637.0\n",
       " 5         1984.0  1401905.0\n",
       " 6         1985.0  1397692.0\n",
       " 7         1986.0  1397627.0\n",
       " 8            NaN  3500856.0\n",
       " 9         1990.0  1398009.0\n",
       " 10        1992.0  1401621.0\n",
       " 11        1989.0  1397778.0\n",
       " 12        1991.0  1398782.0\n",
       " 13        1987.0  1398236.0\n",
       "\n",
       "+ Elapsed: 1.24s, user: 0.361s, sys: 0.381s, mem: 187mb"
      ]
     },
     "execution_count": 38,
     "metadata": {},
     "output_type": "execute_result"
    }
   ],
   "source": [
    "myQuery = '''\n",
    "    SELECT * FROM CONNECTION TO MY_SNOW_DB\n",
    "        (SELECT C_BIRTH_YEAR, COUNT(*) as COUNT\n",
    "         FROM NEWDB.PUBLIC.CUSTOMER\n",
    "         GROUP BY C_BIRTH_YEAR);\n",
    "'''\n",
    "\n",
    "conn.execDirect(query = myQuery, \n",
    "                method = True)"
   ]
  },
  {
   "cell_type": "markdown",
   "id": "495381ee-71d8-4a25-8c08-ced19bfb726d",
   "metadata": {},
   "source": [
    "## Using CAS Actions to process the Snowflake data in the CAS sever"
   ]
  },
  {
   "cell_type": "markdown",
   "id": "6879af86-e2de-4319-b7df-fe126f53ce3b",
   "metadata": {},
   "source": [
    "View available tables in Snowflake."
   ]
  },
  {
   "cell_type": "code",
   "execution_count": 39,
   "id": "1ed73612-df41-4d37-af7c-e7c08c4de3ae",
   "metadata": {
    "tags": []
   },
   "outputs": [
    {
     "data": {
      "text/html": [
       "<div class=\"cas-results-key\"><b>&#167; FileInfo</b></div>\n",
       "<div class=\"cas-results-body\">\n",
       "<div>\n",
       "<style scoped>\n",
       "    .dataframe tbody tr th:only-of-type {\n",
       "        vertical-align: middle;\n",
       "    }\n",
       "\n",
       "    .dataframe tbody tr th {\n",
       "        vertical-align: top;\n",
       "    }\n",
       "\n",
       "    .dataframe thead th {\n",
       "        text-align: right;\n",
       "    }\n",
       "</style>\n",
       "<table border=\"1\" class=\"dataframe\"><caption>Available Data Source Entities</caption>\n",
       "  <thead>\n",
       "    <tr style=\"text-align: right;\">\n",
       "      <th title=\"\"></th>\n",
       "      <th title=\"Catalog\">Catalog</th>\n",
       "      <th title=\"Schema\">Schema</th>\n",
       "      <th title=\"Name\">Name</th>\n",
       "      <th title=\"Type\">Type</th>\n",
       "      <th title=\"Description\">Description</th>\n",
       "    </tr>\n",
       "  </thead>\n",
       "  <tbody>\n",
       "    <tr>\n",
       "      <td>0</td>\n",
       "      <td>NEWDB</td>\n",
       "      <td>PUBLIC</td>\n",
       "      <td>CUSTOMER</td>\n",
       "      <td>TABLE</td>\n",
       "      <td></td>\n",
       "    </tr>\n",
       "    <tr>\n",
       "      <td>1</td>\n",
       "      <td>NEWDB</td>\n",
       "      <td>PUBLIC</td>\n",
       "      <td>TESTTABLE</td>\n",
       "      <td>TABLE</td>\n",
       "      <td></td>\n",
       "    </tr>\n",
       "  </tbody>\n",
       "</table>\n",
       "</div>\n",
       "</div>\n",
       "<div class=\"cas-output-area\"></div>\n",
       "<p class=\"cas-results-performance\"><small><span class=\"cas-elapsed\">elapsed 1.07s</span> &#183; <span class=\"cas-user\">user 0.0312s</span> &#183; <span class=\"cas-sys\">sys 0.0146s</span> &#183; <span class=\"cas-memory\">mem 2.01MB</span></small></p>"
      ],
      "text/plain": [
       "[FileInfo]\n",
       "\n",
       " Available Data Source Entities\n",
       " \n",
       "   Catalog  Schema       Name   Type Description\n",
       " 0   NEWDB  PUBLIC   CUSTOMER  TABLE            \n",
       " 1   NEWDB  PUBLIC  TESTTABLE  TABLE            \n",
       "\n",
       "+ Elapsed: 1.07s, user: 0.0312s, sys: 0.0146s, mem: 2.01mb"
      ]
     },
     "execution_count": 39,
     "metadata": {},
     "output_type": "execute_result"
    }
   ],
   "source": [
    "conn.fileInfo(caslib = 'my_snow_db')"
   ]
  },
  {
   "cell_type": "markdown",
   "id": "8b78d740-71eb-4fa9-8c41-d5bc63e7258a",
   "metadata": {},
   "source": [
    "Load the Snowflake table into memory in the CAS server. Once the data is loaded in CAS you can use available Pandas API methods and CAS actions from the SWAT package to process your data.\n",
    "\n",
    "Here I'll load the Snowflake table into memory in the **Casuser** caslib and name the CAS table **CUSTOMER**."
   ]
  },
  {
   "cell_type": "code",
   "execution_count": 42,
   "id": "921d63f8-21cd-43d6-94ff-84e450b4445c",
   "metadata": {
    "tags": []
   },
   "outputs": [
    {
     "name": "stdout",
     "output_type": "stream",
     "text": [
      "NOTE: Performing serial LoadTable action using SAS Data Connector to Snowflake.\n",
      "NOTE: Cloud Analytic Services made the external data from CUSTOMER available as table CAS_CUSTOMERS in caslib CASUSER(Peter.Styliadis@sas.com).\n"
     ]
    },
    {
     "data": {
      "text/html": [
       "<div class=\"cas-results-key\"><b>&#167; caslib</b></div>\n",
       "<div class=\"cas-results-body\">\n",
       "<div>CASUSER(Peter.Styliadis@sas.com)</div>\n",
       "</div>\n",
       "<div class=\"cas-results-key\"><hr/><b>&#167; tableName</b></div>\n",
       "<div class=\"cas-results-body\">\n",
       "<div>CAS_CUSTOMERS</div>\n",
       "</div>\n",
       "<div class=\"cas-results-key\"><hr/><b>&#167; casTable</b></div>\n",
       "<div class=\"cas-results-body\">\n",
       "<div>CASTable('CAS_CUSTOMERS', caslib='CASUSER(Peter.Styliadis@sas.com)')</div>\n",
       "</div>\n",
       "<div class=\"cas-output-area\"></div>\n",
       "<p class=\"cas-results-performance\"><small><span class=\"cas-elapsed\">elapsed 58.1s</span> &#183; <span class=\"cas-user\">user 84.2s</span> &#183; <span class=\"cas-sys\">sys 43.3s</span> &#183; <span class=\"cas-memory\">mem 156MB</span></small></p>"
      ],
      "text/plain": [
       "[caslib]\n",
       "\n",
       " 'CASUSER(Peter.Styliadis@sas.com)'\n",
       "\n",
       "[tableName]\n",
       "\n",
       " 'CAS_CUSTOMERS'\n",
       "\n",
       "[casTable]\n",
       "\n",
       " CASTable('CAS_CUSTOMERS', caslib='CASUSER(Peter.Styliadis@sas.com)')\n",
       "\n",
       "+ Elapsed: 58.1s, user: 84.2s, sys: 43.3s, mem: 156mb"
      ]
     },
     "execution_count": 42,
     "metadata": {},
     "output_type": "execute_result"
    }
   ],
   "source": [
    "conn.loadTable('CUSTOMER', caslib = 'my_snow_db',\n",
    "               casOut = {\n",
    "                   'name':'cas_customers',\n",
    "                   'caslib':'casuser'\n",
    "               })"
   ]
  },
  {
   "cell_type": "markdown",
   "id": "52635f5a-fb9f-4851-a83c-1d4a2f6bb513",
   "metadata": {},
   "source": [
    "View available in-memory CAS tables."
   ]
  },
  {
   "cell_type": "code",
   "execution_count": 43,
   "id": "5fc64c38-628f-4484-a216-9a24911e96a7",
   "metadata": {
    "tags": []
   },
   "outputs": [
    {
     "data": {
      "text/html": [
       "<div class=\"cas-results-key\"><b>&#167; TableInfo</b></div>\n",
       "<div class=\"cas-results-body\">\n",
       "<div>\n",
       "<style scoped>\n",
       "    .dataframe tbody tr th:only-of-type {\n",
       "        vertical-align: middle;\n",
       "    }\n",
       "\n",
       "    .dataframe tbody tr th {\n",
       "        vertical-align: top;\n",
       "    }\n",
       "\n",
       "    .dataframe thead th {\n",
       "        text-align: right;\n",
       "    }\n",
       "</style>\n",
       "<table border=\"1\" class=\"dataframe\">\n",
       "  <thead>\n",
       "    <tr style=\"text-align: right;\">\n",
       "      <th title=\"\"></th>\n",
       "      <th title=\"Name\">Name</th>\n",
       "      <th title=\"Rows\">Rows</th>\n",
       "      <th title=\"Columns\">Columns</th>\n",
       "      <th title=\"Indexed Columns\">IndexedColumns</th>\n",
       "      <th title=\"Encoding\">Encoding</th>\n",
       "      <th title=\"Created\">CreateTimeFormatted</th>\n",
       "      <th title=\"Last Modified\">ModTimeFormatted</th>\n",
       "      <th title=\"Last Accessed\">AccessTimeFormatted</th>\n",
       "      <th title=\"Character Set\">JavaCharSet</th>\n",
       "      <th title=\"CreateTime\">CreateTime</th>\n",
       "      <th title=\"ModTime\">ModTime</th>\n",
       "      <th title=\"AccessTime\">AccessTime</th>\n",
       "      <th title=\"Global\">Global</th>\n",
       "      <th title=\"Repeated\">Repeated</th>\n",
       "      <th title=\"View\">View</th>\n",
       "      <th title=\"MultiPart\">MultiPart</th>\n",
       "      <th title=\"Loaded Source\">SourceName</th>\n",
       "      <th title=\"Source Caslib\">SourceCaslib</th>\n",
       "      <th title=\"Compressed\">Compressed</th>\n",
       "      <th title=\"Table Creator\">Creator</th>\n",
       "      <th title=\"Last Table Modifier\">Modifier</th>\n",
       "      <th title=\"Source Modified\">SourceModTimeFormatted</th>\n",
       "      <th title=\"SourceModTime\">SourceModTime</th>\n",
       "    </tr>\n",
       "  </thead>\n",
       "  <tbody>\n",
       "    <tr>\n",
       "      <td>0</td>\n",
       "      <td>CAS_CUSTOMERS</td>\n",
       "      <td>21688526</td>\n",
       "      <td>18</td>\n",
       "      <td>0</td>\n",
       "      <td>utf-8</td>\n",
       "      <td>2023-06-21T14:25:43+00:00</td>\n",
       "      <td>2023-06-21T14:25:43+00:00</td>\n",
       "      <td>2023-06-21T14:25:43+00:00</td>\n",
       "      <td>UTF8</td>\n",
       "      <td>2.002977e+09</td>\n",
       "      <td>2.002977e+09</td>\n",
       "      <td>2.002977e+09</td>\n",
       "      <td>0</td>\n",
       "      <td>0</td>\n",
       "      <td>0</td>\n",
       "      <td>0</td>\n",
       "      <td>CUSTOMER</td>\n",
       "      <td>my_snow_db</td>\n",
       "      <td>0</td>\n",
       "      <td>Peter.Styliadis@sas.com</td>\n",
       "      <td></td>\n",
       "      <td></td>\n",
       "      <td>NaN</td>\n",
       "    </tr>\n",
       "  </tbody>\n",
       "</table>\n",
       "</div>\n",
       "</div>\n",
       "<div class=\"cas-output-area\"></div>\n",
       "<p class=\"cas-results-performance\"><small><span class=\"cas-elapsed\">elapsed 0.0139s</span> &#183; <span class=\"cas-user\">user 0.005s</span> &#183; <span class=\"cas-sys\">sys 0.0218s</span> &#183; <span class=\"cas-memory\">mem 1.88MB</span></small></p>"
      ],
      "text/plain": [
       "[TableInfo]\n",
       "\n",
       "             Name      Rows  Columns  IndexedColumns Encoding        CreateTimeFormatted           ModTimeFormatted        AccessTimeFormatted JavaCharSet    CreateTime       ModTime    AccessTime  Global  Repeated  View  MultiPart SourceName SourceCaslib  Compressed                  Creator Modifier SourceModTimeFormatted  SourceModTime\n",
       " 0  CAS_CUSTOMERS  21688526       18               0    utf-8  2023-06-21T14:25:43+00:00  2023-06-21T14:25:43+00:00  2023-06-21T14:25:43+00:00        UTF8  2.002977e+09  2.002977e+09  2.002977e+09       0         0     0          0   CUSTOMER   my_snow_db           0  Peter.Styliadis@sas.com                                            NaN\n",
       "\n",
       "+ Elapsed: 0.0139s, user: 0.005s, sys: 0.0218s, mem: 1.88mb"
      ]
     },
     "execution_count": 43,
     "metadata": {},
     "output_type": "execute_result"
    }
   ],
   "source": [
    "conn.tableInfo(caslib = 'casuser')"
   ]
  },
  {
   "cell_type": "markdown",
   "id": "8353155f-6cbd-43c2-8b4f-2ebd11996217",
   "metadata": {},
   "source": [
    "Reference the CAS table on the client."
   ]
  },
  {
   "cell_type": "code",
   "execution_count": 44,
   "id": "8e822947-d69b-470e-a65c-7afb0c7cefbb",
   "metadata": {
    "tags": []
   },
   "outputs": [],
   "source": [
    "castbl = conn.CASTable('cas_customers', caslib = 'casuser')"
   ]
  },
  {
   "cell_type": "markdown",
   "id": "b56a0f00-17d6-4b33-9dab-6adf525f2cc6",
   "metadata": {},
   "source": [
    "View CAS table details."
   ]
  },
  {
   "cell_type": "code",
   "execution_count": 45,
   "id": "fa71fedb-a6d8-4ec7-945d-d3a094a97a0c",
   "metadata": {
    "tags": []
   },
   "outputs": [
    {
     "data": {
      "text/html": [
       "<div class=\"cas-results-key\"><b>&#167; TableDetails</b></div>\n",
       "<div class=\"cas-results-body\">\n",
       "<div>\n",
       "<style scoped>\n",
       "    .dataframe tbody tr th:only-of-type {\n",
       "        vertical-align: middle;\n",
       "    }\n",
       "\n",
       "    .dataframe tbody tr th {\n",
       "        vertical-align: top;\n",
       "    }\n",
       "\n",
       "    .dataframe thead th {\n",
       "        text-align: right;\n",
       "    }\n",
       "</style>\n",
       "<table border=\"1\" class=\"dataframe\">\n",
       "  <thead>\n",
       "    <tr style=\"text-align: right;\">\n",
       "      <th title=\"\"></th>\n",
       "      <th title=\"Node\">Node</th>\n",
       "      <th title=\"Blocks\">Blocks</th>\n",
       "      <th title=\"Active\">Active</th>\n",
       "      <th title=\"Rows\">Rows</th>\n",
       "      <th title=\"IndexSize\">IndexSize</th>\n",
       "      <th title=\"DataSize\">DataSize</th>\n",
       "      <th title=\"VardataSize\">VardataSize</th>\n",
       "      <th title=\"CompressedSize\">CompressedSize</th>\n",
       "      <th title=\"CompressionRatio\">CompressionRatio</th>\n",
       "      <th title=\"Mapped\">Mapped</th>\n",
       "      <th title=\"MappedMemory\">MappedMemory</th>\n",
       "      <th title=\"Unmapped\">Unmapped</th>\n",
       "      <th title=\"UnmappedMemory\">UnmappedMemory</th>\n",
       "      <th title=\"Allocated\">Allocated</th>\n",
       "      <th title=\"AllocatedMemory\">AllocatedMemory</th>\n",
       "      <th title=\"DeletedRows\">DeletedRows</th>\n",
       "      <th title=\"TableLocation\">TableLocation</th>\n",
       "    </tr>\n",
       "  </thead>\n",
       "  <tbody>\n",
       "    <tr>\n",
       "      <td>0</td>\n",
       "      <td>ALL</td>\n",
       "      <td>11822</td>\n",
       "      <td>5911</td>\n",
       "      <td>21688526</td>\n",
       "      <td>0</td>\n",
       "      <td>6196029022</td>\n",
       "      <td>1511307406</td>\n",
       "      <td>0</td>\n",
       "      <td>0</td>\n",
       "      <td>5911</td>\n",
       "      <td>6196735488</td>\n",
       "      <td>5911</td>\n",
       "      <td>6196735488</td>\n",
       "      <td>0</td>\n",
       "      <td>0</td>\n",
       "      <td>0</td>\n",
       "      <td>CAS</td>\n",
       "    </tr>\n",
       "  </tbody>\n",
       "</table>\n",
       "</div>\n",
       "</div>\n",
       "<div class=\"cas-output-area\"></div>\n",
       "<p class=\"cas-results-performance\"><small><span class=\"cas-elapsed\">elapsed 0.0199s</span> &#183; <span class=\"cas-user\">user 0.0102s</span> &#183; <span class=\"cas-sys\">sys 0.0225s</span> &#183; <span class=\"cas-memory\">mem 1.86MB</span></small></p>"
      ],
      "text/plain": [
       "[TableDetails]\n",
       "\n",
       "   Node  Blocks  Active      Rows  IndexSize    DataSize  VardataSize  CompressedSize  CompressionRatio  Mapped  MappedMemory  Unmapped  UnmappedMemory  Allocated  AllocatedMemory  DeletedRows TableLocation\n",
       " 0  ALL   11822    5911  21688526          0  6196029022   1511307406               0                 0    5911    6196735488      5911      6196735488          0                0            0           CAS\n",
       "\n",
       "+ Elapsed: 0.0199s, user: 0.0102s, sys: 0.0225s, mem: 1.86mb"
      ]
     },
     "execution_count": 45,
     "metadata": {},
     "output_type": "execute_result"
    }
   ],
   "source": [
    "castbl.tableDetails()"
   ]
  },
  {
   "cell_type": "code",
   "execution_count": 48,
   "id": "2a66ef6d-3243-4223-acb3-82da22766051",
   "metadata": {
    "tags": []
   },
   "outputs": [
    {
     "data": {
      "text/html": [
       "<div>\n",
       "<style scoped>\n",
       "    .dataframe tbody tr th:only-of-type {\n",
       "        vertical-align: middle;\n",
       "    }\n",
       "\n",
       "    .dataframe tbody tr th {\n",
       "        vertical-align: top;\n",
       "    }\n",
       "\n",
       "    .dataframe thead th {\n",
       "        text-align: right;\n",
       "    }\n",
       "</style>\n",
       "<table border=\"1\" class=\"dataframe\"><caption>Selected Rows from Table CAS_CUSTOMERS</caption>\n",
       "  <thead>\n",
       "    <tr style=\"text-align: right;\">\n",
       "      <th title=\"\"></th>\n",
       "      <th title=\"C_CUSTOMER_SK\">C_CUSTOMER_SK</th>\n",
       "      <th title=\"C_CUSTOMER_ID\">C_CUSTOMER_ID</th>\n",
       "      <th title=\"C_CURRENT_CDEMO_SK\">C_CURRENT_CDEMO_SK</th>\n",
       "      <th title=\"C_CURRENT_HDEMO_SK\">C_CURRENT_HDEMO_SK</th>\n",
       "      <th title=\"C_CURRENT_ADDR_SK\">C_CURRENT_ADDR_SK</th>\n",
       "      <th title=\"C_FIRST_SHIPTO_DATE_SK\">C_FIRST_SHIPTO_DATE_SK</th>\n",
       "      <th title=\"C_FIRST_SALES_DATE_SK\">C_FIRST_SALES_DATE_SK</th>\n",
       "      <th title=\"C_SALUTATION\">C_SALUTATION</th>\n",
       "      <th title=\"C_FIRST_NAME\">C_FIRST_NAME</th>\n",
       "      <th title=\"C_LAST_NAME\">C_LAST_NAME</th>\n",
       "      <th title=\"C_PREFERRED_CUST_FLAG\">C_PREFERRED_CUST_FLAG</th>\n",
       "      <th title=\"C_BIRTH_DAY\">C_BIRTH_DAY</th>\n",
       "      <th title=\"C_BIRTH_MONTH\">C_BIRTH_MONTH</th>\n",
       "      <th title=\"C_BIRTH_YEAR\">C_BIRTH_YEAR</th>\n",
       "      <th title=\"C_BIRTH_COUNTRY\">C_BIRTH_COUNTRY</th>\n",
       "      <th title=\"C_LOGIN\">C_LOGIN</th>\n",
       "      <th title=\"C_EMAIL_ADDRESS\">C_EMAIL_ADDRESS</th>\n",
       "      <th title=\"C_LAST_REVIEW_DATE\">C_LAST_REVIEW_DATE</th>\n",
       "    </tr>\n",
       "  </thead>\n",
       "  <tbody>\n",
       "    <tr>\n",
       "      <td>0</td>\n",
       "      <td>70253646.0</td>\n",
       "      <td>AAAAAAAAOEMPPCEA</td>\n",
       "      <td>NaN</td>\n",
       "      <td>7026.0</td>\n",
       "      <td>19692070.0</td>\n",
       "      <td>NaN</td>\n",
       "      <td>NaN</td>\n",
       "      <td></td>\n",
       "      <td>Nicole</td>\n",
       "      <td></td>\n",
       "      <td></td>\n",
       "      <td>NaN</td>\n",
       "      <td>5.0</td>\n",
       "      <td>NaN</td>\n",
       "      <td>OMAN</td>\n",
       "      <td></td>\n",
       "      <td></td>\n",
       "      <td>2452518</td>\n",
       "    </tr>\n",
       "    <tr>\n",
       "      <td>1</td>\n",
       "      <td>70253647.0</td>\n",
       "      <td>AAAAAAAAPEMPPCEA</td>\n",
       "      <td>380854.0</td>\n",
       "      <td>1173.0</td>\n",
       "      <td>19603445.0</td>\n",
       "      <td>2449173.0</td>\n",
       "      <td>2449143.0</td>\n",
       "      <td>Dr.</td>\n",
       "      <td>Bess</td>\n",
       "      <td>Bowers</td>\n",
       "      <td>Y</td>\n",
       "      <td>23.0</td>\n",
       "      <td>1.0</td>\n",
       "      <td>1983.0</td>\n",
       "      <td>PANAMA</td>\n",
       "      <td></td>\n",
       "      <td>Bess.Bowers@RJz20CSGbbpr.edu</td>\n",
       "      <td>2452412</td>\n",
       "    </tr>\n",
       "    <tr>\n",
       "      <td>2</td>\n",
       "      <td>70253652.0</td>\n",
       "      <td>AAAAAAAAEFMPPCEA</td>\n",
       "      <td>1527255.0</td>\n",
       "      <td>2875.0</td>\n",
       "      <td>27465695.0</td>\n",
       "      <td>2450243.0</td>\n",
       "      <td>2450213.0</td>\n",
       "      <td>Dr.</td>\n",
       "      <td>David</td>\n",
       "      <td>Watts</td>\n",
       "      <td>Y</td>\n",
       "      <td>30.0</td>\n",
       "      <td>7.0</td>\n",
       "      <td>1984.0</td>\n",
       "      <td>GRENADA</td>\n",
       "      <td></td>\n",
       "      <td>David.Watts@VNHS.com</td>\n",
       "      <td>2452470</td>\n",
       "    </tr>\n",
       "    <tr>\n",
       "      <td>3</td>\n",
       "      <td>70253668.0</td>\n",
       "      <td>AAAAAAAAEGMPPCEA</td>\n",
       "      <td>NaN</td>\n",
       "      <td>NaN</td>\n",
       "      <td>42715360.0</td>\n",
       "      <td>NaN</td>\n",
       "      <td>NaN</td>\n",
       "      <td></td>\n",
       "      <td></td>\n",
       "      <td>Rivas</td>\n",
       "      <td></td>\n",
       "      <td>NaN</td>\n",
       "      <td>NaN</td>\n",
       "      <td>NaN</td>\n",
       "      <td></td>\n",
       "      <td></td>\n",
       "      <td>Irene.Rivas@S1pljeX4zo7VLuBC3f.org</td>\n",
       "      <td></td>\n",
       "    </tr>\n",
       "    <tr>\n",
       "      <td>4</td>\n",
       "      <td>70253669.0</td>\n",
       "      <td>AAAAAAAAFGMPPCEA</td>\n",
       "      <td>1095861.0</td>\n",
       "      <td>2073.0</td>\n",
       "      <td>11699038.0</td>\n",
       "      <td>2450318.0</td>\n",
       "      <td>2450288.0</td>\n",
       "      <td>Mr.</td>\n",
       "      <td>Scotty</td>\n",
       "      <td>Daly</td>\n",
       "      <td>N</td>\n",
       "      <td>28.0</td>\n",
       "      <td>10.0</td>\n",
       "      <td>1983.0</td>\n",
       "      <td>SOMALIA</td>\n",
       "      <td></td>\n",
       "      <td>Scotty.Daly@K.org</td>\n",
       "      <td>2452590</td>\n",
       "    </tr>\n",
       "  </tbody>\n",
       "</table>\n",
       "</div>"
      ],
      "text/plain": [
       "Selected Rows from Table CAS_CUSTOMERS\n",
       "\n",
       "   C_CUSTOMER_SK     C_CUSTOMER_ID  C_CURRENT_CDEMO_SK  C_CURRENT_HDEMO_SK  C_CURRENT_ADDR_SK  C_FIRST_SHIPTO_DATE_SK  C_FIRST_SALES_DATE_SK C_SALUTATION C_FIRST_NAME C_LAST_NAME C_PREFERRED_CUST_FLAG  C_BIRTH_DAY  C_BIRTH_MONTH  C_BIRTH_YEAR C_BIRTH_COUNTRY C_LOGIN                     C_EMAIL_ADDRESS C_LAST_REVIEW_DATE\n",
       "0     70253646.0  AAAAAAAAOEMPPCEA                 NaN              7026.0         19692070.0                     NaN                    NaN                    Nicole                                            NaN            5.0           NaN            OMAN                                                        2452518\n",
       "1     70253647.0  AAAAAAAAPEMPPCEA            380854.0              1173.0         19603445.0               2449173.0              2449143.0          Dr.         Bess      Bowers                     Y         23.0            1.0        1983.0          PANAMA                Bess.Bowers@RJz20CSGbbpr.edu            2452412\n",
       "2     70253652.0  AAAAAAAAEFMPPCEA           1527255.0              2875.0         27465695.0               2450243.0              2450213.0          Dr.        David       Watts                     Y         30.0            7.0        1984.0         GRENADA                        David.Watts@VNHS.com            2452470\n",
       "3     70253668.0  AAAAAAAAEGMPPCEA                 NaN                 NaN         42715360.0                     NaN                    NaN                                 Rivas                                NaN            NaN           NaN                          Irene.Rivas@S1pljeX4zo7VLuBC3f.org                   \n",
       "4     70253669.0  AAAAAAAAFGMPPCEA           1095861.0              2073.0         11699038.0               2450318.0              2450288.0          Mr.       Scotty        Daly                     N         28.0           10.0        1983.0         SOMALIA                           Scotty.Daly@K.org            2452590"
      ]
     },
     "execution_count": 48,
     "metadata": {},
     "output_type": "execute_result"
    }
   ],
   "source": [
    "castbl.head()"
   ]
  },
  {
   "cell_type": "code",
   "execution_count": 52,
   "id": "20d4d27a-fea9-4856-8e9e-7f908a058ff4",
   "metadata": {
    "tags": []
   },
   "outputs": [
    {
     "data": {
      "text/plain": [
       "C_CUSTOMER_SK                    0\n",
       "C_CUSTOMER_ID                    0\n",
       "C_CURRENT_CDEMO_SK         2080496\n",
       "C_CURRENT_HDEMO_SK         2080893\n",
       "C_CURRENT_ADDR_SK                0\n",
       "C_FIRST_SHIPTO_DATE_SK     2080663\n",
       "C_FIRST_SALES_DATE_SK      2080285\n",
       "C_SALUTATION               2082574\n",
       "C_FIRST_NAME               2079863\n",
       "C_LAST_NAME                2080045\n",
       "C_PREFERRED_CUST_FLAG      2081181\n",
       "C_BIRTH_DAY                2079914\n",
       "C_BIRTH_MONTH              2080201\n",
       "C_BIRTH_YEAR               3500856\n",
       "C_BIRTH_COUNTRY            2079364\n",
       "C_LOGIN                   21688526\n",
       "C_EMAIL_ADDRESS            2079952\n",
       "C_LAST_REVIEW_DATE         2082389\n",
       "dtype: int64"
      ]
     },
     "execution_count": 52,
     "metadata": {},
     "output_type": "execute_result"
    }
   ],
   "source": [
    "castbl.nmiss()"
   ]
  },
  {
   "cell_type": "code",
   "execution_count": 57,
   "id": "99115f0c-b95c-4310-884b-59f5d7c53b53",
   "metadata": {
    "tags": []
   },
   "outputs": [
    {
     "name": "stdout",
     "output_type": "stream",
     "text": [
      "CPU times: total: 31.2 ms\n",
      "Wall time: 404 ms\n"
     ]
    },
    {
     "data": {
      "text/plain": [
       "NaN       3500856\n",
       "1980.0    1403085\n",
       "1984.0    1401905\n",
       "1992.0    1401621\n",
       "1988.0    1401315\n",
       "1982.0    1400132\n",
       "1991.0    1398782\n",
       "1987.0    1398236\n",
       "1990.0    1398009\n",
       "1989.0    1397778\n",
       "1985.0    1397692\n",
       "1986.0    1397627\n",
       "1981.0    1395851\n",
       "1983.0    1395637\n",
       "dtype: int64"
      ]
     },
     "execution_count": 57,
     "metadata": {},
     "output_type": "execute_result"
    }
   ],
   "source": [
    "%%time\n",
    "castbl.C_BIRTH_YEAR.value_counts(dropna=False)"
   ]
  },
  {
   "cell_type": "markdown",
   "id": "c13bb606-acce-4cdc-9933-fbe37bbee9f5",
   "metadata": {},
   "source": [
    "## Terminate the CAS session"
   ]
  },
  {
   "cell_type": "code",
   "execution_count": 9,
   "id": "c6c76153-f474-4422-be9c-42c35f800dbf",
   "metadata": {
    "tags": []
   },
   "outputs": [],
   "source": [
    "conn.terminate()"
   ]
  },
  {
   "cell_type": "markdown",
   "id": "308e83fa-a293-4461-a315-bba982668a43",
   "metadata": {},
   "source": [
    "# Additional Resources\n",
    "\n",
    "- [Getting Started with Python Integration to SAS® Viya® - Index](https://blogs.sas.com/content/sgf/2020/06/19/getting-started-with-python-integration-to-sas-viya-index/)\n",
    "- [SAS Viya Best practices with Snowflake Data](https://video.sas.com/detail/video/6312274491112/sas-viya-best-practices-with-snowflake-data)\n",
    "- [Documentation - Snowflake Data Connector](https://go.documentation.sas.com/doc/en/pgmsascdc/default/casref/p183rli8obtde3n10y9bzbrpwnsh.htm)"
   ]
  },
  {
   "cell_type": "markdown",
   "id": "a2e9cdcb-de9c-479d-a9b9-b830b59510e9",
   "metadata": {},
   "source": [
    " "
   ]
  }
 ],
 "metadata": {
  "kernelspec": {
   "display_name": "Python 3 (ipykernel)",
   "language": "python",
   "name": "python3"
  },
  "language_info": {
   "codemirror_mode": {
    "name": "ipython",
    "version": 3
   },
   "file_extension": ".py",
   "mimetype": "text/x-python",
   "name": "python",
   "nbconvert_exporter": "python",
   "pygments_lexer": "ipython3",
   "version": "3.8.16"
  }
 },
 "nbformat": 4,
 "nbformat_minor": 5
}
