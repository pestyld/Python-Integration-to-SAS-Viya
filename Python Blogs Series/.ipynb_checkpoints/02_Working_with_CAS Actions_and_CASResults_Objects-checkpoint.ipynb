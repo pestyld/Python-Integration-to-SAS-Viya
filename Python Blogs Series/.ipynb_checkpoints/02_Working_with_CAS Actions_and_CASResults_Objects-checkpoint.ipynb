{
 "cells": [
  {
   "cell_type": "markdown",
   "metadata": {},
   "source": [
    "# Working with CAS Actions and CASResults Objects\n",
    "[Getting Started with Python Integration to SAS® Viya® - Part 2 - Working with CAS Actions and CASResults Objects](https://blogs.sas.com/content/sgf/2020/06/19/getting-started-with-python-integration-to-sas-viya-part-2-working-with-cas-actions-and-casresults-objects/) blog post"
   ]
  },
  {
   "cell_type": "markdown",
   "metadata": {},
   "source": [
    "## Import Packages\n",
    "Visit the documentation for the SWAT [(SAS Scripting Wrapper for Analytics Transfer)](https://sassoftware.github.io/python-swat/index.html) package."
   ]
  },
  {
   "cell_type": "code",
   "execution_count": 1,
   "metadata": {},
   "outputs": [],
   "source": [
    "import swat\n",
    "import pandas as pd\n",
    "\n",
    "## custom personal module\n",
    "from casConnect import connect_to_cas "
   ]
  },
  {
   "cell_type": "markdown",
   "metadata": {},
   "source": [
    "## Make a Connection to CAS\n",
    "\n",
    "##### To connect to the CAS server you will need:\n",
    "1. the host name, \n",
    "2. the portnumber, \n",
    "3. your user name, and your password.\n",
    "\n",
    "Visit the documentation [Getting Started with SAS® Viya® for Python](https://go.documentation.sas.com/doc/en/pgmsascdc/default/caspg3/titlepage.htm) for more information about connecting to CAS.\n",
    "\n",
    "**Be aware that connecting to the CAS server can be implemented in various ways, so you might need to see your system administrator about how to make a connection. Please follow company policy regarding authentication.**"
   ]
  },
  {
   "cell_type": "code",
   "execution_count": 2,
   "metadata": {},
   "outputs": [
    {
     "data": {
      "text/plain": [
       "swat.cas.connection.CAS"
      ]
     },
     "execution_count": 2,
     "metadata": {},
     "output_type": "execute_result"
    }
   ],
   "source": [
    "##\n",
    "## Connect to CAS\n",
    "##\n",
    "\n",
    "## General connection syntax\n",
    "# conn = swat.CAS(host, port, username, password)\n",
    "\n",
    "## Viya for Learners 3.5 connection\n",
    "# hostValue = os.environ.get('CASHOST')\n",
    "# portValue = os.environ.get('CASPORT')\n",
    "# passwordToken=os.environ.get('SAS_VIYA_TOKEN')\n",
    "# conn = swat.CAS(hostname=hostValue, port=portValue, password=passwordToken)\n",
    "\n",
    "## Personal connection\n",
    "conn = connect_to_cas()\n",
    "\n",
    "type(conn)"
   ]
  },
  {
   "cell_type": "markdown",
   "metadata": {},
   "source": [
    "## Getting Started with CAS Actions"
   ]
  },
  {
   "cell_type": "code",
   "execution_count": null,
   "metadata": {},
   "outputs": [],
   "source": [
    "display(conn)"
   ]
  },
  {
   "cell_type": "code",
   "execution_count": 6,
   "metadata": {},
   "outputs": [
    {
     "data": {
      "text/html": [
       "<div class=\"cas-results-key\"><b>&#167; setinfo</b></div>\n",
       "<div class=\"cas-results-body\">\n",
       "<div>\n",
       "<style scoped>\n",
       "    .dataframe tbody tr th:only-of-type {\n",
       "        vertical-align: middle;\n",
       "    }\n",
       "\n",
       "    .dataframe tbody tr th {\n",
       "        vertical-align: top;\n",
       "    }\n",
       "\n",
       "    .dataframe thead th {\n",
       "        text-align: right;\n",
       "    }\n",
       "</style>\n",
       "<table border=\"1\" class=\"dataframe\"><caption>Action set information</caption>\n",
       "  <thead>\n",
       "    <tr style=\"text-align: right;\">\n",
       "      <th title=\"\"></th>\n",
       "      <th title=\"actionset\">actionset</th>\n",
       "      <th title=\"label\">label</th>\n",
       "      <th title=\"loaded\">loaded</th>\n",
       "      <th title=\"extension\">extension</th>\n",
       "      <th title=\"version\">version</th>\n",
       "      <th title=\"product_name\">product_name</th>\n",
       "      <th title=\"user_defined\">user_defined</th>\n",
       "    </tr>\n",
       "  </thead>\n",
       "  <tbody>\n",
       "    <tr>\n",
       "      <td>0</td>\n",
       "      <td>accessControl</td>\n",
       "      <td>Access Controls</td>\n",
       "      <td>1</td>\n",
       "      <td>tkacon</td>\n",
       "      <td>V.04.00M0P09192022</td>\n",
       "      <td>tkcas</td>\n",
       "      <td>false</td>\n",
       "    </tr>\n",
       "    <tr>\n",
       "      <td>1</td>\n",
       "      <td>accessControl</td>\n",
       "      <td>Access Controls</td>\n",
       "      <td>1</td>\n",
       "      <td>casmeta</td>\n",
       "      <td>V.04.00M0P09192022</td>\n",
       "      <td>tkcas</td>\n",
       "      <td>false</td>\n",
       "    </tr>\n",
       "    <tr>\n",
       "      <td>2</td>\n",
       "      <td>builtins</td>\n",
       "      <td>Builtins</td>\n",
       "      <td>1</td>\n",
       "      <td>tkcasablt</td>\n",
       "      <td>V.04.00M0P09192022</td>\n",
       "      <td>tkcas</td>\n",
       "      <td>false</td>\n",
       "    </tr>\n",
       "    <tr>\n",
       "      <td>3</td>\n",
       "      <td>configuration</td>\n",
       "      <td>Server Properties</td>\n",
       "      <td>1</td>\n",
       "      <td>tkcascfg</td>\n",
       "      <td>V.04.00M0P09192022</td>\n",
       "      <td>tkcas</td>\n",
       "      <td>false</td>\n",
       "    </tr>\n",
       "    <tr>\n",
       "      <td>4</td>\n",
       "      <td>dataPreprocess</td>\n",
       "      <td>Data Preprocess</td>\n",
       "      <td>1</td>\n",
       "      <td>tktrans</td>\n",
       "      <td>V.04.00M0P09192022</td>\n",
       "      <td>crsstat</td>\n",
       "      <td>false</td>\n",
       "    </tr>\n",
       "    <tr>\n",
       "      <td>5</td>\n",
       "      <td>dataStep</td>\n",
       "      <td>DATA Step</td>\n",
       "      <td>1</td>\n",
       "      <td>datastep</td>\n",
       "      <td>V.04.00M0P09192022</td>\n",
       "      <td>tkcas</td>\n",
       "      <td>false</td>\n",
       "    </tr>\n",
       "    <tr>\n",
       "      <td>6</td>\n",
       "      <td>percentile</td>\n",
       "      <td>Percentile</td>\n",
       "      <td>1</td>\n",
       "      <td>tkcasptl</td>\n",
       "      <td>V.04.00M0P09192022</td>\n",
       "      <td>crsstat</td>\n",
       "      <td>false</td>\n",
       "    </tr>\n",
       "    <tr>\n",
       "      <td>7</td>\n",
       "      <td>sccasl</td>\n",
       "      <td>CASL Server</td>\n",
       "      <td>1</td>\n",
       "      <td>tkcaslsc</td>\n",
       "      <td>V.04.00M0P09192022</td>\n",
       "      <td>tkcas</td>\n",
       "      <td>false</td>\n",
       "    </tr>\n",
       "    <tr>\n",
       "      <td>8</td>\n",
       "      <td>search</td>\n",
       "      <td>Search</td>\n",
       "      <td>1</td>\n",
       "      <td>casidx</td>\n",
       "      <td>V.04.00M0P09192022</td>\n",
       "      <td>crssearch</td>\n",
       "      <td>false</td>\n",
       "    </tr>\n",
       "    <tr>\n",
       "      <td>9</td>\n",
       "      <td>session</td>\n",
       "      <td>Session Methods</td>\n",
       "      <td>1</td>\n",
       "      <td>tkcsessn</td>\n",
       "      <td>V.04.00M0P09192022</td>\n",
       "      <td>tkcas</td>\n",
       "      <td>false</td>\n",
       "    </tr>\n",
       "    <tr>\n",
       "      <td>10</td>\n",
       "      <td>sessionProp</td>\n",
       "      <td>Session Properties</td>\n",
       "      <td>1</td>\n",
       "      <td>tkcstate</td>\n",
       "      <td>V.04.00M0P09192022</td>\n",
       "      <td>tkcas</td>\n",
       "      <td>false</td>\n",
       "    </tr>\n",
       "    <tr>\n",
       "      <td>11</td>\n",
       "      <td>simple</td>\n",
       "      <td>Simple Analytics</td>\n",
       "      <td>1</td>\n",
       "      <td>tkimstat</td>\n",
       "      <td>V.04.00M0P09192022</td>\n",
       "      <td>crsstat</td>\n",
       "      <td>false</td>\n",
       "    </tr>\n",
       "    <tr>\n",
       "      <td>12</td>\n",
       "      <td>table</td>\n",
       "      <td>Table</td>\n",
       "      <td>1</td>\n",
       "      <td>tkcastab</td>\n",
       "      <td>V.04.00M0P09192022</td>\n",
       "      <td>tkcas</td>\n",
       "      <td>false</td>\n",
       "    </tr>\n",
       "  </tbody>\n",
       "</table>\n",
       "</div>\n",
       "</div>\n",
       "<div class=\"cas-output-area\"></div>\n",
       "<p class=\"cas-results-performance\"><small><span class=\"cas-elapsed\">elapsed 0.00832s</span> &#183; <span class=\"cas-user\">user 0.00206s</span> &#183; <span class=\"cas-sys\">sys 0.0149s</span> &#183; <span class=\"cas-memory\">mem 1.83MB</span></small></p>"
      ],
      "text/plain": [
       "[setinfo]\n",
       "\n",
       " Action set information\n",
       " \n",
       "          actionset               label  loaded  extension             version product_name user_defined\n",
       " 0    accessControl     Access Controls       1     tkacon  V.04.00M0P09192022        tkcas        false\n",
       " 1    accessControl     Access Controls       1    casmeta  V.04.00M0P09192022        tkcas        false\n",
       " 2         builtins            Builtins       1  tkcasablt  V.04.00M0P09192022        tkcas        false\n",
       " 3    configuration   Server Properties       1   tkcascfg  V.04.00M0P09192022        tkcas        false\n",
       " 4   dataPreprocess     Data Preprocess       1    tktrans  V.04.00M0P09192022      crsstat        false\n",
       " 5         dataStep           DATA Step       1   datastep  V.04.00M0P09192022        tkcas        false\n",
       " 6       percentile          Percentile       1   tkcasptl  V.04.00M0P09192022      crsstat        false\n",
       " 7           sccasl         CASL Server       1   tkcaslsc  V.04.00M0P09192022        tkcas        false\n",
       " 8           search              Search       1     casidx  V.04.00M0P09192022    crssearch        false\n",
       " 9          session     Session Methods       1   tkcsessn  V.04.00M0P09192022        tkcas        false\n",
       " 10     sessionProp  Session Properties       1   tkcstate  V.04.00M0P09192022        tkcas        false\n",
       " 11          simple    Simple Analytics       1   tkimstat  V.04.00M0P09192022      crsstat        false\n",
       " 12           table               Table       1   tkcastab  V.04.00M0P09192022        tkcas        false\n",
       "\n",
       "+ Elapsed: 0.00832s, user: 0.00206s, sys: 0.0149s, mem: 1.83mb"
      ]
     },
     "execution_count": 6,
     "metadata": {},
     "output_type": "execute_result"
    }
   ],
   "source": [
    "conn.builtins.actionsetinfo()"
   ]
  },
  {
   "cell_type": "code",
   "execution_count": 7,
   "metadata": {},
   "outputs": [
    {
     "data": {
      "text/plain": [
       "swat.cas.results.CASResults"
      ]
     },
     "execution_count": 7,
     "metadata": {},
     "output_type": "execute_result"
    }
   ],
   "source": [
    "type(conn.builtins.actionsetinfo())"
   ]
  },
  {
   "cell_type": "markdown",
   "metadata": {},
   "source": [
    "## CASResults Object\n",
    "- A **CASResults** object is an ordered Python dictionary with *keys* and *values*.\n",
    "- While all **CAS actions** return a **CASResults** object, there are no rules about how many keys are contained in the object, or what values are returne"
   ]
  },
  {
   "cell_type": "code",
   "execution_count": 8,
   "metadata": {},
   "outputs": [
    {
     "data": {
      "text/plain": [
       "odict_keys(['setinfo'])"
      ]
     },
     "execution_count": 8,
     "metadata": {},
     "output_type": "execute_result"
    }
   ],
   "source": [
    "conn.actionsetinfo().keys()"
   ]
  },
  {
   "cell_type": "code",
   "execution_count": 9,
   "metadata": {},
   "outputs": [
    {
     "data": {
      "text/html": [
       "<div>\n",
       "<style scoped>\n",
       "    .dataframe tbody tr th:only-of-type {\n",
       "        vertical-align: middle;\n",
       "    }\n",
       "\n",
       "    .dataframe tbody tr th {\n",
       "        vertical-align: top;\n",
       "    }\n",
       "\n",
       "    .dataframe thead th {\n",
       "        text-align: right;\n",
       "    }\n",
       "</style>\n",
       "<table border=\"1\" class=\"dataframe\"><caption>Action set information</caption>\n",
       "  <thead>\n",
       "    <tr style=\"text-align: right;\">\n",
       "      <th title=\"\"></th>\n",
       "      <th title=\"actionset\">actionset</th>\n",
       "      <th title=\"label\">label</th>\n",
       "      <th title=\"loaded\">loaded</th>\n",
       "      <th title=\"extension\">extension</th>\n",
       "      <th title=\"version\">version</th>\n",
       "      <th title=\"product_name\">product_name</th>\n",
       "      <th title=\"user_defined\">user_defined</th>\n",
       "    </tr>\n",
       "  </thead>\n",
       "  <tbody>\n",
       "    <tr>\n",
       "      <td>0</td>\n",
       "      <td>accessControl</td>\n",
       "      <td>Access Controls</td>\n",
       "      <td>1</td>\n",
       "      <td>tkacon</td>\n",
       "      <td>V.04.00M0P09192022</td>\n",
       "      <td>tkcas</td>\n",
       "      <td>false</td>\n",
       "    </tr>\n",
       "    <tr>\n",
       "      <td>1</td>\n",
       "      <td>accessControl</td>\n",
       "      <td>Access Controls</td>\n",
       "      <td>1</td>\n",
       "      <td>casmeta</td>\n",
       "      <td>V.04.00M0P09192022</td>\n",
       "      <td>tkcas</td>\n",
       "      <td>false</td>\n",
       "    </tr>\n",
       "    <tr>\n",
       "      <td>2</td>\n",
       "      <td>builtins</td>\n",
       "      <td>Builtins</td>\n",
       "      <td>1</td>\n",
       "      <td>tkcasablt</td>\n",
       "      <td>V.04.00M0P09192022</td>\n",
       "      <td>tkcas</td>\n",
       "      <td>false</td>\n",
       "    </tr>\n",
       "    <tr>\n",
       "      <td>3</td>\n",
       "      <td>configuration</td>\n",
       "      <td>Server Properties</td>\n",
       "      <td>1</td>\n",
       "      <td>tkcascfg</td>\n",
       "      <td>V.04.00M0P09192022</td>\n",
       "      <td>tkcas</td>\n",
       "      <td>false</td>\n",
       "    </tr>\n",
       "    <tr>\n",
       "      <td>4</td>\n",
       "      <td>dataPreprocess</td>\n",
       "      <td>Data Preprocess</td>\n",
       "      <td>1</td>\n",
       "      <td>tktrans</td>\n",
       "      <td>V.04.00M0P09192022</td>\n",
       "      <td>crsstat</td>\n",
       "      <td>false</td>\n",
       "    </tr>\n",
       "    <tr>\n",
       "      <td>5</td>\n",
       "      <td>dataStep</td>\n",
       "      <td>DATA Step</td>\n",
       "      <td>1</td>\n",
       "      <td>datastep</td>\n",
       "      <td>V.04.00M0P09192022</td>\n",
       "      <td>tkcas</td>\n",
       "      <td>false</td>\n",
       "    </tr>\n",
       "    <tr>\n",
       "      <td>6</td>\n",
       "      <td>percentile</td>\n",
       "      <td>Percentile</td>\n",
       "      <td>1</td>\n",
       "      <td>tkcasptl</td>\n",
       "      <td>V.04.00M0P09192022</td>\n",
       "      <td>crsstat</td>\n",
       "      <td>false</td>\n",
       "    </tr>\n",
       "    <tr>\n",
       "      <td>7</td>\n",
       "      <td>sccasl</td>\n",
       "      <td>CASL Server</td>\n",
       "      <td>1</td>\n",
       "      <td>tkcaslsc</td>\n",
       "      <td>V.04.00M0P09192022</td>\n",
       "      <td>tkcas</td>\n",
       "      <td>false</td>\n",
       "    </tr>\n",
       "    <tr>\n",
       "      <td>8</td>\n",
       "      <td>search</td>\n",
       "      <td>Search</td>\n",
       "      <td>1</td>\n",
       "      <td>casidx</td>\n",
       "      <td>V.04.00M0P09192022</td>\n",
       "      <td>crssearch</td>\n",
       "      <td>false</td>\n",
       "    </tr>\n",
       "    <tr>\n",
       "      <td>9</td>\n",
       "      <td>session</td>\n",
       "      <td>Session Methods</td>\n",
       "      <td>1</td>\n",
       "      <td>tkcsessn</td>\n",
       "      <td>V.04.00M0P09192022</td>\n",
       "      <td>tkcas</td>\n",
       "      <td>false</td>\n",
       "    </tr>\n",
       "    <tr>\n",
       "      <td>10</td>\n",
       "      <td>sessionProp</td>\n",
       "      <td>Session Properties</td>\n",
       "      <td>1</td>\n",
       "      <td>tkcstate</td>\n",
       "      <td>V.04.00M0P09192022</td>\n",
       "      <td>tkcas</td>\n",
       "      <td>false</td>\n",
       "    </tr>\n",
       "    <tr>\n",
       "      <td>11</td>\n",
       "      <td>simple</td>\n",
       "      <td>Simple Analytics</td>\n",
       "      <td>1</td>\n",
       "      <td>tkimstat</td>\n",
       "      <td>V.04.00M0P09192022</td>\n",
       "      <td>crsstat</td>\n",
       "      <td>false</td>\n",
       "    </tr>\n",
       "    <tr>\n",
       "      <td>12</td>\n",
       "      <td>table</td>\n",
       "      <td>Table</td>\n",
       "      <td>1</td>\n",
       "      <td>tkcastab</td>\n",
       "      <td>V.04.00M0P09192022</td>\n",
       "      <td>tkcas</td>\n",
       "      <td>false</td>\n",
       "    </tr>\n",
       "  </tbody>\n",
       "</table>\n",
       "</div>"
      ],
      "text/plain": [
       "Action set information\n",
       "\n",
       "         actionset               label  loaded  extension             version product_name user_defined\n",
       "0    accessControl     Access Controls       1     tkacon  V.04.00M0P09192022        tkcas        false\n",
       "1    accessControl     Access Controls       1    casmeta  V.04.00M0P09192022        tkcas        false\n",
       "2         builtins            Builtins       1  tkcasablt  V.04.00M0P09192022        tkcas        false\n",
       "3    configuration   Server Properties       1   tkcascfg  V.04.00M0P09192022        tkcas        false\n",
       "4   dataPreprocess     Data Preprocess       1    tktrans  V.04.00M0P09192022      crsstat        false\n",
       "5         dataStep           DATA Step       1   datastep  V.04.00M0P09192022        tkcas        false\n",
       "6       percentile          Percentile       1   tkcasptl  V.04.00M0P09192022      crsstat        false\n",
       "7           sccasl         CASL Server       1   tkcaslsc  V.04.00M0P09192022        tkcas        false\n",
       "8           search              Search       1     casidx  V.04.00M0P09192022    crssearch        false\n",
       "9          session     Session Methods       1   tkcsessn  V.04.00M0P09192022        tkcas        false\n",
       "10     sessionProp  Session Properties       1   tkcstate  V.04.00M0P09192022        tkcas        false\n",
       "11          simple    Simple Analytics       1   tkimstat  V.04.00M0P09192022      crsstat        false\n",
       "12           table               Table       1   tkcastab  V.04.00M0P09192022        tkcas        false"
      ]
     },
     "execution_count": 9,
     "metadata": {},
     "output_type": "execute_result"
    }
   ],
   "source": [
    "conn.actionsetinfo()['setinfo']"
   ]
  },
  {
   "cell_type": "code",
   "execution_count": 10,
   "metadata": {},
   "outputs": [
    {
     "data": {
      "text/plain": [
       "swat.dataframe.SASDataFrame"
      ]
     },
     "execution_count": 10,
     "metadata": {},
     "output_type": "execute_result"
    }
   ],
   "source": [
    "type(conn.actionsetinfo()['setinfo'])"
   ]
  },
  {
   "cell_type": "markdown",
   "metadata": {},
   "source": [
    "## Understanding a SASDataFrame\n",
    "- A **SASDataFrame** object is data that is **local**.\n",
    "- A **SASDataFrame** object is a subclass of a **Pandas DataFrame**. You can work with them as you normally do a **Pandas DataFrame**.\n",
    "\n",
    "**When bringing data from  CAS local, remember that CAS can hold larger data than your local computer can handle.**"
   ]
  },
  {
   "cell_type": "code",
   "execution_count": 11,
   "metadata": {},
   "outputs": [
    {
     "data": {
      "text/plain": [
       "swat.dataframe.SASDataFrame"
      ]
     },
     "execution_count": 11,
     "metadata": {},
     "output_type": "execute_result"
    }
   ],
   "source": [
    "df = conn.actionsetinfo()['setinfo']\n",
    "type(df)"
   ]
  },
  {
   "cell_type": "markdown",
   "metadata": {},
   "source": [
    "View the first *5* rows of the **SASDataFrame** using the pandas **head()** method."
   ]
  },
  {
   "cell_type": "code",
   "execution_count": 12,
   "metadata": {},
   "outputs": [
    {
     "data": {
      "text/html": [
       "<div>\n",
       "<style scoped>\n",
       "    .dataframe tbody tr th:only-of-type {\n",
       "        vertical-align: middle;\n",
       "    }\n",
       "\n",
       "    .dataframe tbody tr th {\n",
       "        vertical-align: top;\n",
       "    }\n",
       "\n",
       "    .dataframe thead th {\n",
       "        text-align: right;\n",
       "    }\n",
       "</style>\n",
       "<table border=\"1\" class=\"dataframe\"><caption>Action set information</caption>\n",
       "  <thead>\n",
       "    <tr style=\"text-align: right;\">\n",
       "      <th title=\"\"></th>\n",
       "      <th title=\"actionset\">actionset</th>\n",
       "      <th title=\"label\">label</th>\n",
       "      <th title=\"loaded\">loaded</th>\n",
       "      <th title=\"extension\">extension</th>\n",
       "      <th title=\"version\">version</th>\n",
       "      <th title=\"product_name\">product_name</th>\n",
       "      <th title=\"user_defined\">user_defined</th>\n",
       "    </tr>\n",
       "  </thead>\n",
       "  <tbody>\n",
       "    <tr>\n",
       "      <td>0</td>\n",
       "      <td>accessControl</td>\n",
       "      <td>Access Controls</td>\n",
       "      <td>1</td>\n",
       "      <td>tkacon</td>\n",
       "      <td>V.04.00M0P09192022</td>\n",
       "      <td>tkcas</td>\n",
       "      <td>false</td>\n",
       "    </tr>\n",
       "    <tr>\n",
       "      <td>1</td>\n",
       "      <td>accessControl</td>\n",
       "      <td>Access Controls</td>\n",
       "      <td>1</td>\n",
       "      <td>casmeta</td>\n",
       "      <td>V.04.00M0P09192022</td>\n",
       "      <td>tkcas</td>\n",
       "      <td>false</td>\n",
       "    </tr>\n",
       "    <tr>\n",
       "      <td>2</td>\n",
       "      <td>builtins</td>\n",
       "      <td>Builtins</td>\n",
       "      <td>1</td>\n",
       "      <td>tkcasablt</td>\n",
       "      <td>V.04.00M0P09192022</td>\n",
       "      <td>tkcas</td>\n",
       "      <td>false</td>\n",
       "    </tr>\n",
       "    <tr>\n",
       "      <td>3</td>\n",
       "      <td>configuration</td>\n",
       "      <td>Server Properties</td>\n",
       "      <td>1</td>\n",
       "      <td>tkcascfg</td>\n",
       "      <td>V.04.00M0P09192022</td>\n",
       "      <td>tkcas</td>\n",
       "      <td>false</td>\n",
       "    </tr>\n",
       "    <tr>\n",
       "      <td>4</td>\n",
       "      <td>dataPreprocess</td>\n",
       "      <td>Data Preprocess</td>\n",
       "      <td>1</td>\n",
       "      <td>tktrans</td>\n",
       "      <td>V.04.00M0P09192022</td>\n",
       "      <td>crsstat</td>\n",
       "      <td>false</td>\n",
       "    </tr>\n",
       "  </tbody>\n",
       "</table>\n",
       "</div>"
      ],
      "text/plain": [
       "Action set information\n",
       "\n",
       "        actionset              label  loaded  extension             version product_name user_defined\n",
       "0   accessControl    Access Controls       1     tkacon  V.04.00M0P09192022        tkcas        false\n",
       "1   accessControl    Access Controls       1    casmeta  V.04.00M0P09192022        tkcas        false\n",
       "2        builtins           Builtins       1  tkcasablt  V.04.00M0P09192022        tkcas        false\n",
       "3   configuration  Server Properties       1   tkcascfg  V.04.00M0P09192022        tkcas        false\n",
       "4  dataPreprocess    Data Preprocess       1    tktrans  V.04.00M0P09192022      crsstat        false"
      ]
     },
     "execution_count": 12,
     "metadata": {},
     "output_type": "execute_result"
    }
   ],
   "source": [
    "df.head()"
   ]
  },
  {
   "cell_type": "markdown",
   "metadata": {},
   "source": [
    "Find all rows where the value in the **actionset** column equals *simple* using the pandas **loc** method."
   ]
  },
  {
   "cell_type": "code",
   "execution_count": 13,
   "metadata": {},
   "outputs": [
    {
     "data": {
      "text/html": [
       "<div>\n",
       "<style scoped>\n",
       "    .dataframe tbody tr th:only-of-type {\n",
       "        vertical-align: middle;\n",
       "    }\n",
       "\n",
       "    .dataframe tbody tr th {\n",
       "        vertical-align: top;\n",
       "    }\n",
       "\n",
       "    .dataframe thead th {\n",
       "        text-align: right;\n",
       "    }\n",
       "</style>\n",
       "<table border=\"1\" class=\"dataframe\"><caption>Action set information</caption>\n",
       "  <thead>\n",
       "    <tr style=\"text-align: right;\">\n",
       "      <th title=\"\"></th>\n",
       "      <th title=\"actionset\">actionset</th>\n",
       "      <th title=\"label\">label</th>\n",
       "    </tr>\n",
       "  </thead>\n",
       "  <tbody>\n",
       "    <tr>\n",
       "      <td>11</td>\n",
       "      <td>simple</td>\n",
       "      <td>Simple Analytics</td>\n",
       "    </tr>\n",
       "  </tbody>\n",
       "</table>\n",
       "</div>"
      ],
      "text/plain": [
       "Action set information\n",
       "\n",
       "   actionset             label\n",
       "11    simple  Simple Analytics"
      ]
     },
     "execution_count": 13,
     "metadata": {},
     "output_type": "execute_result"
    }
   ],
   "source": [
    "df.loc[df['actionset']=='simple',['actionset','label']]"
   ]
  },
  {
   "cell_type": "markdown",
   "metadata": {},
   "source": [
    "View counts of unique values using the pandas **value_counts()** method."
   ]
  },
  {
   "cell_type": "code",
   "execution_count": 14,
   "metadata": {},
   "outputs": [
    {
     "data": {
      "text/plain": [
       "tkcas        9\n",
       "crsstat      3\n",
       "crssearch    1\n",
       "Name: actionSetInfo, dtype: int64"
      ]
     },
     "execution_count": 14,
     "metadata": {},
     "output_type": "execute_result"
    }
   ],
   "source": [
    "df['product_name'].value_counts()"
   ]
  },
  {
   "cell_type": "markdown",
   "metadata": {},
   "source": [
    "## CASResults Object With Multiple Keys"
   ]
  },
  {
   "cell_type": "code",
   "execution_count": null,
   "metadata": {},
   "outputs": [],
   "source": [
    "conn.serverstatus()"
   ]
  },
  {
   "cell_type": "code",
   "execution_count": 16,
   "metadata": {},
   "outputs": [
    {
     "name": "stdout",
     "output_type": "stream",
     "text": [
      "NOTE: Grid node action status report: 5 nodes, 62 total actions executed.\n"
     ]
    },
    {
     "data": {
      "text/plain": [
       "odict_keys(['About', 'nodestatus', 'server'])"
      ]
     },
     "execution_count": 16,
     "metadata": {},
     "output_type": "execute_result"
    }
   ],
   "source": [
    "conn.serverstatus().keys()"
   ]
  },
  {
   "cell_type": "code",
   "execution_count": 17,
   "metadata": {},
   "outputs": [
    {
     "name": "stdout",
     "output_type": "stream",
     "text": [
      "NOTE: Grid node action status report: 5 nodes, 63 total actions executed.\n",
      "Key : About, Value Type : <class 'dict'>\n",
      "Key : nodestatus, Value Type : <class 'swat.dataframe.SASDataFrame'>\n",
      "Key : server, Value Type : <class 'swat.dataframe.SASDataFrame'>\n"
     ]
    }
   ],
   "source": [
    "for key,value in conn.serverstatus().items():\n",
    "      print('Key : {}, Value Type : {}'.format(key,type(value)))"
   ]
  },
  {
   "cell_type": "markdown",
   "metadata": {},
   "source": [
    "## Terminate the CAS Connection"
   ]
  },
  {
   "cell_type": "code",
   "execution_count": 18,
   "metadata": {},
   "outputs": [],
   "source": [
    "conn.terminate()"
   ]
  },
  {
   "cell_type": "markdown",
   "metadata": {},
   "source": [
    " "
   ]
  }
 ],
 "metadata": {
  "kernelspec": {
   "display_name": "Python 3",
   "language": "python",
   "name": "python3"
  },
  "language_info": {
   "codemirror_mode": {
    "name": "ipython",
    "version": 3
   },
   "file_extension": ".py",
   "mimetype": "text/x-python",
   "name": "python",
   "nbconvert_exporter": "python",
   "pygments_lexer": "ipython3",
   "version": "3.8.8"
  }
 },
 "nbformat": 4,
 "nbformat_minor": 4
}
