{
 "cells": [
  {
   "cell_type": "code",
   "execution_count": null,
   "metadata": {},
   "outputs": [],
   "source": [
    "## Packages\n",
    "import swat\n",
    "import os\n",
    "import pandas as pd\n",
    "pd.set_option('display.max_columns', 50)\n",
    "import numpy as np\n",
    "\n",
    "\n",
    "## custom personal module to connect to my CAS environment\n",
    "try:\n",
    "    from casConnect import connect_to_cas \n",
    "except:\n",
    "    print('CasConnect package not available')\n",
    "\n",
    "    \n",
    "\n",
    "######################\n",
    "## Connect to CAS   ##\n",
    "######################\n",
    "\n",
    "## My personal connection to CAS. You will need to modify your connection object\n",
    "try:\n",
    "    conn = connect_to_cas()\n",
    "except:\n",
    "    print('My personal connection to CAS. You will need to modify yours using your connection information.')\n",
    "\n",
    "\n",
    "## General connection syntax\n",
    "# conn = swat.CAS(host, port, username, password)\n",
    "\n",
    "## Viya for Learners 3.5 connection\n",
    "# hostValue = os.environ.get('CASHOST')\n",
    "# portValue = os.environ.get('CASPORT')\n",
    "# passwordToken=os.environ.get('SAS_VIYA_TOKEN')\n",
    "# conn = swat.CAS(hostname=hostValue, port=portValue, password=passwordToken)"
   ]
  },
  {
   "cell_type": "markdown",
   "metadata": {},
   "source": [
    "## Create demo CAS table"
   ]
  },
  {
   "cell_type": "code",
   "execution_count": 2,
   "metadata": {},
   "outputs": [
    {
     "name": "stdout",
     "output_type": "stream",
     "text": [
      "NOTE: Cloud Analytic Services made the file RAND_RETAILDEMO.sashdat available as table RAND_RETAILDEMO in caslib CASUSER(Peter.Styliadis@sas.com).\n"
     ]
    },
    {
     "data": {
      "text/plain": [
       "(930046, 8)"
      ]
     },
     "metadata": {},
     "output_type": "display_data"
    },
    {
     "data": {
      "text/html": [
       "<div class=\"cas-results-key\"><b>&#167; TableDetails</b></div>\n",
       "<div class=\"cas-results-body\">\n",
       "<div>\n",
       "<style scoped>\n",
       "    .dataframe tbody tr th:only-of-type {\n",
       "        vertical-align: middle;\n",
       "    }\n",
       "\n",
       "    .dataframe tbody tr th {\n",
       "        vertical-align: top;\n",
       "    }\n",
       "\n",
       "    .dataframe thead th {\n",
       "        text-align: right;\n",
       "    }\n",
       "</style>\n",
       "<table border=\"1\" class=\"dataframe\">\n",
       "  <thead>\n",
       "    <tr style=\"text-align: right;\">\n",
       "      <th title=\"\"></th>\n",
       "      <th title=\"Node\">Node</th>\n",
       "      <th title=\"Blocks\">Blocks</th>\n",
       "      <th title=\"Active\">Active</th>\n",
       "      <th title=\"Rows\">Rows</th>\n",
       "      <th title=\"IndexSize\">IndexSize</th>\n",
       "      <th title=\"DataSize\">DataSize</th>\n",
       "      <th title=\"VardataSize\">VardataSize</th>\n",
       "      <th title=\"CompressedSize\">CompressedSize</th>\n",
       "      <th title=\"CompressionRatio\">CompressionRatio</th>\n",
       "      <th title=\"Mapped\">Mapped</th>\n",
       "      <th title=\"MappedMemory\">MappedMemory</th>\n",
       "      <th title=\"Unmapped\">Unmapped</th>\n",
       "      <th title=\"UnmappedMemory\">UnmappedMemory</th>\n",
       "      <th title=\"Allocated\">Allocated</th>\n",
       "      <th title=\"AllocatedMemory\">AllocatedMemory</th>\n",
       "      <th title=\"DeletedRows\">DeletedRows</th>\n",
       "    </tr>\n",
       "  </thead>\n",
       "  <tbody>\n",
       "    <tr>\n",
       "      <th>0</th>\n",
       "      <td>ALL</td>\n",
       "      <td>383</td>\n",
       "      <td>383</td>\n",
       "      <td>930046</td>\n",
       "      <td>0</td>\n",
       "      <td>372018400</td>\n",
       "      <td>0</td>\n",
       "      <td>0</td>\n",
       "      <td>0</td>\n",
       "      <td>346</td>\n",
       "      <td>362786496</td>\n",
       "      <td>0</td>\n",
       "      <td>0</td>\n",
       "      <td>37</td>\n",
       "      <td>9272000</td>\n",
       "      <td>0</td>\n",
       "    </tr>\n",
       "  </tbody>\n",
       "</table>\n",
       "</div>\n",
       "</div>\n",
       "<div class=\"cas-output-area\"></div>\n",
       "<p class=\"cas-results-performance\"><small><span class=\"cas-elapsed\">elapsed 0.000395s</span> &#183; <span class=\"cas-user\">user 0.000381s</span> &#183; <span class=\"cas-memory\">mem 0.677MB</span></small></p>"
      ],
      "text/plain": [
       "[TableDetails]\n",
       "\n",
       "   Node  Blocks  Active    Rows  IndexSize   DataSize  VardataSize  \\\n",
       " 0  ALL     383     383  930046          0  372018400            0   \n",
       " \n",
       "    CompressedSize  CompressionRatio  Mapped  MappedMemory  Unmapped  \\\n",
       " 0               0                 0     346     362786496         0   \n",
       " \n",
       "    UnmappedMemory  Allocated  AllocatedMemory  DeletedRows  \n",
       " 0               0         37          9272000            0  \n",
       "\n",
       "+ Elapsed: 0.000395s, user: 0.000381s, mem: 0.677mb"
      ]
     },
     "metadata": {},
     "output_type": "display_data"
    },
    {
     "data": {
      "text/html": [
       "<div class=\"cas-results-key\"><b>&#167; TableInfo</b></div>\n",
       "<div class=\"cas-results-body\">\n",
       "<div>\n",
       "<style scoped>\n",
       "    .dataframe tbody tr th:only-of-type {\n",
       "        vertical-align: middle;\n",
       "    }\n",
       "\n",
       "    .dataframe tbody tr th {\n",
       "        vertical-align: top;\n",
       "    }\n",
       "\n",
       "    .dataframe thead th {\n",
       "        text-align: right;\n",
       "    }\n",
       "</style>\n",
       "<table border=\"1\" class=\"dataframe\">\n",
       "  <thead>\n",
       "    <tr style=\"text-align: right;\">\n",
       "      <th title=\"\"></th>\n",
       "      <th title=\"Name\">Name</th>\n",
       "      <th title=\"Rows\">Rows</th>\n",
       "      <th title=\"Columns\">Columns</th>\n",
       "      <th title=\"Indexed Columns\">IndexedColumns</th>\n",
       "      <th title=\"Encoding\">Encoding</th>\n",
       "      <th title=\"Created\">CreateTimeFormatted</th>\n",
       "      <th title=\"Last Modified\">ModTimeFormatted</th>\n",
       "      <th title=\"Last Accessed\">AccessTimeFormatted</th>\n",
       "      <th title=\"Character Set\">JavaCharSet</th>\n",
       "      <th title=\"CreateTime\">CreateTime</th>\n",
       "      <th title=\"ModTime\">ModTime</th>\n",
       "      <th title=\"AccessTime\">AccessTime</th>\n",
       "      <th title=\"Global\">Global</th>\n",
       "      <th title=\"Repeated\">Repeated</th>\n",
       "      <th title=\"View\">View</th>\n",
       "      <th title=\"MultiPart\">MultiPart</th>\n",
       "      <th title=\"Loaded Source\">SourceName</th>\n",
       "      <th title=\"Source Caslib\">SourceCaslib</th>\n",
       "      <th title=\"Compressed\">Compressed</th>\n",
       "      <th title=\"Table Creator\">Creator</th>\n",
       "      <th title=\"Last Table Modifier\">Modifier</th>\n",
       "      <th title=\"Source Modified\">SourceModTimeFormatted</th>\n",
       "      <th title=\"SourceModTime\">SourceModTime</th>\n",
       "    </tr>\n",
       "  </thead>\n",
       "  <tbody>\n",
       "    <tr>\n",
       "      <th>0</th>\n",
       "      <td>RAND_RETAILDEMO</td>\n",
       "      <td>930046</td>\n",
       "      <td>8</td>\n",
       "      <td>0</td>\n",
       "      <td>utf-8</td>\n",
       "      <td>2023-04-04T07:01:25-04:00</td>\n",
       "      <td>2023-04-04T07:01:25-04:00</td>\n",
       "      <td>2023-04-04T07:01:25-04:00</td>\n",
       "      <td>UTF8</td>\n",
       "      <td>1.996225e+09</td>\n",
       "      <td>1.996225e+09</td>\n",
       "      <td>1.996225e+09</td>\n",
       "      <td>0</td>\n",
       "      <td>0</td>\n",
       "      <td>0</td>\n",
       "      <td>0</td>\n",
       "      <td></td>\n",
       "      <td></td>\n",
       "      <td>0</td>\n",
       "      <td>Peter.Styliadis@sas.com</td>\n",
       "      <td></td>\n",
       "      <td></td>\n",
       "      <td>NaN</td>\n",
       "    </tr>\n",
       "  </tbody>\n",
       "</table>\n",
       "</div>\n",
       "</div>\n",
       "<div class=\"cas-output-area\"></div>\n",
       "<p class=\"cas-results-performance\"><small><span class=\"cas-elapsed\">elapsed 0.000358s</span> &#183; <span class=\"cas-user\">user 0.000302s</span> &#183; <span class=\"cas-sys\">sys 4.4e-05s</span> &#183; <span class=\"cas-memory\">mem 0.682MB</span></small></p>"
      ],
      "text/plain": [
       "[TableInfo]\n",
       "\n",
       "               Name    Rows  Columns  IndexedColumns Encoding  \\\n",
       " 0  RAND_RETAILDEMO  930046        8               0    utf-8   \n",
       " \n",
       "          CreateTimeFormatted           ModTimeFormatted  \\\n",
       " 0  2023-04-04T07:01:25-04:00  2023-04-04T07:01:25-04:00   \n",
       " \n",
       "          AccessTimeFormatted JavaCharSet    CreateTime       ModTime  \\\n",
       " 0  2023-04-04T07:01:25-04:00        UTF8  1.996225e+09  1.996225e+09   \n",
       " \n",
       "      AccessTime  Global  Repeated  View  MultiPart SourceName SourceCaslib  \\\n",
       " 0  1.996225e+09       0         0     0          0                           \n",
       " \n",
       "    Compressed                  Creator Modifier SourceModTimeFormatted  \\\n",
       " 0           0  Peter.Styliadis@sas.com                                   \n",
       " \n",
       "    SourceModTime  \n",
       " 0            NaN  \n",
       "\n",
       "+ Elapsed: 0.000358s, user: 0.000302s, sys: 4.4e-05s, mem: 0.682mb"
      ]
     },
     "metadata": {},
     "output_type": "display_data"
    },
    {
     "data": {
      "text/html": [
       "<div>\n",
       "<style scoped>\n",
       "    .dataframe tbody tr th:only-of-type {\n",
       "        vertical-align: middle;\n",
       "    }\n",
       "\n",
       "    .dataframe tbody tr th {\n",
       "        vertical-align: top;\n",
       "    }\n",
       "\n",
       "    .dataframe thead th {\n",
       "        text-align: right;\n",
       "    }\n",
       "</style>\n",
       "<table border=\"1\" class=\"dataframe\"><caption>Selected Rows from Table RAND_RETAILDEMO</caption>\n",
       "  <thead>\n",
       "    <tr style=\"text-align: right;\">\n",
       "      <th title=\"\"></th>\n",
       "      <th title=\"CustID\">custid</th>\n",
       "      <th title=\"12 week RFM Bucket\">bucket</th>\n",
       "      <th title=\"Customer Age\">age</th>\n",
       "      <th title=\"age_dup\">age_dup</th>\n",
       "      <th title=\"Loyalty Card\">loyalty_card</th>\n",
       "      <th title=\"Brand Name\">brand_name</th>\n",
       "      <th title=\"ChannelType\">channeltype</th>\n",
       "      <th title=\"Class\">class</th>\n",
       "    </tr>\n",
       "  </thead>\n",
       "  <tbody>\n",
       "    <tr>\n",
       "      <th>0</th>\n",
       "      <td>23682014.0</td>\n",
       "      <td>2.0</td>\n",
       "      <td>52.0</td>\n",
       "      <td>52.0</td>\n",
       "      <td>1.0</td>\n",
       "      <td>Maple</td>\n",
       "      <td>Internet</td>\n",
       "      <td>men's fragrances</td>\n",
       "    </tr>\n",
       "    <tr>\n",
       "      <th>1</th>\n",
       "      <td>23682017.0</td>\n",
       "      <td>1.0</td>\n",
       "      <td>32.0</td>\n",
       "      <td>32.0</td>\n",
       "      <td>1.0</td>\n",
       "      <td>Pine</td>\n",
       "      <td>Internet</td>\n",
       "      <td>kids_bottoms</td>\n",
       "    </tr>\n",
       "    <tr>\n",
       "      <th>2</th>\n",
       "      <td>23682017.0</td>\n",
       "      <td>1.0</td>\n",
       "      <td>32.0</td>\n",
       "      <td>32.0</td>\n",
       "      <td>1.0</td>\n",
       "      <td>Pine</td>\n",
       "      <td>Internet</td>\n",
       "      <td>kids_boys' clothing</td>\n",
       "    </tr>\n",
       "    <tr>\n",
       "      <th>3</th>\n",
       "      <td>23682037.0</td>\n",
       "      <td>1.0</td>\n",
       "      <td>NaN</td>\n",
       "      <td>NaN</td>\n",
       "      <td>0.0</td>\n",
       "      <td>Pine</td>\n",
       "      <td>Internet</td>\n",
       "      <td>men_pants</td>\n",
       "    </tr>\n",
       "    <tr>\n",
       "      <th>4</th>\n",
       "      <td>23682045.0</td>\n",
       "      <td>2.0</td>\n",
       "      <td>NaN</td>\n",
       "      <td>NaN</td>\n",
       "      <td>0.0</td>\n",
       "      <td>Pine</td>\n",
       "      <td>Internet</td>\n",
       "      <td>ink &amp; toner</td>\n",
       "    </tr>\n",
       "  </tbody>\n",
       "</table>\n",
       "</div>"
      ],
      "text/plain": [
       "Selected Rows from Table RAND_RETAILDEMO\n",
       "\n",
       "       custid  bucket   age  age_dup  loyalty_card brand_name channeltype  \\\n",
       "0  23682014.0     2.0  52.0     52.0           1.0      Maple    Internet   \n",
       "1  23682017.0     1.0  32.0     32.0           1.0       Pine    Internet   \n",
       "2  23682017.0     1.0  32.0     32.0           1.0       Pine    Internet   \n",
       "3  23682037.0     1.0   NaN      NaN           0.0       Pine    Internet   \n",
       "4  23682045.0     2.0   NaN      NaN           0.0       Pine    Internet   \n",
       "\n",
       "                 class  \n",
       "0     men's fragrances  \n",
       "1         kids_bottoms  \n",
       "2  kids_boys' clothing  \n",
       "3            men_pants  \n",
       "4          ink & toner  "
      ]
     },
     "metadata": {},
     "output_type": "display_data"
    }
   ],
   "source": [
    "## Load the RAND_RETAILDEMO.sashdat file into memory on the CAS server\n",
    "conn.loadTable(path = 'RAND_RETAILDEMO.sashdat', caslib = 'samples',\n",
    "               casout = {\n",
    "                      'name' : 'rand_retaildemo',\n",
    "                      'caslib' : 'casuser',\n",
    "                      'replace' : True\n",
    "               })\n",
    "\n",
    "## Reference the CAS table\n",
    "retailTbl = conn.CASTable('rand_retaildemo', caslib = 'casuser')\n",
    "\n",
    "## Create a copy of the table with a new column\n",
    "(retailTbl\n",
    " .eval(\"age_dup = age\", inplace = False)          ## create a duplicate of the age column\n",
    " .partition(casout = {'name':'rand_retaildemo',\n",
    "                      'caslib':'casuser',\n",
    "                      'replace':True})\n",
    ")\n",
    "\n",
    "\n",
    "## Create a list of columns to rename \n",
    "newColNames = [{'name':col,'rename':col.lower()} for col in retailTbl.columns.to_list()]\n",
    "\n",
    "## List of columns to keep\n",
    "keepColumns = ['custid','bucket','age','age_dup','loyalty_card','brand_name','channeltype','class']\n",
    "\n",
    "## Rename and keep columns\n",
    "retailTbl.alterTable(columns = newColNames, \n",
    "                     keep = keepColumns)\n",
    "\n",
    "## Preview the new CAS table\n",
    "display(retailTbl.shape, \n",
    "        retailTbl.tableDetails(),\n",
    "        retailTbl.tableInfo(caslib = 'casuser'),\n",
    "        retailTbl.head())"
   ]
  },
  {
   "cell_type": "markdown",
   "metadata": {},
   "source": [
    "## Simple column updates in place"
   ]
  },
  {
   "cell_type": "code",
   "execution_count": 3,
   "metadata": {},
   "outputs": [
    {
     "data": {
      "text/html": [
       "<div class=\"cas-results-key\"><b>&#167; tableName</b></div>\n",
       "<div class=\"cas-results-body\">\n",
       "<div>RAND_RETAILDEMO</div>\n",
       "</div>\n",
       "<div class=\"cas-results-key\"><hr/><b>&#167; rowsUpdated</b></div>\n",
       "<div class=\"cas-results-body\">\n",
       "<div>930046</div>\n",
       "</div>\n",
       "<div class=\"cas-output-area\"></div>\n",
       "<p class=\"cas-results-performance\"><small><span class=\"cas-elapsed\">elapsed 0.152s</span> &#183; <span class=\"cas-user\">user 1.14s</span> &#183; <span class=\"cas-sys\">sys 0.247s</span> &#183; <span class=\"cas-memory\">mem 357MB</span></small></p>"
      ],
      "text/plain": [
       "[tableName]\n",
       "\n",
       " 'RAND_RETAILDEMO'\n",
       "\n",
       "[rowsUpdated]\n",
       "\n",
       " 930046\n",
       "\n",
       "+ Elapsed: 0.152s, user: 1.14s, sys: 0.247s, mem: 357mb"
      ]
     },
     "execution_count": 3,
     "metadata": {},
     "output_type": "execute_result"
    }
   ],
   "source": [
    "retailTbl.update(set = [\n",
    "    {'var':'brand_name', 'value':'upcase(brand_name)'},\n",
    "    {'var':'channeltype', 'value':'lowcase(channeltype)'},\n",
    "    {'var':'class', 'value':'propcase(class)'}\n",
    "])"
   ]
  },
  {
   "cell_type": "code",
   "execution_count": 4,
   "metadata": {},
   "outputs": [
    {
     "data": {
      "text/html": [
       "<div>\n",
       "<style scoped>\n",
       "    .dataframe tbody tr th:only-of-type {\n",
       "        vertical-align: middle;\n",
       "    }\n",
       "\n",
       "    .dataframe tbody tr th {\n",
       "        vertical-align: top;\n",
       "    }\n",
       "\n",
       "    .dataframe thead th {\n",
       "        text-align: right;\n",
       "    }\n",
       "</style>\n",
       "<table border=\"1\" class=\"dataframe\"><caption>Selected Rows from Table RAND_RETAILDEMO</caption>\n",
       "  <thead>\n",
       "    <tr style=\"text-align: right;\">\n",
       "      <th title=\"\"></th>\n",
       "      <th title=\"CustID\">custid</th>\n",
       "      <th title=\"12 week RFM Bucket\">bucket</th>\n",
       "      <th title=\"Customer Age\">age</th>\n",
       "      <th title=\"age_dup\">age_dup</th>\n",
       "      <th title=\"Loyalty Card\">loyalty_card</th>\n",
       "      <th title=\"Brand Name\">brand_name</th>\n",
       "      <th title=\"ChannelType\">channeltype</th>\n",
       "      <th title=\"Class\">class</th>\n",
       "    </tr>\n",
       "  </thead>\n",
       "  <tbody>\n",
       "    <tr>\n",
       "      <th>0</th>\n",
       "      <td>23682014.0</td>\n",
       "      <td>2.0</td>\n",
       "      <td>52.0</td>\n",
       "      <td>52.0</td>\n",
       "      <td>1.0</td>\n",
       "      <td>MAPLE</td>\n",
       "      <td>internet</td>\n",
       "      <td>Men's Fragrances</td>\n",
       "    </tr>\n",
       "    <tr>\n",
       "      <th>1</th>\n",
       "      <td>23682017.0</td>\n",
       "      <td>1.0</td>\n",
       "      <td>32.0</td>\n",
       "      <td>32.0</td>\n",
       "      <td>1.0</td>\n",
       "      <td>PINE</td>\n",
       "      <td>internet</td>\n",
       "      <td>Kids_bottoms</td>\n",
       "    </tr>\n",
       "    <tr>\n",
       "      <th>2</th>\n",
       "      <td>23682017.0</td>\n",
       "      <td>1.0</td>\n",
       "      <td>32.0</td>\n",
       "      <td>32.0</td>\n",
       "      <td>1.0</td>\n",
       "      <td>PINE</td>\n",
       "      <td>internet</td>\n",
       "      <td>Kids_boys' Clothing</td>\n",
       "    </tr>\n",
       "    <tr>\n",
       "      <th>3</th>\n",
       "      <td>23682037.0</td>\n",
       "      <td>1.0</td>\n",
       "      <td>NaN</td>\n",
       "      <td>NaN</td>\n",
       "      <td>0.0</td>\n",
       "      <td>PINE</td>\n",
       "      <td>internet</td>\n",
       "      <td>Men_pants</td>\n",
       "    </tr>\n",
       "    <tr>\n",
       "      <th>4</th>\n",
       "      <td>23682045.0</td>\n",
       "      <td>2.0</td>\n",
       "      <td>NaN</td>\n",
       "      <td>NaN</td>\n",
       "      <td>0.0</td>\n",
       "      <td>PINE</td>\n",
       "      <td>internet</td>\n",
       "      <td>Ink &amp; Toner</td>\n",
       "    </tr>\n",
       "  </tbody>\n",
       "</table>\n",
       "</div>"
      ],
      "text/plain": [
       "Selected Rows from Table RAND_RETAILDEMO\n",
       "\n",
       "       custid  bucket   age  age_dup  loyalty_card brand_name channeltype  \\\n",
       "0  23682014.0     2.0  52.0     52.0           1.0      MAPLE    internet   \n",
       "1  23682017.0     1.0  32.0     32.0           1.0       PINE    internet   \n",
       "2  23682017.0     1.0  32.0     32.0           1.0       PINE    internet   \n",
       "3  23682037.0     1.0   NaN      NaN           0.0       PINE    internet   \n",
       "4  23682045.0     2.0   NaN      NaN           0.0       PINE    internet   \n",
       "\n",
       "                 class  \n",
       "0     Men's Fragrances  \n",
       "1         Kids_bottoms  \n",
       "2  Kids_boys' Clothing  \n",
       "3            Men_pants  \n",
       "4          Ink & Toner  "
      ]
     },
     "execution_count": 4,
     "metadata": {},
     "output_type": "execute_result"
    }
   ],
   "source": [
    "retailTbl.head()"
   ]
  },
  {
   "cell_type": "markdown",
   "metadata": {},
   "source": [
    "## Update column based on a conditions"
   ]
  },
  {
   "cell_type": "code",
   "execution_count": 5,
   "metadata": {},
   "outputs": [
    {
     "data": {
      "text/html": [
       "<div class=\"cas-results-key\"><b>&#167; Distinct</b></div>\n",
       "<div class=\"cas-results-body\">\n",
       "<div>\n",
       "<style scoped>\n",
       "    .dataframe tbody tr th:only-of-type {\n",
       "        vertical-align: middle;\n",
       "    }\n",
       "\n",
       "    .dataframe tbody tr th {\n",
       "        vertical-align: top;\n",
       "    }\n",
       "\n",
       "    .dataframe thead th {\n",
       "        text-align: right;\n",
       "    }\n",
       "</style>\n",
       "<table border=\"1\" class=\"dataframe\"><caption>Distinct Counts for RAND_RETAILDEMO</caption>\n",
       "  <thead>\n",
       "    <tr style=\"text-align: right;\">\n",
       "      <th title=\"\"></th>\n",
       "      <th title=\"Analysis Variable\">Column</th>\n",
       "      <th title=\"Number of Distinct Values\">NDistinct</th>\n",
       "      <th title=\"Number of Missing Values\">NMiss</th>\n",
       "      <th title=\"Truncated\">Trunc</th>\n",
       "    </tr>\n",
       "  </thead>\n",
       "  <tbody>\n",
       "    <tr>\n",
       "      <th>0</th>\n",
       "      <td>age</td>\n",
       "      <td>124.0</td>\n",
       "      <td>673447.0</td>\n",
       "      <td>0.0</td>\n",
       "    </tr>\n",
       "    <tr>\n",
       "      <th>1</th>\n",
       "      <td>age_dup</td>\n",
       "      <td>124.0</td>\n",
       "      <td>673447.0</td>\n",
       "      <td>0.0</td>\n",
       "    </tr>\n",
       "  </tbody>\n",
       "</table>\n",
       "</div>\n",
       "</div>\n",
       "<div class=\"cas-output-area\"></div>\n",
       "<p class=\"cas-results-performance\"><small><span class=\"cas-elapsed\">elapsed 0.0383s</span> &#183; <span class=\"cas-user\">user 0.274s</span> &#183; <span class=\"cas-sys\">sys 0.00872s</span> &#183; <span class=\"cas-memory\">mem 4.9MB</span></small></p>"
      ],
      "text/plain": [
       "[Distinct]\n",
       "\n",
       " Distinct Counts for RAND_RETAILDEMO\n",
       " \n",
       "     Column  NDistinct     NMiss  Trunc\n",
       " 0      age      124.0  673447.0    0.0\n",
       " 1  age_dup      124.0  673447.0    0.0\n",
       "\n",
       "+ Elapsed: 0.0383s, user: 0.274s, sys: 0.00872s, mem: 4.9mb"
      ]
     },
     "execution_count": 5,
     "metadata": {},
     "output_type": "execute_result"
    }
   ],
   "source": [
    "retailTbl.distinct(inputs = ['age', 'age_dup'])"
   ]
  },
  {
   "cell_type": "markdown",
   "metadata": {},
   "source": [
    "Get the mean of the age column"
   ]
  },
  {
   "cell_type": "code",
   "execution_count": 6,
   "metadata": {},
   "outputs": [
    {
     "data": {
      "text/plain": [
       "43.577"
      ]
     },
     "execution_count": 6,
     "metadata": {},
     "output_type": "execute_result"
    }
   ],
   "source": [
    "meanAge = retailTbl.age.mean().round(3)\n",
    "meanAge"
   ]
  },
  {
   "cell_type": "code",
   "execution_count": 7,
   "metadata": {},
   "outputs": [
    {
     "data": {
      "text/html": [
       "<div class=\"cas-results-key\"><b>&#167; tableName</b></div>\n",
       "<div class=\"cas-results-body\">\n",
       "<div>RAND_RETAILDEMO</div>\n",
       "</div>\n",
       "<div class=\"cas-results-key\"><hr/><b>&#167; rowsUpdated</b></div>\n",
       "<div class=\"cas-results-body\">\n",
       "<div>673447</div>\n",
       "</div>\n",
       "<div class=\"cas-output-area\"></div>\n",
       "<p class=\"cas-results-performance\"><small><span class=\"cas-elapsed\">elapsed 0.104s</span> &#183; <span class=\"cas-user\">user 0.466s</span> &#183; <span class=\"cas-sys\">sys 0.179s</span> &#183; <span class=\"cas-memory\">mem 267MB</span></small></p>"
      ],
      "text/plain": [
       "[tableName]\n",
       "\n",
       " 'RAND_RETAILDEMO'\n",
       "\n",
       "[rowsUpdated]\n",
       "\n",
       " 673447\n",
       "\n",
       "+ Elapsed: 0.104s, user: 0.466s, sys: 0.179s, mem: 267mb"
      ]
     },
     "execution_count": 7,
     "metadata": {},
     "output_type": "execute_result"
    }
   ],
   "source": [
    "(retailTbl\n",
    " .query(\"age is null\")\n",
    " .update(set = [\n",
    "     {'var':'age', 'value':f'{meanAge}'}])\n",
    ")"
   ]
  },
  {
   "cell_type": "markdown",
   "metadata": {},
   "source": [
    "### Confirm no missing values exists in age"
   ]
  },
  {
   "cell_type": "code",
   "execution_count": 9,
   "metadata": {},
   "outputs": [
    {
     "data": {
      "text/html": [
       "<div class=\"cas-results-key\"><b>&#167; Distinct</b></div>\n",
       "<div class=\"cas-results-body\">\n",
       "<div>\n",
       "<style scoped>\n",
       "    .dataframe tbody tr th:only-of-type {\n",
       "        vertical-align: middle;\n",
       "    }\n",
       "\n",
       "    .dataframe tbody tr th {\n",
       "        vertical-align: top;\n",
       "    }\n",
       "\n",
       "    .dataframe thead th {\n",
       "        text-align: right;\n",
       "    }\n",
       "</style>\n",
       "<table border=\"1\" class=\"dataframe\"><caption>Distinct Counts for RAND_RETAILDEMO</caption>\n",
       "  <thead>\n",
       "    <tr style=\"text-align: right;\">\n",
       "      <th title=\"\"></th>\n",
       "      <th title=\"Analysis Variable\">Column</th>\n",
       "      <th title=\"Number of Distinct Values\">NDistinct</th>\n",
       "      <th title=\"Number of Missing Values\">NMiss</th>\n",
       "      <th title=\"Truncated\">Trunc</th>\n",
       "    </tr>\n",
       "  </thead>\n",
       "  <tbody>\n",
       "    <tr>\n",
       "      <th>0</th>\n",
       "      <td>age</td>\n",
       "      <td>124.0</td>\n",
       "      <td>0.0</td>\n",
       "      <td>0.0</td>\n",
       "    </tr>\n",
       "    <tr>\n",
       "      <th>1</th>\n",
       "      <td>age_dup</td>\n",
       "      <td>124.0</td>\n",
       "      <td>673447.0</td>\n",
       "      <td>0.0</td>\n",
       "    </tr>\n",
       "  </tbody>\n",
       "</table>\n",
       "</div>\n",
       "</div>\n",
       "<div class=\"cas-output-area\"></div>\n",
       "<p class=\"cas-results-performance\"><small><span class=\"cas-elapsed\">elapsed 0.0594s</span> &#183; <span class=\"cas-user\">user 0.463s</span> &#183; <span class=\"cas-sys\">sys 0.00558s</span> &#183; <span class=\"cas-memory\">mem 4.88MB</span></small></p>"
      ],
      "text/plain": [
       "[Distinct]\n",
       "\n",
       " Distinct Counts for RAND_RETAILDEMO\n",
       " \n",
       "     Column  NDistinct     NMiss  Trunc\n",
       " 0      age      124.0       0.0    0.0\n",
       " 1  age_dup      124.0  673447.0    0.0\n",
       "\n",
       "+ Elapsed: 0.0594s, user: 0.463s, sys: 0.00558s, mem: 4.88mb"
      ]
     },
     "execution_count": 9,
     "metadata": {},
     "output_type": "execute_result"
    }
   ],
   "source": [
    "retailTbl.distinct(inputs = ['age', 'age_dup'])"
   ]
  },
  {
   "cell_type": "markdown",
   "metadata": {},
   "source": [
    "Notice that all the missing values (673,447) are now the mean age (44)"
   ]
  },
  {
   "cell_type": "code",
   "execution_count": 10,
   "metadata": {},
   "outputs": [
    {
     "data": {
      "text/plain": [
       "43.577     673447\n",
       "19.000       6996\n",
       "23.000       6944\n",
       "24.000       6941\n",
       "21.000       6882\n",
       "            ...  \n",
       "97.000         26\n",
       "98.000         25\n",
       "94.000         21\n",
       "105.000        20\n",
       "140.000        18\n",
       "Length: 124, dtype: int64"
      ]
     },
     "execution_count": 10,
     "metadata": {},
     "output_type": "execute_result"
    }
   ],
   "source": [
    "(retailTbl\n",
    " .age\n",
    " .value_counts()\n",
    ")"
   ]
  },
  {
   "cell_type": "markdown",
   "metadata": {},
   "source": [
    "## Update rows using conditional logic"
   ]
  },
  {
   "cell_type": "code",
   "execution_count": 12,
   "metadata": {},
   "outputs": [
    {
     "data": {
      "text/html": [
       "<div class=\"cas-results-key\"><b>&#167; tableName</b></div>\n",
       "<div class=\"cas-results-body\">\n",
       "<div>RAND_RETAILDEMO</div>\n",
       "</div>\n",
       "<div class=\"cas-results-key\"><hr/><b>&#167; rowsUpdated</b></div>\n",
       "<div class=\"cas-results-body\">\n",
       "<div>930046</div>\n",
       "</div>\n",
       "<div class=\"cas-output-area\"></div>\n",
       "<p class=\"cas-results-performance\"><small><span class=\"cas-elapsed\">elapsed 0.123s</span> &#183; <span class=\"cas-user\">user 0.611s</span> &#183; <span class=\"cas-sys\">sys 0.258s</span> &#183; <span class=\"cas-memory\">mem 381MB</span></small></p>"
      ],
      "text/plain": [
       "[tableName]\n",
       "\n",
       " 'RAND_RETAILDEMO'\n",
       "\n",
       "[rowsUpdated]\n",
       "\n",
       " 930046\n",
       "\n",
       "+ Elapsed: 0.123s, user: 0.611s, sys: 0.258s, mem: 381mb"
      ]
     },
     "execution_count": 12,
     "metadata": {},
     "output_type": "execute_result"
    }
   ],
   "source": [
    "(retailTbl\n",
    " .update(set = [\n",
    "     {'var':'age_dup', 'value':f'ifn(age_dup = . , {meanAge}, age_dup)'}])\n",
    ")"
   ]
  },
  {
   "cell_type": "markdown",
   "metadata": {},
   "source": [
    "### Confirm no missing values exists in age_dup"
   ]
  },
  {
   "cell_type": "code",
   "execution_count": 13,
   "metadata": {},
   "outputs": [
    {
     "data": {
      "text/html": [
       "<div class=\"cas-results-key\"><b>&#167; Distinct</b></div>\n",
       "<div class=\"cas-results-body\">\n",
       "<div>\n",
       "<style scoped>\n",
       "    .dataframe tbody tr th:only-of-type {\n",
       "        vertical-align: middle;\n",
       "    }\n",
       "\n",
       "    .dataframe tbody tr th {\n",
       "        vertical-align: top;\n",
       "    }\n",
       "\n",
       "    .dataframe thead th {\n",
       "        text-align: right;\n",
       "    }\n",
       "</style>\n",
       "<table border=\"1\" class=\"dataframe\"><caption>Distinct Counts for RAND_RETAILDEMO</caption>\n",
       "  <thead>\n",
       "    <tr style=\"text-align: right;\">\n",
       "      <th title=\"\"></th>\n",
       "      <th title=\"Analysis Variable\">Column</th>\n",
       "      <th title=\"Number of Distinct Values\">NDistinct</th>\n",
       "      <th title=\"Number of Missing Values\">NMiss</th>\n",
       "      <th title=\"Truncated\">Trunc</th>\n",
       "    </tr>\n",
       "  </thead>\n",
       "  <tbody>\n",
       "    <tr>\n",
       "      <th>0</th>\n",
       "      <td>age</td>\n",
       "      <td>124.0</td>\n",
       "      <td>0.0</td>\n",
       "      <td>0.0</td>\n",
       "    </tr>\n",
       "    <tr>\n",
       "      <th>1</th>\n",
       "      <td>age_dup</td>\n",
       "      <td>124.0</td>\n",
       "      <td>0.0</td>\n",
       "      <td>0.0</td>\n",
       "    </tr>\n",
       "  </tbody>\n",
       "</table>\n",
       "</div>\n",
       "</div>\n",
       "<div class=\"cas-output-area\"></div>\n",
       "<p class=\"cas-results-performance\"><small><span class=\"cas-elapsed\">elapsed 0.0361s</span> &#183; <span class=\"cas-user\">user 0.484s</span> &#183; <span class=\"cas-sys\">sys 0.00574s</span> &#183; <span class=\"cas-memory\">mem 4.88MB</span></small></p>"
      ],
      "text/plain": [
       "[Distinct]\n",
       "\n",
       " Distinct Counts for RAND_RETAILDEMO\n",
       " \n",
       "     Column  NDistinct  NMiss  Trunc\n",
       " 0      age      124.0    0.0    0.0\n",
       " 1  age_dup      124.0    0.0    0.0\n",
       "\n",
       "+ Elapsed: 0.0361s, user: 0.484s, sys: 0.00574s, mem: 4.88mb"
      ]
     },
     "execution_count": 13,
     "metadata": {},
     "output_type": "execute_result"
    }
   ],
   "source": [
    "retailTbl.distinct(inputs = ['age', 'age_dup'])"
   ]
  },
  {
   "cell_type": "code",
   "execution_count": 14,
   "metadata": {},
   "outputs": [
    {
     "data": {
      "text/plain": [
       "43.577     673447\n",
       "19.000       6996\n",
       "23.000       6944\n",
       "24.000       6941\n",
       "21.000       6882\n",
       "            ...  \n",
       "97.000         26\n",
       "98.000         25\n",
       "94.000         21\n",
       "105.000        20\n",
       "140.000        18\n",
       "Length: 124, dtype: int64"
      ]
     },
     "execution_count": 14,
     "metadata": {},
     "output_type": "execute_result"
    }
   ],
   "source": [
    "(retailTbl\n",
    " .age_dup\n",
    " .value_counts()\n",
    ")"
   ]
  },
  {
   "cell_type": "markdown",
   "metadata": {},
   "source": [
    "## Save the CAS table as a data source file"
   ]
  },
  {
   "cell_type": "code",
   "execution_count": null,
   "metadata": {},
   "outputs": [],
   "source": [
    "retailTbl.save(name = 'retail_clean.parquet', caslib = 'casuser')"
   ]
  },
  {
   "cell_type": "markdown",
   "metadata": {},
   "source": [
    "## Delete the source file"
   ]
  },
  {
   "cell_type": "code",
   "execution_count": null,
   "metadata": {},
   "outputs": [],
   "source": [
    "conn.deleteSource(source = 'retail_clean.parquet', caslib = 'casuser')"
   ]
  },
  {
   "cell_type": "markdown",
   "metadata": {},
   "source": [
    "## Terminate the CAS connection"
   ]
  },
  {
   "cell_type": "code",
   "execution_count": 18,
   "metadata": {},
   "outputs": [],
   "source": [
    "conn.terminate()"
   ]
  },
  {
   "cell_type": "markdown",
   "metadata": {},
   "source": [
    " "
   ]
  }
 ],
 "metadata": {
  "kernelspec": {
   "display_name": "Python 3 (ipykernel)",
   "language": "python",
   "name": "python3"
  },
  "language_info": {
   "codemirror_mode": {
    "name": "ipython",
    "version": 3
   },
   "file_extension": ".py",
   "mimetype": "text/x-python",
   "name": "python",
   "nbconvert_exporter": "python",
   "pygments_lexer": "ipython3",
   "version": "3.8.16"
  }
 },
 "nbformat": 4,
 "nbformat_minor": 4
}
