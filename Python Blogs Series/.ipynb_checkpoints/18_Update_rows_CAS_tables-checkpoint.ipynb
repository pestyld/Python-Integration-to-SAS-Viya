{
 "cells": [
  {
   "cell_type": "code",
   "execution_count": 152,
   "metadata": {},
   "outputs": [
    {
     "name": "stdout",
     "output_type": "stream",
     "text": [
      "CasConnect package not available\n",
      "My personal connection to CAS. You will need to modify yours using your connection information.\n"
     ]
    }
   ],
   "source": [
    "## Packages\n",
    "import swat\n",
    "import os\n",
    "import pandas as pd\n",
    "pd.set_option('display.max_columns', 50)\n",
    "import numpy as np\n",
    "\n",
    "\n",
    "## custom personal module to connect to my CAS environment\n",
    "try:\n",
    "    from casConnect import connect_to_cas \n",
    "except:\n",
    "    print('CasConnect package not available')\n",
    "\n",
    "    \n",
    "\n",
    "######################\n",
    "## Connect to CAS   ##\n",
    "######################\n",
    "\n",
    "## My personal connection to CAS. You will need to modify your connection object\n",
    "try:\n",
    "    conn = connect_to_cas()\n",
    "except:\n",
    "    print('My personal connection to CAS. You will need to modify yours using your connection information.')\n",
    "\n",
    "\n",
    "## General connection syntax\n",
    "# conn = swat.CAS(host, port, username, password)\n",
    "\n",
    "## Viya for Learners 3.5 connection\n",
    "hostValue = os.environ.get('CASHOST')\n",
    "portValue = os.environ.get('CASPORT')\n",
    "passwordToken=os.environ.get('SAS_VIYA_TOKEN')\n",
    "conn = swat.CAS(hostname=hostValue, port=portValue, password=passwordToken)"
   ]
  },
  {
   "cell_type": "markdown",
   "metadata": {},
   "source": [
    "## Create demo CAS table"
   ]
  },
  {
   "cell_type": "code",
   "execution_count": 153,
   "metadata": {},
   "outputs": [
    {
     "name": "stdout",
     "output_type": "stream",
     "text": [
      "NOTE: Cloud Analytic Services made the file RAND_RETAILDEMO.sashdat available as table RAND_RETAILDEMO in caslib CASUSER(Peter.Styliadis@sas.com).\n"
     ]
    },
    {
     "data": {
      "text/plain": [
       "(930046, 7)"
      ]
     },
     "metadata": {},
     "output_type": "display_data"
    },
    {
     "data": {
      "text/html": [
       "<div class=\"cas-results-key\"><b>&#167; TableDetails</b></div>\n",
       "<div class=\"cas-results-body\">\n",
       "<div>\n",
       "<style scoped>\n",
       "    .dataframe tbody tr th:only-of-type {\n",
       "        vertical-align: middle;\n",
       "    }\n",
       "\n",
       "    .dataframe tbody tr th {\n",
       "        vertical-align: top;\n",
       "    }\n",
       "\n",
       "    .dataframe thead th {\n",
       "        text-align: right;\n",
       "    }\n",
       "</style>\n",
       "<table border=\"1\" class=\"dataframe\">\n",
       "  <thead>\n",
       "    <tr style=\"text-align: right;\">\n",
       "      <th title=\"\"></th>\n",
       "      <th title=\"Node\">Node</th>\n",
       "      <th title=\"Blocks\">Blocks</th>\n",
       "      <th title=\"Active\">Active</th>\n",
       "      <th title=\"Rows\">Rows</th>\n",
       "      <th title=\"IndexSize\">IndexSize</th>\n",
       "      <th title=\"DataSize\">DataSize</th>\n",
       "      <th title=\"VardataSize\">VardataSize</th>\n",
       "      <th title=\"CompressedSize\">CompressedSize</th>\n",
       "      <th title=\"CompressionRatio\">CompressionRatio</th>\n",
       "      <th title=\"Mapped\">Mapped</th>\n",
       "      <th title=\"MappedMemory\">MappedMemory</th>\n",
       "      <th title=\"Unmapped\">Unmapped</th>\n",
       "      <th title=\"UnmappedMemory\">UnmappedMemory</th>\n",
       "      <th title=\"Allocated\">Allocated</th>\n",
       "      <th title=\"AllocatedMemory\">AllocatedMemory</th>\n",
       "      <th title=\"DeletedRows\">DeletedRows</th>\n",
       "    </tr>\n",
       "  </thead>\n",
       "  <tbody>\n",
       "    <tr>\n",
       "      <th>0</th>\n",
       "      <td>ALL</td>\n",
       "      <td>348</td>\n",
       "      <td>348</td>\n",
       "      <td>930046</td>\n",
       "      <td>0</td>\n",
       "      <td>364578032</td>\n",
       "      <td>0</td>\n",
       "      <td>0</td>\n",
       "      <td>0</td>\n",
       "      <td>343</td>\n",
       "      <td>359575104</td>\n",
       "      <td>0</td>\n",
       "      <td>0</td>\n",
       "      <td>5</td>\n",
       "      <td>5042688</td>\n",
       "      <td>0</td>\n",
       "    </tr>\n",
       "  </tbody>\n",
       "</table>\n",
       "</div>\n",
       "</div>\n",
       "<div class=\"cas-output-area\"></div>\n",
       "<p class=\"cas-results-performance\"><small><span class=\"cas-elapsed\">elapsed 0.000388s</span> &#183; <span class=\"cas-user\">user 3.9e-05s</span> &#183; <span class=\"cas-sys\">sys 0.000336s</span> &#183; <span class=\"cas-memory\">mem 0.687MB</span></small></p>"
      ],
      "text/plain": [
       "[TableDetails]\n",
       "\n",
       "   Node  Blocks  Active    Rows  IndexSize   DataSize  VardataSize  \\\n",
       " 0  ALL     348     348  930046          0  364578032            0   \n",
       " \n",
       "    CompressedSize  CompressionRatio  Mapped  MappedMemory  Unmapped  \\\n",
       " 0               0                 0     343     359575104         0   \n",
       " \n",
       "    UnmappedMemory  Allocated  AllocatedMemory  DeletedRows  \n",
       " 0               0          5          5042688            0  \n",
       "\n",
       "+ Elapsed: 0.000388s, user: 3.9e-05s, sys: 0.000336s, mem: 0.687mb"
      ]
     },
     "metadata": {},
     "output_type": "display_data"
    },
    {
     "data": {
      "text/html": [
       "<div>\n",
       "<style scoped>\n",
       "    .dataframe tbody tr th:only-of-type {\n",
       "        vertical-align: middle;\n",
       "    }\n",
       "\n",
       "    .dataframe tbody tr th {\n",
       "        vertical-align: top;\n",
       "    }\n",
       "\n",
       "    .dataframe thead th {\n",
       "        text-align: right;\n",
       "    }\n",
       "</style>\n",
       "<table border=\"1\" class=\"dataframe\"><caption>Selected Rows from Table RAND_RETAILDEMO</caption>\n",
       "  <thead>\n",
       "    <tr style=\"text-align: right;\">\n",
       "      <th title=\"\"></th>\n",
       "      <th title=\"CustID\">custid</th>\n",
       "      <th title=\"12 week RFM Bucket\">bucket</th>\n",
       "      <th title=\"Customer Age\">age</th>\n",
       "      <th title=\"Loyalty Card\">loyalty_card</th>\n",
       "      <th title=\"Brand Name\">brand_name</th>\n",
       "      <th title=\"ChannelType\">channeltype</th>\n",
       "      <th title=\"Class\">class</th>\n",
       "    </tr>\n",
       "  </thead>\n",
       "  <tbody>\n",
       "    <tr>\n",
       "      <th>0</th>\n",
       "      <td>40506910.0</td>\n",
       "      <td>2.0</td>\n",
       "      <td>75.0</td>\n",
       "      <td>1.0</td>\n",
       "      <td>Oak</td>\n",
       "      <td>Internet</td>\n",
       "      <td>women_handbags</td>\n",
       "    </tr>\n",
       "    <tr>\n",
       "      <th>1</th>\n",
       "      <td>40506917.0</td>\n",
       "      <td>2.0</td>\n",
       "      <td>72.0</td>\n",
       "      <td>1.0</td>\n",
       "      <td>Oak</td>\n",
       "      <td>Internet</td>\n",
       "      <td>women_Active</td>\n",
       "    </tr>\n",
       "    <tr>\n",
       "      <th>2</th>\n",
       "      <td>40506919.0</td>\n",
       "      <td>2.0</td>\n",
       "      <td>38.0</td>\n",
       "      <td>1.0</td>\n",
       "      <td>Oak</td>\n",
       "      <td>Internet</td>\n",
       "      <td>dairy</td>\n",
       "    </tr>\n",
       "    <tr>\n",
       "      <th>3</th>\n",
       "      <td>40506934.0</td>\n",
       "      <td>2.0</td>\n",
       "      <td>NaN</td>\n",
       "      <td>0.0</td>\n",
       "      <td>Oak</td>\n",
       "      <td>Internet</td>\n",
       "      <td>women_tops</td>\n",
       "    </tr>\n",
       "    <tr>\n",
       "      <th>4</th>\n",
       "      <td>40506942.0</td>\n",
       "      <td>2.0</td>\n",
       "      <td>50.0</td>\n",
       "      <td>1.0</td>\n",
       "      <td>Oak</td>\n",
       "      <td>Internet</td>\n",
       "      <td>women_tops</td>\n",
       "    </tr>\n",
       "  </tbody>\n",
       "</table>\n",
       "</div>"
      ],
      "text/plain": [
       "Selected Rows from Table RAND_RETAILDEMO\n",
       "\n",
       "       custid  bucket   age  loyalty_card brand_name channeltype  \\\n",
       "0  40506910.0     2.0  75.0           1.0        Oak    Internet   \n",
       "1  40506917.0     2.0  72.0           1.0        Oak    Internet   \n",
       "2  40506919.0     2.0  38.0           1.0        Oak    Internet   \n",
       "3  40506934.0     2.0   NaN           0.0        Oak    Internet   \n",
       "4  40506942.0     2.0  50.0           1.0        Oak    Internet   \n",
       "\n",
       "            class  \n",
       "0  women_handbags  \n",
       "1    women_Active  \n",
       "2           dairy  \n",
       "3      women_tops  \n",
       "4      women_tops  "
      ]
     },
     "metadata": {},
     "output_type": "display_data"
    }
   ],
   "source": [
    "conn.loadTable(path = 'RAND_RETAILDEMO.sashdat', caslib = 'samples',\n",
    "               casout = {\n",
    "                      'name' : 'rand_retaildemo',\n",
    "                      'caslib' : 'casuser',\n",
    "                      'replace' : True\n",
    "               })\n",
    "\n",
    "conn.partition(table = {'name':'rand_retaildemo', 'caslib':'casuser'}, \n",
    "               casout = {'name':'rand_retaildemo', 'caslib':'casuser', 'replace':True})\n",
    "\n",
    "\n",
    "\n",
    "retailTbl = conn.CASTable('rand_retaildemo', caslib = 'casuser')\n",
    "newColNames = [{'name':col,'rename':col.lower()} for col in retailTbl.columns.to_list()]\n",
    "keepColumns = ['custid','bucket','age','loyalty_card','brand_name','channeltype','class']\n",
    "retailTbl.alterTable(columns = newColNames, \n",
    "                     keep = keepColumns)\n",
    "\n",
    "display(retailTbl.shape, \n",
    "        retailTbl.tableDetails(), \n",
    "        retailTbl.head())"
   ]
  },
  {
   "cell_type": "markdown",
   "metadata": {},
   "source": [
    "## Simple column updates in place"
   ]
  },
  {
   "cell_type": "code",
   "execution_count": 154,
   "metadata": {},
   "outputs": [
    {
     "data": {
      "text/html": [
       "<div class=\"cas-results-key\"><b>&#167; tableName</b></div>\n",
       "<div class=\"cas-results-body\">\n",
       "<div>RAND_RETAILDEMO</div>\n",
       "</div>\n",
       "<div class=\"cas-results-key\"><hr/><b>&#167; rowsUpdated</b></div>\n",
       "<div class=\"cas-results-body\">\n",
       "<div>930046</div>\n",
       "</div>\n",
       "<div class=\"cas-output-area\"></div>\n",
       "<p class=\"cas-results-performance\"><small><span class=\"cas-elapsed\">elapsed 0.137s</span> &#183; <span class=\"cas-user\">user 1.28s</span> &#183; <span class=\"cas-sys\">sys 0.233s</span> &#183; <span class=\"cas-memory\">mem 339MB</span></small></p>"
      ],
      "text/plain": [
       "[tableName]\n",
       "\n",
       " 'RAND_RETAILDEMO'\n",
       "\n",
       "[rowsUpdated]\n",
       "\n",
       " 930046\n",
       "\n",
       "+ Elapsed: 0.137s, user: 1.28s, sys: 0.233s, mem: 339mb"
      ]
     },
     "execution_count": 154,
     "metadata": {},
     "output_type": "execute_result"
    }
   ],
   "source": [
    "retailTbl.update(set = [\n",
    "    {'var':'brand_name', 'value':'upcase(brand_name)'},\n",
    "    {'var':'channeltype', 'value':'lowcase(channeltype)'},\n",
    "    {'var':'class', 'value':'propcase(class)'}\n",
    "])"
   ]
  },
  {
   "cell_type": "code",
   "execution_count": 155,
   "metadata": {},
   "outputs": [
    {
     "data": {
      "text/html": [
       "<div>\n",
       "<style scoped>\n",
       "    .dataframe tbody tr th:only-of-type {\n",
       "        vertical-align: middle;\n",
       "    }\n",
       "\n",
       "    .dataframe tbody tr th {\n",
       "        vertical-align: top;\n",
       "    }\n",
       "\n",
       "    .dataframe thead th {\n",
       "        text-align: right;\n",
       "    }\n",
       "</style>\n",
       "<table border=\"1\" class=\"dataframe\"><caption>Selected Rows from Table RAND_RETAILDEMO</caption>\n",
       "  <thead>\n",
       "    <tr style=\"text-align: right;\">\n",
       "      <th title=\"\"></th>\n",
       "      <th title=\"CustID\">custid</th>\n",
       "      <th title=\"12 week RFM Bucket\">bucket</th>\n",
       "      <th title=\"Customer Age\">age</th>\n",
       "      <th title=\"Loyalty Card\">loyalty_card</th>\n",
       "      <th title=\"Brand Name\">brand_name</th>\n",
       "      <th title=\"ChannelType\">channeltype</th>\n",
       "      <th title=\"Class\">class</th>\n",
       "    </tr>\n",
       "  </thead>\n",
       "  <tbody>\n",
       "    <tr>\n",
       "      <th>0</th>\n",
       "      <td>40506910.0</td>\n",
       "      <td>2.0</td>\n",
       "      <td>75.0</td>\n",
       "      <td>1.0</td>\n",
       "      <td>OAK</td>\n",
       "      <td>internet</td>\n",
       "      <td>Women_handbags</td>\n",
       "    </tr>\n",
       "    <tr>\n",
       "      <th>1</th>\n",
       "      <td>40506917.0</td>\n",
       "      <td>2.0</td>\n",
       "      <td>72.0</td>\n",
       "      <td>1.0</td>\n",
       "      <td>OAK</td>\n",
       "      <td>internet</td>\n",
       "      <td>Women_active</td>\n",
       "    </tr>\n",
       "    <tr>\n",
       "      <th>2</th>\n",
       "      <td>40506919.0</td>\n",
       "      <td>2.0</td>\n",
       "      <td>38.0</td>\n",
       "      <td>1.0</td>\n",
       "      <td>OAK</td>\n",
       "      <td>internet</td>\n",
       "      <td>Dairy</td>\n",
       "    </tr>\n",
       "    <tr>\n",
       "      <th>3</th>\n",
       "      <td>40506934.0</td>\n",
       "      <td>2.0</td>\n",
       "      <td>NaN</td>\n",
       "      <td>0.0</td>\n",
       "      <td>OAK</td>\n",
       "      <td>internet</td>\n",
       "      <td>Women_tops</td>\n",
       "    </tr>\n",
       "    <tr>\n",
       "      <th>4</th>\n",
       "      <td>40506942.0</td>\n",
       "      <td>2.0</td>\n",
       "      <td>50.0</td>\n",
       "      <td>1.0</td>\n",
       "      <td>OAK</td>\n",
       "      <td>internet</td>\n",
       "      <td>Women_tops</td>\n",
       "    </tr>\n",
       "  </tbody>\n",
       "</table>\n",
       "</div>"
      ],
      "text/plain": [
       "Selected Rows from Table RAND_RETAILDEMO\n",
       "\n",
       "       custid  bucket   age  loyalty_card brand_name channeltype  \\\n",
       "0  40506910.0     2.0  75.0           1.0        OAK    internet   \n",
       "1  40506917.0     2.0  72.0           1.0        OAK    internet   \n",
       "2  40506919.0     2.0  38.0           1.0        OAK    internet   \n",
       "3  40506934.0     2.0   NaN           0.0        OAK    internet   \n",
       "4  40506942.0     2.0  50.0           1.0        OAK    internet   \n",
       "\n",
       "            class  \n",
       "0  Women_handbags  \n",
       "1    Women_active  \n",
       "2           Dairy  \n",
       "3      Women_tops  \n",
       "4      Women_tops  "
      ]
     },
     "execution_count": 155,
     "metadata": {},
     "output_type": "execute_result"
    }
   ],
   "source": [
    "retailTbl.head()"
   ]
  },
  {
   "cell_type": "markdown",
   "metadata": {},
   "source": [
    "## Update column based on a conditions"
   ]
  },
  {
   "cell_type": "code",
   "execution_count": 156,
   "metadata": {},
   "outputs": [
    {
     "data": {
      "text/html": [
       "<div class=\"cas-results-key\"><b>&#167; Distinct</b></div>\n",
       "<div class=\"cas-results-body\">\n",
       "<div>\n",
       "<style scoped>\n",
       "    .dataframe tbody tr th:only-of-type {\n",
       "        vertical-align: middle;\n",
       "    }\n",
       "\n",
       "    .dataframe tbody tr th {\n",
       "        vertical-align: top;\n",
       "    }\n",
       "\n",
       "    .dataframe thead th {\n",
       "        text-align: right;\n",
       "    }\n",
       "</style>\n",
       "<table border=\"1\" class=\"dataframe\"><caption>Distinct Counts for RAND_RETAILDEMO</caption>\n",
       "  <thead>\n",
       "    <tr style=\"text-align: right;\">\n",
       "      <th title=\"\"></th>\n",
       "      <th title=\"Analysis Variable\">Column</th>\n",
       "      <th title=\"Number of Distinct Values\">NDistinct</th>\n",
       "      <th title=\"Number of Missing Values\">NMiss</th>\n",
       "      <th title=\"Truncated\">Trunc</th>\n",
       "    </tr>\n",
       "  </thead>\n",
       "  <tbody>\n",
       "    <tr>\n",
       "      <th>0</th>\n",
       "      <td>age</td>\n",
       "      <td>124.0</td>\n",
       "      <td>673447.0</td>\n",
       "      <td>0.0</td>\n",
       "    </tr>\n",
       "  </tbody>\n",
       "</table>\n",
       "</div>\n",
       "</div>\n",
       "<div class=\"cas-output-area\"></div>\n",
       "<p class=\"cas-results-performance\"><small><span class=\"cas-elapsed\">elapsed 0.0304s</span> &#183; <span class=\"cas-user\">user 0.188s</span> &#183; <span class=\"cas-sys\">sys 0.00564s</span> &#183; <span class=\"cas-memory\">mem 4.88MB</span></small></p>"
      ],
      "text/plain": [
       "[Distinct]\n",
       "\n",
       " Distinct Counts for RAND_RETAILDEMO\n",
       " \n",
       "   Column  NDistinct     NMiss  Trunc\n",
       " 0    age      124.0  673447.0    0.0\n",
       "\n",
       "+ Elapsed: 0.0304s, user: 0.188s, sys: 0.00564s, mem: 4.88mb"
      ]
     },
     "execution_count": 156,
     "metadata": {},
     "output_type": "execute_result"
    }
   ],
   "source": [
    "retailTbl.distinct(inputs = 'age')"
   ]
  },
  {
   "cell_type": "markdown",
   "metadata": {},
   "source": [
    "Get the mean of the age column"
   ]
  },
  {
   "cell_type": "code",
   "execution_count": 157,
   "metadata": {},
   "outputs": [
    {
     "data": {
      "text/plain": [
       "43.577"
      ]
     },
     "execution_count": 157,
     "metadata": {},
     "output_type": "execute_result"
    }
   ],
   "source": [
    "meanAge = retailTbl.age.mean().round(3)\n",
    "meanAge"
   ]
  },
  {
   "cell_type": "code",
   "execution_count": 158,
   "metadata": {},
   "outputs": [
    {
     "data": {
      "text/html": [
       "<div class=\"cas-results-key\"><b>&#167; tableName</b></div>\n",
       "<div class=\"cas-results-body\">\n",
       "<div>RAND_RETAILDEMO</div>\n",
       "</div>\n",
       "<div class=\"cas-results-key\"><hr/><b>&#167; rowsUpdated</b></div>\n",
       "<div class=\"cas-results-body\">\n",
       "<div>673447</div>\n",
       "</div>\n",
       "<div class=\"cas-output-area\"></div>\n",
       "<p class=\"cas-results-performance\"><small><span class=\"cas-elapsed\">elapsed 0.094s</span> &#183; <span class=\"cas-user\">user 0.49s</span> &#183; <span class=\"cas-sys\">sys 0.184s</span> &#183; <span class=\"cas-memory\">mem 267MB</span></small></p>"
      ],
      "text/plain": [
       "[tableName]\n",
       "\n",
       " 'RAND_RETAILDEMO'\n",
       "\n",
       "[rowsUpdated]\n",
       "\n",
       " 673447\n",
       "\n",
       "+ Elapsed: 0.094s, user: 0.49s, sys: 0.184s, mem: 267mb"
      ]
     },
     "execution_count": 158,
     "metadata": {},
     "output_type": "execute_result"
    }
   ],
   "source": [
    "(retailTbl\n",
    " .query(\"age is null\")\n",
    " .update(set = [\n",
    "     {'var':'age', 'value':f'{meanAge}'}])\n",
    ")"
   ]
  },
  {
   "cell_type": "markdown",
   "metadata": {},
   "source": [
    "### Confirm no missing values exists in age"
   ]
  },
  {
   "cell_type": "code",
   "execution_count": 159,
   "metadata": {},
   "outputs": [
    {
     "data": {
      "text/html": [
       "<div class=\"cas-results-key\"><b>&#167; Distinct</b></div>\n",
       "<div class=\"cas-results-body\">\n",
       "<div>\n",
       "<style scoped>\n",
       "    .dataframe tbody tr th:only-of-type {\n",
       "        vertical-align: middle;\n",
       "    }\n",
       "\n",
       "    .dataframe tbody tr th {\n",
       "        vertical-align: top;\n",
       "    }\n",
       "\n",
       "    .dataframe thead th {\n",
       "        text-align: right;\n",
       "    }\n",
       "</style>\n",
       "<table border=\"1\" class=\"dataframe\"><caption>Distinct Counts for RAND_RETAILDEMO</caption>\n",
       "  <thead>\n",
       "    <tr style=\"text-align: right;\">\n",
       "      <th title=\"\"></th>\n",
       "      <th title=\"Analysis Variable\">Column</th>\n",
       "      <th title=\"Number of Distinct Values\">NDistinct</th>\n",
       "      <th title=\"Number of Missing Values\">NMiss</th>\n",
       "      <th title=\"Truncated\">Trunc</th>\n",
       "    </tr>\n",
       "  </thead>\n",
       "  <tbody>\n",
       "    <tr>\n",
       "      <th>0</th>\n",
       "      <td>age</td>\n",
       "      <td>124.0</td>\n",
       "      <td>0.0</td>\n",
       "      <td>0.0</td>\n",
       "    </tr>\n",
       "  </tbody>\n",
       "</table>\n",
       "</div>\n",
       "</div>\n",
       "<div class=\"cas-output-area\"></div>\n",
       "<p class=\"cas-results-performance\"><small><span class=\"cas-elapsed\">elapsed 0.0266s</span> &#183; <span class=\"cas-user\">user 0.35s</span> &#183; <span class=\"cas-sys\">sys 0.00572s</span> &#183; <span class=\"cas-memory\">mem 4.9MB</span></small></p>"
      ],
      "text/plain": [
       "[Distinct]\n",
       "\n",
       " Distinct Counts for RAND_RETAILDEMO\n",
       " \n",
       "   Column  NDistinct  NMiss  Trunc\n",
       " 0    age      124.0    0.0    0.0\n",
       "\n",
       "+ Elapsed: 0.0266s, user: 0.35s, sys: 0.00572s, mem: 4.9mb"
      ]
     },
     "execution_count": 159,
     "metadata": {},
     "output_type": "execute_result"
    }
   ],
   "source": [
    "retailTbl.distinct(inputs = 'age')"
   ]
  },
  {
   "cell_type": "markdown",
   "metadata": {},
   "source": [
    "Notice that all the missing values (673,447) are now the mean age (44)"
   ]
  },
  {
   "cell_type": "code",
   "execution_count": 160,
   "metadata": {},
   "outputs": [
    {
     "data": {
      "text/plain": [
       "43.577     673447\n",
       "19.000       6996\n",
       "23.000       6944\n",
       "24.000       6941\n",
       "21.000       6882\n",
       "            ...  \n",
       "97.000         26\n",
       "98.000         25\n",
       "94.000         21\n",
       "105.000        20\n",
       "140.000        18\n",
       "Length: 124, dtype: int64"
      ]
     },
     "execution_count": 160,
     "metadata": {},
     "output_type": "execute_result"
    }
   ],
   "source": [
    "(retailTbl\n",
    " .age\n",
    " .value_counts()\n",
    ")"
   ]
  },
  {
   "cell_type": "markdown",
   "metadata": {},
   "source": [
    "## Save the CAS table as a data soure file"
   ]
  },
  {
   "cell_type": "code",
   "execution_count": 149,
   "metadata": {},
   "outputs": [
    {
     "name": "stdout",
     "output_type": "stream",
     "text": [
      "NOTE: Cloud Analytic Services saved the file retail_clean.sashdat in caslib CASUSER(Peter.Styliadis@sas.com).\n"
     ]
    },
    {
     "data": {
      "text/html": [
       "<div class=\"cas-results-key\"><b>&#167; caslib</b></div>\n",
       "<div class=\"cas-results-body\">\n",
       "<div>CASUSER(Peter.Styliadis@sas.com)</div>\n",
       "</div>\n",
       "<div class=\"cas-results-key\"><hr/><b>&#167; name</b></div>\n",
       "<div class=\"cas-results-body\">\n",
       "<div>retail_clean.sashdat</div>\n",
       "</div>\n",
       "<div class=\"cas-output-area\"></div>\n",
       "<p class=\"cas-results-performance\"><small><span class=\"cas-elapsed\">elapsed 0.506s</span> &#183; <span class=\"cas-user\">user 0.245s</span> &#183; <span class=\"cas-sys\">sys 0.0735s</span> &#183; <span class=\"cas-memory\">mem 82.9MB</span></small></p>"
      ],
      "text/plain": [
       "[caslib]\n",
       "\n",
       " 'CASUSER(Peter.Styliadis@sas.com)'\n",
       "\n",
       "[name]\n",
       "\n",
       " 'retail_clean.sashdat'\n",
       "\n",
       "+ Elapsed: 0.506s, user: 0.245s, sys: 0.0735s, mem: 82.9mb"
      ]
     },
     "execution_count": 149,
     "metadata": {},
     "output_type": "execute_result"
    }
   ],
   "source": [
    "retailTbl.save(name = 'retail_clean.sashdat', caslib = 'casuser')"
   ]
  },
  {
   "cell_type": "code",
   "execution_count": 151,
   "metadata": {},
   "outputs": [
    {
     "data": {
      "text/html": [
       "<div class=\"cas-results-key\"><b>&#167; FileInfo</b></div>\n",
       "<div class=\"cas-results-body\">\n",
       "<div>\n",
       "<style scoped>\n",
       "    .dataframe tbody tr th:only-of-type {\n",
       "        vertical-align: middle;\n",
       "    }\n",
       "\n",
       "    .dataframe tbody tr th {\n",
       "        vertical-align: top;\n",
       "    }\n",
       "\n",
       "    .dataframe thead th {\n",
       "        text-align: right;\n",
       "    }\n",
       "</style>\n",
       "<table border=\"1\" class=\"dataframe\">\n",
       "  <thead>\n",
       "    <tr style=\"text-align: right;\">\n",
       "      <th title=\"\"></th>\n",
       "      <th title=\"Permission\">Permission</th>\n",
       "      <th title=\"Owner\">Owner</th>\n",
       "      <th title=\"Group\">Group</th>\n",
       "      <th title=\"Name\">Name</th>\n",
       "      <th title=\"Size of File in Bytes\">Size</th>\n",
       "      <th title=\"Encryption Method\">Encryption</th>\n",
       "      <th title=\"Time\">Time</th>\n",
       "      <th title=\"ModTime\">ModTime</th>\n",
       "    </tr>\n",
       "  </thead>\n",
       "  <tbody>\n",
       "    <tr>\n",
       "      <th>0</th>\n",
       "      <td>-rw-r--r--</td>\n",
       "      <td>Peter.Styliadis@sas.com</td>\n",
       "      <td>v4e_users</td>\n",
       "      <td>test.csv</td>\n",
       "      <td>65</td>\n",
       "      <td></td>\n",
       "      <td>2022-06-29T12:56:17-04:00</td>\n",
       "      <td>1.972141e+09</td>\n",
       "    </tr>\n",
       "    <tr>\n",
       "      <th>1</th>\n",
       "      <td>-rwxr-xr-x</td>\n",
       "      <td>Peter.Styliadis@sas.com</td>\n",
       "      <td>v4e_users</td>\n",
       "      <td>sales.sas7bdat</td>\n",
       "      <td>73728</td>\n",
       "      <td></td>\n",
       "      <td>2023-02-06T14:19:30-04:00</td>\n",
       "      <td>1.991327e+09</td>\n",
       "    </tr>\n",
       "    <tr>\n",
       "      <th>2</th>\n",
       "      <td>-rwxr-xr-x</td>\n",
       "      <td>Peter.Styliadis@sas.com</td>\n",
       "      <td>v4e_users</td>\n",
       "      <td>sales.csv</td>\n",
       "      <td>10506</td>\n",
       "      <td></td>\n",
       "      <td>2022-12-09T12:14:52-04:00</td>\n",
       "      <td>1.986222e+09</td>\n",
       "    </tr>\n",
       "    <tr>\n",
       "      <th>3</th>\n",
       "      <td>-rwxr-xr-x</td>\n",
       "      <td>Peter.Styliadis@sas.com</td>\n",
       "      <td>v4e_users</td>\n",
       "      <td>heart_raw.sashdat</td>\n",
       "      <td>1051328</td>\n",
       "      <td>NONE</td>\n",
       "      <td>2022-10-12T13:06:07-04:00</td>\n",
       "      <td>1.981214e+09</td>\n",
       "    </tr>\n",
       "    <tr>\n",
       "      <th>4</th>\n",
       "      <td>-rwxr-xr-x</td>\n",
       "      <td>Peter.Styliadis@sas.com</td>\n",
       "      <td>v4e_users</td>\n",
       "      <td>products.xlsx</td>\n",
       "      <td>225072</td>\n",
       "      <td></td>\n",
       "      <td>2022-12-09T12:15:02-04:00</td>\n",
       "      <td>1.986222e+09</td>\n",
       "    </tr>\n",
       "    <tr>\n",
       "      <th>5</th>\n",
       "      <td>-rwxr-xr-x</td>\n",
       "      <td>Peter.Styliadis@sas.com</td>\n",
       "      <td>v4e_users</td>\n",
       "      <td>orders_hd.sashdat</td>\n",
       "      <td>1728621720</td>\n",
       "      <td>NONE</td>\n",
       "      <td>2022-12-09T12:15:01-04:00</td>\n",
       "      <td>1.986222e+09</td>\n",
       "    </tr>\n",
       "    <tr>\n",
       "      <th>6</th>\n",
       "      <td>-rwxr-xr-x</td>\n",
       "      <td>Peter.Styliadis@sas.com</td>\n",
       "      <td>v4e_users</td>\n",
       "      <td>tsa_claims_raw.csv</td>\n",
       "      <td>34936237</td>\n",
       "      <td></td>\n",
       "      <td>2023-01-04T13:50:33-04:00</td>\n",
       "      <td>1.988474e+09</td>\n",
       "    </tr>\n",
       "    <tr>\n",
       "      <th>7</th>\n",
       "      <td>drwxr-xr-x</td>\n",
       "      <td>Peter.Styliadis@sas.com</td>\n",
       "      <td>v4e_users</td>\n",
       "      <td>warranty_demo.parquet</td>\n",
       "      <td>4096</td>\n",
       "      <td></td>\n",
       "      <td>2023-02-21T15:47:19-04:00</td>\n",
       "      <td>1.992628e+09</td>\n",
       "    </tr>\n",
       "    <tr>\n",
       "      <th>8</th>\n",
       "      <td>-rwxr-xr-x</td>\n",
       "      <td>Peter.Styliadis@sas.com</td>\n",
       "      <td>v4e_users</td>\n",
       "      <td>warranty_demo.csv</td>\n",
       "      <td>53297896</td>\n",
       "      <td></td>\n",
       "      <td>2023-02-27T20:01:49-04:00</td>\n",
       "      <td>1.993162e+09</td>\n",
       "    </tr>\n",
       "    <tr>\n",
       "      <th>9</th>\n",
       "      <td>-rwxr-xr-x</td>\n",
       "      <td>Peter.Styliadis@sas.com</td>\n",
       "      <td>v4e_users</td>\n",
       "      <td>myfinaltable.sashdat</td>\n",
       "      <td>74432416</td>\n",
       "      <td>NONE</td>\n",
       "      <td>2023-03-13T13:01:42-04:00</td>\n",
       "      <td>1.994346e+09</td>\n",
       "    </tr>\n",
       "    <tr>\n",
       "      <th>10</th>\n",
       "      <td>-rwxr-xr-x</td>\n",
       "      <td>Peter.Styliadis@sas.com</td>\n",
       "      <td>v4e_users</td>\n",
       "      <td>retail_clean.sashdat</td>\n",
       "      <td>66980272</td>\n",
       "      <td>NONE</td>\n",
       "      <td>2023-03-20T19:17:41-04:00</td>\n",
       "      <td>1.994973e+09</td>\n",
       "    </tr>\n",
       "  </tbody>\n",
       "</table>\n",
       "</div>\n",
       "</div>\n",
       "<div class=\"cas-output-area\"></div>\n",
       "<p class=\"cas-results-performance\"><small><span class=\"cas-elapsed\">elapsed 0.00366s</span> &#183; <span class=\"cas-user\">user 3.3e-05s</span> &#183; <span class=\"cas-sys\">sys 0.00164s</span> &#183; <span class=\"cas-memory\">mem 0.683MB</span></small></p>"
      ],
      "text/plain": [
       "[FileInfo]\n",
       "\n",
       "     Permission                    Owner      Group                   Name  \\\n",
       " 0   -rw-r--r--  Peter.Styliadis@sas.com  v4e_users               test.csv   \n",
       " 1   -rwxr-xr-x  Peter.Styliadis@sas.com  v4e_users         sales.sas7bdat   \n",
       " 2   -rwxr-xr-x  Peter.Styliadis@sas.com  v4e_users              sales.csv   \n",
       " 3   -rwxr-xr-x  Peter.Styliadis@sas.com  v4e_users      heart_raw.sashdat   \n",
       " 4   -rwxr-xr-x  Peter.Styliadis@sas.com  v4e_users          products.xlsx   \n",
       " 5   -rwxr-xr-x  Peter.Styliadis@sas.com  v4e_users      orders_hd.sashdat   \n",
       " 6   -rwxr-xr-x  Peter.Styliadis@sas.com  v4e_users     tsa_claims_raw.csv   \n",
       " 7   drwxr-xr-x  Peter.Styliadis@sas.com  v4e_users  warranty_demo.parquet   \n",
       " 8   -rwxr-xr-x  Peter.Styliadis@sas.com  v4e_users      warranty_demo.csv   \n",
       " 9   -rwxr-xr-x  Peter.Styliadis@sas.com  v4e_users   myfinaltable.sashdat   \n",
       " 10  -rwxr-xr-x  Peter.Styliadis@sas.com  v4e_users   retail_clean.sashdat   \n",
       " \n",
       "           Size Encryption                       Time       ModTime  \n",
       " 0           65             2022-06-29T12:56:17-04:00  1.972141e+09  \n",
       " 1        73728             2023-02-06T14:19:30-04:00  1.991327e+09  \n",
       " 2        10506             2022-12-09T12:14:52-04:00  1.986222e+09  \n",
       " 3      1051328       NONE  2022-10-12T13:06:07-04:00  1.981214e+09  \n",
       " 4       225072             2022-12-09T12:15:02-04:00  1.986222e+09  \n",
       " 5   1728621720       NONE  2022-12-09T12:15:01-04:00  1.986222e+09  \n",
       " 6     34936237             2023-01-04T13:50:33-04:00  1.988474e+09  \n",
       " 7         4096             2023-02-21T15:47:19-04:00  1.992628e+09  \n",
       " 8     53297896             2023-02-27T20:01:49-04:00  1.993162e+09  \n",
       " 9     74432416       NONE  2023-03-13T13:01:42-04:00  1.994346e+09  \n",
       " 10    66980272       NONE  2023-03-20T19:17:41-04:00  1.994973e+09  \n",
       "\n",
       "+ Elapsed: 0.00366s, user: 3.3e-05s, sys: 0.00164s, mem: 0.683mb"
      ]
     },
     "execution_count": 151,
     "metadata": {},
     "output_type": "execute_result"
    }
   ],
   "source": [
    "conn.fileInfo(caslib = 'casuser')"
   ]
  },
  {
   "cell_type": "markdown",
   "metadata": {},
   "source": [
    "## Delete the source file"
   ]
  },
  {
   "cell_type": "code",
   "execution_count": 148,
   "metadata": {},
   "outputs": [
    {
     "name": "stdout",
     "output_type": "stream",
     "text": [
      "NOTE: Cloud Analytic Services removed the source data retail_clean.sashdat from caslib CASUSER(Peter.Styliadis@sas.com).\n"
     ]
    },
    {
     "data": {
      "text/html": [
       "<div class=\"cas-output-area\"></div>\n",
       "<p class=\"cas-results-performance\"><small><span class=\"cas-elapsed\">elapsed 0.00156s</span> &#183; <span class=\"cas-user\">user 0.000476s</span> &#183; <span class=\"cas-sys\">sys 9.3e-05s</span> &#183; <span class=\"cas-memory\">mem 0.274MB</span></small></p>"
      ],
      "text/plain": [
       "+ Elapsed: 0.00156s, user: 0.000476s, sys: 9.3e-05s, mem: 0.274mb"
      ]
     },
     "execution_count": 148,
     "metadata": {},
     "output_type": "execute_result"
    }
   ],
   "source": [
    "conn.deleteSource(source = 'retail_clean.sashdat', caslib = 'casuser')"
   ]
  },
  {
   "cell_type": "markdown",
   "metadata": {},
   "source": [
    "## Terminate the CAS connection"
   ]
  },
  {
   "cell_type": "code",
   "execution_count": null,
   "metadata": {},
   "outputs": [],
   "source": [
    "conn.terminate()"
   ]
  }
 ],
 "metadata": {
  "kernelspec": {
   "display_name": "Python 3",
   "language": "python",
   "name": "python3"
  },
  "language_info": {
   "codemirror_mode": {
    "name": "ipython",
    "version": 3
   },
   "file_extension": ".py",
   "mimetype": "text/x-python",
   "name": "python",
   "nbconvert_exporter": "python",
   "pygments_lexer": "ipython3",
   "version": "3.7.7"
  }
 },
 "nbformat": 4,
 "nbformat_minor": 2
}
