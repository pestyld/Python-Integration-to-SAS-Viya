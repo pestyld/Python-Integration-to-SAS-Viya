{
 "cells": [
  {
   "cell_type": "markdown",
   "metadata": {},
   "source": [
    "# Group and Aggregate CAS Tables\n",
    "[Getting Started with Python Integration to SAS® Viya® - Part 9 - Summarize Columns](https://blogs.sas.com/content/sgf/2022/10/06/getting-started-with-python-integration-to-sas-viya-part-10-group-and-aggregate-cas-tables/) blog post"
   ]
  },
  {
   "cell_type": "markdown",
   "metadata": {},
   "source": [
    "## Import Packages\n",
    "Visit the documentation for the SWAT [(SAS Scripting Wrapper for Analytics Transfer)](https://sassoftware.github.io/python-swat/index.html) package."
   ]
  },
  {
   "cell_type": "code",
   "execution_count": 1,
   "metadata": {},
   "outputs": [],
   "source": [
    "import swat\n",
    "import pandas as pd\n",
    "\n",
    "## custom personal module to connect to my CAS server environment\n",
    "from casConnect import connect_to_cas "
   ]
  },
  {
   "cell_type": "markdown",
   "metadata": {},
   "source": [
    "## Make a Connection to CAS (REQUIRED: MODIFY CONNECTION INFORMATION)\n",
    "\n",
    "##### To connect to the CAS server you will need:\n",
    "1. the host name, \n",
    "2. the portnumber, \n",
    "3. your user name, and your password.\n",
    "\n",
    "Visit the documentation [Getting Started with SAS® Viya® for Python](https://go.documentation.sas.com/doc/en/pgmsascdc/default/caspg3/titlepage.htm) for more information about connecting to CAS.\n",
    "\n",
    "**Be aware that connecting to the CAS server can be implemented in various ways, so you might need to see your system administrator about how to make a connection. Please follow company policy regarding authentication.**"
   ]
  },
  {
   "cell_type": "code",
   "execution_count": 2,
   "metadata": {},
   "outputs": [
    {
     "name": "stdout",
     "output_type": "stream",
     "text": [
      "CAS connection succesful\n",
      "CAS('ssemonthly.demo.sas.com', 443, protocol='https', name='py-session-1', session='ba763425-88c6-1e43-9a33-8b200370fed5')\n"
     ]
    }
   ],
   "source": [
    "##\n",
    "## Connect to CAS\n",
    "##\n",
    "\n",
    "## General connection syntax\n",
    "# conn = swat.CAS(host, port, username, password)\n",
    "\n",
    "## SAS Viya for Learners 3.5 connection\n",
    "# hostValue = os.environ.get('CASHOST')\n",
    "# portValue = os.environ.get('CASPORT')\n",
    "# passwordToken=os.environ.get('SAS_VIYA_TOKEN')\n",
    "# conn = swat.CAS(hostname=hostValue, port=portValue, password=passwordToken)\n",
    "\n",
    "## Personal connection\n",
    "try:\n",
    "    conn = connect_to_cas()\n",
    "    print('CAS connection succesful')\n",
    "    print(conn)\n",
    "except:\n",
    "    print('No connection')\n",
    "    pass"
   ]
  },
  {
   "cell_type": "markdown",
   "metadata": {},
   "source": [
    "## Load and explore data"
   ]
  },
  {
   "cell_type": "code",
   "execution_count": 3,
   "metadata": {},
   "outputs": [
    {
     "name": "stdout",
     "output_type": "stream",
     "text": [
      "NOTE: Cloud Analytic Services made the file WATER_CLUSTER.sashdat available as table WATER_CLUSTER in caslib CASUSER(Peter.Styliadis@sas.com).\n"
     ]
    },
    {
     "data": {
      "text/html": [
       "<div>\n",
       "<style scoped>\n",
       "    .dataframe tbody tr th:only-of-type {\n",
       "        vertical-align: middle;\n",
       "    }\n",
       "\n",
       "    .dataframe tbody tr th {\n",
       "        vertical-align: top;\n",
       "    }\n",
       "\n",
       "    .dataframe thead th {\n",
       "        text-align: right;\n",
       "    }\n",
       "</style>\n",
       "<table border=\"1\" class=\"dataframe\"><caption>Selected Rows from Table WATER_CLUSTER</caption>\n",
       "  <thead>\n",
       "    <tr style=\"text-align: right;\">\n",
       "      <th title=\"\"></th>\n",
       "      <th title=\"Year\">Year</th>\n",
       "      <th title=\"Month\">Month</th>\n",
       "      <th title=\"Day\">Day</th>\n",
       "      <th title=\"Date\">Date</th>\n",
       "      <th title=\"Serial\">Serial</th>\n",
       "      <th title=\"Property\">Property</th>\n",
       "      <th title=\"Address\">Address</th>\n",
       "      <th title=\"City\">City</th>\n",
       "      <th title=\"Zip\">Zip</th>\n",
       "      <th title=\"Lat\">Lat</th>\n",
       "      <th title=\"Property_type\">Property_type</th>\n",
       "      <th title=\"Meter_Location\">Meter_Location</th>\n",
       "      <th title=\"Clli\">Clli</th>\n",
       "      <th title=\"DMA\">DMA</th>\n",
       "      <th title=\"Weekday\">Weekday</th>\n",
       "      <th title=\"Weekend\">Weekend</th>\n",
       "      <th title=\"Daily_W_C_M3\">Daily_W_C_M3</th>\n",
       "      <th title=\"Week\">Week</th>\n",
       "      <th title=\"US Holiday\">US Holiday</th>\n",
       "      <th title=\"Cluster\">CLUSTER</th>\n",
       "    </tr>\n",
       "  </thead>\n",
       "  <tbody>\n",
       "    <tr>\n",
       "      <td>0</td>\n",
       "      <td>2014.0</td>\n",
       "      <td>1.0</td>\n",
       "      <td>31.0</td>\n",
       "      <td>2014-01-31</td>\n",
       "      <td>955.0</td>\n",
       "      <td>773.0</td>\n",
       "      <td>1800 POST OAK BLVD</td>\n",
       "      <td>HOUSTON</td>\n",
       "      <td>77056.0</td>\n",
       "      <td>-95.461478</td>\n",
       "      <td>0.0</td>\n",
       "      <td>internal</td>\n",
       "      <td>HSTNTXNA</td>\n",
       "      <td>1.0</td>\n",
       "      <td>6.0</td>\n",
       "      <td>0.0</td>\n",
       "      <td>4.376</td>\n",
       "      <td>4.0</td>\n",
       "      <td></td>\n",
       "      <td>4.0</td>\n",
       "    </tr>\n",
       "    <tr>\n",
       "      <td>1</td>\n",
       "      <td>2015.0</td>\n",
       "      <td>12.0</td>\n",
       "      <td>26.0</td>\n",
       "      <td>2015-12-26</td>\n",
       "      <td>1076.0</td>\n",
       "      <td>879.0</td>\n",
       "      <td>1811 E CROSSTIMBERS ST</td>\n",
       "      <td>HOUSTON</td>\n",
       "      <td>77093.0</td>\n",
       "      <td>-95.352264</td>\n",
       "      <td>0.0</td>\n",
       "      <td>external</td>\n",
       "      <td>HSTNTXOX</td>\n",
       "      <td>2.0</td>\n",
       "      <td>5.0</td>\n",
       "      <td>0.0</td>\n",
       "      <td>1.515</td>\n",
       "      <td>51.0</td>\n",
       "      <td></td>\n",
       "      <td>4.0</td>\n",
       "    </tr>\n",
       "    <tr>\n",
       "      <td>2</td>\n",
       "      <td>2014.0</td>\n",
       "      <td>1.0</td>\n",
       "      <td>19.0</td>\n",
       "      <td>2014-01-19</td>\n",
       "      <td>955.0</td>\n",
       "      <td>773.0</td>\n",
       "      <td>1800 POST OAK BLVD</td>\n",
       "      <td>HOUSTON</td>\n",
       "      <td>77056.0</td>\n",
       "      <td>-95.461478</td>\n",
       "      <td>0.0</td>\n",
       "      <td>internal</td>\n",
       "      <td>HSTNTXNA</td>\n",
       "      <td>1.0</td>\n",
       "      <td>1.0</td>\n",
       "      <td>1.0</td>\n",
       "      <td>1.694</td>\n",
       "      <td>3.0</td>\n",
       "      <td></td>\n",
       "      <td>4.0</td>\n",
       "    </tr>\n",
       "    <tr>\n",
       "      <td>3</td>\n",
       "      <td>2014.0</td>\n",
       "      <td>5.0</td>\n",
       "      <td>9.0</td>\n",
       "      <td>2014-05-09</td>\n",
       "      <td>871.0</td>\n",
       "      <td>706.0</td>\n",
       "      <td>17575 ALDINE WESTFIELD RD</td>\n",
       "      <td>HOUSTON</td>\n",
       "      <td>77073.0</td>\n",
       "      <td>-95.364653</td>\n",
       "      <td>0.0</td>\n",
       "      <td>external</td>\n",
       "      <td>HSTNTXWE</td>\n",
       "      <td>1.0</td>\n",
       "      <td>6.0</td>\n",
       "      <td>0.0</td>\n",
       "      <td>0.728</td>\n",
       "      <td>18.0</td>\n",
       "      <td></td>\n",
       "      <td>4.0</td>\n",
       "    </tr>\n",
       "    <tr>\n",
       "      <td>4</td>\n",
       "      <td>2014.0</td>\n",
       "      <td>1.0</td>\n",
       "      <td>30.0</td>\n",
       "      <td>2014-01-30</td>\n",
       "      <td>955.0</td>\n",
       "      <td>773.0</td>\n",
       "      <td>1800 POST OAK BLVD</td>\n",
       "      <td>HOUSTON</td>\n",
       "      <td>77056.0</td>\n",
       "      <td>-95.461478</td>\n",
       "      <td>0.0</td>\n",
       "      <td>internal</td>\n",
       "      <td>HSTNTXNA</td>\n",
       "      <td>1.0</td>\n",
       "      <td>5.0</td>\n",
       "      <td>0.0</td>\n",
       "      <td>3.973</td>\n",
       "      <td>4.0</td>\n",
       "      <td></td>\n",
       "      <td>4.0</td>\n",
       "    </tr>\n",
       "  </tbody>\n",
       "</table>\n",
       "</div>"
      ],
      "text/plain": [
       "Selected Rows from Table WATER_CLUSTER\n",
       "\n",
       "     Year  Month   Day        Date  Serial  Property                    Address     City      Zip        Lat       Long  Property_type Meter_Location      Clli  DMA  Weekday  Weekend  Daily_W_C_M3  Week US Holiday  CLUSTER\n",
       "0  2014.0    1.0  31.0  2014-01-31   955.0     773.0         1800 POST OAK BLVD  HOUSTON  77056.0 -95.461478  29.748200            0.0       internal  HSTNTXNA  1.0      6.0      0.0         4.376   4.0                 4.0\n",
       "1  2015.0   12.0  26.0  2015-12-26  1076.0     879.0     1811 E CROSSTIMBERS ST  HOUSTON  77093.0 -95.352264  29.828844            0.0       external  HSTNTXOX  2.0      5.0      0.0         1.515  51.0                 4.0\n",
       "2  2014.0    1.0  19.0  2014-01-19   955.0     773.0         1800 POST OAK BLVD  HOUSTON  77056.0 -95.461478  29.748200            0.0       internal  HSTNTXNA  1.0      1.0      1.0         1.694   3.0                 4.0\n",
       "3  2014.0    5.0   9.0  2014-05-09   871.0     706.0  17575 ALDINE WESTFIELD RD  HOUSTON  77073.0 -95.364653  29.976798            0.0       external  HSTNTXWE  1.0      6.0      0.0         0.728  18.0                 4.0\n",
       "4  2014.0    1.0  30.0  2014-01-30   955.0     773.0         1800 POST OAK BLVD  HOUSTON  77056.0 -95.461478  29.748200            0.0       internal  HSTNTXNA  1.0      5.0      0.0         3.973   4.0                 4.0"
      ]
     },
     "execution_count": 3,
     "metadata": {},
     "output_type": "execute_result"
    }
   ],
   "source": [
    "conn.loadTable(path = 'WATER_CLUSTER.sashdat', caslib = 'samples',\n",
    "                            casOut = dict(caslib = 'casuser'))\n",
    " \n",
    "tbl = conn.CASTable('water_cluster', caslib='casuser')\n",
    " \n",
    "tbl.head()"
   ]
  },
  {
   "cell_type": "markdown",
   "metadata": {},
   "source": [
    "## Using the SWAT groupby method"
   ]
  },
  {
   "cell_type": "code",
   "execution_count": 4,
   "metadata": {},
   "outputs": [
    {
     "data": {
      "text/plain": [
       "swat.cas.table.CASTableGroupBy"
      ]
     },
     "execution_count": 4,
     "metadata": {},
     "output_type": "execute_result"
    }
   ],
   "source": [
    "type(tbl.groupby('Serial')) "
   ]
  },
  {
   "cell_type": "code",
   "execution_count": 5,
   "metadata": {},
   "outputs": [
    {
     "data": {
      "text/plain": [
       "Serial\n",
       "140.0        659.394\n",
       "141.0      19503.757\n",
       "198.0     263599.819\n",
       "541.0       1873.732\n",
       "542.0         53.159\n",
       "             ...    \n",
       "2345.0       294.313\n",
       "2366.0       327.090\n",
       "2367.0     12321.214\n",
       "2440.0       728.555\n",
       "2451.0       639.289\n",
       "Name: Daily_W_C_M3, Length: 64, dtype: float64"
      ]
     },
     "metadata": {},
     "output_type": "display_data"
    }
   ],
   "source": [
    "df_serial = (tbl                    ## CAS table reference\n",
    "             .groupby('Serial')     ## Group the CAS table\n",
    "             .Daily_W_C_M3          ## Specify the CAS table column to aggregate\n",
    "             .sum()                 ## Specify the aggregation\n",
    ")\n",
    " \n",
    "display(df_serial)"
   ]
  },
  {
   "cell_type": "code",
   "execution_count": 6,
   "metadata": {},
   "outputs": [
    {
     "data": {
      "text/plain": [
       "Weekend\n",
       "Weekday    8.254251\n",
       "Weekend    9.438843\n",
       "Name: Daily_W_C_M3, dtype: float64"
      ]
     },
     "execution_count": 6,
     "metadata": {},
     "output_type": "execute_result"
    }
   ],
   "source": [
    "(tbl                      ## CAS table reference          \n",
    " .groupby('Weekend')      ## Group the CAS table\n",
    " .Daily_W_C_M3            ## Specify the CAS table column to aggregate\n",
    " .mean()                  ## Specify the aggregation\n",
    " .rename({0:'Weekday',    ## Rename the values in the Series object returned from the CAS server on the client\n",
    "          1:'Weekend'})\n",
    ")"
   ]
  },
  {
   "cell_type": "markdown",
   "metadata": {},
   "source": [
    "## Using the CASTable groupby parameter"
   ]
  },
  {
   "cell_type": "code",
   "execution_count": 7,
   "metadata": {},
   "outputs": [
    {
     "data": {
      "text/plain": [
       "{'name': 'water_cluster', 'caslib': 'casuser'}"
      ]
     },
     "execution_count": 7,
     "metadata": {},
     "output_type": "execute_result"
    }
   ],
   "source": [
    "tbl.params"
   ]
  },
  {
   "cell_type": "code",
   "execution_count": 8,
   "metadata": {},
   "outputs": [],
   "source": [
    "tbl.groupby = 'Weekend'"
   ]
  },
  {
   "cell_type": "code",
   "execution_count": 9,
   "metadata": {},
   "outputs": [
    {
     "data": {
      "text/plain": [
       "{'name': 'water_cluster', 'caslib': 'casuser', 'groupby': 'Weekend'}"
      ]
     },
     "execution_count": 9,
     "metadata": {},
     "output_type": "execute_result"
    }
   ],
   "source": [
    "tbl.params"
   ]
  },
  {
   "cell_type": "code",
   "execution_count": 10,
   "metadata": {},
   "outputs": [
    {
     "data": {
      "text/plain": [
       "Weekend\n",
       "Weekday    8.254251\n",
       "Weekend    9.438843\n",
       "Name: Daily_W_C_M3, dtype: float64"
      ]
     },
     "execution_count": 10,
     "metadata": {},
     "output_type": "execute_result"
    }
   ],
   "source": [
    "(tbl                      ## CAS table reference with the groupby parameter\n",
    " .Daily_W_C_M3            ## Specify the CAS table column to aggregate\n",
    " .mean()                  ## Specify the aggregation\n",
    " .rename({0:'Weekday',    ## Rename the values in the Series object returned from the CAS server on the client\n",
    "          1:'Weekend'})\n",
    ")"
   ]
  },
  {
   "cell_type": "markdown",
   "metadata": {},
   "source": [
    "## Terminate the CAS Connection"
   ]
  },
  {
   "cell_type": "code",
   "execution_count": 11,
   "metadata": {},
   "outputs": [],
   "source": [
    "conn.terminate()"
   ]
  },
  {
   "cell_type": "markdown",
   "metadata": {},
   "source": [
    " "
   ]
  }
 ],
 "metadata": {
  "kernelspec": {
   "display_name": "Python 3 (ipykernel)",
   "language": "python",
   "name": "python3"
  },
  "language_info": {
   "codemirror_mode": {
    "name": "ipython",
    "version": 3
   },
   "file_extension": ".py",
   "mimetype": "text/x-python",
   "name": "python",
   "nbconvert_exporter": "python",
   "pygments_lexer": "ipython3",
   "version": "3.8.16"
  }
 },
 "nbformat": 4,
 "nbformat_minor": 4
}
