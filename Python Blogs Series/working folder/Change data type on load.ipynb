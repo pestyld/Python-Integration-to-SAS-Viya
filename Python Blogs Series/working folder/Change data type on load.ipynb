{
 "cells": [
  {
   "cell_type": "code",
   "execution_count": 278,
   "id": "c9179ef7-5c6d-4179-98c6-2f053f7e7c86",
   "metadata": {},
   "outputs": [
    {
     "name": "stdout",
     "output_type": "stream",
     "text": [
      "1.9.3\n",
      "1.2.4\n"
     ]
    }
   ],
   "source": [
    "import swat\n",
    "import pandas as pd\n",
    "\n",
    "\n",
    "print(swat.__version__)\n",
    "print(pd.__version__)"
   ]
  },
  {
   "cell_type": "code",
   "execution_count": null,
   "id": "30a2694e-0eb1-4c88-8d19-522639052735",
   "metadata": {},
   "outputs": [],
   "source": [
    "conn = swat.CAS('server.demo.sas.com', 30571, 'user', 'password')"
   ]
  },
  {
   "cell_type": "markdown",
   "id": "840e62fe-50bb-4d65-b087-e100d1657b70",
   "metadata": {},
   "source": [
    "Create fake DataFrame"
   ]
  },
  {
   "cell_type": "code",
   "execution_count": 265,
   "id": "2a28b756-8551-48b5-a403-6ba90598505d",
   "metadata": {},
   "outputs": [
    {
     "data": {
      "text/html": [
       "<div>\n",
       "<style scoped>\n",
       "    .dataframe tbody tr th:only-of-type {\n",
       "        vertical-align: middle;\n",
       "    }\n",
       "\n",
       "    .dataframe tbody tr th {\n",
       "        vertical-align: top;\n",
       "    }\n",
       "\n",
       "    .dataframe thead th {\n",
       "        text-align: right;\n",
       "    }\n",
       "</style>\n",
       "<table border=\"1\" class=\"dataframe\">\n",
       "  <thead>\n",
       "    <tr style=\"text-align: right;\">\n",
       "      <th></th>\n",
       "      <th>col1</th>\n",
       "    </tr>\n",
       "  </thead>\n",
       "  <tbody>\n",
       "    <tr>\n",
       "      <th>0</th>\n",
       "      <td>1000</td>\n",
       "    </tr>\n",
       "    <tr>\n",
       "      <th>1</th>\n",
       "      <td>300</td>\n",
       "    </tr>\n",
       "    <tr>\n",
       "      <th>2</th>\n",
       "      <td>2000</td>\n",
       "    </tr>\n",
       "  </tbody>\n",
       "</table>\n",
       "</div>"
      ],
      "text/plain": [
       "   col1\n",
       "0  1000\n",
       "1   300\n",
       "2  2000"
      ]
     },
     "execution_count": 265,
     "metadata": {},
     "output_type": "execute_result"
    }
   ],
   "source": [
    "df = pd.DataFrame({'col1':['1000', '300','2000']})\n",
    "df.head()"
   ]
  },
  {
   "cell_type": "markdown",
   "id": "90a5ca3d-c024-48fc-b575-2798bf56c85e",
   "metadata": {},
   "source": [
    "Upload DataFrame to CAS as the cas table mycastable."
   ]
  },
  {
   "cell_type": "code",
   "execution_count": 267,
   "id": "4190b9d2-64f3-4735-8479-93eb9999dc58",
   "metadata": {},
   "outputs": [
    {
     "name": "stdout",
     "output_type": "stream",
     "text": [
      "NOTE: Cloud Analytic Services made the uploaded file available as table MYCASTABLE in caslib CASUSER(student).\n",
      "NOTE: The table MYCASTABLE has been created in caslib CASUSER(student) from binary data uploaded to Cloud Analytic Services.\n"
     ]
    }
   ],
   "source": [
    "castbl = conn.upload_frame(df, \n",
    "                           casout = {'name':'mycastable','caslib':'casuser','replace':True})"
   ]
  },
  {
   "cell_type": "markdown",
   "id": "b8e64a15-4324-4953-8fa2-7c40bb5c464c",
   "metadata": {},
   "source": [
    "castbl is a CASTable object."
   ]
  },
  {
   "cell_type": "code",
   "execution_count": 270,
   "id": "9eb1470f-f617-4f58-91fe-d99a535dd457",
   "metadata": {},
   "outputs": [
    {
     "data": {
      "text/plain": [
       "swat.cas.table.CASTable"
      ]
     },
     "execution_count": 270,
     "metadata": {},
     "output_type": "execute_result"
    }
   ],
   "source": [
    "type(castbl)"
   ]
  },
  {
   "cell_type": "markdown",
   "id": "5e9a1f55-8ca9-475a-a766-ecd98400fcc1",
   "metadata": {},
   "source": [
    "Notice the column col1 was loaded as character even though it should be numeric. You can either fix it in the DataFrame itself, or you can fix it when loading to CAS."
   ]
  },
  {
   "cell_type": "code",
   "execution_count": 271,
   "id": "3321d845-65ff-4d37-9222-3bc12ef1321c",
   "metadata": {},
   "outputs": [
    {
     "data": {
      "text/html": [
       "<div class=\"cas-results-key\"><b>&#167; ColumnInfo</b></div>\n",
       "<div class=\"cas-results-body\">\n",
       "<div>\n",
       "<style scoped>\n",
       "    .dataframe tbody tr th:only-of-type {\n",
       "        vertical-align: middle;\n",
       "    }\n",
       "\n",
       "    .dataframe tbody tr th {\n",
       "        vertical-align: top;\n",
       "    }\n",
       "\n",
       "    .dataframe thead th {\n",
       "        text-align: right;\n",
       "    }\n",
       "</style>\n",
       "<table border=\"1\" class=\"dataframe\">\n",
       "  <thead>\n",
       "    <tr style=\"text-align: right;\">\n",
       "      <th title=\"\"></th>\n",
       "      <th title=\"Column\">Column</th>\n",
       "      <th title=\"Label\">Label</th>\n",
       "      <th title=\"ID\">ID</th>\n",
       "      <th title=\"Type\">Type</th>\n",
       "      <th title=\"RawLength\">RawLength</th>\n",
       "      <th title=\"FormattedLength\">FormattedLength</th>\n",
       "      <th title=\"Format\">Format</th>\n",
       "      <th title=\"NFL\">NFL</th>\n",
       "      <th title=\"NFD\">NFD</th>\n",
       "    </tr>\n",
       "  </thead>\n",
       "  <tbody>\n",
       "    <tr>\n",
       "      <td>0</td>\n",
       "      <td>col1</td>\n",
       "      <td></td>\n",
       "      <td>1</td>\n",
       "      <td>varchar</td>\n",
       "      <td>4</td>\n",
       "      <td>4</td>\n",
       "      <td></td>\n",
       "      <td>0</td>\n",
       "      <td>0</td>\n",
       "    </tr>\n",
       "  </tbody>\n",
       "</table>\n",
       "</div>\n",
       "</div>\n",
       "<div class=\"cas-output-area\"></div>\n",
       "<p class=\"cas-results-performance\"><small><span class=\"cas-elapsed\">elapsed 0.00075s</span> &#183; <span class=\"cas-user\">user 0.000413s</span> &#183; <span class=\"cas-sys\">sys 0.00031s</span> &#183; <span class=\"cas-memory\">mem 0.803MB</span></small></p>"
      ],
      "text/plain": [
       "[ColumnInfo]\n",
       "\n",
       "   Column Label  ID     Type  RawLength  FormattedLength Format  NFL  NFD\n",
       " 0   col1         1  varchar          4                4           0    0\n",
       "\n",
       "+ Elapsed: 0.00075s, user: 0.000413s, sys: 0.00031s, mem: 0.803mb"
      ]
     },
     "execution_count": 271,
     "metadata": {},
     "output_type": "execute_result"
    }
   ],
   "source": [
    "castbl.columnInfo()"
   ]
  },
  {
   "cell_type": "code",
   "execution_count": 280,
   "id": "17ee20b4-7466-4355-b49c-239e569d3736",
   "metadata": {},
   "outputs": [
    {
     "data": {
      "text/html": [
       "<div>\n",
       "<style scoped>\n",
       "    .dataframe tbody tr th:only-of-type {\n",
       "        vertical-align: middle;\n",
       "    }\n",
       "\n",
       "    .dataframe tbody tr th {\n",
       "        vertical-align: top;\n",
       "    }\n",
       "\n",
       "    .dataframe thead th {\n",
       "        text-align: right;\n",
       "    }\n",
       "</style>\n",
       "<table border=\"1\" class=\"dataframe\"><caption>Selected Rows from Table CHANGEDATATYPE</caption>\n",
       "  <thead>\n",
       "    <tr style=\"text-align: right;\">\n",
       "      <th title=\"\"></th>\n",
       "      <th title=\"col1\">col1</th>\n",
       "    </tr>\n",
       "  </thead>\n",
       "  <tbody>\n",
       "    <tr>\n",
       "      <td>0</td>\n",
       "      <td>1000.0</td>\n",
       "    </tr>\n",
       "    <tr>\n",
       "      <td>1</td>\n",
       "      <td>300.0</td>\n",
       "    </tr>\n",
       "    <tr>\n",
       "      <td>2</td>\n",
       "      <td>2000.0</td>\n",
       "    </tr>\n",
       "  </tbody>\n",
       "</table>\n",
       "</div>"
      ],
      "text/plain": [
       "Selected Rows from Table CHANGEDATATYPE\n",
       "\n",
       "     col1\n",
       "0  1000.0\n",
       "1   300.0\n",
       "2  2000.0"
      ]
     },
     "execution_count": 280,
     "metadata": {},
     "output_type": "execute_result"
    }
   ],
   "source": [
    "castbl.head()"
   ]
  },
  {
   "cell_type": "markdown",
   "id": "44efe9d2-f6ed-40f1-a09c-ab0aacd23ff4",
   "metadata": {},
   "source": [
    "Upload the same dataframe, but this time modify the import options to load col1 as a double."
   ]
  },
  {
   "cell_type": "code",
   "execution_count": 286,
   "id": "19ce71a1-ba98-4ba2-b94f-5bcad8a7beec",
   "metadata": {},
   "outputs": [
    {
     "name": "stdout",
     "output_type": "stream",
     "text": [
      "NOTE: Cloud Analytic Services made the uploaded file available as table CHANGEDATATYPE in caslib CASUSER(student).\n",
      "NOTE: The table CHANGEDATATYPE has been created in caslib CASUSER(student) from binary data uploaded to Cloud Analytic Services.\n"
     ]
    }
   ],
   "source": [
    "castbl = conn.upload_frame(df, \n",
    "                           importOptions = {\n",
    "                               'fileType':'CSV',\n",
    "                               'vars':{\n",
    "                                   'col1':{'type':'double'} ## can be one of the following: 'binary', 'char', 'date', 'datetime', 'decquad', 'decsext', 'double', 'int32', 'int64', 'time', 'varbinary', 'varchar'.\n",
    "                               }\n",
    "                           },\n",
    "                           casout = {'name':'changedatatype',\n",
    "                                     'caslib':'casuser',\n",
    "                                     'replace':True})"
   ]
  },
  {
   "cell_type": "markdown",
   "id": "093349d7-070e-4d2e-9a2c-8b0edab200df",
   "metadata": {},
   "source": [
    "Loaded col1 as a double."
   ]
  },
  {
   "cell_type": "code",
   "execution_count": 287,
   "id": "1ec33953-884b-4aaa-9b69-b8e29e4a3060",
   "metadata": {},
   "outputs": [
    {
     "data": {
      "text/html": [
       "<div class=\"cas-results-key\"><b>&#167; ColumnInfo</b></div>\n",
       "<div class=\"cas-results-body\">\n",
       "<div>\n",
       "<style scoped>\n",
       "    .dataframe tbody tr th:only-of-type {\n",
       "        vertical-align: middle;\n",
       "    }\n",
       "\n",
       "    .dataframe tbody tr th {\n",
       "        vertical-align: top;\n",
       "    }\n",
       "\n",
       "    .dataframe thead th {\n",
       "        text-align: right;\n",
       "    }\n",
       "</style>\n",
       "<table border=\"1\" class=\"dataframe\">\n",
       "  <thead>\n",
       "    <tr style=\"text-align: right;\">\n",
       "      <th title=\"\"></th>\n",
       "      <th title=\"Column\">Column</th>\n",
       "      <th title=\"Label\">Label</th>\n",
       "      <th title=\"ID\">ID</th>\n",
       "      <th title=\"Type\">Type</th>\n",
       "      <th title=\"RawLength\">RawLength</th>\n",
       "      <th title=\"FormattedLength\">FormattedLength</th>\n",
       "      <th title=\"Format\">Format</th>\n",
       "      <th title=\"NFL\">NFL</th>\n",
       "      <th title=\"NFD\">NFD</th>\n",
       "    </tr>\n",
       "  </thead>\n",
       "  <tbody>\n",
       "    <tr>\n",
       "      <td>0</td>\n",
       "      <td>col1</td>\n",
       "      <td></td>\n",
       "      <td>1</td>\n",
       "      <td>double</td>\n",
       "      <td>8</td>\n",
       "      <td>12</td>\n",
       "      <td></td>\n",
       "      <td>0</td>\n",
       "      <td>0</td>\n",
       "    </tr>\n",
       "  </tbody>\n",
       "</table>\n",
       "</div>\n",
       "</div>\n",
       "<div class=\"cas-output-area\"></div>\n",
       "<p class=\"cas-results-performance\"><small><span class=\"cas-elapsed\">elapsed 0.000872s</span> &#183; <span class=\"cas-user\">user 0.000848s</span> &#183; <span class=\"cas-memory\">mem 0.818MB</span></small></p>"
      ],
      "text/plain": [
       "[ColumnInfo]\n",
       "\n",
       "   Column Label  ID    Type  RawLength  FormattedLength Format  NFL  NFD\n",
       " 0   col1         1  double          8               12           0    0\n",
       "\n",
       "+ Elapsed: 0.000872s, user: 0.000848s, mem: 0.818mb"
      ]
     },
     "execution_count": 287,
     "metadata": {},
     "output_type": "execute_result"
    }
   ],
   "source": [
    "castbl.columnInfo()"
   ]
  },
  {
   "cell_type": "code",
   "execution_count": 283,
   "id": "3af699cc-2646-4b2e-8d0b-9d0300b635b1",
   "metadata": {},
   "outputs": [
    {
     "data": {
      "text/html": [
       "<div>\n",
       "<style scoped>\n",
       "    .dataframe tbody tr th:only-of-type {\n",
       "        vertical-align: middle;\n",
       "    }\n",
       "\n",
       "    .dataframe tbody tr th {\n",
       "        vertical-align: top;\n",
       "    }\n",
       "\n",
       "    .dataframe thead th {\n",
       "        text-align: right;\n",
       "    }\n",
       "</style>\n",
       "<table border=\"1\" class=\"dataframe\"><caption>Selected Rows from Table CHANGEDATATYPE</caption>\n",
       "  <thead>\n",
       "    <tr style=\"text-align: right;\">\n",
       "      <th title=\"\"></th>\n",
       "      <th title=\"col1\">col1</th>\n",
       "    </tr>\n",
       "  </thead>\n",
       "  <tbody>\n",
       "    <tr>\n",
       "      <td>0</td>\n",
       "      <td>1000</td>\n",
       "    </tr>\n",
       "    <tr>\n",
       "      <td>1</td>\n",
       "      <td>300</td>\n",
       "    </tr>\n",
       "    <tr>\n",
       "      <td>2</td>\n",
       "      <td>2000</td>\n",
       "    </tr>\n",
       "  </tbody>\n",
       "</table>\n",
       "</div>"
      ],
      "text/plain": [
       "Selected Rows from Table CHANGEDATATYPE\n",
       "\n",
       "   col1\n",
       "0  1000\n",
       "1   300\n",
       "2  2000"
      ]
     },
     "execution_count": 283,
     "metadata": {},
     "output_type": "execute_result"
    }
   ],
   "source": [
    "castbl.head()"
   ]
  }
 ],
 "metadata": {
  "kernelspec": {
   "display_name": "Python 3 (ipykernel)",
   "language": "python",
   "name": "python3"
  },
  "language_info": {
   "codemirror_mode": {
    "name": "ipython",
    "version": 3
   },
   "file_extension": ".py",
   "mimetype": "text/x-python",
   "name": "python",
   "nbconvert_exporter": "python",
   "pygments_lexer": "ipython3",
   "version": "3.8.8"
  }
 },
 "nbformat": 4,
 "nbformat_minor": 5
}
