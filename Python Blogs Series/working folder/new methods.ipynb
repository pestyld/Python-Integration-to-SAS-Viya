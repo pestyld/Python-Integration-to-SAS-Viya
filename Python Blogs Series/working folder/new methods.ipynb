{
 "cells": [
  {
   "cell_type": "code",
   "execution_count": 1,
   "id": "67c65840-66bf-495a-9e0b-1e1b78560cc5",
   "metadata": {},
   "outputs": [
    {
     "name": "stdout",
     "output_type": "stream",
     "text": [
      "Imported personal custom CAS auth package\n",
      "Python version:3.8.16 (default, Mar  2 2023, 03:18:16) [MSC v.1916 64 bit (AMD64)]\n",
      "swat version:1.13.0\n",
      "pandas version:1.5.3\n",
      "numpy version:1.24.3\n"
     ]
    }
   ],
   "source": [
    "## Packages\n",
    "import swat\n",
    "import sys\n",
    "import os\n",
    "import pandas as pd\n",
    "import numpy as np\n",
    "import json\n",
    "\n",
    "\n",
    "## Options\n",
    "pd.set_option('display.max_columns', 50)\n",
    "pd.set_option('display.max_colwidth', None)\n",
    "\n",
    "try:\n",
    "    from casauth import CASAuth\n",
    "    print('Imported personal custom CAS auth package')\n",
    "except:\n",
    "    print('casauth package not available')\n",
    "\n",
    "print(f'Python version:{sys.version.split(\"|\")[0]}')\n",
    "print(f'swat version:{swat.__version__}')\n",
    "print(f'pandas version:{pd.__version__}')\n",
    "print(f'numpy version:{np.__version__}')"
   ]
  },
  {
   "cell_type": "code",
   "execution_count": 3,
   "id": "eb872c79-3eb0-4192-8da3-6d5ed8f5c9a3",
   "metadata": {
    "tags": []
   },
   "outputs": [
    {
     "name": "stdout",
     "output_type": "stream",
     "text": [
      "The access token may have expired - attempting to refresh the token\n",
      "The access token was stored for you in the access_token.txt file. The access token expires in 24 hours.\n",
      "CAS Connection created\n"
     ]
    }
   ],
   "source": [
    "path = os.getenv('CAS_CREDENTIALS')\n",
    "pem_file = os.getenv('CAS_CLIENT_SSL_CA_LIST')\n",
    "\n",
    "conn = CASAuth(path, ssl_ca_list = pem_file)"
   ]
  },
  {
   "cell_type": "code",
   "execution_count": 2,
   "id": "20a61aff-d91e-4384-9f55-60a4e2d81add",
   "metadata": {
    "tags": []
   },
   "outputs": [],
   "source": [
    "df = pd.read_csv('https://support.sas.com/documentation/onlinedoc/viya/exampledatasets/cars.csv')"
   ]
  },
  {
   "cell_type": "code",
   "execution_count": 5,
   "id": "996bdf5c-8af2-4e26-9ea8-99d0380d9df0",
   "metadata": {
    "tags": []
   },
   "outputs": [
    {
     "data": {
      "text/plain": [
       "Make            38\n",
       "Model          425\n",
       "Type             6\n",
       "Origin           3\n",
       "DriveTrain       3\n",
       "MSRP           410\n",
       "Invoice        425\n",
       "EngineSize      43\n",
       "Cylinders        7\n",
       "Horsepower     110\n",
       "MPG_City        28\n",
       "MPG_Highway     33\n",
       "Weight         348\n",
       "Wheelbase       40\n",
       "Length          67\n",
       "dtype: int64"
      ]
     },
     "execution_count": 5,
     "metadata": {},
     "output_type": "execute_result"
    }
   ],
   "source": [
    "df.nunique()"
   ]
  },
  {
   "cell_type": "code",
   "execution_count": 7,
   "id": "b764099d-44bf-4ffa-bd12-07551849c2a7",
   "metadata": {
    "tags": []
   },
   "outputs": [
    {
     "data": {
      "text/plain": [
       "38"
      ]
     },
     "execution_count": 7,
     "metadata": {},
     "output_type": "execute_result"
    }
   ],
   "source": [
    "df.Make.nunique()"
   ]
  },
  {
   "cell_type": "code",
   "execution_count": 25,
   "id": "a02f4a94-4e11-4060-8ba6-0feb49ba7e63",
   "metadata": {
    "tags": []
   },
   "outputs": [
    {
     "name": "stdout",
     "output_type": "stream",
     "text": [
      "NOTE: Cloud Analytic Services made the uploaded file available as table CARS in caslib CASUSER(Peter.Styliadis@sas.com).\n",
      "NOTE: The table CARS has been created in caslib CASUSER(Peter.Styliadis@sas.com) from binary data uploaded to Cloud Analytic Services.\n"
     ]
    }
   ],
   "source": [
    "castbl = conn.read_csv('https://support.sas.com/documentation/onlinedoc/viya/exampledatasets/cars.csv', casout='cars')"
   ]
  },
  {
   "cell_type": "code",
   "execution_count": null,
   "id": "3e3d1363-1a7d-42a1-8d4a-2af41c8461b9",
   "metadata": {
    "tags": []
   },
   "outputs": [],
   "source": [
    "castbl.nunique()"
   ]
  },
  {
   "cell_type": "code",
   "execution_count": 9,
   "id": "7c9cdc4b-ca1b-43e9-b365-876ac66ac0c9",
   "metadata": {
    "tags": []
   },
   "outputs": [
    {
     "data": {
      "text/plain": [
       "38"
      ]
     },
     "execution_count": 9,
     "metadata": {},
     "output_type": "execute_result"
    }
   ],
   "source": [
    "castbl.Make.nunique()"
   ]
  },
  {
   "cell_type": "code",
   "execution_count": null,
   "id": "eeda2874-1c4d-4a03-bb81-0fd29082579a",
   "metadata": {},
   "outputs": [],
   "source": [
    "deduplication.deduplicate"
   ]
  },
  {
   "cell_type": "code",
   "execution_count": 28,
   "id": "043efafb-3587-4502-a8e3-ee36ad4157c7",
   "metadata": {
    "tags": []
   },
   "outputs": [
    {
     "name": "stdout",
     "output_type": "stream",
     "text": [
      "NOTE: Added action set 'deduplication'.\n"
     ]
    },
    {
     "data": {
      "text/html": [
       "<div class=\"cas-results-key\"><b>&#167; actionset</b></div>\n",
       "<div class=\"cas-results-body\">\n",
       "<div>deduplication</div>\n",
       "</div>\n",
       "<div class=\"cas-output-area\"></div>\n",
       "<p class=\"cas-results-performance\"><small><span class=\"cas-elapsed\">elapsed 0.00982s</span> &#183; <span class=\"cas-user\">user 0.00433s</span> &#183; <span class=\"cas-sys\">sys 0.0182s</span> &#183; <span class=\"cas-memory\">mem 1.03MB</span></small></p>"
      ],
      "text/plain": [
       "[actionset]\n",
       "\n",
       " 'deduplication'\n",
       "\n",
       "+ Elapsed: 0.00982s, user: 0.00433s, sys: 0.0182s, mem: 1.03mb"
      ]
     },
     "execution_count": 28,
     "metadata": {},
     "output_type": "execute_result"
    }
   ],
   "source": [
    "conn.loadactionset('deduplication')"
   ]
  },
  {
   "cell_type": "code",
   "execution_count": null,
   "id": "b23f407c-9f82-49cf-98ee-a4f71b936d9d",
   "metadata": {},
   "outputs": [],
   "source": []
  },
  {
   "cell_type": "code",
   "execution_count": 16,
   "id": "d1497285-da19-48d8-b643-104c853df42f",
   "metadata": {
    "tags": []
   },
   "outputs": [
    {
     "data": {
      "text/plain": [
       "Column\n",
       "Make            38.0\n",
       "Model          425.0\n",
       "Type             6.0\n",
       "Origin           3.0\n",
       "DriveTrain       3.0\n",
       "MSRP           410.0\n",
       "Invoice        425.0\n",
       "EngineSize      43.0\n",
       "Cylinders        8.0\n",
       "Horsepower     110.0\n",
       "MPG_City        28.0\n",
       "MPG_Highway     33.0\n",
       "Weight         348.0\n",
       "Wheelbase       40.0\n",
       "Length          67.0\n",
       "Name: Distinct, dtype: float64"
      ]
     },
     "execution_count": 16,
     "metadata": {},
     "output_type": "execute_result"
    }
   ],
   "source": [
    "castbl.simple.distinct()['Distinct'].set_index('Column').loc[:,'NDistinct']"
   ]
  },
  {
   "cell_type": "code",
   "execution_count": null,
   "id": "eac53741-348f-40b1-8193-99a9d0f3b122",
   "metadata": {},
   "outputs": [],
   "source": []
  }
 ],
 "metadata": {
  "kernelspec": {
   "display_name": "Python 3 (ipykernel)",
   "language": "python",
   "name": "python3"
  },
  "language_info": {
   "codemirror_mode": {
    "name": "ipython",
    "version": 3
   },
   "file_extension": ".py",
   "mimetype": "text/x-python",
   "name": "python",
   "nbconvert_exporter": "python",
   "pygments_lexer": "ipython3",
   "version": "3.8.16"
  }
 },
 "nbformat": 4,
 "nbformat_minor": 5
}
