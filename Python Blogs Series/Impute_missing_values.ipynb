{
 "cells": [
  {
   "cell_type": "markdown",
   "metadata": {},
   "source": [
    "# DEMO: Imputing Missing Values"
   ]
  },
  {
   "cell_type": "markdown",
   "metadata": {},
   "source": [
    "### 1. Import Packages and Connect to the CAS Server\n",
    "\n",
    "Visit the documentation for the SWAT [(SAS Scripting Wrapper for Analytics Transfer)](https://sassoftware.github.io/python-swat/index.html) package."
   ]
  },
  {
   "cell_type": "code",
   "execution_count": 14,
   "metadata": {},
   "outputs": [],
   "source": [
    "## Packages\n",
    "import swat\n",
    "import pandas as pd\n",
    "import numpy as np\n",
    "from casConnect import connect_to_cas ## custom personal module\n",
    "\n",
    "##\n",
    "## Connect to CAS\n",
    "##\n",
    "\n",
    "## General connection syntax\n",
    "# conn = swat.CAS(host, port, username, password)\n",
    "\n",
    "## Viya for Learners 3.5 connection\n",
    "# hostValue = os.environ.get('CASHOST')\n",
    "# portValue = os.environ.get('CASPORT')\n",
    "# passwordToken=os.environ.get('SAS_VIYA_TOKEN')\n",
    "# conn = swat.CAS(hostname=hostValue, port=portValue, password=passwordToken)\n",
    "\n",
    "## Personal connection\n",
    "conn = connect_to_cas()"
   ]
  },
  {
   "cell_type": "markdown",
   "metadata": {},
   "source": [
    "## Load the demonstration data into memory\n",
    "Load the xxx"
   ]
  },
  {
   "cell_type": "code",
   "execution_count": 28,
   "metadata": {},
   "outputs": [
    {
     "name": "stdout",
     "output_type": "stream",
     "text": [
      "NOTE: Cloud Analytic Services made the uploaded file available as table TEST in caslib CASUSER(Peter.Styliadis@sas.com).\n",
      "NOTE: The table TEST has been created in caslib CASUSER(Peter.Styliadis@sas.com) from binary data uploaded to Cloud Analytic Services.\n"
     ]
    }
   ],
   "source": [
    "df = pd.DataFrame([\n",
    "            [np.nan, 2, 45, 0, 'A'],\n",
    "            [3, 4, np.nan, 1,'A'],\n",
    "            [np.nan, np.nan, 50, np.nan,'B'],\n",
    "            [np.nan, 3, np.nan, 4,],\n",
    "            [2, 2, np.nan, 0, 'A'],\n",
    "            [3, 4, np.nan, 1,'A'],\n",
    "            [np.nan, np.nan, 75, np.nan,'B'],\n",
    "            [np.nan, 3, 60, 4,]\n",
    "            ],\n",
    "            columns=list(\"ABCDE\"))\n",
    "castbl = conn.upload_frame(df, casout = {'name':'test', 'caslib':'casuser', 'replace':True})"
   ]
  },
  {
   "cell_type": "code",
   "execution_count": 43,
   "metadata": {},
   "outputs": [
    {
     "data": {
      "text/html": [
       "<div>\n",
       "<style scoped>\n",
       "    .dataframe tbody tr th:only-of-type {\n",
       "        vertical-align: middle;\n",
       "    }\n",
       "\n",
       "    .dataframe tbody tr th {\n",
       "        vertical-align: top;\n",
       "    }\n",
       "\n",
       "    .dataframe thead th {\n",
       "        text-align: right;\n",
       "    }\n",
       "</style>\n",
       "<table border=\"1\" class=\"dataframe\"><caption>Selected Rows from Table TEST</caption>\n",
       "  <thead>\n",
       "    <tr style=\"text-align: right;\">\n",
       "      <th title=\"\"></th>\n",
       "      <th title=\"A\">A</th>\n",
       "      <th title=\"B\">B</th>\n",
       "      <th title=\"C\">C</th>\n",
       "      <th title=\"D\">D</th>\n",
       "      <th title=\"E\">E</th>\n",
       "    </tr>\n",
       "  </thead>\n",
       "  <tbody>\n",
       "    <tr>\n",
       "      <td>0</td>\n",
       "      <td>NaN</td>\n",
       "      <td>2.0</td>\n",
       "      <td>45.0</td>\n",
       "      <td>0.0</td>\n",
       "      <td>A</td>\n",
       "    </tr>\n",
       "    <tr>\n",
       "      <td>1</td>\n",
       "      <td>3.0</td>\n",
       "      <td>4.0</td>\n",
       "      <td>NaN</td>\n",
       "      <td>1.0</td>\n",
       "      <td>A</td>\n",
       "    </tr>\n",
       "    <tr>\n",
       "      <td>2</td>\n",
       "      <td>NaN</td>\n",
       "      <td>NaN</td>\n",
       "      <td>50.0</td>\n",
       "      <td>NaN</td>\n",
       "      <td>B</td>\n",
       "    </tr>\n",
       "    <tr>\n",
       "      <td>3</td>\n",
       "      <td>NaN</td>\n",
       "      <td>3.0</td>\n",
       "      <td>NaN</td>\n",
       "      <td>4.0</td>\n",
       "      <td></td>\n",
       "    </tr>\n",
       "    <tr>\n",
       "      <td>4</td>\n",
       "      <td>2.0</td>\n",
       "      <td>2.0</td>\n",
       "      <td>NaN</td>\n",
       "      <td>0.0</td>\n",
       "      <td>A</td>\n",
       "    </tr>\n",
       "    <tr>\n",
       "      <td>5</td>\n",
       "      <td>3.0</td>\n",
       "      <td>4.0</td>\n",
       "      <td>NaN</td>\n",
       "      <td>1.0</td>\n",
       "      <td>A</td>\n",
       "    </tr>\n",
       "    <tr>\n",
       "      <td>6</td>\n",
       "      <td>NaN</td>\n",
       "      <td>NaN</td>\n",
       "      <td>75.0</td>\n",
       "      <td>NaN</td>\n",
       "      <td>B</td>\n",
       "    </tr>\n",
       "    <tr>\n",
       "      <td>7</td>\n",
       "      <td>NaN</td>\n",
       "      <td>3.0</td>\n",
       "      <td>60.0</td>\n",
       "      <td>4.0</td>\n",
       "      <td></td>\n",
       "    </tr>\n",
       "  </tbody>\n",
       "</table>\n",
       "</div>"
      ],
      "text/plain": [
       "Selected Rows from Table TEST\n",
       "\n",
       "     A    B     C    D  E\n",
       "0  NaN  2.0  45.0  0.0  A\n",
       "1  3.0  4.0   NaN  1.0  A\n",
       "2  NaN  NaN  50.0  NaN  B\n",
       "3  NaN  3.0   NaN  4.0   \n",
       "4  2.0  2.0   NaN  0.0  A\n",
       "5  3.0  4.0   NaN  1.0  A\n",
       "6  NaN  NaN  75.0  NaN  B\n",
       "7  NaN  3.0  60.0  4.0   "
      ]
     },
     "execution_count": 43,
     "metadata": {},
     "output_type": "execute_result"
    }
   ],
   "source": [
    "castbl.head(10)"
   ]
  },
  {
   "cell_type": "code",
   "execution_count": 44,
   "metadata": {},
   "outputs": [
    {
     "data": {
      "text/plain": [
       "A    5\n",
       "B    2\n",
       "C    4\n",
       "D    2\n",
       "E    2\n",
       "dtype: int64"
      ]
     },
     "execution_count": 44,
     "metadata": {},
     "output_type": "execute_result"
    }
   ],
   "source": [
    "castbl.nmiss()"
   ]
  },
  {
   "cell_type": "markdown",
   "metadata": {},
   "source": [
    "### 4. Impute Missing Values"
   ]
  },
  {
   "cell_type": "markdown",
   "metadata": {},
   "source": [
    "a. Use the [dataPreprocess.impute](https://go.documentation.sas.com/doc/en/pgmsascdc/v_018/casanpg/cas-datapreprocess-impute.htm) action to modify missing values in the **EmpLength** column using the default parameters of the action. Notice CAS returns information on how the column was imputed. Here the default impute technique is the mean, and creates it creates a new column named **IMP_EmpLength**."
   ]
  },
  {
   "cell_type": "code",
   "execution_count": 46,
   "metadata": {},
   "outputs": [
    {
     "data": {
      "text/html": [
       "<div class=\"cas-results-key\"><b>&#167; ImputeInfo</b></div>\n",
       "<div class=\"cas-results-body\">\n",
       "<div>\n",
       "<style scoped>\n",
       "    .dataframe tbody tr th:only-of-type {\n",
       "        vertical-align: middle;\n",
       "    }\n",
       "\n",
       "    .dataframe tbody tr th {\n",
       "        vertical-align: top;\n",
       "    }\n",
       "\n",
       "    .dataframe thead th {\n",
       "        text-align: right;\n",
       "    }\n",
       "</style>\n",
       "<table border=\"1\" class=\"dataframe\"><caption>Imputation Information for TEST</caption>\n",
       "  <thead>\n",
       "    <tr style=\"text-align: right;\">\n",
       "      <th title=\"\"></th>\n",
       "      <th title=\"Variable\">Variable</th>\n",
       "      <th title=\"Imputation Technique\">ImputeTech</th>\n",
       "      <th title=\"Result Variable\">ResultVar</th>\n",
       "      <th title=\"N\">N</th>\n",
       "      <th title=\"NMiss\">NMiss</th>\n",
       "      <th title=\"Imputed Value\">ImputedValueContinuous</th>\n",
       "    </tr>\n",
       "  </thead>\n",
       "  <tbody>\n",
       "    <tr>\n",
       "      <td>0</td>\n",
       "      <td>A</td>\n",
       "      <td>Mean</td>\n",
       "      <td>IMP_A</td>\n",
       "      <td>3.0</td>\n",
       "      <td>5.0</td>\n",
       "      <td>2.666667</td>\n",
       "    </tr>\n",
       "  </tbody>\n",
       "</table>\n",
       "</div>\n",
       "</div>\n",
       "<div class=\"cas-output-area\"></div>\n",
       "<p class=\"cas-results-performance\"><small><span class=\"cas-elapsed\">elapsed 0.0848s</span> &#183; <span class=\"cas-user\">user 0.086s</span> &#183; <span class=\"cas-sys\">sys 0.159s</span> &#183; <span class=\"cas-memory\">mem 26.6MB</span></small></p>"
      ],
      "text/plain": [
       "[ImputeInfo]\n",
       "\n",
       " Imputation Information for TEST\n",
       " \n",
       "   Variable ImputeTech ResultVar    N  NMiss  ImputedValueContinuous\n",
       " 0        A       Mean     IMP_A  3.0    5.0                2.666667\n",
       "\n",
       "+ Elapsed: 0.0848s, user: 0.086s, sys: 0.159s, mem: 26.6mb"
      ]
     },
     "execution_count": 46,
     "metadata": {},
     "output_type": "execute_result"
    }
   ],
   "source": [
    "castbl.impute(input='A')"
   ]
  },
  {
   "cell_type": "markdown",
   "metadata": {},
   "source": [
    "c. To store the CAS table with imputed missing values you can add the casOut parameter to create a new CAS table. Here a CAS table named **loans_imputed** is created in the **Casuser** caslib. The CAS server returns imputed column information, and output CAS table information."
   ]
  },
  {
   "cell_type": "code",
   "execution_count": 40,
   "metadata": {},
   "outputs": [
    {
     "data": {
      "text/html": [
       "<div class=\"cas-results-key\"><b>&#167; ImputeInfo</b></div>\n",
       "<div class=\"cas-results-body\">\n",
       "<div>\n",
       "<style scoped>\n",
       "    .dataframe tbody tr th:only-of-type {\n",
       "        vertical-align: middle;\n",
       "    }\n",
       "\n",
       "    .dataframe tbody tr th {\n",
       "        vertical-align: top;\n",
       "    }\n",
       "\n",
       "    .dataframe thead th {\n",
       "        text-align: right;\n",
       "    }\n",
       "</style>\n",
       "<table border=\"1\" class=\"dataframe\"><caption>Imputation Information for TEST</caption>\n",
       "  <thead>\n",
       "    <tr style=\"text-align: right;\">\n",
       "      <th title=\"\"></th>\n",
       "      <th title=\"Variable\">Variable</th>\n",
       "      <th title=\"Imputation Technique\">ImputeTech</th>\n",
       "      <th title=\"Result Variable\">ResultVar</th>\n",
       "      <th title=\"N\">N</th>\n",
       "      <th title=\"NMiss\">NMiss</th>\n",
       "      <th title=\"Imputed Value\">ImputedValueContinuous</th>\n",
       "    </tr>\n",
       "  </thead>\n",
       "  <tbody>\n",
       "    <tr>\n",
       "      <td>0</td>\n",
       "      <td>A</td>\n",
       "      <td>Mean</td>\n",
       "      <td>IMP_A</td>\n",
       "      <td>3.0</td>\n",
       "      <td>5.0</td>\n",
       "      <td>2.666667</td>\n",
       "    </tr>\n",
       "  </tbody>\n",
       "</table>\n",
       "</div>\n",
       "</div>\n",
       "<div class=\"cas-results-key\"><hr/><b>&#167; OutputCasTables</b></div>\n",
       "<div class=\"cas-results-body\">\n",
       "<div>\n",
       "<style scoped>\n",
       "    .dataframe tbody tr th:only-of-type {\n",
       "        vertical-align: middle;\n",
       "    }\n",
       "\n",
       "    .dataframe tbody tr th {\n",
       "        vertical-align: top;\n",
       "    }\n",
       "\n",
       "    .dataframe thead th {\n",
       "        text-align: right;\n",
       "    }\n",
       "</style>\n",
       "<table border=\"1\" class=\"dataframe\">\n",
       "  <thead>\n",
       "    <tr style=\"text-align: right;\">\n",
       "      <th title=\"\"></th>\n",
       "      <th title=\"CAS Library\">casLib</th>\n",
       "      <th title=\"Name\">Name</th>\n",
       "      <th title=\"Number of Rows\">Rows</th>\n",
       "      <th title=\"Number of Columns\">Columns</th>\n",
       "      <th title=\"Table\">casTable</th>\n",
       "    </tr>\n",
       "  </thead>\n",
       "  <tbody>\n",
       "    <tr>\n",
       "      <td>0</td>\n",
       "      <td>CASUSER(Peter.Styliadis@sas.com)</td>\n",
       "      <td>impute_a</td>\n",
       "      <td>8</td>\n",
       "      <td>1</td>\n",
       "      <td>CASTable('impute_a', caslib='CASUSER(Peter.Sty...</td>\n",
       "    </tr>\n",
       "  </tbody>\n",
       "</table>\n",
       "</div>\n",
       "</div>\n",
       "<div class=\"cas-output-area\"></div>\n",
       "<p class=\"cas-results-performance\"><small><span class=\"cas-elapsed\">elapsed 0.0945s</span> &#183; <span class=\"cas-user\">user 0.0977s</span> &#183; <span class=\"cas-sys\">sys 0.22s</span> &#183; <span class=\"cas-memory\">mem 225MB</span></small></p>"
      ],
      "text/plain": [
       "[ImputeInfo]\n",
       "\n",
       " Imputation Information for TEST\n",
       " \n",
       "   Variable ImputeTech ResultVar    N  NMiss  ImputedValueContinuous\n",
       " 0        A       Mean     IMP_A  3.0    5.0                2.666667\n",
       "\n",
       "[OutputCasTables]\n",
       "\n",
       "                              casLib      Name  Rows  Columns                                           casTable\n",
       " 0  CASUSER(Peter.Styliadis@sas.com)  impute_a     8        1  CASTable('impute_a', caslib='CASUSER(Peter.Sty...\n",
       "\n",
       "+ Elapsed: 0.0945s, user: 0.0977s, sys: 0.22s, mem: 225mb"
      ]
     },
     "execution_count": 40,
     "metadata": {},
     "output_type": "execute_result"
    }
   ],
   "source": [
    "castbl.impute(input='A', \n",
    "              casout={'name':'impute_a', \n",
    "                      'caslib':'casuser',\n",
    "                      'replace':True})"
   ]
  },
  {
   "cell_type": "code",
   "execution_count": 41,
   "metadata": {},
   "outputs": [
    {
     "data": {
      "text/html": [
       "<div class=\"cas-results-key\"><b>&#167; TableInfo</b></div>\n",
       "<div class=\"cas-results-body\">\n",
       "<div>\n",
       "<style scoped>\n",
       "    .dataframe tbody tr th:only-of-type {\n",
       "        vertical-align: middle;\n",
       "    }\n",
       "\n",
       "    .dataframe tbody tr th {\n",
       "        vertical-align: top;\n",
       "    }\n",
       "\n",
       "    .dataframe thead th {\n",
       "        text-align: right;\n",
       "    }\n",
       "</style>\n",
       "<table border=\"1\" class=\"dataframe\">\n",
       "  <thead>\n",
       "    <tr style=\"text-align: right;\">\n",
       "      <th title=\"\"></th>\n",
       "      <th title=\"Name\">Name</th>\n",
       "      <th title=\"Rows\">Rows</th>\n",
       "      <th title=\"Columns\">Columns</th>\n",
       "      <th title=\"Indexed Columns\">IndexedColumns</th>\n",
       "      <th title=\"Encoding\">Encoding</th>\n",
       "      <th title=\"Created\">CreateTimeFormatted</th>\n",
       "      <th title=\"Last Modified\">ModTimeFormatted</th>\n",
       "      <th title=\"Last Accessed\">AccessTimeFormatted</th>\n",
       "      <th title=\"Character Set\">JavaCharSet</th>\n",
       "      <th title=\"CreateTime\">CreateTime</th>\n",
       "      <th title=\"Repeated\">Repeated</th>\n",
       "      <th title=\"View\">View</th>\n",
       "      <th title=\"MultiPart\">MultiPart</th>\n",
       "      <th title=\"Loaded Source\">SourceName</th>\n",
       "      <th title=\"Source Caslib\">SourceCaslib</th>\n",
       "      <th title=\"Compressed\">Compressed</th>\n",
       "      <th title=\"Table Creator\">Creator</th>\n",
       "      <th title=\"Last Table Modifier\">Modifier</th>\n",
       "      <th title=\"Source Modified\">SourceModTimeFormatted</th>\n",
       "      <th title=\"SourceModTime\">SourceModTime</th>\n",
       "    </tr>\n",
       "  </thead>\n",
       "  <tbody>\n",
       "    <tr>\n",
       "      <td>0</td>\n",
       "      <td>TEST</td>\n",
       "      <td>8</td>\n",
       "      <td>5</td>\n",
       "      <td>0</td>\n",
       "      <td>utf-8</td>\n",
       "      <td>2023-01-30T14:10:59+00:00</td>\n",
       "      <td>2023-01-30T14:10:59+00:00</td>\n",
       "      <td>2023-01-30T14:18:39+00:00</td>\n",
       "      <td>UTF8</td>\n",
       "      <td>1.990707e+09</td>\n",
       "      <td>0</td>\n",
       "      <td>0</td>\n",
       "      <td>0</td>\n",
       "      <td></td>\n",
       "      <td></td>\n",
       "      <td>0</td>\n",
       "      <td>Peter.Styliadis@sas.com</td>\n",
       "      <td></td>\n",
       "      <td>2023-01-30T14:10:59+00:00</td>\n",
       "      <td>1.990707e+09</td>\n",
       "    </tr>\n",
       "    <tr>\n",
       "      <td>1</td>\n",
       "      <td>IMPUTE_A</td>\n",
       "      <td>8</td>\n",
       "      <td>1</td>\n",
       "      <td>0</td>\n",
       "      <td>utf-8</td>\n",
       "      <td>2023-01-30T14:18:39+00:00</td>\n",
       "      <td>2023-01-30T14:18:39+00:00</td>\n",
       "      <td>2023-01-30T14:18:39+00:00</td>\n",
       "      <td>UTF8</td>\n",
       "      <td>1.990708e+09</td>\n",
       "      <td>0</td>\n",
       "      <td>0</td>\n",
       "      <td>0</td>\n",
       "      <td></td>\n",
       "      <td></td>\n",
       "      <td>0</td>\n",
       "      <td>Peter.Styliadis@sas.com</td>\n",
       "      <td></td>\n",
       "      <td></td>\n",
       "      <td>NaN</td>\n",
       "    </tr>\n",
       "    <tr>\n",
       "      <td>2</td>\n",
       "      <td>HOME_EQUITY_CAS_SAS</td>\n",
       "      <td>5960</td>\n",
       "      <td>20</td>\n",
       "      <td>0</td>\n",
       "      <td>utf-8</td>\n",
       "      <td>2023-01-25T18:24:31+00:00</td>\n",
       "      <td>2023-01-25T18:24:31+00:00</td>\n",
       "      <td>2023-01-25T18:24:31+00:00</td>\n",
       "      <td>UTF8</td>\n",
       "      <td>1.990290e+09</td>\n",
       "      <td>0</td>\n",
       "      <td>0</td>\n",
       "      <td>0</td>\n",
       "      <td></td>\n",
       "      <td></td>\n",
       "      <td>0</td>\n",
       "      <td>Peter.Styliadis@sas.com</td>\n",
       "      <td></td>\n",
       "      <td></td>\n",
       "      <td>NaN</td>\n",
       "    </tr>\n",
       "    <tr>\n",
       "      <td>3</td>\n",
       "      <td>HOME_EQUITY_CAS_PY</td>\n",
       "      <td>5960</td>\n",
       "      <td>20</td>\n",
       "      <td>0</td>\n",
       "      <td>utf-8</td>\n",
       "      <td>2023-01-25T18:27:48+00:00</td>\n",
       "      <td>2023-01-25T18:27:48+00:00</td>\n",
       "      <td>2023-01-25T18:43:53+00:00</td>\n",
       "      <td>UTF8</td>\n",
       "      <td>1.990290e+09</td>\n",
       "      <td>0</td>\n",
       "      <td>0</td>\n",
       "      <td>0</td>\n",
       "      <td></td>\n",
       "      <td></td>\n",
       "      <td>0</td>\n",
       "      <td>Peter.Styliadis@sas.com</td>\n",
       "      <td></td>\n",
       "      <td></td>\n",
       "      <td>NaN</td>\n",
       "    </tr>\n",
       "  </tbody>\n",
       "</table>\n",
       "</div>\n",
       "</div>\n",
       "<div class=\"cas-output-area\"></div>\n",
       "<p class=\"cas-results-performance\"><small><span class=\"cas-elapsed\">elapsed 0.00932s</span> &#183; <span class=\"cas-user\">user 0.0103s</span> &#183; <span class=\"cas-sys\">sys 0.0075s</span> &#183; <span class=\"cas-memory\">mem 1.96MB</span></small></p>"
      ],
      "text/plain": [
       "[TableInfo]\n",
       "\n",
       "                   Name  Rows  Columns  IndexedColumns Encoding        CreateTimeFormatted           ModTimeFormatted        AccessTimeFormatted JavaCharSet    CreateTime       ModTime    AccessTime  Global  Repeated  View  MultiPart SourceName SourceCaslib  Compressed                  Creator Modifier     SourceModTimeFormatted  SourceModTime\n",
       " 0                 TEST     8        5               0    utf-8  2023-01-30T14:10:59+00:00  2023-01-30T14:10:59+00:00  2023-01-30T14:18:39+00:00        UTF8  1.990707e+09  1.990707e+09  1.990708e+09       0         0     0          0                                   0  Peter.Styliadis@sas.com           2023-01-30T14:10:59+00:00   1.990707e+09\n",
       " 1             IMPUTE_A     8        1               0    utf-8  2023-01-30T14:18:39+00:00  2023-01-30T14:18:39+00:00  2023-01-30T14:18:39+00:00        UTF8  1.990708e+09  1.990708e+09  1.990708e+09       0         0     0          0                                   0  Peter.Styliadis@sas.com                                                NaN\n",
       " 2  HOME_EQUITY_CAS_SAS  5960       20               0    utf-8  2023-01-25T18:24:31+00:00  2023-01-25T18:24:31+00:00  2023-01-25T18:24:31+00:00        UTF8  1.990290e+09  1.990290e+09  1.990290e+09       1         0     0          0                                   0  Peter.Styliadis@sas.com                                                NaN\n",
       " 3   HOME_EQUITY_CAS_PY  5960       20               0    utf-8  2023-01-25T18:27:48+00:00  2023-01-25T18:27:48+00:00  2023-01-25T18:43:53+00:00        UTF8  1.990290e+09  1.990290e+09  1.990291e+09       1         0     0          0                                   0  Peter.Styliadis@sas.com                                                NaN\n",
       "\n",
       "+ Elapsed: 0.00932s, user: 0.0103s, sys: 0.0075s, mem: 1.96mb"
      ]
     },
     "execution_count": 41,
     "metadata": {},
     "output_type": "execute_result"
    }
   ],
   "source": [
    "conn.tableInfo()"
   ]
  },
  {
   "cell_type": "code",
   "execution_count": 42,
   "metadata": {},
   "outputs": [
    {
     "data": {
      "text/html": [
       "<div>\n",
       "<style scoped>\n",
       "    .dataframe tbody tr th:only-of-type {\n",
       "        vertical-align: middle;\n",
       "    }\n",
       "\n",
       "    .dataframe tbody tr th {\n",
       "        vertical-align: top;\n",
       "    }\n",
       "\n",
       "    .dataframe thead th {\n",
       "        text-align: right;\n",
       "    }\n",
       "</style>\n",
       "<table border=\"1\" class=\"dataframe\"><caption>Selected Rows from Table IMPUTE_A</caption>\n",
       "  <thead>\n",
       "    <tr style=\"text-align: right;\">\n",
       "      <th title=\"\"></th>\n",
       "      <th title=\"IMP_A\">IMP_A</th>\n",
       "    </tr>\n",
       "  </thead>\n",
       "  <tbody>\n",
       "    <tr>\n",
       "      <td>0</td>\n",
       "      <td>2.666667</td>\n",
       "    </tr>\n",
       "    <tr>\n",
       "      <td>1</td>\n",
       "      <td>3.000000</td>\n",
       "    </tr>\n",
       "    <tr>\n",
       "      <td>2</td>\n",
       "      <td>2.666667</td>\n",
       "    </tr>\n",
       "    <tr>\n",
       "      <td>3</td>\n",
       "      <td>2.666667</td>\n",
       "    </tr>\n",
       "    <tr>\n",
       "      <td>4</td>\n",
       "      <td>2.000000</td>\n",
       "    </tr>\n",
       "  </tbody>\n",
       "</table>\n",
       "</div>"
      ],
      "text/plain": [
       "Selected Rows from Table IMPUTE_A\n",
       "\n",
       "      IMP_A\n",
       "0  2.666667\n",
       "1  3.000000\n",
       "2  2.666667\n",
       "3  2.666667\n",
       "4  2.000000"
      ]
     },
     "execution_count": 42,
     "metadata": {},
     "output_type": "execute_result"
    }
   ],
   "source": [
    "impute_a = conn.CASTable('impute_a', caslib = 'casuser')\n",
    "impute_a.head()"
   ]
  },
  {
   "cell_type": "markdown",
   "metadata": {},
   "source": [
    "d. Use the tableInfo action to view the new CAS table. Notice the new CAS table **loans_imputed** contains a single column."
   ]
  },
  {
   "cell_type": "code",
   "execution_count": null,
   "metadata": {},
   "outputs": [],
   "source": [
    "conn.tableInfo(caslib='casuser')"
   ]
  },
  {
   "cell_type": "markdown",
   "metadata": {},
   "source": [
    "e. Reference the new CAS table **loans_imputed** in the variable **impTbl** and execute the head method to preview the table. Notice only the imputed column **IMP_EmpLength** was saved."
   ]
  },
  {
   "cell_type": "code",
   "execution_count": null,
   "metadata": {},
   "outputs": [],
   "source": [
    "impTbl = conn.CASTable('loans_imputed', caslib='casuser')\n",
    "impTbl.head()"
   ]
  },
  {
   "cell_type": "markdown",
   "metadata": {},
   "source": [
    "f. View the number of missing values in the **IMP_EmpLength** column using the nmiss method. Notice all missing values were replaced."
   ]
  },
  {
   "cell_type": "code",
   "execution_count": null,
   "metadata": {},
   "outputs": [],
   "source": [
    "impTbl.nmiss()"
   ]
  },
  {
   "cell_type": "markdown",
   "metadata": {},
   "source": [
    "f. To copy all columns when using the impute action, use the copyAllVars parameter and set it to *True*. Execute the impute action and preview the created CAS table. Notice the imputed column **IMP_EmpLength** and all original columns have been added to the new table."
   ]
  },
  {
   "cell_type": "code",
   "execution_count": null,
   "metadata": {},
   "outputs": [],
   "source": [
    "tbl.impute(input='EmpLength',\n",
    "           copyAllVars=True,\n",
    "           casout={'name':'loans_imputed', \n",
    "                   'caslib':'casuser', \n",
    "                   'replace':True})\n",
    "\n",
    "impTbl = conn.CASTable('loans_imputed', caslib='casuser')\n",
    "impTbl.head()"
   ]
  },
  {
   "cell_type": "markdown",
   "metadata": {},
   "source": [
    "### 5. Doing More with the Impute Action"
   ]
  },
  {
   "cell_type": "markdown",
   "metadata": {},
   "source": [
    "a. Set the CAS table reference to the **loans_raw** CAS table. Add the where parmaeter to filter for rows with the value *Credit Card*, the vars parameter to select specific columns, and the computedVarsProgram to create a new calculated column. View the **tbl** object and notice the parameters have been added."
   ]
  },
  {
   "cell_type": "code",
   "execution_count": null,
   "metadata": {},
   "outputs": [],
   "source": [
    "tbl = conn.CASTable('loans_raw', caslib = 'casuser')\n",
    "\n",
    "## Add parameters to the CASTable object\n",
    "tbl.where = 'Category = \"Credit Card\"'\n",
    "tbl.vars = ['AccNumber', 'Salary', 'EmpLength', 'Amount', 'CCOpenDate']\n",
    "tbl.computedVars = [{'name':'CCOpenDate', 'format':'DATE9.'}]\n",
    "tbl.computedVarsProgram = 'CCOpenDate = mdy(Month, Day, Year)'\n",
    "\n",
    "## Impute the EmpLength column and create a new CAS table\n",
    "tbl.impute(input='EmpLength',\n",
    "           copyVars = tbl.vars,\n",
    "           methodInterval='MEDIAN',\n",
    "           casout={'name':'cc_imputed',\n",
    "                   'caslib':'casuser', \n",
    "                   'replace':True})\n",
    "\n",
    "## Preview the new CAStable\n",
    "impTbl = conn.CASTable('cc_imputed', caslib='casuser')\n",
    "\n",
    "display(impTbl.head())\n",
    "display(conn.tableInfo(caslib = 'casuser'))\n",
    "display(impTbl.nmiss())"
   ]
  },
  {
   "cell_type": "markdown",
   "metadata": {},
   "source": [
    "### 6. Terminate the CAS Session"
   ]
  },
  {
   "cell_type": "markdown",
   "metadata": {},
   "source": [
    "a. It's best practice to always terminate the CAS session when you are done."
   ]
  },
  {
   "cell_type": "code",
   "execution_count": 48,
   "metadata": {},
   "outputs": [],
   "source": [
    "conn.terminate()"
   ]
  },
  {
   "cell_type": "markdown",
   "metadata": {},
   "source": [
    " "
   ]
  }
 ],
 "metadata": {
  "kernelspec": {
   "display_name": "Python 3 (ipykernel)",
   "language": "python",
   "name": "python3"
  },
  "language_info": {
   "codemirror_mode": {
    "name": "ipython",
    "version": 3
   },
   "file_extension": ".py",
   "mimetype": "text/x-python",
   "name": "python",
   "nbconvert_exporter": "python",
   "pygments_lexer": "ipython3",
   "version": "3.8.16"
  }
 },
 "nbformat": 4,
 "nbformat_minor": 4
}
