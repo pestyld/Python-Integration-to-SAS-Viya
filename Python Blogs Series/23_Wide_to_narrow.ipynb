{
 "cells": [
  {
   "cell_type": "markdown",
   "id": "ae3cb260-927f-4cbb-8b2f-547245086dbd",
   "metadata": {},
   "source": [
    "# Wide to Narrow\n",
    "SAS Blog: [test]()"
   ]
  },
  {
   "cell_type": "code",
   "execution_count": 2,
   "id": "17d7ea18-03cc-41de-93f0-32020b706cb9",
   "metadata": {
    "tags": []
   },
   "outputs": [
    {
     "name": "stdout",
     "output_type": "stream",
     "text": [
      "Imported personal custom CAS auth package\n",
      "Python version:3.8.16 (default, Mar  2 2023, 03:18:16) [MSC v.1916 64 bit (AMD64)]\n",
      "swat version:1.13.1\n",
      "pandas version:1.5.3\n",
      "numpy version:1.24.3\n"
     ]
    }
   ],
   "source": [
    "## Packages\n",
    "import swat\n",
    "import sys\n",
    "import os\n",
    "import pandas as pd\n",
    "import numpy as np\n",
    "\n",
    "## My custom package to connect to the CAS Server. Will not work in your environment.\n",
    "try:\n",
    "    from casauth import CASAuth\n",
    "    print('Imported personal custom CAS auth package')\n",
    "except:\n",
    "    print('casauth package not available')\n",
    "\n",
    "\n",
    "print(f'Python version:{sys.version.split(\"|\")[0]}')\n",
    "print(f'swat version:{swat.__version__}')\n",
    "print(f'pandas version:{pd.__version__}')\n",
    "print(f'numpy version:{np.__version__}')"
   ]
  },
  {
   "cell_type": "markdown",
   "id": "771c1514-916f-4aec-8560-51a190716e27",
   "metadata": {},
   "source": [
    "## Make a Connection to CAS (REQUIRED: MODIFY CONNECTION INFORMATION)\n",
    "\n",
    "##### To connect to the CAS server you will need:\n",
    "1. the host name, \n",
    "2. the portnumber, \n",
    "3. your user name, and your password.\n",
    "\n",
    "Visit the documentation [Getting Started with SAS® Viya® for Python](https://go.documentation.sas.com/doc/en/pgmsascdc/default/caspg3/titlepage.htm) for more information about connecting to CAS.\n",
    "\n",
    "**Be aware that connecting to the CAS server can be implemented in various ways, so you might need to see your system administrator about how to make a connection. Please follow company policy regarding authentication.**"
   ]
  },
  {
   "cell_type": "code",
   "execution_count": null,
   "id": "5f2cd850-62b7-4b81-8786-3f55c3a03c65",
   "metadata": {},
   "outputs": [],
   "source": [
    "##\n",
    "## Connect to CAS\n",
    "##\n",
    "\n",
    "################################\n",
    "## General connection syntax  ##\n",
    "################################\n",
    "# conn = swat.CAS(host, port, username, password)\n",
    "\n",
    "############################################\n",
    "## SAS Viya for Learners 3.5 connection   ##\n",
    "############################################\n",
    "# hostValue = os.environ.get('CASHOST')\n",
    "# portValue = os.environ.get('CASPORT')\n",
    "# passwordToken=os.environ.get('SAS_VIYA_TOKEN')\n",
    "# conn = swat.CAS(hostname=hostValue, port=portValue, password=passwordToken)\n",
    "\n",
    "\n",
    "##############################\n",
    "## My Personal connection   ##\n",
    "##############################\n",
    "try:\n",
    "    path = os.getenv('CAS_CREDENTIALS')\n",
    "    pem_file = os.getenv('CAS_CLIENT_SSL_CA_LIST')\n",
    "    conn = CASAuth(path, ssl_ca_list = pem_file)\n",
    "except:\n",
    "    print('No connection')\n",
    "    pass"
   ]
  }
 ],
 "metadata": {
  "kernelspec": {
   "display_name": "Python 3 (ipykernel)",
   "language": "python",
   "name": "python3"
  },
  "language_info": {
   "codemirror_mode": {
    "name": "ipython",
    "version": 3
   },
   "file_extension": ".py",
   "mimetype": "text/x-python",
   "name": "python",
   "nbconvert_exporter": "python",
   "pygments_lexer": "ipython3",
   "version": "3.8.16"
  }
 },
 "nbformat": 4,
 "nbformat_minor": 5
}
