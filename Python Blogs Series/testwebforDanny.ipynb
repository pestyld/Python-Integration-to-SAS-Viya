{
 "cells": [
  {
   "cell_type": "code",
   "execution_count": 1,
   "id": "61d41164-ab5d-4348-8fb8-9d8a728f700c",
   "metadata": {},
   "outputs": [],
   "source": [
    "import requests\n",
    "from bs4 import BeautifulSoup"
   ]
  },
  {
   "cell_type": "code",
   "execution_count": 23,
   "id": "e33b179c-9efe-46a0-86b5-6621d5b1cae6",
   "metadata": {},
   "outputs": [
    {
     "data": {
      "text/plain": [
       "<Response [200]>"
      ]
     },
     "execution_count": 23,
     "metadata": {},
     "output_type": "execute_result"
    }
   ],
   "source": [
    "data = requests.get('https://www.laughingplace.com/w/p/magic-kingdom-current-wait-times/')\n",
    "data"
   ]
  },
  {
   "cell_type": "code",
   "execution_count": null,
   "id": "a4ac5a09-f9df-4528-add0-48a2bb2ef377",
   "metadata": {},
   "outputs": [],
   "source": [
    "data.text"
   ]
  },
  {
   "cell_type": "code",
   "execution_count": null,
   "id": "0f384f45-5694-4e8f-8402-a88b4140f5ae",
   "metadata": {},
   "outputs": [],
   "source": [
    "soup = BeautifulSoup(data.text)\n",
    "soup"
   ]
  },
  {
   "cell_type": "code",
   "execution_count": null,
   "id": "a71155a0-e4df-4ab7-8c21-8671f5f2b539",
   "metadata": {},
   "outputs": [],
   "source": [
    "table = soup.find('table', attrs={'class':'lp_attraction'})\n",
    "table"
   ]
  },
  {
   "cell_type": "code",
   "execution_count": 51,
   "id": "cfc4f3ce-e1bb-43eb-9cc1-a6a01b9a40bc",
   "metadata": {},
   "outputs": [
    {
     "data": {
      "text/plain": [
       "[<tr>\n",
       " <td><a href=\"https://www.laughingplace.com/w/p/astro-orbiter-magic-kingdom/\">Astro Orbiter</a></td>\n",
       " <td>35 minutes</td>\n",
       " <td style=\"width: 125px;\"> </td>\n",
       " </tr>,\n",
       " <tr>\n",
       " <td><a href=\"https://www.laughingplace.com/w/p/the-barnstormer-magic-kingdom/\">The Barnstormer</a></td>\n",
       " <td>55 minutes</td>\n",
       " <td style=\"width: 125px;\">Genie+: 4:15p</td>\n",
       " </tr>,\n",
       " <tr>\n",
       " <td><a href=\"https://www.laughingplace.com/w/p/big-thunder-mountain-railroad-magic-kingdom/\">Big Thunder Mountain Railroad</a></td>\n",
       " <td>55 minutes</td>\n",
       " <td style=\"width: 125px;\">Genie+: 6:20p</td>\n",
       " </tr>,\n",
       " <tr>\n",
       " <td><a href=\"https://www.laughingplace.com/w/p/buzz-lightyears-space-ranger-spin-magic-kingdom/\">Buzz Lightyear’s Space Ranger Spin</a></td>\n",
       " <td>65 minutes</td>\n",
       " <td style=\"width: 125px;\">Genie+: 4:35p</td>\n",
       " </tr>,\n",
       " <tr>\n",
       " <td><a href=\"https://www.laughingplace.com/w/p/country-bear-jamboree-magic-kingdom/\">Country Bear Jamboree</a></td>\n",
       " <td>Open</td>\n",
       " <td style=\"width: 125px;\"> </td>\n",
       " </tr>,\n",
       " <tr>\n",
       " <td><a href=\"https://www.laughingplace.com/w/p/dumbo-the-flying-elephant-magic-kingdom/\">Dumbo the Flying Elephant</a></td>\n",
       " <td>25 minutes</td>\n",
       " <td style=\"width: 125px;\">Genie+: 3:00p</td>\n",
       " </tr>,\n",
       " <tr>\n",
       " <td><a href=\"https://www.laughingplace.com/w/p/enchanted-tales-with-belle-magic-kingdom/\">Enchanted Tales with Belle</a></td>\n",
       " <td>40 minutes</td>\n",
       " <td style=\"width: 125px;\">Genie+: 8:40p</td>\n",
       " </tr>,\n",
       " <tr>\n",
       " <td><a href=\"https://www.laughingplace.com/w/p/frontierland-shootin-arcade-magic-kingdom/\">Frontierland Shootin’ Arcade</a></td>\n",
       " <td>Open</td>\n",
       " <td style=\"width: 125px;\"> </td>\n",
       " </tr>,\n",
       " <tr>\n",
       " <td><a href=\"https://www.laughingplace.com/w/p/the-hall-of-presidents-magic-kingdom/\">The Hall of Presidents</a></td>\n",
       " <td>Open</td>\n",
       " <td style=\"width: 125px;\"> </td>\n",
       " </tr>,\n",
       " <tr>\n",
       " <td><a href=\"https://www.laughingplace.com/w/p/haunted-mansion-magic-kingdom/\">Haunted Mansion</a></td>\n",
       " <td>60 minutes</td>\n",
       " <td style=\"width: 125px;\">Genie+: 7:05p</td>\n",
       " </tr>,\n",
       " <tr>\n",
       " <td><a href=\"https://www.laughingplace.com/w/p/its-a-small-world-magic-kingdom/\">“it’s a small world”</a></td>\n",
       " <td>35 minutes</td>\n",
       " <td style=\"width: 125px;\">Genie+: 3:30p</td>\n",
       " </tr>,\n",
       " <tr>\n",
       " <td><a href=\"https://www.laughingplace.com/w/p/jungle-cruise-magic-kingdom/\">Jungle Cruise</a></td>\n",
       " <td>60 minutes</td>\n",
       " <td style=\"width: 125px;\">Genie+: 9:55p</td>\n",
       " </tr>,\n",
       " <tr>\n",
       " <td><a href=\"https://www.laughingplace.com/w/p/liberty-square-riverboat-magic-kingdom/\">Liberty Square Riverboat</a></td>\n",
       " <td>Open</td>\n",
       " <td style=\"width: 125px;\"> </td>\n",
       " </tr>,\n",
       " <tr>\n",
       " <td><a href=\"https://www.laughingplace.com/w/p/mad-tea-party-magic-kingdom/\">Mad Tea Party</a></td>\n",
       " <td>35 minutes</td>\n",
       " <td style=\"width: 125px;\">Genie+: 2:40p</td>\n",
       " </tr>,\n",
       " <tr>\n",
       " <td><a href=\"https://www.laughingplace.com/w/p/the-magic-carpets-of-aladdin-magic-kingdom/\">The Magic Carpets of Aladdin</a></td>\n",
       " <td>25 minutes</td>\n",
       " <td style=\"width: 125px;\">Genie+: 3:40p</td>\n",
       " </tr>,\n",
       " <tr>\n",
       " <td><a href=\"https://www.laughingplace.com/w/p/the-many-adventures-of-winnie-the-pooh-magic-kingdom/\">The Many Adventures of Winnie the Pooh</a></td>\n",
       " <td>45 minutes</td>\n",
       " <td style=\"width: 125px;\">Genie+: 4:05p</td>\n",
       " </tr>,\n",
       " <tr>\n",
       " <td><a href=\"https://www.laughingplace.com/w/p/mickeys-philharmagic-magic-kingdom/\">Mickey’s PhilharMagic</a></td>\n",
       " <td>20 minutes</td>\n",
       " <td style=\"width: 125px;\">Genie+: 2:00p</td>\n",
       " </tr>,\n",
       " <tr>\n",
       " <td><a href=\"https://www.laughingplace.com/w/p/monsters-inc-laugh-floor-magic-kingdom/\">Monsters Inc. Laugh Floor</a></td>\n",
       " <td>25 minutes</td>\n",
       " <td style=\"width: 125px;\">Genie+: 2:30p</td>\n",
       " </tr>,\n",
       " <tr>\n",
       " <td><a href=\"https://www.laughingplace.com/w/p/peter-pans-flight-magic-kingdom/\">Peter Pan’s Flight</a></td>\n",
       " <td>120 minutes</td>\n",
       " <td style=\"width: 125px;\">Genie+: Attraction Sold Out Today</td>\n",
       " </tr>,\n",
       " <tr>\n",
       " <td><a href=\"https://www.laughingplace.com/w/p/pirates-of-the-caribbean-magic-kingdom/\">Pirates of the Caribbean</a></td>\n",
       " <td><span class=\"statusdown\">Down</span></td>\n",
       " <td style=\"width: 125px;\">Genie+: 4:15p</td>\n",
       " </tr>,\n",
       " <tr>\n",
       " <td><a href=\"https://www.laughingplace.com/w/p/prince-charming-regal-carrousel-magic-kingdom/\">Prince Charming Regal Carrousel</a></td>\n",
       " <td>15 minutes</td>\n",
       " <td style=\"width: 125px;\"> </td>\n",
       " </tr>,\n",
       " <tr>\n",
       " <td><a href=\"https://www.laughingplace.com/w/p/seven-dwarfs-mine-train-magic-kingdom/\">Seven Dwarfs Mine Train</a></td>\n",
       " <td>140 minutes</td>\n",
       " <td style=\"width: 125px;\">Ind. LL: $12 Attraction Sold Out Today </td>\n",
       " </tr>,\n",
       " <tr>\n",
       " <td><a href=\"https://www.laughingplace.com/w/p/space-mountain-magic-kingdom/\">Space Mountain</a></td>\n",
       " <td>70 minutes</td>\n",
       " <td style=\"width: 125px;\">Genie+: 4:50p</td>\n",
       " </tr>,\n",
       " <tr>\n",
       " <td><a href=\"https://www.laughingplace.com/w/p/splash-mountain-magic-kingdom/\">Splash Mountain</a></td>\n",
       " <td>Closed</td>\n",
       " <td style=\"width: 125px;\">Genie+: Attraction Sold Out Today</td>\n",
       " </tr>,\n",
       " <tr>\n",
       " <td><a href=\"https://www.laughingplace.com/w/p/swiss-family-treehouse-magic-kingdom/\">Swiss Family Treehouse</a></td>\n",
       " <td>10 minutes</td>\n",
       " <td style=\"width: 125px;\"> </td>\n",
       " </tr>,\n",
       " <tr>\n",
       " <td><a href=\"https://www.laughingplace.com/w/p/tom-sawyer-island-magic-kingdom/\">Tom Sawyer Island</a></td>\n",
       " <td>5 minutes</td>\n",
       " <td style=\"width: 125px;\"> </td>\n",
       " </tr>,\n",
       " <tr>\n",
       " <td><a href=\"https://www.laughingplace.com/w/p/tomorrowland-speedway-magic-kingdom/\">Tomorrowland Speedway</a></td>\n",
       " <td>30 minutes</td>\n",
       " <td style=\"width: 125px;\">Genie+: 3:15p</td>\n",
       " </tr>,\n",
       " <tr>\n",
       " <td><a href=\"https://www.laughingplace.com/w/p/tomorrowland-transit-authority-peoplemover-magic-kingdom/\">Tomorrowland Transit Authority PeopleMover</a></td>\n",
       " <td>25 minutes</td>\n",
       " <td style=\"width: 125px;\"> </td>\n",
       " </tr>,\n",
       " <tr>\n",
       " <td>TRON Lightcycle / Run</td>\n",
       " <td>Open</td>\n",
       " <td style=\"width: 125px;\">Ind. LL: $20 Attraction Sold Out Today </td>\n",
       " </tr>,\n",
       " <tr>\n",
       " <td><a href=\"https://www.laughingplace.com/w/p/under-the-sea-journey-of-the-little-mermaid-magic-kingdom/\">Under the Sea ~ Journey of The Little Mermaid</a></td>\n",
       " <td>45 minutes</td>\n",
       " <td style=\"width: 125px;\">Genie+: 3:35p</td>\n",
       " </tr>,\n",
       " <tr>\n",
       " <td><a href=\"https://www.laughingplace.com/w/p/country-bear-jamboree-magic-kingdom/\">Walt Disney’s Carousel of Progress</a></td>\n",
       " <td>5 minutes</td>\n",
       " <td style=\"width: 125px;\"> </td>\n",
       " </tr>,\n",
       " <tr>\n",
       " <td><a href=\"https://www.laughingplace.com/w/p/enchanted-tales-with-belle-magic-kingdom/\">Walt Disney’s Enchanted Tiki Room</a></td>\n",
       " <td>15 minutes</td>\n",
       " <td style=\"width: 125px;\"> </td>\n",
       " </tr>]"
      ]
     },
     "execution_count": 51,
     "metadata": {},
     "output_type": "execute_result"
    }
   ],
   "source": [
    "rows = table.find_all('tr')\n",
    "rows"
   ]
  },
  {
   "cell_type": "code",
   "execution_count": 47,
   "id": "fa79745b-481e-442a-b6ef-9360b56bb0a6",
   "metadata": {},
   "outputs": [],
   "source": [
    "data_MK_temp = []\n",
    "for row in rows:\n",
    "    cols = row.find_all('td')\n",
    "    cols = [ele.text.strip() for ele in cols]\n",
    "    data_MK_temp.append([ele for ele in cols])"
   ]
  },
  {
   "cell_type": "code",
   "execution_count": 48,
   "id": "cd0e24b5-e5d3-48fd-9370-e464f24ae8cd",
   "metadata": {},
   "outputs": [
    {
     "data": {
      "text/plain": [
       "[['Astro Orbiter', '35 minutes', ''],\n",
       " ['The Barnstormer', '55 minutes', 'Genie+: 4:15p'],\n",
       " ['Big Thunder Mountain Railroad', '55 minutes', 'Genie+: 6:20p'],\n",
       " ['Buzz Lightyear’s Space Ranger Spin', '65 minutes', 'Genie+: 4:35p'],\n",
       " ['Country Bear Jamboree', 'Open', ''],\n",
       " ['Dumbo the Flying Elephant', '25 minutes', 'Genie+: 3:00p'],\n",
       " ['Enchanted Tales with Belle', '40 minutes', 'Genie+: 8:40p'],\n",
       " ['Frontierland Shootin’ Arcade', 'Open', ''],\n",
       " ['The Hall of Presidents', 'Open', ''],\n",
       " ['Haunted Mansion', '60 minutes', 'Genie+: 7:05p'],\n",
       " ['“it’s a small world”', '35 minutes', 'Genie+: 3:30p'],\n",
       " ['Jungle Cruise', '60 minutes', 'Genie+: 9:55p'],\n",
       " ['Liberty Square Riverboat', 'Open', ''],\n",
       " ['Mad Tea Party', '35 minutes', 'Genie+: 2:40p'],\n",
       " ['The Magic Carpets of Aladdin', '25 minutes', 'Genie+: 3:40p'],\n",
       " ['The Many Adventures of Winnie the Pooh', '45 minutes', 'Genie+: 4:05p'],\n",
       " ['Mickey’s PhilharMagic', '20 minutes', 'Genie+: 2:00p'],\n",
       " ['Monsters Inc. Laugh Floor', '25 minutes', 'Genie+: 2:30p'],\n",
       " ['Peter Pan’s Flight',\n",
       "  '120 minutes',\n",
       "  'Genie+: Attraction\\xa0Sold\\xa0Out\\xa0Today'],\n",
       " ['Pirates of the Caribbean', 'Down', 'Genie+: 4:15p'],\n",
       " ['Prince Charming Regal Carrousel', '15 minutes', ''],\n",
       " ['Seven Dwarfs Mine Train',\n",
       "  '140 minutes',\n",
       "  'Ind. LL: $12 Attraction\\xa0Sold\\xa0Out\\xa0Today'],\n",
       " ['Space Mountain', '70 minutes', 'Genie+: 4:50p'],\n",
       " ['Splash Mountain', 'Closed', 'Genie+: Attraction\\xa0Sold\\xa0Out\\xa0Today'],\n",
       " ['Swiss Family Treehouse', '10 minutes', ''],\n",
       " ['Tom Sawyer Island', '5 minutes', ''],\n",
       " ['Tomorrowland Speedway', '30 minutes', 'Genie+: 3:15p'],\n",
       " ['Tomorrowland Transit Authority PeopleMover', '25 minutes', ''],\n",
       " ['TRON Lightcycle / Run',\n",
       "  'Open',\n",
       "  'Ind. LL: $20 Attraction\\xa0Sold\\xa0Out\\xa0Today'],\n",
       " ['Under the Sea ~ Journey of The Little Mermaid',\n",
       "  '45 minutes',\n",
       "  'Genie+: 3:35p'],\n",
       " ['Walt Disney’s Carousel of Progress', '5 minutes', ''],\n",
       " ['Walt Disney’s Enchanted Tiki Room', '15 minutes', '']]"
      ]
     },
     "execution_count": 48,
     "metadata": {},
     "output_type": "execute_result"
    }
   ],
   "source": [
    "data_MK_temp"
   ]
  },
  {
   "cell_type": "code",
   "execution_count": null,
   "id": "2c4c066f-37a2-4a47-be5b-b6e83af62587",
   "metadata": {},
   "outputs": [],
   "source": []
  }
 ],
 "metadata": {
  "kernelspec": {
   "display_name": "Python 3 (ipykernel)",
   "language": "python",
   "name": "python3"
  },
  "language_info": {
   "codemirror_mode": {
    "name": "ipython",
    "version": 3
   },
   "file_extension": ".py",
   "mimetype": "text/x-python",
   "name": "python",
   "nbconvert_exporter": "python",
   "pygments_lexer": "ipython3",
   "version": "3.8.16"
  }
 },
 "nbformat": 4,
 "nbformat_minor": 5
}
