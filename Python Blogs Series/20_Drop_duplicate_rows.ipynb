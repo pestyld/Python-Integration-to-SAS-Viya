{
 "cells": [
  {
   "cell_type": "markdown",
   "id": "7a7d4631-d8e4-4230-900a-cce1abb105b8",
   "metadata": {},
   "source": [
    "# Drop duplicate rows"
   ]
  },
  {
   "cell_type": "code",
   "execution_count": 31,
   "id": "767d026b-bd1c-4765-82bf-67a1ad8e4303",
   "metadata": {
    "tags": []
   },
   "outputs": [
    {
     "name": "stdout",
     "output_type": "stream",
     "text": [
      "Imported personal custom CAS auth package\n",
      "Python version:3.8.16 (default, Mar  2 2023, 03:18:16) [MSC v.1916 64 bit (AMD64)]\n",
      "swat version:1.13.1\n",
      "pandas version:1.5.3\n"
     ]
    }
   ],
   "source": [
    "## Packages\n",
    "import swat\n",
    "import sys\n",
    "import os\n",
    "import pandas as pd\n",
    "\n",
    "\n",
    "## Options\n",
    "pd.set_option('display.max_columns', 50)\n",
    "pd.set_option('display.max_colwidth', None)\n",
    "\n",
    "try:\n",
    "    from casauth import CASAuth\n",
    "    print('Imported personal custom CAS auth package')\n",
    "except:\n",
    "    print('casauth package not available')\n",
    "\n",
    "print(f'Python version:{sys.version.split(\"|\")[0]}')\n",
    "print(f'swat version:{swat.__version__}')\n",
    "print(f'pandas version:{pd.__version__}')"
   ]
  },
  {
   "cell_type": "markdown",
   "id": "ddb5fab4-b003-4057-a074-f2bb7486ac4b",
   "metadata": {},
   "source": [
    "## Connect to CAS\n",
    "My personal CAS connection information. Yours will differ."
   ]
  },
  {
   "cell_type": "code",
   "execution_count": 32,
   "id": "5451ab6b-d26b-4fdf-b80c-84bd84ecdb40",
   "metadata": {
    "tags": []
   },
   "outputs": [
    {
     "name": "stdout",
     "output_type": "stream",
     "text": [
      "CAS Connection created\n"
     ]
    }
   ],
   "source": [
    "try:\n",
    "    path = os.getenv('CAS_CREDENTIALS')\n",
    "    pem_file = os.getenv('CAS_CLIENT_SSL_CA_LIST')\n",
    "    conn = CASAuth(path, ssl_ca_list = pem_file)\n",
    "except:\n",
    "    print('Use your own connection information with the swat.CAS method')\n",
    "\n",
    "#########################################\n",
    "##  Enter your connection information  ##\n",
    "#########################################\n",
    "## conn = swat.CAS()"
   ]
  },
  {
   "cell_type": "markdown",
   "id": "c6acc239-74e4-4609-97c4-352e281185ac",
   "metadata": {},
   "source": [
    "Check the connection and version of Viya."
   ]
  },
  {
   "cell_type": "code",
   "execution_count": 33,
   "id": "c8ea0584-13d4-4293-a1f7-998f91f833f0",
   "metadata": {
    "tags": []
   },
   "outputs": [
    {
     "name": "stdout",
     "output_type": "stream",
     "text": [
      "NOTE: Grid node action status report: 5 nodes, 9 total actions executed.\n"
     ]
    },
    {
     "data": {
      "text/plain": [
       "'Stable 2023.05'"
      ]
     },
     "execution_count": 33,
     "metadata": {},
     "output_type": "execute_result"
    }
   ],
   "source": [
    "conn.about()['About']['Viya Version']"
   ]
  },
  {
   "cell_type": "markdown",
   "id": "6910b042-9f81-4064-a1af-011b25da7918",
   "metadata": {},
   "source": [
    "## Create demonstration data\n",
    "Create a simple DataFrame and load it as a distributed CAS table. \n",
    "\n",
    "NOTE: This example uses small data for training purposes. Typically the CAS server is used for big data."
   ]
  },
  {
   "cell_type": "code",
   "execution_count": 34,
   "id": "b6bf78da-f335-46e5-a601-15d96f86b19c",
   "metadata": {},
   "outputs": [
    {
     "name": "stdout",
     "output_type": "stream",
     "text": [
      "NOTE: Cloud Analytic Services made the uploaded file available as table DUP_TBL in caslib CASUSER(Peter.Styliadis@sas.com).\n",
      "NOTE: The table DUP_TBL has been created in caslib CASUSER(Peter.Styliadis@sas.com) from binary data uploaded to Cloud Analytic Services.\n"
     ]
    },
    {
     "data": {
      "text/plain": [
       "swat.cas.table.CASTable"
      ]
     },
     "metadata": {},
     "output_type": "display_data"
    },
    {
     "data": {
      "text/html": [
       "<div>\n",
       "<style scoped>\n",
       "    .dataframe tbody tr th:only-of-type {\n",
       "        vertical-align: middle;\n",
       "    }\n",
       "\n",
       "    .dataframe tbody tr th {\n",
       "        vertical-align: top;\n",
       "    }\n",
       "\n",
       "    .dataframe thead th {\n",
       "        text-align: right;\n",
       "    }\n",
       "</style>\n",
       "<table border=\"1\" class=\"dataframe\"><caption>Selected Rows from Table DUP_TBL</caption>\n",
       "  <thead>\n",
       "    <tr style=\"text-align: right;\">\n",
       "      <th title=\"\"></th>\n",
       "      <th title=\"brand\">brand</th>\n",
       "      <th title=\"style\">style</th>\n",
       "      <th title=\"rating\">rating</th>\n",
       "    </tr>\n",
       "  </thead>\n",
       "  <tbody>\n",
       "    <tr>\n",
       "      <td>0</td>\n",
       "      <td>Yum Yum</td>\n",
       "      <td>cup</td>\n",
       "      <td>4.0</td>\n",
       "    </tr>\n",
       "    <tr>\n",
       "      <td>1</td>\n",
       "      <td>Yum Yum</td>\n",
       "      <td>cup</td>\n",
       "      <td>4.0</td>\n",
       "    </tr>\n",
       "    <tr>\n",
       "      <td>2</td>\n",
       "      <td>Indomie</td>\n",
       "      <td>cup</td>\n",
       "      <td>3.5</td>\n",
       "    </tr>\n",
       "    <tr>\n",
       "      <td>3</td>\n",
       "      <td>Indomie</td>\n",
       "      <td>pack</td>\n",
       "      <td>15.0</td>\n",
       "    </tr>\n",
       "    <tr>\n",
       "      <td>4</td>\n",
       "      <td>Indomie</td>\n",
       "      <td>pack</td>\n",
       "      <td>5.0</td>\n",
       "    </tr>\n",
       "  </tbody>\n",
       "</table>\n",
       "</div>"
      ],
      "text/plain": [
       "Selected Rows from Table DUP_TBL\n",
       "\n",
       "     brand style  rating\n",
       "0  Yum Yum   cup     4.0\n",
       "1  Yum Yum   cup     4.0\n",
       "2  Indomie   cup     3.5\n",
       "3  Indomie  pack    15.0\n",
       "4  Indomie  pack     5.0"
      ]
     },
     "metadata": {},
     "output_type": "display_data"
    }
   ],
   "source": [
    "## Create the local DataFrame\n",
    "df = pd.DataFrame({\n",
    "    'brand': ['Yum Yum', 'Yum Yum', 'Indomie', 'Indomie', 'Indomie'],\n",
    "    'style': ['cup', 'cup', 'cup', 'pack', 'pack'],\n",
    "    'rating': [4, 4, 3.5, 15, 5]\n",
    "})\n",
    "\n",
    "## Load the DataFrame to CAS as a distributed CASTable\n",
    "castbl = conn.upload_frame(df, casout = {'name':'dup_tbl', \n",
    "                                         'caslib':'casuser', \n",
    "                                         'replace':True})\n",
    "\n",
    "## View the value of castbl and view rows from the CAS table\n",
    "display(type(castbl), castbl.head())"
   ]
  },
  {
   "cell_type": "markdown",
   "id": "0711257e-70be-41ee-96ad-b8bb6e9e3be2",
   "metadata": {},
   "source": [
    "## Using the Pandas API in the SWAT package(drop_duplicates)"
   ]
  },
  {
   "cell_type": "markdown",
   "id": "752d9d06-8410-4c47-8550-afb25b9868af",
   "metadata": {
    "tags": []
   },
   "source": [
    "Remove duplicate rows based on all columns and create a new CAS table."
   ]
  },
  {
   "cell_type": "code",
   "execution_count": 35,
   "id": "6359590d-96c8-456a-a8dd-88fc25d00fc5",
   "metadata": {
    "tags": []
   },
   "outputs": [
    {
     "data": {
      "text/plain": [
       "CASTable('drop_dups', caslib='casuser')"
      ]
     },
     "execution_count": 35,
     "metadata": {},
     "output_type": "execute_result"
    }
   ],
   "source": [
    "no_dup_castbl = castbl.drop_duplicates(casout = {'name':'drop_dups', 'caslib':'casuser'})\n",
    "no_dup_castbl"
   ]
  },
  {
   "cell_type": "code",
   "execution_count": 38,
   "id": "e7083604-c2a0-4705-9472-42df09cb0a1b",
   "metadata": {
    "tags": []
   },
   "outputs": [
    {
     "data": {
      "text/html": [
       "<div class=\"cas-results-key\"><b>&#167; TableInfo</b></div>\n",
       "<div class=\"cas-results-body\">\n",
       "<div>\n",
       "<style scoped>\n",
       "    .dataframe tbody tr th:only-of-type {\n",
       "        vertical-align: middle;\n",
       "    }\n",
       "\n",
       "    .dataframe tbody tr th {\n",
       "        vertical-align: top;\n",
       "    }\n",
       "\n",
       "    .dataframe thead th {\n",
       "        text-align: right;\n",
       "    }\n",
       "</style>\n",
       "<table border=\"1\" class=\"dataframe\">\n",
       "  <thead>\n",
       "    <tr style=\"text-align: right;\">\n",
       "      <th title=\"\"></th>\n",
       "      <th title=\"Name\">Name</th>\n",
       "      <th title=\"Rows\">Rows</th>\n",
       "      <th title=\"Columns\">Columns</th>\n",
       "      <th title=\"Indexed Columns\">IndexedColumns</th>\n",
       "      <th title=\"Encoding\">Encoding</th>\n",
       "      <th title=\"Created\">CreateTimeFormatted</th>\n",
       "      <th title=\"Last Modified\">ModTimeFormatted</th>\n",
       "      <th title=\"Last Accessed\">AccessTimeFormatted</th>\n",
       "      <th title=\"Character Set\">JavaCharSet</th>\n",
       "      <th title=\"CreateTime\">CreateTime</th>\n",
       "      <th title=\"ModTime\">ModTime</th>\n",
       "      <th title=\"AccessTime\">AccessTime</th>\n",
       "      <th title=\"Global\">Global</th>\n",
       "      <th title=\"Repeated\">Repeated</th>\n",
       "      <th title=\"View\">View</th>\n",
       "      <th title=\"MultiPart\">MultiPart</th>\n",
       "      <th title=\"Loaded Source\">SourceName</th>\n",
       "      <th title=\"Source Caslib\">SourceCaslib</th>\n",
       "      <th title=\"Compressed\">Compressed</th>\n",
       "      <th title=\"Table Creator\">Creator</th>\n",
       "      <th title=\"Last Table Modifier\">Modifier</th>\n",
       "      <th title=\"Source Modified\">SourceModTimeFormatted</th>\n",
       "      <th title=\"SourceModTime\">SourceModTime</th>\n",
       "    </tr>\n",
       "  </thead>\n",
       "  <tbody>\n",
       "    <tr>\n",
       "      <td>0</td>\n",
       "      <td>DUP_TBL</td>\n",
       "      <td>5</td>\n",
       "      <td>3</td>\n",
       "      <td>0</td>\n",
       "      <td>utf-8</td>\n",
       "      <td>2023-07-27T13:00:53+00:00</td>\n",
       "      <td>2023-07-27T13:00:53+00:00</td>\n",
       "      <td>2023-07-27T13:00:55+00:00</td>\n",
       "      <td>UTF8</td>\n",
       "      <td>2.006082e+09</td>\n",
       "      <td>2.006082e+09</td>\n",
       "      <td>2.006082e+09</td>\n",
       "      <td>0</td>\n",
       "      <td>0</td>\n",
       "      <td>0</td>\n",
       "      <td>0</td>\n",
       "      <td></td>\n",
       "      <td></td>\n",
       "      <td>0</td>\n",
       "      <td>Peter.Styliadis@sas.com</td>\n",
       "      <td></td>\n",
       "      <td>2023-07-27T13:00:53+00:00</td>\n",
       "      <td>2.006082e+09</td>\n",
       "    </tr>\n",
       "    <tr>\n",
       "      <td>1</td>\n",
       "      <td>DROP_DUPS</td>\n",
       "      <td>4</td>\n",
       "      <td>3</td>\n",
       "      <td>0</td>\n",
       "      <td>utf-8</td>\n",
       "      <td>2023-07-27T13:00:55+00:00</td>\n",
       "      <td>2023-07-27T13:00:55+00:00</td>\n",
       "      <td>2023-07-27T13:00:55+00:00</td>\n",
       "      <td>UTF8</td>\n",
       "      <td>2.006082e+09</td>\n",
       "      <td>2.006082e+09</td>\n",
       "      <td>2.006082e+09</td>\n",
       "      <td>0</td>\n",
       "      <td>0</td>\n",
       "      <td>0</td>\n",
       "      <td>0</td>\n",
       "      <td></td>\n",
       "      <td></td>\n",
       "      <td>0</td>\n",
       "      <td>Peter.Styliadis@sas.com</td>\n",
       "      <td></td>\n",
       "      <td></td>\n",
       "      <td>NaN</td>\n",
       "    </tr>\n",
       "  </tbody>\n",
       "</table>\n",
       "</div>\n",
       "</div>\n",
       "<div class=\"cas-output-area\"></div>\n",
       "<p class=\"cas-results-performance\"><small><span class=\"cas-elapsed\">elapsed 0.00972s</span> &#183; <span class=\"cas-user\">user 0.00628s</span> &#183; <span class=\"cas-sys\">sys 0.0121s</span> &#183; <span class=\"cas-memory\">mem 1.86MB</span></small></p>"
      ],
      "text/plain": [
       "[TableInfo]\n",
       "\n",
       "         Name  Rows  Columns  IndexedColumns Encoding        CreateTimeFormatted           ModTimeFormatted        AccessTimeFormatted JavaCharSet    CreateTime       ModTime    AccessTime  Global  Repeated  View  MultiPart SourceName SourceCaslib  Compressed                  Creator Modifier     SourceModTimeFormatted  SourceModTime\n",
       " 0    DUP_TBL     5        3               0    utf-8  2023-07-27T13:00:53+00:00  2023-07-27T13:00:53+00:00  2023-07-27T13:00:55+00:00        UTF8  2.006082e+09  2.006082e+09  2.006082e+09       0         0     0          0                                   0  Peter.Styliadis@sas.com           2023-07-27T13:00:53+00:00   2.006082e+09\n",
       " 1  DROP_DUPS     4        3               0    utf-8  2023-07-27T13:00:55+00:00  2023-07-27T13:00:55+00:00  2023-07-27T13:00:55+00:00        UTF8  2.006082e+09  2.006082e+09  2.006082e+09       0         0     0          0                                   0  Peter.Styliadis@sas.com                                                NaN\n",
       "\n",
       "+ Elapsed: 0.00972s, user: 0.00628s, sys: 0.0121s, mem: 1.86mb"
      ]
     },
     "execution_count": 38,
     "metadata": {},
     "output_type": "execute_result"
    }
   ],
   "source": [
    "conn.tableInfo(caslib = 'casuser')"
   ]
  },
  {
   "cell_type": "markdown",
   "id": "09d6448c-d622-49fa-906a-03bf1a752a50",
   "metadata": {},
   "source": [
    "The drop_duplicates method returns a reference to the new CAS table."
   ]
  },
  {
   "cell_type": "code",
   "execution_count": 39,
   "id": "aff5242e-2cab-4d83-b4fe-83dd9c18a166",
   "metadata": {
    "tags": []
   },
   "outputs": [
    {
     "data": {
      "text/plain": [
       "swat.cas.table.CASTable"
      ]
     },
     "metadata": {},
     "output_type": "display_data"
    },
    {
     "data": {
      "text/plain": [
       "CASTable('drop_dups', caslib='casuser')"
      ]
     },
     "metadata": {},
     "output_type": "display_data"
    }
   ],
   "source": [
    "display(type(no_dup_castbl), no_dup_castbl)"
   ]
  },
  {
   "cell_type": "code",
   "execution_count": 40,
   "id": "6dcdc7c7-5bb3-4ac2-8f9e-6a6278551cfa",
   "metadata": {
    "tags": []
   },
   "outputs": [
    {
     "data": {
      "text/html": [
       "<div>\n",
       "<style scoped>\n",
       "    .dataframe tbody tr th:only-of-type {\n",
       "        vertical-align: middle;\n",
       "    }\n",
       "\n",
       "    .dataframe tbody tr th {\n",
       "        vertical-align: top;\n",
       "    }\n",
       "\n",
       "    .dataframe thead th {\n",
       "        text-align: right;\n",
       "    }\n",
       "</style>\n",
       "<table border=\"1\" class=\"dataframe\"><caption>Selected Rows from Table DROP_DUPS</caption>\n",
       "  <thead>\n",
       "    <tr style=\"text-align: right;\">\n",
       "      <th title=\"\"></th>\n",
       "      <th title=\"brand\">brand</th>\n",
       "      <th title=\"style\">style</th>\n",
       "      <th title=\"rating\">rating</th>\n",
       "    </tr>\n",
       "  </thead>\n",
       "  <tbody>\n",
       "    <tr>\n",
       "      <td>0</td>\n",
       "      <td>Indomie</td>\n",
       "      <td>pack</td>\n",
       "      <td>15.0</td>\n",
       "    </tr>\n",
       "    <tr>\n",
       "      <td>1</td>\n",
       "      <td>Indomie</td>\n",
       "      <td>pack</td>\n",
       "      <td>5.0</td>\n",
       "    </tr>\n",
       "    <tr>\n",
       "      <td>2</td>\n",
       "      <td>Yum Yum</td>\n",
       "      <td>cup</td>\n",
       "      <td>4.0</td>\n",
       "    </tr>\n",
       "    <tr>\n",
       "      <td>3</td>\n",
       "      <td>Indomie</td>\n",
       "      <td>cup</td>\n",
       "      <td>3.5</td>\n",
       "    </tr>\n",
       "  </tbody>\n",
       "</table>\n",
       "</div>"
      ],
      "text/plain": [
       "Selected Rows from Table DROP_DUPS\n",
       "\n",
       "     brand style  rating\n",
       "0  Indomie  pack    15.0\n",
       "1  Indomie  pack     5.0\n",
       "2  Yum Yum   cup     4.0\n",
       "3  Indomie   cup     3.5"
      ]
     },
     "execution_count": 40,
     "metadata": {},
     "output_type": "execute_result"
    }
   ],
   "source": [
    "no_dup_castbl.head()"
   ]
  },
  {
   "cell_type": "code",
   "execution_count": 36,
   "id": "3c528b3f-d962-4a92-96c2-063834fce2d7",
   "metadata": {
    "tags": []
   },
   "outputs": [
    {
     "data": {
      "text/html": [
       "<div>\n",
       "<style scoped>\n",
       "    .dataframe tbody tr th:only-of-type {\n",
       "        vertical-align: middle;\n",
       "    }\n",
       "\n",
       "    .dataframe tbody tr th {\n",
       "        vertical-align: top;\n",
       "    }\n",
       "\n",
       "    .dataframe thead th {\n",
       "        text-align: right;\n",
       "    }\n",
       "</style>\n",
       "<table border=\"1\" class=\"dataframe\"><caption>Selected Rows from Table DROP_DUPS</caption>\n",
       "  <thead>\n",
       "    <tr style=\"text-align: right;\">\n",
       "      <th title=\"\"></th>\n",
       "      <th title=\"brand\">brand</th>\n",
       "      <th title=\"style\">style</th>\n",
       "      <th title=\"rating\">rating</th>\n",
       "    </tr>\n",
       "  </thead>\n",
       "  <tbody>\n",
       "    <tr>\n",
       "      <td>0</td>\n",
       "      <td>Indomie</td>\n",
       "      <td>pack</td>\n",
       "      <td>15.0</td>\n",
       "    </tr>\n",
       "    <tr>\n",
       "      <td>1</td>\n",
       "      <td>Indomie</td>\n",
       "      <td>pack</td>\n",
       "      <td>5.0</td>\n",
       "    </tr>\n",
       "    <tr>\n",
       "      <td>2</td>\n",
       "      <td>Yum Yum</td>\n",
       "      <td>cup</td>\n",
       "      <td>4.0</td>\n",
       "    </tr>\n",
       "    <tr>\n",
       "      <td>3</td>\n",
       "      <td>Indomie</td>\n",
       "      <td>cup</td>\n",
       "      <td>3.5</td>\n",
       "    </tr>\n",
       "  </tbody>\n",
       "</table>\n",
       "</div>"
      ],
      "text/plain": [
       "Selected Rows from Table DROP_DUPS\n",
       "\n",
       "     brand style  rating\n",
       "0  Indomie  pack    15.0\n",
       "1  Indomie  pack     5.0\n",
       "2  Yum Yum   cup     4.0\n",
       "3  Indomie   cup     3.5"
      ]
     },
     "execution_count": 36,
     "metadata": {},
     "output_type": "execute_result"
    }
   ],
   "source": [
    "no_dup_castbl.head()"
   ]
  },
  {
   "cell_type": "markdown",
   "id": "cac9543e-53b1-499f-b903-6295f94ff043",
   "metadata": {},
   "source": [
    "## Remove duplicate rows based on specific columns\n",
    "\n",
    "To remove duplicates on specific column(s) specify a single column or a list."
   ]
  },
  {
   "cell_type": "code",
   "execution_count": 44,
   "id": "241366ea-d79f-47be-a3ce-e963ca70b78f",
   "metadata": {
    "tags": []
   },
   "outputs": [
    {
     "data": {
      "text/html": [
       "<div>\n",
       "<style scoped>\n",
       "    .dataframe tbody tr th:only-of-type {\n",
       "        vertical-align: middle;\n",
       "    }\n",
       "\n",
       "    .dataframe tbody tr th {\n",
       "        vertical-align: top;\n",
       "    }\n",
       "\n",
       "    .dataframe thead th {\n",
       "        text-align: right;\n",
       "    }\n",
       "</style>\n",
       "<table border=\"1\" class=\"dataframe\"><caption>Selected Rows from Table DROP_DUPS_SUBSET</caption>\n",
       "  <thead>\n",
       "    <tr style=\"text-align: right;\">\n",
       "      <th title=\"\"></th>\n",
       "      <th title=\"brand\">brand</th>\n",
       "      <th title=\"style\">style</th>\n",
       "      <th title=\"rating\">rating</th>\n",
       "    </tr>\n",
       "  </thead>\n",
       "  <tbody>\n",
       "    <tr>\n",
       "      <td>0</td>\n",
       "      <td>Yum Yum</td>\n",
       "      <td>cup</td>\n",
       "      <td>4.0</td>\n",
       "    </tr>\n",
       "    <tr>\n",
       "      <td>1</td>\n",
       "      <td>Indomie</td>\n",
       "      <td>pack</td>\n",
       "      <td>5.0</td>\n",
       "    </tr>\n",
       "    <tr>\n",
       "      <td>2</td>\n",
       "      <td>Indomie</td>\n",
       "      <td>cup</td>\n",
       "      <td>3.5</td>\n",
       "    </tr>\n",
       "  </tbody>\n",
       "</table>\n",
       "</div>"
      ],
      "text/plain": [
       "Selected Rows from Table DROP_DUPS_SUBSET\n",
       "\n",
       "     brand style  rating\n",
       "0  Yum Yum   cup     4.0\n",
       "1  Indomie  pack     5.0\n",
       "2  Indomie   cup     3.5"
      ]
     },
     "execution_count": 44,
     "metadata": {},
     "output_type": "execute_result"
    }
   ],
   "source": [
    "no_dup_subset = castbl.drop_duplicates(subset=['brand','style'], \n",
    "                                       casout={'name':'drop_dups_subset', 'caslib':'casuser'})\n",
    "\n",
    "no_dup_subset.head()"
   ]
  },
  {
   "cell_type": "code",
   "execution_count": 27,
   "id": "56b8628a-e5ec-42e1-a26e-a7c726faf811",
   "metadata": {
    "tags": []
   },
   "outputs": [
    {
     "data": {
      "text/html": [
       "<div class=\"cas-results-key\"><b>&#167; TableInfo</b></div>\n",
       "<div class=\"cas-results-body\">\n",
       "<div>\n",
       "<style scoped>\n",
       "    .dataframe tbody tr th:only-of-type {\n",
       "        vertical-align: middle;\n",
       "    }\n",
       "\n",
       "    .dataframe tbody tr th {\n",
       "        vertical-align: top;\n",
       "    }\n",
       "\n",
       "    .dataframe thead th {\n",
       "        text-align: right;\n",
       "    }\n",
       "</style>\n",
       "<table border=\"1\" class=\"dataframe\">\n",
       "  <thead>\n",
       "    <tr style=\"text-align: right;\">\n",
       "      <th title=\"\"></th>\n",
       "      <th title=\"Name\">Name</th>\n",
       "      <th title=\"Rows\">Rows</th>\n",
       "      <th title=\"Columns\">Columns</th>\n",
       "      <th title=\"Indexed Columns\">IndexedColumns</th>\n",
       "      <th title=\"Encoding\">Encoding</th>\n",
       "      <th title=\"Created\">CreateTimeFormatted</th>\n",
       "      <th title=\"Last Modified\">ModTimeFormatted</th>\n",
       "      <th title=\"Last Accessed\">AccessTimeFormatted</th>\n",
       "      <th title=\"Character Set\">JavaCharSet</th>\n",
       "      <th title=\"CreateTime\">CreateTime</th>\n",
       "      <th title=\"ModTime\">ModTime</th>\n",
       "      <th title=\"AccessTime\">AccessTime</th>\n",
       "      <th title=\"Global\">Global</th>\n",
       "      <th title=\"Repeated\">Repeated</th>\n",
       "      <th title=\"View\">View</th>\n",
       "      <th title=\"MultiPart\">MultiPart</th>\n",
       "      <th title=\"Loaded Source\">SourceName</th>\n",
       "      <th title=\"Source Caslib\">SourceCaslib</th>\n",
       "      <th title=\"Compressed\">Compressed</th>\n",
       "      <th title=\"Table Creator\">Creator</th>\n",
       "      <th title=\"Last Table Modifier\">Modifier</th>\n",
       "      <th title=\"Source Modified\">SourceModTimeFormatted</th>\n",
       "      <th title=\"SourceModTime\">SourceModTime</th>\n",
       "    </tr>\n",
       "  </thead>\n",
       "  <tbody>\n",
       "    <tr>\n",
       "      <td>0</td>\n",
       "      <td>DUP_TBL</td>\n",
       "      <td>5</td>\n",
       "      <td>3</td>\n",
       "      <td>0</td>\n",
       "      <td>utf-8</td>\n",
       "      <td>2023-07-21T14:10:41+00:00</td>\n",
       "      <td>2023-07-21T14:10:41+00:00</td>\n",
       "      <td>2023-07-21T15:57:58+00:00</td>\n",
       "      <td>UTF8</td>\n",
       "      <td>2.005568e+09</td>\n",
       "      <td>2.005568e+09</td>\n",
       "      <td>2.005574e+09</td>\n",
       "      <td>0</td>\n",
       "      <td>0</td>\n",
       "      <td>0</td>\n",
       "      <td>0</td>\n",
       "      <td></td>\n",
       "      <td></td>\n",
       "      <td>0</td>\n",
       "      <td>Peter.Styliadis@sas.com</td>\n",
       "      <td></td>\n",
       "      <td>2023-07-21T14:10:41+00:00</td>\n",
       "      <td>2.005568e+09</td>\n",
       "    </tr>\n",
       "    <tr>\n",
       "      <td>1</td>\n",
       "      <td>DROP_DUPS</td>\n",
       "      <td>4</td>\n",
       "      <td>3</td>\n",
       "      <td>0</td>\n",
       "      <td>utf-8</td>\n",
       "      <td>2023-07-21T14:10:45+00:00</td>\n",
       "      <td>2023-07-21T14:10:45+00:00</td>\n",
       "      <td>2023-07-21T15:45:16+00:00</td>\n",
       "      <td>UTF8</td>\n",
       "      <td>2.005568e+09</td>\n",
       "      <td>2.005568e+09</td>\n",
       "      <td>2.005574e+09</td>\n",
       "      <td>0</td>\n",
       "      <td>0</td>\n",
       "      <td>0</td>\n",
       "      <td>0</td>\n",
       "      <td></td>\n",
       "      <td></td>\n",
       "      <td>0</td>\n",
       "      <td>Peter.Styliadis@sas.com</td>\n",
       "      <td></td>\n",
       "      <td></td>\n",
       "      <td>NaN</td>\n",
       "    </tr>\n",
       "    <tr>\n",
       "      <td>2</td>\n",
       "      <td>DROP_DUPS_SUBSET</td>\n",
       "      <td>3</td>\n",
       "      <td>3</td>\n",
       "      <td>0</td>\n",
       "      <td>utf-8</td>\n",
       "      <td>2023-07-21T15:57:58+00:00</td>\n",
       "      <td>2023-07-21T15:57:58+00:00</td>\n",
       "      <td>2023-07-21T15:57:58+00:00</td>\n",
       "      <td>UTF8</td>\n",
       "      <td>2.005574e+09</td>\n",
       "      <td>2.005574e+09</td>\n",
       "      <td>2.005574e+09</td>\n",
       "      <td>0</td>\n",
       "      <td>0</td>\n",
       "      <td>0</td>\n",
       "      <td>0</td>\n",
       "      <td></td>\n",
       "      <td></td>\n",
       "      <td>0</td>\n",
       "      <td>Peter.Styliadis@sas.com</td>\n",
       "      <td></td>\n",
       "      <td></td>\n",
       "      <td>NaN</td>\n",
       "    </tr>\n",
       "  </tbody>\n",
       "</table>\n",
       "</div>\n",
       "</div>\n",
       "<div class=\"cas-output-area\"></div>\n",
       "<p class=\"cas-results-performance\"><small><span class=\"cas-elapsed\">elapsed 0.0091s</span> &#183; <span class=\"cas-user\">user 0.00761s</span> &#183; <span class=\"cas-sys\">sys 0.0113s</span> &#183; <span class=\"cas-memory\">mem 1.88MB</span></small></p>"
      ],
      "text/plain": [
       "[TableInfo]\n",
       "\n",
       "                Name  Rows  Columns  IndexedColumns Encoding        CreateTimeFormatted           ModTimeFormatted        AccessTimeFormatted JavaCharSet    CreateTime       ModTime    AccessTime  Global  Repeated  View  MultiPart SourceName SourceCaslib  Compressed                  Creator Modifier     SourceModTimeFormatted  SourceModTime\n",
       " 0           DUP_TBL     5        3               0    utf-8  2023-07-21T14:10:41+00:00  2023-07-21T14:10:41+00:00  2023-07-21T15:57:58+00:00        UTF8  2.005568e+09  2.005568e+09  2.005574e+09       0         0     0          0                                   0  Peter.Styliadis@sas.com           2023-07-21T14:10:41+00:00   2.005568e+09\n",
       " 1         DROP_DUPS     4        3               0    utf-8  2023-07-21T14:10:45+00:00  2023-07-21T14:10:45+00:00  2023-07-21T15:45:16+00:00        UTF8  2.005568e+09  2.005568e+09  2.005574e+09       0         0     0          0                                   0  Peter.Styliadis@sas.com                                                NaN\n",
       " 2  DROP_DUPS_SUBSET     3        3               0    utf-8  2023-07-21T15:57:58+00:00  2023-07-21T15:57:58+00:00  2023-07-21T15:57:58+00:00        UTF8  2.005574e+09  2.005574e+09  2.005574e+09       0         0     0          0                                   0  Peter.Styliadis@sas.com                                                NaN\n",
       "\n",
       "+ Elapsed: 0.0091s, user: 0.00761s, sys: 0.0113s, mem: 1.88mb"
      ]
     },
     "execution_count": 27,
     "metadata": {},
     "output_type": "execute_result"
    }
   ],
   "source": [
    "conn.tableInfo(caslib = 'casuser')"
   ]
  },
  {
   "cell_type": "markdown",
   "id": "44e6902e-1a44-4735-adaa-fc2b3efe0fa1",
   "metadata": {
    "tags": []
   },
   "source": [
    "## Using a native CAS action (deduplication.deduplicatea)\n",
    "\n",
    "[deduplicate Action Documentation](https://go.documentation.sas.com/doc/en/pgmsascdc/default/caspg/cas-deduplication-deduplicate.htm)\n",
    "\n",
    "I'll confirm the castbl variable is referencing the original CAS table."
   ]
  },
  {
   "cell_type": "code",
   "execution_count": 47,
   "id": "3b543820-0e25-4871-b2a2-2b50f3cce04f",
   "metadata": {
    "tags": []
   },
   "outputs": [
    {
     "data": {
      "text/plain": [
       "CASTable('DUP_TBL', caslib='CASUSER(Peter.Styliadis@sas.com)')"
      ]
     },
     "execution_count": 47,
     "metadata": {},
     "output_type": "execute_result"
    }
   ],
   "source": [
    "castbl"
   ]
  },
  {
   "cell_type": "markdown",
   "id": "0ba71e82-7039-4087-bc5f-0356e30b5406",
   "metadata": {},
   "source": [
    "First i'll load the deduplication action Set."
   ]
  },
  {
   "cell_type": "code",
   "execution_count": 41,
   "id": "6105b0f0-9fac-4749-a990-24b7d60e0cf0",
   "metadata": {
    "tags": []
   },
   "outputs": [
    {
     "name": "stdout",
     "output_type": "stream",
     "text": [
      "NOTE: Added action set 'deduplication'.\n"
     ]
    },
    {
     "data": {
      "text/html": [
       "<div class=\"cas-results-key\"><b>&#167; actionset</b></div>\n",
       "<div class=\"cas-results-body\">\n",
       "<div>deduplication</div>\n",
       "</div>\n",
       "<div class=\"cas-output-area\"></div>\n",
       "<p class=\"cas-results-performance\"><small><span class=\"cas-elapsed\">elapsed 0.00822s</span> &#183; <span class=\"cas-user\">user 0.00283s</span> &#183; <span class=\"cas-sys\">sys 0.0131s</span> &#183; <span class=\"cas-memory\">mem 1.05MB</span></small></p>"
      ],
      "text/plain": [
       "[actionset]\n",
       "\n",
       " 'deduplication'\n",
       "\n",
       "+ Elapsed: 0.00822s, user: 0.00283s, sys: 0.0131s, mem: 1.05mb"
      ]
     },
     "execution_count": 41,
     "metadata": {},
     "output_type": "execute_result"
    }
   ],
   "source": [
    "conn.loadActionSet('deduplication')"
   ]
  },
  {
   "cell_type": "markdown",
   "id": "ec3412cf-2219-4666-b55f-5e757836e8c6",
   "metadata": {},
   "source": [
    "Next I'll remove duplicate rows based on all columns using the action. This is a bit more involved."
   ]
  },
  {
   "cell_type": "code",
   "execution_count": 50,
   "id": "df46854e-8572-45e9-99b8-3dc8825f46af",
   "metadata": {
    "tags": []
   },
   "outputs": [
    {
     "name": "stdout",
     "output_type": "stream",
     "text": [
      "NOTE: There were 5 rows read from the table DUP_TBL.\n",
      "NOTE: The table no_dup_rows_action has 4 rows and 3 columns.\n"
     ]
    },
    {
     "data": {
      "text/html": [
       "<div class=\"cas-output-area\"></div>\n",
       "<p class=\"cas-results-performance\"><small><span class=\"cas-elapsed\">elapsed 0.0732s</span> &#183; <span class=\"cas-user\">user 0.0595s</span> &#183; <span class=\"cas-sys\">sys 0.219s</span> &#183; <span class=\"cas-memory\">mem 404MB</span></small></p>"
      ],
      "text/plain": [
       "+ Elapsed: 0.0732s, user: 0.0595s, sys: 0.219s, mem: 404mb"
      ]
     },
     "execution_count": 50,
     "metadata": {},
     "output_type": "execute_result"
    }
   ],
   "source": [
    "colNames = castbl.columns.to_list()\n",
    "castbl.groupby = colNames\n",
    "castbl.deduplicate(noDupkeys = True, \n",
    "                   casout = {'name':'no_dup_rows_action', \n",
    "                             'caslib':'casuser'})"
   ]
  },
  {
   "cell_type": "markdown",
   "id": "f7c617b3-ff91-4bf2-934a-bc688ea9baa5",
   "metadata": {},
   "source": [
    "Alternate method. This temporarily adds the parameters to the CASTable object."
   ]
  },
  {
   "cell_type": "code",
   "execution_count": 54,
   "id": "8dd2b97d-7823-4e41-a38a-d9158fae7839",
   "metadata": {
    "tags": []
   },
   "outputs": [
    {
     "name": "stdout",
     "output_type": "stream",
     "text": [
      "NOTE: There were 5 rows read from the table DUP_TBL.\n",
      "NOTE: The table no_dup_rows_with has 4 rows and 3 columns.\n"
     ]
    }
   ],
   "source": [
    "with castbl:\n",
    "    colNams = castbl.columns.to_list()\n",
    "    castbl.groupby = colNams\n",
    "    castbl.deduplicate(noDupkeys = True, \n",
    "                       casout = {'name':'no_dup_rows_with', \n",
    "                               'caslib':'casuser'})"
   ]
  },
  {
   "cell_type": "code",
   "execution_count": 51,
   "id": "71618682-a990-4cf2-84d1-e0901f4a2088",
   "metadata": {
    "tags": []
   },
   "outputs": [
    {
     "data": {
      "text/html": [
       "<div class=\"cas-results-key\"><b>&#167; TableInfo</b></div>\n",
       "<div class=\"cas-results-body\">\n",
       "<div>\n",
       "<style scoped>\n",
       "    .dataframe tbody tr th:only-of-type {\n",
       "        vertical-align: middle;\n",
       "    }\n",
       "\n",
       "    .dataframe tbody tr th {\n",
       "        vertical-align: top;\n",
       "    }\n",
       "\n",
       "    .dataframe thead th {\n",
       "        text-align: right;\n",
       "    }\n",
       "</style>\n",
       "<table border=\"1\" class=\"dataframe\">\n",
       "  <thead>\n",
       "    <tr style=\"text-align: right;\">\n",
       "      <th title=\"\"></th>\n",
       "      <th title=\"Name\">Name</th>\n",
       "      <th title=\"Rows\">Rows</th>\n",
       "      <th title=\"Columns\">Columns</th>\n",
       "      <th title=\"Indexed Columns\">IndexedColumns</th>\n",
       "      <th title=\"Encoding\">Encoding</th>\n",
       "      <th title=\"Created\">CreateTimeFormatted</th>\n",
       "      <th title=\"Last Modified\">ModTimeFormatted</th>\n",
       "      <th title=\"Last Accessed\">AccessTimeFormatted</th>\n",
       "      <th title=\"Character Set\">JavaCharSet</th>\n",
       "      <th title=\"CreateTime\">CreateTime</th>\n",
       "      <th title=\"ModTime\">ModTime</th>\n",
       "      <th title=\"AccessTime\">AccessTime</th>\n",
       "      <th title=\"Global\">Global</th>\n",
       "      <th title=\"Repeated\">Repeated</th>\n",
       "      <th title=\"View\">View</th>\n",
       "      <th title=\"MultiPart\">MultiPart</th>\n",
       "      <th title=\"Loaded Source\">SourceName</th>\n",
       "      <th title=\"Source Caslib\">SourceCaslib</th>\n",
       "      <th title=\"Compressed\">Compressed</th>\n",
       "      <th title=\"Table Creator\">Creator</th>\n",
       "      <th title=\"Last Table Modifier\">Modifier</th>\n",
       "      <th title=\"Source Modified\">SourceModTimeFormatted</th>\n",
       "      <th title=\"SourceModTime\">SourceModTime</th>\n",
       "    </tr>\n",
       "  </thead>\n",
       "  <tbody>\n",
       "    <tr>\n",
       "      <td>0</td>\n",
       "      <td>DUP_TBL</td>\n",
       "      <td>5</td>\n",
       "      <td>3</td>\n",
       "      <td>0</td>\n",
       "      <td>utf-8</td>\n",
       "      <td>2023-07-27T13:00:53+00:00</td>\n",
       "      <td>2023-07-27T13:00:53+00:00</td>\n",
       "      <td>2023-07-27T13:20:30+00:00</td>\n",
       "      <td>UTF8</td>\n",
       "      <td>2.006082e+09</td>\n",
       "      <td>2.006082e+09</td>\n",
       "      <td>2.006083e+09</td>\n",
       "      <td>0</td>\n",
       "      <td>0</td>\n",
       "      <td>0</td>\n",
       "      <td>0</td>\n",
       "      <td></td>\n",
       "      <td></td>\n",
       "      <td>0</td>\n",
       "      <td>Peter.Styliadis@sas.com</td>\n",
       "      <td></td>\n",
       "      <td>2023-07-27T13:00:53+00:00</td>\n",
       "      <td>2.006082e+09</td>\n",
       "    </tr>\n",
       "    <tr>\n",
       "      <td>1</td>\n",
       "      <td>DROP_DUPS</td>\n",
       "      <td>4</td>\n",
       "      <td>3</td>\n",
       "      <td>0</td>\n",
       "      <td>utf-8</td>\n",
       "      <td>2023-07-27T13:00:55+00:00</td>\n",
       "      <td>2023-07-27T13:00:55+00:00</td>\n",
       "      <td>2023-07-27T13:01:12+00:00</td>\n",
       "      <td>UTF8</td>\n",
       "      <td>2.006082e+09</td>\n",
       "      <td>2.006082e+09</td>\n",
       "      <td>2.006082e+09</td>\n",
       "      <td>0</td>\n",
       "      <td>0</td>\n",
       "      <td>0</td>\n",
       "      <td>0</td>\n",
       "      <td></td>\n",
       "      <td></td>\n",
       "      <td>0</td>\n",
       "      <td>Peter.Styliadis@sas.com</td>\n",
       "      <td></td>\n",
       "      <td></td>\n",
       "      <td>NaN</td>\n",
       "    </tr>\n",
       "    <tr>\n",
       "      <td>2</td>\n",
       "      <td>DROP_DUPS_SUBSET</td>\n",
       "      <td>3</td>\n",
       "      <td>3</td>\n",
       "      <td>0</td>\n",
       "      <td>utf-8</td>\n",
       "      <td>2023-07-27T13:02:57+00:00</td>\n",
       "      <td>2023-07-27T13:02:57+00:00</td>\n",
       "      <td>2023-07-27T13:02:57+00:00</td>\n",
       "      <td>UTF8</td>\n",
       "      <td>2.006082e+09</td>\n",
       "      <td>2.006082e+09</td>\n",
       "      <td>2.006082e+09</td>\n",
       "      <td>0</td>\n",
       "      <td>0</td>\n",
       "      <td>0</td>\n",
       "      <td>0</td>\n",
       "      <td></td>\n",
       "      <td></td>\n",
       "      <td>0</td>\n",
       "      <td>Peter.Styliadis@sas.com</td>\n",
       "      <td></td>\n",
       "      <td></td>\n",
       "      <td>NaN</td>\n",
       "    </tr>\n",
       "    <tr>\n",
       "      <td>3</td>\n",
       "      <td>NO_DUP_ROWS_ACTION</td>\n",
       "      <td>4</td>\n",
       "      <td>3</td>\n",
       "      <td>0</td>\n",
       "      <td>utf-8</td>\n",
       "      <td>2023-07-27T13:20:30+00:00</td>\n",
       "      <td>2023-07-27T13:20:30+00:00</td>\n",
       "      <td>2023-07-27T13:20:30+00:00</td>\n",
       "      <td>UTF8</td>\n",
       "      <td>2.006083e+09</td>\n",
       "      <td>2.006083e+09</td>\n",
       "      <td>2.006083e+09</td>\n",
       "      <td>0</td>\n",
       "      <td>0</td>\n",
       "      <td>0</td>\n",
       "      <td>0</td>\n",
       "      <td></td>\n",
       "      <td></td>\n",
       "      <td>0</td>\n",
       "      <td>Peter.Styliadis@sas.com</td>\n",
       "      <td></td>\n",
       "      <td></td>\n",
       "      <td>NaN</td>\n",
       "    </tr>\n",
       "  </tbody>\n",
       "</table>\n",
       "</div>\n",
       "</div>\n",
       "<div class=\"cas-output-area\"></div>\n",
       "<p class=\"cas-results-performance\"><small><span class=\"cas-elapsed\">elapsed 0.0107s</span> &#183; <span class=\"cas-user\">user 0.0156s</span> &#183; <span class=\"cas-sys\">sys 0.00685s</span> &#183; <span class=\"cas-memory\">mem 1.85MB</span></small></p>"
      ],
      "text/plain": [
       "[TableInfo]\n",
       "\n",
       "                  Name  Rows  Columns  IndexedColumns Encoding        CreateTimeFormatted           ModTimeFormatted        AccessTimeFormatted JavaCharSet    CreateTime       ModTime    AccessTime  Global  Repeated  View  MultiPart SourceName SourceCaslib  Compressed                  Creator Modifier     SourceModTimeFormatted  SourceModTime\n",
       " 0             DUP_TBL     5        3               0    utf-8  2023-07-27T13:00:53+00:00  2023-07-27T13:00:53+00:00  2023-07-27T13:20:30+00:00        UTF8  2.006082e+09  2.006082e+09  2.006083e+09       0         0     0          0                                   0  Peter.Styliadis@sas.com           2023-07-27T13:00:53+00:00   2.006082e+09\n",
       " 1           DROP_DUPS     4        3               0    utf-8  2023-07-27T13:00:55+00:00  2023-07-27T13:00:55+00:00  2023-07-27T13:01:12+00:00        UTF8  2.006082e+09  2.006082e+09  2.006082e+09       0         0     0          0                                   0  Peter.Styliadis@sas.com                                                NaN\n",
       " 2    DROP_DUPS_SUBSET     3        3               0    utf-8  2023-07-27T13:02:57+00:00  2023-07-27T13:02:57+00:00  2023-07-27T13:02:57+00:00        UTF8  2.006082e+09  2.006082e+09  2.006082e+09       0         0     0          0                                   0  Peter.Styliadis@sas.com                                                NaN\n",
       " 3  NO_DUP_ROWS_ACTION     4        3               0    utf-8  2023-07-27T13:20:30+00:00  2023-07-27T13:20:30+00:00  2023-07-27T13:20:30+00:00        UTF8  2.006083e+09  2.006083e+09  2.006083e+09       0         0     0          0                                   0  Peter.Styliadis@sas.com                                                NaN\n",
       "\n",
       "+ Elapsed: 0.0107s, user: 0.0156s, sys: 0.00685s, mem: 1.85mb"
      ]
     },
     "execution_count": 51,
     "metadata": {},
     "output_type": "execute_result"
    }
   ],
   "source": [
    "conn.tableInfo(caslib = 'casuser')"
   ]
  },
  {
   "cell_type": "code",
   "execution_count": 53,
   "id": "451bee0c-8d40-4fa2-af5b-99c2906ced31",
   "metadata": {
    "tags": []
   },
   "outputs": [
    {
     "data": {
      "text/html": [
       "<div>\n",
       "<style scoped>\n",
       "    .dataframe tbody tr th:only-of-type {\n",
       "        vertical-align: middle;\n",
       "    }\n",
       "\n",
       "    .dataframe tbody tr th {\n",
       "        vertical-align: top;\n",
       "    }\n",
       "\n",
       "    .dataframe thead th {\n",
       "        text-align: right;\n",
       "    }\n",
       "</style>\n",
       "<table border=\"1\" class=\"dataframe\"><caption>Selected Rows from Table NO_DUP_ROWS_ACTION</caption>\n",
       "  <thead>\n",
       "    <tr style=\"text-align: right;\">\n",
       "      <th title=\"\"></th>\n",
       "      <th title=\"brand\">brand</th>\n",
       "      <th title=\"style\">style</th>\n",
       "      <th title=\"rating\">rating</th>\n",
       "    </tr>\n",
       "  </thead>\n",
       "  <tbody>\n",
       "    <tr>\n",
       "      <td>0</td>\n",
       "      <td>Indomie</td>\n",
       "      <td>pack</td>\n",
       "      <td>15.0</td>\n",
       "    </tr>\n",
       "    <tr>\n",
       "      <td>1</td>\n",
       "      <td>Indomie</td>\n",
       "      <td>pack</td>\n",
       "      <td>5.0</td>\n",
       "    </tr>\n",
       "    <tr>\n",
       "      <td>2</td>\n",
       "      <td>Yum Yum</td>\n",
       "      <td>cup</td>\n",
       "      <td>4.0</td>\n",
       "    </tr>\n",
       "    <tr>\n",
       "      <td>3</td>\n",
       "      <td>Indomie</td>\n",
       "      <td>cup</td>\n",
       "      <td>3.5</td>\n",
       "    </tr>\n",
       "  </tbody>\n",
       "</table>\n",
       "</div>"
      ],
      "text/plain": [
       "Selected Rows from Table NO_DUP_ROWS_ACTION\n",
       "\n",
       "     brand style  rating\n",
       "0  Indomie  pack    15.0\n",
       "1  Indomie  pack     5.0\n",
       "2  Yum Yum   cup     4.0\n",
       "3  Indomie   cup     3.5"
      ]
     },
     "execution_count": 53,
     "metadata": {},
     "output_type": "execute_result"
    }
   ],
   "source": [
    "no_dup_rows = conn.CASTable('no_dup_rows_action', caslib = 'casuser')\n",
    "no_dup_rows.head()"
   ]
  },
  {
   "cell_type": "code",
   "execution_count": 56,
   "id": "5fafbccb-0c70-4ab6-a555-d03724504986",
   "metadata": {},
   "outputs": [],
   "source": [
    "conn.terminate()"
   ]
  },
  {
   "cell_type": "markdown",
   "id": "1ae4c165-ea29-4113-92bc-fd38f9770ef5",
   "metadata": {},
   "source": [
    " "
   ]
  }
 ],
 "metadata": {
  "kernelspec": {
   "display_name": "Python 3 (ipykernel)",
   "language": "python",
   "name": "python3"
  },
  "language_info": {
   "codemirror_mode": {
    "name": "ipython",
    "version": 3
   },
   "file_extension": ".py",
   "mimetype": "text/x-python",
   "name": "python",
   "nbconvert_exporter": "python",
   "pygments_lexer": "ipython3",
   "version": "3.8.16"
  }
 },
 "nbformat": 4,
 "nbformat_minor": 5
}
