{
 "cells": [
  {
   "cell_type": "markdown",
   "metadata": {},
   "source": [
    "# Create User Defined Functions (UDFs) in CAS\n",
    "SAS Blog: [Python Integration to SAS® Viya® - Part 22 - Create User Defined Functions (UDFs)](https://blogs.sas.com/content/sgf/2023/10/11/python-integration-to-sas-viya-part-22-create-user-defined-functions-udfs/)"
   ]
  },
  {
   "cell_type": "code",
   "execution_count": 4,
   "metadata": {
    "tags": []
   },
   "outputs": [
    {
     "name": "stdout",
     "output_type": "stream",
     "text": [
      "Imported personal custom CAS auth package\n",
      "Python version:3.11.5 \n",
      "swat version:1.13.3\n",
      "pandas version:2.0.3\n",
      "numpy version:1.24.3\n"
     ]
    }
   ],
   "source": [
    "## Packages\n",
    "import swat\n",
    "import sys\n",
    "import os\n",
    "import pandas as pd\n",
    "import numpy as np\n",
    "\n",
    "## My custom package to connect to the CAS Server. Will not work in your environment.\n",
    "try:\n",
    "    from casauth import CASAuth\n",
    "    print('Imported personal custom CAS auth package')\n",
    "except:\n",
    "    print('casauth package not available')\n",
    "\n",
    "\n",
    "print(f'Python version:{sys.version.split(\"|\")[0]}')\n",
    "print(f'swat version:{swat.__version__}')\n",
    "print(f'pandas version:{pd.__version__}')\n",
    "print(f'numpy version:{np.__version__}')"
   ]
  },
  {
   "cell_type": "markdown",
   "metadata": {},
   "source": [
    "## Make a Connection to CAS (REQUIRED: MODIFY CONNECTION INFORMATION)\n",
    "\n",
    "##### To connect to the CAS server you will need:\n",
    "1. the host name, \n",
    "2. the portnumber, \n",
    "3. your user name, and your password.\n",
    "\n",
    "Visit the documentation [Getting Started with SAS® Viya® for Python](https://go.documentation.sas.com/doc/en/pgmsascdc/default/caspg3/titlepage.htm) for more information about connecting to CAS.\n",
    "\n",
    "**Be aware that connecting to the CAS server can be implemented in various ways, so you might need to see your system administrator about how to make a connection. Please follow company policy regarding authentication.**"
   ]
  },
  {
   "cell_type": "code",
   "execution_count": 5,
   "metadata": {
    "tags": []
   },
   "outputs": [
    {
     "name": "stdout",
     "output_type": "stream",
     "text": [
      "CAS Connection created\n"
     ]
    }
   ],
   "source": [
    "##\n",
    "## Connect to CAS\n",
    "##\n",
    "\n",
    "################################\n",
    "## General connection syntax  ##\n",
    "################################\n",
    "# conn = swat.CAS(host, port, username, password)\n",
    "\n",
    "############################################\n",
    "## SAS Viya for Learners 3.5 connection   ##\n",
    "############################################\n",
    "# hostValue = os.environ.get('CASHOST')\n",
    "# portValue = os.environ.get('CASPORT')\n",
    "# passwordToken=os.environ.get('SAS_VIYA_TOKEN')\n",
    "# conn = swat.CAS(hostname=hostValue, port=portValue, password=passwordToken)\n",
    "\n",
    "\n",
    "##############################\n",
    "## My Personal connection   ##\n",
    "##############################\n",
    "try:\n",
    "    path = os.getenv('CAS_CREDENTIALS')\n",
    "    pem_file = os.getenv('CAS_CLIENT_SSL_CA_LIST')\n",
    "    conn = CASAuth(path, ssl_ca_list = pem_file)\n",
    "except:\n",
    "    print('No connection')\n",
    "    pass"
   ]
  },
  {
   "cell_type": "code",
   "execution_count": 9,
   "metadata": {
    "tags": []
   },
   "outputs": [
    {
     "name": "stdout",
     "output_type": "stream",
     "text": [
      "* Please visit the following site https://ssemonthly.demo.sas.com/SASLogon/oauth/authorize?client_id=api.client&response_type=code in an Incognito browser window\n",
      "* If provided a login prompt, add your SAS login credentials with SASAdministrator rights\n",
      "* Once authenticated, you'll be redirected to an authorization screen, check all of the boxes that appear\n",
      "* This will result in a short string of numbers and letters such as `VAxVFVEnKr`; this is your authorization code; copy the code\n"
     ]
    },
    {
     "name": "stdin",
     "output_type": "stream",
     "text": [
      "Please enter the authorization code you generated through the previous instructions, and then press Enter:  4JFhVHxYE7DBpNymWXklClLx3I19idaz\n"
     ]
    },
    {
     "name": "stdout",
     "output_type": "stream",
     "text": [
      "The access token was stored for you in the access_token.txt file. The access token expires in 24 hours.\n",
      "The refresh token was stored for you in the refresh_token.txt file. The refresh token expires in 90 days.\n",
      "CAS Connection created\n"
     ]
    }
   ],
   "source": [
    "conn = CASAuth(path, ssl_ca_list = pem_file)"
   ]
  },
  {
   "cell_type": "markdown",
   "metadata": {},
   "source": [
    "## Enter your connection information to CAS below"
   ]
  },
  {
   "cell_type": "code",
   "execution_count": 4,
   "metadata": {},
   "outputs": [],
   "source": [
    "## conn = swat.CAS()"
   ]
  },
  {
   "cell_type": "markdown",
   "metadata": {},
   "source": [
    "## Create the fake data for the demonstration"
   ]
  },
  {
   "cell_type": "code",
   "execution_count": 7,
   "metadata": {
    "tags": []
   },
   "outputs": [
    {
     "name": "stdout",
     "output_type": "stream",
     "text": [
      "NOTE: Cloud Analytic Services made the uploaded file available as table SAMPLE_DATA in caslib CASUSER(Peter.Styliadis@sas.com).\n",
      "NOTE: The table SAMPLE_DATA has been created in caslib CASUSER(Peter.Styliadis@sas.com) from binary data uploaded to Cloud Analytic Services.\n"
     ]
    },
    {
     "data": {
      "text/html": [
       "<div class=\"cas-results-key\"><b>&#167; TableInfo</b></div>\n",
       "<div class=\"cas-results-body\">\n",
       "<div>\n",
       "<style scoped>\n",
       "    .dataframe tbody tr th:only-of-type {\n",
       "        vertical-align: middle;\n",
       "    }\n",
       "\n",
       "    .dataframe tbody tr th {\n",
       "        vertical-align: top;\n",
       "    }\n",
       "\n",
       "    .dataframe thead th {\n",
       "        text-align: right;\n",
       "    }\n",
       "</style>\n",
       "<table border=\"1\" class=\"dataframe\">\n",
       "  <thead>\n",
       "    <tr style=\"text-align: right;\">\n",
       "      <th title=\"\"></th>\n",
       "      <th title=\"Name\">Name</th>\n",
       "      <th title=\"Rows\">Rows</th>\n",
       "      <th title=\"Columns\">Columns</th>\n",
       "      <th title=\"Indexed Columns\">IndexedColumns</th>\n",
       "      <th title=\"Encoding\">Encoding</th>\n",
       "      <th title=\"Created\">CreateTimeFormatted</th>\n",
       "      <th title=\"Last Modified\">ModTimeFormatted</th>\n",
       "      <th title=\"Last Accessed\">AccessTimeFormatted</th>\n",
       "      <th title=\"Character Set\">JavaCharSet</th>\n",
       "      <th title=\"CreateTime\">CreateTime</th>\n",
       "      <th title=\"View\">View</th>\n",
       "      <th title=\"MultiPart\">MultiPart</th>\n",
       "      <th title=\"Loaded Source\">SourceName</th>\n",
       "      <th title=\"Source Caslib\">SourceCaslib</th>\n",
       "      <th title=\"Compressed\">Compressed</th>\n",
       "      <th title=\"Table Creator\">Creator</th>\n",
       "      <th title=\"Last Table Modifier\">Modifier</th>\n",
       "      <th title=\"Source Modified\">SourceModTimeFormatted</th>\n",
       "      <th title=\"SourceModTime\">SourceModTime</th>\n",
       "      <th title=\"Table Redistribute Up Policy\">TableRedistUpPolicy</th>\n",
       "    </tr>\n",
       "  </thead>\n",
       "  <tbody>\n",
       "    <tr>\n",
       "      <td>0</td>\n",
       "      <td>SAMPLE_DATA</td>\n",
       "      <td>5</td>\n",
       "      <td>1</td>\n",
       "      <td>0</td>\n",
       "      <td>utf-8</td>\n",
       "      <td>2024-01-05T17:46:24+00:00</td>\n",
       "      <td>2024-01-05T17:46:24+00:00</td>\n",
       "      <td>2024-01-05T17:46:24+00:00</td>\n",
       "      <td>UTF8</td>\n",
       "      <td>2.020096e+09</td>\n",
       "      <td>0</td>\n",
       "      <td>0</td>\n",
       "      <td></td>\n",
       "      <td></td>\n",
       "      <td>0</td>\n",
       "      <td>Peter.Styliadis@sas.com</td>\n",
       "      <td></td>\n",
       "      <td>2024-01-05T17:46:24+00:00</td>\n",
       "      <td>2.020096e+09</td>\n",
       "      <td>Not Specified</td>\n",
       "    </tr>\n",
       "  </tbody>\n",
       "</table>\n",
       "</div>\n",
       "</div>\n",
       "<div class=\"cas-output-area\"></div>\n",
       "<p class=\"cas-results-performance\"><small><span class=\"cas-elapsed\">elapsed 0.00838s</span> &#183; <span class=\"cas-user\">user 0.00829s</span> &#183; <span class=\"cas-sys\">sys 0.0053s</span> &#183; <span class=\"cas-memory\">mem 1.84MB</span></small></p>"
      ],
      "text/plain": [
       "[TableInfo]\n",
       "\n",
       "           Name  Rows  Columns  IndexedColumns Encoding        CreateTimeFormatted           ModTimeFormatted        AccessTimeFormatted JavaCharSet    CreateTime       ModTime    AccessTime  Global  Repeated  View  MultiPart SourceName SourceCaslib  Compressed                  Creator Modifier     SourceModTimeFormatted  SourceModTime TableRedistUpPolicy\n",
       " 0  SAMPLE_DATA     5        1               0    utf-8  2024-01-05T17:46:24+00:00  2024-01-05T17:46:24+00:00  2024-01-05T17:46:24+00:00        UTF8  2.020096e+09  2.020096e+09  2.020096e+09       0         0     0          0                                   0  Peter.Styliadis@sas.com           2024-01-05T17:46:24+00:00   2.020096e+09       Not Specified\n",
       "\n",
       "+ Elapsed: 0.00838s, user: 0.00829s, sys: 0.0053s, mem: 1.84mb"
      ]
     },
     "metadata": {},
     "output_type": "display_data"
    },
    {
     "data": {
      "text/html": [
       "<div>\n",
       "<style scoped>\n",
       "    .dataframe tbody tr th:only-of-type {\n",
       "        vertical-align: middle;\n",
       "    }\n",
       "\n",
       "    .dataframe tbody tr th {\n",
       "        vertical-align: top;\n",
       "    }\n",
       "\n",
       "    .dataframe thead th {\n",
       "        text-align: right;\n",
       "    }\n",
       "</style>\n",
       "<table border=\"1\" class=\"dataframe\"><caption>Selected Rows from Table SAMPLE_DATA</caption>\n",
       "  <thead>\n",
       "    <tr style=\"text-align: right;\">\n",
       "      <th title=\"\"></th>\n",
       "      <th title=\"Temp\">Temp</th>\n",
       "    </tr>\n",
       "  </thead>\n",
       "  <tbody>\n",
       "    <tr>\n",
       "      <td>0</td>\n",
       "      <td>HighTemp = 83; LowTemp = 55;</td>\n",
       "    </tr>\n",
       "    <tr>\n",
       "      <td>1</td>\n",
       "      <td>HighTemp = 86; LowTemp = 59;</td>\n",
       "    </tr>\n",
       "    <tr>\n",
       "      <td>2</td>\n",
       "      <td>HighTemp = 92; LowTemp = 63;</td>\n",
       "    </tr>\n",
       "    <tr>\n",
       "      <td>3</td>\n",
       "      <td>HighTemp = 91; LowTemp = 65;</td>\n",
       "    </tr>\n",
       "    <tr>\n",
       "      <td>4</td>\n",
       "      <td>HighTemp = 80; LowTemp = 51;</td>\n",
       "    </tr>\n",
       "  </tbody>\n",
       "</table>\n",
       "</div>"
      ],
      "text/plain": [
       "Selected Rows from Table SAMPLE_DATA\n",
       "\n",
       "                           Temp\n",
       "0  HighTemp = 83; LowTemp = 55;\n",
       "1  HighTemp = 86; LowTemp = 59;\n",
       "2  HighTemp = 92; LowTemp = 63;\n",
       "3  HighTemp = 91; LowTemp = 65;\n",
       "4  HighTemp = 80; LowTemp = 51;"
      ]
     },
     "metadata": {},
     "output_type": "display_data"
    }
   ],
   "source": [
    "## Create a pandas DataFrame\n",
    "df = pd.DataFrame([\n",
    "                \"HighTemp = 83; LowTemp = 55;\", \n",
    "                \"HighTemp = 86; LowTemp = 59;\", \n",
    "                \"HighTemp = 92; LowTemp = 63;\", \n",
    "                \"HighTemp = 91; LowTemp = 65;\", \n",
    "                \"HighTemp = 80; LowTemp = 51;\", \n",
    "                  ], \n",
    "             columns=[\"Temp\"])\n",
    "\n",
    "## Load the pandas DataFrame to the CAS server as a distributed CAS table\n",
    "castbl = conn.upload_frame(df, casout = {'name':'SAMPLE_DATA', 'caslib':'casuser', 'replace':True})\n",
    "\n",
    "## Preview the CAS table\n",
    "display(conn.tableInfo(caslib = 'casuser'),    ## Display available in-memory CAS tables\n",
    "        castbl.head())                         ## Display 5 rows of the castbl"
   ]
  },
  {
   "cell_type": "markdown",
   "metadata": {},
   "source": [
    "## Create a User Defined Function (UDF)"
   ]
  },
  {
   "cell_type": "markdown",
   "metadata": {},
   "source": [
    "### Pandas solution\n",
    "If I wanted to solve this problem by creating specific UDFs in pandas, I might do something like this."
   ]
  },
  {
   "cell_type": "code",
   "execution_count": null,
   "metadata": {
    "tags": []
   },
   "outputs": [],
   "source": [
    "##\n",
    "## Create function to get desired number (this is nice with Pandas)\n",
    "##\n",
    "\n",
    "\n",
    "# Separate statements in a column and obtain the number\n",
    "def get_numeric_value(data, column, position):\n",
    "    return (data[column]\n",
    "            .str.split(';')          ## Split all statements by ;\n",
    "            .str[position -1]        ## Get the statement by position (Use 1,2,3 instead of 0,1,2)\n",
    "            .str.split(' ')          ## Split the single statement by a space\n",
    "            .str[-1]                 ## Pull the last element (the number)\n",
    "            .astype('int'))          ## Convert the characer number column to a numeric column\n",
    "\n",
    "\n",
    "## Convert Fahrenheit to Celsius\n",
    "def convert_f_to_c(data, col):\n",
    "    temp_column = data[col]\n",
    "    celsius_temp = ((temp_column - 32) * (5/9)).astype('int')\n",
    "    return celsius_temp\n",
    "\n",
    "\n",
    "## Create the final DataFrame\n",
    "final_df = (df\n",
    "            .assign(\n",
    "                 HighTemp_F = get_numeric_value(df,'Temp',1),\n",
    "                 LowTemp_F = get_numeric_value(df,'Temp',2),\n",
    "                 HighTemp_C = lambda _df: convert_f_to_c(_df, 'HighTemp_F'),\n",
    "                 LowTemp_C = lambda _df: convert_f_to_c(_df, 'LowTemp_F')\n",
    "            )\n",
    ")\n",
    "\n",
    "final_df.head()"
   ]
  },
  {
   "cell_type": "markdown",
   "metadata": {},
   "source": [
    "### CAS solution\n",
    "Remember the CAS solution will run on the CAS cluster for massively parallel processing (MPP)\n",
    "\n",
    "#### Load the fcmpact action set"
   ]
  },
  {
   "cell_type": "code",
   "execution_count": null,
   "metadata": {},
   "outputs": [],
   "source": [
    "conn.loadActionSet('fcmpact')"
   ]
  },
  {
   "cell_type": "markdown",
   "metadata": {},
   "source": [
    "View available actions."
   ]
  },
  {
   "cell_type": "code",
   "execution_count": null,
   "metadata": {},
   "outputs": [],
   "source": [
    "conn.fcmpact?"
   ]
  },
  {
   "cell_type": "markdown",
   "metadata": {},
   "source": [
    "#### Create the UDF in CAS\n",
    "\n",
    "Comparing the SAS functions to the Pandas method.\n",
    "\n",
    "| SAS function | Pandas method |\n",
    "| --- | --- |\n",
    "| SCAN | SPLIT + [*n*] |\n",
    "| INPUT | ASTYPE |"
   ]
  },
  {
   "cell_type": "code",
   "execution_count": null,
   "metadata": {
    "tags": []
   },
   "outputs": [],
   "source": [
    "##\n",
    "## Create CAS UDFs\n",
    "##\n",
    "\n",
    "## Separate statements in a column and obtain the number\n",
    "get_temp_value_func = '''\n",
    "    function get_temp_value(colname $, position);\n",
    "        \n",
    "        /* Get the statement by position */\n",
    "        get_statement_from_position = scan(colname, position,';');\n",
    "        \n",
    "        /* Get the number from the string */\n",
    "        get_number_as_string = scan(get_statement_from_position, -1, ' ');\n",
    "        \n",
    "        /* Get the number from the statement and convert to a numeric column */\n",
    "        convert_string_to_numeric = input(get_number_as_string, 8.);\n",
    "        \n",
    "        /* Return numeric value */\n",
    "        return(convert_string_to_numeric);\n",
    "        \n",
    "    endsub;\n",
    "'''\n",
    "\n",
    "## Convert Fahrenheit to Celsius\n",
    "f_to_c_func = '''\n",
    "    function f_to_c(f_temp);\n",
    "        \n",
    "        /* Convert the Fahrenheit temp to Celsius */\n",
    "        c_temp = round((f_temp - 32) * (5/9));\n",
    "        \n",
    "        /* Return celsius value */\n",
    "        return(c_temp);\n",
    "        \n",
    "    endsub;\n",
    "'''\n",
    "\n",
    "## Add UDF to functions CAS table\n",
    "conn.addroutines(routineCode = get_temp_value_func + f_to_c_func,\n",
    "                 saveTable = True,\n",
    "                 funcTable = {'name':\"my_udfs\", 'caslib':'casuser'},\n",
    "                 appendTable = True)"
   ]
  },
  {
   "cell_type": "code",
   "execution_count": null,
   "metadata": {
    "tags": []
   },
   "outputs": [],
   "source": [
    "conn.tableInfo(caslib = 'casuser')"
   ]
  },
  {
   "cell_type": "code",
   "execution_count": null,
   "metadata": {
    "tags": []
   },
   "outputs": [],
   "source": [
    "conn.fileInfo(caslib = 'casuser', path = 'MY_UDFS.sashdat')"
   ]
  },
  {
   "cell_type": "markdown",
   "metadata": {},
   "source": [
    "If the CAS table with the UDF definition is not loaded you have to load it. You can do that with the loadfcmptable action. Here the CAS table is already loaded into memory from the previous action. Typically you would have to load it."
   ]
  },
  {
   "cell_type": "code",
   "execution_count": null,
   "metadata": {
    "tags": []
   },
   "outputs": [],
   "source": [
    "conn.loadfcmptable(table = 'MY_UDFS.sashdat', caslib = 'casuser')"
   ]
  },
  {
   "cell_type": "markdown",
   "metadata": {},
   "source": [
    "#### Add the location of the CAS table that will contain the UDFs."
   ]
  },
  {
   "cell_type": "markdown",
   "metadata": {
    "tags": []
   },
   "source": [
    "Set the **cmplib** option to point to the CAS table that we are creating that will contain the UDFs. This option specifies one or more SAS data sets that contain compiler subroutines to include during compilation. You can specify multiple tables."
   ]
  },
  {
   "cell_type": "code",
   "execution_count": null,
   "metadata": {
    "tags": []
   },
   "outputs": [],
   "source": [
    "conn.setSessOpt(cmplib = 'casuser.my_udfs')"
   ]
  },
  {
   "cell_type": "markdown",
   "metadata": {},
   "source": [
    "View the option value to confirm."
   ]
  },
  {
   "cell_type": "code",
   "execution_count": null,
   "metadata": {
    "tags": []
   },
   "outputs": [],
   "source": [
    "(conn.\n",
    " listsessopts()['SessOpts']\n",
    " .query('Name == \"cmplib\"')\n",
    ")"
   ]
  },
  {
   "cell_type": "markdown",
   "metadata": {},
   "source": [
    "### Use the UDF"
   ]
  },
  {
   "cell_type": "markdown",
   "metadata": {
    "tags": []
   },
   "source": [
    "Confirm castbl is a CAS table."
   ]
  },
  {
   "cell_type": "code",
   "execution_count": null,
   "metadata": {
    "tags": []
   },
   "outputs": [],
   "source": [
    "castbl"
   ]
  },
  {
   "cell_type": "code",
   "execution_count": null,
   "metadata": {
    "tags": []
   },
   "outputs": [],
   "source": [
    "castbl.head()"
   ]
  },
  {
   "cell_type": "markdown",
   "metadata": {},
   "source": [
    "Create the new columns and preview the table to confirm the functions work as expected."
   ]
  },
  {
   "cell_type": "code",
   "execution_count": null,
   "metadata": {
    "tags": []
   },
   "outputs": [],
   "source": [
    "## The inplace = False parameter temporarily adds the parameter to the object and returns another CAS table. This enables chaining methods.\n",
    "(castbl\n",
    " .eval(\"HighTempF = get_temp_value(Temp,1)\", inplace = False)        \n",
    " .eval(\"LowTempF = get_temp_value(Temp,2)\", inplace = False)\n",
    " .eval(\"HighTempCelsius = f_to_c(HighTempF)\", inplace = False)\n",
    " .eval(\"LowTempCelsius = f_to_c(LowTempF)\", inplace = False)\n",
    " .head()\n",
    ")"
   ]
  },
  {
   "cell_type": "markdown",
   "metadata": {},
   "source": [
    "## Create the Final CAS Table\n",
    "The copyTable action creates a new CAS table named final_table."
   ]
  },
  {
   "cell_type": "code",
   "execution_count": null,
   "metadata": {
    "tags": []
   },
   "outputs": [],
   "source": [
    "(castbl\n",
    " .eval(\"HighTempF = get_temp_value(Temp,1)\", inplace = False)\n",
    " .eval(\"LowTempF = get_temp_value(Temp,2)\", inplace = False)\n",
    " .eval(\"HighTempCelsius = f_to_c(HighTempF)\", inplace = False)\n",
    " .eval(\"LowTempCelsius = f_to_c(LowTempF)\", inplace = False)\n",
    " .copyTable(casout = {'name':'final_table', 'caslib':'casuser'})\n",
    ")"
   ]
  },
  {
   "cell_type": "code",
   "execution_count": null,
   "metadata": {
    "tags": []
   },
   "outputs": [],
   "source": [
    "conn.tableInfo(caslib = 'casuser')"
   ]
  },
  {
   "cell_type": "code",
   "execution_count": null,
   "metadata": {
    "tags": []
   },
   "outputs": [],
   "source": [
    "finalTbl = conn.CASTable('FINAL_TABLE', caslib = 'casuser')\n",
    "finalTbl.head()"
   ]
  },
  {
   "cell_type": "markdown",
   "metadata": {
    "tags": []
   },
   "source": [
    "/* Create CAS session */\n",
    "    \n",
    "*cas conn;*\n",
    "\n",
    "    \n",
    "/* Create a libref to the Casuser caslib */\n",
    "    \n",
    "*libname casuser cas caslib='casuser';*\n",
    "\n",
    "    \n",
    "/* Create the test CAS table */\n",
    "    \n",
    "*data casuser.tempdata;*\n",
    "    \n",
    "*Temp = 'HighTemp = 83; LowTemp = 55;';*\n",
    "    \n",
    "*output;*\n",
    "    \n",
    "*Temp = 'HighTemp = 86; LowTemp = 59;';*\n",
    "    \n",
    "*output;*\n",
    "    \n",
    "*Temp = 'HighTemp = 92; LowTemp = 63;';*\n",
    "    \n",
    "*output;*\n",
    "    \n",
    "*Temp = 'HighTemp = 91; LowTemp = 65;';*\n",
    "    \n",
    "*output;*\n",
    "    \n",
    "*Temp = 'HighTemp = 80; LowTemp = 51;';*\n",
    "    \n",
    "*output;*\n",
    "    \n",
    "*run; *\n",
    "\n",
    "    \n",
    "/* Load the MY_UDFS file into memory to make the function definitions available */\n",
    "    \n",
    "*proc cas;*\n",
    "    \n",
    "    *fcmpact.loadFcmpTable /*\n",
    "    \n",
    "    *table='MY_UDFS.sashdat',*\n",
    "    \n",
    "    *caslib = 'casuser';*\n",
    "    \n",
    "*quit;*\n",
    "\n",
    "/* Modify the cmplib option to use the CAS table */\n",
    "    \n",
    "*options sessopts=(cmplib='casuser.my_udfs') cmplib=(casuser.my_udfs);*\n",
    "    \n",
    "\n",
    "/* Use the function in the SAS data set to run in the CAS cluster */\n",
    "    \n",
    "*data casuser.final_sas / sessref=conn;*\n",
    "    \n",
    "    *set casuser.tempdata;*\n",
    "    \n",
    "   *HighTempF = get_temp_value(Temp,1);*\n",
    "    \n",
    "   * LowTempF = get_temp_value(Temp,2);*\n",
    "    \n",
    "    *HighTempCelsius = f_to_c(HighTempF);*\n",
    "    \n",
    "    *LowTempCelsius = f_to_c(LowTempF);*\n",
    "    \n",
    "*run;*\n",
    "\n",
    "/* Preview the final CAS table */\n",
    "    \n",
    "*proc print data=casuser.final_sas(obs=5);*\n",
    "    \n",
    "*run;*\n"
   ]
  },
  {
   "cell_type": "markdown",
   "metadata": {},
   "source": [
    "## Use the Function in SAS Code\n",
    "\n",
    "One the UDFs are creating using the action, you can use them in other languages that work with the CAS server.\n",
    "\n",
    "\n",
    "### SAS\n",
    "\n",
    "IN SAS Studio:\n",
    "\n",
    "/* Create CAS session */\n",
    "    \n",
    "cas conn;\n",
    "\n",
    "    \n",
    "/* Create a libref to the Casuser caslib */\n",
    "    \n",
    "libname casuser cas caslib='casuser';\n",
    "\n",
    "    \n",
    "/* Create the test CAS table */\n",
    "    \n",
    "data casuser.tempdata;\n",
    "    \n",
    "Temp = 'HighTemp = 83; LowTemp = 55;';\n",
    "    \n",
    "output;\n",
    "    \n",
    "Temp = 'HighTemp = 86; LowTemp = 59;';\n",
    "    \n",
    "output;\n",
    "    \n",
    "Temp = 'HighTemp = 92; LowTemp = 63;';\n",
    "    \n",
    "output;\n",
    "    \n",
    "Temp = 'HighTemp = 91; LowTemp = 65;';\n",
    "    \n",
    "output;\n",
    "    \n",
    "Temp = 'HighTemp = 80; LowTemp = 51;';\n",
    "    \n",
    "output;\n",
    "    \n",
    "run; \n",
    "\n",
    "    \n",
    "/* Load the MY_UDFS file into memory to make the function definitions available */\n",
    "    \n",
    "proc cas;\n",
    "    \n",
    "\tfcmpact.loadFcmpTable / \n",
    "    \n",
    "\t\ttable='MY_UDFS.sashdat', \n",
    "    \n",
    "\t\tcaslib = 'casuser';\n",
    "    \n",
    "quit;\n",
    "\n",
    "/* Modify the cmplib option to use the CAS table */\n",
    "    \n",
    "options sessopts=(cmplib='casuser.my_udfs') cmplib=(casuser.my_udfs);\n",
    "    \n",
    "\n",
    "/* Use the function in the SAS data set to run in the CAS cluster */\n",
    "    \n",
    "data casuser.final_sas / sessref=conn;\n",
    "    \n",
    "    set casuser.tempdata;\n",
    "    \n",
    "    HighTempF = get_temp_value(Temp,1);\n",
    "    \n",
    "    LowTempF = get_temp_value(Temp,2);\n",
    "    \n",
    "    HighTempCelsius = f_to_c(HighTempF);\n",
    "    \n",
    "    LowTempCelsius = f_to_c(LowTempF);\n",
    "    \n",
    "run;\n",
    "\n",
    "/* Preview the final CAS table */\n",
    "    \n",
    "proc print data=casuser.final_sas(obs=5);\n",
    "    \n",
    "run;\n"
   ]
  },
  {
   "cell_type": "markdown",
   "metadata": {},
   "source": [
    "## Terminate the CAS session"
   ]
  },
  {
   "cell_type": "code",
   "execution_count": null,
   "metadata": {},
   "outputs": [],
   "source": [
    "conn.terminate()"
   ]
  },
  {
   "cell_type": "markdown",
   "metadata": {},
   "source": [
    " "
   ]
  }
 ],
 "metadata": {
  "kernelspec": {
   "display_name": "Python 3 (ipykernel)",
   "language": "python",
   "name": "python3"
  },
  "language_info": {
   "codemirror_mode": {
    "name": "ipython",
    "version": 3
   },
   "file_extension": ".py",
   "mimetype": "text/x-python",
   "name": "python",
   "nbconvert_exporter": "python",
   "pygments_lexer": "ipython3",
   "version": "3.11.5"
  }
 },
 "nbformat": 4,
 "nbformat_minor": 4
}
