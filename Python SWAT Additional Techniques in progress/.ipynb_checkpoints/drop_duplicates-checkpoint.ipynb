{
 "cells": [
  {
   "cell_type": "markdown",
   "id": "cd696936-27b8-457a-a7bb-0892660787d7",
   "metadata": {},
   "source": [
    "# Loading a Client-Side File into Memory\n",
    "Downloading data from the SAS Viya Example Data Sets Website: https://support.sas.com/documentation/onlinedoc/viya/examples.htm"
   ]
  },
  {
   "cell_type": "code",
   "execution_count": 3,
   "id": "d744c006-b1cd-401f-a462-241170437b8a",
   "metadata": {},
   "outputs": [],
   "source": [
    "## Packages\n",
    "import swat\n",
    "import pandas as pd\n",
    "from casConnect import connect_to_cas ## custom personal module\n",
    "\n",
    "##\n",
    "## Connect to CAS\n",
    "##\n",
    "\n",
    "## General connection syntax\n",
    "# conn = swat.CAS(host, port, username, password)\n",
    "\n",
    "## Viya for Learners 3.5 connection\n",
    "# hostValue = os.environ.get('CASHOST')\n",
    "# portValue = os.environ.get('CASPORT')\n",
    "# passwordToken=os.environ.get('SAS_VIYA_TOKEN')\n",
    "# conn = swat.CAS(hostname=hostValue, port=portValue, password=passwordToken)\n",
    "\n",
    "## Personal connection\n",
    "conn = connect_to_cas()"
   ]
  },
  {
   "cell_type": "markdown",
   "id": "b6a18aad-b2fb-4285-b0ad-f4813d9f6938",
   "metadata": {},
   "source": [
    "## Documentation (copied from pandas drop_duplicates)"
   ]
  },
  {
   "cell_type": "markdown",
   "id": "a71672fa-5628-46f2-80d4-d77551ebd2b1",
   "metadata": {},
   "source": [
    "Consider dataset containing ramen rating."
   ]
  },
  {
   "cell_type": "code",
   "execution_count": 2,
   "id": "8d24a0ea-df94-4fb6-b4df-c10573888663",
   "metadata": {},
   "outputs": [
    {
     "name": "stdout",
     "output_type": "stream",
     "text": [
      "NOTE: Cloud Analytic Services made the uploaded file available as table TMP1PWYYBVT in caslib CASUSER(Peter.Styliadis@sas.com).\n",
      "NOTE: The table TMP1PWYYBVT has been created in caslib CASUSER(Peter.Styliadis@sas.com) from binary data uploaded to Cloud Analytic Services.\n"
     ]
    },
    {
     "data": {
      "text/html": [
       "<div>\n",
       "<style scoped>\n",
       "    .dataframe tbody tr th:only-of-type {\n",
       "        vertical-align: middle;\n",
       "    }\n",
       "\n",
       "    .dataframe tbody tr th {\n",
       "        vertical-align: top;\n",
       "    }\n",
       "\n",
       "    .dataframe thead th {\n",
       "        text-align: right;\n",
       "    }\n",
       "</style>\n",
       "<table border=\"1\" class=\"dataframe\"><caption>Selected Rows from Table TMP1PWYYBVT</caption>\n",
       "  <thead>\n",
       "    <tr style=\"text-align: right;\">\n",
       "      <th title=\"\"></th>\n",
       "      <th title=\"brand\">brand</th>\n",
       "      <th title=\"style\">style</th>\n",
       "      <th title=\"rating\">rating</th>\n",
       "    </tr>\n",
       "  </thead>\n",
       "  <tbody>\n",
       "    <tr>\n",
       "      <td>0</td>\n",
       "      <td>Yum Yum</td>\n",
       "      <td>cup</td>\n",
       "      <td>4.0</td>\n",
       "    </tr>\n",
       "    <tr>\n",
       "      <td>1</td>\n",
       "      <td>Yum Yum</td>\n",
       "      <td>cup</td>\n",
       "      <td>4.0</td>\n",
       "    </tr>\n",
       "    <tr>\n",
       "      <td>2</td>\n",
       "      <td>Indomie</td>\n",
       "      <td>cup</td>\n",
       "      <td>3.5</td>\n",
       "    </tr>\n",
       "    <tr>\n",
       "      <td>3</td>\n",
       "      <td>Indomie</td>\n",
       "      <td>pack</td>\n",
       "      <td>15.0</td>\n",
       "    </tr>\n",
       "    <tr>\n",
       "      <td>4</td>\n",
       "      <td>Indomie</td>\n",
       "      <td>pack</td>\n",
       "      <td>5.0</td>\n",
       "    </tr>\n",
       "  </tbody>\n",
       "</table>\n",
       "</div>"
      ],
      "text/plain": [
       "Selected Rows from Table TMP1PWYYBVT\n",
       "\n",
       "     brand style  rating\n",
       "0  Yum Yum   cup     4.0\n",
       "1  Yum Yum   cup     4.0\n",
       "2  Indomie   cup     3.5\n",
       "3  Indomie  pack    15.0\n",
       "4  Indomie  pack     5.0"
      ]
     },
     "execution_count": 2,
     "metadata": {},
     "output_type": "execute_result"
    }
   ],
   "source": [
    "#conn = swat.CAS() ## Enter connection information\n",
    "df = pd.DataFrame({\n",
    "    'brand': ['Yum Yum', 'Yum Yum', 'Indomie', 'Indomie', 'Indomie'],\n",
    "    'style': ['cup', 'cup', 'cup', 'pack', 'pack'],\n",
    "    'rating': [4, 4, 3.5, 15, 5]\n",
    "})\n",
    "castbl = conn.upload_frame(df)\n",
    "castbl.head()"
   ]
  },
  {
   "cell_type": "code",
   "execution_count": null,
   "id": "3fc43433-70d4-4ce0-86e4-3f4fef60bc4c",
   "metadata": {},
   "outputs": [],
   "source": [
    "castbl.head()"
   ]
  },
  {
   "cell_type": "markdown",
   "id": "1d02eb8b-6adc-473f-b8b5-64fb513c2f2e",
   "metadata": {},
   "source": [
    "By default, it removes duplicate rows based on all columns."
   ]
  },
  {
   "cell_type": "code",
   "execution_count": 33,
   "id": "864b869f-d174-47fa-a6e1-bd255ed09765",
   "metadata": {},
   "outputs": [
    {
     "name": "stdout",
     "output_type": "stream",
     "text": [
      "NOTE: There were 5 rows read from the table TMPTCD9OMT3.\n",
      "NOTE: The table remove_duplicates has 4 rows and 3 columns.\n"
     ]
    },
    {
     "data": {
      "text/html": [
       "<div>\n",
       "<style scoped>\n",
       "    .dataframe tbody tr th:only-of-type {\n",
       "        vertical-align: middle;\n",
       "    }\n",
       "\n",
       "    .dataframe tbody tr th {\n",
       "        vertical-align: top;\n",
       "    }\n",
       "\n",
       "    .dataframe thead th {\n",
       "        text-align: right;\n",
       "    }\n",
       "</style>\n",
       "<table border=\"1\" class=\"dataframe\"><caption>Selected Rows from Table REMOVE_DUPLICATES</caption>\n",
       "  <thead>\n",
       "    <tr style=\"text-align: right;\">\n",
       "      <th title=\"\"></th>\n",
       "      <th title=\"brand\">brand</th>\n",
       "      <th title=\"style\">style</th>\n",
       "      <th title=\"rating\">rating</th>\n",
       "    </tr>\n",
       "  </thead>\n",
       "  <tbody>\n",
       "    <tr>\n",
       "      <td>0</td>\n",
       "      <td>Indomie</td>\n",
       "      <td>pack</td>\n",
       "      <td>15.0</td>\n",
       "    </tr>\n",
       "    <tr>\n",
       "      <td>1</td>\n",
       "      <td>Indomie</td>\n",
       "      <td>pack</td>\n",
       "      <td>5.0</td>\n",
       "    </tr>\n",
       "    <tr>\n",
       "      <td>2</td>\n",
       "      <td>Yum Yum</td>\n",
       "      <td>cup</td>\n",
       "      <td>4.0</td>\n",
       "    </tr>\n",
       "    <tr>\n",
       "      <td>3</td>\n",
       "      <td>Indomie</td>\n",
       "      <td>cup</td>\n",
       "      <td>3.5</td>\n",
       "    </tr>\n",
       "  </tbody>\n",
       "</table>\n",
       "</div>"
      ],
      "text/plain": [
       "Selected Rows from Table REMOVE_DUPLICATES\n",
       "\n",
       "     brand style  rating\n",
       "0  Indomie  pack    15.0\n",
       "1  Indomie  pack     5.0\n",
       "2  Yum Yum   cup     4.0\n",
       "3  Indomie   cup     3.5"
      ]
     },
     "execution_count": 33,
     "metadata": {},
     "output_type": "execute_result"
    }
   ],
   "source": [
    "castbl.drop_duplicates(casout = {'name':'remove_all_duplicates', 'caslib':'casuser'})\n",
    "\n",
    "tbl = conn.CASTable('remove_all_duplicates')\n",
    "tbl.head()"
   ]
  },
  {
   "cell_type": "markdown",
   "id": "573784fd-b377-43ba-98fa-50b6e842f6a9",
   "metadata": {},
   "source": [
    "To remove duplicates on specific column(s), use subset. Order of rows is not guaranteed in the distributed CAS server."
   ]
  },
  {
   "cell_type": "code",
   "execution_count": 37,
   "id": "02ec446f-961d-4038-ad6e-aff5ade7aeb8",
   "metadata": {},
   "outputs": [
    {
     "name": "stdout",
     "output_type": "stream",
     "text": [
      "NOTE: There were 5 rows read from the table TMPTCD9OMT3.\n",
      "NOTE: The table remove_brand_duplicates has 2 rows and 3 columns.\n"
     ]
    },
    {
     "data": {
      "text/html": [
       "<div>\n",
       "<style scoped>\n",
       "    .dataframe tbody tr th:only-of-type {\n",
       "        vertical-align: middle;\n",
       "    }\n",
       "\n",
       "    .dataframe tbody tr th {\n",
       "        vertical-align: top;\n",
       "    }\n",
       "\n",
       "    .dataframe thead th {\n",
       "        text-align: right;\n",
       "    }\n",
       "</style>\n",
       "<table border=\"1\" class=\"dataframe\"><caption>Selected Rows from Table REMOVE_BRAND_DUPLICATES</caption>\n",
       "  <thead>\n",
       "    <tr style=\"text-align: right;\">\n",
       "      <th title=\"\"></th>\n",
       "      <th title=\"brand\">brand</th>\n",
       "      <th title=\"style\">style</th>\n",
       "      <th title=\"rating\">rating</th>\n",
       "    </tr>\n",
       "  </thead>\n",
       "  <tbody>\n",
       "    <tr>\n",
       "      <td>0</td>\n",
       "      <td>Indomie</td>\n",
       "      <td>pack</td>\n",
       "      <td>15.0</td>\n",
       "    </tr>\n",
       "    <tr>\n",
       "      <td>1</td>\n",
       "      <td>Yum Yum</td>\n",
       "      <td>cup</td>\n",
       "      <td>4.0</td>\n",
       "    </tr>\n",
       "  </tbody>\n",
       "</table>\n",
       "</div>"
      ],
      "text/plain": [
       "Selected Rows from Table REMOVE_BRAND_DUPLICATES\n",
       "\n",
       "     brand style  rating\n",
       "0  Indomie  pack    15.0\n",
       "1  Yum Yum   cup     4.0"
      ]
     },
     "execution_count": 37,
     "metadata": {},
     "output_type": "execute_result"
    }
   ],
   "source": [
    "castbl.drop_duplicates(subset=['brand'], casout = {'name':'remove_brand_duplicates', 'caslib':'casuser'})\n",
    "tbl = conn.CASTable('remove_brand_duplicates')\n",
    "tbl.head()"
   ]
  },
  {
   "cell_type": "code",
   "execution_count": null,
   "id": "a9662525-cea2-411e-a738-b715fb951fc6",
   "metadata": {},
   "outputs": [],
   "source": []
  },
  {
   "cell_type": "markdown",
   "id": "042c9f7a-e579-404f-9b04-05cd016a0ec5",
   "metadata": {},
   "source": [
    "## My tests with the cars.csv file"
   ]
  },
  {
   "cell_type": "code",
   "execution_count": 4,
   "id": "dcdaee1b-abbc-47c3-b066-d8842fb51883",
   "metadata": {},
   "outputs": [
    {
     "name": "stdout",
     "output_type": "stream",
     "text": [
      "NOTE: Cloud Analytic Services made the uploaded file available as table CARS_TEST in caslib CASUSER(Peter.Styliadis@sas.com).\n",
      "NOTE: The table CARS_TEST has been created in caslib CASUSER(Peter.Styliadis@sas.com) from binary data uploaded to Cloud Analytic Services.\n"
     ]
    },
    {
     "data": {
      "text/html": [
       "<div class=\"cas-results-key\"><b>&#167; TableInfo</b></div>\n",
       "<div class=\"cas-results-body\">\n",
       "<div>\n",
       "<style scoped>\n",
       "    .dataframe tbody tr th:only-of-type {\n",
       "        vertical-align: middle;\n",
       "    }\n",
       "\n",
       "    .dataframe tbody tr th {\n",
       "        vertical-align: top;\n",
       "    }\n",
       "\n",
       "    .dataframe thead th {\n",
       "        text-align: right;\n",
       "    }\n",
       "</style>\n",
       "<table border=\"1\" class=\"dataframe\">\n",
       "  <thead>\n",
       "    <tr style=\"text-align: right;\">\n",
       "      <th title=\"\"></th>\n",
       "      <th title=\"Name\">Name</th>\n",
       "      <th title=\"Rows\">Rows</th>\n",
       "      <th title=\"Columns\">Columns</th>\n",
       "      <th title=\"Indexed Columns\">IndexedColumns</th>\n",
       "      <th title=\"Encoding\">Encoding</th>\n",
       "      <th title=\"Created\">CreateTimeFormatted</th>\n",
       "      <th title=\"Last Modified\">ModTimeFormatted</th>\n",
       "      <th title=\"Last Accessed\">AccessTimeFormatted</th>\n",
       "      <th title=\"Character Set\">JavaCharSet</th>\n",
       "      <th title=\"CreateTime\">CreateTime</th>\n",
       "      <th title=\"Repeated\">Repeated</th>\n",
       "      <th title=\"View\">View</th>\n",
       "      <th title=\"MultiPart\">MultiPart</th>\n",
       "      <th title=\"Loaded Source\">SourceName</th>\n",
       "      <th title=\"Source Caslib\">SourceCaslib</th>\n",
       "      <th title=\"Compressed\">Compressed</th>\n",
       "      <th title=\"Table Creator\">Creator</th>\n",
       "      <th title=\"Last Table Modifier\">Modifier</th>\n",
       "      <th title=\"Source Modified\">SourceModTimeFormatted</th>\n",
       "      <th title=\"SourceModTime\">SourceModTime</th>\n",
       "    </tr>\n",
       "  </thead>\n",
       "  <tbody>\n",
       "    <tr>\n",
       "      <td>0</td>\n",
       "      <td>CARS_TEST</td>\n",
       "      <td>428</td>\n",
       "      <td>15</td>\n",
       "      <td>0</td>\n",
       "      <td>utf-8</td>\n",
       "      <td>2023-01-11T16:09:02+00:00</td>\n",
       "      <td>2023-01-11T16:09:02+00:00</td>\n",
       "      <td>2023-01-11T16:09:05+00:00</td>\n",
       "      <td>UTF8</td>\n",
       "      <td>1.989073e+09</td>\n",
       "      <td>0</td>\n",
       "      <td>0</td>\n",
       "      <td>0</td>\n",
       "      <td></td>\n",
       "      <td></td>\n",
       "      <td>0</td>\n",
       "      <td>Peter.Styliadis@sas.com</td>\n",
       "      <td></td>\n",
       "      <td>2023-01-11T16:09:02+00:00</td>\n",
       "      <td>1.989073e+09</td>\n",
       "    </tr>\n",
       "    <tr>\n",
       "      <td>1</td>\n",
       "      <td>CARS_DUPLICATE</td>\n",
       "      <td>856</td>\n",
       "      <td>15</td>\n",
       "      <td>0</td>\n",
       "      <td>utf-8</td>\n",
       "      <td>2023-01-11T16:09:05+00:00</td>\n",
       "      <td>2023-01-11T16:09:05+00:00</td>\n",
       "      <td>2023-01-11T16:09:05+00:00</td>\n",
       "      <td>UTF8</td>\n",
       "      <td>1.989073e+09</td>\n",
       "      <td>0</td>\n",
       "      <td>0</td>\n",
       "      <td>0</td>\n",
       "      <td></td>\n",
       "      <td></td>\n",
       "      <td>0</td>\n",
       "      <td>Peter.Styliadis@sas.com</td>\n",
       "      <td></td>\n",
       "      <td></td>\n",
       "      <td>NaN</td>\n",
       "    </tr>\n",
       "  </tbody>\n",
       "</table>\n",
       "</div>\n",
       "</div>\n",
       "<div class=\"cas-output-area\"></div>\n",
       "<p class=\"cas-results-performance\"><small><span class=\"cas-elapsed\">elapsed 0.0109s</span> &#183; <span class=\"cas-user\">user 0.00203s</span> &#183; <span class=\"cas-sys\">sys 0.0208s</span> &#183; <span class=\"cas-memory\">mem 1.83MB</span></small></p>"
      ],
      "text/plain": [
       "[TableInfo]\n",
       "\n",
       "              Name  Rows  Columns  IndexedColumns Encoding        CreateTimeFormatted           ModTimeFormatted        AccessTimeFormatted JavaCharSet    CreateTime       ModTime    AccessTime  Global  Repeated  View  MultiPart SourceName SourceCaslib  Compressed                  Creator Modifier     SourceModTimeFormatted  SourceModTime\n",
       " 0       CARS_TEST   428       15               0    utf-8  2023-01-11T16:09:02+00:00  2023-01-11T16:09:02+00:00  2023-01-11T16:09:05+00:00        UTF8  1.989073e+09  1.989073e+09  1.989073e+09       0         0     0          0                                   0  Peter.Styliadis@sas.com           2023-01-11T16:09:02+00:00   1.989073e+09\n",
       " 1  CARS_DUPLICATE   856       15               0    utf-8  2023-01-11T16:09:05+00:00  2023-01-11T16:09:05+00:00  2023-01-11T16:09:05+00:00        UTF8  1.989073e+09  1.989073e+09  1.989073e+09       0         0     0          0                                   0  Peter.Styliadis@sas.com                                                NaN\n",
       "\n",
       "+ Elapsed: 0.0109s, user: 0.00203s, sys: 0.0208s, mem: 1.83mb"
      ]
     },
     "execution_count": 4,
     "metadata": {},
     "output_type": "execute_result"
    }
   ],
   "source": [
    "tbl = conn.read_csv('https://support.sas.com/documentation/onlinedoc/viya/exampledatasets/cars.csv', \n",
    "                    casout={'name':'cars_test', 'caslib':'casuser'})\n",
    "carsdup = tbl.append(tbl, casout='cars_duplicate')\n",
    "conn.tableInfo()"
   ]
  },
  {
   "cell_type": "code",
   "execution_count": 6,
   "id": "f9aca7c7-c852-49a0-8612-650375053890",
   "metadata": {},
   "outputs": [
    {
     "data": {
      "text/html": [
       "<div>\n",
       "<style scoped>\n",
       "    .dataframe tbody tr th:only-of-type {\n",
       "        vertical-align: middle;\n",
       "    }\n",
       "\n",
       "    .dataframe tbody tr th {\n",
       "        vertical-align: top;\n",
       "    }\n",
       "\n",
       "    .dataframe thead th {\n",
       "        text-align: right;\n",
       "    }\n",
       "</style>\n",
       "<table border=\"1\" class=\"dataframe\"><caption>Selected Rows from Table CARS_DUPLICATE</caption>\n",
       "  <thead>\n",
       "    <tr style=\"text-align: right;\">\n",
       "      <th title=\"\"></th>\n",
       "      <th title=\"Make\">Make</th>\n",
       "      <th title=\"Model\">Model</th>\n",
       "      <th title=\"Type\">Type</th>\n",
       "      <th title=\"Origin\">Origin</th>\n",
       "      <th title=\"DriveTrain\">DriveTrain</th>\n",
       "      <th title=\"MSRP\">MSRP</th>\n",
       "      <th title=\"Invoice\">Invoice</th>\n",
       "      <th title=\"EngineSize\">EngineSize</th>\n",
       "      <th title=\"Cylinders\">Cylinders</th>\n",
       "      <th title=\"Horsepower\">Horsepower</th>\n",
       "      <th title=\"MPG_City\">MPG_City</th>\n",
       "      <th title=\"MPG_Highway\">MPG_Highway</th>\n",
       "      <th title=\"Weight\">Weight</th>\n",
       "      <th title=\"Wheelbase\">Wheelbase</th>\n",
       "      <th title=\"Length\">Length</th>\n",
       "    </tr>\n",
       "  </thead>\n",
       "  <tbody>\n",
       "    <tr>\n",
       "      <td>0</td>\n",
       "      <td>Acura</td>\n",
       "      <td>MDX</td>\n",
       "      <td>SUV</td>\n",
       "      <td>Asia</td>\n",
       "      <td>All</td>\n",
       "      <td>36945.0</td>\n",
       "      <td>33337.0</td>\n",
       "      <td>3.5</td>\n",
       "      <td>6.0</td>\n",
       "      <td>265.0</td>\n",
       "      <td>17.0</td>\n",
       "      <td>23.0</td>\n",
       "      <td>4451.0</td>\n",
       "      <td>106.0</td>\n",
       "      <td>189.0</td>\n",
       "    </tr>\n",
       "    <tr>\n",
       "      <td>1</td>\n",
       "      <td>Acura</td>\n",
       "      <td>RSX Type S 2dr</td>\n",
       "      <td>Sedan</td>\n",
       "      <td>Asia</td>\n",
       "      <td>Front</td>\n",
       "      <td>23820.0</td>\n",
       "      <td>21761.0</td>\n",
       "      <td>2.0</td>\n",
       "      <td>4.0</td>\n",
       "      <td>200.0</td>\n",
       "      <td>24.0</td>\n",
       "      <td>31.0</td>\n",
       "      <td>2778.0</td>\n",
       "      <td>101.0</td>\n",
       "      <td>172.0</td>\n",
       "    </tr>\n",
       "    <tr>\n",
       "      <td>2</td>\n",
       "      <td>Acura</td>\n",
       "      <td>TSX 4dr</td>\n",
       "      <td>Sedan</td>\n",
       "      <td>Asia</td>\n",
       "      <td>Front</td>\n",
       "      <td>26990.0</td>\n",
       "      <td>24647.0</td>\n",
       "      <td>2.4</td>\n",
       "      <td>4.0</td>\n",
       "      <td>200.0</td>\n",
       "      <td>22.0</td>\n",
       "      <td>29.0</td>\n",
       "      <td>3230.0</td>\n",
       "      <td>105.0</td>\n",
       "      <td>183.0</td>\n",
       "    </tr>\n",
       "    <tr>\n",
       "      <td>3</td>\n",
       "      <td>Acura</td>\n",
       "      <td>TL 4dr</td>\n",
       "      <td>Sedan</td>\n",
       "      <td>Asia</td>\n",
       "      <td>Front</td>\n",
       "      <td>33195.0</td>\n",
       "      <td>30299.0</td>\n",
       "      <td>3.2</td>\n",
       "      <td>6.0</td>\n",
       "      <td>270.0</td>\n",
       "      <td>20.0</td>\n",
       "      <td>28.0</td>\n",
       "      <td>3575.0</td>\n",
       "      <td>108.0</td>\n",
       "      <td>186.0</td>\n",
       "    </tr>\n",
       "    <tr>\n",
       "      <td>4</td>\n",
       "      <td>Acura</td>\n",
       "      <td>3.5 RL 4dr</td>\n",
       "      <td>Sedan</td>\n",
       "      <td>Asia</td>\n",
       "      <td>Front</td>\n",
       "      <td>43755.0</td>\n",
       "      <td>39014.0</td>\n",
       "      <td>3.5</td>\n",
       "      <td>6.0</td>\n",
       "      <td>225.0</td>\n",
       "      <td>18.0</td>\n",
       "      <td>24.0</td>\n",
       "      <td>3880.0</td>\n",
       "      <td>115.0</td>\n",
       "      <td>197.0</td>\n",
       "    </tr>\n",
       "  </tbody>\n",
       "</table>\n",
       "</div>"
      ],
      "text/plain": [
       "Selected Rows from Table CARS_DUPLICATE\n",
       "\n",
       "    Make           Model   Type Origin DriveTrain     MSRP  Invoice  EngineSize  Cylinders  Horsepower  MPG_City  MPG_Highway  Weight  Wheelbase  Length\n",
       "0  Acura             MDX    SUV   Asia        All  36945.0  33337.0         3.5        6.0       265.0      17.0         23.0  4451.0      106.0   189.0\n",
       "1  Acura  RSX Type S 2dr  Sedan   Asia      Front  23820.0  21761.0         2.0        4.0       200.0      24.0         31.0  2778.0      101.0   172.0\n",
       "2  Acura         TSX 4dr  Sedan   Asia      Front  26990.0  24647.0         2.4        4.0       200.0      22.0         29.0  3230.0      105.0   183.0\n",
       "3  Acura          TL 4dr  Sedan   Asia      Front  33195.0  30299.0         3.2        6.0       270.0      20.0         28.0  3575.0      108.0   186.0\n",
       "4  Acura      3.5 RL 4dr  Sedan   Asia      Front  43755.0  39014.0         3.5        6.0       225.0      18.0         24.0  3880.0      115.0   197.0"
      ]
     },
     "execution_count": 6,
     "metadata": {},
     "output_type": "execute_result"
    }
   ],
   "source": [
    "carsdup.head()"
   ]
  },
  {
   "cell_type": "code",
   "execution_count": 7,
   "id": "b08438cd-a224-4b5e-af6d-c0fde7b0af02",
   "metadata": {},
   "outputs": [
    {
     "name": "stdout",
     "output_type": "stream",
     "text": [
      "NOTE: Added action set 'deduplication'.\n",
      "NOTE: There were 856 rows read from the table CARS_DUPLICATE.\n",
      "NOTE: The table test has 428 rows and 15 columns.\n"
     ]
    },
    {
     "data": {
      "text/plain": [
       "CASTable('test', caslib='CASUSER(Peter.Styliadis@sas.com)')"
      ]
     },
     "execution_count": 7,
     "metadata": {},
     "output_type": "execute_result"
    }
   ],
   "source": [
    "carsdup.drop_duplicates(casout = 'test')"
   ]
  },
  {
   "cell_type": "code",
   "execution_count": 9,
   "id": "8d3469bb-508d-42b7-8b3b-34b4de38bcfa",
   "metadata": {},
   "outputs": [
    {
     "name": "stdout",
     "output_type": "stream",
     "text": [
      "ERROR: The table test already exists in the session.\n",
      "ERROR: The action stopped due to errors.\n"
     ]
    },
    {
     "data": {
      "text/html": [
       "<div>\n",
       "<style scoped>\n",
       "    .dataframe tbody tr th:only-of-type {\n",
       "        vertical-align: middle;\n",
       "    }\n",
       "\n",
       "    .dataframe tbody tr th {\n",
       "        vertical-align: top;\n",
       "    }\n",
       "\n",
       "    .dataframe thead th {\n",
       "        text-align: right;\n",
       "    }\n",
       "</style>\n",
       "<table border=\"1\" class=\"dataframe\"><caption>Selected Rows from Table TEST</caption>\n",
       "  <thead>\n",
       "    <tr style=\"text-align: right;\">\n",
       "      <th title=\"\"></th>\n",
       "      <th title=\"Make\">Make</th>\n",
       "      <th title=\"Model\">Model</th>\n",
       "      <th title=\"Type\">Type</th>\n",
       "      <th title=\"Origin\">Origin</th>\n",
       "      <th title=\"DriveTrain\">DriveTrain</th>\n",
       "      <th title=\"MSRP\">MSRP</th>\n",
       "      <th title=\"Invoice\">Invoice</th>\n",
       "      <th title=\"EngineSize\">EngineSize</th>\n",
       "      <th title=\"Cylinders\">Cylinders</th>\n",
       "      <th title=\"Horsepower\">Horsepower</th>\n",
       "      <th title=\"MPG_City\">MPG_City</th>\n",
       "      <th title=\"MPG_Highway\">MPG_Highway</th>\n",
       "      <th title=\"Weight\">Weight</th>\n",
       "      <th title=\"Wheelbase\">Wheelbase</th>\n",
       "      <th title=\"Length\">Length</th>\n",
       "    </tr>\n",
       "  </thead>\n",
       "  <tbody>\n",
       "    <tr>\n",
       "      <td>0</td>\n",
       "      <td>Mercedes-Benz</td>\n",
       "      <td>C240 4dr</td>\n",
       "      <td>Sedan</td>\n",
       "      <td>Europe</td>\n",
       "      <td>Rear</td>\n",
       "      <td>32280.0</td>\n",
       "      <td>30071.0</td>\n",
       "      <td>2.6</td>\n",
       "      <td>6.0</td>\n",
       "      <td>168.0</td>\n",
       "      <td>20.0</td>\n",
       "      <td>25.0</td>\n",
       "      <td>3360.0</td>\n",
       "      <td>107.0</td>\n",
       "      <td>178.0</td>\n",
       "    </tr>\n",
       "    <tr>\n",
       "      <td>1</td>\n",
       "      <td>Mercedes-Benz</td>\n",
       "      <td>C320 Sport 4dr</td>\n",
       "      <td>Sedan</td>\n",
       "      <td>Europe</td>\n",
       "      <td>Rear</td>\n",
       "      <td>35920.0</td>\n",
       "      <td>33456.0</td>\n",
       "      <td>3.2</td>\n",
       "      <td>6.0</td>\n",
       "      <td>215.0</td>\n",
       "      <td>19.0</td>\n",
       "      <td>26.0</td>\n",
       "      <td>3430.0</td>\n",
       "      <td>107.0</td>\n",
       "      <td>178.0</td>\n",
       "    </tr>\n",
       "    <tr>\n",
       "      <td>2</td>\n",
       "      <td>Mitsubishi</td>\n",
       "      <td>Galant GTS 4dr</td>\n",
       "      <td>Sedan</td>\n",
       "      <td>Asia</td>\n",
       "      <td>Front</td>\n",
       "      <td>25700.0</td>\n",
       "      <td>23883.0</td>\n",
       "      <td>3.8</td>\n",
       "      <td>6.0</td>\n",
       "      <td>230.0</td>\n",
       "      <td>18.0</td>\n",
       "      <td>26.0</td>\n",
       "      <td>3649.0</td>\n",
       "      <td>108.0</td>\n",
       "      <td>191.0</td>\n",
       "    </tr>\n",
       "    <tr>\n",
       "      <td>3</td>\n",
       "      <td>Chevrolet</td>\n",
       "      <td>Tahoe LT</td>\n",
       "      <td>SUV</td>\n",
       "      <td>USA</td>\n",
       "      <td>All</td>\n",
       "      <td>41465.0</td>\n",
       "      <td>36287.0</td>\n",
       "      <td>5.3</td>\n",
       "      <td>8.0</td>\n",
       "      <td>295.0</td>\n",
       "      <td>14.0</td>\n",
       "      <td>18.0</td>\n",
       "      <td>5050.0</td>\n",
       "      <td>116.0</td>\n",
       "      <td>197.0</td>\n",
       "    </tr>\n",
       "    <tr>\n",
       "      <td>4</td>\n",
       "      <td>Dodge</td>\n",
       "      <td>Intrepid SE 4dr</td>\n",
       "      <td>Sedan</td>\n",
       "      <td>USA</td>\n",
       "      <td>Front</td>\n",
       "      <td>22035.0</td>\n",
       "      <td>20502.0</td>\n",
       "      <td>2.7</td>\n",
       "      <td>6.0</td>\n",
       "      <td>200.0</td>\n",
       "      <td>21.0</td>\n",
       "      <td>29.0</td>\n",
       "      <td>3469.0</td>\n",
       "      <td>113.0</td>\n",
       "      <td>204.0</td>\n",
       "    </tr>\n",
       "  </tbody>\n",
       "</table>\n",
       "</div>"
      ],
      "text/plain": [
       "Selected Rows from Table TEST\n",
       "\n",
       "            Make            Model   Type  Origin DriveTrain     MSRP  Invoice  EngineSize  Cylinders  Horsepower  MPG_City  MPG_Highway  Weight  Wheelbase  Length\n",
       "0  Mercedes-Benz         C240 4dr  Sedan  Europe       Rear  32280.0  30071.0         2.6        6.0       168.0      20.0         25.0  3360.0      107.0   178.0\n",
       "1  Mercedes-Benz   C320 Sport 4dr  Sedan  Europe       Rear  35920.0  33456.0         3.2        6.0       215.0      19.0         26.0  3430.0      107.0   178.0\n",
       "2     Mitsubishi   Galant GTS 4dr  Sedan    Asia      Front  25700.0  23883.0         3.8        6.0       230.0      18.0         26.0  3649.0      108.0   191.0\n",
       "3      Chevrolet         Tahoe LT    SUV     USA        All  41465.0  36287.0         5.3        8.0       295.0      14.0         18.0  5050.0      116.0   197.0\n",
       "4          Dodge  Intrepid SE 4dr  Sedan     USA      Front  22035.0  20502.0         2.7        6.0       200.0      21.0         29.0  3469.0      113.0   204.0"
      ]
     },
     "execution_count": 9,
     "metadata": {},
     "output_type": "execute_result"
    }
   ],
   "source": [
    "x = carsdup.drop_duplicates(casout = 'test', inplace=True)\n",
    "x.head()"
   ]
  },
  {
   "cell_type": "code",
   "execution_count": 10,
   "id": "fc1fda5b-90e2-4f37-84d6-94859c25d83d",
   "metadata": {},
   "outputs": [
    {
     "name": "stdout",
     "output_type": "stream",
     "text": [
      "NOTE: There were 856 rows read from the table CARS_DUPLICATE.\n",
      "NOTE: The table test2 has 425 rows and 15 columns.\n"
     ]
    },
    {
     "data": {
      "text/html": [
       "<div>\n",
       "<style scoped>\n",
       "    .dataframe tbody tr th:only-of-type {\n",
       "        vertical-align: middle;\n",
       "    }\n",
       "\n",
       "    .dataframe tbody tr th {\n",
       "        vertical-align: top;\n",
       "    }\n",
       "\n",
       "    .dataframe thead th {\n",
       "        text-align: right;\n",
       "    }\n",
       "</style>\n",
       "<table border=\"1\" class=\"dataframe\"><caption>Selected Rows from Table TEST2</caption>\n",
       "  <thead>\n",
       "    <tr style=\"text-align: right;\">\n",
       "      <th title=\"\"></th>\n",
       "      <th title=\"Make\">Make</th>\n",
       "      <th title=\"Model\">Model</th>\n",
       "      <th title=\"Type\">Type</th>\n",
       "      <th title=\"Origin\">Origin</th>\n",
       "      <th title=\"DriveTrain\">DriveTrain</th>\n",
       "      <th title=\"MSRP\">MSRP</th>\n",
       "      <th title=\"Invoice\">Invoice</th>\n",
       "      <th title=\"EngineSize\">EngineSize</th>\n",
       "      <th title=\"Cylinders\">Cylinders</th>\n",
       "      <th title=\"Horsepower\">Horsepower</th>\n",
       "      <th title=\"MPG_City\">MPG_City</th>\n",
       "      <th title=\"MPG_Highway\">MPG_Highway</th>\n",
       "      <th title=\"Weight\">Weight</th>\n",
       "      <th title=\"Wheelbase\">Wheelbase</th>\n",
       "      <th title=\"Length\">Length</th>\n",
       "    </tr>\n",
       "  </thead>\n",
       "  <tbody>\n",
       "    <tr>\n",
       "      <td>0</td>\n",
       "      <td>Chevrolet</td>\n",
       "      <td>Cavalier LS 2dr</td>\n",
       "      <td>Sedan</td>\n",
       "      <td>USA</td>\n",
       "      <td>Front</td>\n",
       "      <td>16385.0</td>\n",
       "      <td>15357.0</td>\n",
       "      <td>2.2</td>\n",
       "      <td>4.0</td>\n",
       "      <td>140.0</td>\n",
       "      <td>26.0</td>\n",
       "      <td>37.0</td>\n",
       "      <td>2617.0</td>\n",
       "      <td>104.0</td>\n",
       "      <td>183.0</td>\n",
       "    </tr>\n",
       "    <tr>\n",
       "      <td>1</td>\n",
       "      <td>Ford</td>\n",
       "      <td>F-150 Supercab Lariat</td>\n",
       "      <td>Truck</td>\n",
       "      <td>USA</td>\n",
       "      <td>All</td>\n",
       "      <td>33540.0</td>\n",
       "      <td>29405.0</td>\n",
       "      <td>5.4</td>\n",
       "      <td>8.0</td>\n",
       "      <td>300.0</td>\n",
       "      <td>14.0</td>\n",
       "      <td>18.0</td>\n",
       "      <td>5464.0</td>\n",
       "      <td>133.0</td>\n",
       "      <td>218.0</td>\n",
       "    </tr>\n",
       "    <tr>\n",
       "      <td>2</td>\n",
       "      <td>Honda</td>\n",
       "      <td>CR-V LX</td>\n",
       "      <td>SUV</td>\n",
       "      <td>Asia</td>\n",
       "      <td>All</td>\n",
       "      <td>19860.0</td>\n",
       "      <td>18419.0</td>\n",
       "      <td>2.4</td>\n",
       "      <td>4.0</td>\n",
       "      <td>160.0</td>\n",
       "      <td>21.0</td>\n",
       "      <td>25.0</td>\n",
       "      <td>3258.0</td>\n",
       "      <td>103.0</td>\n",
       "      <td>179.0</td>\n",
       "    </tr>\n",
       "    <tr>\n",
       "      <td>3</td>\n",
       "      <td>Saturn</td>\n",
       "      <td>Ion1 4dr</td>\n",
       "      <td>Sedan</td>\n",
       "      <td>USA</td>\n",
       "      <td>Front</td>\n",
       "      <td>10995.0</td>\n",
       "      <td>10319.0</td>\n",
       "      <td>2.2</td>\n",
       "      <td>4.0</td>\n",
       "      <td>140.0</td>\n",
       "      <td>26.0</td>\n",
       "      <td>35.0</td>\n",
       "      <td>2692.0</td>\n",
       "      <td>103.0</td>\n",
       "      <td>185.0</td>\n",
       "    </tr>\n",
       "    <tr>\n",
       "      <td>4</td>\n",
       "      <td>BMW</td>\n",
       "      <td>525i 4dr</td>\n",
       "      <td>Sedan</td>\n",
       "      <td>Europe</td>\n",
       "      <td>Rear</td>\n",
       "      <td>39995.0</td>\n",
       "      <td>36620.0</td>\n",
       "      <td>2.5</td>\n",
       "      <td>6.0</td>\n",
       "      <td>184.0</td>\n",
       "      <td>19.0</td>\n",
       "      <td>28.0</td>\n",
       "      <td>3428.0</td>\n",
       "      <td>114.0</td>\n",
       "      <td>191.0</td>\n",
       "    </tr>\n",
       "  </tbody>\n",
       "</table>\n",
       "</div>"
      ],
      "text/plain": [
       "Selected Rows from Table TEST2\n",
       "\n",
       "        Make                  Model   Type  Origin DriveTrain     MSRP  Invoice  EngineSize  Cylinders  Horsepower  MPG_City  MPG_Highway  Weight  Wheelbase  Length\n",
       "0  Chevrolet        Cavalier LS 2dr  Sedan     USA      Front  16385.0  15357.0         2.2        4.0       140.0      26.0         37.0  2617.0      104.0   183.0\n",
       "1       Ford  F-150 Supercab Lariat  Truck     USA        All  33540.0  29405.0         5.4        8.0       300.0      14.0         18.0  5464.0      133.0   218.0\n",
       "2      Honda                CR-V LX    SUV    Asia        All  19860.0  18419.0         2.4        4.0       160.0      21.0         25.0  3258.0      103.0   179.0\n",
       "3     Saturn               Ion1 4dr  Sedan     USA      Front  10995.0  10319.0         2.2        4.0       140.0      26.0         35.0  2692.0      103.0   185.0\n",
       "4        BMW               525i 4dr  Sedan  Europe       Rear  39995.0  36620.0         2.5        6.0       184.0      19.0         28.0  3428.0      114.0   191.0"
      ]
     },
     "execution_count": 10,
     "metadata": {},
     "output_type": "execute_result"
    }
   ],
   "source": [
    "x = carsdup.drop_duplicates(casout = {'name':'test2'}, subset=['Make', 'Model'], inplace=True)\n",
    "x.head()"
   ]
  },
  {
   "cell_type": "markdown",
   "id": "97c134e0-0fc6-4763-8f67-52a012414d72",
   "metadata": {},
   "source": [
    "## Test: No subset parameter specified (Default uses all columns)\n",
    "If it's not specified all columns should be used to determine duplicates."
   ]
  },
  {
   "cell_type": "code",
   "execution_count": 11,
   "id": "4eebb8aa-5f56-4c74-8df1-2e06af3846a2",
   "metadata": {},
   "outputs": [
    {
     "name": "stdout",
     "output_type": "stream",
     "text": [
      "NOTE: There were 856 rows read from the table CARS_DUPLICATE.\n",
      "NOTE: The table no_param_specified has 428 rows and 15 columns.\n"
     ]
    },
    {
     "data": {
      "text/plain": [
       "CASTable('no_param_specified', caslib='casuser')"
      ]
     },
     "execution_count": 11,
     "metadata": {},
     "output_type": "execute_result"
    }
   ],
   "source": [
    "carsdup.drop_duplicates(casout={'name':'no_param_specified', 'caslib':'casuser'})"
   ]
  },
  {
   "cell_type": "markdown",
   "id": "df6bf012-bce4-4312-a7ba-252167bd7f7f",
   "metadata": {},
   "source": [
    "Try the overwrite the table above."
   ]
  },
  {
   "cell_type": "code",
   "execution_count": 5,
   "id": "c8f7fa3b-0696-48fe-bbd6-baad55b5ea10",
   "metadata": {},
   "outputs": [
    {
     "name": "stdout",
     "output_type": "stream",
     "text": [
      "NOTE: Added action set 'deduplication'.\n",
      "NOTE: There were 856 rows read from the table CARS_DUPLICATE.\n",
      "NOTE: The table no_param_specified has 428 rows and 15 columns.\n"
     ]
    }
   ],
   "source": [
    "x = carsdup.drop_duplicates(casout={'name':'no_param_specified', 'caslib':'casuser'}, inplace = True)"
   ]
  },
  {
   "cell_type": "code",
   "execution_count": 12,
   "id": "07ba0052-1ce9-48d0-8161-99581bc98d09",
   "metadata": {},
   "outputs": [],
   "source": [
    "casout = {'name':'test','test':'test'}"
   ]
  },
  {
   "cell_type": "code",
   "execution_count": 29,
   "id": "661ffead-e143-46bd-bb80-371718a28f01",
   "metadata": {},
   "outputs": [],
   "source": [
    "if (type(casout)==str) or ()"
   ]
  },
  {
   "cell_type": "code",
   "execution_count": 37,
   "id": "aa15ea80-91e9-42c2-aa7d-057105850f5a",
   "metadata": {},
   "outputs": [
    {
     "data": {
      "text/plain": [
       "True"
      ]
     },
     "execution_count": 37,
     "metadata": {},
     "output_type": "execute_result"
    }
   ],
   "source": []
  },
  {
   "cell_type": "code",
   "execution_count": 35,
   "id": "f71c2543-fc7c-4ab2-9eee-9de0bcfea9cb",
   "metadata": {},
   "outputs": [
    {
     "data": {
      "text/plain": [
       "NoneType"
      ]
     },
     "execution_count": 35,
     "metadata": {},
     "output_type": "execute_result"
    }
   ],
   "source": [
    "type(x)"
   ]
  },
  {
   "cell_type": "code",
   "execution_count": 11,
   "id": "20fc895c-f32f-41ba-9215-4d975a9f8c0a",
   "metadata": {},
   "outputs": [
    {
     "data": {
      "text/html": [
       "<div class=\"cas-results-key\"><b>&#167; TableInfo</b></div>\n",
       "<div class=\"cas-results-body\">\n",
       "<div>\n",
       "<style scoped>\n",
       "    .dataframe tbody tr th:only-of-type {\n",
       "        vertical-align: middle;\n",
       "    }\n",
       "\n",
       "    .dataframe tbody tr th {\n",
       "        vertical-align: top;\n",
       "    }\n",
       "\n",
       "    .dataframe thead th {\n",
       "        text-align: right;\n",
       "    }\n",
       "</style>\n",
       "<table border=\"1\" class=\"dataframe\">\n",
       "  <thead>\n",
       "    <tr style=\"text-align: right;\">\n",
       "      <th title=\"\"></th>\n",
       "      <th title=\"Name\">Name</th>\n",
       "      <th title=\"Rows\">Rows</th>\n",
       "      <th title=\"Columns\">Columns</th>\n",
       "      <th title=\"Indexed Columns\">IndexedColumns</th>\n",
       "      <th title=\"Encoding\">Encoding</th>\n",
       "      <th title=\"Created\">CreateTimeFormatted</th>\n",
       "      <th title=\"Last Modified\">ModTimeFormatted</th>\n",
       "      <th title=\"Last Accessed\">AccessTimeFormatted</th>\n",
       "      <th title=\"Character Set\">JavaCharSet</th>\n",
       "      <th title=\"CreateTime\">CreateTime</th>\n",
       "      <th title=\"Repeated\">Repeated</th>\n",
       "      <th title=\"View\">View</th>\n",
       "      <th title=\"MultiPart\">MultiPart</th>\n",
       "      <th title=\"Loaded Source\">SourceName</th>\n",
       "      <th title=\"Source Caslib\">SourceCaslib</th>\n",
       "      <th title=\"Compressed\">Compressed</th>\n",
       "      <th title=\"Table Creator\">Creator</th>\n",
       "      <th title=\"Last Table Modifier\">Modifier</th>\n",
       "      <th title=\"Source Modified\">SourceModTimeFormatted</th>\n",
       "      <th title=\"SourceModTime\">SourceModTime</th>\n",
       "    </tr>\n",
       "  </thead>\n",
       "  <tbody>\n",
       "    <tr>\n",
       "      <td>0</td>\n",
       "      <td>CARS</td>\n",
       "      <td>428</td>\n",
       "      <td>15</td>\n",
       "      <td>0</td>\n",
       "      <td>utf-8</td>\n",
       "      <td>2023-01-09T14:06:39+00:00</td>\n",
       "      <td>2023-01-09T14:06:39+00:00</td>\n",
       "      <td>2023-01-09T14:06:44+00:00</td>\n",
       "      <td>UTF8</td>\n",
       "      <td>1.988892e+09</td>\n",
       "      <td>0</td>\n",
       "      <td>0</td>\n",
       "      <td>0</td>\n",
       "      <td></td>\n",
       "      <td></td>\n",
       "      <td>0</td>\n",
       "      <td>Peter.Styliadis@sas.com</td>\n",
       "      <td></td>\n",
       "      <td>2023-01-09T14:06:39+00:00</td>\n",
       "      <td>1.988892e+09</td>\n",
       "    </tr>\n",
       "    <tr>\n",
       "      <td>1</td>\n",
       "      <td>CARSDUP</td>\n",
       "      <td>856</td>\n",
       "      <td>15</td>\n",
       "      <td>0</td>\n",
       "      <td>utf-8</td>\n",
       "      <td>2023-01-09T14:06:44+00:00</td>\n",
       "      <td>2023-01-09T14:06:44+00:00</td>\n",
       "      <td>2023-01-09T14:06:57+00:00</td>\n",
       "      <td>UTF8</td>\n",
       "      <td>1.988892e+09</td>\n",
       "      <td>0</td>\n",
       "      <td>0</td>\n",
       "      <td>0</td>\n",
       "      <td></td>\n",
       "      <td></td>\n",
       "      <td>0</td>\n",
       "      <td>Peter.Styliadis@sas.com</td>\n",
       "      <td></td>\n",
       "      <td></td>\n",
       "      <td>NaN</td>\n",
       "    </tr>\n",
       "    <tr>\n",
       "      <td>2</td>\n",
       "      <td>NO_PARAM_SPECIFIED</td>\n",
       "      <td>428</td>\n",
       "      <td>15</td>\n",
       "      <td>0</td>\n",
       "      <td>utf-8</td>\n",
       "      <td>2023-01-09T14:06:57+00:00</td>\n",
       "      <td>2023-01-09T14:06:57+00:00</td>\n",
       "      <td>2023-01-09T14:06:57+00:00</td>\n",
       "      <td>UTF8</td>\n",
       "      <td>1.988892e+09</td>\n",
       "      <td>0</td>\n",
       "      <td>0</td>\n",
       "      <td>0</td>\n",
       "      <td></td>\n",
       "      <td></td>\n",
       "      <td>0</td>\n",
       "      <td>Peter.Styliadis@sas.com</td>\n",
       "      <td></td>\n",
       "      <td></td>\n",
       "      <td>NaN</td>\n",
       "    </tr>\n",
       "  </tbody>\n",
       "</table>\n",
       "</div>\n",
       "</div>\n",
       "<div class=\"cas-output-area\"></div>\n",
       "<p class=\"cas-results-performance\"><small><span class=\"cas-elapsed\">elapsed 0.00971s</span> &#183; <span class=\"cas-user\">user 0.0061s</span> &#183; <span class=\"cas-sys\">sys 0.0127s</span> &#183; <span class=\"cas-memory\">mem 1.82MB</span></small></p>"
      ],
      "text/plain": [
       "[TableInfo]\n",
       "\n",
       "                  Name  Rows  Columns  IndexedColumns Encoding        CreateTimeFormatted           ModTimeFormatted        AccessTimeFormatted JavaCharSet    CreateTime       ModTime    AccessTime  Global  Repeated  View  MultiPart SourceName SourceCaslib  Compressed                  Creator Modifier     SourceModTimeFormatted  SourceModTime\n",
       " 0                CARS   428       15               0    utf-8  2023-01-09T14:06:39+00:00  2023-01-09T14:06:39+00:00  2023-01-09T14:06:44+00:00        UTF8  1.988892e+09  1.988892e+09  1.988892e+09       0         0     0          0                                   0  Peter.Styliadis@sas.com           2023-01-09T14:06:39+00:00   1.988892e+09\n",
       " 1             CARSDUP   856       15               0    utf-8  2023-01-09T14:06:44+00:00  2023-01-09T14:06:44+00:00  2023-01-09T14:06:57+00:00        UTF8  1.988892e+09  1.988892e+09  1.988892e+09       0         0     0          0                                   0  Peter.Styliadis@sas.com                                                NaN\n",
       " 2  NO_PARAM_SPECIFIED   428       15               0    utf-8  2023-01-09T14:06:57+00:00  2023-01-09T14:06:57+00:00  2023-01-09T14:06:57+00:00        UTF8  1.988892e+09  1.988892e+09  1.988892e+09       0         0     0          0                                   0  Peter.Styliadis@sas.com                                                NaN\n",
       "\n",
       "+ Elapsed: 0.00971s, user: 0.0061s, sys: 0.0127s, mem: 1.82mb"
      ]
     },
     "execution_count": 11,
     "metadata": {},
     "output_type": "execute_result"
    }
   ],
   "source": [
    "conn.tableInfo()"
   ]
  },
  {
   "cell_type": "markdown",
   "id": "98444985-31e6-42b6-86ff-2cdc4d995323",
   "metadata": {},
   "source": [
    "## Test: Specify a single column as a string in the subset parameter\n",
    "The string should be converted to a list and used to determine duplicates."
   ]
  },
  {
   "cell_type": "code",
   "execution_count": 12,
   "id": "64b7e265-021f-43a3-961c-7512cbdc4ce5",
   "metadata": {},
   "outputs": [
    {
     "name": "stdout",
     "output_type": "stream",
     "text": [
      "NOTE: There were 856 rows read from the table CARS_DUPLICATE.\n",
      "NOTE: The table single_column has 38 rows and 15 columns.\n"
     ]
    },
    {
     "data": {
      "text/plain": [
       "CASTable('single_column', caslib='CASUSER(Peter.Styliadis@sas.com)')"
      ]
     },
     "execution_count": 12,
     "metadata": {},
     "output_type": "execute_result"
    }
   ],
   "source": [
    "carsdup.drop_duplicates(casout='single_column', subset='Make')"
   ]
  },
  {
   "cell_type": "markdown",
   "id": "abe3a859-266d-4fb6-9a43-842467af1e9a",
   "metadata": {},
   "source": [
    "Try to ovewrite the previous."
   ]
  },
  {
   "cell_type": "code",
   "execution_count": 13,
   "id": "af9f3641-e400-4bcf-af39-0859f291a840",
   "metadata": {},
   "outputs": [
    {
     "name": "stdout",
     "output_type": "stream",
     "text": [
      "NOTE: There were 856 rows read from the table CARS_DUPLICATE.\n",
      "NOTE: The table single_column has 38 rows and 15 columns.\n"
     ]
    },
    {
     "data": {
      "text/plain": [
       "CASTable('single_column', caslib='CASUSER(Peter.Styliadis@sas.com)')"
      ]
     },
     "execution_count": 13,
     "metadata": {},
     "output_type": "execute_result"
    }
   ],
   "source": [
    "carsdup.drop_duplicates(casout='single_column', subset='Make', inplace = True)"
   ]
  },
  {
   "cell_type": "markdown",
   "id": "4107eb72-c5db-43a7-beb9-dbf197cbf44e",
   "metadata": {},
   "source": [
    "If the string is not a column in the CAS table, return an error."
   ]
  },
  {
   "cell_type": "code",
   "execution_count": 14,
   "id": "dcf2918e-2229-456e-8686-86767dac8b19",
   "metadata": {},
   "outputs": [
    {
     "name": "stdout",
     "output_type": "stream",
     "text": [
      "ERROR: The column 'Makeadfd' does not exist in the table 'CARSDUP'.\n",
      "ERROR: Failure opening table 'CARSDUP': A required column does not exist in the table.\n",
      "ERROR: The action stopped due to errors.\n"
     ]
    }
   ],
   "source": [
    "carsdup.drop_duplicates(casout='test_bad_col_str', subset='Makeadfd')"
   ]
  },
  {
   "cell_type": "markdown",
   "id": "f907b05f-b3f5-4ce7-afec-21c6f201a057",
   "metadata": {},
   "source": [
    "## Test: Specify a list of columns in the subset parameter.\n",
    "List should get unique of each combination. Just add the CAS table name."
   ]
  },
  {
   "cell_type": "code",
   "execution_count": 17,
   "id": "a3451c55-01fb-4f82-9519-bea7ba59c069",
   "metadata": {},
   "outputs": [
    {
     "name": "stdout",
     "output_type": "stream",
     "text": [
      "ERROR: The table make_model_list already exists in the session.\n",
      "ERROR: The action stopped due to errors.\n"
     ]
    }
   ],
   "source": [
    "carsdup.drop_duplicates(casout='make_model_list', subset=['Make','Model'])"
   ]
  },
  {
   "cell_type": "markdown",
   "id": "d30bc490-dd95-4d89-87fe-9826b9377b99",
   "metadata": {},
   "source": [
    "Overwrite the existing table."
   ]
  },
  {
   "cell_type": "code",
   "execution_count": 18,
   "id": "da73b859-8e30-4213-a3fc-fd7485f188f4",
   "metadata": {},
   "outputs": [
    {
     "name": "stdout",
     "output_type": "stream",
     "text": [
      "NOTE: There were 856 rows read from the table CARSDUP.\n",
      "NOTE: The table make_model_list has 425 rows and 15 columns.\n"
     ]
    }
   ],
   "source": [
    "carsdup.drop_duplicates(casout='make_model_list', subset=['Make','model'], inplace = True)"
   ]
  },
  {
   "cell_type": "markdown",
   "id": "784a2022-f3f1-4659-8dc6-e924e68e877c",
   "metadata": {},
   "source": [
    "Try using a dictionary in subset."
   ]
  },
  {
   "cell_type": "code",
   "execution_count": 19,
   "id": "6ed2ceeb-afbd-425b-a1b6-84554e00f772",
   "metadata": {},
   "outputs": [
    {
     "name": "stdout",
     "output_type": "stream",
     "text": [
      "NOTE: There were 856 rows read from the table CARSDUP.\n",
      "NOTE: The table make_model_list has 425 rows and 15 columns.\n"
     ]
    }
   ],
   "source": [
    "carsdup.drop_duplicates(casout={'name':'make_model_list', 'caslib':'casuser'}, subset=['Make','model'], inplace = True)"
   ]
  },
  {
   "cell_type": "code",
   "execution_count": null,
   "id": "7b228049-f37f-4048-88ca-86fa6c198751",
   "metadata": {},
   "outputs": [],
   "source": []
  },
  {
   "cell_type": "markdown",
   "id": "715f3f5c-bb57-4da5-94ea-c7da85822b8f",
   "metadata": {},
   "source": [
    "## Specify duplicate columns in the subset parameter"
   ]
  },
  {
   "cell_type": "code",
   "execution_count": 19,
   "id": "a13511b9-7281-476d-b6ac-eefb055c4c9d",
   "metadata": {},
   "outputs": [
    {
     "name": "stdout",
     "output_type": "stream",
     "text": [
      "NOTE: There were 856 rows read from the table CARSDUP.\n",
      "NOTE: The table test_dup_columns has 426 rows and 15 columns.\n"
     ]
    }
   ],
   "source": [
    "carsdup.drop_duplicates(casout='test_dup_columns', subset = ['Make','Model','Make','Weight'])"
   ]
  },
  {
   "cell_type": "code",
   "execution_count": 21,
   "id": "92e69b37-fc57-4c33-b0ac-5b16d7f10bb4",
   "metadata": {},
   "outputs": [
    {
     "data": {
      "text/html": [
       "<div>\n",
       "<style scoped>\n",
       "    .dataframe tbody tr th:only-of-type {\n",
       "        vertical-align: middle;\n",
       "    }\n",
       "\n",
       "    .dataframe tbody tr th {\n",
       "        vertical-align: top;\n",
       "    }\n",
       "\n",
       "    .dataframe thead th {\n",
       "        text-align: right;\n",
       "    }\n",
       "</style>\n",
       "<table border=\"1\" class=\"dataframe\"><caption>Selected Rows from Table CARS</caption>\n",
       "  <thead>\n",
       "    <tr style=\"text-align: right;\">\n",
       "      <th title=\"\"></th>\n",
       "      <th title=\"Make\">Make</th>\n",
       "      <th title=\"Model\">Model</th>\n",
       "      <th title=\"Type\">Type</th>\n",
       "      <th title=\"Origin\">Origin</th>\n",
       "      <th title=\"DriveTrain\">DriveTrain</th>\n",
       "      <th title=\"MSRP\">MSRP</th>\n",
       "      <th title=\"Invoice\">Invoice</th>\n",
       "      <th title=\"EngineSize\">EngineSize</th>\n",
       "      <th title=\"Cylinders\">Cylinders</th>\n",
       "      <th title=\"Horsepower\">Horsepower</th>\n",
       "      <th title=\"MPG_City\">MPG_City</th>\n",
       "      <th title=\"MPG_Highway\">MPG_Highway</th>\n",
       "      <th title=\"Weight\">Weight</th>\n",
       "      <th title=\"Wheelbase\">Wheelbase</th>\n",
       "      <th title=\"Length\">Length</th>\n",
       "    </tr>\n",
       "  </thead>\n",
       "  <tbody>\n",
       "    <tr>\n",
       "      <td>0</td>\n",
       "      <td>Acura</td>\n",
       "      <td>MDX</td>\n",
       "      <td>SUV</td>\n",
       "      <td>Asia</td>\n",
       "      <td>All</td>\n",
       "      <td>36945.0</td>\n",
       "      <td>33337.0</td>\n",
       "      <td>3.5</td>\n",
       "      <td>6.0</td>\n",
       "      <td>265.0</td>\n",
       "      <td>17.0</td>\n",
       "      <td>23.0</td>\n",
       "      <td>4451.0</td>\n",
       "      <td>106.0</td>\n",
       "      <td>189.0</td>\n",
       "    </tr>\n",
       "    <tr>\n",
       "      <td>1</td>\n",
       "      <td>Acura</td>\n",
       "      <td>RSX Type S 2dr</td>\n",
       "      <td>Sedan</td>\n",
       "      <td>Asia</td>\n",
       "      <td>Front</td>\n",
       "      <td>23820.0</td>\n",
       "      <td>21761.0</td>\n",
       "      <td>2.0</td>\n",
       "      <td>4.0</td>\n",
       "      <td>200.0</td>\n",
       "      <td>24.0</td>\n",
       "      <td>31.0</td>\n",
       "      <td>2778.0</td>\n",
       "      <td>101.0</td>\n",
       "      <td>172.0</td>\n",
       "    </tr>\n",
       "    <tr>\n",
       "      <td>2</td>\n",
       "      <td>Acura</td>\n",
       "      <td>TSX 4dr</td>\n",
       "      <td>Sedan</td>\n",
       "      <td>Asia</td>\n",
       "      <td>Front</td>\n",
       "      <td>26990.0</td>\n",
       "      <td>24647.0</td>\n",
       "      <td>2.4</td>\n",
       "      <td>4.0</td>\n",
       "      <td>200.0</td>\n",
       "      <td>22.0</td>\n",
       "      <td>29.0</td>\n",
       "      <td>3230.0</td>\n",
       "      <td>105.0</td>\n",
       "      <td>183.0</td>\n",
       "    </tr>\n",
       "    <tr>\n",
       "      <td>3</td>\n",
       "      <td>Acura</td>\n",
       "      <td>TL 4dr</td>\n",
       "      <td>Sedan</td>\n",
       "      <td>Asia</td>\n",
       "      <td>Front</td>\n",
       "      <td>33195.0</td>\n",
       "      <td>30299.0</td>\n",
       "      <td>3.2</td>\n",
       "      <td>6.0</td>\n",
       "      <td>270.0</td>\n",
       "      <td>20.0</td>\n",
       "      <td>28.0</td>\n",
       "      <td>3575.0</td>\n",
       "      <td>108.0</td>\n",
       "      <td>186.0</td>\n",
       "    </tr>\n",
       "    <tr>\n",
       "      <td>4</td>\n",
       "      <td>Acura</td>\n",
       "      <td>3.5 RL 4dr</td>\n",
       "      <td>Sedan</td>\n",
       "      <td>Asia</td>\n",
       "      <td>Front</td>\n",
       "      <td>43755.0</td>\n",
       "      <td>39014.0</td>\n",
       "      <td>3.5</td>\n",
       "      <td>6.0</td>\n",
       "      <td>225.0</td>\n",
       "      <td>18.0</td>\n",
       "      <td>24.0</td>\n",
       "      <td>3880.0</td>\n",
       "      <td>115.0</td>\n",
       "      <td>197.0</td>\n",
       "    </tr>\n",
       "  </tbody>\n",
       "</table>\n",
       "</div>"
      ],
      "text/plain": [
       "Selected Rows from Table CARS\n",
       "\n",
       "    Make           Model   Type Origin DriveTrain     MSRP  Invoice  EngineSize  Cylinders  Horsepower  MPG_City  MPG_Highway  Weight  Wheelbase  Length\n",
       "0  Acura             MDX    SUV   Asia        All  36945.0  33337.0         3.5        6.0       265.0      17.0         23.0  4451.0      106.0   189.0\n",
       "1  Acura  RSX Type S 2dr  Sedan   Asia      Front  23820.0  21761.0         2.0        4.0       200.0      24.0         31.0  2778.0      101.0   172.0\n",
       "2  Acura         TSX 4dr  Sedan   Asia      Front  26990.0  24647.0         2.4        4.0       200.0      22.0         29.0  3230.0      105.0   183.0\n",
       "3  Acura          TL 4dr  Sedan   Asia      Front  33195.0  30299.0         3.2        6.0       270.0      20.0         28.0  3575.0      108.0   186.0\n",
       "4  Acura      3.5 RL 4dr  Sedan   Asia      Front  43755.0  39014.0         3.5        6.0       225.0      18.0         24.0  3880.0      115.0   197.0"
      ]
     },
     "execution_count": 21,
     "metadata": {},
     "output_type": "execute_result"
    }
   ],
   "source": [
    "tbl1 = conn.CASTable('test_dup_columns')\n",
    "tbl.head()"
   ]
  },
  {
   "cell_type": "code",
   "execution_count": 24,
   "id": "0863c359-d863-4773-a24e-bee8c9f0ab86",
   "metadata": {},
   "outputs": [
    {
     "name": "stdout",
     "output_type": "stream",
     "text": [
      "NOTE: There were 856 rows read from the table CARSDUP.\n",
      "NOTE: The table test_dup_columns3 has 426 rows and 15 columns.\n"
     ]
    }
   ],
   "source": [
    "carsdup.drop_duplicates(casout='test_dup_columns3', subset = ['Make','Model','Weight','Make','Make'])"
   ]
  },
  {
   "cell_type": "code",
   "execution_count": 25,
   "id": "2305e49d-5f73-4bc4-a94d-1c674a75cb1a",
   "metadata": {},
   "outputs": [
    {
     "data": {
      "text/html": [
       "<div>\n",
       "<style scoped>\n",
       "    .dataframe tbody tr th:only-of-type {\n",
       "        vertical-align: middle;\n",
       "    }\n",
       "\n",
       "    .dataframe tbody tr th {\n",
       "        vertical-align: top;\n",
       "    }\n",
       "\n",
       "    .dataframe thead th {\n",
       "        text-align: right;\n",
       "    }\n",
       "</style>\n",
       "<table border=\"1\" class=\"dataframe\"><caption>Selected Rows from Table CARS</caption>\n",
       "  <thead>\n",
       "    <tr style=\"text-align: right;\">\n",
       "      <th title=\"\"></th>\n",
       "      <th title=\"Make\">Make</th>\n",
       "      <th title=\"Model\">Model</th>\n",
       "      <th title=\"Type\">Type</th>\n",
       "      <th title=\"Origin\">Origin</th>\n",
       "      <th title=\"DriveTrain\">DriveTrain</th>\n",
       "      <th title=\"MSRP\">MSRP</th>\n",
       "      <th title=\"Invoice\">Invoice</th>\n",
       "      <th title=\"EngineSize\">EngineSize</th>\n",
       "      <th title=\"Cylinders\">Cylinders</th>\n",
       "      <th title=\"Horsepower\">Horsepower</th>\n",
       "      <th title=\"MPG_City\">MPG_City</th>\n",
       "      <th title=\"MPG_Highway\">MPG_Highway</th>\n",
       "      <th title=\"Weight\">Weight</th>\n",
       "      <th title=\"Wheelbase\">Wheelbase</th>\n",
       "      <th title=\"Length\">Length</th>\n",
       "    </tr>\n",
       "  </thead>\n",
       "  <tbody>\n",
       "    <tr>\n",
       "      <td>0</td>\n",
       "      <td>Acura</td>\n",
       "      <td>MDX</td>\n",
       "      <td>SUV</td>\n",
       "      <td>Asia</td>\n",
       "      <td>All</td>\n",
       "      <td>36945.0</td>\n",
       "      <td>33337.0</td>\n",
       "      <td>3.5</td>\n",
       "      <td>6.0</td>\n",
       "      <td>265.0</td>\n",
       "      <td>17.0</td>\n",
       "      <td>23.0</td>\n",
       "      <td>4451.0</td>\n",
       "      <td>106.0</td>\n",
       "      <td>189.0</td>\n",
       "    </tr>\n",
       "    <tr>\n",
       "      <td>1</td>\n",
       "      <td>Acura</td>\n",
       "      <td>RSX Type S 2dr</td>\n",
       "      <td>Sedan</td>\n",
       "      <td>Asia</td>\n",
       "      <td>Front</td>\n",
       "      <td>23820.0</td>\n",
       "      <td>21761.0</td>\n",
       "      <td>2.0</td>\n",
       "      <td>4.0</td>\n",
       "      <td>200.0</td>\n",
       "      <td>24.0</td>\n",
       "      <td>31.0</td>\n",
       "      <td>2778.0</td>\n",
       "      <td>101.0</td>\n",
       "      <td>172.0</td>\n",
       "    </tr>\n",
       "    <tr>\n",
       "      <td>2</td>\n",
       "      <td>Acura</td>\n",
       "      <td>TSX 4dr</td>\n",
       "      <td>Sedan</td>\n",
       "      <td>Asia</td>\n",
       "      <td>Front</td>\n",
       "      <td>26990.0</td>\n",
       "      <td>24647.0</td>\n",
       "      <td>2.4</td>\n",
       "      <td>4.0</td>\n",
       "      <td>200.0</td>\n",
       "      <td>22.0</td>\n",
       "      <td>29.0</td>\n",
       "      <td>3230.0</td>\n",
       "      <td>105.0</td>\n",
       "      <td>183.0</td>\n",
       "    </tr>\n",
       "    <tr>\n",
       "      <td>3</td>\n",
       "      <td>Acura</td>\n",
       "      <td>TL 4dr</td>\n",
       "      <td>Sedan</td>\n",
       "      <td>Asia</td>\n",
       "      <td>Front</td>\n",
       "      <td>33195.0</td>\n",
       "      <td>30299.0</td>\n",
       "      <td>3.2</td>\n",
       "      <td>6.0</td>\n",
       "      <td>270.0</td>\n",
       "      <td>20.0</td>\n",
       "      <td>28.0</td>\n",
       "      <td>3575.0</td>\n",
       "      <td>108.0</td>\n",
       "      <td>186.0</td>\n",
       "    </tr>\n",
       "    <tr>\n",
       "      <td>4</td>\n",
       "      <td>Acura</td>\n",
       "      <td>3.5 RL 4dr</td>\n",
       "      <td>Sedan</td>\n",
       "      <td>Asia</td>\n",
       "      <td>Front</td>\n",
       "      <td>43755.0</td>\n",
       "      <td>39014.0</td>\n",
       "      <td>3.5</td>\n",
       "      <td>6.0</td>\n",
       "      <td>225.0</td>\n",
       "      <td>18.0</td>\n",
       "      <td>24.0</td>\n",
       "      <td>3880.0</td>\n",
       "      <td>115.0</td>\n",
       "      <td>197.0</td>\n",
       "    </tr>\n",
       "  </tbody>\n",
       "</table>\n",
       "</div>"
      ],
      "text/plain": [
       "Selected Rows from Table CARS\n",
       "\n",
       "    Make           Model   Type Origin DriveTrain     MSRP  Invoice  EngineSize  Cylinders  Horsepower  MPG_City  MPG_Highway  Weight  Wheelbase  Length\n",
       "0  Acura             MDX    SUV   Asia        All  36945.0  33337.0         3.5        6.0       265.0      17.0         23.0  4451.0      106.0   189.0\n",
       "1  Acura  RSX Type S 2dr  Sedan   Asia      Front  23820.0  21761.0         2.0        4.0       200.0      24.0         31.0  2778.0      101.0   172.0\n",
       "2  Acura         TSX 4dr  Sedan   Asia      Front  26990.0  24647.0         2.4        4.0       200.0      22.0         29.0  3230.0      105.0   183.0\n",
       "3  Acura          TL 4dr  Sedan   Asia      Front  33195.0  30299.0         3.2        6.0       270.0      20.0         28.0  3575.0      108.0   186.0\n",
       "4  Acura      3.5 RL 4dr  Sedan   Asia      Front  43755.0  39014.0         3.5        6.0       225.0      18.0         24.0  3880.0      115.0   197.0"
      ]
     },
     "execution_count": 25,
     "metadata": {},
     "output_type": "execute_result"
    }
   ],
   "source": [
    "tbl1 = conn.CASTable('test_dup_columns2')\n",
    "tbl.head()"
   ]
  },
  {
   "cell_type": "code",
   "execution_count": null,
   "id": "7bbc25e5-18d0-48fe-ab70-3ca429bb9324",
   "metadata": {},
   "outputs": [],
   "source": [
    "deduplicate"
   ]
  },
  {
   "cell_type": "code",
   "execution_count": null,
   "id": "39528a28-97ce-4fde-880d-a763bc1a5535",
   "metadata": {},
   "outputs": [],
   "source": [
    "conn.read_csv()"
   ]
  },
  {
   "cell_type": "code",
   "execution_count": 26,
   "id": "b035629b-6954-468c-89ca-aac81ea8465d",
   "metadata": {},
   "outputs": [
    {
     "data": {
      "text/html": [
       "<div class=\"cas-results-key\"><b>&#167; TableInfo</b></div>\n",
       "<div class=\"cas-results-body\">\n",
       "<div>\n",
       "<style scoped>\n",
       "    .dataframe tbody tr th:only-of-type {\n",
       "        vertical-align: middle;\n",
       "    }\n",
       "\n",
       "    .dataframe tbody tr th {\n",
       "        vertical-align: top;\n",
       "    }\n",
       "\n",
       "    .dataframe thead th {\n",
       "        text-align: right;\n",
       "    }\n",
       "</style>\n",
       "<table border=\"1\" class=\"dataframe\">\n",
       "  <thead>\n",
       "    <tr style=\"text-align: right;\">\n",
       "      <th title=\"\"></th>\n",
       "      <th title=\"Name\">Name</th>\n",
       "      <th title=\"Rows\">Rows</th>\n",
       "      <th title=\"Columns\">Columns</th>\n",
       "      <th title=\"Indexed Columns\">IndexedColumns</th>\n",
       "      <th title=\"Encoding\">Encoding</th>\n",
       "      <th title=\"Created\">CreateTimeFormatted</th>\n",
       "      <th title=\"Last Modified\">ModTimeFormatted</th>\n",
       "      <th title=\"Last Accessed\">AccessTimeFormatted</th>\n",
       "      <th title=\"Character Set\">JavaCharSet</th>\n",
       "      <th title=\"CreateTime\">CreateTime</th>\n",
       "      <th title=\"Repeated\">Repeated</th>\n",
       "      <th title=\"View\">View</th>\n",
       "      <th title=\"MultiPart\">MultiPart</th>\n",
       "      <th title=\"Loaded Source\">SourceName</th>\n",
       "      <th title=\"Source Caslib\">SourceCaslib</th>\n",
       "      <th title=\"Compressed\">Compressed</th>\n",
       "      <th title=\"Table Creator\">Creator</th>\n",
       "      <th title=\"Last Table Modifier\">Modifier</th>\n",
       "      <th title=\"Source Modified\">SourceModTimeFormatted</th>\n",
       "      <th title=\"SourceModTime\">SourceModTime</th>\n",
       "    </tr>\n",
       "  </thead>\n",
       "  <tbody>\n",
       "    <tr>\n",
       "      <td>0</td>\n",
       "      <td>CARS</td>\n",
       "      <td>428</td>\n",
       "      <td>15</td>\n",
       "      <td>0</td>\n",
       "      <td>utf-8</td>\n",
       "      <td>2023-01-09T13:36:24+00:00</td>\n",
       "      <td>2023-01-09T13:36:24+00:00</td>\n",
       "      <td>2023-01-09T13:38:35+00:00</td>\n",
       "      <td>UTF8</td>\n",
       "      <td>1.988891e+09</td>\n",
       "      <td>0</td>\n",
       "      <td>0</td>\n",
       "      <td>0</td>\n",
       "      <td></td>\n",
       "      <td></td>\n",
       "      <td>0</td>\n",
       "      <td>Peter.Styliadis@sas.com</td>\n",
       "      <td></td>\n",
       "      <td>2023-01-09T13:36:24+00:00</td>\n",
       "      <td>1.988891e+09</td>\n",
       "    </tr>\n",
       "    <tr>\n",
       "      <td>1</td>\n",
       "      <td>CARSDUP</td>\n",
       "      <td>856</td>\n",
       "      <td>15</td>\n",
       "      <td>0</td>\n",
       "      <td>utf-8</td>\n",
       "      <td>2023-01-09T13:36:27+00:00</td>\n",
       "      <td>2023-01-09T13:36:27+00:00</td>\n",
       "      <td>2023-01-09T13:38:34+00:00</td>\n",
       "      <td>UTF8</td>\n",
       "      <td>1.988891e+09</td>\n",
       "      <td>0</td>\n",
       "      <td>0</td>\n",
       "      <td>0</td>\n",
       "      <td></td>\n",
       "      <td></td>\n",
       "      <td>0</td>\n",
       "      <td>Peter.Styliadis@sas.com</td>\n",
       "      <td></td>\n",
       "      <td></td>\n",
       "      <td>NaN</td>\n",
       "    </tr>\n",
       "    <tr>\n",
       "      <td>2</td>\n",
       "      <td>TEST</td>\n",
       "      <td>428</td>\n",
       "      <td>15</td>\n",
       "      <td>0</td>\n",
       "      <td>utf-8</td>\n",
       "      <td>2023-01-09T13:36:31+00:00</td>\n",
       "      <td>2023-01-09T13:36:31+00:00</td>\n",
       "      <td>2023-01-09T13:36:31+00:00</td>\n",
       "      <td>UTF8</td>\n",
       "      <td>1.988891e+09</td>\n",
       "      <td>0</td>\n",
       "      <td>0</td>\n",
       "      <td>0</td>\n",
       "      <td></td>\n",
       "      <td></td>\n",
       "      <td>0</td>\n",
       "      <td>Peter.Styliadis@sas.com</td>\n",
       "      <td></td>\n",
       "      <td></td>\n",
       "      <td>NaN</td>\n",
       "    </tr>\n",
       "    <tr>\n",
       "      <td>3</td>\n",
       "      <td>TEST_MAKE</td>\n",
       "      <td>38</td>\n",
       "      <td>15</td>\n",
       "      <td>0</td>\n",
       "      <td>utf-8</td>\n",
       "      <td>2023-01-09T13:36:32+00:00</td>\n",
       "      <td>2023-01-09T13:36:32+00:00</td>\n",
       "      <td>2023-01-09T13:36:32+00:00</td>\n",
       "      <td>UTF8</td>\n",
       "      <td>1.988891e+09</td>\n",
       "      <td>0</td>\n",
       "      <td>0</td>\n",
       "      <td>0</td>\n",
       "      <td></td>\n",
       "      <td></td>\n",
       "      <td>0</td>\n",
       "      <td>Peter.Styliadis@sas.com</td>\n",
       "      <td></td>\n",
       "      <td></td>\n",
       "      <td>NaN</td>\n",
       "    </tr>\n",
       "    <tr>\n",
       "      <td>4</td>\n",
       "      <td>MAKE_MODEL_TEST</td>\n",
       "      <td>425</td>\n",
       "      <td>15</td>\n",
       "      <td>0</td>\n",
       "      <td>utf-8</td>\n",
       "      <td>2023-01-09T13:36:40+00:00</td>\n",
       "      <td>2023-01-09T13:36:40+00:00</td>\n",
       "      <td>2023-01-09T13:36:40+00:00</td>\n",
       "      <td>UTF8</td>\n",
       "      <td>1.988891e+09</td>\n",
       "      <td>0</td>\n",
       "      <td>0</td>\n",
       "      <td>0</td>\n",
       "      <td></td>\n",
       "      <td></td>\n",
       "      <td>0</td>\n",
       "      <td>Peter.Styliadis@sas.com</td>\n",
       "      <td></td>\n",
       "      <td></td>\n",
       "      <td>NaN</td>\n",
       "    </tr>\n",
       "    <tr>\n",
       "      <td>5</td>\n",
       "      <td>MAKE_MODEL_BAD_COL</td>\n",
       "      <td>425</td>\n",
       "      <td>15</td>\n",
       "      <td>0</td>\n",
       "      <td>utf-8</td>\n",
       "      <td>2023-01-09T13:36:40+00:00</td>\n",
       "      <td>2023-01-09T13:36:40+00:00</td>\n",
       "      <td>2023-01-09T13:36:40+00:00</td>\n",
       "      <td>UTF8</td>\n",
       "      <td>1.988891e+09</td>\n",
       "      <td>0</td>\n",
       "      <td>0</td>\n",
       "      <td>0</td>\n",
       "      <td></td>\n",
       "      <td></td>\n",
       "      <td>0</td>\n",
       "      <td>Peter.Styliadis@sas.com</td>\n",
       "      <td></td>\n",
       "      <td></td>\n",
       "      <td>NaN</td>\n",
       "    </tr>\n",
       "    <tr>\n",
       "      <td>6</td>\n",
       "      <td>TEST_DUP_COLUMNS</td>\n",
       "      <td>426</td>\n",
       "      <td>15</td>\n",
       "      <td>0</td>\n",
       "      <td>utf-8</td>\n",
       "      <td>2023-01-09T13:37:13+00:00</td>\n",
       "      <td>2023-01-09T13:37:13+00:00</td>\n",
       "      <td>2023-01-09T13:37:13+00:00</td>\n",
       "      <td>UTF8</td>\n",
       "      <td>1.988891e+09</td>\n",
       "      <td>0</td>\n",
       "      <td>0</td>\n",
       "      <td>0</td>\n",
       "      <td></td>\n",
       "      <td></td>\n",
       "      <td>0</td>\n",
       "      <td>Peter.Styliadis@sas.com</td>\n",
       "      <td></td>\n",
       "      <td></td>\n",
       "      <td>NaN</td>\n",
       "    </tr>\n",
       "    <tr>\n",
       "      <td>7</td>\n",
       "      <td>TEST_DUP_COLUMNS2</td>\n",
       "      <td>426</td>\n",
       "      <td>15</td>\n",
       "      <td>0</td>\n",
       "      <td>utf-8</td>\n",
       "      <td>2023-01-09T13:37:35+00:00</td>\n",
       "      <td>2023-01-09T13:37:35+00:00</td>\n",
       "      <td>2023-01-09T13:37:35+00:00</td>\n",
       "      <td>UTF8</td>\n",
       "      <td>1.988891e+09</td>\n",
       "      <td>0</td>\n",
       "      <td>0</td>\n",
       "      <td>0</td>\n",
       "      <td></td>\n",
       "      <td></td>\n",
       "      <td>0</td>\n",
       "      <td>Peter.Styliadis@sas.com</td>\n",
       "      <td></td>\n",
       "      <td></td>\n",
       "      <td>NaN</td>\n",
       "    </tr>\n",
       "    <tr>\n",
       "      <td>8</td>\n",
       "      <td>TEST_DUP_COLUMNS3</td>\n",
       "      <td>426</td>\n",
       "      <td>15</td>\n",
       "      <td>0</td>\n",
       "      <td>utf-8</td>\n",
       "      <td>2023-01-09T13:38:34+00:00</td>\n",
       "      <td>2023-01-09T13:38:34+00:00</td>\n",
       "      <td>2023-01-09T13:38:34+00:00</td>\n",
       "      <td>UTF8</td>\n",
       "      <td>1.988891e+09</td>\n",
       "      <td>0</td>\n",
       "      <td>0</td>\n",
       "      <td>0</td>\n",
       "      <td></td>\n",
       "      <td></td>\n",
       "      <td>0</td>\n",
       "      <td>Peter.Styliadis@sas.com</td>\n",
       "      <td></td>\n",
       "      <td></td>\n",
       "      <td>NaN</td>\n",
       "    </tr>\n",
       "  </tbody>\n",
       "</table>\n",
       "</div>\n",
       "</div>\n",
       "<div class=\"cas-output-area\"></div>\n",
       "<p class=\"cas-results-performance\"><small><span class=\"cas-elapsed\">elapsed 0.0109s</span> &#183; <span class=\"cas-user\">user 0.00453s</span> &#183; <span class=\"cas-sys\">sys 0.0195s</span> &#183; <span class=\"cas-memory\">mem 1.85MB</span></small></p>"
      ],
      "text/plain": [
       "[TableInfo]\n",
       "\n",
       "                  Name  Rows  Columns  IndexedColumns Encoding        CreateTimeFormatted           ModTimeFormatted        AccessTimeFormatted JavaCharSet    CreateTime       ModTime    AccessTime  Global  Repeated  View  MultiPart SourceName SourceCaslib  Compressed                  Creator Modifier     SourceModTimeFormatted  SourceModTime\n",
       " 0                CARS   428       15               0    utf-8  2023-01-09T13:36:24+00:00  2023-01-09T13:36:24+00:00  2023-01-09T13:38:35+00:00        UTF8  1.988891e+09  1.988891e+09  1.988891e+09       0         0     0          0                                   0  Peter.Styliadis@sas.com           2023-01-09T13:36:24+00:00   1.988891e+09\n",
       " 1             CARSDUP   856       15               0    utf-8  2023-01-09T13:36:27+00:00  2023-01-09T13:36:27+00:00  2023-01-09T13:38:34+00:00        UTF8  1.988891e+09  1.988891e+09  1.988891e+09       0         0     0          0                                   0  Peter.Styliadis@sas.com                                                NaN\n",
       " 2                TEST   428       15               0    utf-8  2023-01-09T13:36:31+00:00  2023-01-09T13:36:31+00:00  2023-01-09T13:36:31+00:00        UTF8  1.988891e+09  1.988891e+09  1.988891e+09       0         0     0          0                                   0  Peter.Styliadis@sas.com                                                NaN\n",
       " 3           TEST_MAKE    38       15               0    utf-8  2023-01-09T13:36:32+00:00  2023-01-09T13:36:32+00:00  2023-01-09T13:36:32+00:00        UTF8  1.988891e+09  1.988891e+09  1.988891e+09       0         0     0          0                                   0  Peter.Styliadis@sas.com                                                NaN\n",
       " 4     MAKE_MODEL_TEST   425       15               0    utf-8  2023-01-09T13:36:40+00:00  2023-01-09T13:36:40+00:00  2023-01-09T13:36:40+00:00        UTF8  1.988891e+09  1.988891e+09  1.988891e+09       0         0     0          0                                   0  Peter.Styliadis@sas.com                                                NaN\n",
       " 5  MAKE_MODEL_BAD_COL   425       15               0    utf-8  2023-01-09T13:36:40+00:00  2023-01-09T13:36:40+00:00  2023-01-09T13:36:40+00:00        UTF8  1.988891e+09  1.988891e+09  1.988891e+09       0         0     0          0                                   0  Peter.Styliadis@sas.com                                                NaN\n",
       " 6    TEST_DUP_COLUMNS   426       15               0    utf-8  2023-01-09T13:37:13+00:00  2023-01-09T13:37:13+00:00  2023-01-09T13:37:13+00:00        UTF8  1.988891e+09  1.988891e+09  1.988891e+09       0         0     0          0                                   0  Peter.Styliadis@sas.com                                                NaN\n",
       " 7   TEST_DUP_COLUMNS2   426       15               0    utf-8  2023-01-09T13:37:35+00:00  2023-01-09T13:37:35+00:00  2023-01-09T13:37:35+00:00        UTF8  1.988891e+09  1.988891e+09  1.988891e+09       0         0     0          0                                   0  Peter.Styliadis@sas.com                                                NaN\n",
       " 8   TEST_DUP_COLUMNS3   426       15               0    utf-8  2023-01-09T13:38:34+00:00  2023-01-09T13:38:34+00:00  2023-01-09T13:38:34+00:00        UTF8  1.988891e+09  1.988891e+09  1.988891e+09       0         0     0          0                                   0  Peter.Styliadis@sas.com                                                NaN\n",
       "\n",
       "+ Elapsed: 0.0109s, user: 0.00453s, sys: 0.0195s, mem: 1.85mb"
      ]
     },
     "execution_count": 26,
     "metadata": {},
     "output_type": "execute_result"
    }
   ],
   "source": [
    "conn.tableInfo()"
   ]
  },
  {
   "cell_type": "markdown",
   "id": "22e61df2-50c0-44fb-887a-2b3090caf79c",
   "metadata": {},
   "source": [
    "## Specify a data type other than a list or string"
   ]
  },
  {
   "cell_type": "code",
   "execution_count": 14,
   "id": "a2f6f4c1-29af-4932-b058-6fb0a23a4722",
   "metadata": {},
   "outputs": [
    {
     "ename": "NotImplementedError",
     "evalue": "Specify a single column or list of columns.",
     "output_type": "error",
     "traceback": [
      "\u001b[1;31m---------------------------------------------------------------------------\u001b[0m",
      "\u001b[1;31mNotImplementedError\u001b[0m                       Traceback (most recent call last)",
      "\u001b[1;32m<ipython-input-14-22048b1c9d31>\u001b[0m in \u001b[0;36m<module>\u001b[1;34m\u001b[0m\n\u001b[1;32m----> 1\u001b[1;33m \u001b[0mcarsdup\u001b[0m\u001b[1;33m.\u001b[0m\u001b[0mdrop_duplicates\u001b[0m\u001b[1;33m(\u001b[0m\u001b[0mcasout\u001b[0m\u001b[1;33m=\u001b[0m\u001b[1;34m'test'\u001b[0m\u001b[1;33m,\u001b[0m \u001b[0msubset\u001b[0m\u001b[1;33m=\u001b[0m\u001b[1;36m3\u001b[0m\u001b[1;33m)\u001b[0m\u001b[1;33m\u001b[0m\u001b[1;33m\u001b[0m\u001b[0m\n\u001b[0m",
      "\u001b[1;32m~\\Anaconda3\\lib\\site-packages\\swat\\cas\\table.py\u001b[0m in \u001b[0;36mdrop_duplicates\u001b[1;34m(self, casout, subset, inplace)\u001b[0m\n\u001b[0;32m   5884\u001b[0m         \u001b[1;31m# Return an error if a data type other than a string or list is specified\u001b[0m\u001b[1;33m\u001b[0m\u001b[1;33m\u001b[0m\u001b[1;33m\u001b[0m\u001b[0m\n\u001b[0;32m   5885\u001b[0m         \u001b[1;32melse\u001b[0m\u001b[1;33m:\u001b[0m\u001b[1;33m\u001b[0m\u001b[1;33m\u001b[0m\u001b[0m\n\u001b[1;32m-> 5886\u001b[1;33m             \u001b[1;32mraise\u001b[0m \u001b[0mNotImplementedError\u001b[0m\u001b[1;33m(\u001b[0m\u001b[1;34m'Specify a single column or list of columns.'\u001b[0m\u001b[1;33m)\u001b[0m\u001b[1;33m\u001b[0m\u001b[1;33m\u001b[0m\u001b[0m\n\u001b[0m\u001b[0;32m   5887\u001b[0m \u001b[1;33m\u001b[0m\u001b[0m\n\u001b[0;32m   5888\u001b[0m         \u001b[1;31m#\u001b[0m\u001b[1;33m\u001b[0m\u001b[1;33m\u001b[0m\u001b[1;33m\u001b[0m\u001b[0m\n",
      "\u001b[1;31mNotImplementedError\u001b[0m: Specify a single column or list of columns."
     ]
    }
   ],
   "source": [
    "carsdup.drop_duplicates(casout='test', subset=3)"
   ]
  },
  {
   "cell_type": "code",
   "execution_count": null,
   "id": "12fe0045-7f5d-4a1c-a10e-ada4b2d4762c",
   "metadata": {},
   "outputs": [],
   "source": []
  },
  {
   "cell_type": "code",
   "execution_count": null,
   "id": "5cae926e-62d4-46eb-b62e-2caed077bfe5",
   "metadata": {},
   "outputs": [],
   "source": []
  },
  {
   "cell_type": "code",
   "execution_count": null,
   "id": "2152fc83-ebbe-4679-a367-1e03cd699097",
   "metadata": {},
   "outputs": [],
   "source": []
  },
  {
   "cell_type": "code",
   "execution_count": null,
   "id": "830f093c-a369-4c1a-91d3-d8b0d1654f03",
   "metadata": {},
   "outputs": [],
   "source": []
  },
  {
   "cell_type": "code",
   "execution_count": null,
   "id": "033d549c-b231-440b-8d09-45d41a8efa5e",
   "metadata": {},
   "outputs": [],
   "source": []
  },
  {
   "cell_type": "code",
   "execution_count": null,
   "id": "7a1302d8-a458-4423-9463-5ec6fe92243d",
   "metadata": {},
   "outputs": [],
   "source": []
  },
  {
   "cell_type": "code",
   "execution_count": null,
   "id": "90abd1fb-73f3-4f41-9450-f67a86a4c57e",
   "metadata": {},
   "outputs": [],
   "source": []
  },
  {
   "cell_type": "code",
   "execution_count": null,
   "id": "7c2cc68f-0315-43a9-9b35-ea2916fa06ba",
   "metadata": {},
   "outputs": [],
   "source": []
  },
  {
   "cell_type": "code",
   "execution_count": 32,
   "id": "fadc509b-f95c-456e-9296-cda73dcb0726",
   "metadata": {},
   "outputs": [],
   "source": [
    "specifiedColumns=[\"Col1\", \"Col2\",\"Col2\"]\n",
    "tableColumns=[\"Col1\", \"Col2\", \"Col3\", \"Col4\"]"
   ]
  },
  {
   "cell_type": "code",
   "execution_count": 18,
   "id": "ed93c56f-9243-4851-9005-2e44040c1b27",
   "metadata": {},
   "outputs": [
    {
     "data": {
      "text/plain": [
       "{'Col1', 'Col2', 'Colx'}"
      ]
     },
     "execution_count": 18,
     "metadata": {},
     "output_type": "execute_result"
    }
   ],
   "source": [
    "notintable = set(specifiedColumns).difference(set(carsdup.columns))\n",
    "notintable"
   ]
  },
  {
   "cell_type": "code",
   "execution_count": 12,
   "id": "06eb06f3-cbbe-413b-8ead-8d45f2ef9dc3",
   "metadata": {},
   "outputs": [
    {
     "name": "stdout",
     "output_type": "stream",
     "text": [
      "false\n"
     ]
    }
   ],
   "source": [
    "if (len(set(specifiedColumns)) == len(specifiedColumns)) == False:\n",
    "    print('false')"
   ]
  },
  {
   "cell_type": "code",
   "execution_count": 46,
   "id": "83b6d593-6546-4cfc-a6e0-a8483cb54c1d",
   "metadata": {},
   "outputs": [],
   "source": [
    "columns = ['Make', 'Make', 'Model','Make' ]\n",
    "column_list = []\n",
    "duplicate_columns = set()\n",
    "for column in columns:\n",
    "    if column in column_list:\n",
    "        duplicate_columns.add(column)\n",
    "    else:\n",
    "        column_list.append(column)"
   ]
  },
  {
   "cell_type": "code",
   "execution_count": 47,
   "id": "7af659c6-245e-4aac-8ae4-1034cff07910",
   "metadata": {},
   "outputs": [
    {
     "data": {
      "text/plain": [
       "{'Make'}"
      ]
     },
     "execution_count": 47,
     "metadata": {},
     "output_type": "execute_result"
    }
   ],
   "source": [
    "duplicate_columns"
   ]
  },
  {
   "cell_type": "code",
   "execution_count": 48,
   "id": "4938ab23-b52c-4806-a104-cfdbf1f100c5",
   "metadata": {},
   "outputs": [
    {
     "data": {
      "text/plain": [
       "['Make', 'Model']"
      ]
     },
     "execution_count": 48,
     "metadata": {},
     "output_type": "execute_result"
    }
   ],
   "source": [
    "column_list"
   ]
  },
  {
   "cell_type": "code",
   "execution_count": 36,
   "id": "d42764c2-1eea-4005-8f15-951acb545565",
   "metadata": {},
   "outputs": [
    {
     "data": {
      "text/plain": [
       "['Make']"
      ]
     },
     "execution_count": 36,
     "metadata": {},
     "output_type": "execute_result"
    }
   ],
   "source": [
    "duplicate_columns"
   ]
  },
  {
   "cell_type": "code",
   "execution_count": 53,
   "id": "24666e43-66b7-4e01-9507-b9b5a5e026e5",
   "metadata": {},
   "outputs": [
    {
     "data": {
      "text/plain": [
       "False"
      ]
     },
     "execution_count": 53,
     "metadata": {},
     "output_type": "execute_result"
    }
   ],
   "source": [
    "columns in ['a']"
   ]
  },
  {
   "cell_type": "code",
   "execution_count": 16,
   "id": "5efb0cb4-854c-45c9-9050-29374832a68a",
   "metadata": {},
   "outputs": [],
   "source": [
    "x =[1,2,3,4,5,1]"
   ]
  },
  {
   "cell_type": "code",
   "execution_count": 17,
   "id": "35851476-ab31-4975-bb4c-a8f12fee2f05",
   "metadata": {},
   "outputs": [
    {
     "data": {
      "text/plain": [
       "[1, 2, 3, 4, 5, 1]"
      ]
     },
     "execution_count": 17,
     "metadata": {},
     "output_type": "execute_result"
    }
   ],
   "source": [
    "x"
   ]
  },
  {
   "cell_type": "code",
   "execution_count": 18,
   "id": "8a4d9e4d-523c-47ec-8e41-28764686f454",
   "metadata": {},
   "outputs": [
    {
     "data": {
      "text/plain": [
       "{1, 2, 3, 4, 5}"
      ]
     },
     "execution_count": 18,
     "metadata": {},
     "output_type": "execute_result"
    }
   ],
   "source": [
    "set(x)"
   ]
  },
  {
   "cell_type": "code",
   "execution_count": null,
   "id": "cc4962f7-0888-4510-8b2f-84f0d5ee79a7",
   "metadata": {},
   "outputs": [],
   "source": []
  },
  {
   "cell_type": "code",
   "execution_count": null,
   "id": "3d70bb4f-576f-456f-8923-574b8a96f405",
   "metadata": {},
   "outputs": [],
   "source": [
    "x."
   ]
  },
  {
   "cell_type": "markdown",
   "id": "a79c86fd-3818-454d-8518-911dcb47b50b",
   "metadata": {},
   "source": [
    "## Terminate the CAS connection"
   ]
  },
  {
   "cell_type": "code",
   "execution_count": 38,
   "id": "3f6fb6b4-68d9-415b-8ef7-c65ed08882f5",
   "metadata": {},
   "outputs": [],
   "source": [
    "conn.terminate()"
   ]
  },
  {
   "cell_type": "markdown",
   "id": "d34d7c0d-0a11-4503-ae9c-62f6d9e7755f",
   "metadata": {},
   "source": [
    " "
   ]
  }
 ],
 "metadata": {
  "kernelspec": {
   "display_name": "Python 3",
   "language": "python",
   "name": "python3"
  },
  "language_info": {
   "codemirror_mode": {
    "name": "ipython",
    "version": 3
   },
   "file_extension": ".py",
   "mimetype": "text/x-python",
   "name": "python",
   "nbconvert_exporter": "python",
   "pygments_lexer": "ipython3",
   "version": "3.8.8"
  }
 },
 "nbformat": 4,
 "nbformat_minor": 5
}
