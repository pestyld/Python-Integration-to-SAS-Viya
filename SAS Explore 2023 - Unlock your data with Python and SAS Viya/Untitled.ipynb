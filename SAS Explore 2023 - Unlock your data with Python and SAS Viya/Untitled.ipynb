{
 "cells": [
  {
   "cell_type": "code",
   "execution_count": 17,
   "id": "d794d6da-d9d2-4421-9000-eee7f1edac39",
   "metadata": {
    "tags": []
   },
   "outputs": [],
   "source": [
    "from sklearn import linear_model"
   ]
  },
  {
   "cell_type": "code",
   "execution_count": 22,
   "id": "6a2425c2-f417-4b2a-9a47-41f58a82972c",
   "metadata": {
    "tags": []
   },
   "outputs": [
    {
     "data": {
      "text/plain": [
       "'Intercept'"
      ]
     },
     "metadata": {},
     "output_type": "display_data"
    },
    {
     "data": {
      "text/plain": [
       "-0.0012784167570387694"
      ]
     },
     "metadata": {},
     "output_type": "display_data"
    },
    {
     "data": {
      "text/plain": [
       "'Coefficients'"
      ]
     },
     "metadata": {},
     "output_type": "display_data"
    },
    {
     "data": {
      "text/plain": [
       "array([9.94565916e-01, 7.64540110e-09, 1.00089739e+00])"
      ]
     },
     "metadata": {},
     "output_type": "display_data"
    }
   ],
   "source": []
  },
  {
   "cell_type": "code",
   "execution_count": 14,
   "id": "b98cd88a-61c2-4355-9d70-43c3fca74db1",
   "metadata": {
    "tags": []
   },
   "outputs": [
    {
     "data": {
      "text/html": [
       "<style>#sk-container-id-2 {color: black;background-color: white;}#sk-container-id-2 pre{padding: 0;}#sk-container-id-2 div.sk-toggleable {background-color: white;}#sk-container-id-2 label.sk-toggleable__label {cursor: pointer;display: block;width: 100%;margin-bottom: 0;padding: 0.3em;box-sizing: border-box;text-align: center;}#sk-container-id-2 label.sk-toggleable__label-arrow:before {content: \"▸\";float: left;margin-right: 0.25em;color: #696969;}#sk-container-id-2 label.sk-toggleable__label-arrow:hover:before {color: black;}#sk-container-id-2 div.sk-estimator:hover label.sk-toggleable__label-arrow:before {color: black;}#sk-container-id-2 div.sk-toggleable__content {max-height: 0;max-width: 0;overflow: hidden;text-align: left;background-color: #f0f8ff;}#sk-container-id-2 div.sk-toggleable__content pre {margin: 0.2em;color: black;border-radius: 0.25em;background-color: #f0f8ff;}#sk-container-id-2 input.sk-toggleable__control:checked~div.sk-toggleable__content {max-height: 200px;max-width: 100%;overflow: auto;}#sk-container-id-2 input.sk-toggleable__control:checked~label.sk-toggleable__label-arrow:before {content: \"▾\";}#sk-container-id-2 div.sk-estimator input.sk-toggleable__control:checked~label.sk-toggleable__label {background-color: #d4ebff;}#sk-container-id-2 div.sk-label input.sk-toggleable__control:checked~label.sk-toggleable__label {background-color: #d4ebff;}#sk-container-id-2 input.sk-hidden--visually {border: 0;clip: rect(1px 1px 1px 1px);clip: rect(1px, 1px, 1px, 1px);height: 1px;margin: -1px;overflow: hidden;padding: 0;position: absolute;width: 1px;}#sk-container-id-2 div.sk-estimator {font-family: monospace;background-color: #f0f8ff;border: 1px dotted black;border-radius: 0.25em;box-sizing: border-box;margin-bottom: 0.5em;}#sk-container-id-2 div.sk-estimator:hover {background-color: #d4ebff;}#sk-container-id-2 div.sk-parallel-item::after {content: \"\";width: 100%;border-bottom: 1px solid gray;flex-grow: 1;}#sk-container-id-2 div.sk-label:hover label.sk-toggleable__label {background-color: #d4ebff;}#sk-container-id-2 div.sk-serial::before {content: \"\";position: absolute;border-left: 1px solid gray;box-sizing: border-box;top: 0;bottom: 0;left: 50%;z-index: 0;}#sk-container-id-2 div.sk-serial {display: flex;flex-direction: column;align-items: center;background-color: white;padding-right: 0.2em;padding-left: 0.2em;position: relative;}#sk-container-id-2 div.sk-item {position: relative;z-index: 1;}#sk-container-id-2 div.sk-parallel {display: flex;align-items: stretch;justify-content: center;background-color: white;position: relative;}#sk-container-id-2 div.sk-item::before, #sk-container-id-2 div.sk-parallel-item::before {content: \"\";position: absolute;border-left: 1px solid gray;box-sizing: border-box;top: 0;bottom: 0;left: 50%;z-index: -1;}#sk-container-id-2 div.sk-parallel-item {display: flex;flex-direction: column;z-index: 1;position: relative;background-color: white;}#sk-container-id-2 div.sk-parallel-item:first-child::after {align-self: flex-end;width: 50%;}#sk-container-id-2 div.sk-parallel-item:last-child::after {align-self: flex-start;width: 50%;}#sk-container-id-2 div.sk-parallel-item:only-child::after {width: 0;}#sk-container-id-2 div.sk-dashed-wrapped {border: 1px dashed gray;margin: 0 0.4em 0.5em 0.4em;box-sizing: border-box;padding-bottom: 0.4em;background-color: white;}#sk-container-id-2 div.sk-label label {font-family: monospace;font-weight: bold;display: inline-block;line-height: 1.2em;}#sk-container-id-2 div.sk-label-container {text-align: center;}#sk-container-id-2 div.sk-container {/* jupyter's `normalize.less` sets `[hidden] { display: none; }` but bootstrap.min.css set `[hidden] { display: none !important; }` so we also need the `!important` here to be able to override the default hidden behavior on the sphinx rendered scikit-learn.org. See: https://github.com/scikit-learn/scikit-learn/issues/21755 */display: inline-block !important;position: relative;}#sk-container-id-2 div.sk-text-repr-fallback {display: none;}</style><div id=\"sk-container-id-2\" class=\"sk-top-container\"><div class=\"sk-text-repr-fallback\"><pre>LinearRegression()</pre><b>In a Jupyter environment, please rerun this cell to show the HTML representation or trust the notebook. <br />On GitHub, the HTML representation is unable to render, please try loading this page with nbviewer.org.</b></div><div class=\"sk-container\" hidden><div class=\"sk-item\"><div class=\"sk-estimator sk-toggleable\"><input class=\"sk-toggleable__control sk-hidden--visually\" id=\"sk-estimator-id-2\" type=\"checkbox\" checked><label for=\"sk-estimator-id-2\" class=\"sk-toggleable__label sk-toggleable__label-arrow\">LinearRegression</label><div class=\"sk-toggleable__content\"><pre>LinearRegression()</pre></div></div></div></div></div>"
      ],
      "text/plain": [
       "LinearRegression()"
      ]
     },
     "execution_count": 14,
     "metadata": {},
     "output_type": "execute_result"
    }
   ],
   "source": []
  },
  {
   "cell_type": "code",
   "execution_count": 16,
   "id": "72ee3d94-dbd1-4a24-8b83-aec9375831d8",
   "metadata": {
    "tags": []
   },
   "outputs": [
    {
     "data": {
      "text/plain": [
       "-0.0012784167570387694"
      ]
     },
     "execution_count": 16,
     "metadata": {},
     "output_type": "execute_result"
    }
   ],
   "source": []
  },
  {
   "cell_type": "code",
   "execution_count": 15,
   "id": "8979e1d7-03e8-465d-9b33-ceeb975c8198",
   "metadata": {
    "tags": []
   },
   "outputs": [
    {
     "data": {
      "text/plain": [
       "array([9.94565916e-01, 7.64540110e-09, 1.00089739e+00])"
      ]
     },
     "execution_count": 15,
     "metadata": {},
     "output_type": "execute_result"
    }
   ],
   "source": []
  },
  {
   "cell_type": "code",
   "execution_count": null,
   "id": "b159e9b4-e81f-457a-af64-1cc1eea251ae",
   "metadata": {},
   "outputs": [],
   "source": [
    "reg."
   ]
  },
  {
   "cell_type": "code",
   "execution_count": 10,
   "id": "453168a2-de95-4ded-aa9b-b9b8d817cfe6",
   "metadata": {
    "tags": []
   },
   "outputs": [
    {
     "data": {
      "text/html": [
       "<div>\n",
       "<style scoped>\n",
       "    .dataframe tbody tr th:only-of-type {\n",
       "        vertical-align: middle;\n",
       "    }\n",
       "\n",
       "    .dataframe tbody tr th {\n",
       "        vertical-align: top;\n",
       "    }\n",
       "\n",
       "    .dataframe thead th {\n",
       "        text-align: right;\n",
       "    }\n",
       "</style>\n",
       "<table border=\"1\" class=\"dataframe\">\n",
       "  <thead>\n",
       "    <tr style=\"text-align: right;\">\n",
       "      <th></th>\n",
       "      <th>CustID</th>\n",
       "      <th>bucket</th>\n",
       "      <th>age</th>\n",
       "      <th>loyalty_card</th>\n",
       "      <th>Department</th>\n",
       "      <th>brand_name</th>\n",
       "      <th>Storechain</th>\n",
       "      <th>ChannelType</th>\n",
       "      <th>Class</th>\n",
       "      <th>StoreNum</th>\n",
       "      <th>...</th>\n",
       "      <th>Region_Long</th>\n",
       "      <th>Region_2</th>\n",
       "      <th>Region_2_Lat</th>\n",
       "      <th>Region_2_Long</th>\n",
       "      <th>State</th>\n",
       "      <th>State_Lat</th>\n",
       "      <th>State_Long</th>\n",
       "      <th>age_bucket</th>\n",
       "      <th>Storechain1</th>\n",
       "      <th>brand_name1</th>\n",
       "    </tr>\n",
       "  </thead>\n",
       "  <tbody>\n",
       "    <tr>\n",
       "      <th>0</th>\n",
       "      <td>1083863.0</td>\n",
       "      <td>1.0</td>\n",
       "      <td>NaN</td>\n",
       "      <td>0.0</td>\n",
       "      <td>health</td>\n",
       "      <td>Pine</td>\n",
       "      <td>GRAND</td>\n",
       "      <td>Resale</td>\n",
       "      <td>oral care</td>\n",
       "      <td>736.0</td>\n",
       "      <td>...</td>\n",
       "      <td>-74.50</td>\n",
       "      <td>US Atlantic Coast</td>\n",
       "      <td>40.3</td>\n",
       "      <td>-74.50</td>\n",
       "      <td>NY</td>\n",
       "      <td>41.5435</td>\n",
       "      <td>-74.6941</td>\n",
       "      <td>18-25</td>\n",
       "      <td>FAST</td>\n",
       "      <td>Oak</td>\n",
       "    </tr>\n",
       "    <tr>\n",
       "      <th>1</th>\n",
       "      <td>1083863.0</td>\n",
       "      <td>1.0</td>\n",
       "      <td>NaN</td>\n",
       "      <td>0.0</td>\n",
       "      <td>kids</td>\n",
       "      <td>Pine</td>\n",
       "      <td>GRAND</td>\n",
       "      <td>Resale</td>\n",
       "      <td>kids_swimwear</td>\n",
       "      <td>736.0</td>\n",
       "      <td>...</td>\n",
       "      <td>-74.50</td>\n",
       "      <td>US Atlantic Coast</td>\n",
       "      <td>40.3</td>\n",
       "      <td>-74.50</td>\n",
       "      <td>NY</td>\n",
       "      <td>41.5435</td>\n",
       "      <td>-74.6941</td>\n",
       "      <td>36-45</td>\n",
       "      <td>GRAND</td>\n",
       "      <td>Pine</td>\n",
       "    </tr>\n",
       "    <tr>\n",
       "      <th>2</th>\n",
       "      <td>1083863.0</td>\n",
       "      <td>1.0</td>\n",
       "      <td>NaN</td>\n",
       "      <td>0.0</td>\n",
       "      <td>men</td>\n",
       "      <td>Pine</td>\n",
       "      <td>GRAND</td>\n",
       "      <td>Resale</td>\n",
       "      <td>men_slippers</td>\n",
       "      <td>736.0</td>\n",
       "      <td>...</td>\n",
       "      <td>-84.75</td>\n",
       "      <td>US Midwest</td>\n",
       "      <td>43.3</td>\n",
       "      <td>-84.75</td>\n",
       "      <td>IL</td>\n",
       "      <td>41.2340</td>\n",
       "      <td>-88.3961</td>\n",
       "      <td>56-65</td>\n",
       "      <td>MODA</td>\n",
       "      <td>Maple</td>\n",
       "    </tr>\n",
       "    <tr>\n",
       "      <th>3</th>\n",
       "      <td>1083863.0</td>\n",
       "      <td>2.0</td>\n",
       "      <td>NaN</td>\n",
       "      <td>0.0</td>\n",
       "      <td>men</td>\n",
       "      <td>Pine</td>\n",
       "      <td>GRAND</td>\n",
       "      <td>Internet</td>\n",
       "      <td>men_underwear</td>\n",
       "      <td>724.0</td>\n",
       "      <td>...</td>\n",
       "      <td>-74.50</td>\n",
       "      <td>US Atlantic Coast</td>\n",
       "      <td>40.3</td>\n",
       "      <td>-74.50</td>\n",
       "      <td>NJ</td>\n",
       "      <td>40.4403</td>\n",
       "      <td>-74.4296</td>\n",
       "      <td>46-55</td>\n",
       "      <td>MODA</td>\n",
       "      <td>Maple</td>\n",
       "    </tr>\n",
       "    <tr>\n",
       "      <th>4</th>\n",
       "      <td>1083883.0</td>\n",
       "      <td>2.0</td>\n",
       "      <td>23.0</td>\n",
       "      <td>1.0</td>\n",
       "      <td>electronics</td>\n",
       "      <td>Pine</td>\n",
       "      <td>GRAND</td>\n",
       "      <td>Store</td>\n",
       "      <td>DVD &amp; Blu-ray</td>\n",
       "      <td>757.0</td>\n",
       "      <td>...</td>\n",
       "      <td>-84.75</td>\n",
       "      <td>US Midwest</td>\n",
       "      <td>43.3</td>\n",
       "      <td>-84.75</td>\n",
       "      <td>KS</td>\n",
       "      <td>38.4575</td>\n",
       "      <td>-96.5830</td>\n",
       "      <td>26-35</td>\n",
       "      <td>GRAND</td>\n",
       "      <td>Pine</td>\n",
       "    </tr>\n",
       "  </tbody>\n",
       "</table>\n",
       "<p>5 rows × 40 columns</p>\n",
       "</div>"
      ],
      "text/plain": [
       "      CustID  bucket   age  loyalty_card   Department brand_name Storechain  \\\n",
       "0  1083863.0     1.0   NaN           0.0       health       Pine      GRAND   \n",
       "1  1083863.0     1.0   NaN           0.0         kids       Pine      GRAND   \n",
       "2  1083863.0     1.0   NaN           0.0          men       Pine      GRAND   \n",
       "3  1083863.0     2.0   NaN           0.0          men       Pine      GRAND   \n",
       "4  1083883.0     2.0  23.0           1.0  electronics       Pine      GRAND   \n",
       "\n",
       "  ChannelType          Class  StoreNum  ...  Region_Long           Region_2  \\\n",
       "0      Resale      oral care     736.0  ...       -74.50  US Atlantic Coast   \n",
       "1      Resale  kids_swimwear     736.0  ...       -74.50  US Atlantic Coast   \n",
       "2      Resale   men_slippers     736.0  ...       -84.75         US Midwest   \n",
       "3    Internet  men_underwear     724.0  ...       -74.50  US Atlantic Coast   \n",
       "4       Store  DVD & Blu-ray     757.0  ...       -84.75         US Midwest   \n",
       "\n",
       "  Region_2_Lat Region_2_Long State State_Lat  State_Long  age_bucket  \\\n",
       "0         40.3        -74.50    NY   41.5435    -74.6941       18-25   \n",
       "1         40.3        -74.50    NY   41.5435    -74.6941       36-45   \n",
       "2         43.3        -84.75    IL   41.2340    -88.3961       56-65   \n",
       "3         40.3        -74.50    NJ   40.4403    -74.4296       46-55   \n",
       "4         43.3        -84.75    KS   38.4575    -96.5830       26-35   \n",
       "\n",
       "   Storechain1  brand_name1  \n",
       "0         FAST          Oak  \n",
       "1        GRAND         Pine  \n",
       "2         MODA        Maple  \n",
       "3         MODA        Maple  \n",
       "4        GRAND         Pine  \n",
       "\n",
       "[5 rows x 40 columns]"
      ]
     },
     "execution_count": 10,
     "metadata": {},
     "output_type": "execute_result"
    }
   ],
   "source": [
    "import pandas as pd\n",
    "df = pd.read_parquet('retail_sales.parquet')\n"
   ]
  },
  {
   "cell_type": "code",
   "execution_count": null,
   "id": "42110aef-be29-4907-958b-dcfa30fe0d1e",
   "metadata": {},
   "outputs": [],
   "source": []
  },
  {
   "cell_type": "code",
   "execution_count": 3,
   "id": "6e4f986c-cdee-4714-b984-7a726ff9b231",
   "metadata": {
    "tags": []
   },
   "outputs": [
    {
     "data": {
      "text/plain": [
       "217"
      ]
     },
     "execution_count": 3,
     "metadata": {},
     "output_type": "execute_result"
    }
   ],
   "source": [
    "180 + 37"
   ]
  },
  {
   "cell_type": "code",
   "execution_count": 5,
   "id": "c3874dec-0214-4f18-81a3-586b1bb9a109",
   "metadata": {
    "tags": []
   },
   "outputs": [
    {
     "data": {
      "text/plain": [
       "480"
      ]
     },
     "execution_count": 5,
     "metadata": {},
     "output_type": "execute_result"
    }
   ],
   "source": [
    "8*60"
   ]
  },
  {
   "cell_type": "code",
   "execution_count": 6,
   "id": "a63b0aee-a693-4531-940c-45ede7a3034c",
   "metadata": {
    "tags": []
   },
   "outputs": [
    {
     "data": {
      "text/plain": [
       "6.914285714285715"
      ]
     },
     "execution_count": 6,
     "metadata": {},
     "output_type": "execute_result"
    }
   ],
   "source": [
    "484 / 70"
   ]
  },
  {
   "cell_type": "code",
   "execution_count": null,
   "id": "28e585be-150c-4a99-b283-bc22d3e85fab",
   "metadata": {},
   "outputs": [],
   "source": []
  }
 ],
 "metadata": {
  "kernelspec": {
   "display_name": "Python 3 (ipykernel)",
   "language": "python",
   "name": "python3"
  },
  "language_info": {
   "codemirror_mode": {
    "name": "ipython",
    "version": 3
   },
   "file_extension": ".py",
   "mimetype": "text/x-python",
   "name": "python",
   "nbconvert_exporter": "python",
   "pygments_lexer": "ipython3",
   "version": "3.8.16"
  }
 },
 "nbformat": 4,
 "nbformat_minor": 5
}
