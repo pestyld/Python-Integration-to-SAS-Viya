{
 "cells": [
  {
   "cell_type": "markdown",
   "id": "6a379071-5fc9-4971-8d3b-b70d03482609",
   "metadata": {},
   "source": [
    "# Unlock your data with Python and SAS Viya"
   ]
  },
  {
   "cell_type": "code",
   "execution_count": null,
   "id": "87212fe5-e3ba-4a96-8939-1e549c742f93",
   "metadata": {},
   "outputs": [],
   "source": []
  }
 ],
 "metadata": {
  "kernelspec": {
   "display_name": "Python 3 (ipykernel)",
   "language": "python",
   "name": "python3"
  },
  "language_info": {
   "codemirror_mode": {
    "name": "ipython",
    "version": 3
   },
   "file_extension": ".py",
   "mimetype": "text/x-python",
   "name": "python",
   "nbconvert_exporter": "python",
   "pygments_lexer": "ipython3",
   "version": "3.8.16"
  }
 },
 "nbformat": 4,
 "nbformat_minor": 5
}
