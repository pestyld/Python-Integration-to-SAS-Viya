{
 "cells": [
  {
   "cell_type": "code",
   "execution_count": 31,
   "id": "d93e0942-3fd3-41f9-972a-f15239681669",
   "metadata": {
    "tags": []
   },
   "outputs": [],
   "source": [
    "import pandas as pd\n",
    "from datetime import datetime, date"
   ]
  },
  {
   "cell_type": "code",
   "execution_count": 4,
   "id": "129a11c3-4dee-47b4-87be-27eeb61d3f12",
   "metadata": {
    "tags": []
   },
   "outputs": [],
   "source": [
    "df = pd.DataFrame(data={'RideName':['Test 1', 'Test 2'], \n",
    "                        'ThrillLevel':[2,3]})"
   ]
  },
  {
   "cell_type": "code",
   "execution_count": 5,
   "id": "28f6d1dc-7362-44a8-8284-24593197d172",
   "metadata": {
    "tags": []
   },
   "outputs": [
    {
     "data": {
      "text/html": [
       "<div>\n",
       "<style scoped>\n",
       "    .dataframe tbody tr th:only-of-type {\n",
       "        vertical-align: middle;\n",
       "    }\n",
       "\n",
       "    .dataframe tbody tr th {\n",
       "        vertical-align: top;\n",
       "    }\n",
       "\n",
       "    .dataframe thead th {\n",
       "        text-align: right;\n",
       "    }\n",
       "</style>\n",
       "<table border=\"1\" class=\"dataframe\">\n",
       "  <thead>\n",
       "    <tr style=\"text-align: right;\">\n",
       "      <th></th>\n",
       "      <th>RideName</th>\n",
       "      <th>ThrillLevel</th>\n",
       "    </tr>\n",
       "  </thead>\n",
       "  <tbody>\n",
       "    <tr>\n",
       "      <th>0</th>\n",
       "      <td>Test 1</td>\n",
       "      <td>2</td>\n",
       "    </tr>\n",
       "    <tr>\n",
       "      <th>1</th>\n",
       "      <td>Test 2</td>\n",
       "      <td>3</td>\n",
       "    </tr>\n",
       "  </tbody>\n",
       "</table>\n",
       "</div>"
      ],
      "text/plain": [
       "  RideName  ThrillLevel\n",
       "0   Test 1            2\n",
       "1   Test 2            3"
      ]
     },
     "execution_count": 5,
     "metadata": {},
     "output_type": "execute_result"
    }
   ],
   "source": [
    "df"
   ]
  },
  {
   "cell_type": "code",
   "execution_count": 10,
   "id": "aa921f38-5ca7-4b5a-9003-539e7053aa9d",
   "metadata": {
    "tags": []
   },
   "outputs": [
    {
     "data": {
      "text/plain": [
       "datetime.date(2024, 1, 23)"
      ]
     },
     "metadata": {},
     "output_type": "display_data"
    },
    {
     "data": {
      "text/plain": [
       "datetime.datetime(2024, 1, 23, 11, 45, 54, 594765)"
      ]
     },
     "metadata": {},
     "output_type": "display_data"
    },
    {
     "data": {
      "text/plain": [
       "'11:45:54'"
      ]
     },
     "metadata": {},
     "output_type": "display_data"
    }
   ],
   "source": [
    "today = date.today()\n",
    "now=datetime.now()\n",
    "current_time = now.strftime(\"%H:%M:%S\")\n",
    "display(today, now, current_time)"
   ]
  },
  {
   "cell_type": "code",
   "execution_count": null,
   "id": "5fc93514-4d23-4c80-8909-9737792d4352",
   "metadata": {},
   "outputs": [],
   "source": []
  },
  {
   "cell_type": "code",
   "execution_count": 16,
   "id": "65c22f3e-202e-42c4-b6cb-580ecd47b481",
   "metadata": {
    "tags": []
   },
   "outputs": [],
   "source": []
  },
  {
   "cell_type": "code",
   "execution_count": 14,
   "id": "5cbf5a88-1a8e-4147-809c-8d77ec4e04ca",
   "metadata": {
    "tags": []
   },
   "outputs": [],
   "source": [
    "def TimeCheck(row):\n",
    "    if row['ThrillLevel']<3:\n",
    "        random = randint(1, 10)\n",
    "        return random\n",
    "    elif row['ThrillLevel']==3:\n",
    "        random = randint(11, 20)\n",
    "        return random\n",
    "    else:\n",
    "        random = randint(21, 30)\n",
    "        return random"
   ]
  },
  {
   "cell_type": "code",
   "execution_count": 27,
   "id": "069fdc0e-7da1-4f9f-9ecd-1aa057979b6a",
   "metadata": {
    "tags": []
   },
   "outputs": [],
   "source": [
    "import random"
   ]
  },
  {
   "cell_type": "code",
   "execution_count": 32,
   "id": "5cb2cb94-d472-4314-af94-2c887908c20a",
   "metadata": {
    "tags": []
   },
   "outputs": [
    {
     "data": {
      "text/plain": [
       "6"
      ]
     },
     "execution_count": 32,
     "metadata": {},
     "output_type": "execute_result"
    }
   ],
   "source": []
  },
  {
   "cell_type": "code",
   "execution_count": 65,
   "id": "b07a9d6d-14de-474b-99f5-9f3f7521b992",
   "metadata": {
    "tags": []
   },
   "outputs": [],
   "source": [
    "def test(col):\n",
    "    if col < 3:\n",
    "        randomValue = random.randint(1,10)\n",
    "        return randomValue\n",
    "    elif col == 3:\n",
    "        randomValue = random.randint(11,20)\n",
    "        return randomValue\n",
    "    else:\n",
    "        randomValue = random.randint(21,30)\n",
    "        return randomValue"
   ]
  },
  {
   "cell_type": "code",
   "execution_count": 74,
   "id": "a4831811-bb16-46d3-8237-b2e05ea29af5",
   "metadata": {
    "tags": []
   },
   "outputs": [
    {
     "data": {
      "text/html": [
       "<div>\n",
       "<style scoped>\n",
       "    .dataframe tbody tr th:only-of-type {\n",
       "        vertical-align: middle;\n",
       "    }\n",
       "\n",
       "    .dataframe tbody tr th {\n",
       "        vertical-align: top;\n",
       "    }\n",
       "\n",
       "    .dataframe thead th {\n",
       "        text-align: right;\n",
       "    }\n",
       "</style>\n",
       "<table border=\"1\" class=\"dataframe\">\n",
       "  <thead>\n",
       "    <tr style=\"text-align: right;\">\n",
       "      <th></th>\n",
       "      <th>RideName</th>\n",
       "      <th>ThrillLevel</th>\n",
       "      <th>test</th>\n",
       "      <th>x</th>\n",
       "      <th>newcol</th>\n",
       "      <th>y</th>\n",
       "    </tr>\n",
       "  </thead>\n",
       "  <tbody>\n",
       "    <tr>\n",
       "      <th>0</th>\n",
       "      <td>Test 1</td>\n",
       "      <td>2</td>\n",
       "      <td>8</td>\n",
       "      <td>danny</td>\n",
       "      <td>2024-01-23 11:45:54.594765</td>\n",
       "      <td>abc</td>\n",
       "    </tr>\n",
       "    <tr>\n",
       "      <th>1</th>\n",
       "      <td>Test 2</td>\n",
       "      <td>3</td>\n",
       "      <td>15</td>\n",
       "      <td>danny</td>\n",
       "      <td>2024-01-23 11:45:54.594765</td>\n",
       "      <td>abc</td>\n",
       "    </tr>\n",
       "  </tbody>\n",
       "</table>\n",
       "</div>"
      ],
      "text/plain": [
       "  RideName  ThrillLevel  test      x                     newcol    y\n",
       "0   Test 1            2     8  danny 2024-01-23 11:45:54.594765  abc\n",
       "1   Test 2            3    15  danny 2024-01-23 11:45:54.594765  abc"
      ]
     },
     "execution_count": 74,
     "metadata": {},
     "output_type": "execute_result"
    }
   ],
   "source": [
    "(\n",
    " df\n",
    " .assign(\n",
    "        test = df.ThrillLevel.apply(test),\n",
    "        x = 'danny',\n",
    "        newcol = now,\n",
    "        y = 'abc'\n",
    "     )\n",
    ")"
   ]
  },
  {
   "cell_type": "code",
   "execution_count": 26,
   "id": "471da803-5ac7-41b7-b1cf-052b5e4b3c62",
   "metadata": {
    "tags": []
   },
   "outputs": [
    {
     "data": {
      "text/html": [
       "<div>\n",
       "<style scoped>\n",
       "    .dataframe tbody tr th:only-of-type {\n",
       "        vertical-align: middle;\n",
       "    }\n",
       "\n",
       "    .dataframe tbody tr th {\n",
       "        vertical-align: top;\n",
       "    }\n",
       "\n",
       "    .dataframe thead th {\n",
       "        text-align: right;\n",
       "    }\n",
       "</style>\n",
       "<table border=\"1\" class=\"dataframe\">\n",
       "  <thead>\n",
       "    <tr style=\"text-align: right;\">\n",
       "      <th></th>\n",
       "      <th>RideName</th>\n",
       "      <th>ThrillLevel</th>\n",
       "      <th>test</th>\n",
       "      <th>x</th>\n",
       "      <th>newcol</th>\n",
       "      <th>y</th>\n",
       "    </tr>\n",
       "  </thead>\n",
       "  <tbody>\n",
       "    <tr>\n",
       "      <th>0</th>\n",
       "      <td>Test 1</td>\n",
       "      <td>2</td>\n",
       "      <td>other</td>\n",
       "      <td>danny</td>\n",
       "      <td>1</td>\n",
       "      <td>abc</td>\n",
       "    </tr>\n",
       "    <tr>\n",
       "      <th>1</th>\n",
       "      <td>Test 2</td>\n",
       "      <td>3</td>\n",
       "      <td>test</td>\n",
       "      <td>danny</td>\n",
       "      <td>1</td>\n",
       "      <td>abc</td>\n",
       "    </tr>\n",
       "  </tbody>\n",
       "</table>\n",
       "</div>"
      ],
      "text/plain": [
       "  RideName  ThrillLevel   test      x  newcol    y\n",
       "0   Test 1            2  other  danny       1  abc\n",
       "1   Test 2            3   test  danny       1  abc"
      ]
     },
     "execution_count": 26,
     "metadata": {},
     "output_type": "execute_result"
    }
   ],
   "source": [
    "new_df"
   ]
  },
  {
   "cell_type": "code",
   "execution_count": 64,
   "id": "1560d4c1-8db8-4e0c-8aa6-b34302cb839b",
   "metadata": {
    "tags": []
   },
   "outputs": [],
   "source": [
    "## Start time at 9AM\n",
    "x = 9\n",
    "\n",
    "def test(x):\n",
    "    global y\n",
    "    y = y * 2\n",
    "    print(y)"
   ]
  },
  {
   "cell_type": "code",
   "execution_count": 62,
   "id": "35c409b5-f767-4e31-a1cd-0b9d19628be0",
   "metadata": {
    "tags": []
   },
   "outputs": [
    {
     "name": "stdout",
     "output_type": "stream",
     "text": [
      "256\n"
     ]
    }
   ],
   "source": []
  },
  {
   "cell_type": "code",
   "execution_count": 54,
   "id": "6fbe25bd-2d9e-46c5-be35-2c57f2680e93",
   "metadata": {
    "tags": []
   },
   "outputs": [
    {
     "data": {
      "text/plain": [
       "2"
      ]
     },
     "execution_count": 54,
     "metadata": {},
     "output_type": "execute_result"
    }
   ],
   "source": [
    "y"
   ]
  },
  {
   "cell_type": "code",
   "execution_count": null,
   "id": "81108b37-2a5e-4514-baf4-c4fba576a94d",
   "metadata": {},
   "outputs": [],
   "source": []
  }
 ],
 "metadata": {
  "kernelspec": {
   "display_name": "Python 3 (ipykernel)",
   "language": "python",
   "name": "python3"
  },
  "language_info": {
   "codemirror_mode": {
    "name": "ipython",
    "version": 3
   },
   "file_extension": ".py",
   "mimetype": "text/x-python",
   "name": "python",
   "nbconvert_exporter": "python",
   "pygments_lexer": "ipython3",
   "version": "3.11.5"
  }
 },
 "nbformat": 4,
 "nbformat_minor": 5
}
