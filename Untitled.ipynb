{
 "cells": [
  {
   "cell_type": "code",
   "execution_count": null,
   "id": "63129a1c-c775-41c9-9836-d1ba791401c2",
   "metadata": {},
   "outputs": [
    {
     "name": "stdout",
     "output_type": "stream",
     "text": [
      "We failed in getConnection\n",
      "The application could not log on to the server \"localhost:0\". Integrated Windows authentication failed.\n",
      "SAS process has terminated unexpectedly. RC from wait was: 4294967290\n",
      "SAS Connection failed. No connection established. Double check your settings in sascfg_personal.py file.\n",
      "\n",
      "Attempted to run program C:\\Program Files\\SASHome\\SASPrivateJavaRuntimeEnvironment\\9.4\\jre\\bin\\java.exe with the following parameters:['C:\\\\Program Files\\\\SASHome\\\\SASPrivateJavaRuntimeEnvironment\\\\9.4\\\\jre\\\\bin\\\\java.exe', '-classpath', 'C:\\\\Users\\\\pestyl\\\\Anaconda3\\\\lib\\\\site-packages\\\\saspy\\\\java\\\\saspyiom.jar;C:\\\\Users\\\\pestyl\\\\Anaconda3\\\\lib\\\\site-packages\\\\saspy\\\\java\\\\iomclient\\\\log4j.jar;C:\\\\Users\\\\pestyl\\\\Anaconda3\\\\lib\\\\site-packages\\\\saspy\\\\java\\\\iomclient\\\\sas.security.sspi.jar;C:\\\\Users\\\\pestyl\\\\Anaconda3\\\\lib\\\\site-packages\\\\saspy\\\\java\\\\iomclient\\\\sas.core.jar;C:\\\\Users\\\\pestyl\\\\Anaconda3\\\\lib\\\\site-packages\\\\saspy\\\\java\\\\iomclient\\\\sas.svc.connection.jar;C:\\\\Users\\\\pestyl\\\\Anaconda3\\\\lib\\\\site-packages\\\\saspy\\\\java\\\\iomclient\\\\sas.rutil.jar;C:\\\\Users\\\\pestyl\\\\Anaconda3\\\\lib\\\\site-packages\\\\saspy\\\\java\\\\iomclient\\\\sas.rutil.nls.jar;C:\\\\Users\\\\pestyl\\\\Anaconda3\\\\lib\\\\site-packages\\\\saspy\\\\java\\\\iomclient\\\\sastpj.rutil.jar;C:\\\\Users\\\\pestyl\\\\Anaconda3\\\\lib\\\\site-packages\\\\saspy\\\\java\\\\thirdparty\\\\glassfish-corba-internal-api.jar;C:\\\\Users\\\\pestyl\\\\Anaconda3\\\\lib\\\\site-packages\\\\saspy\\\\java\\\\thirdparty\\\\glassfish-corba-omgapi.jar;C:\\\\Users\\\\pestyl\\\\Anaconda3\\\\lib\\\\site-packages\\\\saspy\\\\java\\\\thirdparty\\\\glassfish-corba-orb.jar;C:\\\\Users\\\\pestyl\\\\Anaconda3\\\\lib\\\\site-packages\\\\saspy\\\\java\\\\thirdparty\\\\pfl-basic.jar;C:\\\\Users\\\\pestyl\\\\Anaconda3\\\\lib\\\\site-packages\\\\saspy\\\\java\\\\thirdparty\\\\pfl-tf.jar', 'pyiom.saspy2j', '-host', 'localhost', '-stdinport', '61777', '-stdoutport', '61778', '-stderrport', '61779', '-zero', '-lrecl', '1048576', '']\n",
      "\n",
      "Be sure the path to sspiauth.dll is in your System PATH\n",
      "\n",
      "No SAS process attached. SAS process has terminated unexpectedly.\n",
      "Invalid response from SAS on inital submission. printing the SASLOG as diagnostic\n",
      "\n"
     ]
    }
   ],
   "source": [
    "proc print data=sashelp.cars(obs=10);\n",
    "run;"
   ]
  },
  {
   "cell_type": "code",
   "execution_count": null,
   "id": "4f2b4905-2d62-4531-bae9-25e56720cfd7",
   "metadata": {},
   "outputs": [],
   "source": []
  }
 ],
 "metadata": {
  "kernelspec": {
   "display_name": "SAS",
   "language": "sas",
   "name": "sas"
  },
  "language_info": {
   "codemirror_mode": "sas",
   "file_extension": ".sas",
   "mimetype": "text/x-sas",
   "name": "sas"
  }
 },
 "nbformat": 4,
 "nbformat_minor": 5
}
