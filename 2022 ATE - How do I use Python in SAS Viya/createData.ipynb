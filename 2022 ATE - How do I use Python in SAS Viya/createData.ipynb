{
 "cells": [
  {
   "cell_type": "markdown",
   "metadata": {},
   "source": [
    "# Create Fake Data in CAS\n",
    "\n",
    "Creates n number of rows per available thread. Depending on the size you choose this can take a few minutes. \n",
    "\n",
    "### **WARNING**: You can accidently create a massive CAS table and CSV file if you specify a large number of rows per thread. By default, only 100 rows will be created per thread.\n",
    "\n",
    "Program will:\n",
    "- Create a CAS table named orders in the casuser caslib.\n",
    "- Save the CAS table as a CSV file name ordersDemo.csv in the casuser caslib.\n",
    "- Drop the orders CAS table.\n",
    "\n",
    "Requirements: You need to connect to the CAS server to execute this program."
   ]
  },
  {
   "cell_type": "code",
   "execution_count": null,
   "metadata": {},
   "outputs": [],
   "source": [
    "## Packages\n",
    "import swat\n",
    "import pandas as pd\n",
    "from casConnect import connect_to_cas ## my personal module to connect to CAS\n",
    "\n",
    "## Options\n",
    "pd.set_option('display.max_columns', 50)\n",
    "\n",
    "## My personal connection to CAS. You will have your own.\n",
    "## General form: swat.CAS(host, port, username, password)\n",
    "conn = connect_to_cas() "
   ]
  },
  {
   "cell_type": "code",
   "execution_count": null,
   "metadata": {},
   "outputs": [],
   "source": [
    "## Default argument of the function is rowsPerThread = 100. You can modify the amount of rows by changing the value.\n",
    "## WARNING: A large number of rows per thread can take awhile depending on the number specified and your environment.\n",
    "\n",
    "def fakeData(connection, rowsPerThread = 100):\n",
    "    ds = f'''\n",
    "data casuser.orders;\n",
    "     length Product varchar(10) \n",
    "            Country varchar(2)\n",
    "            OrderDate 8.\n",
    "            DiscountCode varchar(10) \n",
    "            Return varchar(3);\n",
    "      call streaminit(99);\n",
    "            do i=1 to {rowsPerThread};\n",
    "            *StoreID*;\n",
    "                StoreID=int(rand('CHISQ', 20));\n",
    "        \n",
    "            *Country*;\n",
    "                array country_groups[5] varchar(10) _temporary_ (\"GR\",\"US\",\"AU\",\"EN\", \"CA\");   \n",
    "                rand_Countries=rand(\"table\",.2, .4, .1, .1, .2);\n",
    "                Country=country_groups[rand_Countries];\n",
    "        \n",
    "            *Product*;\n",
    "                array products_groups[4] varchar(10) _temporary_ (\"Sweatshirt\",\"Pants\",\"Shirts\",\"Hats\");   \n",
    "                rand_Products=rand(\"table\",.2,.3,.4,.1);\n",
    "                Product=products_groups[rand_Products];\n",
    "        \n",
    "            *Order date*;\n",
    "                array year_groups[5]  _temporary_ (2017, 2018, 2019, 2020, 2021);   \n",
    "                rand_year=rand(\"table\",.1,.15,.22,.20,.33);\n",
    "                OrderDate=int(rand('uniform',mdy(1,1,year_groups[rand_year]), mdy(12,31,year_groups[rand_year])));\n",
    "        \n",
    "            *quantity*;\n",
    "                Quantity=round(rand('uniform', 20, 500),5);\n",
    "        \n",
    "            *product price - customer price*;\n",
    "            array products_price[4] _temporary_ (10.99,8.99,7.99,4.99);\n",
    "                Price=products_price[rand_Products];\n",
    "                  if Quantity > 400 then Price = round(Price * .8,.01);\n",
    "                    else if Quantity > 300 then Price = round(Price * .85,.01);\n",
    "                    else if Quantity > 200 then Price = round(Price * .9,.01);\n",
    "                    else if Quantity > 100 then Price = round(Price * .95,.01);\n",
    "        \n",
    "            *product cost - cost to make*;\n",
    "            array products_cost[4] _temporary_ (1.99,1.49,1.99,.99);      \n",
    "                Cost=products_cost[rand_Products];\n",
    "        \n",
    "            *return*;\n",
    "            rand_return=rand('uniform',0,1);\n",
    "                if (product=\"Sweatshirt\" and rand_return<.02) then Return=\"Yes\";\n",
    "                else if (product=\"Pants\" and rand_return<.05) then Return=\"Yes\";\n",
    "                else if (product=\"Shirts\" and rand_return<.08) then Return=\"Yes\";\n",
    "                else if (product=\"Hats\" and rand_return<.01) then Return=\"Yes\";\n",
    "                else Return=\"\";\n",
    "        \n",
    "            *discount code*;\n",
    "            rand_discountValue=rand(\"table\",.3,.15,.25,.09,.01,.15,.05);\n",
    "            rand_discountApplied=rand('uniform',0,1);\n",
    "            array products_discounts[7] varchar(10) _temporary_ (\"TC10\",\"BB20\",\"TENOFF\",\"EMP50\",\"FMDISCOUNT\",\"SPC\",\"FREEDEAL\");  \n",
    "            if rand_DiscountAPplied <.20 then DiscountCode=products_discounts[rand_discountValue];\n",
    "                else DiscountCode=\"\";\n",
    "        \n",
    "            output;\n",
    "               \n",
    "        end;\n",
    "        format OrderDate date9.;\n",
    "        drop i rand:;\n",
    "        run;\n",
    "'''\n",
    "    conn.runCode(code = ds)\n",
    "    \n",
    "    n = conn.numRows(table={'name':'orders', 'caslib':'casuser'})['numrows']\n",
    "    print(f\"The orders CAS table was created with {n:,} rows\")\n",
    "    \n",
    "    conn.save(table = 'orders', name = 'ordersDemo.csv', replace = True)\n",
    "    print('The orders CAS table was saved as the ordersDemo.csv file')\n",
    "    \n",
    "    conn.dropTable(name = 'orders', caslib = 'casuser')\n",
    "    print('The orders CAS table was dropped')"
   ]
  },
  {
   "cell_type": "code",
   "execution_count": null,
   "metadata": {},
   "outputs": [],
   "source": [
    "## Execute the function\n",
    "## Specify CAS connection name and number of rows to create per thread\n",
    "\n",
    "fakeData(conn, rowsPerThread = 100)"
   ]
  },
  {
   "cell_type": "code",
   "execution_count": null,
   "metadata": {},
   "outputs": [],
   "source": [
    "conn.terminate()"
   ]
  },
  {
   "cell_type": "markdown",
   "metadata": {},
   "source": [
    " "
   ]
  }
 ],
 "metadata": {
  "kernelspec": {
   "display_name": "Python 3",
   "language": "python",
   "name": "python3"
  },
  "language_info": {
   "codemirror_mode": {
    "name": "ipython",
    "version": 3
   },
   "file_extension": ".py",
   "mimetype": "text/x-python",
   "name": "python",
   "nbconvert_exporter": "python",
   "pygments_lexer": "ipython3",
   "version": "3.8.8"
  }
 },
 "nbformat": 4,
 "nbformat_minor": 4
}
