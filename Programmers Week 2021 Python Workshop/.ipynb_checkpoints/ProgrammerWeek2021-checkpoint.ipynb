{
 "cells": [
  {
   "cell_type": "markdown",
   "metadata": {},
   "source": [
    "<div class=\"alert alert-block alert-info\">\n",
    "    <h1>SAS Programmers Week: Analyzing Data with Python in SAS Viya </h1>\n",
    "    <p style=\"font-size:13pt\"> \n",
    "        <b>Description:</b> This workshop will quickly introduce how to work with Python in SAS Viya. A basic understanding of Python is assumed.\n",
    "            <br>\n",
    "            <br>\n",
    "        <b>Instructor:</b> Peter Styliadis\n",
    "            <br>\n",
    "            <br>\n",
    "        <b>Date:</b> September 16th, 2021\n",
    "            <br>\n",
    "            <br>\n",
    "        <b>Connect with me on <a href=\"https://www.linkedin.com/in/peter-styliadis-712bb357\">LinkedIn!</a></b>\n",
    "    </p>"
   ]
  },
  {
   "cell_type": "markdown",
   "metadata": {},
   "source": [
    "## <a id='0'>Table of Contents </a>\n",
    "\n",
    "- [Set Up Packages and Environment](#A)\n",
    "1. [SAS Viya Overview](#1)\n",
    "    >1. What is SAS Viya?\n",
    "    >2. Cloud Analytic Services (CAS)\n",
    "    >3. SAS Viya is Open\n",
    "2. [Connect to the CAS Server in SAS Viya](#2)\n",
    "    >1. How to Connect to CAS\n",
    "3. [Create the Data for the Workshop](#3)\n",
    "    >1. Use the createData Package\n",
    "4. [Explore Available Data on the CAS Server](#4)\n",
    "    >1. [View All Available Caslibs](#4a)\n",
    "    >2. [View Available In-Memory Tables](#4b)\n",
    "    >3. [View Available Data Source Files](#4c)\n",
    "5. [Load Data into CAS Memory for Processing](#5)\n",
    "    >1. [Load a Single Data Soucre File Into Memory](#5a)\n",
    "    >2. [Use a Python Loop to Load Multiple Files](#5b)\n",
    "6. [Preview the In-Memory CAS Tables](#6)\n",
    "    >1. [Reference a CAS Table](#6a)\n",
    "    >2. [Executing CAS Actions and Familiar Pandas Methods on a CAS Table](#6b)\n",
    "        - head method\n",
    "        - fetch CAS action\n",
    "    >3. [View the CAS API in Action](#6c)\n",
    "7. [Explore the CAS Table](#7)\n",
    "    >1. [Obtain CAS Table Information](#7a)\n",
    "        - shape, tableInfo, tableDetails\n",
    "    >2. [View CAS Table Column Attributes](#7b)\n",
    "        - dytpes, columnInfo\n",
    "    >3. [View the Distinct Values in a CAS Table](#7c)\n",
    "        - nunique, info, nmiss, distinct, plotting results of the distinct CAS action\n",
    "8. [Summary Statistics on a CAS Table](#8)\n",
    "    >1. [Describe SWAT Method](#8a)\n",
    "    >2. [Summary Action](#8b)\n",
    "    >3. [Doing More with the Summary Action](#8c)\n",
    "9. [Doing More with Python in SAS Viya](#9) (Bonus Material)\n",
    "    >1. [Return Frequency Values for Columns](#9a)\n",
    "    >2. [Execute SQL Queries Using FedSQL](#9b)\n",
    "    >3. [Summary Action with Group By](#9c)\n",
    "    >4. [Execute the SAS DATA Step](#9d)\n",
    "    >5. [Create a New CAS Table Using the CopyTable Action](#9e)\n",
    "10. [Terminate the Connection to CAS](#10)\n",
    " \n",
    "\n",
    "<br> </br>\n",
    "### Documentation References:\n",
    "Below is a consolidated list of documentation:\n",
    "\n",
    "- To view all CAS action sets and actions visit the documentation: [SAS® Viya® Actions and Action Sets by Name and Product](https://go.documentation.sas.com/doc/en/pgmsascdc/v_006/allprodsactions/titlepage.htm?homeOnFail)\n",
    "- For more information about Cloud Analytic Services, visit the documentation: [SAS® Cloud Analytic Services: Fundamentals](https://go.documentation.sas.com/doc/en/pgmsascdc/v_006/casfun/titlepage.htm?homeOnFail)\n",
    "- To view the SWAT API Reference visit: [API Reference](https://sassoftware.github.io/python-swat/api.html)\n",
    "- Visit the documentation [Getting Started with SAS® Viya® for Python](https://documentation.sas.com/doc/en/pgmsascdc/v_006/caspg3/titlepage.htm?homeOnFail) for more information about connecting to CAS.\n",
    "\n",
    "### Blog Series\n",
    "View my blog series on Python Integration to SAS Viya or CAS Action! - a series on fundamentals . I will continue to add to this series. I post new blogs on my LinkedIn feed.\n",
    "- [Getting Started with Python Integration to SAS® Viya® - Index](https://blogs.sas.com/content/sgf/2020/06/19/getting-started-with-python-integration-to-sas-viya-index/)\n",
    "- [CAS Action! - a series on fundamentals](https://blogs.sas.com/content/sgf/2021/08/06/cas-action-a-series-on-fundamentals/)"
   ]
  },
  {
   "cell_type": "markdown",
   "metadata": {},
   "source": [
    "<div class=\"alert alert-info\" role=\"alert\">\n",
    "    \n",
    "<a id='A'>\n",
    "    <h2> Set Up Packages and Environment </h2>\n",
    "</a>\n",
    "   \n",
    "[Back to table of contents](#0)\n",
    "    \n",
    "</div>"
   ]
  },
  {
   "cell_type": "code",
   "execution_count": 1,
   "metadata": {},
   "outputs": [],
   "source": [
    "################################\n",
    "## Data packages              ##\n",
    "################################\n",
    "\n",
    "## The SWAT package is required to connect to the CAS server\n",
    "import swat\n",
    "\n",
    "## Custom package to create the data for the workshop. The createData.py file must reside in the same location as your notebook.\n",
    "from createData import createProducts, createDiscountData\n",
    "\n",
    "## my personal module to connect to CAS\n",
    "from casConnect import connect_to_cas \n",
    "\n",
    "## Native Python packages below\n",
    "import pandas as pd\n",
    "import seaborn as sns\n",
    "from matplotlib import pyplot as plt\n",
    "\n",
    "\n",
    "################################\n",
    "## Set notebook options       ##\n",
    "################################\n",
    "\n",
    "## Ignore warnings\n",
    "import warnings\n",
    "warnings.filterwarnings('ignore')\n",
    "\n",
    "## Expand settings to view all columns\n",
    "pd.set_option(\"display.max_columns\", None)\n",
    "\n",
    "## Options to view the CAS API\n",
    "swat.options.cas.trace_actions = False      # Enabling tracing of actions (Default is False. Will change to true later)\n",
    "swat.options.cas.trace_ui_actions = False   # Display the actions behind “UI” methods (Default is False. Will change to true later)\n",
    "\n",
    "\n",
    "################################\n",
    "## Show Slides in Notebook    ##\n",
    "################################\n",
    "from IPython.display import Image\n",
    "import os\n",
    "\n",
    "## Function will output images from the images folder to show in an output cell\n",
    "def slide(imgName, w=1000):\n",
    "    display(Image(os.getcwd() + '\\\\images\\\\' + imgName, width = w) )"
   ]
  },
  {
   "cell_type": "markdown",
   "metadata": {},
   "source": [
    "<div class=\"alert alert-info\" role=\"alert\">\n",
    "    \n",
    "<a id='1'>\n",
    "    <h2> 1. SAS Viya Overview </h2>\n",
    "</a>\n",
    "   \n",
    "[Back to table of contents](#0)\n",
    "    \n",
    "</div>"
   ]
  },
  {
   "cell_type": "code",
   "execution_count": 2,
   "metadata": {},
   "outputs": [
    {
     "data": {
      "image/jpeg": "[encoded data removed]",
      "text/plain": [
       "<IPython.core.display.Image object>"
      ]
     },
     "metadata": {
      "image/jpeg": {
       "width": 1000
      }
     },
     "output_type": "display_data"
    }
   ],
   "source": [
    "slide(r'\\Python_Viya_Workshop_SAS_Programmers_Week.jpg')"
   ]
  },
  {
   "cell_type": "markdown",
   "metadata": {},
   "source": [
    "### What is SAS Viya\n",
    "\n",
    "SAS Viya extends the SAS Platform, operates in the cloud (as well as in hybrid and on-prem solutions) and is open source-friendly. For better performance while manipulating data and running analytical procedures, SAS Viya can run your code in Cloud Analytic Services (CAS). CAS operates on in-memory data, removing the read/write transfer overhead. Further, it enables everyone in an organization to collaborate and work with data by providing a variety of [products and solutions](https://www.sas.com/en_us/software/viya.html) running in CAS.\n",
    "\n",
    "### Cloud Analytic Services (CAS)\n",
    "SAS Viya processes data and performs analytics using *SAS Cloud Analytic Services*, or *CAS* for short. CAS provides a powerful distributed computing environment designed to store large data sets in memory for fast and efficient processing. It uses scalable, high-performance, multi-threaded algorithms to rapidly perform analytical processing on in-memory data of any size.\n",
    "\n",
    "#### For more information about Cloud Analytic Services, visit the documentation: [SAS® Cloud Analytic Services: Fundamentals](https://go.documentation.sas.com/doc/en/pgmsascdc/v_006/casfun/titlepage.htm?homeOnFail)\n",
    "\n",
    "<br>\n",
    "\n",
    "### SAS Viya is Open\n"
   ]
  },
  {
   "cell_type": "code",
   "execution_count": 3,
   "metadata": {},
   "outputs": [
    {
     "data": {
      "image/jpeg": "[encoded data removed]",
      "text/plain": [
       "<IPython.core.display.Image object>"
      ]
     },
     "metadata": {
      "image/jpeg": {
       "width": 650
      }
     },
     "output_type": "display_data"
    },
    {
     "data": {
      "image/jpeg": "[encoded data removed]",
      "text/plain": [
       "<IPython.core.display.Image object>"
      ]
     },
     "metadata": {
      "image/jpeg": {
       "width": 650
      }
     },
     "output_type": "display_data"
    }
   ],
   "source": [
    "slide(r'\\CASAPI_Methods.jpg', w=650)\n",
    "slide(r'\\CASAPI_Actions.jpg', w=650)"
   ]
  },
  {
   "cell_type": "markdown",
   "metadata": {},
   "source": [
    "SAS Viya is open. Business analysts and data scientists can explore, prepare and manage data to provide insights, create visualizations or analytical models using the SAS programming language or a variety of open source languages like Python, R, Lua, or Java. Because of this, programmers can easily process data in CAS, using a language of their choice.\n",
    "\n",
    "#### More resources for developers on SAS and open source, visit the [SAS Developer Home page](https://developer.sas.com/home.html)"
   ]
  },
  {
   "cell_type": "markdown",
   "metadata": {},
   "source": [
    "<div class=\"alert alert-info\" role=\"alert\">\n",
    "    \n",
    "<a id='2'>\n",
    "    <h2> 2. Connect to the CAS Server in SAS Viya </h2>\n",
    "</a>\n",
    "   \n",
    "[Back to table of contents](#0)\n",
    "    \n",
    "</div>"
   ]
  },
  {
   "cell_type": "markdown",
   "metadata": {},
   "source": [
    "##### To connect to the CAS server you will need:\n",
    "1. the host name, \n",
    "2. the portnumber, \n",
    "3. your user name, and your password.\n",
    "\n",
    "Visit the documentation [Getting Started with SAS® Viya® for Python](https://documentation.sas.com/doc/en/pgmsascdc/v_006/caspg3/titlepage.htm?homeOnFail) for more information about connecting to CAS.\n",
    "\n",
    "**Be aware that connecting to the CAS server can be implemented in various ways, so you might need to see your system administrator about how to make a connection. Please follow company policy regarding authentication.**"
   ]
  },
  {
   "cell_type": "code",
   "execution_count": 4,
   "metadata": {},
   "outputs": [],
   "source": [
    "## My personal connection to CAS. You will have your own.\n",
    "conn = connect_to_cas() \n",
    "\n",
    "## General form: swat.CAS(host, port, username, password)"
   ]
  },
  {
   "cell_type": "markdown",
   "metadata": {},
   "source": [
    "The conn object is our connection to the CAS server."
   ]
  },
  {
   "cell_type": "code",
   "execution_count": 5,
   "metadata": {},
   "outputs": [
    {
     "data": {
      "text/plain": [
       "swat.cas.connection.CAS"
      ]
     },
     "execution_count": 5,
     "metadata": {},
     "output_type": "execute_result"
    }
   ],
   "source": [
    "type(conn)"
   ]
  },
  {
   "cell_type": "code",
   "execution_count": 6,
   "metadata": {},
   "outputs": [
    {
     "name": "stdout",
     "output_type": "stream",
     "text": [
      "CAS('ssemonthly.demo.sas.com', 443, protocol='https', name='py-session-1', session='ab8b4272-bcf1-fb4e-907c-b997f1c1ec9e')\n"
     ]
    }
   ],
   "source": [
    "print(conn)"
   ]
  },
  {
   "cell_type": "markdown",
   "metadata": {},
   "source": [
    "<div class=\"alert alert-info\" role=\"alert\">\n",
    "    \n",
    "<a id='3'>\n",
    "    <h2> 3. Create the Data for the Workshop (required) </h2>\n",
    "</a>\n",
    "   \n",
    "[Back to table of contents](#0)\n",
    "    \n",
    "</div>\n",
    "\n",
    "Using the functions from the **createData** package to create the data for the workshop. \n",
    "\n",
    "- **createProducts**(*connection name*, *number of rows per worker*) - Creates a fake product orders table. The function creates n number of rows PER thread. For example, if you specify the value 100 and have 16 threads, the function will create 1600 rows. Be careful when specifying n.\n",
    "- **createDiscountData**(*connect name*) - Creates a fake discount code lookup table with 7 rows."
   ]
  },
  {
   "cell_type": "code",
   "execution_count": 7,
   "metadata": {},
   "outputs": [
    {
     "name": "stdout",
     "output_type": "stream",
     "text": [
      "The PRODUCTS table has been created with 19,200 rows in the CASUSER caslib\n",
      "NOTE: Cloud Analytic Services saved the file products.csv in caslib CASUSER(Peter.Styliadis@sas.com).\n",
      "NOTE: Cloud Analytic Services dropped table products from caslib CASUSER(Peter.Styliadis@sas.com).\n",
      "NOTE: File products.csv created successfully with 19,200 rows.\n"
     ]
    }
   ],
   "source": [
    "#############################################\n",
    "## WARNING: PLEASE READ PRIOR TO EXECUTING ##\n",
    "#############################################\n",
    "## The function creates n number of rows per available threads. \n",
    "## In this example 8,000,000 x 16 = 128,000,000 rows. This takes about 3-5 minutes.\n",
    "## Please modify the rowsPerThread variable prior to executing based on your environment\n",
    "\n",
    "## Modify the number of rows to create per thread\n",
    "rowsPerThread=100\n",
    "createProducts(conn,rowsPerThread)"
   ]
  },
  {
   "cell_type": "code",
   "execution_count": 8,
   "metadata": {},
   "outputs": [
    {
     "name": "stdout",
     "output_type": "stream",
     "text": [
      "The DISCOUNT_DIM table has been created with 7 rows in the CASUSER caslib\n",
      "NOTE: Cloud Analytic Services saved the file discount_dim.sashdat in caslib CASUSER(Peter.Styliadis@sas.com).\n",
      "NOTE: Cloud Analytic Services dropped table discount_dim from caslib CASUSER(Peter.Styliadis@sas.com).\n",
      "NOTE: File discount_dim.sashdat created successfully with 7 rows.\n"
     ]
    }
   ],
   "source": [
    "## Creates the discount code lookup table\n",
    "createDiscountData(conn)"
   ]
  },
  {
   "cell_type": "markdown",
   "metadata": {},
   "source": [
    "Confirm the **CSV** and **SASHDAT** files are available in the casuser caslib's data source by executing the [fileInfo](https://go.documentation.sas.com/doc/en/pgmsascdc/v_006/caspg/cas-table-fileinfo.htm) CAS action on the CAS server to view all available data sources files in the casuser caslib."
   ]
  },
  {
   "cell_type": "code",
   "execution_count": 9,
   "metadata": {},
   "outputs": [
    {
     "data": {
      "text/html": [
       "<div class=\"cas-results-key\"><b>&#167; FileInfo</b></div>\n",
       "<div class=\"cas-results-body\">\n",
       "<div>\n",
       "<style scoped>\n",
       "    .dataframe tbody tr th:only-of-type {\n",
       "        vertical-align: middle;\n",
       "    }\n",
       "\n",
       "    .dataframe tbody tr th {\n",
       "        vertical-align: top;\n",
       "    }\n",
       "\n",
       "    .dataframe thead th {\n",
       "        text-align: right;\n",
       "    }\n",
       "</style>\n",
       "<table border=\"1\" class=\"dataframe\">\n",
       "  <thead>\n",
       "    <tr style=\"text-align: right;\">\n",
       "      <th title=\"\"></th>\n",
       "      <th title=\"Permission\">Permission</th>\n",
       "      <th title=\"Owner\">Owner</th>\n",
       "      <th title=\"Group\">Group</th>\n",
       "      <th title=\"Name\">Name</th>\n",
       "      <th title=\"Size of File in Bytes\">Size</th>\n",
       "      <th title=\"Encryption Method\">Encryption</th>\n",
       "      <th title=\"Time\">Time</th>\n",
       "      <th title=\"ModTime\">ModTime</th>\n",
       "    </tr>\n",
       "  </thead>\n",
       "  <tbody>\n",
       "    <tr>\n",
       "      <td>0</td>\n",
       "      <td>-rwxr-xr-x</td>\n",
       "      <td>sas</td>\n",
       "      <td>sas</td>\n",
       "      <td>cars.sas7bdat</td>\n",
       "      <td>139264</td>\n",
       "      <td></td>\n",
       "      <td>2022-08-16T21:25:39+00:00</td>\n",
       "      <td>1.976304e+09</td>\n",
       "    </tr>\n",
       "    <tr>\n",
       "      <td>1</td>\n",
       "      <td>-rwxr-xr-x</td>\n",
       "      <td>sas</td>\n",
       "      <td>sas</td>\n",
       "      <td>VTI.sashdat</td>\n",
       "      <td>413080</td>\n",
       "      <td>NONE</td>\n",
       "      <td>2022-10-11T13:40:38+00:00</td>\n",
       "      <td>1.981115e+09</td>\n",
       "    </tr>\n",
       "    <tr>\n",
       "      <td>2</td>\n",
       "      <td>-rwxr-xr-x</td>\n",
       "      <td>sas</td>\n",
       "      <td>sas</td>\n",
       "      <td>hmeq.sashdat</td>\n",
       "      <td>630384</td>\n",
       "      <td>NONE</td>\n",
       "      <td>2022-10-13T17:56:59+00:00</td>\n",
       "      <td>1.981303e+09</td>\n",
       "    </tr>\n",
       "    <tr>\n",
       "      <td>3</td>\n",
       "      <td>-rwxr-xr-x</td>\n",
       "      <td>sas</td>\n",
       "      <td>sas</td>\n",
       "      <td>tsa_claims_raw.csv</td>\n",
       "      <td>34936205</td>\n",
       "      <td></td>\n",
       "      <td>2023-01-16T13:13:53+00:00</td>\n",
       "      <td>1.989494e+09</td>\n",
       "    </tr>\n",
       "    <tr>\n",
       "      <td>4</td>\n",
       "      <td>-rwxr-xr-x</td>\n",
       "      <td>sas</td>\n",
       "      <td>sas</td>\n",
       "      <td>warranty_claims.parquet</td>\n",
       "      <td>4096</td>\n",
       "      <td>NONE</td>\n",
       "      <td>2022-11-17T13:43:26+00:00</td>\n",
       "      <td>1.984312e+09</td>\n",
       "    </tr>\n",
       "    <tr>\n",
       "      <td>5</td>\n",
       "      <td>-rwxr-xr-x</td>\n",
       "      <td>sas</td>\n",
       "      <td>sas</td>\n",
       "      <td>HMEQ_SAS.parquet</td>\n",
       "      <td>4096</td>\n",
       "      <td>NONE</td>\n",
       "      <td>2022-11-17T13:46:56+00:00</td>\n",
       "      <td>1.984312e+09</td>\n",
       "    </tr>\n",
       "    <tr>\n",
       "      <td>6</td>\n",
       "      <td>-rwxr-xr-x</td>\n",
       "      <td>sas</td>\n",
       "      <td>sas</td>\n",
       "      <td>cars.parquet</td>\n",
       "      <td>4096</td>\n",
       "      <td>NONE</td>\n",
       "      <td>2022-11-17T14:19:19+00:00</td>\n",
       "      <td>1.984314e+09</td>\n",
       "    </tr>\n",
       "    <tr>\n",
       "      <td>7</td>\n",
       "      <td>-rwxr-xr-x</td>\n",
       "      <td>sas</td>\n",
       "      <td>sas</td>\n",
       "      <td>WARRANTY_CLAIMS.parquet</td>\n",
       "      <td>4096</td>\n",
       "      <td>NONE</td>\n",
       "      <td>2022-11-17T14:19:19+00:00</td>\n",
       "      <td>1.984314e+09</td>\n",
       "    </tr>\n",
       "    <tr>\n",
       "      <td>8</td>\n",
       "      <td>-rwxr-xr-x</td>\n",
       "      <td>sas</td>\n",
       "      <td>sas</td>\n",
       "      <td>classCopy.sashdat</td>\n",
       "      <td>20904</td>\n",
       "      <td>NONE</td>\n",
       "      <td>2022-12-21T16:59:03+00:00</td>\n",
       "      <td>1.987261e+09</td>\n",
       "    </tr>\n",
       "    <tr>\n",
       "      <td>9</td>\n",
       "      <td>-rwxr-xr-x</td>\n",
       "      <td>sas</td>\n",
       "      <td>sas</td>\n",
       "      <td>cars.sashdat</td>\n",
       "      <td>102936</td>\n",
       "      <td>NONE</td>\n",
       "      <td>2023-01-18T00:46:06+00:00</td>\n",
       "      <td>1.989622e+09</td>\n",
       "    </tr>\n",
       "    <tr>\n",
       "      <td>10</td>\n",
       "      <td>-rwxr-xr-x</td>\n",
       "      <td>sas</td>\n",
       "      <td>sas</td>\n",
       "      <td>cars.csv</td>\n",
       "      <td>34289</td>\n",
       "      <td></td>\n",
       "      <td>2023-01-06T14:29:25+00:00</td>\n",
       "      <td>1.988635e+09</td>\n",
       "    </tr>\n",
       "    <tr>\n",
       "      <td>11</td>\n",
       "      <td>-rwxr-xr-x</td>\n",
       "      <td>sas</td>\n",
       "      <td>sas</td>\n",
       "      <td>cars.txt</td>\n",
       "      <td>34289</td>\n",
       "      <td></td>\n",
       "      <td>2023-01-06T14:29:26+00:00</td>\n",
       "      <td>1.988635e+09</td>\n",
       "    </tr>\n",
       "    <tr>\n",
       "      <td>12</td>\n",
       "      <td>-rwxr-xr-x</td>\n",
       "      <td>sas</td>\n",
       "      <td>sas</td>\n",
       "      <td>ordersDemo.csv</td>\n",
       "      <td>696446</td>\n",
       "      <td></td>\n",
       "      <td>2023-01-18T00:35:57+00:00</td>\n",
       "      <td>1.989621e+09</td>\n",
       "    </tr>\n",
       "    <tr>\n",
       "      <td>13</td>\n",
       "      <td>-rwxr-xr-x</td>\n",
       "      <td>sas</td>\n",
       "      <td>sas</td>\n",
       "      <td>updatedCars.sashdat</td>\n",
       "      <td>87296</td>\n",
       "      <td>NONE</td>\n",
       "      <td>2023-01-18T00:51:19+00:00</td>\n",
       "      <td>1.989622e+09</td>\n",
       "    </tr>\n",
       "    <tr>\n",
       "      <td>14</td>\n",
       "      <td>-rwxr-xr-x</td>\n",
       "      <td>sas</td>\n",
       "      <td>sas</td>\n",
       "      <td>products.csv</td>\n",
       "      <td>492125</td>\n",
       "      <td></td>\n",
       "      <td>2023-01-18T12:49:50+00:00</td>\n",
       "      <td>1.989665e+09</td>\n",
       "    </tr>\n",
       "    <tr>\n",
       "      <td>15</td>\n",
       "      <td>-rwxr-xr-x</td>\n",
       "      <td>sas</td>\n",
       "      <td>sas</td>\n",
       "      <td>discount_dim.sashdat</td>\n",
       "      <td>237952</td>\n",
       "      <td>NONE</td>\n",
       "      <td>2023-01-18T12:49:51+00:00</td>\n",
       "      <td>1.989665e+09</td>\n",
       "    </tr>\n",
       "  </tbody>\n",
       "</table>\n",
       "</div>\n",
       "</div>\n",
       "<div class=\"cas-output-area\"></div>\n",
       "<p class=\"cas-results-performance\"><small><span class=\"cas-elapsed\">elapsed 0.0331s</span> &#183; <span class=\"cas-user\">user 0.00699s</span> &#183; <span class=\"cas-sys\">sys 0.0193s</span> &#183; <span class=\"cas-memory\">mem 1.81MB</span></small></p>"
      ],
      "text/plain": [
       "[FileInfo]\n",
       "\n",
       "     Permission Owner Group                     Name      Size Encryption                       Time       ModTime\n",
       " 0   -rwxr-xr-x   sas   sas            cars.sas7bdat    139264             2022-08-16T21:25:39+00:00  1.976304e+09\n",
       " 1   -rwxr-xr-x   sas   sas              VTI.sashdat    413080       NONE  2022-10-11T13:40:38+00:00  1.981115e+09\n",
       " 2   -rwxr-xr-x   sas   sas             hmeq.sashdat    630384       NONE  2022-10-13T17:56:59+00:00  1.981303e+09\n",
       " 3   -rwxr-xr-x   sas   sas       tsa_claims_raw.csv  34936205             2023-01-16T13:13:53+00:00  1.989494e+09\n",
       " 4   -rwxr-xr-x   sas   sas  warranty_claims.parquet      4096       NONE  2022-11-17T13:43:26+00:00  1.984312e+09\n",
       " 5   -rwxr-xr-x   sas   sas         HMEQ_SAS.parquet      4096       NONE  2022-11-17T13:46:56+00:00  1.984312e+09\n",
       " 6   -rwxr-xr-x   sas   sas             cars.parquet      4096       NONE  2022-11-17T14:19:19+00:00  1.984314e+09\n",
       " 7   -rwxr-xr-x   sas   sas  WARRANTY_CLAIMS.parquet      4096       NONE  2022-11-17T14:19:19+00:00  1.984314e+09\n",
       " 8   -rwxr-xr-x   sas   sas        classCopy.sashdat     20904       NONE  2022-12-21T16:59:03+00:00  1.987261e+09\n",
       " 9   -rwxr-xr-x   sas   sas             cars.sashdat    102936       NONE  2023-01-18T00:46:06+00:00  1.989622e+09\n",
       " 10  -rwxr-xr-x   sas   sas                 cars.csv     34289             2023-01-06T14:29:25+00:00  1.988635e+09\n",
       " 11  -rwxr-xr-x   sas   sas                 cars.txt     34289             2023-01-06T14:29:26+00:00  1.988635e+09\n",
       " 12  -rwxr-xr-x   sas   sas           ordersDemo.csv    696446             2023-01-18T00:35:57+00:00  1.989621e+09\n",
       " 13  -rwxr-xr-x   sas   sas      updatedCars.sashdat     87296       NONE  2023-01-18T00:51:19+00:00  1.989622e+09\n",
       " 14  -rwxr-xr-x   sas   sas             products.csv    492125             2023-01-18T12:49:50+00:00  1.989665e+09\n",
       " 15  -rwxr-xr-x   sas   sas     discount_dim.sashdat    237952       NONE  2023-01-18T12:49:51+00:00  1.989665e+09\n",
       "\n",
       "+ Elapsed: 0.0331s, user: 0.00699s, sys: 0.0193s, mem: 1.81mb"
      ]
     },
     "execution_count": 9,
     "metadata": {},
     "output_type": "execute_result"
    }
   ],
   "source": [
    "conn.fileInfo(caslib=\"casuser\")"
   ]
  },
  {
   "cell_type": "markdown",
   "metadata": {},
   "source": [
    "<div class=\"alert alert-info\" role=\"alert\">\n",
    "    \n",
    "<a id='4'>\n",
    "    <h2> 4. Explore the Available Data on the CAS Server </h2>\n",
    "</a>\n",
    "   \n",
    "[Back to table of contents](#0)\n",
    "    \n",
    "</div>\n",
    "\n",
    "- The CAS server processes data via **CAS actions**.\n",
    "- Think of **action sets** as a *package*, and all the **actions** inside an action set as *methods*.\n",
    "- You can execute CAS actions using the SWAT API. \n",
    "\n",
    "\n",
    "**Documentation**:\n",
    "- To view all CAS action sets and actions visit the documentation: [SAS® Viya® Actions and Action Sets by Name and Product](https://go.documentation.sas.com/doc/en/pgmsascdc/v_006/allprodsactions/titlepage.htm?homeOnFail)\n",
    "- To view the SWAT API Reference visit: [API Reference](https://sassoftware.github.io/python-swat/api.html)\n"
   ]
  },
  {
   "cell_type": "code",
   "execution_count": 10,
   "metadata": {},
   "outputs": [
    {
     "data": {
      "image/jpeg": "[encoded data removed]",
      "text/plain": [
       "<IPython.core.display.Image object>"
      ]
     },
     "metadata": {
      "image/jpeg": {
       "width": 750
      }
     },
     "output_type": "display_data"
    }
   ],
   "source": [
    "slide(r'\\caslibs.jpg', w=750)"
   ]
  },
  {
   "cell_type": "markdown",
   "metadata": {},
   "source": [
    "###  <a id='4a'> 4a. View All Available Caslibs </a>\n",
    "The [caslibInfo](https://go.documentation.sas.com/doc/en/pgmsascdc/v_006/caspg/cas-table-caslibinfo.htm) CAS action shows all available caslibs.\n",
    "\n",
    "[Back to table of contents](#0)"
   ]
  },
  {
   "cell_type": "code",
   "execution_count": null,
   "metadata": {},
   "outputs": [],
   "source": [
    "conn.caslibInfo()\n",
    "\n",
    "## You can specify the action set then action, or just specify the action. \n",
    "## If you just specify the action there are a few actions that have the same name.\n",
    "## two level: action-set.action\n",
    "\n",
    "#conn.table.caslibInfo()"
   ]
  },
  {
   "cell_type": "markdown",
   "metadata": {},
   "source": [
    "###  <a id='4b'> 4b. View Available In-Memory Tables </a>\n",
    "Use the [tableInfo](https://go.documentation.sas.com/doc/en/pgmsascdc/v_006/caspg/cas-table-tableinfo.htm) CAS action to view all available in-memory tables in a specific caslib. Here we will use the casuser caslib.\n",
    "\n",
    "[Back to table of contents](#0)\n",
    "\n"
   ]
  },
  {
   "cell_type": "code",
   "execution_count": 12,
   "metadata": {},
   "outputs": [
    {
     "data": {
      "text/html": [
       "<div class=\"cas-results-key\"><b>&#167; TableInfo</b></div>\n",
       "<div class=\"cas-results-body\">\n",
       "<div>\n",
       "<style scoped>\n",
       "    .dataframe tbody tr th:only-of-type {\n",
       "        vertical-align: middle;\n",
       "    }\n",
       "\n",
       "    .dataframe tbody tr th {\n",
       "        vertical-align: top;\n",
       "    }\n",
       "\n",
       "    .dataframe thead th {\n",
       "        text-align: right;\n",
       "    }\n",
       "</style>\n",
       "<table border=\"1\" class=\"dataframe\">\n",
       "  <thead>\n",
       "    <tr style=\"text-align: right;\">\n",
       "      <th title=\"\"></th>\n",
       "      <th title=\"Name\">Name</th>\n",
       "      <th title=\"Rows\">Rows</th>\n",
       "      <th title=\"Columns\">Columns</th>\n",
       "      <th title=\"Indexed Columns\">IndexedColumns</th>\n",
       "      <th title=\"Encoding\">Encoding</th>\n",
       "      <th title=\"Created\">CreateTimeFormatted</th>\n",
       "      <th title=\"Last Modified\">ModTimeFormatted</th>\n",
       "      <th title=\"Last Accessed\">AccessTimeFormatted</th>\n",
       "      <th title=\"Character Set\">JavaCharSet</th>\n",
       "      <th title=\"CreateTime\">CreateTime</th>\n",
       "      <th title=\"ModTime\">ModTime</th>\n",
       "      <th title=\"AccessTime\">AccessTime</th>\n",
       "      <th title=\"Global\">Global</th>\n",
       "      <th title=\"Repeated\">Repeated</th>\n",
       "      <th title=\"View\">View</th>\n",
       "      <th title=\"MultiPart\">MultiPart</th>\n",
       "      <th title=\"Loaded Source\">SourceName</th>\n",
       "      <th title=\"Source Caslib\">SourceCaslib</th>\n",
       "      <th title=\"Compressed\">Compressed</th>\n",
       "      <th title=\"Table Creator\">Creator</th>\n",
       "      <th title=\"Last Table Modifier\">Modifier</th>\n",
       "      <th title=\"Source Modified\">SourceModTimeFormatted</th>\n",
       "      <th title=\"SourceModTime\">SourceModTime</th>\n",
       "    </tr>\n",
       "  </thead>\n",
       "  <tbody>\n",
       "    <tr>\n",
       "      <td>0</td>\n",
       "      <td>CARS_UPDATE</td>\n",
       "      <td>428</td>\n",
       "      <td>16</td>\n",
       "      <td>0</td>\n",
       "      <td>utf-8</td>\n",
       "      <td>2023-01-18T00:51:39+00:00</td>\n",
       "      <td>2023-01-18T00:51:46+00:00</td>\n",
       "      <td>2023-01-18T00:51:46+00:00</td>\n",
       "      <td>UTF8</td>\n",
       "      <td>1.989622e+09</td>\n",
       "      <td>1.989622e+09</td>\n",
       "      <td>1.989622e+09</td>\n",
       "      <td>1</td>\n",
       "      <td>0</td>\n",
       "      <td>0</td>\n",
       "      <td>0</td>\n",
       "      <td></td>\n",
       "      <td></td>\n",
       "      <td>0</td>\n",
       "      <td>Peter.Styliadis@sas.com</td>\n",
       "      <td></td>\n",
       "      <td></td>\n",
       "      <td>NaN</td>\n",
       "    </tr>\n",
       "    <tr>\n",
       "      <td>1</td>\n",
       "      <td>DISCOUNTORDERS_COPYTABLE</td>\n",
       "      <td>3877</td>\n",
       "      <td>4</td>\n",
       "      <td>0</td>\n",
       "      <td>utf-8</td>\n",
       "      <td>2023-01-18T12:49:32+00:00</td>\n",
       "      <td>2023-01-18T12:49:32+00:00</td>\n",
       "      <td>2023-01-18T12:49:32+00:00</td>\n",
       "      <td>UTF8</td>\n",
       "      <td>1.989665e+09</td>\n",
       "      <td>1.989665e+09</td>\n",
       "      <td>1.989665e+09</td>\n",
       "      <td>1</td>\n",
       "      <td>0</td>\n",
       "      <td>0</td>\n",
       "      <td>0</td>\n",
       "      <td></td>\n",
       "      <td></td>\n",
       "      <td>0</td>\n",
       "      <td>Peter.Styliadis@sas.com</td>\n",
       "      <td></td>\n",
       "      <td></td>\n",
       "      <td>NaN</td>\n",
       "    </tr>\n",
       "  </tbody>\n",
       "</table>\n",
       "</div>\n",
       "</div>\n",
       "<div class=\"cas-output-area\"></div>\n",
       "<p class=\"cas-results-performance\"><small><span class=\"cas-elapsed\">elapsed 0.012s</span> &#183; <span class=\"cas-user\">user 0.00897s</span> &#183; <span class=\"cas-sys\">sys 0.0106s</span> &#183; <span class=\"cas-memory\">mem 1.89MB</span></small></p>"
      ],
      "text/plain": [
       "[TableInfo]\n",
       "\n",
       "                        Name  Rows  Columns  IndexedColumns Encoding        CreateTimeFormatted           ModTimeFormatted        AccessTimeFormatted JavaCharSet    CreateTime       ModTime    AccessTime  Global  Repeated  View  MultiPart SourceName SourceCaslib  Compressed                  Creator Modifier SourceModTimeFormatted  SourceModTime\n",
       " 0               CARS_UPDATE   428       16               0    utf-8  2023-01-18T00:51:39+00:00  2023-01-18T00:51:46+00:00  2023-01-18T00:51:46+00:00        UTF8  1.989622e+09  1.989622e+09  1.989622e+09       1         0     0          0                                   0  Peter.Styliadis@sas.com                                            NaN\n",
       " 1  DISCOUNTORDERS_COPYTABLE  3877        4               0    utf-8  2023-01-18T12:49:32+00:00  2023-01-18T12:49:32+00:00  2023-01-18T12:49:32+00:00        UTF8  1.989665e+09  1.989665e+09  1.989665e+09       1         0     0          0                                   0  Peter.Styliadis@sas.com                                            NaN\n",
       "\n",
       "+ Elapsed: 0.012s, user: 0.00897s, sys: 0.0106s, mem: 1.89mb"
      ]
     },
     "execution_count": 12,
     "metadata": {},
     "output_type": "execute_result"
    }
   ],
   "source": [
    "conn.tableInfo(caslib=\"casuser\")"
   ]
  },
  {
   "cell_type": "markdown",
   "metadata": {},
   "source": [
    "<div class=\"alert alert-block alert-success\">\n",
    "    <b>SUMMARY: </b>Notice the necessary tables <b>products</b> and <b>discountCodes</b> are not currently available in-memory in the casuser caslib. When working with data in CAS:\n",
    "    <li>Data must be loaded into CAS memory to be processed. As of now we have not done that yet. Currently the data is saved as a CSV and SASHDAT file in the data source portion of the casuser caslib..</li>\n",
    "    <li>When working with caslibs, the casuser caslib is only available to the specific user. You must save to other caslibs to share files with other users.</li>\n",
    "    <li>Lastly, to share a CAS table with other users and applications you must promote the table to global scope. Visit <a href=\"https://documentation.sas.com/doc/en/pgmsascdc/v_015/casfun/n09ssmi0ko8uyfn1022ezo2hv0pm.htm#p0mbflp8ta6iq3n1aswoae5s5g76\">Session and Global Scope</a> for more information.\n",
    "</div>"
   ]
  },
  {
   "cell_type": "markdown",
   "metadata": {},
   "source": [
    "###  <a id='4c'> 4c. View Available Data Source Files </a>\n",
    "Use the [fileInfo](https://go.documentation.sas.com/doc/en/pgmsascdc/v_015/caspg/cas-table-fileinfo.htm) action to view all the data source files that are available.\n",
    "\n",
    "[Back to table of contents](#0)"
   ]
  },
  {
   "cell_type": "code",
   "execution_count": 13,
   "metadata": {},
   "outputs": [
    {
     "data": {
      "text/html": [
       "<div class=\"cas-results-key\"><b>&#167; FileInfo</b></div>\n",
       "<div class=\"cas-results-body\">\n",
       "<div>\n",
       "<style scoped>\n",
       "    .dataframe tbody tr th:only-of-type {\n",
       "        vertical-align: middle;\n",
       "    }\n",
       "\n",
       "    .dataframe tbody tr th {\n",
       "        vertical-align: top;\n",
       "    }\n",
       "\n",
       "    .dataframe thead th {\n",
       "        text-align: right;\n",
       "    }\n",
       "</style>\n",
       "<table border=\"1\" class=\"dataframe\">\n",
       "  <thead>\n",
       "    <tr style=\"text-align: right;\">\n",
       "      <th title=\"\"></th>\n",
       "      <th title=\"Permission\">Permission</th>\n",
       "      <th title=\"Owner\">Owner</th>\n",
       "      <th title=\"Group\">Group</th>\n",
       "      <th title=\"Name\">Name</th>\n",
       "      <th title=\"Size of File in Bytes\">Size</th>\n",
       "      <th title=\"Encryption Method\">Encryption</th>\n",
       "      <th title=\"Time\">Time</th>\n",
       "      <th title=\"ModTime\">ModTime</th>\n",
       "    </tr>\n",
       "  </thead>\n",
       "  <tbody>\n",
       "    <tr>\n",
       "      <td>0</td>\n",
       "      <td>-rwxr-xr-x</td>\n",
       "      <td>sas</td>\n",
       "      <td>sas</td>\n",
       "      <td>cars.sas7bdat</td>\n",
       "      <td>139264</td>\n",
       "      <td></td>\n",
       "      <td>2022-08-16T21:25:39+00:00</td>\n",
       "      <td>1.976304e+09</td>\n",
       "    </tr>\n",
       "    <tr>\n",
       "      <td>1</td>\n",
       "      <td>-rwxr-xr-x</td>\n",
       "      <td>sas</td>\n",
       "      <td>sas</td>\n",
       "      <td>VTI.sashdat</td>\n",
       "      <td>413080</td>\n",
       "      <td>NONE</td>\n",
       "      <td>2022-10-11T13:40:38+00:00</td>\n",
       "      <td>1.981115e+09</td>\n",
       "    </tr>\n",
       "    <tr>\n",
       "      <td>2</td>\n",
       "      <td>-rwxr-xr-x</td>\n",
       "      <td>sas</td>\n",
       "      <td>sas</td>\n",
       "      <td>hmeq.sashdat</td>\n",
       "      <td>630384</td>\n",
       "      <td>NONE</td>\n",
       "      <td>2022-10-13T17:56:59+00:00</td>\n",
       "      <td>1.981303e+09</td>\n",
       "    </tr>\n",
       "    <tr>\n",
       "      <td>3</td>\n",
       "      <td>-rwxr-xr-x</td>\n",
       "      <td>sas</td>\n",
       "      <td>sas</td>\n",
       "      <td>tsa_claims_raw.csv</td>\n",
       "      <td>34936205</td>\n",
       "      <td></td>\n",
       "      <td>2023-01-16T13:13:53+00:00</td>\n",
       "      <td>1.989494e+09</td>\n",
       "    </tr>\n",
       "    <tr>\n",
       "      <td>4</td>\n",
       "      <td>-rwxr-xr-x</td>\n",
       "      <td>sas</td>\n",
       "      <td>sas</td>\n",
       "      <td>warranty_claims.parquet</td>\n",
       "      <td>4096</td>\n",
       "      <td>NONE</td>\n",
       "      <td>2022-11-17T13:43:26+00:00</td>\n",
       "      <td>1.984312e+09</td>\n",
       "    </tr>\n",
       "    <tr>\n",
       "      <td>5</td>\n",
       "      <td>-rwxr-xr-x</td>\n",
       "      <td>sas</td>\n",
       "      <td>sas</td>\n",
       "      <td>HMEQ_SAS.parquet</td>\n",
       "      <td>4096</td>\n",
       "      <td>NONE</td>\n",
       "      <td>2022-11-17T13:46:56+00:00</td>\n",
       "      <td>1.984312e+09</td>\n",
       "    </tr>\n",
       "    <tr>\n",
       "      <td>6</td>\n",
       "      <td>-rwxr-xr-x</td>\n",
       "      <td>sas</td>\n",
       "      <td>sas</td>\n",
       "      <td>cars.parquet</td>\n",
       "      <td>4096</td>\n",
       "      <td>NONE</td>\n",
       "      <td>2022-11-17T14:19:19+00:00</td>\n",
       "      <td>1.984314e+09</td>\n",
       "    </tr>\n",
       "    <tr>\n",
       "      <td>7</td>\n",
       "      <td>-rwxr-xr-x</td>\n",
       "      <td>sas</td>\n",
       "      <td>sas</td>\n",
       "      <td>WARRANTY_CLAIMS.parquet</td>\n",
       "      <td>4096</td>\n",
       "      <td>NONE</td>\n",
       "      <td>2022-11-17T14:19:19+00:00</td>\n",
       "      <td>1.984314e+09</td>\n",
       "    </tr>\n",
       "    <tr>\n",
       "      <td>8</td>\n",
       "      <td>-rwxr-xr-x</td>\n",
       "      <td>sas</td>\n",
       "      <td>sas</td>\n",
       "      <td>classCopy.sashdat</td>\n",
       "      <td>20904</td>\n",
       "      <td>NONE</td>\n",
       "      <td>2022-12-21T16:59:03+00:00</td>\n",
       "      <td>1.987261e+09</td>\n",
       "    </tr>\n",
       "    <tr>\n",
       "      <td>9</td>\n",
       "      <td>-rwxr-xr-x</td>\n",
       "      <td>sas</td>\n",
       "      <td>sas</td>\n",
       "      <td>cars.sashdat</td>\n",
       "      <td>102936</td>\n",
       "      <td>NONE</td>\n",
       "      <td>2023-01-18T00:46:06+00:00</td>\n",
       "      <td>1.989622e+09</td>\n",
       "    </tr>\n",
       "    <tr>\n",
       "      <td>10</td>\n",
       "      <td>-rwxr-xr-x</td>\n",
       "      <td>sas</td>\n",
       "      <td>sas</td>\n",
       "      <td>cars.csv</td>\n",
       "      <td>34289</td>\n",
       "      <td></td>\n",
       "      <td>2023-01-06T14:29:25+00:00</td>\n",
       "      <td>1.988635e+09</td>\n",
       "    </tr>\n",
       "    <tr>\n",
       "      <td>11</td>\n",
       "      <td>-rwxr-xr-x</td>\n",
       "      <td>sas</td>\n",
       "      <td>sas</td>\n",
       "      <td>cars.txt</td>\n",
       "      <td>34289</td>\n",
       "      <td></td>\n",
       "      <td>2023-01-06T14:29:26+00:00</td>\n",
       "      <td>1.988635e+09</td>\n",
       "    </tr>\n",
       "    <tr>\n",
       "      <td>12</td>\n",
       "      <td>-rwxr-xr-x</td>\n",
       "      <td>sas</td>\n",
       "      <td>sas</td>\n",
       "      <td>ordersDemo.csv</td>\n",
       "      <td>696446</td>\n",
       "      <td></td>\n",
       "      <td>2023-01-18T00:35:57+00:00</td>\n",
       "      <td>1.989621e+09</td>\n",
       "    </tr>\n",
       "    <tr>\n",
       "      <td>13</td>\n",
       "      <td>-rwxr-xr-x</td>\n",
       "      <td>sas</td>\n",
       "      <td>sas</td>\n",
       "      <td>updatedCars.sashdat</td>\n",
       "      <td>87296</td>\n",
       "      <td>NONE</td>\n",
       "      <td>2023-01-18T00:51:19+00:00</td>\n",
       "      <td>1.989622e+09</td>\n",
       "    </tr>\n",
       "    <tr>\n",
       "      <td>14</td>\n",
       "      <td>-rwxr-xr-x</td>\n",
       "      <td>sas</td>\n",
       "      <td>sas</td>\n",
       "      <td>products.csv</td>\n",
       "      <td>492125</td>\n",
       "      <td></td>\n",
       "      <td>2023-01-18T12:49:50+00:00</td>\n",
       "      <td>1.989665e+09</td>\n",
       "    </tr>\n",
       "    <tr>\n",
       "      <td>15</td>\n",
       "      <td>-rwxr-xr-x</td>\n",
       "      <td>sas</td>\n",
       "      <td>sas</td>\n",
       "      <td>discount_dim.sashdat</td>\n",
       "      <td>237952</td>\n",
       "      <td>NONE</td>\n",
       "      <td>2023-01-18T12:49:51+00:00</td>\n",
       "      <td>1.989665e+09</td>\n",
       "    </tr>\n",
       "  </tbody>\n",
       "</table>\n",
       "</div>\n",
       "</div>\n",
       "<div class=\"cas-output-area\"></div>\n",
       "<p class=\"cas-results-performance\"><small><span class=\"cas-elapsed\">elapsed 0.0264s</span> &#183; <span class=\"cas-user\">user 0.00579s</span> &#183; <span class=\"cas-sys\">sys 0.017s</span> &#183; <span class=\"cas-memory\">mem 1.81MB</span></small></p>"
      ],
      "text/plain": [
       "[FileInfo]\n",
       "\n",
       "     Permission Owner Group                     Name      Size Encryption                       Time       ModTime\n",
       " 0   -rwxr-xr-x   sas   sas            cars.sas7bdat    139264             2022-08-16T21:25:39+00:00  1.976304e+09\n",
       " 1   -rwxr-xr-x   sas   sas              VTI.sashdat    413080       NONE  2022-10-11T13:40:38+00:00  1.981115e+09\n",
       " 2   -rwxr-xr-x   sas   sas             hmeq.sashdat    630384       NONE  2022-10-13T17:56:59+00:00  1.981303e+09\n",
       " 3   -rwxr-xr-x   sas   sas       tsa_claims_raw.csv  34936205             2023-01-16T13:13:53+00:00  1.989494e+09\n",
       " 4   -rwxr-xr-x   sas   sas  warranty_claims.parquet      4096       NONE  2022-11-17T13:43:26+00:00  1.984312e+09\n",
       " 5   -rwxr-xr-x   sas   sas         HMEQ_SAS.parquet      4096       NONE  2022-11-17T13:46:56+00:00  1.984312e+09\n",
       " 6   -rwxr-xr-x   sas   sas             cars.parquet      4096       NONE  2022-11-17T14:19:19+00:00  1.984314e+09\n",
       " 7   -rwxr-xr-x   sas   sas  WARRANTY_CLAIMS.parquet      4096       NONE  2022-11-17T14:19:19+00:00  1.984314e+09\n",
       " 8   -rwxr-xr-x   sas   sas        classCopy.sashdat     20904       NONE  2022-12-21T16:59:03+00:00  1.987261e+09\n",
       " 9   -rwxr-xr-x   sas   sas             cars.sashdat    102936       NONE  2023-01-18T00:46:06+00:00  1.989622e+09\n",
       " 10  -rwxr-xr-x   sas   sas                 cars.csv     34289             2023-01-06T14:29:25+00:00  1.988635e+09\n",
       " 11  -rwxr-xr-x   sas   sas                 cars.txt     34289             2023-01-06T14:29:26+00:00  1.988635e+09\n",
       " 12  -rwxr-xr-x   sas   sas           ordersDemo.csv    696446             2023-01-18T00:35:57+00:00  1.989621e+09\n",
       " 13  -rwxr-xr-x   sas   sas      updatedCars.sashdat     87296       NONE  2023-01-18T00:51:19+00:00  1.989622e+09\n",
       " 14  -rwxr-xr-x   sas   sas             products.csv    492125             2023-01-18T12:49:50+00:00  1.989665e+09\n",
       " 15  -rwxr-xr-x   sas   sas     discount_dim.sashdat    237952       NONE  2023-01-18T12:49:51+00:00  1.989665e+09\n",
       "\n",
       "+ Elapsed: 0.0264s, user: 0.00579s, sys: 0.017s, mem: 1.81mb"
      ]
     },
     "execution_count": 13,
     "metadata": {},
     "output_type": "execute_result"
    }
   ],
   "source": [
    "conn.fileInfo(caslib=\"casuser\")"
   ]
  },
  {
   "cell_type": "markdown",
   "metadata": {},
   "source": [
    "<div class=\"alert alert-info\" role=\"alert\">\n",
    "    \n",
    "<a id='5'>\n",
    "    <h2> 5. Load Data into CAS Memory for Processing </h2>\n",
    "</a>\n",
    "   \n",
    "[Back to table of contents](#0)\n",
    "    \n",
    "</div>\n",
    "\n",
    "\n",
    "There are two methods that can be used to load **server-side** data into CAS. Server-side files are files that are located in a caslib and available to the CAS server:\n",
    "- [loadtable](https://go.documentation.sas.com/doc/en/pgmsascdc/v_006/caspg/cas-table-loadtable.htm) - (*CAS Action*) Loads a table into CAS and returns a information about the loaded table.\n",
    "- [load_path](https://sassoftware.github.io/python-swat/generated/swat.cas.connection.CAS.load_path.html#swat.CAS.load_path) - (*Convenience method*) Similar to **loadtable**.  **load_path** executes the loadTable action behind the scenes and returns a reference to that CAS table in one step. \n",
    "\n",
    "You can modify which rows and columns you wan to load into memory using a variety of parameters. See the documentation for more information or use the help function and the action/method.\n"
   ]
  },
  {
   "cell_type": "code",
   "execution_count": null,
   "metadata": {},
   "outputs": [],
   "source": [
    "help(conn.loadTable)"
   ]
  },
  {
   "cell_type": "markdown",
   "metadata": {},
   "source": [
    "###  <a id='5a'> 5a. Load a Single Data Soucre File Into Memory </a>\n",
    "Here i'll use the **loadTable** CAS action since it works similarly in all available languages through the CAS API.\n",
    "\n",
    "[Back to table of contents](#0)"
   ]
  },
  {
   "cell_type": "code",
   "execution_count": 15,
   "metadata": {},
   "outputs": [
    {
     "data": {
      "text/html": [
       "<div class=\"cas-results-key\"><b>&#167; FileInfo</b></div>\n",
       "<div class=\"cas-results-body\">\n",
       "<div>\n",
       "<style scoped>\n",
       "    .dataframe tbody tr th:only-of-type {\n",
       "        vertical-align: middle;\n",
       "    }\n",
       "\n",
       "    .dataframe tbody tr th {\n",
       "        vertical-align: top;\n",
       "    }\n",
       "\n",
       "    .dataframe thead th {\n",
       "        text-align: right;\n",
       "    }\n",
       "</style>\n",
       "<table border=\"1\" class=\"dataframe\">\n",
       "  <thead>\n",
       "    <tr style=\"text-align: right;\">\n",
       "      <th title=\"\"></th>\n",
       "      <th title=\"Permission\">Permission</th>\n",
       "      <th title=\"Owner\">Owner</th>\n",
       "      <th title=\"Group\">Group</th>\n",
       "      <th title=\"Name\">Name</th>\n",
       "      <th title=\"Size of File in Bytes\">Size</th>\n",
       "      <th title=\"Encryption Method\">Encryption</th>\n",
       "      <th title=\"Time\">Time</th>\n",
       "      <th title=\"ModTime\">ModTime</th>\n",
       "    </tr>\n",
       "  </thead>\n",
       "  <tbody>\n",
       "    <tr>\n",
       "      <td>0</td>\n",
       "      <td>-rwxr-xr-x</td>\n",
       "      <td>sas</td>\n",
       "      <td>sas</td>\n",
       "      <td>cars.sas7bdat</td>\n",
       "      <td>139264</td>\n",
       "      <td></td>\n",
       "      <td>2022-08-16T21:25:39+00:00</td>\n",
       "      <td>1.976304e+09</td>\n",
       "    </tr>\n",
       "    <tr>\n",
       "      <td>1</td>\n",
       "      <td>-rwxr-xr-x</td>\n",
       "      <td>sas</td>\n",
       "      <td>sas</td>\n",
       "      <td>VTI.sashdat</td>\n",
       "      <td>413080</td>\n",
       "      <td>NONE</td>\n",
       "      <td>2022-10-11T13:40:38+00:00</td>\n",
       "      <td>1.981115e+09</td>\n",
       "    </tr>\n",
       "    <tr>\n",
       "      <td>2</td>\n",
       "      <td>-rwxr-xr-x</td>\n",
       "      <td>sas</td>\n",
       "      <td>sas</td>\n",
       "      <td>hmeq.sashdat</td>\n",
       "      <td>630384</td>\n",
       "      <td>NONE</td>\n",
       "      <td>2022-10-13T17:56:59+00:00</td>\n",
       "      <td>1.981303e+09</td>\n",
       "    </tr>\n",
       "    <tr>\n",
       "      <td>3</td>\n",
       "      <td>-rwxr-xr-x</td>\n",
       "      <td>sas</td>\n",
       "      <td>sas</td>\n",
       "      <td>tsa_claims_raw.csv</td>\n",
       "      <td>34936205</td>\n",
       "      <td></td>\n",
       "      <td>2023-01-16T13:13:53+00:00</td>\n",
       "      <td>1.989494e+09</td>\n",
       "    </tr>\n",
       "    <tr>\n",
       "      <td>4</td>\n",
       "      <td>-rwxr-xr-x</td>\n",
       "      <td>sas</td>\n",
       "      <td>sas</td>\n",
       "      <td>warranty_claims.parquet</td>\n",
       "      <td>4096</td>\n",
       "      <td>NONE</td>\n",
       "      <td>2022-11-17T13:43:26+00:00</td>\n",
       "      <td>1.984312e+09</td>\n",
       "    </tr>\n",
       "    <tr>\n",
       "      <td>5</td>\n",
       "      <td>-rwxr-xr-x</td>\n",
       "      <td>sas</td>\n",
       "      <td>sas</td>\n",
       "      <td>HMEQ_SAS.parquet</td>\n",
       "      <td>4096</td>\n",
       "      <td>NONE</td>\n",
       "      <td>2022-11-17T13:46:56+00:00</td>\n",
       "      <td>1.984312e+09</td>\n",
       "    </tr>\n",
       "    <tr>\n",
       "      <td>6</td>\n",
       "      <td>-rwxr-xr-x</td>\n",
       "      <td>sas</td>\n",
       "      <td>sas</td>\n",
       "      <td>cars.parquet</td>\n",
       "      <td>4096</td>\n",
       "      <td>NONE</td>\n",
       "      <td>2022-11-17T14:19:19+00:00</td>\n",
       "      <td>1.984314e+09</td>\n",
       "    </tr>\n",
       "    <tr>\n",
       "      <td>7</td>\n",
       "      <td>-rwxr-xr-x</td>\n",
       "      <td>sas</td>\n",
       "      <td>sas</td>\n",
       "      <td>WARRANTY_CLAIMS.parquet</td>\n",
       "      <td>4096</td>\n",
       "      <td>NONE</td>\n",
       "      <td>2022-11-17T14:19:19+00:00</td>\n",
       "      <td>1.984314e+09</td>\n",
       "    </tr>\n",
       "    <tr>\n",
       "      <td>8</td>\n",
       "      <td>-rwxr-xr-x</td>\n",
       "      <td>sas</td>\n",
       "      <td>sas</td>\n",
       "      <td>classCopy.sashdat</td>\n",
       "      <td>20904</td>\n",
       "      <td>NONE</td>\n",
       "      <td>2022-12-21T16:59:03+00:00</td>\n",
       "      <td>1.987261e+09</td>\n",
       "    </tr>\n",
       "    <tr>\n",
       "      <td>9</td>\n",
       "      <td>-rwxr-xr-x</td>\n",
       "      <td>sas</td>\n",
       "      <td>sas</td>\n",
       "      <td>cars.sashdat</td>\n",
       "      <td>102936</td>\n",
       "      <td>NONE</td>\n",
       "      <td>2023-01-18T00:46:06+00:00</td>\n",
       "      <td>1.989622e+09</td>\n",
       "    </tr>\n",
       "    <tr>\n",
       "      <td>10</td>\n",
       "      <td>-rwxr-xr-x</td>\n",
       "      <td>sas</td>\n",
       "      <td>sas</td>\n",
       "      <td>cars.csv</td>\n",
       "      <td>34289</td>\n",
       "      <td></td>\n",
       "      <td>2023-01-06T14:29:25+00:00</td>\n",
       "      <td>1.988635e+09</td>\n",
       "    </tr>\n",
       "    <tr>\n",
       "      <td>11</td>\n",
       "      <td>-rwxr-xr-x</td>\n",
       "      <td>sas</td>\n",
       "      <td>sas</td>\n",
       "      <td>cars.txt</td>\n",
       "      <td>34289</td>\n",
       "      <td></td>\n",
       "      <td>2023-01-06T14:29:26+00:00</td>\n",
       "      <td>1.988635e+09</td>\n",
       "    </tr>\n",
       "    <tr>\n",
       "      <td>12</td>\n",
       "      <td>-rwxr-xr-x</td>\n",
       "      <td>sas</td>\n",
       "      <td>sas</td>\n",
       "      <td>ordersDemo.csv</td>\n",
       "      <td>696446</td>\n",
       "      <td></td>\n",
       "      <td>2023-01-18T00:35:57+00:00</td>\n",
       "      <td>1.989621e+09</td>\n",
       "    </tr>\n",
       "    <tr>\n",
       "      <td>13</td>\n",
       "      <td>-rwxr-xr-x</td>\n",
       "      <td>sas</td>\n",
       "      <td>sas</td>\n",
       "      <td>updatedCars.sashdat</td>\n",
       "      <td>87296</td>\n",
       "      <td>NONE</td>\n",
       "      <td>2023-01-18T00:51:19+00:00</td>\n",
       "      <td>1.989622e+09</td>\n",
       "    </tr>\n",
       "    <tr>\n",
       "      <td>14</td>\n",
       "      <td>-rwxr-xr-x</td>\n",
       "      <td>sas</td>\n",
       "      <td>sas</td>\n",
       "      <td>products.csv</td>\n",
       "      <td>492125</td>\n",
       "      <td></td>\n",
       "      <td>2023-01-18T12:49:50+00:00</td>\n",
       "      <td>1.989665e+09</td>\n",
       "    </tr>\n",
       "    <tr>\n",
       "      <td>15</td>\n",
       "      <td>-rwxr-xr-x</td>\n",
       "      <td>sas</td>\n",
       "      <td>sas</td>\n",
       "      <td>discount_dim.sashdat</td>\n",
       "      <td>237952</td>\n",
       "      <td>NONE</td>\n",
       "      <td>2023-01-18T12:49:51+00:00</td>\n",
       "      <td>1.989665e+09</td>\n",
       "    </tr>\n",
       "  </tbody>\n",
       "</table>\n",
       "</div>\n",
       "</div>\n",
       "<div class=\"cas-output-area\"></div>\n",
       "<p class=\"cas-results-performance\"><small><span class=\"cas-elapsed\">elapsed 0.0265s</span> &#183; <span class=\"cas-user\">user 0.011s</span> &#183; <span class=\"cas-sys\">sys 0.0148s</span> &#183; <span class=\"cas-memory\">mem 1.81MB</span></small></p>"
      ],
      "text/plain": [
       "[FileInfo]\n",
       "\n",
       "     Permission Owner Group                     Name      Size Encryption                       Time       ModTime\n",
       " 0   -rwxr-xr-x   sas   sas            cars.sas7bdat    139264             2022-08-16T21:25:39+00:00  1.976304e+09\n",
       " 1   -rwxr-xr-x   sas   sas              VTI.sashdat    413080       NONE  2022-10-11T13:40:38+00:00  1.981115e+09\n",
       " 2   -rwxr-xr-x   sas   sas             hmeq.sashdat    630384       NONE  2022-10-13T17:56:59+00:00  1.981303e+09\n",
       " 3   -rwxr-xr-x   sas   sas       tsa_claims_raw.csv  34936205             2023-01-16T13:13:53+00:00  1.989494e+09\n",
       " 4   -rwxr-xr-x   sas   sas  warranty_claims.parquet      4096       NONE  2022-11-17T13:43:26+00:00  1.984312e+09\n",
       " 5   -rwxr-xr-x   sas   sas         HMEQ_SAS.parquet      4096       NONE  2022-11-17T13:46:56+00:00  1.984312e+09\n",
       " 6   -rwxr-xr-x   sas   sas             cars.parquet      4096       NONE  2022-11-17T14:19:19+00:00  1.984314e+09\n",
       " 7   -rwxr-xr-x   sas   sas  WARRANTY_CLAIMS.parquet      4096       NONE  2022-11-17T14:19:19+00:00  1.984314e+09\n",
       " 8   -rwxr-xr-x   sas   sas        classCopy.sashdat     20904       NONE  2022-12-21T16:59:03+00:00  1.987261e+09\n",
       " 9   -rwxr-xr-x   sas   sas             cars.sashdat    102936       NONE  2023-01-18T00:46:06+00:00  1.989622e+09\n",
       " 10  -rwxr-xr-x   sas   sas                 cars.csv     34289             2023-01-06T14:29:25+00:00  1.988635e+09\n",
       " 11  -rwxr-xr-x   sas   sas                 cars.txt     34289             2023-01-06T14:29:26+00:00  1.988635e+09\n",
       " 12  -rwxr-xr-x   sas   sas           ordersDemo.csv    696446             2023-01-18T00:35:57+00:00  1.989621e+09\n",
       " 13  -rwxr-xr-x   sas   sas      updatedCars.sashdat     87296       NONE  2023-01-18T00:51:19+00:00  1.989622e+09\n",
       " 14  -rwxr-xr-x   sas   sas             products.csv    492125             2023-01-18T12:49:50+00:00  1.989665e+09\n",
       " 15  -rwxr-xr-x   sas   sas     discount_dim.sashdat    237952       NONE  2023-01-18T12:49:51+00:00  1.989665e+09\n",
       "\n",
       "+ Elapsed: 0.0265s, user: 0.011s, sys: 0.0148s, mem: 1.81mb"
      ]
     },
     "execution_count": 15,
     "metadata": {},
     "output_type": "execute_result"
    }
   ],
   "source": [
    "conn.fileInfo(caslib='casuser')"
   ]
  },
  {
   "cell_type": "markdown",
   "metadata": {},
   "source": [
    "Load the **products.csv** file into memory. The CSV file contains 128 million rows."
   ]
  },
  {
   "cell_type": "code",
   "execution_count": 16,
   "metadata": {},
   "outputs": [
    {
     "name": "stdout",
     "output_type": "stream",
     "text": [
      "NOTE: Cloud Analytic Services made the file products.csv available as table PRODUCTS in caslib CASUSER(Peter.Styliadis@sas.com).\n"
     ]
    },
    {
     "data": {
      "text/html": [
       "<div class=\"cas-results-key\"><b>&#167; caslib</b></div>\n",
       "<div class=\"cas-results-body\">\n",
       "<div>CASUSER(Peter.Styliadis@sas.com)</div>\n",
       "</div>\n",
       "<div class=\"cas-results-key\"><hr/><b>&#167; tableName</b></div>\n",
       "<div class=\"cas-results-body\">\n",
       "<div>PRODUCTS</div>\n",
       "</div>\n",
       "<div class=\"cas-results-key\"><hr/><b>&#167; casTable</b></div>\n",
       "<div class=\"cas-results-body\">\n",
       "<div>CASTable('PRODUCTS', caslib='CASUSER(Peter.Styliadis@sas.com)')</div>\n",
       "</div>\n",
       "<div class=\"cas-output-area\"></div>\n",
       "<p class=\"cas-results-performance\"><small><span class=\"cas-elapsed\">elapsed 0.0581s</span> &#183; <span class=\"cas-user\">user 0.0422s</span> &#183; <span class=\"cas-sys\">sys 0.157s</span> &#183; <span class=\"cas-memory\">mem 395MB</span></small></p>"
      ],
      "text/plain": [
       "[caslib]\n",
       "\n",
       " 'CASUSER(Peter.Styliadis@sas.com)'\n",
       "\n",
       "[tableName]\n",
       "\n",
       " 'PRODUCTS'\n",
       "\n",
       "[casTable]\n",
       "\n",
       " CASTable('PRODUCTS', caslib='CASUSER(Peter.Styliadis@sas.com)')\n",
       "\n",
       "+ Elapsed: 0.0581s, user: 0.0422s, sys: 0.157s, mem: 395mb"
      ]
     },
     "execution_count": 16,
     "metadata": {},
     "output_type": "execute_result"
    }
   ],
   "source": [
    "conn.loadtable(path=\"products.csv\", caslib=\"casuser\",    ## Data source file to load into memory\n",
    "               casOut={\"name\":\"products\",                ## New in-memory CAS table information\n",
    "                       \"caslib\":\"casuser\", \n",
    "                       \"replace\":True}\n",
    "               )"
   ]
  },
  {
   "cell_type": "markdown",
   "metadata": {},
   "source": [
    "###  <a id='5b'> 5b. Use a Python Loop to Load Multiple Files </a>\n",
    "[Back to table of contents](#0)\n",
    "\n",
    "You can also use general Python syntax to write a loop to load multiple tables into memory. Here I'll load both the **products.csv** and **DiscountCodes.sashdat** data source files into memory using a traditional Python loop if that table is not already in-memory.\n",
    "\n",
    "- In the loop you can use the [tableExists](https://go.documentation.sas.com/doc/en/pgmsascdc/v_006/caspg/cas-table-tableexists.htm) action to check if a table is aleady loaded into memory.\n",
    "\n",
    "- If you do not specify the name key in the casOut parameter CAS will use the file name as the in-memory table name."
   ]
  },
  {
   "cell_type": "code",
   "execution_count": 17,
   "metadata": {},
   "outputs": [
    {
     "name": "stdout",
     "output_type": "stream",
     "text": [
      "The products table is already loaded into memory\n",
      "NOTE: Cloud Analytic Services made the file discount_dim.sashdat available as table DISCOUNT_DIM in caslib CASUSER(Peter.Styliadis@sas.com).\n"
     ]
    }
   ],
   "source": [
    "## List the tables to load into memory\n",
    "tables=['products.csv', 'discount_dim.sashdat']\n",
    "\n",
    "## Loop over the above list and load the tables in memory if they are not already available\n",
    "for i in tables:\n",
    "    tblName=i.split(\".\")[0]                                                ## Store the name of the table\n",
    "    if conn.tableExists(name=tblName, caslib=\"casuser\")['exists']==0:      ## Check to see if the table exists in-memory\n",
    "        conn.loadtable(path=i, caslib=\"casuser\",                           ## If it's not in-memory, load the table\n",
    "                      casOut={\"caslib\":\"casuser\", \n",
    "                              \"replace\":True})  \n",
    "    else:\n",
    "        print(f\"The {tblName} table is already loaded into memory\")        ## If it's already in-memory add a note"
   ]
  },
  {
   "cell_type": "markdown",
   "metadata": {},
   "source": [
    "Confirm the tables were successfully loaded into memory by viewing available in-memory tables in the casuser caslib."
   ]
  },
  {
   "cell_type": "code",
   "execution_count": 18,
   "metadata": {},
   "outputs": [
    {
     "data": {
      "text/html": [
       "<div class=\"cas-results-key\"><b>&#167; TableInfo</b></div>\n",
       "<div class=\"cas-results-body\">\n",
       "<div>\n",
       "<style scoped>\n",
       "    .dataframe tbody tr th:only-of-type {\n",
       "        vertical-align: middle;\n",
       "    }\n",
       "\n",
       "    .dataframe tbody tr th {\n",
       "        vertical-align: top;\n",
       "    }\n",
       "\n",
       "    .dataframe thead th {\n",
       "        text-align: right;\n",
       "    }\n",
       "</style>\n",
       "<table border=\"1\" class=\"dataframe\">\n",
       "  <thead>\n",
       "    <tr style=\"text-align: right;\">\n",
       "      <th title=\"\"></th>\n",
       "      <th title=\"Name\">Name</th>\n",
       "      <th title=\"Rows\">Rows</th>\n",
       "      <th title=\"Columns\">Columns</th>\n",
       "      <th title=\"Indexed Columns\">IndexedColumns</th>\n",
       "      <th title=\"Encoding\">Encoding</th>\n",
       "      <th title=\"Created\">CreateTimeFormatted</th>\n",
       "      <th title=\"Last Modified\">ModTimeFormatted</th>\n",
       "      <th title=\"Last Accessed\">AccessTimeFormatted</th>\n",
       "      <th title=\"Character Set\">JavaCharSet</th>\n",
       "      <th title=\"CreateTime\">CreateTime</th>\n",
       "      <th title=\"ModTime\">ModTime</th>\n",
       "      <th title=\"AccessTime\">AccessTime</th>\n",
       "      <th title=\"Global\">Global</th>\n",
       "      <th title=\"Repeated\">Repeated</th>\n",
       "      <th title=\"View\">View</th>\n",
       "      <th title=\"MultiPart\">MultiPart</th>\n",
       "      <th title=\"Loaded Source\">SourceName</th>\n",
       "      <th title=\"Source Caslib\">SourceCaslib</th>\n",
       "      <th title=\"Compressed\">Compressed</th>\n",
       "      <th title=\"Table Creator\">Creator</th>\n",
       "      <th title=\"Last Table Modifier\">Modifier</th>\n",
       "      <th title=\"Source Modified\">SourceModTimeFormatted</th>\n",
       "      <th title=\"SourceModTime\">SourceModTime</th>\n",
       "    </tr>\n",
       "  </thead>\n",
       "  <tbody>\n",
       "    <tr>\n",
       "      <td>0</td>\n",
       "      <td>PRODUCTS</td>\n",
       "      <td>19200</td>\n",
       "      <td>7</td>\n",
       "      <td>0</td>\n",
       "      <td>utf-8</td>\n",
       "      <td>2023-01-18T12:49:54+00:00</td>\n",
       "      <td>2023-01-18T12:49:54+00:00</td>\n",
       "      <td>2023-01-18T12:49:54+00:00</td>\n",
       "      <td>UTF8</td>\n",
       "      <td>1.989665e+09</td>\n",
       "      <td>1.989665e+09</td>\n",
       "      <td>1.989665e+09</td>\n",
       "      <td>0</td>\n",
       "      <td>0</td>\n",
       "      <td>0</td>\n",
       "      <td>0</td>\n",
       "      <td>products.csv</td>\n",
       "      <td>CASUSER(Peter.Styliadis@sas.com)</td>\n",
       "      <td>0</td>\n",
       "      <td>Peter.Styliadis@sas.com</td>\n",
       "      <td></td>\n",
       "      <td>2023-01-18T12:49:50+00:00</td>\n",
       "      <td>1.989665e+09</td>\n",
       "    </tr>\n",
       "    <tr>\n",
       "      <td>1</td>\n",
       "      <td>DISCOUNT_DIM</td>\n",
       "      <td>7</td>\n",
       "      <td>3</td>\n",
       "      <td>0</td>\n",
       "      <td>utf-8</td>\n",
       "      <td>2023-01-18T12:49:55+00:00</td>\n",
       "      <td>2023-01-18T12:49:55+00:00</td>\n",
       "      <td>2023-01-18T12:49:55+00:00</td>\n",
       "      <td>UTF8</td>\n",
       "      <td>1.989665e+09</td>\n",
       "      <td>1.989665e+09</td>\n",
       "      <td>1.989665e+09</td>\n",
       "      <td>0</td>\n",
       "      <td>0</td>\n",
       "      <td>0</td>\n",
       "      <td>0</td>\n",
       "      <td>discount_dim.sashdat</td>\n",
       "      <td>CASUSER(Peter.Styliadis@sas.com)</td>\n",
       "      <td>0</td>\n",
       "      <td>Peter.Styliadis@sas.com</td>\n",
       "      <td></td>\n",
       "      <td>2023-01-18T12:49:51+00:00</td>\n",
       "      <td>1.989665e+09</td>\n",
       "    </tr>\n",
       "    <tr>\n",
       "      <td>2</td>\n",
       "      <td>CARS_UPDATE</td>\n",
       "      <td>428</td>\n",
       "      <td>16</td>\n",
       "      <td>0</td>\n",
       "      <td>utf-8</td>\n",
       "      <td>2023-01-18T00:51:39+00:00</td>\n",
       "      <td>2023-01-18T00:51:46+00:00</td>\n",
       "      <td>2023-01-18T00:51:46+00:00</td>\n",
       "      <td>UTF8</td>\n",
       "      <td>1.989622e+09</td>\n",
       "      <td>1.989622e+09</td>\n",
       "      <td>1.989622e+09</td>\n",
       "      <td>1</td>\n",
       "      <td>0</td>\n",
       "      <td>0</td>\n",
       "      <td>0</td>\n",
       "      <td></td>\n",
       "      <td></td>\n",
       "      <td>0</td>\n",
       "      <td>Peter.Styliadis@sas.com</td>\n",
       "      <td></td>\n",
       "      <td></td>\n",
       "      <td>NaN</td>\n",
       "    </tr>\n",
       "    <tr>\n",
       "      <td>3</td>\n",
       "      <td>DISCOUNTORDERS_COPYTABLE</td>\n",
       "      <td>3877</td>\n",
       "      <td>4</td>\n",
       "      <td>0</td>\n",
       "      <td>utf-8</td>\n",
       "      <td>2023-01-18T12:49:32+00:00</td>\n",
       "      <td>2023-01-18T12:49:32+00:00</td>\n",
       "      <td>2023-01-18T12:49:32+00:00</td>\n",
       "      <td>UTF8</td>\n",
       "      <td>1.989665e+09</td>\n",
       "      <td>1.989665e+09</td>\n",
       "      <td>1.989665e+09</td>\n",
       "      <td>1</td>\n",
       "      <td>0</td>\n",
       "      <td>0</td>\n",
       "      <td>0</td>\n",
       "      <td></td>\n",
       "      <td></td>\n",
       "      <td>0</td>\n",
       "      <td>Peter.Styliadis@sas.com</td>\n",
       "      <td></td>\n",
       "      <td></td>\n",
       "      <td>NaN</td>\n",
       "    </tr>\n",
       "  </tbody>\n",
       "</table>\n",
       "</div>\n",
       "</div>\n",
       "<div class=\"cas-output-area\"></div>\n",
       "<p class=\"cas-results-performance\"><small><span class=\"cas-elapsed\">elapsed 0.00944s</span> &#183; <span class=\"cas-user\">user 0.00176s</span> &#183; <span class=\"cas-sys\">sys 0.0163s</span> &#183; <span class=\"cas-memory\">mem 1.88MB</span></small></p>"
      ],
      "text/plain": [
       "[TableInfo]\n",
       "\n",
       "                        Name   Rows  Columns  IndexedColumns Encoding        CreateTimeFormatted           ModTimeFormatted        AccessTimeFormatted JavaCharSet    CreateTime       ModTime    AccessTime  Global  Repeated  View  MultiPart            SourceName                      SourceCaslib  Compressed                  Creator Modifier     SourceModTimeFormatted  SourceModTime\n",
       " 0                  PRODUCTS  19200        7               0    utf-8  2023-01-18T12:49:54+00:00  2023-01-18T12:49:54+00:00  2023-01-18T12:49:54+00:00        UTF8  1.989665e+09  1.989665e+09  1.989665e+09       0         0     0          0          products.csv  CASUSER(Peter.Styliadis@sas.com)           0  Peter.Styliadis@sas.com           2023-01-18T12:49:50+00:00   1.989665e+09\n",
       " 1              DISCOUNT_DIM      7        3               0    utf-8  2023-01-18T12:49:55+00:00  2023-01-18T12:49:55+00:00  2023-01-18T12:49:55+00:00        UTF8  1.989665e+09  1.989665e+09  1.989665e+09       0         0     0          0  discount_dim.sashdat  CASUSER(Peter.Styliadis@sas.com)           0  Peter.Styliadis@sas.com           2023-01-18T12:49:51+00:00   1.989665e+09\n",
       " 2               CARS_UPDATE    428       16               0    utf-8  2023-01-18T00:51:39+00:00  2023-01-18T00:51:46+00:00  2023-01-18T00:51:46+00:00        UTF8  1.989622e+09  1.989622e+09  1.989622e+09       1         0     0          0                                                                   0  Peter.Styliadis@sas.com                                                NaN\n",
       " 3  DISCOUNTORDERS_COPYTABLE   3877        4               0    utf-8  2023-01-18T12:49:32+00:00  2023-01-18T12:49:32+00:00  2023-01-18T12:49:32+00:00        UTF8  1.989665e+09  1.989665e+09  1.989665e+09       1         0     0          0                                                                   0  Peter.Styliadis@sas.com                                                NaN\n",
       "\n",
       "+ Elapsed: 0.00944s, user: 0.00176s, sys: 0.0163s, mem: 1.88mb"
      ]
     },
     "execution_count": 18,
     "metadata": {},
     "output_type": "execute_result"
    }
   ],
   "source": [
    "conn.tableInfo(caslib=\"casuser\")"
   ]
  },
  {
   "cell_type": "markdown",
   "metadata": {},
   "source": [
    "<div class=\"alert alert-info\" role=\"alert\">\n",
    "    \n",
    "<a id='6'>\n",
    "    <h2> 6. Preview the In-Memory CAS Tables </h2>\n",
    "</a>\n",
    "   \n",
    "[Back to table of contents](#0)\n",
    "    \n",
    "</div>"
   ]
  },
  {
   "cell_type": "markdown",
   "metadata": {},
   "source": [
    "###  <a id='6a'> 6a. Reference a CAS Table </a>\n",
    "[Back to table of contents](#0)\n",
    "\n",
    "First you can reference the CAS table. When referencing the CAS table you should always specify the caslib. Otherwise the method/action will use the active caslib. The active caslib can vary. It's best to be explicit.\n",
    "\n",
    "To reference the CAS table use the **CASTable** method."
   ]
  },
  {
   "cell_type": "code",
   "execution_count": 19,
   "metadata": {},
   "outputs": [],
   "source": [
    "prdCAS = conn.CASTable(\"products\", caslib=\"casuser\")"
   ]
  },
  {
   "cell_type": "markdown",
   "metadata": {},
   "source": [
    "View the **prdCAS** object. Notice it references the **products** table in the **casuser** caslib. Notice it's a reference to the CAS table only."
   ]
  },
  {
   "cell_type": "code",
   "execution_count": 20,
   "metadata": {},
   "outputs": [
    {
     "data": {
      "text/plain": [
       "CASTable('products', caslib='casuser')"
      ]
     },
     "execution_count": 20,
     "metadata": {},
     "output_type": "execute_result"
    }
   ],
   "source": [
    "prdCAS"
   ]
  },
  {
   "cell_type": "markdown",
   "metadata": {},
   "source": [
    "View the object type."
   ]
  },
  {
   "cell_type": "code",
   "execution_count": 21,
   "metadata": {},
   "outputs": [
    {
     "data": {
      "text/plain": [
       "swat.cas.table.CASTable"
      ]
     },
     "execution_count": 21,
     "metadata": {},
     "output_type": "execute_result"
    }
   ],
   "source": [
    "type(prdCAS)"
   ]
  },
  {
   "cell_type": "markdown",
   "metadata": {},
   "source": [
    "<div class=\"alert alert-block alert-success\">\n",
    "    <b>NOTE: </b>Notice the object is a <b>CASTable</b> object. A <b>CASTable</b> object references a distributed in-memory table in the CAS Server.. \n",
    "</div>"
   ]
  },
  {
   "cell_type": "markdown",
   "metadata": {},
   "source": [
    "###  <a id='6b'> 6b. Executing CAS Actions and Familiar Pandas Methods on a CAS Table </a>\n",
    "[Back to table of contents](#0)"
   ]
  },
  {
   "cell_type": "code",
   "execution_count": 22,
   "metadata": {},
   "outputs": [
    {
     "data": {
      "image/jpeg": "[encoded data removed]",
      "text/plain": [
       "<IPython.core.display.Image object>"
      ]
     },
     "metadata": {
      "image/jpeg": {
       "width": 750
      }
     },
     "output_type": "display_data"
    }
   ],
   "source": [
    "slide(r'\\CASAPI.jpg', w=750)"
   ]
  },
  {
   "cell_type": "markdown",
   "metadata": {},
   "source": [
    "\n",
    "Once you reference a **CASTable**, you can begin processing the table. When processing **CAS tables**:\n",
    "- You can execute **CAS actions** directly, or using many of the familiar Pandas methods using the SWAT package. The SWAT package converts the Pandas methods to CAS actions behind the scenes through the CAS API.\n",
    "- The SWAT package contains *most* of the methods defined by **Pandas DataFrames** for CAS tables. Not all are currently available.\n",
    "- **CAS actions** are sent directly to the CAS server for processing. A benefit of using CAS actions is they can be used similarly from a variety of languages. This allows users from different programming backgrounds to use consistent actions and work together. \n",
    "- **CAS actions** also typically process a bit faster than using the familiar Pandas methods through the CAS API.\n",
    "- Lastly, the **CAS server can process much larger data than your client machine!** You do not want to bring an entire  large CAS table back to your local client.\n",
    "\n",
    "\n",
    "<div class=\"alert alert-block alert-success\">\n",
    "    <b>NOTE: </b>You can preview the table using both <b>head method </b> and the <b>fetch CAS action</b>. Both can produce similar results. However, there are some differences. Depending which method you use, the object returned will differ. \n",
    "    <b>All results are returned as a local object on your client machine</b>. \n",
    "</div>"
   ]
  },
  {
   "cell_type": "markdown",
   "metadata": {},
   "source": [
    "#### head method"
   ]
  },
  {
   "cell_type": "code",
   "execution_count": 23,
   "metadata": {},
   "outputs": [
    {
     "data": {
      "text/plain": [
       "CASTable('products', caslib='casuser')"
      ]
     },
     "execution_count": 23,
     "metadata": {},
     "output_type": "execute_result"
    }
   ],
   "source": [
    "prdCAS"
   ]
  },
  {
   "cell_type": "code",
   "execution_count": 24,
   "metadata": {},
   "outputs": [
    {
     "data": {
      "text/html": [
       "<div>\n",
       "<style scoped>\n",
       "    .dataframe tbody tr th:only-of-type {\n",
       "        vertical-align: middle;\n",
       "    }\n",
       "\n",
       "    .dataframe tbody tr th {\n",
       "        vertical-align: top;\n",
       "    }\n",
       "\n",
       "    .dataframe thead th {\n",
       "        text-align: right;\n",
       "    }\n",
       "</style>\n",
       "<table border=\"1\" class=\"dataframe\"><caption>Selected Rows from Table PRODUCTS</caption>\n",
       "  <thead>\n",
       "    <tr style=\"text-align: right;\">\n",
       "      <th title=\"\"></th>\n",
       "      <th title=\"Product\">Product</th>\n",
       "      <th title=\"DiscountCode\">DiscountCode</th>\n",
       "      <th title=\"Return\">Return</th>\n",
       "      <th title=\"StoreID\">StoreID</th>\n",
       "      <th title=\"Price\">Price</th>\n",
       "      <th title=\"Cost\">Cost</th>\n",
       "      <th title=\"Quantity\">Quantity</th>\n",
       "    </tr>\n",
       "  </thead>\n",
       "  <tbody>\n",
       "    <tr>\n",
       "      <td>0</td>\n",
       "      <td>Shirts</td>\n",
       "      <td></td>\n",
       "      <td></td>\n",
       "      <td>19.0</td>\n",
       "      <td>7.99</td>\n",
       "      <td>1.99</td>\n",
       "      <td>8.0</td>\n",
       "    </tr>\n",
       "    <tr>\n",
       "      <td>1</td>\n",
       "      <td>Sweatshirt</td>\n",
       "      <td></td>\n",
       "      <td></td>\n",
       "      <td>17.0</td>\n",
       "      <td>10.99</td>\n",
       "      <td>1.99</td>\n",
       "      <td>6.0</td>\n",
       "    </tr>\n",
       "    <tr>\n",
       "      <td>2</td>\n",
       "      <td>Shirts</td>\n",
       "      <td></td>\n",
       "      <td></td>\n",
       "      <td>20.0</td>\n",
       "      <td>7.99</td>\n",
       "      <td>1.99</td>\n",
       "      <td>9.0</td>\n",
       "    </tr>\n",
       "    <tr>\n",
       "      <td>3</td>\n",
       "      <td>Shirts</td>\n",
       "      <td>TENOFF</td>\n",
       "      <td></td>\n",
       "      <td>15.0</td>\n",
       "      <td>7.99</td>\n",
       "      <td>1.99</td>\n",
       "      <td>8.0</td>\n",
       "    </tr>\n",
       "    <tr>\n",
       "      <td>4</td>\n",
       "      <td>Sweatshirt</td>\n",
       "      <td></td>\n",
       "      <td></td>\n",
       "      <td>12.0</td>\n",
       "      <td>10.99</td>\n",
       "      <td>1.99</td>\n",
       "      <td>8.0</td>\n",
       "    </tr>\n",
       "  </tbody>\n",
       "</table>\n",
       "</div>"
      ],
      "text/plain": [
       "Selected Rows from Table PRODUCTS\n",
       "\n",
       "      Product DiscountCode Return  StoreID  Price  Cost  Quantity\n",
       "0      Shirts                         19.0   7.99  1.99       8.0\n",
       "1  Sweatshirt                         17.0  10.99  1.99       6.0\n",
       "2      Shirts                         20.0   7.99  1.99       9.0\n",
       "3      Shirts       TENOFF            15.0   7.99  1.99       8.0\n",
       "4  Sweatshirt                         12.0  10.99  1.99       8.0"
      ]
     },
     "execution_count": 24,
     "metadata": {},
     "output_type": "execute_result"
    }
   ],
   "source": [
    "prdCAS.head()"
   ]
  },
  {
   "cell_type": "markdown",
   "metadata": {},
   "source": [
    "Using the familliar Pandas methods from the SWAT package can return a **variety of objects**. In this example the head method returns a SASDataFrame."
   ]
  },
  {
   "cell_type": "code",
   "execution_count": 25,
   "metadata": {},
   "outputs": [
    {
     "data": {
      "text/plain": [
       "swat.dataframe.SASDataFrame"
      ]
     },
     "execution_count": 25,
     "metadata": {},
     "output_type": "execute_result"
    }
   ],
   "source": [
    "type(prdCAS.head())"
   ]
  },
  {
   "cell_type": "markdown",
   "metadata": {},
   "source": [
    "<br></br>\n",
    "<div class=\"alert alert-block alert-success\">\n",
    "    <b>SUMMARY: What is a SASDataFrame object?</b>\n",
    "    <li>A SASDataFrame object contains <b>local client data</b>.</li>\n",
    "    <li>A SASDataFrame object is a subclass of a <b>Pandas DataFrame</b>. You can work with them as you normally would a Pandas DataFrame.</li>\n",
    "    <li>Using familiar Pandas methods from the SWAT API will typically return either <b>CASTable, CASColumn, pandas.DataFrame, or pandas.Series object</b>.\n",
    "</div>"
   ]
  },
  {
   "cell_type": "markdown",
   "metadata": {},
   "source": [
    "#### fetch CAS action\n",
    "There are multiple ways to use a CAS action."
   ]
  },
  {
   "cell_type": "code",
   "execution_count": 26,
   "metadata": {},
   "outputs": [
    {
     "data": {
      "text/html": [
       "<div class=\"cas-results-key\"><b>&#167; Fetch</b></div>\n",
       "<div class=\"cas-results-body\">\n",
       "<div>\n",
       "<style scoped>\n",
       "    .dataframe tbody tr th:only-of-type {\n",
       "        vertical-align: middle;\n",
       "    }\n",
       "\n",
       "    .dataframe tbody tr th {\n",
       "        vertical-align: top;\n",
       "    }\n",
       "\n",
       "    .dataframe thead th {\n",
       "        text-align: right;\n",
       "    }\n",
       "</style>\n",
       "<table border=\"1\" class=\"dataframe\"><caption>Selected Rows from Table PRODUCTS</caption>\n",
       "  <thead>\n",
       "    <tr style=\"text-align: right;\">\n",
       "      <th title=\"\"></th>\n",
       "      <th title=\"Product\">Product</th>\n",
       "      <th title=\"DiscountCode\">DiscountCode</th>\n",
       "      <th title=\"Return\">Return</th>\n",
       "      <th title=\"StoreID\">StoreID</th>\n",
       "      <th title=\"Price\">Price</th>\n",
       "      <th title=\"Cost\">Cost</th>\n",
       "      <th title=\"Quantity\">Quantity</th>\n",
       "    </tr>\n",
       "  </thead>\n",
       "  <tbody>\n",
       "    <tr>\n",
       "      <td>0</td>\n",
       "      <td>Shirts</td>\n",
       "      <td></td>\n",
       "      <td></td>\n",
       "      <td>19.0</td>\n",
       "      <td>7.99</td>\n",
       "      <td>1.99</td>\n",
       "      <td>8.0</td>\n",
       "    </tr>\n",
       "    <tr>\n",
       "      <td>1</td>\n",
       "      <td>Sweatshirt</td>\n",
       "      <td></td>\n",
       "      <td></td>\n",
       "      <td>17.0</td>\n",
       "      <td>10.99</td>\n",
       "      <td>1.99</td>\n",
       "      <td>6.0</td>\n",
       "    </tr>\n",
       "    <tr>\n",
       "      <td>2</td>\n",
       "      <td>Shirts</td>\n",
       "      <td></td>\n",
       "      <td></td>\n",
       "      <td>20.0</td>\n",
       "      <td>7.99</td>\n",
       "      <td>1.99</td>\n",
       "      <td>9.0</td>\n",
       "    </tr>\n",
       "    <tr>\n",
       "      <td>3</td>\n",
       "      <td>Shirts</td>\n",
       "      <td>TENOFF</td>\n",
       "      <td></td>\n",
       "      <td>15.0</td>\n",
       "      <td>7.99</td>\n",
       "      <td>1.99</td>\n",
       "      <td>8.0</td>\n",
       "    </tr>\n",
       "    <tr>\n",
       "      <td>4</td>\n",
       "      <td>Sweatshirt</td>\n",
       "      <td></td>\n",
       "      <td></td>\n",
       "      <td>12.0</td>\n",
       "      <td>10.99</td>\n",
       "      <td>1.99</td>\n",
       "      <td>8.0</td>\n",
       "    </tr>\n",
       "  </tbody>\n",
       "</table>\n",
       "</div>\n",
       "</div>\n",
       "<div class=\"cas-output-area\"></div>\n",
       "<p class=\"cas-results-performance\"><small><span class=\"cas-elapsed\">elapsed 0.0194s</span> &#183; <span class=\"cas-user\">user 0.0125s</span> &#183; <span class=\"cas-sys\">sys 0.0281s</span> &#183; <span class=\"cas-memory\">mem 4.83MB</span></small></p>"
      ],
      "text/plain": [
       "[Fetch]\n",
       "\n",
       " Selected Rows from Table PRODUCTS\n",
       " \n",
       "       Product DiscountCode Return  StoreID  Price  Cost  Quantity\n",
       " 0      Shirts                         19.0   7.99  1.99       8.0\n",
       " 1  Sweatshirt                         17.0  10.99  1.99       6.0\n",
       " 2      Shirts                         20.0   7.99  1.99       9.0\n",
       " 3      Shirts       TENOFF            15.0   7.99  1.99       8.0\n",
       " 4  Sweatshirt                         12.0  10.99  1.99       8.0\n",
       "\n",
       "+ Elapsed: 0.0194s, user: 0.0125s, sys: 0.0281s, mem: 4.83mb"
      ]
     },
     "execution_count": 26,
     "metadata": {},
     "output_type": "execute_result"
    }
   ],
   "source": [
    "prdCAS.fetch(to=5)\n",
    "\n",
    "## Specify the CAS table object inside the action\n",
    "#conn.fetch(prdCAS, to=5)\n",
    "\n",
    "## Explicitly type in the CAS table inside the action\n",
    "#conn.fetch(table={\"name\":\"products\", \"caslib\":\"casuser\"},to=5)"
   ]
  },
  {
   "cell_type": "markdown",
   "metadata": {},
   "source": [
    "CAS actions return a **CASResults** object."
   ]
  },
  {
   "cell_type": "code",
   "execution_count": 27,
   "metadata": {},
   "outputs": [
    {
     "data": {
      "text/plain": [
       "swat.cas.results.CASResults"
      ]
     },
     "execution_count": 27,
     "metadata": {},
     "output_type": "execute_result"
    }
   ],
   "source": [
    "type(prdCAS.fetch(to=5))"
   ]
  },
  {
   "cell_type": "markdown",
   "metadata": {},
   "source": [
    "<div class=\"alert alert-block alert-success\">\n",
    "    <b>SUMMARY: What is a CASResults object?</b>\n",
    "    <li>CAS actions return a <b>CASResults object</b>.</li> \n",
    "    <li>A <b>CASResults</b> object is simply an ordered <b>Python dictionary</b> with a few extra methods and attributes added.</li>\n",
    "    <li>The <b>CASResults</b> object can contain <b>any number of keys and objects</b>.</li>\n",
    "    <li>A <b>CASResults</b> object is <b>local on the client</b>.</li>\n",
    "</div>"
   ]
  },
  {
   "cell_type": "code",
   "execution_count": 28,
   "metadata": {},
   "outputs": [],
   "source": [
    "## Store the CASResults object in a variable\n",
    "x = prdCAS.fetch(to=5)"
   ]
  },
  {
   "cell_type": "code",
   "execution_count": 29,
   "metadata": {},
   "outputs": [
    {
     "data": {
      "text/plain": [
       "odict_keys(['Fetch'])"
      ]
     },
     "execution_count": 29,
     "metadata": {},
     "output_type": "execute_result"
    }
   ],
   "source": [
    "## View the keys in the CASResults object\n",
    "x.keys()"
   ]
  },
  {
   "cell_type": "code",
   "execution_count": 30,
   "metadata": {},
   "outputs": [
    {
     "data": {
      "text/html": [
       "<div>\n",
       "<style scoped>\n",
       "    .dataframe tbody tr th:only-of-type {\n",
       "        vertical-align: middle;\n",
       "    }\n",
       "\n",
       "    .dataframe tbody tr th {\n",
       "        vertical-align: top;\n",
       "    }\n",
       "\n",
       "    .dataframe thead th {\n",
       "        text-align: right;\n",
       "    }\n",
       "</style>\n",
       "<table border=\"1\" class=\"dataframe\"><caption>Selected Rows from Table PRODUCTS</caption>\n",
       "  <thead>\n",
       "    <tr style=\"text-align: right;\">\n",
       "      <th title=\"\"></th>\n",
       "      <th title=\"Product\">Product</th>\n",
       "      <th title=\"DiscountCode\">DiscountCode</th>\n",
       "      <th title=\"Return\">Return</th>\n",
       "      <th title=\"StoreID\">StoreID</th>\n",
       "      <th title=\"Price\">Price</th>\n",
       "      <th title=\"Cost\">Cost</th>\n",
       "      <th title=\"Quantity\">Quantity</th>\n",
       "    </tr>\n",
       "  </thead>\n",
       "  <tbody>\n",
       "    <tr>\n",
       "      <td>0</td>\n",
       "      <td>Shirts</td>\n",
       "      <td></td>\n",
       "      <td></td>\n",
       "      <td>19.0</td>\n",
       "      <td>7.99</td>\n",
       "      <td>1.99</td>\n",
       "      <td>8.0</td>\n",
       "    </tr>\n",
       "    <tr>\n",
       "      <td>1</td>\n",
       "      <td>Sweatshirt</td>\n",
       "      <td></td>\n",
       "      <td></td>\n",
       "      <td>17.0</td>\n",
       "      <td>10.99</td>\n",
       "      <td>1.99</td>\n",
       "      <td>6.0</td>\n",
       "    </tr>\n",
       "    <tr>\n",
       "      <td>2</td>\n",
       "      <td>Shirts</td>\n",
       "      <td></td>\n",
       "      <td></td>\n",
       "      <td>20.0</td>\n",
       "      <td>7.99</td>\n",
       "      <td>1.99</td>\n",
       "      <td>9.0</td>\n",
       "    </tr>\n",
       "    <tr>\n",
       "      <td>3</td>\n",
       "      <td>Shirts</td>\n",
       "      <td>TENOFF</td>\n",
       "      <td></td>\n",
       "      <td>15.0</td>\n",
       "      <td>7.99</td>\n",
       "      <td>1.99</td>\n",
       "      <td>8.0</td>\n",
       "    </tr>\n",
       "    <tr>\n",
       "      <td>4</td>\n",
       "      <td>Sweatshirt</td>\n",
       "      <td></td>\n",
       "      <td></td>\n",
       "      <td>12.0</td>\n",
       "      <td>10.99</td>\n",
       "      <td>1.99</td>\n",
       "      <td>8.0</td>\n",
       "    </tr>\n",
       "  </tbody>\n",
       "</table>\n",
       "</div>"
      ],
      "text/plain": [
       "Selected Rows from Table PRODUCTS\n",
       "\n",
       "      Product DiscountCode Return  StoreID  Price  Cost  Quantity\n",
       "0      Shirts                         19.0   7.99  1.99       8.0\n",
       "1  Sweatshirt                         17.0  10.99  1.99       6.0\n",
       "2      Shirts                         20.0   7.99  1.99       9.0\n",
       "3      Shirts       TENOFF            15.0   7.99  1.99       8.0\n",
       "4  Sweatshirt                         12.0  10.99  1.99       8.0"
      ]
     },
     "execution_count": 30,
     "metadata": {},
     "output_type": "execute_result"
    }
   ],
   "source": [
    "## Obtain the object\n",
    "## Reference the key to return the object\n",
    "x[\"Fetch\"]"
   ]
  },
  {
   "cell_type": "code",
   "execution_count": 31,
   "metadata": {},
   "outputs": [
    {
     "data": {
      "text/plain": [
       "swat.dataframe.SASDataFrame"
      ]
     },
     "execution_count": 31,
     "metadata": {},
     "output_type": "execute_result"
    }
   ],
   "source": [
    "## What does the Fetch key hold?\n",
    "type(x[\"Fetch\"])"
   ]
  },
  {
   "cell_type": "markdown",
   "metadata": {},
   "source": [
    "<div class=\"alert alert-block alert-success\">\n",
    "    <b>SUMMARY:</b> \n",
    "    <li>CAS Actions return a CASResults object (dictionary). You can access the DataFrames held by the CASResults object as you would a typical dictionary.</li>\n",
    "    <li>Once you have a SASDataFrame work with it as you would a pandas DataFrame.</li>\n",
    "    <li>CASResults objects and SASDataFrames are LOCAL on your client. The action processed the data in the CAS server, summarized the data using all the workers, then returned the summarized results. </li>\n",
    "\n",
    "<b>NOTE: Be careful on what you return to your client since CAS can handle more data than your client machine.</b>\n",
    "\n",
    "</div>"
   ]
  },
  {
   "cell_type": "markdown",
   "metadata": {},
   "source": [
    "###  <a id='6c'> 6c. View the CAS API in Action </a>\n",
    "[Back to table of contents](#0)"
   ]
  },
  {
   "cell_type": "markdown",
   "metadata": {},
   "source": [
    "Turn on the trace options to view the actions that are sent through the CAS API. [SWAT Option Documentation](https://go.documentation.sas.com/doc/en/pgmsascdc/v_016/caspg3r/p18d4d2a5f6cvqn18jcl8cxyn1un.htm)"
   ]
  },
  {
   "cell_type": "code",
   "execution_count": 32,
   "metadata": {},
   "outputs": [],
   "source": [
    "swat.options.cas.trace_actions = True\n",
    "swat.options.cas.trace_ui_actions = True"
   ]
  },
  {
   "cell_type": "markdown",
   "metadata": {},
   "source": [
    "**head method**\n",
    "\n",
    "Notice the head method is converted to the fetch action behind the scenes through the CAS API."
   ]
  },
  {
   "cell_type": "code",
   "execution_count": 33,
   "metadata": {},
   "outputs": [
    {
     "name": "stdout",
     "output_type": "stream",
     "text": [
      "[table.fetch]\n",
      "    _apptag = 'UI'\n",
      "    _messagelevel = 'error'\n",
      "    from = 1\n",
      "    index = True\n",
      "    sastypes = False\n",
      "    table.caslib = 'casuser'\n",
      "    table.name = 'products'\n",
      "    to = 5\n",
      "\n"
     ]
    },
    {
     "data": {
      "text/html": [
       "<div>\n",
       "<style scoped>\n",
       "    .dataframe tbody tr th:only-of-type {\n",
       "        vertical-align: middle;\n",
       "    }\n",
       "\n",
       "    .dataframe tbody tr th {\n",
       "        vertical-align: top;\n",
       "    }\n",
       "\n",
       "    .dataframe thead th {\n",
       "        text-align: right;\n",
       "    }\n",
       "</style>\n",
       "<table border=\"1\" class=\"dataframe\"><caption>Selected Rows from Table PRODUCTS</caption>\n",
       "  <thead>\n",
       "    <tr style=\"text-align: right;\">\n",
       "      <th title=\"\"></th>\n",
       "      <th title=\"Product\">Product</th>\n",
       "      <th title=\"DiscountCode\">DiscountCode</th>\n",
       "      <th title=\"Return\">Return</th>\n",
       "      <th title=\"StoreID\">StoreID</th>\n",
       "      <th title=\"Price\">Price</th>\n",
       "      <th title=\"Cost\">Cost</th>\n",
       "      <th title=\"Quantity\">Quantity</th>\n",
       "    </tr>\n",
       "  </thead>\n",
       "  <tbody>\n",
       "    <tr>\n",
       "      <td>0</td>\n",
       "      <td>Shirts</td>\n",
       "      <td></td>\n",
       "      <td></td>\n",
       "      <td>19.0</td>\n",
       "      <td>7.99</td>\n",
       "      <td>1.99</td>\n",
       "      <td>8.0</td>\n",
       "    </tr>\n",
       "    <tr>\n",
       "      <td>1</td>\n",
       "      <td>Sweatshirt</td>\n",
       "      <td></td>\n",
       "      <td></td>\n",
       "      <td>17.0</td>\n",
       "      <td>10.99</td>\n",
       "      <td>1.99</td>\n",
       "      <td>6.0</td>\n",
       "    </tr>\n",
       "    <tr>\n",
       "      <td>2</td>\n",
       "      <td>Shirts</td>\n",
       "      <td></td>\n",
       "      <td></td>\n",
       "      <td>20.0</td>\n",
       "      <td>7.99</td>\n",
       "      <td>1.99</td>\n",
       "      <td>9.0</td>\n",
       "    </tr>\n",
       "    <tr>\n",
       "      <td>3</td>\n",
       "      <td>Shirts</td>\n",
       "      <td>TENOFF</td>\n",
       "      <td></td>\n",
       "      <td>15.0</td>\n",
       "      <td>7.99</td>\n",
       "      <td>1.99</td>\n",
       "      <td>8.0</td>\n",
       "    </tr>\n",
       "    <tr>\n",
       "      <td>4</td>\n",
       "      <td>Sweatshirt</td>\n",
       "      <td></td>\n",
       "      <td></td>\n",
       "      <td>12.0</td>\n",
       "      <td>10.99</td>\n",
       "      <td>1.99</td>\n",
       "      <td>8.0</td>\n",
       "    </tr>\n",
       "  </tbody>\n",
       "</table>\n",
       "</div>"
      ],
      "text/plain": [
       "Selected Rows from Table PRODUCTS\n",
       "\n",
       "      Product DiscountCode Return  StoreID  Price  Cost  Quantity\n",
       "0      Shirts                         19.0   7.99  1.99       8.0\n",
       "1  Sweatshirt                         17.0  10.99  1.99       6.0\n",
       "2      Shirts                         20.0   7.99  1.99       9.0\n",
       "3      Shirts       TENOFF            15.0   7.99  1.99       8.0\n",
       "4  Sweatshirt                         12.0  10.99  1.99       8.0"
      ]
     },
     "execution_count": 33,
     "metadata": {},
     "output_type": "execute_result"
    }
   ],
   "source": [
    "prdCAS.head()"
   ]
  },
  {
   "cell_type": "markdown",
   "metadata": {},
   "source": [
    "**Fetch action**\n",
    "\n",
    "Notice the fetch action is sent to the CAS server."
   ]
  },
  {
   "cell_type": "code",
   "execution_count": 34,
   "metadata": {},
   "outputs": [
    {
     "name": "stdout",
     "output_type": "stream",
     "text": [
      "[table.fetch]\n",
      "    sastypes = False\n",
      "    table.caslib = 'casuser'\n",
      "    table.name = 'products'\n",
      "    to = 5\n",
      "\n"
     ]
    },
    {
     "data": {
      "text/html": [
       "<div class=\"cas-results-key\"><b>&#167; Fetch</b></div>\n",
       "<div class=\"cas-results-body\">\n",
       "<div>\n",
       "<style scoped>\n",
       "    .dataframe tbody tr th:only-of-type {\n",
       "        vertical-align: middle;\n",
       "    }\n",
       "\n",
       "    .dataframe tbody tr th {\n",
       "        vertical-align: top;\n",
       "    }\n",
       "\n",
       "    .dataframe thead th {\n",
       "        text-align: right;\n",
       "    }\n",
       "</style>\n",
       "<table border=\"1\" class=\"dataframe\"><caption>Selected Rows from Table PRODUCTS</caption>\n",
       "  <thead>\n",
       "    <tr style=\"text-align: right;\">\n",
       "      <th title=\"\"></th>\n",
       "      <th title=\"Product\">Product</th>\n",
       "      <th title=\"DiscountCode\">DiscountCode</th>\n",
       "      <th title=\"Return\">Return</th>\n",
       "      <th title=\"StoreID\">StoreID</th>\n",
       "      <th title=\"Price\">Price</th>\n",
       "      <th title=\"Cost\">Cost</th>\n",
       "      <th title=\"Quantity\">Quantity</th>\n",
       "    </tr>\n",
       "  </thead>\n",
       "  <tbody>\n",
       "    <tr>\n",
       "      <td>0</td>\n",
       "      <td>Shirts</td>\n",
       "      <td></td>\n",
       "      <td></td>\n",
       "      <td>19.0</td>\n",
       "      <td>7.99</td>\n",
       "      <td>1.99</td>\n",
       "      <td>8.0</td>\n",
       "    </tr>\n",
       "    <tr>\n",
       "      <td>1</td>\n",
       "      <td>Sweatshirt</td>\n",
       "      <td></td>\n",
       "      <td></td>\n",
       "      <td>17.0</td>\n",
       "      <td>10.99</td>\n",
       "      <td>1.99</td>\n",
       "      <td>6.0</td>\n",
       "    </tr>\n",
       "    <tr>\n",
       "      <td>2</td>\n",
       "      <td>Shirts</td>\n",
       "      <td></td>\n",
       "      <td></td>\n",
       "      <td>20.0</td>\n",
       "      <td>7.99</td>\n",
       "      <td>1.99</td>\n",
       "      <td>9.0</td>\n",
       "    </tr>\n",
       "    <tr>\n",
       "      <td>3</td>\n",
       "      <td>Shirts</td>\n",
       "      <td>TENOFF</td>\n",
       "      <td></td>\n",
       "      <td>15.0</td>\n",
       "      <td>7.99</td>\n",
       "      <td>1.99</td>\n",
       "      <td>8.0</td>\n",
       "    </tr>\n",
       "    <tr>\n",
       "      <td>4</td>\n",
       "      <td>Sweatshirt</td>\n",
       "      <td></td>\n",
       "      <td></td>\n",
       "      <td>12.0</td>\n",
       "      <td>10.99</td>\n",
       "      <td>1.99</td>\n",
       "      <td>8.0</td>\n",
       "    </tr>\n",
       "  </tbody>\n",
       "</table>\n",
       "</div>\n",
       "</div>\n",
       "<div class=\"cas-output-area\"></div>\n",
       "<p class=\"cas-results-performance\"><small><span class=\"cas-elapsed\">elapsed 0.0225s</span> &#183; <span class=\"cas-user\">user 0.0226s</span> &#183; <span class=\"cas-sys\">sys 0.023s</span> &#183; <span class=\"cas-memory\">mem 4.84MB</span></small></p>"
      ],
      "text/plain": [
       "[Fetch]\n",
       "\n",
       " Selected Rows from Table PRODUCTS\n",
       " \n",
       "       Product DiscountCode Return  StoreID  Price  Cost  Quantity\n",
       " 0      Shirts                         19.0   7.99  1.99       8.0\n",
       " 1  Sweatshirt                         17.0  10.99  1.99       6.0\n",
       " 2      Shirts                         20.0   7.99  1.99       9.0\n",
       " 3      Shirts       TENOFF            15.0   7.99  1.99       8.0\n",
       " 4  Sweatshirt                         12.0  10.99  1.99       8.0\n",
       "\n",
       "+ Elapsed: 0.0225s, user: 0.0226s, sys: 0.023s, mem: 4.84mb"
      ]
     },
     "execution_count": 34,
     "metadata": {},
     "output_type": "execute_result"
    }
   ],
   "source": [
    "prdCAS.fetch(to=5)"
   ]
  },
  {
   "cell_type": "markdown",
   "metadata": {},
   "source": [
    "Turn off the notes from the CAS API"
   ]
  },
  {
   "cell_type": "code",
   "execution_count": 35,
   "metadata": {},
   "outputs": [],
   "source": [
    "swat.options.cas.trace_actions = False\n",
    "swat.options.cas.trace_ui_actions = False"
   ]
  },
  {
   "cell_type": "markdown",
   "metadata": {},
   "source": [
    "**Documentation**:\n",
    "- To view all CAS action sets and actions visit the documentation: [SAS® Viya® Actions and Action Sets by Name and Product](https://go.documentation.sas.com/doc/en/pgmsascdc/v_015/allprodsactions/titlepage.htm)\n",
    "- To view the SWAT API Reference visit: [API Reference](https://sassoftware.github.io/python-swat/api.html)"
   ]
  },
  {
   "cell_type": "markdown",
   "metadata": {},
   "source": [
    "<div class=\"alert alert-info\" role=\"alert\">\n",
    "    \n",
    "<a id='7'>\n",
    "    <h2> 7. Explore the CAS Table </h2>\n",
    "</a>\n",
    "Use a variety of SWAT methods and actions to explore a CAS table.\n",
    "   \n",
    "[Back to table of contents](#0)\n",
    "\n",
    "</div>\n",
    "\n",
    "\n",
    "\n",
    "First, let's again confirm our tables are available in-memory."
   ]
  },
  {
   "cell_type": "code",
   "execution_count": 36,
   "metadata": {},
   "outputs": [
    {
     "data": {
      "text/html": [
       "<div class=\"cas-results-key\"><b>&#167; TableInfo</b></div>\n",
       "<div class=\"cas-results-body\">\n",
       "<div>\n",
       "<style scoped>\n",
       "    .dataframe tbody tr th:only-of-type {\n",
       "        vertical-align: middle;\n",
       "    }\n",
       "\n",
       "    .dataframe tbody tr th {\n",
       "        vertical-align: top;\n",
       "    }\n",
       "\n",
       "    .dataframe thead th {\n",
       "        text-align: right;\n",
       "    }\n",
       "</style>\n",
       "<table border=\"1\" class=\"dataframe\">\n",
       "  <thead>\n",
       "    <tr style=\"text-align: right;\">\n",
       "      <th title=\"\"></th>\n",
       "      <th title=\"Name\">Name</th>\n",
       "      <th title=\"Rows\">Rows</th>\n",
       "      <th title=\"Columns\">Columns</th>\n",
       "      <th title=\"Indexed Columns\">IndexedColumns</th>\n",
       "      <th title=\"Encoding\">Encoding</th>\n",
       "      <th title=\"Created\">CreateTimeFormatted</th>\n",
       "      <th title=\"Last Modified\">ModTimeFormatted</th>\n",
       "      <th title=\"Last Accessed\">AccessTimeFormatted</th>\n",
       "      <th title=\"Character Set\">JavaCharSet</th>\n",
       "      <th title=\"CreateTime\">CreateTime</th>\n",
       "      <th title=\"ModTime\">ModTime</th>\n",
       "      <th title=\"AccessTime\">AccessTime</th>\n",
       "      <th title=\"Global\">Global</th>\n",
       "      <th title=\"Repeated\">Repeated</th>\n",
       "      <th title=\"View\">View</th>\n",
       "      <th title=\"MultiPart\">MultiPart</th>\n",
       "      <th title=\"Loaded Source\">SourceName</th>\n",
       "      <th title=\"Source Caslib\">SourceCaslib</th>\n",
       "      <th title=\"Compressed\">Compressed</th>\n",
       "      <th title=\"Table Creator\">Creator</th>\n",
       "      <th title=\"Last Table Modifier\">Modifier</th>\n",
       "      <th title=\"Source Modified\">SourceModTimeFormatted</th>\n",
       "      <th title=\"SourceModTime\">SourceModTime</th>\n",
       "    </tr>\n",
       "  </thead>\n",
       "  <tbody>\n",
       "    <tr>\n",
       "      <td>0</td>\n",
       "      <td>PRODUCTS</td>\n",
       "      <td>19200</td>\n",
       "      <td>7</td>\n",
       "      <td>0</td>\n",
       "      <td>utf-8</td>\n",
       "      <td>2023-01-18T12:49:54+00:00</td>\n",
       "      <td>2023-01-18T12:49:54+00:00</td>\n",
       "      <td>2023-01-18T12:50:02+00:00</td>\n",
       "      <td>UTF8</td>\n",
       "      <td>1.989665e+09</td>\n",
       "      <td>1.989665e+09</td>\n",
       "      <td>1.989665e+09</td>\n",
       "      <td>0</td>\n",
       "      <td>0</td>\n",
       "      <td>0</td>\n",
       "      <td>0</td>\n",
       "      <td>products.csv</td>\n",
       "      <td>CASUSER(Peter.Styliadis@sas.com)</td>\n",
       "      <td>0</td>\n",
       "      <td>Peter.Styliadis@sas.com</td>\n",
       "      <td></td>\n",
       "      <td>2023-01-18T12:49:50+00:00</td>\n",
       "      <td>1.989665e+09</td>\n",
       "    </tr>\n",
       "    <tr>\n",
       "      <td>1</td>\n",
       "      <td>DISCOUNT_DIM</td>\n",
       "      <td>7</td>\n",
       "      <td>3</td>\n",
       "      <td>0</td>\n",
       "      <td>utf-8</td>\n",
       "      <td>2023-01-18T12:49:55+00:00</td>\n",
       "      <td>2023-01-18T12:49:55+00:00</td>\n",
       "      <td>2023-01-18T12:49:55+00:00</td>\n",
       "      <td>UTF8</td>\n",
       "      <td>1.989665e+09</td>\n",
       "      <td>1.989665e+09</td>\n",
       "      <td>1.989665e+09</td>\n",
       "      <td>0</td>\n",
       "      <td>0</td>\n",
       "      <td>0</td>\n",
       "      <td>0</td>\n",
       "      <td>discount_dim.sashdat</td>\n",
       "      <td>CASUSER(Peter.Styliadis@sas.com)</td>\n",
       "      <td>0</td>\n",
       "      <td>Peter.Styliadis@sas.com</td>\n",
       "      <td></td>\n",
       "      <td>2023-01-18T12:49:51+00:00</td>\n",
       "      <td>1.989665e+09</td>\n",
       "    </tr>\n",
       "    <tr>\n",
       "      <td>2</td>\n",
       "      <td>CARS_UPDATE</td>\n",
       "      <td>428</td>\n",
       "      <td>16</td>\n",
       "      <td>0</td>\n",
       "      <td>utf-8</td>\n",
       "      <td>2023-01-18T00:51:39+00:00</td>\n",
       "      <td>2023-01-18T00:51:46+00:00</td>\n",
       "      <td>2023-01-18T00:51:46+00:00</td>\n",
       "      <td>UTF8</td>\n",
       "      <td>1.989622e+09</td>\n",
       "      <td>1.989622e+09</td>\n",
       "      <td>1.989622e+09</td>\n",
       "      <td>1</td>\n",
       "      <td>0</td>\n",
       "      <td>0</td>\n",
       "      <td>0</td>\n",
       "      <td></td>\n",
       "      <td></td>\n",
       "      <td>0</td>\n",
       "      <td>Peter.Styliadis@sas.com</td>\n",
       "      <td></td>\n",
       "      <td></td>\n",
       "      <td>NaN</td>\n",
       "    </tr>\n",
       "    <tr>\n",
       "      <td>3</td>\n",
       "      <td>DISCOUNTORDERS_COPYTABLE</td>\n",
       "      <td>3877</td>\n",
       "      <td>4</td>\n",
       "      <td>0</td>\n",
       "      <td>utf-8</td>\n",
       "      <td>2023-01-18T12:49:32+00:00</td>\n",
       "      <td>2023-01-18T12:49:32+00:00</td>\n",
       "      <td>2023-01-18T12:49:32+00:00</td>\n",
       "      <td>UTF8</td>\n",
       "      <td>1.989665e+09</td>\n",
       "      <td>1.989665e+09</td>\n",
       "      <td>1.989665e+09</td>\n",
       "      <td>1</td>\n",
       "      <td>0</td>\n",
       "      <td>0</td>\n",
       "      <td>0</td>\n",
       "      <td></td>\n",
       "      <td></td>\n",
       "      <td>0</td>\n",
       "      <td>Peter.Styliadis@sas.com</td>\n",
       "      <td></td>\n",
       "      <td></td>\n",
       "      <td>NaN</td>\n",
       "    </tr>\n",
       "  </tbody>\n",
       "</table>\n",
       "</div>\n",
       "</div>\n",
       "<div class=\"cas-output-area\"></div>\n",
       "<p class=\"cas-results-performance\"><small><span class=\"cas-elapsed\">elapsed 0.0133s</span> &#183; <span class=\"cas-user\">user 0.00862s</span> &#183; <span class=\"cas-sys\">sys 0.013s</span> &#183; <span class=\"cas-memory\">mem 1.88MB</span></small></p>"
      ],
      "text/plain": [
       "[TableInfo]\n",
       "\n",
       "                        Name   Rows  Columns  IndexedColumns Encoding        CreateTimeFormatted           ModTimeFormatted        AccessTimeFormatted JavaCharSet    CreateTime       ModTime    AccessTime  Global  Repeated  View  MultiPart            SourceName                      SourceCaslib  Compressed                  Creator Modifier     SourceModTimeFormatted  SourceModTime\n",
       " 0                  PRODUCTS  19200        7               0    utf-8  2023-01-18T12:49:54+00:00  2023-01-18T12:49:54+00:00  2023-01-18T12:50:02+00:00        UTF8  1.989665e+09  1.989665e+09  1.989665e+09       0         0     0          0          products.csv  CASUSER(Peter.Styliadis@sas.com)           0  Peter.Styliadis@sas.com           2023-01-18T12:49:50+00:00   1.989665e+09\n",
       " 1              DISCOUNT_DIM      7        3               0    utf-8  2023-01-18T12:49:55+00:00  2023-01-18T12:49:55+00:00  2023-01-18T12:49:55+00:00        UTF8  1.989665e+09  1.989665e+09  1.989665e+09       0         0     0          0  discount_dim.sashdat  CASUSER(Peter.Styliadis@sas.com)           0  Peter.Styliadis@sas.com           2023-01-18T12:49:51+00:00   1.989665e+09\n",
       " 2               CARS_UPDATE    428       16               0    utf-8  2023-01-18T00:51:39+00:00  2023-01-18T00:51:46+00:00  2023-01-18T00:51:46+00:00        UTF8  1.989622e+09  1.989622e+09  1.989622e+09       1         0     0          0                                                                   0  Peter.Styliadis@sas.com                                                NaN\n",
       " 3  DISCOUNTORDERS_COPYTABLE   3877        4               0    utf-8  2023-01-18T12:49:32+00:00  2023-01-18T12:49:32+00:00  2023-01-18T12:49:32+00:00        UTF8  1.989665e+09  1.989665e+09  1.989665e+09       1         0     0          0                                                                   0  Peter.Styliadis@sas.com                                                NaN\n",
       "\n",
       "+ Elapsed: 0.0133s, user: 0.00862s, sys: 0.013s, mem: 1.88mb"
      ]
     },
     "execution_count": 36,
     "metadata": {},
     "output_type": "execute_result"
    }
   ],
   "source": [
    "conn.tableInfo(caslib=\"casuser\")"
   ]
  },
  {
   "cell_type": "markdown",
   "metadata": {},
   "source": [
    "Again, let's reference the CAS table as **prdCAS**. Review from above."
   ]
  },
  {
   "cell_type": "code",
   "execution_count": 37,
   "metadata": {},
   "outputs": [
    {
     "data": {
      "text/plain": [
       "CASTable('products', caslib='casuser')"
      ]
     },
     "execution_count": 37,
     "metadata": {},
     "output_type": "execute_result"
    }
   ],
   "source": [
    "prdCAS = conn.CASTable(\"products\", caslib=\"casuser\")\n",
    "prdCAS"
   ]
  },
  {
   "cell_type": "markdown",
   "metadata": {},
   "source": [
    "###  <a id='7a'> 7a. Obtain CAS Table Information </a>\n",
    "[Back to table of contents](#0)"
   ]
  },
  {
   "cell_type": "markdown",
   "metadata": {},
   "source": [
    "Use the **shape** attribute."
   ]
  },
  {
   "cell_type": "code",
   "execution_count": 38,
   "metadata": {},
   "outputs": [
    {
     "data": {
      "text/plain": [
       "(19200, 7)"
      ]
     },
     "execution_count": 38,
     "metadata": {},
     "output_type": "execute_result"
    }
   ],
   "source": [
    "prdCAS.shape"
   ]
  },
  {
   "cell_type": "code",
   "execution_count": 39,
   "metadata": {},
   "outputs": [
    {
     "data": {
      "text/plain": [
       "tuple"
      ]
     },
     "execution_count": 39,
     "metadata": {},
     "output_type": "execute_result"
    }
   ],
   "source": [
    "type(prdCAS.shape)"
   ]
  },
  {
   "cell_type": "markdown",
   "metadata": {},
   "source": [
    "Create a Python function to output the total number of rows and columns of a CAS table."
   ]
  },
  {
   "cell_type": "code",
   "execution_count": 40,
   "metadata": {},
   "outputs": [
    {
     "name": "stdout",
     "output_type": "stream",
     "text": [
      "Total Rows: 19,200\n",
      "Total Columns: 7\n"
     ]
    }
   ],
   "source": [
    "def totalRows(casTable):\n",
    "    x=casTable.shape\n",
    "    print(\"Total Rows: {:,}\".format(x[0]))\n",
    "    print(\"Total Columns: {:,}\".format(x[1]))\n",
    "\n",
    "totalRows(prdCAS)"
   ]
  },
  {
   "cell_type": "markdown",
   "metadata": {},
   "source": [
    "**CAS actions**:\n",
    "- [tableDetails](https://go.documentation.sas.com/doc/en/pgmsascdc/v_015/caspg/cas-table-tabledetails.htm): Get detailed information about a table.\n",
    "- [tableInfo](https://go.documentation.sas.com/doc/en/pgmsascdc/v_015/caspg/cas-table-tableinfo.htm): Shows information about a table."
   ]
  },
  {
   "cell_type": "code",
   "execution_count": 41,
   "metadata": {},
   "outputs": [
    {
     "data": {
      "text/html": [
       "<div class=\"cas-results-key\"><b>&#167; TableDetails</b></div>\n",
       "<div class=\"cas-results-body\">\n",
       "<div>\n",
       "<style scoped>\n",
       "    .dataframe tbody tr th:only-of-type {\n",
       "        vertical-align: middle;\n",
       "    }\n",
       "\n",
       "    .dataframe tbody tr th {\n",
       "        vertical-align: top;\n",
       "    }\n",
       "\n",
       "    .dataframe thead th {\n",
       "        text-align: right;\n",
       "    }\n",
       "</style>\n",
       "<table border=\"1\" class=\"dataframe\">\n",
       "  <thead>\n",
       "    <tr style=\"text-align: right;\">\n",
       "      <th title=\"\"></th>\n",
       "      <th title=\"Node\">Node</th>\n",
       "      <th title=\"Blocks\">Blocks</th>\n",
       "      <th title=\"Active\">Active</th>\n",
       "      <th title=\"Rows\">Rows</th>\n",
       "      <th title=\"IndexSize\">IndexSize</th>\n",
       "      <th title=\"DataSize\">DataSize</th>\n",
       "      <th title=\"VardataSize\">VardataSize</th>\n",
       "      <th title=\"CompressedSize\">CompressedSize</th>\n",
       "      <th title=\"CompressionRatio\">CompressionRatio</th>\n",
       "      <th title=\"Mapped\">Mapped</th>\n",
       "      <th title=\"MappedMemory\">MappedMemory</th>\n",
       "      <th title=\"Unmapped\">Unmapped</th>\n",
       "      <th title=\"UnmappedMemory\">UnmappedMemory</th>\n",
       "      <th title=\"Allocated\">Allocated</th>\n",
       "      <th title=\"AllocatedMemory\">AllocatedMemory</th>\n",
       "      <th title=\"DeletedRows\">DeletedRows</th>\n",
       "      <th title=\"TableLocation\">TableLocation</th>\n",
       "    </tr>\n",
       "  </thead>\n",
       "  <tbody>\n",
       "    <tr>\n",
       "      <td>0</td>\n",
       "      <td>ALL</td>\n",
       "      <td>8</td>\n",
       "      <td>4</td>\n",
       "      <td>19200</td>\n",
       "      <td>0</td>\n",
       "      <td>1678212</td>\n",
       "      <td>142212</td>\n",
       "      <td>0</td>\n",
       "      <td>0</td>\n",
       "      <td>4</td>\n",
       "      <td>1678928</td>\n",
       "      <td>4</td>\n",
       "      <td>1678928</td>\n",
       "      <td>0</td>\n",
       "      <td>0</td>\n",
       "      <td>0</td>\n",
       "      <td>CAS</td>\n",
       "    </tr>\n",
       "  </tbody>\n",
       "</table>\n",
       "</div>\n",
       "</div>\n",
       "<div class=\"cas-output-area\"></div>\n",
       "<p class=\"cas-results-performance\"><small><span class=\"cas-elapsed\">elapsed 0.0144s</span> &#183; <span class=\"cas-user\">user 0.009s</span> &#183; <span class=\"cas-sys\">sys 0.0181s</span> &#183; <span class=\"cas-memory\">mem 1.85MB</span></small></p>"
      ],
      "text/plain": [
       "[TableDetails]\n",
       "\n",
       "   Node  Blocks  Active   Rows  IndexSize  DataSize  VardataSize  CompressedSize  CompressionRatio  Mapped  MappedMemory  Unmapped  UnmappedMemory  Allocated  AllocatedMemory  DeletedRows TableLocation\n",
       " 0  ALL       8       4  19200          0   1678212       142212               0                 0       4       1678928         4         1678928          0                0            0           CAS\n",
       "\n",
       "+ Elapsed: 0.0144s, user: 0.009s, sys: 0.0181s, mem: 1.85mb"
      ]
     },
     "execution_count": 41,
     "metadata": {},
     "output_type": "execute_result"
    }
   ],
   "source": [
    "prdCAS.tableDetails()"
   ]
  },
  {
   "cell_type": "code",
   "execution_count": 42,
   "metadata": {},
   "outputs": [
    {
     "data": {
      "text/plain": [
       "swat.cas.results.CASResults"
      ]
     },
     "execution_count": 42,
     "metadata": {},
     "output_type": "execute_result"
    }
   ],
   "source": [
    "type(prdCAS.tableDetails())"
   ]
  },
  {
   "cell_type": "code",
   "execution_count": 43,
   "metadata": {},
   "outputs": [
    {
     "data": {
      "text/html": [
       "<div class=\"cas-results-key\"><b>&#167; TableInfo</b></div>\n",
       "<div class=\"cas-results-body\">\n",
       "<div>\n",
       "<style scoped>\n",
       "    .dataframe tbody tr th:only-of-type {\n",
       "        vertical-align: middle;\n",
       "    }\n",
       "\n",
       "    .dataframe tbody tr th {\n",
       "        vertical-align: top;\n",
       "    }\n",
       "\n",
       "    .dataframe thead th {\n",
       "        text-align: right;\n",
       "    }\n",
       "</style>\n",
       "<table border=\"1\" class=\"dataframe\">\n",
       "  <thead>\n",
       "    <tr style=\"text-align: right;\">\n",
       "      <th title=\"\"></th>\n",
       "      <th title=\"Name\">Name</th>\n",
       "      <th title=\"Rows\">Rows</th>\n",
       "      <th title=\"Columns\">Columns</th>\n",
       "      <th title=\"Indexed Columns\">IndexedColumns</th>\n",
       "      <th title=\"Encoding\">Encoding</th>\n",
       "      <th title=\"Created\">CreateTimeFormatted</th>\n",
       "      <th title=\"Last Modified\">ModTimeFormatted</th>\n",
       "      <th title=\"Last Accessed\">AccessTimeFormatted</th>\n",
       "      <th title=\"Character Set\">JavaCharSet</th>\n",
       "      <th title=\"CreateTime\">CreateTime</th>\n",
       "      <th title=\"ModTime\">ModTime</th>\n",
       "      <th title=\"AccessTime\">AccessTime</th>\n",
       "      <th title=\"Global\">Global</th>\n",
       "      <th title=\"Repeated\">Repeated</th>\n",
       "      <th title=\"View\">View</th>\n",
       "      <th title=\"MultiPart\">MultiPart</th>\n",
       "      <th title=\"Loaded Source\">SourceName</th>\n",
       "      <th title=\"Source Caslib\">SourceCaslib</th>\n",
       "      <th title=\"Compressed\">Compressed</th>\n",
       "      <th title=\"Table Creator\">Creator</th>\n",
       "      <th title=\"Last Table Modifier\">Modifier</th>\n",
       "      <th title=\"Source Modified\">SourceModTimeFormatted</th>\n",
       "      <th title=\"SourceModTime\">SourceModTime</th>\n",
       "    </tr>\n",
       "  </thead>\n",
       "  <tbody>\n",
       "    <tr>\n",
       "      <td>0</td>\n",
       "      <td>PRODUCTS</td>\n",
       "      <td>19200</td>\n",
       "      <td>7</td>\n",
       "      <td>0</td>\n",
       "      <td>utf-8</td>\n",
       "      <td>2023-01-18T12:49:54+00:00</td>\n",
       "      <td>2023-01-18T12:49:54+00:00</td>\n",
       "      <td>2023-01-18T12:50:08+00:00</td>\n",
       "      <td>UTF8</td>\n",
       "      <td>1.989665e+09</td>\n",
       "      <td>1.989665e+09</td>\n",
       "      <td>1.989665e+09</td>\n",
       "      <td>0</td>\n",
       "      <td>0</td>\n",
       "      <td>0</td>\n",
       "      <td>0</td>\n",
       "      <td>products.csv</td>\n",
       "      <td>CASUSER(Peter.Styliadis@sas.com)</td>\n",
       "      <td>0</td>\n",
       "      <td>Peter.Styliadis@sas.com</td>\n",
       "      <td></td>\n",
       "      <td>2023-01-18T12:49:50+00:00</td>\n",
       "      <td>1.989665e+09</td>\n",
       "    </tr>\n",
       "  </tbody>\n",
       "</table>\n",
       "</div>\n",
       "</div>\n",
       "<div class=\"cas-output-area\"></div>\n",
       "<p class=\"cas-results-performance\"><small><span class=\"cas-elapsed\">elapsed 0.00989s</span> &#183; <span class=\"cas-user\">user 0.00541s</span> &#183; <span class=\"cas-sys\">sys 0.0131s</span> &#183; <span class=\"cas-memory\">mem 1.86MB</span></small></p>"
      ],
      "text/plain": [
       "[TableInfo]\n",
       "\n",
       "        Name   Rows  Columns  IndexedColumns Encoding        CreateTimeFormatted           ModTimeFormatted        AccessTimeFormatted JavaCharSet    CreateTime       ModTime    AccessTime  Global  Repeated  View  MultiPart    SourceName                      SourceCaslib  Compressed                  Creator Modifier     SourceModTimeFormatted  SourceModTime\n",
       " 0  PRODUCTS  19200        7               0    utf-8  2023-01-18T12:49:54+00:00  2023-01-18T12:49:54+00:00  2023-01-18T12:50:08+00:00        UTF8  1.989665e+09  1.989665e+09  1.989665e+09       0         0     0          0  products.csv  CASUSER(Peter.Styliadis@sas.com)           0  Peter.Styliadis@sas.com           2023-01-18T12:49:50+00:00   1.989665e+09\n",
       "\n",
       "+ Elapsed: 0.00989s, user: 0.00541s, sys: 0.0131s, mem: 1.86mb"
      ]
     },
     "execution_count": 43,
     "metadata": {},
     "output_type": "execute_result"
    }
   ],
   "source": [
    "prdCAS.tableInfo()"
   ]
  },
  {
   "cell_type": "code",
   "execution_count": 44,
   "metadata": {},
   "outputs": [
    {
     "data": {
      "text/plain": [
       "swat.cas.results.CASResults"
      ]
     },
     "execution_count": 44,
     "metadata": {},
     "output_type": "execute_result"
    }
   ],
   "source": [
    "type(prdCAS.tableInfo())"
   ]
  },
  {
   "cell_type": "markdown",
   "metadata": {},
   "source": [
    "Work with a **CASResults** object using traditional Pandas on the client machine.\n",
    "\n",
    "Specify the *TableInfo* key to return the **SASDataFrame**. Then use the **SASDataFrame** as you would a Python DataFrame. Remember, **SASDataFrames** are local on your client machine and a subclass of a Pandas DataFrame."
   ]
  },
  {
   "cell_type": "code",
   "execution_count": 45,
   "metadata": {},
   "outputs": [
    {
     "data": {
      "text/html": [
       "<div>\n",
       "<style scoped>\n",
       "    .dataframe tbody tr th:only-of-type {\n",
       "        vertical-align: middle;\n",
       "    }\n",
       "\n",
       "    .dataframe tbody tr th {\n",
       "        vertical-align: top;\n",
       "    }\n",
       "\n",
       "    .dataframe thead th {\n",
       "        text-align: right;\n",
       "    }\n",
       "</style>\n",
       "<table border=\"1\" class=\"dataframe\">\n",
       "  <thead>\n",
       "    <tr style=\"text-align: right;\">\n",
       "      <th title=\"\"></th>\n",
       "      <th title=\"Rows\">Rows</th>\n",
       "      <th title=\"Columns\">Columns</th>\n",
       "    </tr>\n",
       "    <tr>\n",
       "      <th title=\"Name\">Name</th>\n",
       "      <th title=\"\"></th>\n",
       "      <th title=\"\"></th>\n",
       "    </tr>\n",
       "  </thead>\n",
       "  <tbody>\n",
       "    <tr>\n",
       "      <td>PRODUCTS</td>\n",
       "      <td>19200</td>\n",
       "      <td>7</td>\n",
       "    </tr>\n",
       "  </tbody>\n",
       "</table>\n",
       "</div>"
      ],
      "text/plain": [
       "           Rows  Columns\n",
       "Name                    \n",
       "PRODUCTS  19200        7"
      ]
     },
     "execution_count": 45,
     "metadata": {},
     "output_type": "execute_result"
    }
   ],
   "source": [
    "# Specify the columns to return from the SASDataFrame\n",
    "cols=[\"Name\",\"Rows\",\"Columns\"]\n",
    "\n",
    "# Execute the CAS action and return the SASDataFrame with the specified columns. Set the name column as the index using Pandas\n",
    "prdCAS.tableInfo()[\"TableInfo\"][cols].set_index('Name')"
   ]
  },
  {
   "cell_type": "markdown",
   "metadata": {},
   "source": [
    "###  <a id='7b'> 7b. View CAS Table Column Attributes </a>\n",
    "[Back to table of contents](#0)"
   ]
  },
  {
   "cell_type": "markdown",
   "metadata": {},
   "source": [
    "Use the **dtypes** attribute to view column names and data types of a CAS table."
   ]
  },
  {
   "cell_type": "code",
   "execution_count": 46,
   "metadata": {},
   "outputs": [
    {
     "data": {
      "text/plain": [
       "Product         varchar\n",
       "DiscountCode    varchar\n",
       "Return          varchar\n",
       "StoreID          double\n",
       "Price            double\n",
       "Cost             double\n",
       "Quantity         double\n",
       "dtype: object"
      ]
     },
     "execution_count": 46,
     "metadata": {},
     "output_type": "execute_result"
    }
   ],
   "source": [
    "prdCAS.dtypes"
   ]
  },
  {
   "cell_type": "markdown",
   "metadata": {},
   "source": [
    "You can also use the **columnInfo** CAS action for additional information."
   ]
  },
  {
   "cell_type": "code",
   "execution_count": 47,
   "metadata": {},
   "outputs": [
    {
     "data": {
      "text/html": [
       "<div class=\"cas-results-key\"><b>&#167; ColumnInfo</b></div>\n",
       "<div class=\"cas-results-body\">\n",
       "<div>\n",
       "<style scoped>\n",
       "    .dataframe tbody tr th:only-of-type {\n",
       "        vertical-align: middle;\n",
       "    }\n",
       "\n",
       "    .dataframe tbody tr th {\n",
       "        vertical-align: top;\n",
       "    }\n",
       "\n",
       "    .dataframe thead th {\n",
       "        text-align: right;\n",
       "    }\n",
       "</style>\n",
       "<table border=\"1\" class=\"dataframe\">\n",
       "  <thead>\n",
       "    <tr style=\"text-align: right;\">\n",
       "      <th title=\"\"></th>\n",
       "      <th title=\"Column\">Column</th>\n",
       "      <th title=\"Label\">Label</th>\n",
       "      <th title=\"ID\">ID</th>\n",
       "      <th title=\"Type\">Type</th>\n",
       "      <th title=\"RawLength\">RawLength</th>\n",
       "      <th title=\"FormattedLength\">FormattedLength</th>\n",
       "      <th title=\"Format\">Format</th>\n",
       "      <th title=\"NFL\">NFL</th>\n",
       "      <th title=\"NFD\">NFD</th>\n",
       "    </tr>\n",
       "  </thead>\n",
       "  <tbody>\n",
       "    <tr>\n",
       "      <td>0</td>\n",
       "      <td>Product</td>\n",
       "      <td></td>\n",
       "      <td>1</td>\n",
       "      <td>varchar</td>\n",
       "      <td>10</td>\n",
       "      <td>10</td>\n",
       "      <td></td>\n",
       "      <td>0</td>\n",
       "      <td>0</td>\n",
       "    </tr>\n",
       "    <tr>\n",
       "      <td>1</td>\n",
       "      <td>DiscountCode</td>\n",
       "      <td></td>\n",
       "      <td>2</td>\n",
       "      <td>varchar</td>\n",
       "      <td>10</td>\n",
       "      <td>10</td>\n",
       "      <td></td>\n",
       "      <td>0</td>\n",
       "      <td>0</td>\n",
       "    </tr>\n",
       "    <tr>\n",
       "      <td>2</td>\n",
       "      <td>Return</td>\n",
       "      <td></td>\n",
       "      <td>3</td>\n",
       "      <td>varchar</td>\n",
       "      <td>3</td>\n",
       "      <td>3</td>\n",
       "      <td></td>\n",
       "      <td>0</td>\n",
       "      <td>0</td>\n",
       "    </tr>\n",
       "    <tr>\n",
       "      <td>3</td>\n",
       "      <td>StoreID</td>\n",
       "      <td></td>\n",
       "      <td>4</td>\n",
       "      <td>double</td>\n",
       "      <td>8</td>\n",
       "      <td>12</td>\n",
       "      <td></td>\n",
       "      <td>0</td>\n",
       "      <td>0</td>\n",
       "    </tr>\n",
       "    <tr>\n",
       "      <td>4</td>\n",
       "      <td>Price</td>\n",
       "      <td></td>\n",
       "      <td>5</td>\n",
       "      <td>double</td>\n",
       "      <td>8</td>\n",
       "      <td>12</td>\n",
       "      <td></td>\n",
       "      <td>0</td>\n",
       "      <td>0</td>\n",
       "    </tr>\n",
       "    <tr>\n",
       "      <td>5</td>\n",
       "      <td>Cost</td>\n",
       "      <td></td>\n",
       "      <td>6</td>\n",
       "      <td>double</td>\n",
       "      <td>8</td>\n",
       "      <td>12</td>\n",
       "      <td></td>\n",
       "      <td>0</td>\n",
       "      <td>0</td>\n",
       "    </tr>\n",
       "    <tr>\n",
       "      <td>6</td>\n",
       "      <td>Quantity</td>\n",
       "      <td></td>\n",
       "      <td>7</td>\n",
       "      <td>double</td>\n",
       "      <td>8</td>\n",
       "      <td>12</td>\n",
       "      <td></td>\n",
       "      <td>0</td>\n",
       "      <td>0</td>\n",
       "    </tr>\n",
       "  </tbody>\n",
       "</table>\n",
       "</div>\n",
       "</div>\n",
       "<div class=\"cas-output-area\"></div>\n",
       "<p class=\"cas-results-performance\"><small><span class=\"cas-elapsed\">elapsed 0.0111s</span> &#183; <span class=\"cas-user\">user 0.0029s</span> &#183; <span class=\"cas-sys\">sys 0.0229s</span> &#183; <span class=\"cas-memory\">mem 2.46MB</span></small></p>"
      ],
      "text/plain": [
       "[ColumnInfo]\n",
       "\n",
       "          Column Label  ID     Type  RawLength  FormattedLength Format  NFL  NFD\n",
       " 0       Product         1  varchar         10               10           0    0\n",
       " 1  DiscountCode         2  varchar         10               10           0    0\n",
       " 2        Return         3  varchar          3                3           0    0\n",
       " 3       StoreID         4   double          8               12           0    0\n",
       " 4         Price         5   double          8               12           0    0\n",
       " 5          Cost         6   double          8               12           0    0\n",
       " 6      Quantity         7   double          8               12           0    0\n",
       "\n",
       "+ Elapsed: 0.0111s, user: 0.0029s, sys: 0.0229s, mem: 2.46mb"
      ]
     },
     "execution_count": 47,
     "metadata": {},
     "output_type": "execute_result"
    }
   ],
   "source": [
    "prdCAS.columnInfo()"
   ]
  },
  {
   "cell_type": "markdown",
   "metadata": {},
   "source": [
    "###  <a id='7c'> 7c. View the Distinct Values in a CAS Table </a>\n",
    "[Back to table of contents](#0)"
   ]
  },
  {
   "cell_type": "markdown",
   "metadata": {},
   "source": [
    "Use the **nunique** method from the SWAT API inside a Python loop."
   ]
  },
  {
   "cell_type": "code",
   "execution_count": 48,
   "metadata": {},
   "outputs": [
    {
     "name": "stdout",
     "output_type": "stream",
     "text": [
      "Product: 4\n",
      "DiscountCode: 7\n",
      "Return: 1\n",
      "StoreID: 51\n",
      "Price: 4\n",
      "Cost: 3\n",
      "Quantity: 10\n"
     ]
    }
   ],
   "source": [
    "colNames=prdCAS.columns.tolist()\n",
    "for i in colNames:\n",
    "    print(i + \": \" + str(prdCAS[i].nunique()))"
   ]
  },
  {
   "cell_type": "code",
   "execution_count": 49,
   "metadata": {},
   "outputs": [
    {
     "name": "stdout",
     "output_type": "stream",
     "text": [
      "CASTable('products', caslib='casuser')\n",
      "Data columns (total 7 columns):\n",
      "                  N   Miss     Type\n",
      "Product       19200  False  varchar\n",
      "DiscountCode   3877   True  varchar\n",
      "Return          994   True  varchar\n",
      "StoreID       19200  False   double\n",
      "Price         19200  False   double\n",
      "Cost          19200  False   double\n",
      "Quantity      19200  False   double\n",
      "dtypes: double(4), varchar(3)\n",
      "data size: 1678212\n",
      "vardata size: 142212\n",
      "memory usage: 0\n"
     ]
    }
   ],
   "source": [
    "prdCAS.info()"
   ]
  },
  {
   "cell_type": "code",
   "execution_count": 50,
   "metadata": {},
   "outputs": [
    {
     "data": {
      "text/plain": [
       "Product             0\n",
       "DiscountCode    15323\n",
       "Return          18206\n",
       "StoreID             0\n",
       "Price               0\n",
       "Cost                0\n",
       "Quantity            0\n",
       "dtype: int64"
      ]
     },
     "execution_count": 50,
     "metadata": {},
     "output_type": "execute_result"
    }
   ],
   "source": [
    "prdCAS.nmiss()"
   ]
  },
  {
   "cell_type": "markdown",
   "metadata": {},
   "source": [
    "Use the [distinct](https://go.documentation.sas.com/doc/en/pgmsascdc/v_015/casanpg/cas-simple-distinct.htm) CAS action"
   ]
  },
  {
   "cell_type": "code",
   "execution_count": 51,
   "metadata": {},
   "outputs": [
    {
     "data": {
      "text/html": [
       "<div class=\"cas-results-key\"><b>&#167; Distinct</b></div>\n",
       "<div class=\"cas-results-body\">\n",
       "<div>\n",
       "<style scoped>\n",
       "    .dataframe tbody tr th:only-of-type {\n",
       "        vertical-align: middle;\n",
       "    }\n",
       "\n",
       "    .dataframe tbody tr th {\n",
       "        vertical-align: top;\n",
       "    }\n",
       "\n",
       "    .dataframe thead th {\n",
       "        text-align: right;\n",
       "    }\n",
       "</style>\n",
       "<table border=\"1\" class=\"dataframe\"><caption>Distinct Counts for PRODUCTS</caption>\n",
       "  <thead>\n",
       "    <tr style=\"text-align: right;\">\n",
       "      <th title=\"\"></th>\n",
       "      <th title=\"Analysis Variable\">Column</th>\n",
       "      <th title=\"Number of Distinct Values\">NDistinct</th>\n",
       "      <th title=\"Number of Missing Values\">NMiss</th>\n",
       "      <th title=\"Truncated\">Trunc</th>\n",
       "    </tr>\n",
       "  </thead>\n",
       "  <tbody>\n",
       "    <tr>\n",
       "      <td>0</td>\n",
       "      <td>Product</td>\n",
       "      <td>4.0</td>\n",
       "      <td>0.0</td>\n",
       "      <td>0.0</td>\n",
       "    </tr>\n",
       "    <tr>\n",
       "      <td>1</td>\n",
       "      <td>DiscountCode</td>\n",
       "      <td>8.0</td>\n",
       "      <td>15323.0</td>\n",
       "      <td>0.0</td>\n",
       "    </tr>\n",
       "    <tr>\n",
       "      <td>2</td>\n",
       "      <td>Return</td>\n",
       "      <td>2.0</td>\n",
       "      <td>18206.0</td>\n",
       "      <td>0.0</td>\n",
       "    </tr>\n",
       "    <tr>\n",
       "      <td>3</td>\n",
       "      <td>StoreID</td>\n",
       "      <td>51.0</td>\n",
       "      <td>0.0</td>\n",
       "      <td>0.0</td>\n",
       "    </tr>\n",
       "    <tr>\n",
       "      <td>4</td>\n",
       "      <td>Price</td>\n",
       "      <td>4.0</td>\n",
       "      <td>0.0</td>\n",
       "      <td>0.0</td>\n",
       "    </tr>\n",
       "    <tr>\n",
       "      <td>5</td>\n",
       "      <td>Cost</td>\n",
       "      <td>3.0</td>\n",
       "      <td>0.0</td>\n",
       "      <td>0.0</td>\n",
       "    </tr>\n",
       "    <tr>\n",
       "      <td>6</td>\n",
       "      <td>Quantity</td>\n",
       "      <td>10.0</td>\n",
       "      <td>0.0</td>\n",
       "      <td>0.0</td>\n",
       "    </tr>\n",
       "  </tbody>\n",
       "</table>\n",
       "</div>\n",
       "</div>\n",
       "<div class=\"cas-output-area\"></div>\n",
       "<p class=\"cas-results-performance\"><small><span class=\"cas-elapsed\">elapsed 0.0411s</span> &#183; <span class=\"cas-user\">user 0.0724s</span> &#183; <span class=\"cas-sys\">sys 0.0669s</span> &#183; <span class=\"cas-memory\">mem 71.9MB</span></small></p>"
      ],
      "text/plain": [
       "[Distinct]\n",
       "\n",
       " Distinct Counts for PRODUCTS\n",
       " \n",
       "          Column  NDistinct    NMiss  Trunc\n",
       " 0       Product        4.0      0.0    0.0\n",
       " 1  DiscountCode        8.0  15323.0    0.0\n",
       " 2        Return        2.0  18206.0    0.0\n",
       " 3       StoreID       51.0      0.0    0.0\n",
       " 4         Price        4.0      0.0    0.0\n",
       " 5          Cost        3.0      0.0    0.0\n",
       " 6      Quantity       10.0      0.0    0.0\n",
       "\n",
       "+ Elapsed: 0.0411s, user: 0.0724s, sys: 0.0669s, mem: 71.9mb"
      ]
     },
     "execution_count": 51,
     "metadata": {},
     "output_type": "execute_result"
    }
   ],
   "source": [
    "## Stores the result of the distinct action in d. Action summarizes the data in CAS and returns the results local on the client\n",
    "d = prdCAS.distinct()\n",
    "d"
   ]
  },
  {
   "cell_type": "markdown",
   "metadata": {},
   "source": [
    "The distinct action has one key."
   ]
  },
  {
   "cell_type": "code",
   "execution_count": 52,
   "metadata": {},
   "outputs": [
    {
     "data": {
      "text/plain": [
       "odict_keys(['Distinct'])"
      ]
     },
     "execution_count": 52,
     "metadata": {},
     "output_type": "execute_result"
    }
   ],
   "source": [
    "d.keys()"
   ]
  },
  {
   "cell_type": "markdown",
   "metadata": {},
   "source": [
    "Store the SASDataFrame from the distinct action."
   ]
  },
  {
   "cell_type": "code",
   "execution_count": 53,
   "metadata": {},
   "outputs": [
    {
     "data": {
      "text/plain": [
       "swat.dataframe.SASDataFrame"
      ]
     },
     "execution_count": 53,
     "metadata": {},
     "output_type": "execute_result"
    }
   ],
   "source": [
    "nmiss = d[\"Distinct\"]\n",
    "type(nmiss)"
   ]
  },
  {
   "cell_type": "markdown",
   "metadata": {},
   "source": [
    "Plot the number of misisng values from the SASDataFrame above on the client using traditional Pandas."
   ]
  },
  {
   "cell_type": "code",
   "execution_count": 54,
   "metadata": {},
   "outputs": [
    {
     "data": {
      "text/plain": [
       "<AxesSubplot:xlabel='Column'>"
      ]
     },
     "execution_count": 54,
     "metadata": {},
     "output_type": "execute_result"
    },
    {
     "data": {
      "image/png": "[encoded data removed]",
      "text/plain": [
       "<Figure size 432x288 with 1 Axes>"
      ]
     },
     "metadata": {
      "needs_background": "light"
     },
     "output_type": "display_data"
    }
   ],
   "source": [
    "nmiss.plot(kind=\"bar\", x=\"Column\", y=\"NMiss\")"
   ]
  },
  {
   "cell_type": "markdown",
   "metadata": {},
   "source": [
    "<div class=\"alert alert-info\" role=\"alert\">\n",
    "    \n",
    "<a id='8'>\n",
    "    <h2> 8. Summary Statistics on a CAS Table</h2>\n",
    "</a>\n",
    "   \n",
    "[Back to table of contents](#0)\n",
    "    \n",
    "</div>"
   ]
  },
  {
   "cell_type": "markdown",
   "metadata": {},
   "source": [
    "###  <a id='8a'> 8a. Describe SWAT Method </a>\n",
    "[Back to table of contents](#0)"
   ]
  },
  {
   "cell_type": "code",
   "execution_count": 55,
   "metadata": {},
   "outputs": [
    {
     "data": {
      "text/html": [
       "<div>\n",
       "<style scoped>\n",
       "    .dataframe tbody tr th:only-of-type {\n",
       "        vertical-align: middle;\n",
       "    }\n",
       "\n",
       "    .dataframe tbody tr th {\n",
       "        vertical-align: top;\n",
       "    }\n",
       "\n",
       "    .dataframe thead th {\n",
       "        text-align: right;\n",
       "    }\n",
       "</style>\n",
       "<table border=\"1\" class=\"dataframe\">\n",
       "  <thead>\n",
       "    <tr style=\"text-align: right;\">\n",
       "      <th title=\"\"></th>\n",
       "      <th title=\"StoreID\">StoreID</th>\n",
       "      <th title=\"Price\">Price</th>\n",
       "      <th title=\"Cost\">Cost</th>\n",
       "      <th title=\"Quantity\">Quantity</th>\n",
       "    </tr>\n",
       "  </thead>\n",
       "  <tbody>\n",
       "    <tr>\n",
       "      <td>count</td>\n",
       "      <td>19200.000000</td>\n",
       "      <td>19200.000000</td>\n",
       "      <td>19200.000000</td>\n",
       "      <td>19200.000000</td>\n",
       "    </tr>\n",
       "    <tr>\n",
       "      <td>mean</td>\n",
       "      <td>19.483594</td>\n",
       "      <td>8.583542</td>\n",
       "      <td>1.740677</td>\n",
       "      <td>7.491302</td>\n",
       "    </tr>\n",
       "    <tr>\n",
       "      <td>std</td>\n",
       "      <td>6.341288</td>\n",
       "      <td>1.623503</td>\n",
       "      <td>0.335573</td>\n",
       "      <td>1.373796</td>\n",
       "    </tr>\n",
       "    <tr>\n",
       "      <td>min</td>\n",
       "      <td>3.000000</td>\n",
       "      <td>4.990000</td>\n",
       "      <td>0.990000</td>\n",
       "      <td>1.000000</td>\n",
       "    </tr>\n",
       "    <tr>\n",
       "      <td>25%</td>\n",
       "      <td>15.000000</td>\n",
       "      <td>7.990000</td>\n",
       "      <td>1.490000</td>\n",
       "      <td>7.000000</td>\n",
       "    </tr>\n",
       "    <tr>\n",
       "      <td>50%</td>\n",
       "      <td>19.000000</td>\n",
       "      <td>7.990000</td>\n",
       "      <td>1.990000</td>\n",
       "      <td>8.000000</td>\n",
       "    </tr>\n",
       "    <tr>\n",
       "      <td>75%</td>\n",
       "      <td>23.000000</td>\n",
       "      <td>8.990000</td>\n",
       "      <td>1.990000</td>\n",
       "      <td>8.000000</td>\n",
       "    </tr>\n",
       "    <tr>\n",
       "      <td>max</td>\n",
       "      <td>58.000000</td>\n",
       "      <td>10.990000</td>\n",
       "      <td>1.990000</td>\n",
       "      <td>10.000000</td>\n",
       "    </tr>\n",
       "  </tbody>\n",
       "</table>\n",
       "</div>"
      ],
      "text/plain": [
       "            StoreID         Price          Cost      Quantity\n",
       "count  19200.000000  19200.000000  19200.000000  19200.000000\n",
       "mean      19.483594      8.583542      1.740677      7.491302\n",
       "std        6.341288      1.623503      0.335573      1.373796\n",
       "min        3.000000      4.990000      0.990000      1.000000\n",
       "25%       15.000000      7.990000      1.490000      7.000000\n",
       "50%       19.000000      7.990000      1.990000      8.000000\n",
       "75%       23.000000      8.990000      1.990000      8.000000\n",
       "max       58.000000     10.990000      1.990000     10.000000"
      ]
     },
     "execution_count": 55,
     "metadata": {},
     "output_type": "execute_result"
    }
   ],
   "source": [
    "prdCAS.describe()"
   ]
  },
  {
   "cell_type": "markdown",
   "metadata": {},
   "source": [
    "###  <a id='8b'> 8b. Summary Action</a>\n",
    "[**summary**](https://go.documentation.sas.com/doc/en/pgmsascdc/v_015/casanpg/cas-simple-summary.htm) CAS action\n",
    "\n",
    "[Back to table of contents](#0)"
   ]
  },
  {
   "cell_type": "code",
   "execution_count": 56,
   "metadata": {},
   "outputs": [
    {
     "data": {
      "text/html": [
       "<div class=\"cas-results-key\"><b>&#167; Summary</b></div>\n",
       "<div class=\"cas-results-body\">\n",
       "<div>\n",
       "<style scoped>\n",
       "    .dataframe tbody tr th:only-of-type {\n",
       "        vertical-align: middle;\n",
       "    }\n",
       "\n",
       "    .dataframe tbody tr th {\n",
       "        vertical-align: top;\n",
       "    }\n",
       "\n",
       "    .dataframe thead th {\n",
       "        text-align: right;\n",
       "    }\n",
       "</style>\n",
       "<table border=\"1\" class=\"dataframe\"><caption>Descriptive Statistics for PRODUCTS</caption>\n",
       "  <thead>\n",
       "    <tr style=\"text-align: right;\">\n",
       "      <th title=\"\"></th>\n",
       "      <th title=\"Analysis Variable\">Column</th>\n",
       "      <th title=\"Minimum\">Min</th>\n",
       "      <th title=\"Maximum\">Max</th>\n",
       "      <th title=\"N\">N</th>\n",
       "      <th title=\"N Miss\">NMiss</th>\n",
       "      <th title=\"Mean\">Mean</th>\n",
       "      <th title=\"Sum\">Sum</th>\n",
       "      <th title=\"Std Dev\">Std</th>\n",
       "      <th title=\"Std Error\">StdErr</th>\n",
       "      <th title=\"Variance\">Var</th>\n",
       "      <th title=\"USS\">USS</th>\n",
       "      <th title=\"Corrected SS\">CSS</th>\n",
       "      <th title=\"Coeff of Variation\">CV</th>\n",
       "      <th title=\"t Value\">TValue</th>\n",
       "      <th title=\"Pr &gt; |t|\">ProbT</th>\n",
       "      <th title=\"Skewness\">Skewness</th>\n",
       "      <th title=\"Kurtosis\">Kurtosis</th>\n",
       "    </tr>\n",
       "  </thead>\n",
       "  <tbody>\n",
       "    <tr>\n",
       "      <td>0</td>\n",
       "      <td>StoreID</td>\n",
       "      <td>3.00</td>\n",
       "      <td>58.00</td>\n",
       "      <td>19200.0</td>\n",
       "      <td>0.0</td>\n",
       "      <td>19.483594</td>\n",
       "      <td>374085.0</td>\n",
       "      <td>6.341288</td>\n",
       "      <td>0.045764</td>\n",
       "      <td>40.211929</td>\n",
       "      <td>8060549.00</td>\n",
       "      <td>772028.832031</td>\n",
       "      <td>32.546807</td>\n",
       "      <td>425.737813</td>\n",
       "      <td>0.0</td>\n",
       "      <td>0.636911</td>\n",
       "      <td>0.611503</td>\n",
       "    </tr>\n",
       "    <tr>\n",
       "      <td>1</td>\n",
       "      <td>Price</td>\n",
       "      <td>4.99</td>\n",
       "      <td>10.99</td>\n",
       "      <td>19200.0</td>\n",
       "      <td>0.0</td>\n",
       "      <td>8.583542</td>\n",
       "      <td>164804.0</td>\n",
       "      <td>1.623503</td>\n",
       "      <td>0.011717</td>\n",
       "      <td>2.635762</td>\n",
       "      <td>1465206.00</td>\n",
       "      <td>50603.999167</td>\n",
       "      <td>18.914140</td>\n",
       "      <td>732.595115</td>\n",
       "      <td>0.0</td>\n",
       "      <td>-0.454860</td>\n",
       "      <td>0.373418</td>\n",
       "    </tr>\n",
       "    <tr>\n",
       "      <td>2</td>\n",
       "      <td>Cost</td>\n",
       "      <td>0.99</td>\n",
       "      <td>1.99</td>\n",
       "      <td>19200.0</td>\n",
       "      <td>0.0</td>\n",
       "      <td>1.740677</td>\n",
       "      <td>33421.0</td>\n",
       "      <td>0.335573</td>\n",
       "      <td>0.002422</td>\n",
       "      <td>0.112610</td>\n",
       "      <td>60337.16</td>\n",
       "      <td>2161.991198</td>\n",
       "      <td>19.278332</td>\n",
       "      <td>718.755481</td>\n",
       "      <td>0.0</td>\n",
       "      <td>-0.999514</td>\n",
       "      <td>-0.213903</td>\n",
       "    </tr>\n",
       "    <tr>\n",
       "      <td>3</td>\n",
       "      <td>Quantity</td>\n",
       "      <td>1.00</td>\n",
       "      <td>10.00</td>\n",
       "      <td>19200.0</td>\n",
       "      <td>0.0</td>\n",
       "      <td>7.491302</td>\n",
       "      <td>143833.0</td>\n",
       "      <td>1.373796</td>\n",
       "      <td>0.009915</td>\n",
       "      <td>1.887314</td>\n",
       "      <td>1113731.00</td>\n",
       "      <td>36234.547448</td>\n",
       "      <td>18.338542</td>\n",
       "      <td>755.589315</td>\n",
       "      <td>0.0</td>\n",
       "      <td>-0.378558</td>\n",
       "      <td>-0.039785</td>\n",
       "    </tr>\n",
       "  </tbody>\n",
       "</table>\n",
       "</div>\n",
       "</div>\n",
       "<div class=\"cas-output-area\"></div>\n",
       "<p class=\"cas-results-performance\"><small><span class=\"cas-elapsed\">elapsed 0.0316s</span> &#183; <span class=\"cas-user\">user 0.0377s</span> &#183; <span class=\"cas-sys\">sys 0.0758s</span> &#183; <span class=\"cas-memory\">mem 31.4MB</span></small></p>"
      ],
      "text/plain": [
       "[Summary]\n",
       "\n",
       " Descriptive Statistics for PRODUCTS\n",
       " \n",
       "      Column   Min    Max        N  NMiss       Mean       Sum       Std    StdErr        Var         USS            CSS         CV      TValue  ProbT  Skewness  Kurtosis\n",
       " 0   StoreID  3.00  58.00  19200.0    0.0  19.483594  374085.0  6.341288  0.045764  40.211929  8060549.00  772028.832031  32.546807  425.737813    0.0  0.636911  0.611503\n",
       " 1     Price  4.99  10.99  19200.0    0.0   8.583542  164804.0  1.623503  0.011717   2.635762  1465206.00   50603.999167  18.914140  732.595115    0.0 -0.454860  0.373418\n",
       " 2      Cost  0.99   1.99  19200.0    0.0   1.740677   33421.0  0.335573  0.002422   0.112610    60337.16    2161.991198  19.278332  718.755481    0.0 -0.999514 -0.213903\n",
       " 3  Quantity  1.00  10.00  19200.0    0.0   7.491302  143833.0  1.373796  0.009915   1.887314  1113731.00   36234.547448  18.338542  755.589315    0.0 -0.378558 -0.039785\n",
       "\n",
       "+ Elapsed: 0.0316s, user: 0.0377s, sys: 0.0758s, mem: 31.4mb"
      ]
     },
     "execution_count": 56,
     "metadata": {},
     "output_type": "execute_result"
    }
   ],
   "source": [
    "prdCAS.summary()"
   ]
  },
  {
   "cell_type": "markdown",
   "metadata": {},
   "source": [
    "<div class=\"alert alert-block alert-success\">\n",
    "    <b>INTERESTING:</b> \n",
    "View the processing time between using the SWAT describe method and summary action. If you turn on tracing options you will see describe uses multiple actions to mimic the pandas describe method. This most likely causes the longer processing time.\n",
    "\n",
    "</div>"
   ]
  },
  {
   "cell_type": "markdown",
   "metadata": {},
   "source": [
    "###  <a id='8c'> 8c. Doing More with the Summary Action</a>\n",
    "[Back to table of contents](#0)"
   ]
  },
  {
   "cell_type": "markdown",
   "metadata": {},
   "source": [
    "Specificy the columns to analyze using the **inputs** parameter."
   ]
  },
  {
   "cell_type": "code",
   "execution_count": 57,
   "metadata": {},
   "outputs": [
    {
     "data": {
      "text/html": [
       "<div class=\"cas-results-key\"><b>&#167; Summary</b></div>\n",
       "<div class=\"cas-results-body\">\n",
       "<div>\n",
       "<style scoped>\n",
       "    .dataframe tbody tr th:only-of-type {\n",
       "        vertical-align: middle;\n",
       "    }\n",
       "\n",
       "    .dataframe tbody tr th {\n",
       "        vertical-align: top;\n",
       "    }\n",
       "\n",
       "    .dataframe thead th {\n",
       "        text-align: right;\n",
       "    }\n",
       "</style>\n",
       "<table border=\"1\" class=\"dataframe\"><caption>Descriptive Statistics for PRODUCTS</caption>\n",
       "  <thead>\n",
       "    <tr style=\"text-align: right;\">\n",
       "      <th title=\"\"></th>\n",
       "      <th title=\"Analysis Variable\">Column</th>\n",
       "      <th title=\"Minimum\">Min</th>\n",
       "      <th title=\"Maximum\">Max</th>\n",
       "      <th title=\"N\">N</th>\n",
       "      <th title=\"N Miss\">NMiss</th>\n",
       "      <th title=\"Mean\">Mean</th>\n",
       "      <th title=\"Sum\">Sum</th>\n",
       "      <th title=\"Std Dev\">Std</th>\n",
       "      <th title=\"Std Error\">StdErr</th>\n",
       "      <th title=\"Variance\">Var</th>\n",
       "      <th title=\"USS\">USS</th>\n",
       "      <th title=\"Corrected SS\">CSS</th>\n",
       "      <th title=\"Coeff of Variation\">CV</th>\n",
       "      <th title=\"t Value\">TValue</th>\n",
       "      <th title=\"Pr &gt; |t|\">ProbT</th>\n",
       "      <th title=\"Skewness\">Skewness</th>\n",
       "      <th title=\"Kurtosis\">Kurtosis</th>\n",
       "    </tr>\n",
       "  </thead>\n",
       "  <tbody>\n",
       "    <tr>\n",
       "      <td>0</td>\n",
       "      <td>Price</td>\n",
       "      <td>4.99</td>\n",
       "      <td>10.99</td>\n",
       "      <td>19200.0</td>\n",
       "      <td>0.0</td>\n",
       "      <td>8.583542</td>\n",
       "      <td>164804.0</td>\n",
       "      <td>1.623503</td>\n",
       "      <td>0.011717</td>\n",
       "      <td>2.635762</td>\n",
       "      <td>1465206.00</td>\n",
       "      <td>50603.999167</td>\n",
       "      <td>18.914140</td>\n",
       "      <td>732.595115</td>\n",
       "      <td>0.0</td>\n",
       "      <td>-0.454860</td>\n",
       "      <td>0.373418</td>\n",
       "    </tr>\n",
       "    <tr>\n",
       "      <td>1</td>\n",
       "      <td>Cost</td>\n",
       "      <td>0.99</td>\n",
       "      <td>1.99</td>\n",
       "      <td>19200.0</td>\n",
       "      <td>0.0</td>\n",
       "      <td>1.740677</td>\n",
       "      <td>33421.0</td>\n",
       "      <td>0.335573</td>\n",
       "      <td>0.002422</td>\n",
       "      <td>0.112610</td>\n",
       "      <td>60337.16</td>\n",
       "      <td>2161.991198</td>\n",
       "      <td>19.278332</td>\n",
       "      <td>718.755481</td>\n",
       "      <td>0.0</td>\n",
       "      <td>-0.999514</td>\n",
       "      <td>-0.213903</td>\n",
       "    </tr>\n",
       "    <tr>\n",
       "      <td>2</td>\n",
       "      <td>Quantity</td>\n",
       "      <td>1.00</td>\n",
       "      <td>10.00</td>\n",
       "      <td>19200.0</td>\n",
       "      <td>0.0</td>\n",
       "      <td>7.491302</td>\n",
       "      <td>143833.0</td>\n",
       "      <td>1.373796</td>\n",
       "      <td>0.009915</td>\n",
       "      <td>1.887314</td>\n",
       "      <td>1113731.00</td>\n",
       "      <td>36234.547448</td>\n",
       "      <td>18.338542</td>\n",
       "      <td>755.589315</td>\n",
       "      <td>0.0</td>\n",
       "      <td>-0.378558</td>\n",
       "      <td>-0.039785</td>\n",
       "    </tr>\n",
       "  </tbody>\n",
       "</table>\n",
       "</div>\n",
       "</div>\n",
       "<div class=\"cas-output-area\"></div>\n",
       "<p class=\"cas-results-performance\"><small><span class=\"cas-elapsed\">elapsed 0.0287s</span> &#183; <span class=\"cas-user\">user 0.00654s</span> &#183; <span class=\"cas-sys\">sys 0.103s</span> &#183; <span class=\"cas-memory\">mem 31.4MB</span></small></p>"
      ],
      "text/plain": [
       "[Summary]\n",
       "\n",
       " Descriptive Statistics for PRODUCTS\n",
       " \n",
       "      Column   Min    Max        N  NMiss      Mean       Sum       Std    StdErr       Var         USS           CSS         CV      TValue  ProbT  Skewness  Kurtosis\n",
       " 0     Price  4.99  10.99  19200.0    0.0  8.583542  164804.0  1.623503  0.011717  2.635762  1465206.00  50603.999167  18.914140  732.595115    0.0 -0.454860  0.373418\n",
       " 1      Cost  0.99   1.99  19200.0    0.0  1.740677   33421.0  0.335573  0.002422  0.112610    60337.16   2161.991198  19.278332  718.755481    0.0 -0.999514 -0.213903\n",
       " 2  Quantity  1.00  10.00  19200.0    0.0  7.491302  143833.0  1.373796  0.009915  1.887314  1113731.00  36234.547448  18.338542  755.589315    0.0 -0.378558 -0.039785\n",
       "\n",
       "+ Elapsed: 0.0287s, user: 0.00654s, sys: 0.103s, mem: 31.4mb"
      ]
     },
     "execution_count": 57,
     "metadata": {},
     "output_type": "execute_result"
    }
   ],
   "source": [
    "prdCAS.summary(inputs=[\"Price\",\"Cost\",\"Quantity\"])"
   ]
  },
  {
   "cell_type": "markdown",
   "metadata": {},
   "source": [
    "### There are multiple ways to use the CAS actions. Shown below are two methods.\n",
    "\n",
    "Our Goal: Perform the summary action with the following\n",
    "- Filter rows for *Pants* (where=)\n",
    "- Create the calculated column **Total** by multiplying **Quantity * Price** (computedVarsProgram=)\n",
    "- Select the **Quantity**, **Price** and **Total** columns (vars=)\n",
    "- Select the MEAN, MAX and MIN summary statistics (subSet=)\n",
    "\n",
    "**Method 1** - Here all of this will be done by specifying the table parameter and all of the sub parameters as a dictionary inside the action."
   ]
  },
  {
   "cell_type": "code",
   "execution_count": 58,
   "metadata": {},
   "outputs": [
    {
     "data": {
      "text/html": [
       "<div class=\"cas-results-key\"><b>&#167; Summary</b></div>\n",
       "<div class=\"cas-results-body\">\n",
       "<div>\n",
       "<style scoped>\n",
       "    .dataframe tbody tr th:only-of-type {\n",
       "        vertical-align: middle;\n",
       "    }\n",
       "\n",
       "    .dataframe tbody tr th {\n",
       "        vertical-align: top;\n",
       "    }\n",
       "\n",
       "    .dataframe thead th {\n",
       "        text-align: right;\n",
       "    }\n",
       "</style>\n",
       "<table border=\"1\" class=\"dataframe\"><caption>Descriptive Statistics for PRODUCTS</caption>\n",
       "  <thead>\n",
       "    <tr style=\"text-align: right;\">\n",
       "      <th title=\"\"></th>\n",
       "      <th title=\"Analysis Variable\">Column</th>\n",
       "      <th title=\"Minimum\">Min</th>\n",
       "      <th title=\"Maximum\">Max</th>\n",
       "      <th title=\"Mean\">Mean</th>\n",
       "    </tr>\n",
       "  </thead>\n",
       "  <tbody>\n",
       "    <tr>\n",
       "      <td>0</td>\n",
       "      <td>Quantity</td>\n",
       "      <td>1.00</td>\n",
       "      <td>10.00</td>\n",
       "      <td>7.490045</td>\n",
       "    </tr>\n",
       "    <tr>\n",
       "      <td>1</td>\n",
       "      <td>Price</td>\n",
       "      <td>8.99</td>\n",
       "      <td>8.99</td>\n",
       "      <td>8.990000</td>\n",
       "    </tr>\n",
       "    <tr>\n",
       "      <td>2</td>\n",
       "      <td>Total</td>\n",
       "      <td>8.99</td>\n",
       "      <td>89.90</td>\n",
       "      <td>67.335508</td>\n",
       "    </tr>\n",
       "  </tbody>\n",
       "</table>\n",
       "</div>\n",
       "</div>\n",
       "<div class=\"cas-output-area\"></div>\n",
       "<p class=\"cas-results-performance\"><small><span class=\"cas-elapsed\">elapsed 0.043s</span> &#183; <span class=\"cas-user\">user 0.0765s</span> &#183; <span class=\"cas-sys\">sys 0.127s</span> &#183; <span class=\"cas-memory\">mem 39.2MB</span></small></p>"
      ],
      "text/plain": [
       "[Summary]\n",
       "\n",
       " Descriptive Statistics for PRODUCTS\n",
       " \n",
       "      Column   Min    Max       Mean\n",
       " 0  Quantity  1.00  10.00   7.490045\n",
       " 1     Price  8.99   8.99   8.990000\n",
       " 2     Total  8.99  89.90  67.335508\n",
       "\n",
       "+ Elapsed: 0.043s, user: 0.0765s, sys: 0.127s, mem: 39.2mb"
      ]
     },
     "execution_count": 58,
     "metadata": {},
     "output_type": "execute_result"
    }
   ],
   "source": [
    "conn.summary(table={'name'  :'products',\n",
    "                    'caslib':'casuser',\n",
    "                    'where' :'Product=\"Pants\"',\n",
    "                    'vars'  : ['Quantity','Price','Total'],\n",
    "                    'computedVarsProgram':'Total=Quantity * Price;'},\n",
    "             subSet=['MEAN','MAX','MIN']\n",
    "    )"
   ]
  },
  {
   "cell_type": "markdown",
   "metadata": {},
   "source": [
    "**Method 2** - Adding parameters to the CAS table object to accomplish the same task. Doing it this way allows you to use the prdCAS object in other actions as well."
   ]
  },
  {
   "cell_type": "code",
   "execution_count": 59,
   "metadata": {},
   "outputs": [
    {
     "data": {
      "text/plain": [
       "CASTable('products', caslib='casuser')"
      ]
     },
     "execution_count": 59,
     "metadata": {},
     "output_type": "execute_result"
    }
   ],
   "source": [
    "prdCAS"
   ]
  },
  {
   "cell_type": "code",
   "execution_count": 60,
   "metadata": {},
   "outputs": [],
   "source": [
    "prdCAS.where = 'Product=\"Pants\"'\n",
    "prdCAS.vars = ['Quantity','Price','Total']\n",
    "prdCAS.computedVarsProgram = 'Total=Quantity * Price;'"
   ]
  },
  {
   "cell_type": "code",
   "execution_count": 61,
   "metadata": {},
   "outputs": [
    {
     "data": {
      "text/plain": [
       "CASTable('products', caslib='casuser', computedvarsprogram='Total=Quantity * Price;', vars=['Quantity', 'Price', 'Total'], where='Product=\"Pants\"')"
      ]
     },
     "execution_count": 61,
     "metadata": {},
     "output_type": "execute_result"
    }
   ],
   "source": [
    "prdCAS"
   ]
  },
  {
   "cell_type": "code",
   "execution_count": 62,
   "metadata": {},
   "outputs": [
    {
     "data": {
      "text/html": [
       "<div class=\"cas-results-key\"><b>&#167; Summary</b></div>\n",
       "<div class=\"cas-results-body\">\n",
       "<div>\n",
       "<style scoped>\n",
       "    .dataframe tbody tr th:only-of-type {\n",
       "        vertical-align: middle;\n",
       "    }\n",
       "\n",
       "    .dataframe tbody tr th {\n",
       "        vertical-align: top;\n",
       "    }\n",
       "\n",
       "    .dataframe thead th {\n",
       "        text-align: right;\n",
       "    }\n",
       "</style>\n",
       "<table border=\"1\" class=\"dataframe\"><caption>Descriptive Statistics for PRODUCTS</caption>\n",
       "  <thead>\n",
       "    <tr style=\"text-align: right;\">\n",
       "      <th title=\"\"></th>\n",
       "      <th title=\"Analysis Variable\">Column</th>\n",
       "      <th title=\"Minimum\">Min</th>\n",
       "      <th title=\"Maximum\">Max</th>\n",
       "      <th title=\"Mean\">Mean</th>\n",
       "    </tr>\n",
       "  </thead>\n",
       "  <tbody>\n",
       "    <tr>\n",
       "      <td>0</td>\n",
       "      <td>Quantity</td>\n",
       "      <td>1.00</td>\n",
       "      <td>10.00</td>\n",
       "      <td>7.490045</td>\n",
       "    </tr>\n",
       "    <tr>\n",
       "      <td>1</td>\n",
       "      <td>Price</td>\n",
       "      <td>8.99</td>\n",
       "      <td>8.99</td>\n",
       "      <td>8.990000</td>\n",
       "    </tr>\n",
       "    <tr>\n",
       "      <td>2</td>\n",
       "      <td>Total</td>\n",
       "      <td>8.99</td>\n",
       "      <td>89.90</td>\n",
       "      <td>67.335508</td>\n",
       "    </tr>\n",
       "  </tbody>\n",
       "</table>\n",
       "</div>\n",
       "</div>\n",
       "<div class=\"cas-output-area\"></div>\n",
       "<p class=\"cas-results-performance\"><small><span class=\"cas-elapsed\">elapsed 0.0458s</span> &#183; <span class=\"cas-user\">user 0.0929s</span> &#183; <span class=\"cas-sys\">sys 0.12s</span> &#183; <span class=\"cas-memory\">mem 39.2MB</span></small></p>"
      ],
      "text/plain": [
       "[Summary]\n",
       "\n",
       " Descriptive Statistics for PRODUCTS\n",
       " \n",
       "      Column   Min    Max       Mean\n",
       " 0  Quantity  1.00  10.00   7.490045\n",
       " 1     Price  8.99   8.99   8.990000\n",
       " 2     Total  8.99  89.90  67.335508\n",
       "\n",
       "+ Elapsed: 0.0458s, user: 0.0929s, sys: 0.12s, mem: 39.2mb"
      ]
     },
     "execution_count": 62,
     "metadata": {},
     "output_type": "execute_result"
    }
   ],
   "source": [
    "prdCAS.summary(subSet=['MEAN','MAX','MIN'])"
   ]
  },
  {
   "cell_type": "markdown",
   "metadata": {},
   "source": [
    "Now I can use the prdCAS object with the given parameters with other actions or methods.\n",
    "\n",
    "For example, I can use the SWAT head method on the prdCAS CAS table reference. Head will return only the specified columns and rows, and create that calculated column."
   ]
  },
  {
   "cell_type": "code",
   "execution_count": 63,
   "metadata": {},
   "outputs": [
    {
     "data": {
      "text/html": [
       "<div>\n",
       "<style scoped>\n",
       "    .dataframe tbody tr th:only-of-type {\n",
       "        vertical-align: middle;\n",
       "    }\n",
       "\n",
       "    .dataframe tbody tr th {\n",
       "        vertical-align: top;\n",
       "    }\n",
       "\n",
       "    .dataframe thead th {\n",
       "        text-align: right;\n",
       "    }\n",
       "</style>\n",
       "<table border=\"1\" class=\"dataframe\"><caption>Selected Rows from Table PRODUCTS</caption>\n",
       "  <thead>\n",
       "    <tr style=\"text-align: right;\">\n",
       "      <th title=\"\"></th>\n",
       "      <th title=\"Quantity\">Quantity</th>\n",
       "      <th title=\"Price\">Price</th>\n",
       "      <th title=\"Total\">Total</th>\n",
       "    </tr>\n",
       "  </thead>\n",
       "  <tbody>\n",
       "    <tr>\n",
       "      <td>0</td>\n",
       "      <td>6.0</td>\n",
       "      <td>8.99</td>\n",
       "      <td>53.94</td>\n",
       "    </tr>\n",
       "    <tr>\n",
       "      <td>1</td>\n",
       "      <td>7.0</td>\n",
       "      <td>8.99</td>\n",
       "      <td>62.93</td>\n",
       "    </tr>\n",
       "    <tr>\n",
       "      <td>2</td>\n",
       "      <td>7.0</td>\n",
       "      <td>8.99</td>\n",
       "      <td>62.93</td>\n",
       "    </tr>\n",
       "    <tr>\n",
       "      <td>3</td>\n",
       "      <td>5.0</td>\n",
       "      <td>8.99</td>\n",
       "      <td>44.95</td>\n",
       "    </tr>\n",
       "    <tr>\n",
       "      <td>4</td>\n",
       "      <td>9.0</td>\n",
       "      <td>8.99</td>\n",
       "      <td>80.91</td>\n",
       "    </tr>\n",
       "  </tbody>\n",
       "</table>\n",
       "</div>"
      ],
      "text/plain": [
       "Selected Rows from Table PRODUCTS\n",
       "\n",
       "   Quantity  Price  Total\n",
       "0       6.0   8.99  53.94\n",
       "1       7.0   8.99  62.93\n",
       "2       7.0   8.99  62.93\n",
       "3       5.0   8.99  44.95\n",
       "4       9.0   8.99  80.91"
      ]
     },
     "execution_count": 63,
     "metadata": {},
     "output_type": "execute_result"
    }
   ],
   "source": [
    "prdCAS.head()"
   ]
  },
  {
   "cell_type": "markdown",
   "metadata": {},
   "source": [
    "Delete the parameters"
   ]
  },
  {
   "cell_type": "code",
   "execution_count": 64,
   "metadata": {},
   "outputs": [
    {
     "data": {
      "text/plain": [
       "CASTable('products', caslib='casuser')"
      ]
     },
     "execution_count": 64,
     "metadata": {},
     "output_type": "execute_result"
    }
   ],
   "source": [
    "del prdCAS.computedVarsProgram\n",
    "del prdCAS.where\n",
    "del prdCAS.vars\n",
    "\n",
    "prdCAS"
   ]
  },
  {
   "cell_type": "markdown",
   "metadata": {},
   "source": [
    "<div class=\"alert alert-block alert-success\">\n",
    "    <b>SUMMARY:</b> \n",
    "Using this method allows you create multiple references to the same CAS table with different parameters. See example below.\n",
    "</div>"
   ]
  },
  {
   "cell_type": "code",
   "execution_count": 65,
   "metadata": {},
   "outputs": [],
   "source": [
    "## Create a references to the products table to always filter for pants. \n",
    "pants = conn.CASTable('products', caslib='casuser')\n",
    "pants.where = 'Product=\"Pants\"'\n",
    "\n",
    "## Create a references to the products table to always filter for shirts\n",
    "shirts = conn.CASTable('products', caslib='casuser')\n",
    "shirts.where = 'Product=\"Shirts\"'"
   ]
  },
  {
   "cell_type": "markdown",
   "metadata": {},
   "source": [
    "Number of rows where Product='Pants'"
   ]
  },
  {
   "cell_type": "code",
   "execution_count": 66,
   "metadata": {},
   "outputs": [
    {
     "data": {
      "text/html": [
       "<div class=\"cas-results-key\"><b>&#167; numrows</b></div>\n",
       "<div class=\"cas-results-body\">\n",
       "<div>5726</div>\n",
       "</div>\n",
       "<div class=\"cas-output-area\"></div>\n",
       "<p class=\"cas-results-performance\"><small><span class=\"cas-elapsed\">elapsed 0.0321s</span> &#183; <span class=\"cas-user\">user 0.0507s</span> &#183; <span class=\"cas-sys\">sys 0.0563s</span> &#183; <span class=\"cas-memory\">mem 9.63MB</span></small></p>"
      ],
      "text/plain": [
       "[numrows]\n",
       "\n",
       " 5726\n",
       "\n",
       "+ Elapsed: 0.0321s, user: 0.0507s, sys: 0.0563s, mem: 9.63mb"
      ]
     },
     "execution_count": 66,
     "metadata": {},
     "output_type": "execute_result"
    }
   ],
   "source": [
    "pants.numRows()"
   ]
  },
  {
   "cell_type": "markdown",
   "metadata": {},
   "source": [
    "Number of rows where Product='Shirt'"
   ]
  },
  {
   "cell_type": "code",
   "execution_count": 67,
   "metadata": {},
   "outputs": [
    {
     "data": {
      "text/html": [
       "<div class=\"cas-results-key\"><b>&#167; numrows</b></div>\n",
       "<div class=\"cas-results-body\">\n",
       "<div>7736</div>\n",
       "</div>\n",
       "<div class=\"cas-output-area\"></div>\n",
       "<p class=\"cas-results-performance\"><small><span class=\"cas-elapsed\">elapsed 0.0293s</span> &#183; <span class=\"cas-user\">user 0.00978s</span> &#183; <span class=\"cas-sys\">sys 0.0873s</span> &#183; <span class=\"cas-memory\">mem 9.64MB</span></small></p>"
      ],
      "text/plain": [
       "[numrows]\n",
       "\n",
       " 7736\n",
       "\n",
       "+ Elapsed: 0.0293s, user: 0.00978s, sys: 0.0873s, mem: 9.64mb"
      ]
     },
     "execution_count": 67,
     "metadata": {},
     "output_type": "execute_result"
    }
   ],
   "source": [
    "shirts.numRows()"
   ]
  },
  {
   "cell_type": "markdown",
   "metadata": {},
   "source": [
    "## \n",
    "<div class=\"alert alert-info\" role=\"alert\">\n",
    "    \n",
    "<a id='9'>\n",
    "    <h2> 9. Doing More with Python in SAS Viya (Bonus Material)</h2>\n",
    "</a>\n",
    "   \n",
    "[Back to table of contents](#0)\n",
    "    \n",
    "</div>"
   ]
  },
  {
   "cell_type": "code",
   "execution_count": 68,
   "metadata": {},
   "outputs": [
    {
     "data": {
      "text/plain": [
       "CASTable('products', caslib='casuser')"
      ]
     },
     "execution_count": 68,
     "metadata": {},
     "output_type": "execute_result"
    }
   ],
   "source": [
    "prdCAS"
   ]
  },
  {
   "cell_type": "code",
   "execution_count": 69,
   "metadata": {},
   "outputs": [
    {
     "data": {
      "text/html": [
       "<div>\n",
       "<style scoped>\n",
       "    .dataframe tbody tr th:only-of-type {\n",
       "        vertical-align: middle;\n",
       "    }\n",
       "\n",
       "    .dataframe tbody tr th {\n",
       "        vertical-align: top;\n",
       "    }\n",
       "\n",
       "    .dataframe thead th {\n",
       "        text-align: right;\n",
       "    }\n",
       "</style>\n",
       "<table border=\"1\" class=\"dataframe\"><caption>Selected Rows from Table PRODUCTS</caption>\n",
       "  <thead>\n",
       "    <tr style=\"text-align: right;\">\n",
       "      <th title=\"\"></th>\n",
       "      <th title=\"Product\">Product</th>\n",
       "      <th title=\"DiscountCode\">DiscountCode</th>\n",
       "      <th title=\"Return\">Return</th>\n",
       "      <th title=\"StoreID\">StoreID</th>\n",
       "      <th title=\"Price\">Price</th>\n",
       "      <th title=\"Cost\">Cost</th>\n",
       "      <th title=\"Quantity\">Quantity</th>\n",
       "    </tr>\n",
       "  </thead>\n",
       "  <tbody>\n",
       "    <tr>\n",
       "      <td>0</td>\n",
       "      <td>Shirts</td>\n",
       "      <td></td>\n",
       "      <td></td>\n",
       "      <td>19.0</td>\n",
       "      <td>7.99</td>\n",
       "      <td>1.99</td>\n",
       "      <td>8.0</td>\n",
       "    </tr>\n",
       "    <tr>\n",
       "      <td>1</td>\n",
       "      <td>Sweatshirt</td>\n",
       "      <td></td>\n",
       "      <td></td>\n",
       "      <td>17.0</td>\n",
       "      <td>10.99</td>\n",
       "      <td>1.99</td>\n",
       "      <td>6.0</td>\n",
       "    </tr>\n",
       "    <tr>\n",
       "      <td>2</td>\n",
       "      <td>Shirts</td>\n",
       "      <td></td>\n",
       "      <td></td>\n",
       "      <td>20.0</td>\n",
       "      <td>7.99</td>\n",
       "      <td>1.99</td>\n",
       "      <td>9.0</td>\n",
       "    </tr>\n",
       "    <tr>\n",
       "      <td>3</td>\n",
       "      <td>Shirts</td>\n",
       "      <td>TENOFF</td>\n",
       "      <td></td>\n",
       "      <td>15.0</td>\n",
       "      <td>7.99</td>\n",
       "      <td>1.99</td>\n",
       "      <td>8.0</td>\n",
       "    </tr>\n",
       "    <tr>\n",
       "      <td>4</td>\n",
       "      <td>Sweatshirt</td>\n",
       "      <td></td>\n",
       "      <td></td>\n",
       "      <td>12.0</td>\n",
       "      <td>10.99</td>\n",
       "      <td>1.99</td>\n",
       "      <td>8.0</td>\n",
       "    </tr>\n",
       "  </tbody>\n",
       "</table>\n",
       "</div>"
      ],
      "text/plain": [
       "Selected Rows from Table PRODUCTS\n",
       "\n",
       "      Product DiscountCode Return  StoreID  Price  Cost  Quantity\n",
       "0      Shirts                         19.0   7.99  1.99       8.0\n",
       "1  Sweatshirt                         17.0  10.99  1.99       6.0\n",
       "2      Shirts                         20.0   7.99  1.99       9.0\n",
       "3      Shirts       TENOFF            15.0   7.99  1.99       8.0\n",
       "4  Sweatshirt                         12.0  10.99  1.99       8.0"
      ]
     },
     "execution_count": 69,
     "metadata": {},
     "output_type": "execute_result"
    }
   ],
   "source": [
    "prdCAS.head()"
   ]
  },
  {
   "cell_type": "markdown",
   "metadata": {},
   "source": [
    "###  <a id='9a'> 9a. Return Frequency Values for Columns </a>\n",
    "[Back to table of contents](#0)"
   ]
  },
  {
   "cell_type": "markdown",
   "metadata": {},
   "source": [
    "Use the **value_counts** method to find frequency values for a column."
   ]
  },
  {
   "cell_type": "code",
   "execution_count": 70,
   "metadata": {},
   "outputs": [
    {
     "data": {
      "text/plain": [
       "Shirts        7736\n",
       "Pants         5726\n",
       "Sweatshirt    3814\n",
       "Hats          1924\n",
       "dtype: int64"
      ]
     },
     "execution_count": 70,
     "metadata": {},
     "output_type": "execute_result"
    }
   ],
   "source": [
    "prdCAS.Product.value_counts()"
   ]
  },
  {
   "cell_type": "code",
   "execution_count": 71,
   "metadata": {},
   "outputs": [
    {
     "data": {
      "text/plain": [
       "TC10          1164\n",
       "TENOFF         981\n",
       "SPC            582\n",
       "BB20           561\n",
       "EMP50          330\n",
       "FREEDEAL       212\n",
       "FMDISCOUNT      47\n",
       "dtype: int64"
      ]
     },
     "execution_count": 71,
     "metadata": {},
     "output_type": "execute_result"
    }
   ],
   "source": [
    "prdCAS.DiscountCode.value_counts()"
   ]
  },
  {
   "cell_type": "markdown",
   "metadata": {},
   "source": [
    "Use the **freq** action to find frequency values. It returns a single table with the specified columns."
   ]
  },
  {
   "cell_type": "code",
   "execution_count": 72,
   "metadata": {},
   "outputs": [
    {
     "data": {
      "text/html": [
       "<div class=\"cas-results-key\"><b>&#167; Frequency</b></div>\n",
       "<div class=\"cas-results-body\">\n",
       "<div>\n",
       "<style scoped>\n",
       "    .dataframe tbody tr th:only-of-type {\n",
       "        vertical-align: middle;\n",
       "    }\n",
       "\n",
       "    .dataframe tbody tr th {\n",
       "        vertical-align: top;\n",
       "    }\n",
       "\n",
       "    .dataframe thead th {\n",
       "        text-align: right;\n",
       "    }\n",
       "</style>\n",
       "<table border=\"1\" class=\"dataframe\"><caption>Frequency for PRODUCTS</caption>\n",
       "  <thead>\n",
       "    <tr style=\"text-align: right;\">\n",
       "      <th title=\"\"></th>\n",
       "      <th title=\"Analysis Variable\">Column</th>\n",
       "      <th title=\"Character Value\">CharVar</th>\n",
       "      <th title=\"Formatted Value\">FmtVar</th>\n",
       "      <th title=\"Level\">Level</th>\n",
       "      <th title=\"Frequency\">Frequency</th>\n",
       "    </tr>\n",
       "  </thead>\n",
       "  <tbody>\n",
       "    <tr>\n",
       "      <td>0</td>\n",
       "      <td>Product</td>\n",
       "      <td>Hats</td>\n",
       "      <td>Hats</td>\n",
       "      <td>1</td>\n",
       "      <td>1924.0</td>\n",
       "    </tr>\n",
       "    <tr>\n",
       "      <td>1</td>\n",
       "      <td>Product</td>\n",
       "      <td>Pants</td>\n",
       "      <td>Pants</td>\n",
       "      <td>2</td>\n",
       "      <td>5726.0</td>\n",
       "    </tr>\n",
       "    <tr>\n",
       "      <td>2</td>\n",
       "      <td>Product</td>\n",
       "      <td>Shirts</td>\n",
       "      <td>Shirts</td>\n",
       "      <td>3</td>\n",
       "      <td>7736.0</td>\n",
       "    </tr>\n",
       "    <tr>\n",
       "      <td>3</td>\n",
       "      <td>Product</td>\n",
       "      <td>Sweatshirt</td>\n",
       "      <td>Sweatshirt</td>\n",
       "      <td>4</td>\n",
       "      <td>3814.0</td>\n",
       "    </tr>\n",
       "    <tr>\n",
       "      <td>4</td>\n",
       "      <td>DiscountCode</td>\n",
       "      <td></td>\n",
       "      <td></td>\n",
       "      <td>1</td>\n",
       "      <td>15323.0</td>\n",
       "    </tr>\n",
       "    <tr>\n",
       "      <td>5</td>\n",
       "      <td>DiscountCode</td>\n",
       "      <td>BB20</td>\n",
       "      <td>BB20</td>\n",
       "      <td>2</td>\n",
       "      <td>561.0</td>\n",
       "    </tr>\n",
       "    <tr>\n",
       "      <td>6</td>\n",
       "      <td>DiscountCode</td>\n",
       "      <td>EMP50</td>\n",
       "      <td>EMP50</td>\n",
       "      <td>3</td>\n",
       "      <td>330.0</td>\n",
       "    </tr>\n",
       "    <tr>\n",
       "      <td>7</td>\n",
       "      <td>DiscountCode</td>\n",
       "      <td>FMDISCOUNT</td>\n",
       "      <td>FMDISCOUNT</td>\n",
       "      <td>4</td>\n",
       "      <td>47.0</td>\n",
       "    </tr>\n",
       "    <tr>\n",
       "      <td>8</td>\n",
       "      <td>DiscountCode</td>\n",
       "      <td>FREEDEAL</td>\n",
       "      <td>FREEDEAL</td>\n",
       "      <td>5</td>\n",
       "      <td>212.0</td>\n",
       "    </tr>\n",
       "    <tr>\n",
       "      <td>9</td>\n",
       "      <td>DiscountCode</td>\n",
       "      <td>SPC</td>\n",
       "      <td>SPC</td>\n",
       "      <td>6</td>\n",
       "      <td>582.0</td>\n",
       "    </tr>\n",
       "    <tr>\n",
       "      <td>10</td>\n",
       "      <td>DiscountCode</td>\n",
       "      <td>TC10</td>\n",
       "      <td>TC10</td>\n",
       "      <td>7</td>\n",
       "      <td>1164.0</td>\n",
       "    </tr>\n",
       "    <tr>\n",
       "      <td>11</td>\n",
       "      <td>DiscountCode</td>\n",
       "      <td>TENOFF</td>\n",
       "      <td>TENOFF</td>\n",
       "      <td>8</td>\n",
       "      <td>981.0</td>\n",
       "    </tr>\n",
       "  </tbody>\n",
       "</table>\n",
       "</div>\n",
       "</div>\n",
       "<div class=\"cas-output-area\"></div>\n",
       "<p class=\"cas-results-performance\"><small><span class=\"cas-elapsed\">elapsed 0.0441s</span> &#183; <span class=\"cas-user\">user 0.043s</span> &#183; <span class=\"cas-sys\">sys 0.0909s</span> &#183; <span class=\"cas-memory\">mem 87.2MB</span></small></p>"
      ],
      "text/plain": [
       "[Frequency]\n",
       "\n",
       " Frequency for PRODUCTS\n",
       " \n",
       "           Column     CharVar      FmtVar  Level  Frequency\n",
       " 0        Product        Hats        Hats      1     1924.0\n",
       " 1        Product       Pants       Pants      2     5726.0\n",
       " 2        Product      Shirts      Shirts      3     7736.0\n",
       " 3        Product  Sweatshirt  Sweatshirt      4     3814.0\n",
       " 4   DiscountCode                              1    15323.0\n",
       " 5   DiscountCode        BB20        BB20      2      561.0\n",
       " 6   DiscountCode       EMP50       EMP50      3      330.0\n",
       " 7   DiscountCode  FMDISCOUNT  FMDISCOUNT      4       47.0\n",
       " 8   DiscountCode    FREEDEAL    FREEDEAL      5      212.0\n",
       " 9   DiscountCode         SPC         SPC      6      582.0\n",
       " 10  DiscountCode        TC10        TC10      7     1164.0\n",
       " 11  DiscountCode      TENOFF      TENOFF      8      981.0\n",
       "\n",
       "+ Elapsed: 0.0441s, user: 0.043s, sys: 0.0909s, mem: 87.2mb"
      ]
     },
     "execution_count": 72,
     "metadata": {},
     "output_type": "execute_result"
    }
   ],
   "source": [
    "f = prdCAS.freq(inputs=['Product', 'DiscountCode'])\n",
    "f"
   ]
  },
  {
   "cell_type": "markdown",
   "metadata": {},
   "source": [
    "<div class=\"alert alert-block alert-success\">\n",
    "    <b>SUMMARY:</b> \n",
    "The freq action returns a single table with frequencies for each column specified. When using the freq action ALWAYS use the inputs parameter to specify the columns. Otherwise a frequency table will be created for EVERY columnn in the CAS table.\n",
    "</div>"
   ]
  },
  {
   "cell_type": "markdown",
   "metadata": {},
   "source": [
    "With the frequencies of each column in a single table. You can subset the table and plot the specific column using the familiar pandas package.\n",
    "\n",
    "Below the freq SASDataFrame is accessed from the CASResult object using the *Frequency* key. Then the SASDataFrame is queried for the column *Product*, and only the **FmtVar** and **Frequency** columns are kept and stored in the products variable. Then plot the SASDataFrame.\n"
   ]
  },
  {
   "cell_type": "code",
   "execution_count": 73,
   "metadata": {},
   "outputs": [
    {
     "data": {
      "text/html": [
       "<div>\n",
       "<style scoped>\n",
       "    .dataframe tbody tr th:only-of-type {\n",
       "        vertical-align: middle;\n",
       "    }\n",
       "\n",
       "    .dataframe tbody tr th {\n",
       "        vertical-align: top;\n",
       "    }\n",
       "\n",
       "    .dataframe thead th {\n",
       "        text-align: right;\n",
       "    }\n",
       "</style>\n",
       "<table border=\"1\" class=\"dataframe\"><caption>Frequency for PRODUCTS</caption>\n",
       "  <thead>\n",
       "    <tr style=\"text-align: right;\">\n",
       "      <th title=\"\"></th>\n",
       "      <th title=\"Formatted Value\">FmtVar</th>\n",
       "      <th title=\"Frequency\">Frequency</th>\n",
       "    </tr>\n",
       "  </thead>\n",
       "  <tbody>\n",
       "    <tr>\n",
       "      <td>0</td>\n",
       "      <td>Hats</td>\n",
       "      <td>1924.0</td>\n",
       "    </tr>\n",
       "    <tr>\n",
       "      <td>1</td>\n",
       "      <td>Pants</td>\n",
       "      <td>5726.0</td>\n",
       "    </tr>\n",
       "    <tr>\n",
       "      <td>2</td>\n",
       "      <td>Shirts</td>\n",
       "      <td>7736.0</td>\n",
       "    </tr>\n",
       "    <tr>\n",
       "      <td>3</td>\n",
       "      <td>Sweatshirt</td>\n",
       "      <td>3814.0</td>\n",
       "    </tr>\n",
       "  </tbody>\n",
       "</table>\n",
       "</div>"
      ],
      "text/plain": [
       "Frequency for PRODUCTS\n",
       "\n",
       "       FmtVar  Frequency\n",
       "0        Hats     1924.0\n",
       "1       Pants     5726.0\n",
       "2      Shirts     7736.0\n",
       "3  Sweatshirt     3814.0"
      ]
     },
     "execution_count": 73,
     "metadata": {},
     "output_type": "execute_result"
    }
   ],
   "source": [
    "## Access the SASDataFrame. Specify the rows and columns\n",
    "products = f['Frequency'].query(\"Column=='Product'\").loc[:,['FmtVar','Frequency']]\n",
    "products.head(10)"
   ]
  },
  {
   "cell_type": "markdown",
   "metadata": {},
   "source": [
    "Plot the frequency values of products."
   ]
  },
  {
   "cell_type": "code",
   "execution_count": 74,
   "metadata": {},
   "outputs": [
    {
     "data": {
      "text/plain": [
       "<AxesSubplot:xlabel='FmtVar'>"
      ]
     },
     "execution_count": 74,
     "metadata": {},
     "output_type": "execute_result"
    },
    {
     "data": {
      "image/png": "[encoded data removed]",
      "text/plain": [
       "<Figure size 432x288 with 1 Axes>"
      ]
     },
     "metadata": {
      "needs_background": "light"
     },
     "output_type": "display_data"
    }
   ],
   "source": [
    "## Plot the SASDataFrame using pandas plot\n",
    "products.plot(x='FmtVar',y='Frequency', kind='bar')"
   ]
  },
  {
   "cell_type": "markdown",
   "metadata": {},
   "source": [
    "###  <a id='9b'> 9b. Execute SQL Queries Using FedSQL </a>\n",
    "[Back to table of contents](#0)"
   ]
  },
  {
   "cell_type": "markdown",
   "metadata": {},
   "source": [
    "Load the FedSQL action set to execute SQL queries"
   ]
  },
  {
   "cell_type": "code",
   "execution_count": 75,
   "metadata": {},
   "outputs": [
    {
     "name": "stdout",
     "output_type": "stream",
     "text": [
      "NOTE: Added action set 'FedSQL'.\n"
     ]
    },
    {
     "data": {
      "text/html": [
       "<div class=\"cas-results-key\"><b>&#167; actionset</b></div>\n",
       "<div class=\"cas-results-body\">\n",
       "<div>FedSQL</div>\n",
       "</div>\n",
       "<div class=\"cas-output-area\"></div>\n",
       "<p class=\"cas-results-performance\"><small><span class=\"cas-elapsed\">elapsed 0.0129s</span> &#183; <span class=\"cas-user\">user 0.0137s</span> &#183; <span class=\"cas-sys\">sys 0.0148s</span> &#183; <span class=\"cas-memory\">mem 1.23MB</span></small></p>"
      ],
      "text/plain": [
       "[actionset]\n",
       "\n",
       " 'FedSQL'\n",
       "\n",
       "+ Elapsed: 0.0129s, user: 0.0137s, sys: 0.0148s, mem: 1.23mb"
      ]
     },
     "execution_count": 75,
     "metadata": {},
     "output_type": "execute_result"
    }
   ],
   "source": [
    "conn.loadactionset('FedSQL')"
   ]
  },
  {
   "cell_type": "code",
   "execution_count": 76,
   "metadata": {},
   "outputs": [
    {
     "data": {
      "text/html": [
       "<div>\n",
       "<style scoped>\n",
       "    .dataframe tbody tr th:only-of-type {\n",
       "        vertical-align: middle;\n",
       "    }\n",
       "\n",
       "    .dataframe tbody tr th {\n",
       "        vertical-align: top;\n",
       "    }\n",
       "\n",
       "    .dataframe thead th {\n",
       "        text-align: right;\n",
       "    }\n",
       "</style>\n",
       "<table border=\"1\" class=\"dataframe\"><caption>Selected Rows from Table PRODUCTS</caption>\n",
       "  <thead>\n",
       "    <tr style=\"text-align: right;\">\n",
       "      <th title=\"\"></th>\n",
       "      <th title=\"Product\">Product</th>\n",
       "      <th title=\"DiscountCode\">DiscountCode</th>\n",
       "      <th title=\"Return\">Return</th>\n",
       "      <th title=\"StoreID\">StoreID</th>\n",
       "      <th title=\"Price\">Price</th>\n",
       "      <th title=\"Cost\">Cost</th>\n",
       "      <th title=\"Quantity\">Quantity</th>\n",
       "    </tr>\n",
       "  </thead>\n",
       "  <tbody>\n",
       "    <tr>\n",
       "      <td>0</td>\n",
       "      <td>Shirts</td>\n",
       "      <td></td>\n",
       "      <td></td>\n",
       "      <td>19.0</td>\n",
       "      <td>7.99</td>\n",
       "      <td>1.99</td>\n",
       "      <td>8.0</td>\n",
       "    </tr>\n",
       "    <tr>\n",
       "      <td>1</td>\n",
       "      <td>Sweatshirt</td>\n",
       "      <td></td>\n",
       "      <td></td>\n",
       "      <td>17.0</td>\n",
       "      <td>10.99</td>\n",
       "      <td>1.99</td>\n",
       "      <td>6.0</td>\n",
       "    </tr>\n",
       "    <tr>\n",
       "      <td>2</td>\n",
       "      <td>Shirts</td>\n",
       "      <td></td>\n",
       "      <td></td>\n",
       "      <td>20.0</td>\n",
       "      <td>7.99</td>\n",
       "      <td>1.99</td>\n",
       "      <td>9.0</td>\n",
       "    </tr>\n",
       "    <tr>\n",
       "      <td>3</td>\n",
       "      <td>Shirts</td>\n",
       "      <td>TENOFF</td>\n",
       "      <td></td>\n",
       "      <td>15.0</td>\n",
       "      <td>7.99</td>\n",
       "      <td>1.99</td>\n",
       "      <td>8.0</td>\n",
       "    </tr>\n",
       "    <tr>\n",
       "      <td>4</td>\n",
       "      <td>Sweatshirt</td>\n",
       "      <td></td>\n",
       "      <td></td>\n",
       "      <td>12.0</td>\n",
       "      <td>10.99</td>\n",
       "      <td>1.99</td>\n",
       "      <td>8.0</td>\n",
       "    </tr>\n",
       "  </tbody>\n",
       "</table>\n",
       "</div>"
      ],
      "text/plain": [
       "Selected Rows from Table PRODUCTS\n",
       "\n",
       "      Product DiscountCode Return  StoreID  Price  Cost  Quantity\n",
       "0      Shirts                         19.0   7.99  1.99       8.0\n",
       "1  Sweatshirt                         17.0  10.99  1.99       6.0\n",
       "2      Shirts                         20.0   7.99  1.99       9.0\n",
       "3      Shirts       TENOFF            15.0   7.99  1.99       8.0\n",
       "4  Sweatshirt                         12.0  10.99  1.99       8.0"
      ]
     },
     "execution_count": 76,
     "metadata": {},
     "output_type": "execute_result"
    }
   ],
   "source": [
    "prdCAS.head()"
   ]
  },
  {
   "cell_type": "markdown",
   "metadata": {},
   "source": [
    "Use the execDirect action from the FedSQL action set to execute queries."
   ]
  },
  {
   "cell_type": "code",
   "execution_count": 77,
   "metadata": {},
   "outputs": [
    {
     "data": {
      "text/html": [
       "<div class=\"cas-results-key\"><b>&#167; Result Set</b></div>\n",
       "<div class=\"cas-results-body\">\n",
       "<div>\n",
       "<style scoped>\n",
       "    .dataframe tbody tr th:only-of-type {\n",
       "        vertical-align: middle;\n",
       "    }\n",
       "\n",
       "    .dataframe tbody tr th {\n",
       "        vertical-align: top;\n",
       "    }\n",
       "\n",
       "    .dataframe thead th {\n",
       "        text-align: right;\n",
       "    }\n",
       "</style>\n",
       "<table border=\"1\" class=\"dataframe\">\n",
       "  <thead>\n",
       "    <tr style=\"text-align: right;\">\n",
       "      <th title=\"\"></th>\n",
       "      <th title=\"Product\">Product</th>\n",
       "      <th title=\"MEANQUANTITY\">MEANQUANTITY</th>\n",
       "    </tr>\n",
       "  </thead>\n",
       "  <tbody>\n",
       "    <tr>\n",
       "      <td>0</td>\n",
       "      <td>Sweatshirt</td>\n",
       "      <td>7.494756</td>\n",
       "    </tr>\n",
       "    <tr>\n",
       "      <td>1</td>\n",
       "      <td>Hats</td>\n",
       "      <td>7.540541</td>\n",
       "    </tr>\n",
       "    <tr>\n",
       "      <td>2</td>\n",
       "      <td>Pants</td>\n",
       "      <td>7.490045</td>\n",
       "    </tr>\n",
       "    <tr>\n",
       "      <td>3</td>\n",
       "      <td>Shirts</td>\n",
       "      <td>7.478283</td>\n",
       "    </tr>\n",
       "  </tbody>\n",
       "</table>\n",
       "</div>\n",
       "</div>\n",
       "<div class=\"cas-output-area\"></div>\n",
       "<p class=\"cas-results-performance\"><small><span class=\"cas-elapsed\">elapsed 0.171s</span> &#183; <span class=\"cas-user\">user 1.05s</span> &#183; <span class=\"cas-sys\">sys 0.855s</span> &#183; <span class=\"cas-memory\">mem 777MB</span></small></p>"
      ],
      "text/plain": [
       "[Result Set]\n",
       "\n",
       "       Product  MEANQUANTITY\n",
       " 0  Sweatshirt      7.494756\n",
       " 1        Hats      7.540541\n",
       " 2       Pants      7.490045\n",
       " 3      Shirts      7.478283\n",
       "\n",
       "+ Elapsed: 0.171s, user: 1.05s, sys: 0.855s, mem: 777mb"
      ]
     },
     "execution_count": 77,
     "metadata": {},
     "output_type": "execute_result"
    }
   ],
   "source": [
    "conn.execDirect(\"\"\"select Product, \n",
    "                          mean(Quantity) as MeanQuantity\n",
    "                      from casuser.products\n",
    "                      group by Product\"\"\")"
   ]
  },
  {
   "cell_type": "markdown",
   "metadata": {},
   "source": [
    "###  <a id='9c'> 9c. Summary Action with Group By </a>\n",
    "[Back to table of contents](#0)"
   ]
  },
  {
   "cell_type": "markdown",
   "metadata": {},
   "source": [
    "Execute the **summary** action to find the mean **Quantity** of each **Product**. The results are similar to the SQL results from above.\n",
    "- Add the groupBy sub parameter to group the results by **Product**\n",
    "- Add the vars sub parameter to select only the **Product** and **Quantity** columns."
   ]
  },
  {
   "cell_type": "code",
   "execution_count": 78,
   "metadata": {},
   "outputs": [
    {
     "data": {
      "text/plain": [
       "CASTable('products', caslib='casuser', groupby='Product', vars=['Product', 'Quantity'])"
      ]
     },
     "execution_count": 78,
     "metadata": {},
     "output_type": "execute_result"
    }
   ],
   "source": [
    "prdCAS.groupBy=\"Product\"\n",
    "prdCAS.vars=[\"Product\",\"Quantity\"]\n",
    "prdCAS"
   ]
  },
  {
   "cell_type": "markdown",
   "metadata": {},
   "source": [
    "Reference the prdCAS object with the summary action to find the mean **Quantity** of each **Product**. Specify the subSet equals *Mean* to only output the mean."
   ]
  },
  {
   "cell_type": "code",
   "execution_count": 79,
   "metadata": {},
   "outputs": [
    {
     "name": "stdout",
     "output_type": "stream",
     "text": [
      "odict_keys(['ByGroup1.Summary', 'ByGroup2.Summary', 'ByGroup3.Summary', 'ByGroup4.Summary', 'ByGroupInfo'])\n"
     ]
    },
    {
     "data": {
      "text/html": [
       "<div class=\"cas-results-key\"><b>&#167; ByGroup1.Summary</b></div>\n",
       "<div class=\"cas-results-body\">\n",
       "<div>\n",
       "<style scoped>\n",
       "    .dataframe tbody tr th:only-of-type {\n",
       "        vertical-align: middle;\n",
       "    }\n",
       "\n",
       "    .dataframe tbody tr th {\n",
       "        vertical-align: top;\n",
       "    }\n",
       "\n",
       "    .dataframe thead th {\n",
       "        text-align: right;\n",
       "    }\n",
       "</style>\n",
       "<table border=\"1\" class=\"dataframe\"><caption>Descriptive Statistics for PRODUCTS</caption>\n",
       "  <thead>\n",
       "    <tr style=\"text-align: right;\">\n",
       "      <th title=\"\"></th>\n",
       "      <th title=\"Analysis Variable\">Column</th>\n",
       "      <th title=\"Mean\">Mean</th>\n",
       "    </tr>\n",
       "    <tr>\n",
       "      <th title=\"Product\">Product</th>\n",
       "      <th title=\"\"></th>\n",
       "      <th title=\"\"></th>\n",
       "    </tr>\n",
       "  </thead>\n",
       "  <tbody>\n",
       "    <tr>\n",
       "      <td>Hats</td>\n",
       "      <td>Quantity</td>\n",
       "      <td>7.540541</td>\n",
       "    </tr>\n",
       "  </tbody>\n",
       "</table>\n",
       "</div>\n",
       "</div>\n",
       "<div class=\"cas-results-key\"><hr/><b>&#167; ByGroup2.Summary</b></div>\n",
       "<div class=\"cas-results-body\">\n",
       "<div>\n",
       "<style scoped>\n",
       "    .dataframe tbody tr th:only-of-type {\n",
       "        vertical-align: middle;\n",
       "    }\n",
       "\n",
       "    .dataframe tbody tr th {\n",
       "        vertical-align: top;\n",
       "    }\n",
       "\n",
       "    .dataframe thead th {\n",
       "        text-align: right;\n",
       "    }\n",
       "</style>\n",
       "<table border=\"1\" class=\"dataframe\"><caption>Descriptive Statistics for PRODUCTS</caption>\n",
       "  <thead>\n",
       "    <tr style=\"text-align: right;\">\n",
       "      <th title=\"\"></th>\n",
       "      <th title=\"Analysis Variable\">Column</th>\n",
       "      <th title=\"Mean\">Mean</th>\n",
       "    </tr>\n",
       "    <tr>\n",
       "      <th title=\"Product\">Product</th>\n",
       "      <th title=\"\"></th>\n",
       "      <th title=\"\"></th>\n",
       "    </tr>\n",
       "  </thead>\n",
       "  <tbody>\n",
       "    <tr>\n",
       "      <td>Pants</td>\n",
       "      <td>Quantity</td>\n",
       "      <td>7.490045</td>\n",
       "    </tr>\n",
       "  </tbody>\n",
       "</table>\n",
       "</div>\n",
       "</div>\n",
       "<div class=\"cas-results-key\"><hr/><b>&#167; ByGroup3.Summary</b></div>\n",
       "<div class=\"cas-results-body\">\n",
       "<div>\n",
       "<style scoped>\n",
       "    .dataframe tbody tr th:only-of-type {\n",
       "        vertical-align: middle;\n",
       "    }\n",
       "\n",
       "    .dataframe tbody tr th {\n",
       "        vertical-align: top;\n",
       "    }\n",
       "\n",
       "    .dataframe thead th {\n",
       "        text-align: right;\n",
       "    }\n",
       "</style>\n",
       "<table border=\"1\" class=\"dataframe\"><caption>Descriptive Statistics for PRODUCTS</caption>\n",
       "  <thead>\n",
       "    <tr style=\"text-align: right;\">\n",
       "      <th title=\"\"></th>\n",
       "      <th title=\"Analysis Variable\">Column</th>\n",
       "      <th title=\"Mean\">Mean</th>\n",
       "    </tr>\n",
       "    <tr>\n",
       "      <th title=\"Product\">Product</th>\n",
       "      <th title=\"\"></th>\n",
       "      <th title=\"\"></th>\n",
       "    </tr>\n",
       "  </thead>\n",
       "  <tbody>\n",
       "    <tr>\n",
       "      <td>Shirts</td>\n",
       "      <td>Quantity</td>\n",
       "      <td>7.478283</td>\n",
       "    </tr>\n",
       "  </tbody>\n",
       "</table>\n",
       "</div>\n",
       "</div>\n",
       "<div class=\"cas-results-key\"><hr/><b>&#167; ByGroup4.Summary</b></div>\n",
       "<div class=\"cas-results-body\">\n",
       "<div>\n",
       "<style scoped>\n",
       "    .dataframe tbody tr th:only-of-type {\n",
       "        vertical-align: middle;\n",
       "    }\n",
       "\n",
       "    .dataframe tbody tr th {\n",
       "        vertical-align: top;\n",
       "    }\n",
       "\n",
       "    .dataframe thead th {\n",
       "        text-align: right;\n",
       "    }\n",
       "</style>\n",
       "<table border=\"1\" class=\"dataframe\"><caption>Descriptive Statistics for PRODUCTS</caption>\n",
       "  <thead>\n",
       "    <tr style=\"text-align: right;\">\n",
       "      <th title=\"\"></th>\n",
       "      <th title=\"Analysis Variable\">Column</th>\n",
       "      <th title=\"Mean\">Mean</th>\n",
       "    </tr>\n",
       "    <tr>\n",
       "      <th title=\"Product\">Product</th>\n",
       "      <th title=\"\"></th>\n",
       "      <th title=\"\"></th>\n",
       "    </tr>\n",
       "  </thead>\n",
       "  <tbody>\n",
       "    <tr>\n",
       "      <td>Sweatshirt</td>\n",
       "      <td>Quantity</td>\n",
       "      <td>7.494756</td>\n",
       "    </tr>\n",
       "  </tbody>\n",
       "</table>\n",
       "</div>\n",
       "</div>\n",
       "<div class=\"cas-results-key\"><hr/><b>&#167; ByGroupInfo</b></div>\n",
       "<div class=\"cas-results-body\">\n",
       "<div>\n",
       "<style scoped>\n",
       "    .dataframe tbody tr th:only-of-type {\n",
       "        vertical-align: middle;\n",
       "    }\n",
       "\n",
       "    .dataframe tbody tr th {\n",
       "        vertical-align: top;\n",
       "    }\n",
       "\n",
       "    .dataframe thead th {\n",
       "        text-align: right;\n",
       "    }\n",
       "</style>\n",
       "<table border=\"1\" class=\"dataframe\"><caption>ByGroupInfo</caption>\n",
       "  <thead>\n",
       "    <tr style=\"text-align: right;\">\n",
       "      <th title=\"\"></th>\n",
       "      <th title=\"Product\">Product</th>\n",
       "      <th title=\"Product_f\">Product_f</th>\n",
       "      <th title=\"_key_\">_key_</th>\n",
       "    </tr>\n",
       "  </thead>\n",
       "  <tbody>\n",
       "    <tr>\n",
       "      <td>0</td>\n",
       "      <td>Hats</td>\n",
       "      <td>Hats</td>\n",
       "      <td>Hats</td>\n",
       "    </tr>\n",
       "    <tr>\n",
       "      <td>1</td>\n",
       "      <td>Pants</td>\n",
       "      <td>Pants</td>\n",
       "      <td>Pants</td>\n",
       "    </tr>\n",
       "    <tr>\n",
       "      <td>2</td>\n",
       "      <td>Shirts</td>\n",
       "      <td>Shirts</td>\n",
       "      <td>Shirts</td>\n",
       "    </tr>\n",
       "    <tr>\n",
       "      <td>3</td>\n",
       "      <td>Sweatshirt</td>\n",
       "      <td>Sweatshirt</td>\n",
       "      <td>Sweatshirt</td>\n",
       "    </tr>\n",
       "  </tbody>\n",
       "</table>\n",
       "</div>\n",
       "</div>\n",
       "<div class=\"cas-output-area\"></div>\n",
       "<p class=\"cas-results-performance\"><small><span class=\"cas-elapsed\">elapsed 0.0347s</span> &#183; <span class=\"cas-user\">user 0.0502s</span> &#183; <span class=\"cas-sys\">sys 0.0743s</span> &#183; <span class=\"cas-memory\">mem 35.8MB</span></small></p>"
      ],
      "text/plain": [
       "[ByGroup1.Summary]\n",
       "\n",
       " Descriptive Statistics for PRODUCTS\n",
       " \n",
       "            Column      Mean\n",
       " Product                    \n",
       " Hats     Quantity  7.540541\n",
       "\n",
       "[ByGroup2.Summary]\n",
       "\n",
       " Descriptive Statistics for PRODUCTS\n",
       " \n",
       "            Column      Mean\n",
       " Product                    \n",
       " Pants    Quantity  7.490045\n",
       "\n",
       "[ByGroup3.Summary]\n",
       "\n",
       " Descriptive Statistics for PRODUCTS\n",
       " \n",
       "            Column      Mean\n",
       " Product                    \n",
       " Shirts   Quantity  7.478283\n",
       "\n",
       "[ByGroup4.Summary]\n",
       "\n",
       " Descriptive Statistics for PRODUCTS\n",
       " \n",
       "               Column      Mean\n",
       " Product                       \n",
       " Sweatshirt  Quantity  7.494756\n",
       "\n",
       "[ByGroupInfo]\n",
       "\n",
       " ByGroupInfo\n",
       " \n",
       "       Product   Product_f       _key_\n",
       " 0        Hats        Hats        Hats\n",
       " 1       Pants       Pants       Pants\n",
       " 2      Shirts      Shirts      Shirts\n",
       " 3  Sweatshirt  Sweatshirt  Sweatshirt\n",
       "\n",
       "+ Elapsed: 0.0347s, user: 0.0502s, sys: 0.0743s, mem: 35.8mb"
      ]
     },
     "execution_count": 79,
     "metadata": {},
     "output_type": "execute_result"
    }
   ],
   "source": [
    "groups = prdCAS.summary(subSet=\"Mean\")\n",
    "\n",
    "print(groups.keys())\n",
    "groups"
   ]
  },
  {
   "cell_type": "markdown",
   "metadata": {},
   "source": [
    "<div class=\"alert alert-block alert-success\">\n",
    "    <b>SUMMARY</b>\n",
    "Notice that executing an action with the groupBy sub parameter returns a table for each distinct groupBy value and a groupBy information table. In this example, the summary action returns 4 group by tables with the mean Quantity of each Product. It also returns the ByGroupInfo table.\n",
    "</div>\n",
    "\n",
    "\n",
    "To combine all of the groupBy tables you can use the [concat_bygroups](https://sassoftware.github.io/python-swat/generated/swat.cas.results.CASResults.concat_bygroups.html#swat.cas.results.CASResults.concat_bygroups) method. This returns a single SASDataFrame with similar results to the previous SQL action."
   ]
  },
  {
   "cell_type": "code",
   "execution_count": 80,
   "metadata": {},
   "outputs": [
    {
     "data": {
      "text/html": [
       "<div class=\"cas-results-key\"><b>&#167; Summary</b></div>\n",
       "<div class=\"cas-results-body\">\n",
       "<div>\n",
       "<style scoped>\n",
       "    .dataframe tbody tr th:only-of-type {\n",
       "        vertical-align: middle;\n",
       "    }\n",
       "\n",
       "    .dataframe tbody tr th {\n",
       "        vertical-align: top;\n",
       "    }\n",
       "\n",
       "    .dataframe thead th {\n",
       "        text-align: right;\n",
       "    }\n",
       "</style>\n",
       "<table border=\"1\" class=\"dataframe\"><caption>Descriptive Statistics for PRODUCTS</caption>\n",
       "  <thead>\n",
       "    <tr style=\"text-align: right;\">\n",
       "      <th title=\"\"></th>\n",
       "      <th title=\"Analysis Variable\">Column</th>\n",
       "      <th title=\"Mean\">Mean</th>\n",
       "    </tr>\n",
       "    <tr>\n",
       "      <th title=\"Product\">Product</th>\n",
       "      <th title=\"\"></th>\n",
       "      <th title=\"\"></th>\n",
       "    </tr>\n",
       "  </thead>\n",
       "  <tbody>\n",
       "    <tr>\n",
       "      <td>Hats</td>\n",
       "      <td>Quantity</td>\n",
       "      <td>7.540541</td>\n",
       "    </tr>\n",
       "    <tr>\n",
       "      <td>Pants</td>\n",
       "      <td>Quantity</td>\n",
       "      <td>7.490045</td>\n",
       "    </tr>\n",
       "    <tr>\n",
       "      <td>Shirts</td>\n",
       "      <td>Quantity</td>\n",
       "      <td>7.478283</td>\n",
       "    </tr>\n",
       "    <tr>\n",
       "      <td>Sweatshirt</td>\n",
       "      <td>Quantity</td>\n",
       "      <td>7.494756</td>\n",
       "    </tr>\n",
       "  </tbody>\n",
       "</table>\n",
       "</div>\n",
       "</div>\n",
       "<div class=\"cas-output-area\"></div>"
      ],
      "text/plain": [
       "[Summary]\n",
       "\n",
       " Descriptive Statistics for PRODUCTS\n",
       " \n",
       "               Column      Mean\n",
       " Product                       \n",
       " Hats        Quantity  7.540541\n",
       " Pants       Quantity  7.490045\n",
       " Shirts      Quantity  7.478283\n",
       " Sweatshirt  Quantity  7.494756\n",
       "\n"
      ]
     },
     "execution_count": 80,
     "metadata": {},
     "output_type": "execute_result"
    }
   ],
   "source": [
    "groupTbl = groups.concat_bygroups()\n",
    "groupTbl"
   ]
  },
  {
   "cell_type": "markdown",
   "metadata": {},
   "source": [
    "###  <a id='9d'> 9d. Execute the SAS DATA Step </a>\n",
    "[Back to table of contents](#0)"
   ]
  },
  {
   "cell_type": "markdown",
   "metadata": {},
   "source": [
    "You can execute most of the traditional SAS data step using the [runCode](https://go.documentation.sas.com/doc/en/pgmsascdc/v_015/caspg/cas-datastep-runcode.htm) action. The runCode action returns a information about the input and output tables. \n",
    "\n",
    "View the [Restrictions and Supported Language Elements](https://go.documentation.sas.com/doc/en/pgmsascdc/v_015/casdspgm/p1eyivn5kal7qwn1drrdt71v21ml.htm?homeOnFail) for more information."
   ]
  },
  {
   "cell_type": "code",
   "execution_count": 81,
   "metadata": {},
   "outputs": [
    {
     "data": {
      "text/html": [
       "<div class=\"cas-results-key\"><b>&#167; InputCasTables</b></div>\n",
       "<div class=\"cas-results-body\">\n",
       "<div>\n",
       "<style scoped>\n",
       "    .dataframe tbody tr th:only-of-type {\n",
       "        vertical-align: middle;\n",
       "    }\n",
       "\n",
       "    .dataframe tbody tr th {\n",
       "        vertical-align: top;\n",
       "    }\n",
       "\n",
       "    .dataframe thead th {\n",
       "        text-align: right;\n",
       "    }\n",
       "</style>\n",
       "<table border=\"1\" class=\"dataframe\">\n",
       "  <thead>\n",
       "    <tr style=\"text-align: right;\">\n",
       "      <th title=\"\"></th>\n",
       "      <th title=\"CAS Library\">casLib</th>\n",
       "      <th title=\"Name\">Name</th>\n",
       "      <th title=\"Number of Rows\">Rows</th>\n",
       "      <th title=\"Number of Columns\">Columns</th>\n",
       "      <th title=\"Table\">casTable</th>\n",
       "    </tr>\n",
       "  </thead>\n",
       "  <tbody>\n",
       "    <tr>\n",
       "      <td>0</td>\n",
       "      <td>CASUSER(Peter.Styliadis@sas.com)</td>\n",
       "      <td>products</td>\n",
       "      <td>3877</td>\n",
       "      <td>7</td>\n",
       "      <td>CASTable('products', caslib='CASUSER(Peter.Sty...</td>\n",
       "    </tr>\n",
       "  </tbody>\n",
       "</table>\n",
       "</div>\n",
       "</div>\n",
       "<div class=\"cas-results-key\"><hr/><b>&#167; OutputCasTables</b></div>\n",
       "<div class=\"cas-results-body\">\n",
       "<div>\n",
       "<style scoped>\n",
       "    .dataframe tbody tr th:only-of-type {\n",
       "        vertical-align: middle;\n",
       "    }\n",
       "\n",
       "    .dataframe tbody tr th {\n",
       "        vertical-align: top;\n",
       "    }\n",
       "\n",
       "    .dataframe thead th {\n",
       "        text-align: right;\n",
       "    }\n",
       "</style>\n",
       "<table border=\"1\" class=\"dataframe\">\n",
       "  <thead>\n",
       "    <tr style=\"text-align: right;\">\n",
       "      <th title=\"\"></th>\n",
       "      <th title=\"CAS Library\">casLib</th>\n",
       "      <th title=\"Name\">Name</th>\n",
       "      <th title=\"Number of Rows\">Rows</th>\n",
       "      <th title=\"Number of Columns\">Columns</th>\n",
       "      <th title=\"Number of Rows Appended\">Append</th>\n",
       "      <th title=\"Promoted\">Promoted</th>\n",
       "      <th title=\"Table\">casTable</th>\n",
       "    </tr>\n",
       "  </thead>\n",
       "  <tbody>\n",
       "    <tr>\n",
       "      <td>0</td>\n",
       "      <td>CASUSER(Peter.Styliadis@sas.com)</td>\n",
       "      <td>discountOrders</td>\n",
       "      <td>3877</td>\n",
       "      <td>7</td>\n",
       "      <td>NaN</td>\n",
       "      <td>N</td>\n",
       "      <td>CASTable('discountOrders', caslib='CASUSER(Pet...</td>\n",
       "    </tr>\n",
       "  </tbody>\n",
       "</table>\n",
       "</div>\n",
       "</div>\n",
       "<div class=\"cas-output-area\"></div>\n",
       "<p class=\"cas-results-performance\"><small><span class=\"cas-elapsed\">elapsed 0.0919s</span> &#183; <span class=\"cas-user\">user 0.176s</span> &#183; <span class=\"cas-sys\">sys 0.41s</span> &#183; <span class=\"cas-memory\">mem 170MB</span></small></p>"
      ],
      "text/plain": [
       "[InputCasTables]\n",
       "\n",
       "                              casLib      Name  Rows  Columns                                           casTable\n",
       " 0  CASUSER(Peter.Styliadis@sas.com)  products  3877        7  CASTable('products', caslib='CASUSER(Peter.Sty...\n",
       "\n",
       "[OutputCasTables]\n",
       "\n",
       "                              casLib            Name  Rows  Columns  Append Promoted                                           casTable\n",
       " 0  CASUSER(Peter.Styliadis@sas.com)  discountOrders  3877        7     NaN        N  CASTable('discountOrders', caslib='CASUSER(Pet...\n",
       "\n",
       "+ Elapsed: 0.0919s, user: 0.176s, sys: 0.41s, mem: 170mb"
      ]
     },
     "execution_count": 81,
     "metadata": {},
     "output_type": "execute_result"
    }
   ],
   "source": [
    "## View all orders where a discount was applied\n",
    "\n",
    "conn.runCode(\"\"\"\n",
    "        data casuser.discountOrders;\n",
    "            set casuser.products;\n",
    "            where DiscountCode is not null;\n",
    "        run;\n",
    "\"\"\")"
   ]
  },
  {
   "cell_type": "markdown",
   "metadata": {},
   "source": [
    "Reference the new CAS table and view the number of rows and columns. And preview the first 5 rows."
   ]
  },
  {
   "cell_type": "code",
   "execution_count": 82,
   "metadata": {},
   "outputs": [
    {
     "name": "stdout",
     "output_type": "stream",
     "text": [
      "(3877, 7)\n"
     ]
    },
    {
     "data": {
      "text/html": [
       "<div>\n",
       "<style scoped>\n",
       "    .dataframe tbody tr th:only-of-type {\n",
       "        vertical-align: middle;\n",
       "    }\n",
       "\n",
       "    .dataframe tbody tr th {\n",
       "        vertical-align: top;\n",
       "    }\n",
       "\n",
       "    .dataframe thead th {\n",
       "        text-align: right;\n",
       "    }\n",
       "</style>\n",
       "<table border=\"1\" class=\"dataframe\"><caption>Selected Rows from Table DISCOUNTORDERS</caption>\n",
       "  <thead>\n",
       "    <tr style=\"text-align: right;\">\n",
       "      <th title=\"\"></th>\n",
       "      <th title=\"Product\">Product</th>\n",
       "      <th title=\"DiscountCode\">DiscountCode</th>\n",
       "      <th title=\"Return\">Return</th>\n",
       "      <th title=\"StoreID\">StoreID</th>\n",
       "      <th title=\"Price\">Price</th>\n",
       "      <th title=\"Cost\">Cost</th>\n",
       "      <th title=\"Quantity\">Quantity</th>\n",
       "    </tr>\n",
       "  </thead>\n",
       "  <tbody>\n",
       "    <tr>\n",
       "      <td>0</td>\n",
       "      <td>Shirts</td>\n",
       "      <td>TENOFF</td>\n",
       "      <td></td>\n",
       "      <td>15.0</td>\n",
       "      <td>7.99</td>\n",
       "      <td>1.99</td>\n",
       "      <td>8.0</td>\n",
       "    </tr>\n",
       "    <tr>\n",
       "      <td>1</td>\n",
       "      <td>Pants</td>\n",
       "      <td>TC10</td>\n",
       "      <td></td>\n",
       "      <td>18.0</td>\n",
       "      <td>8.99</td>\n",
       "      <td>1.49</td>\n",
       "      <td>6.0</td>\n",
       "    </tr>\n",
       "    <tr>\n",
       "      <td>2</td>\n",
       "      <td>Hats</td>\n",
       "      <td>EMP50</td>\n",
       "      <td></td>\n",
       "      <td>19.0</td>\n",
       "      <td>4.99</td>\n",
       "      <td>0.99</td>\n",
       "      <td>9.0</td>\n",
       "    </tr>\n",
       "    <tr>\n",
       "      <td>3</td>\n",
       "      <td>Shirts</td>\n",
       "      <td>SPC</td>\n",
       "      <td></td>\n",
       "      <td>20.0</td>\n",
       "      <td>7.99</td>\n",
       "      <td>1.99</td>\n",
       "      <td>7.0</td>\n",
       "    </tr>\n",
       "    <tr>\n",
       "      <td>4</td>\n",
       "      <td>Shirts</td>\n",
       "      <td>TENOFF</td>\n",
       "      <td></td>\n",
       "      <td>30.0</td>\n",
       "      <td>7.99</td>\n",
       "      <td>1.99</td>\n",
       "      <td>9.0</td>\n",
       "    </tr>\n",
       "  </tbody>\n",
       "</table>\n",
       "</div>"
      ],
      "text/plain": [
       "Selected Rows from Table DISCOUNTORDERS\n",
       "\n",
       "  Product DiscountCode Return  StoreID  Price  Cost  Quantity\n",
       "0  Shirts       TENOFF            15.0   7.99  1.99       8.0\n",
       "1   Pants         TC10            18.0   8.99  1.49       6.0\n",
       "2    Hats        EMP50            19.0   4.99  0.99       9.0\n",
       "3  Shirts          SPC            20.0   7.99  1.99       7.0\n",
       "4  Shirts       TENOFF            30.0   7.99  1.99       9.0"
      ]
     },
     "execution_count": 82,
     "metadata": {},
     "output_type": "execute_result"
    }
   ],
   "source": [
    "discounts = conn.CASTable('discountOrders')\n",
    "\n",
    "## View the new CAS table\n",
    "print(discounts.shape)\n",
    "discounts.head()"
   ]
  },
  {
   "cell_type": "markdown",
   "metadata": {},
   "source": [
    "View the frequecy of discount codes."
   ]
  },
  {
   "cell_type": "code",
   "execution_count": 93,
   "metadata": {},
   "outputs": [
    {
     "data": {
      "text/plain": [
       "TC10          1164\n",
       "TENOFF         981\n",
       "SPC            582\n",
       "BB20           561\n",
       "EMP50          330\n",
       "FREEDEAL       212\n",
       "FMDISCOUNT      47\n",
       "dtype: int64"
      ]
     },
     "execution_count": 93,
     "metadata": {},
     "output_type": "execute_result"
    }
   ],
   "source": [
    "(discounts\n",
    " .DiscountCode\n",
    " .value_counts()\n",
    ")"
   ]
  },
  {
   "cell_type": "code",
   "execution_count": 92,
   "metadata": {},
   "outputs": [
    {
     "data": {
      "image/png": "[encoded data removed]",
      "text/plain": [
       "<Figure size 432x288 with 1 Axes>"
      ]
     },
     "metadata": {
      "needs_background": "light"
     },
     "output_type": "display_data"
    }
   ],
   "source": [
    "(discounts\n",
    " .DiscountCode\n",
    " .value_counts()\n",
    " .plot(kind = 'bar')\n",
    ");"
   ]
  },
  {
   "cell_type": "markdown",
   "metadata": {},
   "source": [
    "###  <a id='9e'> 9e. Create a New CAS Table Using the CopyTable Action </a>\n",
    "[Back to table of contents](#0)"
   ]
  },
  {
   "cell_type": "code",
   "execution_count": 94,
   "metadata": {},
   "outputs": [
    {
     "data": {
      "text/plain": [
       "CASTable('products', caslib='casuser')"
      ]
     },
     "execution_count": 94,
     "metadata": {},
     "output_type": "execute_result"
    }
   ],
   "source": [
    "prdCAS = conn.CASTable('products',caslib=\"casuser\")\n",
    "prdCAS"
   ]
  },
  {
   "cell_type": "code",
   "execution_count": 95,
   "metadata": {},
   "outputs": [
    {
     "data": {
      "text/html": [
       "<div>\n",
       "<style scoped>\n",
       "    .dataframe tbody tr th:only-of-type {\n",
       "        vertical-align: middle;\n",
       "    }\n",
       "\n",
       "    .dataframe tbody tr th {\n",
       "        vertical-align: top;\n",
       "    }\n",
       "\n",
       "    .dataframe thead th {\n",
       "        text-align: right;\n",
       "    }\n",
       "</style>\n",
       "<table border=\"1\" class=\"dataframe\"><caption>Selected Rows from Table PRODUCTS</caption>\n",
       "  <thead>\n",
       "    <tr style=\"text-align: right;\">\n",
       "      <th title=\"\"></th>\n",
       "      <th title=\"Product\">Product</th>\n",
       "      <th title=\"DiscountCode\">DiscountCode</th>\n",
       "      <th title=\"Return\">Return</th>\n",
       "      <th title=\"StoreID\">StoreID</th>\n",
       "      <th title=\"Price\">Price</th>\n",
       "      <th title=\"Cost\">Cost</th>\n",
       "      <th title=\"Quantity\">Quantity</th>\n",
       "    </tr>\n",
       "  </thead>\n",
       "  <tbody>\n",
       "    <tr>\n",
       "      <td>0</td>\n",
       "      <td>Shirts</td>\n",
       "      <td></td>\n",
       "      <td></td>\n",
       "      <td>19.0</td>\n",
       "      <td>7.99</td>\n",
       "      <td>1.99</td>\n",
       "      <td>8.0</td>\n",
       "    </tr>\n",
       "    <tr>\n",
       "      <td>1</td>\n",
       "      <td>Sweatshirt</td>\n",
       "      <td></td>\n",
       "      <td></td>\n",
       "      <td>17.0</td>\n",
       "      <td>10.99</td>\n",
       "      <td>1.99</td>\n",
       "      <td>6.0</td>\n",
       "    </tr>\n",
       "    <tr>\n",
       "      <td>2</td>\n",
       "      <td>Shirts</td>\n",
       "      <td></td>\n",
       "      <td></td>\n",
       "      <td>20.0</td>\n",
       "      <td>7.99</td>\n",
       "      <td>1.99</td>\n",
       "      <td>9.0</td>\n",
       "    </tr>\n",
       "    <tr>\n",
       "      <td>3</td>\n",
       "      <td>Shirts</td>\n",
       "      <td>TENOFF</td>\n",
       "      <td></td>\n",
       "      <td>15.0</td>\n",
       "      <td>7.99</td>\n",
       "      <td>1.99</td>\n",
       "      <td>8.0</td>\n",
       "    </tr>\n",
       "    <tr>\n",
       "      <td>4</td>\n",
       "      <td>Sweatshirt</td>\n",
       "      <td></td>\n",
       "      <td></td>\n",
       "      <td>12.0</td>\n",
       "      <td>10.99</td>\n",
       "      <td>1.99</td>\n",
       "      <td>8.0</td>\n",
       "    </tr>\n",
       "  </tbody>\n",
       "</table>\n",
       "</div>"
      ],
      "text/plain": [
       "Selected Rows from Table PRODUCTS\n",
       "\n",
       "      Product DiscountCode Return  StoreID  Price  Cost  Quantity\n",
       "0      Shirts                         19.0   7.99  1.99       8.0\n",
       "1  Sweatshirt                         17.0  10.99  1.99       6.0\n",
       "2      Shirts                         20.0   7.99  1.99       9.0\n",
       "3      Shirts       TENOFF            15.0   7.99  1.99       8.0\n",
       "4  Sweatshirt                         12.0  10.99  1.99       8.0"
      ]
     },
     "execution_count": 95,
     "metadata": {},
     "output_type": "execute_result"
    }
   ],
   "source": [
    "prdCAS.head()"
   ]
  },
  {
   "cell_type": "markdown",
   "metadata": {},
   "source": [
    "Add parametrs to the input CAS table. These parameters will execute and create the new CAS table."
   ]
  },
  {
   "cell_type": "code",
   "execution_count": 96,
   "metadata": {},
   "outputs": [
    {
     "data": {
      "text/plain": [
       "CASTable('products', caslib='casuser', computedvarsprogram='TotalPrice = Price * Quantity', vars=['Product', 'DiscountCode', 'StoreID', 'TotalPrice'], where='DiscountCode is not null')"
      ]
     },
     "execution_count": 96,
     "metadata": {},
     "output_type": "execute_result"
    }
   ],
   "source": [
    "prdCAS.where=\"DiscountCode is not null\"\n",
    "prdCAS.vars=['Product','DiscountCode','StoreID','TotalPrice']\n",
    "prdCAS.computedVarsProgram=\"TotalPrice = Price * Quantity\"\n",
    "prdCAS"
   ]
  },
  {
   "cell_type": "markdown",
   "metadata": {},
   "source": [
    "Use the prdCAS object to create a new CAS table."
   ]
  },
  {
   "cell_type": "code",
   "execution_count": 97,
   "metadata": {},
   "outputs": [
    {
     "name": "stdout",
     "output_type": "stream",
     "text": [
      "ERROR: The target table DISCOUNTORDERS_COPYTABLE of the promotion already exists. Please specify a different name.\n",
      "ERROR: The action stopped due to errors.\n"
     ]
    },
    {
     "data": {
      "text/html": [
       "<div class=\"cas-output-area\"></div>\n",
       "<p class=\"cas-results-performance\"><small><span class=\"cas-elapsed\">elapsed 0.0596s</span> &#183; <span class=\"cas-user\">user 0.113s</span> &#183; <span class=\"cas-sys\">sys 0.126s</span> &#183; <span class=\"cas-memory\">mem 600MB</span></small></p>"
      ],
      "text/plain": [
       "+ Elapsed: 0.0596s, user: 0.113s, sys: 0.126s, mem: 600mb"
      ]
     },
     "execution_count": 97,
     "metadata": {},
     "output_type": "execute_result"
    }
   ],
   "source": [
    "prdCAS.copytable(casOut={'name':'discountOrders_copyTable',\n",
    "                         'caslib':'casuser',\n",
    "                         'promote':True}\n",
    "                )\n",
    "\n",
    "## drop table if necessary\n",
    "# conn.dropTable(name='discountorders_copytable',caslib='casuser')"
   ]
  },
  {
   "cell_type": "markdown",
   "metadata": {},
   "source": [
    "Confirm the table was loaded."
   ]
  },
  {
   "cell_type": "code",
   "execution_count": 98,
   "metadata": {},
   "outputs": [
    {
     "data": {
      "text/html": [
       "<div class=\"cas-results-key\"><b>&#167; TableInfo</b></div>\n",
       "<div class=\"cas-results-body\">\n",
       "<div>\n",
       "<style scoped>\n",
       "    .dataframe tbody tr th:only-of-type {\n",
       "        vertical-align: middle;\n",
       "    }\n",
       "\n",
       "    .dataframe tbody tr th {\n",
       "        vertical-align: top;\n",
       "    }\n",
       "\n",
       "    .dataframe thead th {\n",
       "        text-align: right;\n",
       "    }\n",
       "</style>\n",
       "<table border=\"1\" class=\"dataframe\">\n",
       "  <thead>\n",
       "    <tr style=\"text-align: right;\">\n",
       "      <th title=\"\"></th>\n",
       "      <th title=\"Name\">Name</th>\n",
       "      <th title=\"Rows\">Rows</th>\n",
       "      <th title=\"Columns\">Columns</th>\n",
       "      <th title=\"Indexed Columns\">IndexedColumns</th>\n",
       "      <th title=\"Encoding\">Encoding</th>\n",
       "      <th title=\"Created\">CreateTimeFormatted</th>\n",
       "      <th title=\"Last Modified\">ModTimeFormatted</th>\n",
       "      <th title=\"Last Accessed\">AccessTimeFormatted</th>\n",
       "      <th title=\"Character Set\">JavaCharSet</th>\n",
       "      <th title=\"CreateTime\">CreateTime</th>\n",
       "      <th title=\"ModTime\">ModTime</th>\n",
       "      <th title=\"AccessTime\">AccessTime</th>\n",
       "      <th title=\"Global\">Global</th>\n",
       "      <th title=\"Repeated\">Repeated</th>\n",
       "      <th title=\"View\">View</th>\n",
       "      <th title=\"MultiPart\">MultiPart</th>\n",
       "      <th title=\"Loaded Source\">SourceName</th>\n",
       "      <th title=\"Source Caslib\">SourceCaslib</th>\n",
       "      <th title=\"Compressed\">Compressed</th>\n",
       "      <th title=\"Table Creator\">Creator</th>\n",
       "      <th title=\"Last Table Modifier\">Modifier</th>\n",
       "      <th title=\"Source Modified\">SourceModTimeFormatted</th>\n",
       "      <th title=\"SourceModTime\">SourceModTime</th>\n",
       "    </tr>\n",
       "  </thead>\n",
       "  <tbody>\n",
       "    <tr>\n",
       "      <td>0</td>\n",
       "      <td>PRODUCTS</td>\n",
       "      <td>19200</td>\n",
       "      <td>7</td>\n",
       "      <td>0</td>\n",
       "      <td>utf-8</td>\n",
       "      <td>2023-01-18T12:49:54+00:00</td>\n",
       "      <td>2023-01-18T12:49:54+00:00</td>\n",
       "      <td>2023-01-18T12:53:18+00:00</td>\n",
       "      <td>UTF8</td>\n",
       "      <td>1.989665e+09</td>\n",
       "      <td>1.989665e+09</td>\n",
       "      <td>1.989666e+09</td>\n",
       "      <td>0</td>\n",
       "      <td>0</td>\n",
       "      <td>0</td>\n",
       "      <td>0</td>\n",
       "      <td>products.csv</td>\n",
       "      <td>CASUSER(Peter.Styliadis@sas.com)</td>\n",
       "      <td>0</td>\n",
       "      <td>Peter.Styliadis@sas.com</td>\n",
       "      <td></td>\n",
       "      <td>2023-01-18T12:49:50+00:00</td>\n",
       "      <td>1.989665e+09</td>\n",
       "    </tr>\n",
       "    <tr>\n",
       "      <td>1</td>\n",
       "      <td>DISCOUNT_DIM</td>\n",
       "      <td>7</td>\n",
       "      <td>3</td>\n",
       "      <td>0</td>\n",
       "      <td>utf-8</td>\n",
       "      <td>2023-01-18T12:49:55+00:00</td>\n",
       "      <td>2023-01-18T12:49:55+00:00</td>\n",
       "      <td>2023-01-18T12:49:55+00:00</td>\n",
       "      <td>UTF8</td>\n",
       "      <td>1.989665e+09</td>\n",
       "      <td>1.989665e+09</td>\n",
       "      <td>1.989665e+09</td>\n",
       "      <td>0</td>\n",
       "      <td>0</td>\n",
       "      <td>0</td>\n",
       "      <td>0</td>\n",
       "      <td>discount_dim.sashdat</td>\n",
       "      <td>CASUSER(Peter.Styliadis@sas.com)</td>\n",
       "      <td>0</td>\n",
       "      <td>Peter.Styliadis@sas.com</td>\n",
       "      <td></td>\n",
       "      <td>2023-01-18T12:49:51+00:00</td>\n",
       "      <td>1.989665e+09</td>\n",
       "    </tr>\n",
       "    <tr>\n",
       "      <td>2</td>\n",
       "      <td>DISCOUNTORDERS</td>\n",
       "      <td>3877</td>\n",
       "      <td>7</td>\n",
       "      <td>0</td>\n",
       "      <td>utf-8</td>\n",
       "      <td>2023-01-18T12:50:31+00:00</td>\n",
       "      <td>2023-01-18T12:50:31+00:00</td>\n",
       "      <td>2023-01-18T12:53:11+00:00</td>\n",
       "      <td>UTF8</td>\n",
       "      <td>1.989665e+09</td>\n",
       "      <td>1.989665e+09</td>\n",
       "      <td>1.989666e+09</td>\n",
       "      <td>0</td>\n",
       "      <td>0</td>\n",
       "      <td>0</td>\n",
       "      <td>0</td>\n",
       "      <td></td>\n",
       "      <td></td>\n",
       "      <td>0</td>\n",
       "      <td>Peter.Styliadis@sas.com</td>\n",
       "      <td></td>\n",
       "      <td></td>\n",
       "      <td>NaN</td>\n",
       "    </tr>\n",
       "    <tr>\n",
       "      <td>3</td>\n",
       "      <td>CARS_UPDATE</td>\n",
       "      <td>428</td>\n",
       "      <td>16</td>\n",
       "      <td>0</td>\n",
       "      <td>utf-8</td>\n",
       "      <td>2023-01-18T00:51:39+00:00</td>\n",
       "      <td>2023-01-18T00:51:46+00:00</td>\n",
       "      <td>2023-01-18T00:51:46+00:00</td>\n",
       "      <td>UTF8</td>\n",
       "      <td>1.989622e+09</td>\n",
       "      <td>1.989622e+09</td>\n",
       "      <td>1.989622e+09</td>\n",
       "      <td>1</td>\n",
       "      <td>0</td>\n",
       "      <td>0</td>\n",
       "      <td>0</td>\n",
       "      <td></td>\n",
       "      <td></td>\n",
       "      <td>0</td>\n",
       "      <td>Peter.Styliadis@sas.com</td>\n",
       "      <td></td>\n",
       "      <td></td>\n",
       "      <td>NaN</td>\n",
       "    </tr>\n",
       "    <tr>\n",
       "      <td>4</td>\n",
       "      <td>DISCOUNTORDERS_COPYTABLE</td>\n",
       "      <td>3877</td>\n",
       "      <td>4</td>\n",
       "      <td>0</td>\n",
       "      <td>utf-8</td>\n",
       "      <td>2023-01-18T12:49:32+00:00</td>\n",
       "      <td>2023-01-18T12:49:32+00:00</td>\n",
       "      <td>2023-01-18T12:49:32+00:00</td>\n",
       "      <td>UTF8</td>\n",
       "      <td>1.989665e+09</td>\n",
       "      <td>1.989665e+09</td>\n",
       "      <td>1.989665e+09</td>\n",
       "      <td>1</td>\n",
       "      <td>0</td>\n",
       "      <td>0</td>\n",
       "      <td>0</td>\n",
       "      <td></td>\n",
       "      <td></td>\n",
       "      <td>0</td>\n",
       "      <td>Peter.Styliadis@sas.com</td>\n",
       "      <td></td>\n",
       "      <td></td>\n",
       "      <td>NaN</td>\n",
       "    </tr>\n",
       "  </tbody>\n",
       "</table>\n",
       "</div>\n",
       "</div>\n",
       "<div class=\"cas-output-area\"></div>\n",
       "<p class=\"cas-results-performance\"><small><span class=\"cas-elapsed\">elapsed 0.0115s</span> &#183; <span class=\"cas-user\">user 0.00685s</span> &#183; <span class=\"cas-sys\">sys 0.0151s</span> &#183; <span class=\"cas-memory\">mem 1.91MB</span></small></p>"
      ],
      "text/plain": [
       "[TableInfo]\n",
       "\n",
       "                        Name   Rows  Columns  IndexedColumns Encoding        CreateTimeFormatted           ModTimeFormatted        AccessTimeFormatted JavaCharSet    CreateTime       ModTime    AccessTime  Global  Repeated  View  MultiPart            SourceName                      SourceCaslib  Compressed                  Creator Modifier     SourceModTimeFormatted  SourceModTime\n",
       " 0                  PRODUCTS  19200        7               0    utf-8  2023-01-18T12:49:54+00:00  2023-01-18T12:49:54+00:00  2023-01-18T12:53:18+00:00        UTF8  1.989665e+09  1.989665e+09  1.989666e+09       0         0     0          0          products.csv  CASUSER(Peter.Styliadis@sas.com)           0  Peter.Styliadis@sas.com           2023-01-18T12:49:50+00:00   1.989665e+09\n",
       " 1              DISCOUNT_DIM      7        3               0    utf-8  2023-01-18T12:49:55+00:00  2023-01-18T12:49:55+00:00  2023-01-18T12:49:55+00:00        UTF8  1.989665e+09  1.989665e+09  1.989665e+09       0         0     0          0  discount_dim.sashdat  CASUSER(Peter.Styliadis@sas.com)           0  Peter.Styliadis@sas.com           2023-01-18T12:49:51+00:00   1.989665e+09\n",
       " 2            DISCOUNTORDERS   3877        7               0    utf-8  2023-01-18T12:50:31+00:00  2023-01-18T12:50:31+00:00  2023-01-18T12:53:11+00:00        UTF8  1.989665e+09  1.989665e+09  1.989666e+09       0         0     0          0                                                                   0  Peter.Styliadis@sas.com                                                NaN\n",
       " 3               CARS_UPDATE    428       16               0    utf-8  2023-01-18T00:51:39+00:00  2023-01-18T00:51:46+00:00  2023-01-18T00:51:46+00:00        UTF8  1.989622e+09  1.989622e+09  1.989622e+09       1         0     0          0                                                                   0  Peter.Styliadis@sas.com                                                NaN\n",
       " 4  DISCOUNTORDERS_COPYTABLE   3877        4               0    utf-8  2023-01-18T12:49:32+00:00  2023-01-18T12:49:32+00:00  2023-01-18T12:49:32+00:00        UTF8  1.989665e+09  1.989665e+09  1.989665e+09       1         0     0          0                                                                   0  Peter.Styliadis@sas.com                                                NaN\n",
       "\n",
       "+ Elapsed: 0.0115s, user: 0.00685s, sys: 0.0151s, mem: 1.91mb"
      ]
     },
     "execution_count": 98,
     "metadata": {},
     "output_type": "execute_result"
    }
   ],
   "source": [
    "conn.tableInfo(caslib=\"casuser\")"
   ]
  },
  {
   "cell_type": "markdown",
   "metadata": {},
   "source": [
    "View the first 5 rows of the new CAS table."
   ]
  },
  {
   "cell_type": "code",
   "execution_count": 99,
   "metadata": {},
   "outputs": [
    {
     "data": {
      "text/html": [
       "<div>\n",
       "<style scoped>\n",
       "    .dataframe tbody tr th:only-of-type {\n",
       "        vertical-align: middle;\n",
       "    }\n",
       "\n",
       "    .dataframe tbody tr th {\n",
       "        vertical-align: top;\n",
       "    }\n",
       "\n",
       "    .dataframe thead th {\n",
       "        text-align: right;\n",
       "    }\n",
       "</style>\n",
       "<table border=\"1\" class=\"dataframe\"><caption>Selected Rows from Table DISCOUNTORDERS_COPYTABLE</caption>\n",
       "  <thead>\n",
       "    <tr style=\"text-align: right;\">\n",
       "      <th title=\"\"></th>\n",
       "      <th title=\"Product\">Product</th>\n",
       "      <th title=\"DiscountCode\">DiscountCode</th>\n",
       "      <th title=\"StoreID\">StoreID</th>\n",
       "      <th title=\"TotalPrice\">TotalPrice</th>\n",
       "    </tr>\n",
       "  </thead>\n",
       "  <tbody>\n",
       "    <tr>\n",
       "      <td>0</td>\n",
       "      <td>Shirts</td>\n",
       "      <td>TENOFF</td>\n",
       "      <td>15.0</td>\n",
       "      <td>63.92</td>\n",
       "    </tr>\n",
       "    <tr>\n",
       "      <td>1</td>\n",
       "      <td>Pants</td>\n",
       "      <td>TC10</td>\n",
       "      <td>18.0</td>\n",
       "      <td>53.94</td>\n",
       "    </tr>\n",
       "    <tr>\n",
       "      <td>2</td>\n",
       "      <td>Hats</td>\n",
       "      <td>EMP50</td>\n",
       "      <td>19.0</td>\n",
       "      <td>44.91</td>\n",
       "    </tr>\n",
       "    <tr>\n",
       "      <td>3</td>\n",
       "      <td>Shirts</td>\n",
       "      <td>SPC</td>\n",
       "      <td>20.0</td>\n",
       "      <td>55.93</td>\n",
       "    </tr>\n",
       "    <tr>\n",
       "      <td>4</td>\n",
       "      <td>Shirts</td>\n",
       "      <td>TENOFF</td>\n",
       "      <td>30.0</td>\n",
       "      <td>71.91</td>\n",
       "    </tr>\n",
       "  </tbody>\n",
       "</table>\n",
       "</div>"
      ],
      "text/plain": [
       "Selected Rows from Table DISCOUNTORDERS_COPYTABLE\n",
       "\n",
       "  Product DiscountCode  StoreID  TotalPrice\n",
       "0  Shirts       TENOFF     15.0       63.92\n",
       "1   Pants         TC10     18.0       53.94\n",
       "2    Hats        EMP50     19.0       44.91\n",
       "3  Shirts          SPC     20.0       55.93\n",
       "4  Shirts       TENOFF     30.0       71.91"
      ]
     },
     "execution_count": 99,
     "metadata": {},
     "output_type": "execute_result"
    }
   ],
   "source": [
    "discount = conn.CASTable('discountorders_copytable', caslib=\"casuser\")\n",
    "discount.head()"
   ]
  },
  {
   "cell_type": "markdown",
   "metadata": {},
   "source": [
    "<div class=\"alert alert-block alert-success\">\n",
    "    <b>SUMMARY</b>\n",
    "There are hundreds of available CAS actions and SWAT methods. We only touch on a select few. View the documentation for the most up to date information.\n",
    "\n",
    "</div>\n"
   ]
  },
  {
   "cell_type": "markdown",
   "metadata": {},
   "source": [
    "##  <a id='10'> 10. Terminate the Connection to CAS </a>\n",
    "It's best practice to terminate the connection to CAS when you are done. This clears all session scope CAS tables.\n",
    "\n",
    "[Back to table of contents](#0)\n",
    "\n"
   ]
  },
  {
   "cell_type": "code",
   "execution_count": 100,
   "metadata": {},
   "outputs": [],
   "source": [
    "conn.terminate()"
   ]
  },
  {
   "cell_type": "markdown",
   "metadata": {},
   "source": [
    "# Summary\n",
    "In the end, you want to process your big data on the CAS server, then return the summarized data to your client to use native Python packages.\n",
    "\n",
    "You can also prepare the data on the CAS server using Python, then use those CAS tables in other applications like SAS Visual Analytics and more!"
   ]
  },
  {
   "cell_type": "code",
   "execution_count": 101,
   "metadata": {},
   "outputs": [
    {
     "data": {
      "image/jpeg": "[encoded data removed]",
      "text/plain": [
       "<IPython.core.display.Image object>"
      ]
     },
     "metadata": {
      "image/jpeg": {
       "width": 1000
      }
     },
     "output_type": "display_data"
    }
   ],
   "source": [
    "slide(r'\\CASConsiderations.jpg', w=1000)"
   ]
  },
  {
   "cell_type": "markdown",
   "metadata": {},
   "source": [
    "# Thank your for attending!\n",
    "\n",
    "### Connect with me (*Peter Styliadis*) on [LinkedIn](https://www.linkedin.com/in/peter-styliadis-712bb357\") to see any new blogs I create!"
   ]
  }
 ],
 "metadata": {
  "kernelspec": {
   "display_name": "Python 3 (ipykernel)",
   "language": "python",
   "name": "python3"
  },
  "language_info": {
   "codemirror_mode": {
    "name": "ipython",
    "version": 3
   },
   "file_extension": ".py",
   "mimetype": "text/x-python",
   "name": "python",
   "nbconvert_exporter": "python",
   "pygments_lexer": "ipython3",
   "version": "3.8.16"
  }
 },
 "nbformat": 4,
 "nbformat_minor": 4
}
