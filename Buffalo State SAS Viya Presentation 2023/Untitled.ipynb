{
 "cells": [
  {
   "cell_type": "code",
   "execution_count": 2,
   "id": "37cf9dd1-f14f-475a-ac46-b4e020b8d3d5",
   "metadata": {},
   "outputs": [],
   "source": [
    "import requests"
   ]
  },
  {
   "cell_type": "code",
   "execution_count": 23,
   "id": "2e052090-d24e-4260-a41f-84d2e4b0be3d",
   "metadata": {},
   "outputs": [],
   "source": [
    "html = requests.get('https://ssemonthly.demo.sas.com//SASLogon/oauth/authorize?client_id=sas.cli&response_type=code')"
   ]
  },
  {
   "cell_type": "code",
   "execution_count": 24,
   "id": "14b1cf09-610a-4cae-8293-f7f6027d013c",
   "metadata": {},
   "outputs": [
    {
     "data": {
      "text/plain": [
       "<Response [200]>"
      ]
     },
     "execution_count": 24,
     "metadata": {},
     "output_type": "execute_result"
    }
   ],
   "source": [
    "html"
   ]
  },
  {
   "cell_type": "code",
   "execution_count": 29,
   "id": "9dcb230f-e0a7-4050-9ed5-70e775e89b5c",
   "metadata": {},
   "outputs": [
    {
     "data": {
      "text/plain": [
       "requests.models.Response"
      ]
     },
     "execution_count": 29,
     "metadata": {},
     "output_type": "execute_result"
    }
   ],
   "source": [
    "type(html)"
   ]
  },
  {
   "cell_type": "code",
   "execution_count": 30,
   "id": "5404e36b-b9bb-42df-aaf4-afccac4fdfc7",
   "metadata": {},
   "outputs": [],
   "source": [
    "accesscode = html.url"
   ]
  },
  {
   "cell_type": "code",
   "execution_count": 31,
   "id": "19579603-4386-48e9-98bb-4295ffe4a164",
   "metadata": {},
   "outputs": [
    {
     "data": {
      "text/plain": [
       "'https://login.microsoftonline.com/b1c14d5c-3625-45b3-a430-9552373a0c2f/oauth2/v2.0/authorize?client_id=032bafd9-de5d-4428-8ebb-2568970a900a&response_type=code&redirect_uri=https%3A%2F%2Fssemonthly.demo.sas.com%2FSASLogon%2Flogin%2Fcallback%2Fazure&state=8aMKncBL3u&scope=openid+offline_access&nonce=ClyN6P1uKIqM'"
      ]
     },
     "execution_count": 31,
     "metadata": {},
     "output_type": "execute_result"
    }
   ],
   "source": [
    "accesscode"
   ]
  },
  {
   "cell_type": "code",
   "execution_count": 28,
   "id": "c94bdb12-a3bb-41a2-9882-7c146d30e742",
   "metadata": {},
   "outputs": [
    {
     "data": {
      "text/plain": [
       "'ffline_access&nonce=ClyN6P1uKIqM'"
      ]
     },
     "execution_count": 28,
     "metadata": {},
     "output_type": "execute_result"
    }
   ],
   "source": [
    "accesscode[279:]"
   ]
  },
  {
   "cell_type": "code",
   "execution_count": null,
   "id": "0bb5c1f3-202a-465c-a56f-eaa74472587e",
   "metadata": {},
   "outputs": [],
   "source": []
  }
 ],
 "metadata": {
  "kernelspec": {
   "display_name": "Python 3 (ipykernel)",
   "language": "python",
   "name": "python3"
  },
  "language_info": {
   "codemirror_mode": {
    "name": "ipython",
    "version": 3
   },
   "file_extension": ".py",
   "mimetype": "text/x-python",
   "name": "python",
   "nbconvert_exporter": "python",
   "pygments_lexer": "ipython3",
   "version": "3.8.16"
  }
 },
 "nbformat": 4,
 "nbformat_minor": 5
}
