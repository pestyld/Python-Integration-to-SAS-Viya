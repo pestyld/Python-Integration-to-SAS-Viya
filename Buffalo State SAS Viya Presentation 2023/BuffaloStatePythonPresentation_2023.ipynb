{
 "cells": [
  {
   "cell_type": "markdown",
   "id": "4e8000e5-5d02-4c37-899e-9099d7f46c78",
   "metadata": {},
   "source": [
    "# Buffalo State Presentation: The Best of Both Worlds: Analytics with SAS(R) Viya(R) and Python\n",
    "- Understand the massively parallel processing capabilities in SAS Viya\n",
    "- Integrate Python and SAS Viya to process data throughout the analytics life cycle\n",
    "- Create a dashboard using SAS Visual Analytics"
   ]
  },
  {
   "cell_type": "code",
   "execution_count": null,
   "id": "35590098-a3a3-452a-9110-2c17873064ef",
   "metadata": {},
   "outputs": [],
   "source": [
    "##\n",
    "## Display image function\n",
    "##\n",
    "\n",
    "from IPython.display import Image\n",
    "def display_image(img):\n",
    "    ''' Display images for presentation'''\n",
    "    return Image(url=r'https://raw.githubusercontent.com/pestyld/Python-Integration-to-SAS-Viya/master/Buffalo%20State%20SAS%20Viya%20Presentation%202023/images/' + img, embed=True)"
   ]
  },
  {
   "cell_type": "markdown",
   "id": "1adfd0bb-afce-448f-a4e9-ec008f5ac505",
   "metadata": {},
   "source": [
    "## Introduction to SAS Viya"
   ]
  },
  {
   "cell_type": "markdown",
   "id": "1b8154fe-3d1d-4d34-a094-69448dbb51c4",
   "metadata": {},
   "source": [
    "### SAS Viya Overview"
   ]
  },
  {
   "cell_type": "code",
   "execution_count": null,
   "id": "a1fa7340-56aa-4017-b283-e52a7cc29a1a",
   "metadata": {
    "tags": []
   },
   "outputs": [],
   "source": [
    "display_image('01.png')"
   ]
  },
  {
   "cell_type": "markdown",
   "id": "ac5121f1-502d-4695-ae42-d3622cbde504",
   "metadata": {},
   "source": [
    "**Expand notes below each slide for more information**"
   ]
  },
  {
   "cell_type": "markdown",
   "id": "12fb1af4-a956-4e00-86f5-a6119d146d73",
   "metadata": {
    "jupyter": {
     "source_hidden": true
    },
    "tags": []
   },
   "source": [
    "\n",
    "SAS Viya contains a variety of applications to process your data through the entirety of the analytics life cycle, but SAS Viya is much more than that. It's\n",
    " also cloud native, allowing scalable, web-based access to quick, accurate, and reliable analytical insights. \n",
    "Its in-memory engine and parallel processing capabilities can significantly improve the execution speed of your analytics. \n",
    "In its entirety, SAS Viya is a collaborative environment for all users. It enables everyone – data scientists, business analysts, developers, report viewers and executives alike – to collaborate, scale, and operationalize insights. \n",
    "\n",
    "How does all of this happen? SAS Viya includes multiple servers. The SAS Compute Server and SAS Cloud Analytic Services, or the CAS server for short. \n",
    "The SAS Compute Server enables you to execute traditional SAS code. The SAS Compute Server is the Viya equivalent of the SAS®9 workspace server. \n",
    "\n",
    "Then there’s the CAS server.  CAS has a massively parallel processing (MPP) architecture that is appropriate for analyzing big data and resource-intensive programs. It performs parallel processing on resident in-memory data to boost performance and produce lightning-fast results. It is optimal for big data and resource-intensive programs like machine learning. In this course, we focus on working with the CAS server in SAS Viya. \n",
    "\n",
    "All of these features are accessed from a web browser, and SAS Viya provides integration with open-source languages like Python, R, REST, JAVA, and LUA."
   ]
  },
  {
   "cell_type": "code",
   "execution_count": null,
   "id": "7a967e1d-00e2-4571-aa67-d345a92f83eb",
   "metadata": {
    "tags": []
   },
   "outputs": [],
   "source": [
    "display_image('01_a.png')"
   ]
  },
  {
   "cell_type": "markdown",
   "id": "d21a7e6c-ea54-4f04-b46b-c52f6e13f8c3",
   "metadata": {
    "jupyter": {
     "source_hidden": true
    },
    "tags": []
   },
   "source": [
    "SAS Viya consists of many applications that enable you to work with your data no matter your job role or skill level. This can be done through the collection of integrated AI, analytic, and data management solutions in SAS Viya.\n",
    "\n",
    "- The entry point for SAS Viya is **SAS Drive**, a collaborative interface for accessing, organizing, and sharing content. This application is the gateway to all other applications in SAS Viya. \n",
    "- **SAS Studio** is the interactive development environment (IDE) in SAS Viya that enables you to program, build flows, and even use point-and-click tools to process your data. \n",
    "- **SAS Visual Analytics** enables you to visualize data, build statistical models, and create interactive dashboards with an easy-to-use point-and-click interface.  \n",
    "- **SAS Data Studio** is the data preparation application that enables you to easily prepare data using point-and-click transforms. It also enables you to easily embed custom code if necessary.\n",
    "- **SAS Visual Statistics**, **SAS Visual Data Mining and Machine Learning**, and **SAS Visual Forecasting** are applications built for data scientists. Users can interactively create and refine predictive machine learning models and forecasts. \n",
    "- **SAS Model Manager** streamlines the model life cycle \n",
    "- **SAS Environment Manager** manages the entire environment. \n",
    "\n",
    "These are just a few of the many applications available in SAS Viya. All of these applications enable individuals in an organization to work with data.\n"
   ]
  },
  {
   "cell_type": "markdown",
   "id": "2b6beb07-7645-418e-9901-9a17e035bd18",
   "metadata": {},
   "source": [
    "### CAS Server Overview"
   ]
  },
  {
   "cell_type": "code",
   "execution_count": null,
   "id": "1f880355-0a42-4d6b-a4db-0766c5d61dfb",
   "metadata": {
    "tags": []
   },
   "outputs": [],
   "source": [
    "display_image('02.png')"
   ]
  },
  {
   "cell_type": "markdown",
   "id": "02605035-fac1-4dda-82b7-8a897c1e7a2a",
   "metadata": {
    "jupyter": {
     "source_hidden": true
    },
    "tags": []
   },
   "source": [
    "The CAS server is the cloud-native, high-performance in-memory analytics and massively parallel processing engine. The CAS server is configured to run on multiple machines. Typically, you will have one controller node and several worker nodes. You need to make a connection to the CAS server from your client. This is called a CAS session or CAS connection. \n",
    "\n",
    "SAS Documentation - [SAS® Cloud Analytic Services: Fundamentals](https://go.documentation.sas.com/doc/en/pgmsascdc/default/casfun/titlepage.htm)"
   ]
  },
  {
   "cell_type": "code",
   "execution_count": null,
   "id": "24905473-b9b4-4f36-8a35-f7de99e21267",
   "metadata": {},
   "outputs": [],
   "source": [
    "display_image('03.png')"
   ]
  },
  {
   "cell_type": "markdown",
   "id": "7a66a2d8-dd65-46e6-9d44-f804b0723b55",
   "metadata": {
    "jupyter": {
     "source_hidden": true
    },
    "tags": []
   },
   "source": [
    "For data to be processed in CAS, data is copied into memory from some data source, and data blocks are automatically distributed across the worker nodes and loaded into memory. This is called serial loading. Once data is loaded into memory it persists in memory until explicitly dropped or the CAS session ends. \n",
    "\n",
    "You can also load data into memory in parallel. View the following resources for additional information:\n",
    "- [Five Approaches for High-Performance Data Loading to the SAS® Cloud Analytic Services Server](https://www.sas.com/content/dam/SAS/support/en/sas-global-forum-proceedings/2018/1854-2018.pdf)\n",
    "-[Parallel data load to SAS Viya](https://communities.sas.com/t5/SAS-Communities-Library/Parallel-data-load-to-SAS-Viya/ta-p/361318#:~:text=In%20SAS%C2%AE%20Viya%E2%84%A2,sets%20into%20the%20CAS%20server.)\n",
    "- [4 Approaches for Parallel Data Loading to CAS](https://communities.sas.com/t5/SAS-Communities-Library/4-Approaches-for-Parallel-Data-Loading-to-CAS/ta-p/370955)]\n",
    "- [How to Parallel Load and Compress a SAS® Cloud Analytic Services (CAS) Table](https://blogs.sas.com/content/sgf/2019/10/17/how-to-parallel-load-and-compress-a-sas-cloud-analytic-services-cas-table/)\n",
    "\n"
   ]
  },
  {
   "cell_type": "code",
   "execution_count": null,
   "id": "cef8dd8c-080b-442f-b41c-e1a4fb4ad96c",
   "metadata": {
    "tags": []
   },
   "outputs": [],
   "source": [
    "display_image('04.png')"
   ]
  },
  {
   "cell_type": "markdown",
   "id": "bb738e3f-731d-4f13-bbf9-3387690c6e00",
   "metadata": {
    "jupyter": {
     "source_hidden": true
    },
    "tags": []
   },
   "source": [
    "If you persist the data in memory, it enables multiple users to access the same in-memory table without any additional I/O (data load from disk to memory). Because I/O is more resource intensive, having data preloaded into memory speeds up the processing for all users.   \n",
    "\n",
    "For example, person A can execute a variety of Python programs, person B can create dashboards using SAS Visual Analytics, and person C can execute machine learning models. All users can do this using the same in-memory table copy. \n",
    "\n",
    "In all instances, the controller accepts the programs from the client and distributes code to the workers. The workers perform coordinated parallel processing on their portion of the data, with multiple nodes executing the same actions on different parts of the data at the same time. The controller monitors progress and coordinates re-assembling the result segments produced by each worker. If requested by the client, the controller then returns the results to the client for further processing. Modifications to the in-memory table are not reflected in the physically stored data source. If you want to update the physical data source, the in-memory table must be explicitly saved back to the physical storage location."
   ]
  },
  {
   "cell_type": "code",
   "execution_count": null,
   "id": "fc9724d4-a7aa-42c7-9fd4-d193129db2ef",
   "metadata": {
    "tags": []
   },
   "outputs": [],
   "source": [
    "display_image('05.png')"
   ]
  },
  {
   "cell_type": "markdown",
   "id": "baa67122-d9dc-4d37-9601-4ef3b3bc77e8",
   "metadata": {
    "jupyter": {
     "source_hidden": true
    },
    "tags": []
   },
   "source": [
    "The CAS server needs to access data from some physical data source. CAS can access data from a variety of sources using [SAS Viya Data Connectors](https://go.documentation.sas.com/doc/en/pgmsascdc/v_029/casref/p0j09xx6p9ffven1x7z9cq8s1zaa.htm), including databases, Hadoop, streaming data, path-based files, and data stored in the cloud.\n",
    "\n",
    "Once data is loaded into memory on the CAS server, you can process that data using CAS actions. Actions are optimized units of work built for the distributed CAS server. CAS actions provide a range of functionality from managing, processing, analyzing, and modeling data, to executing most traditional SAS DATA step, FedSQL, and even DS2! The question is, how can you execute actions? \n",
    "\n",
    "SAS Viya provides a variety of interfaces for executing CAS actions. One way to execute actions on the CAS server is to use the native CAS language, or CASL for short. CASL supports executing CAS actions on the CAS server and uses normal programing logic. If you have experience using languages like Lua, Python, or R, CASL will be an easy language to learn.\n",
    "\n",
    "Instead of using CASL, you can also execute CAS actions through the CAS API using traditional SAS programming, FedSQL, Java, Python, R, Lua, and REST API. This course focuses on using the Python language.\n",
    "\n",
    " Lastly, you can use a variety of SAS Viya applications like SAS Visual Analytics to create dashboards, SAS Visual Statistics and SAS Visual Data Mining and Machine Learning for modeling and statistics, and a variety of others. All applications execute actions behind the scenes.\n",
    "\n",
    "\n",
    "NOTES:\n",
    "1. With the SAS programming language, many PROCs and much of the traditional DATA step is CAS enabled and can be executed on CAS tables. For more information about how to execute traditional SAS code in SAS Viya, you can view the Programming for SAS Viya course: https://support.sas.com/edu/schedules.html?crs=PGVIYA&ctry=US.\n",
    "2. For Java, you must use the CASClient class.\n",
    "3. For Python, R, and Luna, the SWAT package is required. Many familiar methods are available through the SWAT package.\n",
    "4. The CAS API converts the native language syntax to CAS actions behind the scenes.\n",
    "5. Visit the SAS website for detailed information about all available SAS Viya offerings."
   ]
  },
  {
   "cell_type": "code",
   "execution_count": null,
   "id": "18b2ded9-7696-4484-9653-58456c11f902",
   "metadata": {},
   "outputs": [],
   "source": [
    "display_image('06.png')"
   ]
  },
  {
   "cell_type": "markdown",
   "id": "5ab569dd-bce1-4cef-9b10-94160b279afb",
   "metadata": {
    "jupyter": {
     "source_hidden": true
    },
    "tags": []
   },
   "source": [
    "CAS actions are organized into groups called CAS action sets, and the actions within a set perform related tasks. You can think of action sets as a package, and the actions within an action set as methods. \n",
    "\n",
    "For example, the table action set provides many actions for accessing and managing data.  These include the caslibInfo action to view available data sources, the tableInfo action to view available tables, the fileInfo action to list the data source files, and the fetch action to retrieve n rows of a table.\n",
    "\n",
    "You request a specific action by specifying the action set name, a period, and the action name. Specifying the action set name is usually optional. However, there are a few actions with the same name in different action sets. In those cases, the action set name is required. In this course, we typically specify only the action.\n"
   ]
  },
  {
   "cell_type": "code",
   "execution_count": null,
   "id": "f582cece-cf46-4c2d-8d18-8e2dc1b5f423",
   "metadata": {},
   "outputs": [],
   "source": [
    "display_image('07.png')"
   ]
  },
  {
   "cell_type": "markdown",
   "id": "66b25214-0ebd-4a1c-97c9-fb3edcc9077f",
   "metadata": {
    "jupyter": {
     "source_hidden": true
    },
    "tags": []
   },
   "source": [
    "You can use Python on your client to explore, prepare, analyze, and model big data on the CAS server using familiar Python syntax along with CAS actions to take advantage of the parallel processing power of CAS. If you are preparing data in CAS, you can then share that data with other users or other SAS Viya applications like SAS Visual Analytics to create shareable dashboards. \n",
    "\n",
    "If you are exploring, analyzing, or modeling data in CAS to take advantage of the in-memory parallel processing power,  CAS returns smaller summarized results back to your local Python client. Once the summarized results from the CAS server are returned to your client, you can use native Python packages on the smaller, more manageable data.\n"
   ]
  },
  {
   "cell_type": "code",
   "execution_count": null,
   "id": "9801dd54-f5ca-490d-9448-b207f79e6c89",
   "metadata": {},
   "outputs": [],
   "source": [
    "display_image('08.png')"
   ]
  },
  {
   "cell_type": "markdown",
   "id": "872149f2-9a7a-4121-ad07-62cf818c00c0",
   "metadata": {
    "jupyter": {
     "source_hidden": true
    },
    "tags": []
   },
   "source": [
    "The first question is always, Is CAS faster than your open-source environment? Well, it depends. CAS overhead processes might include starting the required services, explicitly loading data and code to the worker nodes, monitoring the progress as the data is processed on each worker node, collating results on the controller node, and delivering final results to the client. \n",
    "\n",
    "For small tables and simple processes, the SAS Compute Server or your open-source environment might provide quicker results.\n"
   ]
  },
  {
   "cell_type": "code",
   "execution_count": null,
   "id": "5dc62658-f478-4063-b92f-843f9c14dca3",
   "metadata": {},
   "outputs": [],
   "source": [
    "display_image('09.png')"
   ]
  },
  {
   "cell_type": "markdown",
   "id": "66751753-4495-4986-ac19-b3b85d1f63d9",
   "metadata": {
    "jupyter": {
     "source_hidden": true
    },
    "tags": []
   },
   "source": [
    "The second question is always, Which programs should I consider executing in CAS? The answer again is \"it depends.\" \n",
    "\n",
    "The data size thresholds for your open-source environment might be significantly different, but for large data, for code that runs for a long period of time,  or for processes that are complex and computationally demanding, CAS normally provides much faster results. When maximizing processing speed is essential, benchmark multiple processes to determine the best choice for your specific situation. \n",
    "\n",
    "You also want to use CAS to access data in a variety of locations that is already set up in your organization, use specific CAS actions to process data, or to prepare data for use in other SAS Viya applications, such as SAS Visual Analytics."
   ]
  },
  {
   "cell_type": "code",
   "execution_count": null,
   "id": "cb5eca64-077a-4c91-a1a0-c21e9a5bbf38",
   "metadata": {},
   "outputs": [],
   "source": [
    "display_image('09a.png')"
   ]
  },
  {
   "cell_type": "markdown",
   "id": "37a52ff6-b7c1-42c9-a522-458ee6c32d5c",
   "metadata": {
    "jupyter": {
     "source_hidden": true
    },
    "tags": []
   },
   "source": [
    "CAS actions provide a variety of benefits.\n",
    "- First, CAS actions are optimized to run in the CAS server's massively parallel processing engine for lightening-fast results.\n",
    "- Second, the same CAS action is used regardless of programming language or application. That means you can use the same CAS action in CASL, Python, R, and more. This enables you to easily pass information between languages.\n",
    "- When using actions in different languages, the results are equivalent (given seeds).\n",
    "- Lastly, actions are multi-purpose. Actions perform a specific task, and within that task, an action can also perform a variety of other tasks like create a new table, create calculated columns, filter rows and columns, and group data.\n"
   ]
  },
  {
   "cell_type": "code",
   "execution_count": null,
   "id": "c9116865-c27b-4504-9daa-57fe26b64e5d",
   "metadata": {},
   "outputs": [],
   "source": [
    "display_image('10.png')"
   ]
  },
  {
   "cell_type": "markdown",
   "id": "a2240545-f62b-44ae-ac50-be86bf1c1197",
   "metadata": {
    "jupyter": {
     "source_hidden": true
    },
    "tags": []
   },
   "source": [
    "As an experienced Python programmer, you most likely are familiar with Python packages like Pandas, Matplotlib, NumPy, and seaborn. You might be thinking, “Great, I can use these packages on data in CAS!” \n",
    "\n",
    "**False!**\n",
    "\n",
    "Although these are great packages, they do not execute on data on the CAS server. I'll repeat this because it's very important and a common misconception.  Native Python packages do not execute on data on the CAS server.\n"
   ]
  },
  {
   "cell_type": "markdown",
   "id": "1ae71a99-126a-4e5e-8b08-2208845ef514",
   "metadata": {},
   "source": [
    "### SWAT Package Overview\n",
    "[SWAT Documentation](https://sassoftware.github.io/python-swat/getting-started.html)"
   ]
  },
  {
   "cell_type": "code",
   "execution_count": null,
   "id": "d984ebe3-3533-46c3-9d1e-9517dccf516d",
   "metadata": {},
   "outputs": [],
   "source": [
    "display_image('11.png')"
   ]
  },
  {
   "cell_type": "markdown",
   "id": "a448daba-5325-4401-ac84-64b419144486",
   "metadata": {
    "jupyter": {
     "source_hidden": true
    },
    "tags": []
   },
   "source": [
    "In order to process data with Python on the CAS server, you must use the SAS Scripting Wrapper for Analytics Transfer, or the SWAT package for short. This is an open-source package used with Python, R, and Lua. With the SWAT package, you can write a program that connects to the CAS server, quickly load large amounts of data into memory, analyze the data, and then work with the results of your analysis using familiar techniques in the open-source language of your choice.\n",
    "\n",
    "The Python SWAT package contains many familiar Pandas methods, functions, and attributes that work like their counterparts. However, not all methods and functions are available, so be sure to download the latest version of the SWAT package for the most up-to-date functionality.\n",
    "\n",
    "Lastly, the SWAT package also contains an enormous number of CAS actions and CAS methods that can be used to process your data.\n"
   ]
  },
  {
   "cell_type": "code",
   "execution_count": null,
   "id": "2d31d8dc-c0a5-4959-9402-f1980be9274f",
   "metadata": {},
   "outputs": [],
   "source": [
    "display_image('12.png')"
   ]
  },
  {
   "cell_type": "markdown",
   "id": "cae735d9-0b3b-4bf8-bbce-e89c2a4218f2",
   "metadata": {
    "jupyter": {
     "source_hidden": true
    },
    "tags": []
   },
   "source": [
    "For example, with the SWAT package, you can use the familiar head method from the Pandas API on a CAS table to return the first n rows of a CAS table.\n",
    "\n",
    "In all cases, the code is translated through the CAS API into the same fetch CAS action behind the scenes and sent to the CAS server. The action is processed in CAS, and the results are sent from the CAS server to the client."
   ]
  },
  {
   "cell_type": "code",
   "execution_count": null,
   "id": "4bc8d0d9-23e6-498d-b330-f40f54073e9c",
   "metadata": {},
   "outputs": [],
   "source": [
    "display_image('13.png')"
   ]
  },
  {
   "cell_type": "markdown",
   "id": "9354d4bf-cf80-4382-9fbe-606ec67f1b3f",
   "metadata": {
    "jupyter": {
     "source_hidden": true
    },
    "tags": []
   },
   "source": [
    "The CAS API converts familiar Pandas methods into actions behind the scenes, but you can also execute actions directly through the SWAT package.\n",
    "\n",
    "In this example, you can execute the same fetch CAS action in Python. The action is sent to the CAS server, and CAS processes the action and returns the results to the client. The same action can be used in all languages that work with CAS."
   ]
  },
  {
   "cell_type": "code",
   "execution_count": null,
   "id": "5b491ca0-1357-4e9f-b6b1-87793c52fa8d",
   "metadata": {},
   "outputs": [],
   "source": [
    "display_image('14.png')"
   ]
  },
  {
   "cell_type": "markdown",
   "id": "b53ae633-f82d-4fa1-8043-3e200d065572",
   "metadata": {
    "jupyter": {
     "source_hidden": true
    },
    "tags": []
   },
   "source": [
    "In the end, having both your Python client and the CAS server offers you a lot of flexibility. The goal is to look at each as a tool and determine the best tool for the job."
   ]
  },
  {
   "cell_type": "markdown",
   "id": "b8d78342-2223-4369-8c05-49eb5d01123a",
   "metadata": {},
   "source": [
    "# Python Demonstration"
   ]
  },
  {
   "cell_type": "markdown",
   "id": "bbba523e-da3c-473f-8a65-20a11c5130c0",
   "metadata": {},
   "source": [
    "## 1. Setup"
   ]
  },
  {
   "cell_type": "markdown",
   "id": "70b037a1-cc9a-4b51-822a-ad4611e7475d",
   "metadata": {},
   "source": [
    "### a. Import packages"
   ]
  },
  {
   "cell_type": "code",
   "execution_count": null,
   "id": "6a06a1e1-bf47-47ae-8eec-0ee5bc4c2ac6",
   "metadata": {},
   "outputs": [],
   "source": [
    "import sys\n",
    "import os\n",
    "import swat\n",
    "import numpy as np\n",
    "import pandas as pd\n",
    "import matplotlib.pyplot as plt\n",
    "\n",
    "## Set pandas column options\n",
    "pd.set_option('max_colwidth', 200)\n",
    "pd.set_option('display.max_columns', None)\n",
    "\n",
    "## Try to import the seaborn style if it's available in your version. If not, use the default style\n",
    "try:\n",
    "    plt.style.use('seaborn-v0_8')\n",
    "except:\n",
    "    pass\n",
    "\n",
    "## Personal module to connect to CAS. Will not work in other environments. The package is specific to my connection.\n",
    "try:\n",
    "    from casConnect import connect_to_cas\n",
    "except:\n",
    "    pass\n",
    "\n",
    "## Check Python and package versions\n",
    "print(f'Python version:{sys.version.split(\" \")[0]}')\n",
    "print(f'numpy:{np.__version__}')\n",
    "print(f'pandas:{pd.__version__}')\n",
    "print(f'swat:{swat.__version__}')"
   ]
  },
  {
   "cell_type": "markdown",
   "id": "a63a1ada-7275-4370-877f-7d9115922867",
   "metadata": {},
   "source": [
    "### b. Connect to the CAS server"
   ]
  },
  {
   "cell_type": "code",
   "execution_count": null,
   "id": "e386304c-422d-4955-83de-2b95ca6bc5bb",
   "metadata": {},
   "outputs": [],
   "source": [
    "display_image('15.png')"
   ]
  },
  {
   "cell_type": "markdown",
   "id": "49d58c6a-65b4-42ce-b991-05fd99c87447",
   "metadata": {
    "jupyter": {
     "source_hidden": true
    },
    "tags": []
   },
   "source": [
    "To begin working with CAS, you need to make a connection to the CAS server. This is known as a CAS session. A CAS session contains a variety of information and properties. These include server status and licensing, as well as session properties like timeout, locale, active caslib, metrics, and more. \n",
    "\n",
    "You can also create multiple CAS sessions on the CAS server, and these CAS sessions are independent of each other. One reason you would want to create multiple CAS sessions is to execute programs in parallel. One example would be if you want to execute three different machine learning models at the same time. Otherwise, if you do not terminate your connection to CAS, you might mistakenly create multiple connections to CAS, consuming resources.\n"
   ]
  },
  {
   "cell_type": "markdown",
   "id": "7b31efaf-cbd3-46c5-86b6-059e60762564",
   "metadata": {},
   "source": [
    "To connect to the CAS server, you need:\n",
    "- the host name, \n",
    "- the port number, \n",
    "- authentication\n",
    "\n",
    "**Be aware that connecting to the CAS server can be implemented in various ways, so you might need to see your system administrator about how to make a connection. Please follow company policy regarding authentication.**"
   ]
  },
  {
   "cell_type": "code",
   "execution_count": null,
   "id": "7d51adba-95dc-4301-8afa-90844248599e",
   "metadata": {},
   "outputs": [],
   "source": [
    "###################################################################################\n",
    "## General syntax\n",
    "###################################################################################\n",
    "## conn = swat.CAS('server.demo.sas.com', port number, 'username', 'password')\n",
    "###################################################################################\n",
    "\n",
    "\n",
    "###################################################################################\n",
    "## Viya for Learners 3.5 CAS connection information\n",
    "###################################################################################\n",
    "# hostValue = os.environ.get('CASHOST')\n",
    "# portValue = os.environ.get('CASPORT')\n",
    "# passwordToken=os.environ.get('SAS_VIYA_TOKEN')\n",
    "# conn = swat.CAS(hostname=hostValue,port=portValue,password=passwordToken)\n",
    "\n",
    "\n",
    "## my personal environment connection information to SAS Viya (will not work in your environment)\n",
    "try:\n",
    "    conn = connect_to_cas() \n",
    "except:\n",
    "    print('This module is specific to my CAS connection. Please modify your connection to the CAS server')"
   ]
  },
  {
   "cell_type": "code",
   "execution_count": null,
   "id": "a1064e14-317d-4d9f-ac60-d1d69ffa63e7",
   "metadata": {},
   "outputs": [],
   "source": [
    "conn = connect_to_cas()"
   ]
  },
  {
   "cell_type": "code",
   "execution_count": null,
   "id": "37a6ae07-0d41-4532-aaa5-7ec06e03ba42",
   "metadata": {},
   "outputs": [],
   "source": [
    "type(conn)"
   ]
  },
  {
   "cell_type": "markdown",
   "id": "215448cc-fa2b-4ff1-9c66-6baedbcacda0",
   "metadata": {},
   "source": [
    "Confirm the connection is working and view the version of SAS Viya."
   ]
  },
  {
   "cell_type": "code",
   "execution_count": null,
   "id": "dbbe1c63-486e-4b14-a9b7-28e423bc4f48",
   "metadata": {},
   "outputs": [],
   "source": [
    "try:\n",
    "    print(conn.about()['About']['Viya Version'])  ## SAS Viya version\n",
    "except:\n",
    "    print(conn.about()['About']['Version'])       ## SAS Viya 3.5 VFL version"
   ]
  },
  {
   "cell_type": "markdown",
   "id": "dd07216b-9adb-42db-adf6-216dba53c585",
   "metadata": {},
   "source": [
    "### c. Set up demonstration data\n",
    "Create the demonstration data. The demonstration data comes from the **Samples** caslib in SAS Viya. The **Samples** caslib is included in SAS Viya installations. The data is a small sample table for training purposes."
   ]
  },
  {
   "cell_type": "code",
   "execution_count": null,
   "id": "56a55fab-694f-4f2f-ab04-a5b87367b5d2",
   "metadata": {},
   "outputs": [],
   "source": [
    "def setup_demo_data(datasourcefile, incaslib, outfilename, outcaslib):\n",
    "    '''\n",
    "    Function \n",
    "    - loads a server-side file into memory (datasourcefile) from a specific caslib (incaslib) and names the CAS table demo_data in the Casuser caslib\n",
    "    - saves the demo_data CAS table from the Casuser caslib as the specific data source file (outfilename) in the specified caslib (outcaslib)\n",
    "    - drops the demo_data CAS table from the Casuser caslib after it has been saved as a data source file\n",
    "    '''\n",
    "    \n",
    "    # Load data into memory abd name it demo_data in the casuser caslib\n",
    "    conn.loadTable(path = datasourcefile, caslib = incaslib,\n",
    "                   casout = {'name':'demo_data', 'caslib':'casuser', 'replace':True})\n",
    "\n",
    "    # Save the demo_data CAS table back to disk\n",
    "    conn.save(table = {'name':'demo_data', 'caslib':'casuser'},\n",
    "              name = outfilename, caslib = outcaslib, replace=True)\n",
    "    \n",
    "    # Drop the demo_data CAS table\n",
    "    conn.dropTable('demo_data', caslib = 'casuser')\n",
    "\n",
    "    \n",
    "## Load demo data\n",
    "setup_demo_data(datasourcefile='WARRANTY_CLAIMS_0117.sashdat', incaslib='samples', \n",
    "                outfilename='warranty_demo.csv', outcaslib='casuser')"
   ]
  },
  {
   "cell_type": "markdown",
   "id": "4b58bceb-3bfe-4410-b632-ffbcfb2174d9",
   "metadata": {},
   "source": [
    "## 2. Explore available data in the CAS server\n",
    "\n",
    "[SAS Viya Data Connectors](https://go.documentation.sas.com/doc/en/pgmsascdc/default/casref/p0j09xx6p9ffven1x7z9cq8s1zaa.htm) contain connection information and data-source specifics to connect with data sources throughout your organization."
   ]
  },
  {
   "cell_type": "code",
   "execution_count": null,
   "id": "3e35ca2f-6549-401c-87e5-4be5a415e82e",
   "metadata": {},
   "outputs": [],
   "source": [
    "display_image('16.png')"
   ]
  },
  {
   "cell_type": "markdown",
   "id": "6e4107f3-542b-4b57-ba1f-df1b4a547124",
   "metadata": {
    "jupyter": {
     "source_hidden": true
    },
    "tags": []
   },
   "source": [
    "CAS stores and accesses data via caslibs. Caslibs provide a common interface into accessing different data sources. No matter which data source you access in CAS, it is connected via a caslib. Caslibs connect into a variety of data sources in your organization."
   ]
  },
  {
   "cell_type": "code",
   "execution_count": null,
   "id": "27894654-270b-43a1-8178-5bd38d2ca404",
   "metadata": {},
   "outputs": [],
   "source": [
    "display_image('17.png')"
   ]
  },
  {
   "cell_type": "markdown",
   "id": "c2039d59-8e20-4fa1-9fb4-fea4bfdced23",
   "metadata": {
    "jupyter": {
     "source_hidden": true
    },
    "tags": []
   },
   "source": [
    "A caslib consists of three main parts. \n",
    "\n",
    "First, there’s the data source portion. The data source portion contains connection information to a physical data source for storage. Data might be stored on disk in a path with familiar formats such as SAS data sets, CSV, Microsoft Excel, or parquet files, or stored in databases, the cloud, Hadoop, or other systems. The data source portion stores the connection and authorization information required for interacting with those files using SAS Viya data connectors. Data stored in the data source portion of a caslib is generally referred to as files. Files in the data source area cannot be processed directly. \n",
    "\n",
    "The second part of a caslib is the in-memory portion. The in-memory portion provides a space to hold tables that can have operations performed on them. You can almost think of a CAS table as a DataFrame on the CAS server. A file must first be loaded into memory from a data source. Data loaded into memory is generally referred to as tables or CAS tables. >When they are loaded, in-memory tables are available for processing, and they persist in memory. Because there's no connection between the in-memory copy and the data source file, if you want to permanently keep changes made to the data during processing, the in-memory table should be explicitly written back to the data source. If you are done with the CAS table, you can drop the table. We discuss this more later.\n",
    "\n",
    "Lastly, a caslib contains access controls about who can access that specific caslib."
   ]
  },
  {
   "cell_type": "markdown",
   "id": "d3448db5-1c84-4fd0-9189-9040f2067eb6",
   "metadata": {},
   "source": [
    "### a. View available caslibs (data sources) in the CAS server"
   ]
  },
  {
   "cell_type": "code",
   "execution_count": null,
   "id": "cdf648e9-8130-4c59-b560-dc6d10ecb35e",
   "metadata": {},
   "outputs": [],
   "source": [
    "conn.caslibInfo()"
   ]
  },
  {
   "cell_type": "markdown",
   "id": "c7e890c7-e2e4-4502-bf99-c2def3deb91f",
   "metadata": {},
   "source": [
    "### b. View available data source files in a caslib"
   ]
  },
  {
   "cell_type": "code",
   "execution_count": null,
   "id": "13cbf07a-bd9d-442a-925c-5ec995ad40c6",
   "metadata": {},
   "outputs": [],
   "source": [
    "conn.fileInfo(caslib = 'samples')"
   ]
  },
  {
   "cell_type": "code",
   "execution_count": null,
   "id": "7ed1764c-af5b-4678-93dd-b14947581450",
   "metadata": {},
   "outputs": [],
   "source": [
    "conn.fileInfo(caslib = 'casuser')"
   ]
  },
  {
   "cell_type": "markdown",
   "id": "82877628-f21d-4191-b0d4-62030038c000",
   "metadata": {},
   "source": [
    "### c. View available in-memory CAS tables in a caslib"
   ]
  },
  {
   "cell_type": "code",
   "execution_count": null,
   "id": "5b576e25-8581-4da1-b340-745784efa58a",
   "metadata": {},
   "outputs": [],
   "source": [
    "conn.tableInfo(caslib = 'samples')"
   ]
  },
  {
   "cell_type": "code",
   "execution_count": null,
   "id": "bc492c75-b4ad-4009-94a1-3854de67b985",
   "metadata": {},
   "outputs": [],
   "source": [
    "conn.tableInfo(caslib = 'casuser')"
   ]
  },
  {
   "cell_type": "markdown",
   "id": "a1042702-ed1a-4f72-ad48-913f1e0116ef",
   "metadata": {},
   "source": [
    "## 3. Load a data source file into memory"
   ]
  },
  {
   "cell_type": "code",
   "execution_count": null,
   "id": "cad53ab8-d616-41c6-9fb8-fbdfde6659c6",
   "metadata": {},
   "outputs": [],
   "source": [
    "display_image('19.png')"
   ]
  },
  {
   "cell_type": "markdown",
   "id": "eafdd33f-d4fa-4b2c-b7a9-98a9a08b37b5",
   "metadata": {
    "jupyter": {
     "source_hidden": true
    },
    "tags": []
   },
   "source": [
    "There are two main ways that you can load data into memory in CAS. One way is to load data files that are stored in the data source portion of a caslib. These are called server-side files, and it's considered a server-side load. Server-side files are simply files that are associated with a caslib. These are the most common types of files loaded into memory.\n",
    " \n",
    "Another way to load files in memory is through the client. These are called client-side files, and they reside on your client machine. To load client-side files, you must have the correct permissions."
   ]
  },
  {
   "cell_type": "markdown",
   "id": "06efc9c9-c7b8-4c39-ba17-ebe863c2522d",
   "metadata": {},
   "source": [
    "### a. Load a server-side file into memory"
   ]
  },
  {
   "cell_type": "code",
   "execution_count": null,
   "id": "83a58524-39f6-4d8f-abcc-c110580a47e4",
   "metadata": {},
   "outputs": [],
   "source": [
    "conn.fileInfo(caslib = 'casuser')"
   ]
  },
  {
   "cell_type": "markdown",
   "id": "2f443d71-0b3e-4eb5-b912-c19f2306260c",
   "metadata": {},
   "source": [
    "Load the **warranty_demo.csv** data source file into memory. This is similar to loading a file as a DataFrame in pandas."
   ]
  },
  {
   "cell_type": "code",
   "execution_count": null,
   "id": "d0e2a65d-f7d0-42b7-84d8-3456c356c802",
   "metadata": {},
   "outputs": [],
   "source": [
    "conn.loadTable(path = 'warranty_demo.csv', caslib = 'casuser',   ## Specify the data source file and caslib location to load into memory\n",
    "               importOptions = {'fileType':'CSV',                ## Import file specifications\n",
    "                                'guessRows':10000},\n",
    "               casOut = {'name':'warranty_demo',                 ## Specify the output CAS table information\n",
    "                         'caslib':'casuser',\n",
    "                         'replace':True})"
   ]
  },
  {
   "cell_type": "markdown",
   "id": "5875fab4-7c2c-4b86-b4c7-8ea453975246",
   "metadata": {},
   "source": [
    "View the available in-memory tables on the CAS server. The **WARRANTY_DEMO** CAS table is in-memory on the CAS server."
   ]
  },
  {
   "cell_type": "code",
   "execution_count": null,
   "id": "34644665-d76e-45dd-9957-0fed58f5582d",
   "metadata": {},
   "outputs": [],
   "source": [
    "conn.tableInfo(caslib = 'casuser')"
   ]
  },
  {
   "cell_type": "markdown",
   "id": "46dc7128-c161-4cae-8dea-975c275b4ef3",
   "metadata": {},
   "source": [
    "### b. Explore the CAS table"
   ]
  },
  {
   "cell_type": "markdown",
   "id": "90576821-08e8-459a-a2ae-9a299f71971e",
   "metadata": {},
   "source": [
    "Reference the CAS table."
   ]
  },
  {
   "cell_type": "code",
   "execution_count": null,
   "id": "88272a6d-76b9-4923-80ab-f0fd8ebaedb4",
   "metadata": {},
   "outputs": [],
   "source": [
    "castbl = conn.CASTable('WARRANTY_DEMO', caslib = 'casuser')\n",
    "castbl"
   ]
  },
  {
   "cell_type": "markdown",
   "id": "8acab4d8-9820-41f9-a35b-cbc4277c0f5a",
   "metadata": {},
   "source": [
    "View the object type."
   ]
  },
  {
   "cell_type": "code",
   "execution_count": null,
   "id": "6e2cb331-236c-420b-b5e0-be69a068b98f",
   "metadata": {},
   "outputs": [],
   "source": [
    "type(castbl)"
   ]
  },
  {
   "cell_type": "markdown",
   "id": "84d7a154-db78-4029-8fc9-c634f5b0e3c1",
   "metadata": {},
   "source": [
    "View the attributes of the CAS table."
   ]
  },
  {
   "cell_type": "code",
   "execution_count": null,
   "id": "5486e63f-b5cc-48ef-9f7d-ac641722f684",
   "metadata": {},
   "outputs": [],
   "source": [
    "castbl.shape"
   ]
  },
  {
   "cell_type": "markdown",
   "id": "7a687fee-0a6a-4771-9553-28148d28d342",
   "metadata": {},
   "source": [
    "View details about the CAS table using the tableDetails CAS action."
   ]
  },
  {
   "cell_type": "code",
   "execution_count": null,
   "id": "4a463741-b20b-4e6b-b091-26eea0666eeb",
   "metadata": {},
   "outputs": [],
   "source": [
    "castbl.tableDetails()"
   ]
  },
  {
   "cell_type": "code",
   "execution_count": null,
   "id": "6f93eef7-bd01-4073-9708-77c1f8f055f7",
   "metadata": {},
   "outputs": [],
   "source": [
    "castbl.columnInfo()"
   ]
  },
  {
   "cell_type": "markdown",
   "id": "31396bb8-9814-4bff-b372-4661e2d12180",
   "metadata": {},
   "source": [
    "Preview the distributed CAS table."
   ]
  },
  {
   "cell_type": "code",
   "execution_count": null,
   "id": "f5f1fe89-89ac-4fdf-ba37-e3a22355ab8d",
   "metadata": {},
   "outputs": [],
   "source": [
    "castbl.head()"
   ]
  },
  {
   "cell_type": "markdown",
   "id": "333f38e6-54a8-446f-b0b3-67b267fedbd3",
   "metadata": {},
   "source": [
    "### c. SWAT package objects overview\n",
    "[CASTable vs. DataFrame vs. SASDataFrame](https://sassoftware.github.io/python-swat/table-vs-dataframe.html#castable-vs-dataframe-vs-sasdataframe)"
   ]
  },
  {
   "cell_type": "code",
   "execution_count": null,
   "id": "756cbd2a-bda2-4f88-b0fa-d9cdbceff30e",
   "metadata": {
    "tags": []
   },
   "outputs": [],
   "source": [
    "display_image('20.png')"
   ]
  },
  {
   "cell_type": "markdown",
   "id": "5895ca73-aa2d-46f1-b98e-039b3b96d101",
   "metadata": {
    "jupyter": {
     "source_hidden": true
    },
    "tags": []
   },
   "source": [
    "Because the SWAT package tries to blend the world of Pandas and CAS into a single world, you have to be aware of whether you are calling a CAS action or a Pandas API method from the SWAT package because the objects returned to the client will differ.\n",
    "\n",
    "When you execute Pandas methods from the SWAT package, CAS can return a variety of objects to the client, such as a  CASTable, CASColumn, SASDataFrame, pandas.DataFrame, or pandas.Series.\n",
    "\n",
    "When you execute a CAS action, CAS always returns a CASResults object (Python dictionary) to the Python client. \n"
   ]
  },
  {
   "cell_type": "markdown",
   "id": "4f4eb200-9c6b-4261-8433-5f8fce52e5e9",
   "metadata": {
    "tags": []
   },
   "source": [
    "#### CASTable object\n",
    "CASTable objects and DataFrame object (either pandas.DataFrame or SASDataFrame) act very similar in many ways, but they are extremely different constructs. CASTable objects do not contain actual data. They are simply a client-side view of the data in a CAS table on a CAS server. DataFrames and SASDataFrames contain data in-memory on the client machine."
   ]
  },
  {
   "cell_type": "code",
   "execution_count": null,
   "id": "30b92b5f-2ba3-4ae9-b908-a3eaf7bd8305",
   "metadata": {},
   "outputs": [],
   "source": [
    "type(castbl)"
   ]
  },
  {
   "cell_type": "code",
   "execution_count": null,
   "id": "92db9ac4-61d8-4294-8b05-5a495381933d",
   "metadata": {},
   "outputs": [],
   "source": [
    "castbl"
   ]
  },
  {
   "cell_type": "markdown",
   "id": "4573a39c-af3b-4761-ae73-bf59b08d3c2c",
   "metadata": {},
   "source": [
    "#### SASDataFrame object\n",
    "The SASDataFrame object is a simple subclass of pandas.DataFrame and local to the client. It merely adds attributes to hold SAS metadata such as titles, labels, column metadata, etc. It also adds a few utility methods for handling By group representations."
   ]
  },
  {
   "cell_type": "code",
   "execution_count": null,
   "id": "4a193961-581e-4aee-b080-ff8365609223",
   "metadata": {},
   "outputs": [],
   "source": [
    "df = castbl.head()\n",
    "\n",
    "display(type(df), df)"
   ]
  },
  {
   "cell_type": "markdown",
   "id": "2fb001c0-ac2f-43cd-8317-649453bc39fb",
   "metadata": {},
   "source": [
    "#### CASResults object\n",
    "The output of all CAS actions is a CASResults object. This is a Python ordered dictionary with a few methods added to assist in handling the output keys, and attributes added to report information from the CAS action."
   ]
  },
  {
   "cell_type": "code",
   "execution_count": null,
   "id": "60d5e080-3154-440b-b021-e280e3be5482",
   "metadata": {},
   "outputs": [],
   "source": [
    "cr = castbl.fetch(to = 5)\n",
    "\n",
    "display(type(cr), cr)"
   ]
  },
  {
   "cell_type": "code",
   "execution_count": null,
   "id": "9a425b41-b467-4f04-81a3-c62681de886b",
   "metadata": {},
   "outputs": [],
   "source": [
    "cr.keys()"
   ]
  },
  {
   "cell_type": "code",
   "execution_count": null,
   "id": "f97a866c-ec3a-48ce-8545-db26eef69553",
   "metadata": {},
   "outputs": [],
   "source": [
    "df = cr['Fetch']\n",
    "\n",
    "display(type(df), df)"
   ]
  },
  {
   "cell_type": "markdown",
   "id": "4661b86d-d7d9-4563-a050-17407e719797",
   "metadata": {},
   "source": [
    "#### Object summary"
   ]
  },
  {
   "cell_type": "code",
   "execution_count": null,
   "id": "d1218546-bc71-41a8-a112-7b7fa723ed8a",
   "metadata": {},
   "outputs": [],
   "source": [
    "display_image('21.png')"
   ]
  },
  {
   "cell_type": "markdown",
   "id": "f4f6c375-ee60-4aca-aec4-b021503c45a0",
   "metadata": {
    "jupyter": {
     "source_hidden": true
    },
    "tags": []
   },
   "source": [
    "After using a SWAT method or CAS action, the results are returned to the client. Let's investigate a few of the common client-side objects a bit further.\n",
    "\n",
    "First, if you see a CASTable or CASColumn object, those are simply client-side references to an in-memory table on the CAS server. The physical table is not stored on your client machine. You can think of these objects as simply pointing to a table in CAS. To process a CAS table, you must execute a method or action on the object. The CASTable object is the most important object in the SWAT package other than the CAS connection object.\n",
    "\n",
    "Another common object that you will see is a SASDataFrame. A SASDataFrame object is a subclass to a pandas.DataFrame. For the most part, you don’t need to worry about the difference between a SASDataFrame and a panda.DataFrame. They work the same way. The only difference is that a SASDataFrame contains extra attributes to store the SAS metadata such as title, label, and name. If you see a SASDataFrame object, that data lives on your client.\n",
    "\n",
    "Lastly, there is the CASResults object. This is simply a Python dictionary with additional attributes. You can simply work with the CASResults object as you would a Python dictionary. If you see a CASResults object, that data lives on your client.\n"
   ]
  },
  {
   "cell_type": "markdown",
   "id": "77e93637-c9be-4934-8479-501d6a02520b",
   "metadata": {},
   "source": [
    "### d. Rename columns, drop columns, format date columns"
   ]
  },
  {
   "cell_type": "markdown",
   "id": "1215477d-0642-4dee-956c-d7af3ee3a32b",
   "metadata": {},
   "source": [
    "Get the name of all the CAS table columns."
   ]
  },
  {
   "cell_type": "code",
   "execution_count": null,
   "id": "26df84ed-44d5-489f-be1b-e319984c3905",
   "metadata": {},
   "outputs": [],
   "source": [
    "castableColumnNames = castbl.columns.to_list()\n",
    "castableColumnNames"
   ]
  },
  {
   "cell_type": "markdown",
   "id": "012045d9-a827-4573-8676-dab62a9bcb96",
   "metadata": {},
   "source": [
    "Specify the new column names a list."
   ]
  },
  {
   "cell_type": "code",
   "execution_count": null,
   "id": "5c80a4ab-525a-475e-9304-22f397046ea3",
   "metadata": {},
   "outputs": [],
   "source": [
    "newColumnNames = [\n",
    "            'campaign_type','selling_dealer','vehicle_class','platform','trim_level','make','model_year','customer_country','engine_model',\n",
    "            'vehicle_assembly_plant','repairing_division','repairing_state_province','repairing_region','repairing_country','repairing_dealer',\n",
    "            'primary_labor_group','primary_labor_description','total_claim_count','claim_repair_start_date','claim_repair_end_date','claim_processed_date',\n",
    "            'claim_submitted_date','primary_labor_code','defect_key','primary_labor_group_code','primary_replaced__material_id',\n",
    "            'primary_replaced_material_group_code','warranty_claim_id','usage_value','gross_claim_amount','gross_labor_amount','gross_material_amount',\n",
    "            'gross_other_amount','product_unit_id','product_model','product_unit_assembly_date','service_year_date','ship_date','ship_year','defect_code',\n",
    "            'latitude','longitude'\n",
    "]"
   ]
  },
  {
   "cell_type": "markdown",
   "id": "9b743f85-dad0-47f6-b6a2-fd0afaae1203",
   "metadata": {},
   "source": [
    "Create a list of dictionaries to rename the columns in the CAS table."
   ]
  },
  {
   "cell_type": "code",
   "execution_count": null,
   "id": "0ad34b68-cff2-41f8-b5dd-94347a02caf2",
   "metadata": {},
   "outputs": [],
   "source": [
    "updateColumns = []\n",
    "\n",
    "## Create a list of dictionaries. Each dictionary specifies the current column name, and the name to rename it to. Add date formats to date columns\n",
    "for position in range(len(castableColumnNames)):\n",
    "    \n",
    "    # Rename columns\n",
    "    colUpdate = {'name' : castableColumnNames[position], 'rename' : newColumnNames[position]}\n",
    "    \n",
    "    # # Add date format to date columns\n",
    "    if colUpdate['rename'].find('date') > 0:\n",
    "        colUpdate['format'] = 'DATE9.'\n",
    "        \n",
    "    # Append dictionaries to list\n",
    "    updateColumns.append(colUpdate)\n",
    "    \n",
    "updateColumns"
   ]
  },
  {
   "cell_type": "markdown",
   "id": "b83ac516-34d5-4752-adc3-9fd9da580857",
   "metadata": {},
   "source": [
    "Specify a list of columns to drop."
   ]
  },
  {
   "cell_type": "code",
   "execution_count": null,
   "id": "6be258f1-181f-488d-8455-fea465366d55",
   "metadata": {},
   "outputs": [],
   "source": [
    "dropColumns = ['defect_code','repairing_division','usage_value','campaign_type','customer_country','ship_year',\n",
    "               'product_unit_assembly_date','primary_replaced_material_group_code','primary_labor_group_code',\n",
    "               'selling_dealer','vehicle_class','ship_date', 'total_claim_count']"
   ]
  },
  {
   "cell_type": "markdown",
   "id": "b527ab96-d13d-4333-9382-314d7da18dae",
   "metadata": {},
   "source": [
    "Use the [alterTable](https://go.documentation.sas.com/doc/en/pgmsascdc/default/caspg/cas-table-altertable.htm) CAS action to rename, drop and rearrange columns."
   ]
  },
  {
   "cell_type": "code",
   "execution_count": null,
   "id": "5e35668b-b2eb-4603-9768-4dc073885d72",
   "metadata": {},
   "outputs": [],
   "source": [
    "castbl.alterTable(columns = updateColumns, \n",
    "                  drop = dropColumns)"
   ]
  },
  {
   "cell_type": "code",
   "execution_count": null,
   "id": "d31e4873-624e-4492-8046-9082098ab6f9",
   "metadata": {},
   "outputs": [],
   "source": [
    "castbl.shape"
   ]
  },
  {
   "cell_type": "code",
   "execution_count": null,
   "id": "4b9b9684-cb61-43d7-9cca-65f5fefd2203",
   "metadata": {},
   "outputs": [],
   "source": [
    "castbl.head()"
   ]
  },
  {
   "cell_type": "markdown",
   "id": "47a98106-d9e0-4b1d-9c98-ed9b1bb83b97",
   "metadata": {},
   "source": [
    "Rearrange the CAS table column order."
   ]
  },
  {
   "cell_type": "code",
   "execution_count": null,
   "id": "34ab7e9b-6033-40d3-be86-287a3fabe1b7",
   "metadata": {},
   "outputs": [],
   "source": [
    "newColumnOrder = ['warranty_claim_id', 'make', 'product_model', 'model_year', 'platform', 'trim_level', 'engine_model','vehicle_assembly_plant',\n",
    "                  'primary_labor_group', 'primary_labor_description', 'primary_labor_code', 'defect_key','primary_replaced__material_id', 'gross_claim_amount', \n",
    "                  'gross_labor_amount', 'gross_material_amount', 'gross_other_amount','product_unit_id', 'repairing_state_province', 'repairing_region', \n",
    "                  'repairing_country', 'repairing_dealer', 'latitude', 'longitude', 'claim_repair_start_date', 'claim_repair_end_date', 'claim_processed_date', \n",
    "                  'claim_submitted_date','service_year_date']\n",
    "\n",
    "castbl.alterTable(columnOrder = newColumnOrder)\n",
    "\n",
    "castbl.head()"
   ]
  },
  {
   "cell_type": "markdown",
   "id": "2528775b-711d-4975-9611-743e843730bc",
   "metadata": {},
   "source": [
    "## 4. Exploratory data analysis"
   ]
  },
  {
   "cell_type": "markdown",
   "id": "c6c64f5e-e199-4cf3-998f-4084913c0c57",
   "metadata": {},
   "source": [
    "### a. Distinct and missing values"
   ]
  },
  {
   "cell_type": "code",
   "execution_count": null,
   "id": "68da9af2-1bd3-4db3-896c-516b39d5b820",
   "metadata": {},
   "outputs": [],
   "source": [
    "castbl.make.unique()"
   ]
  },
  {
   "cell_type": "code",
   "execution_count": null,
   "id": "b6388467-5ea3-419d-ab76-4c57bfdb6cd5",
   "metadata": {},
   "outputs": [],
   "source": [
    "castbl.make.nmiss()"
   ]
  },
  {
   "cell_type": "markdown",
   "id": "953590c5-506f-45ba-90af-b744281a803b",
   "metadata": {},
   "source": [
    "Use the [distinct](https://go.documentation.sas.com/doc/en/pgmsascdc/v_035/casanpg/cas-simple-distinct.htm) CAS action to compute the distinct and missing number of values of the columns."
   ]
  },
  {
   "cell_type": "code",
   "execution_count": null,
   "id": "9f77bcdd-b831-4b8b-9457-1ae4de06ef10",
   "metadata": {},
   "outputs": [],
   "source": [
    "distinct_df = castbl.distinct()['Distinct']\n",
    "\n",
    "display(type(distinct_df),distinct_df)"
   ]
  },
  {
   "cell_type": "markdown",
   "id": "0decdfb9-5019-42f2-b628-a02c119de8f8",
   "metadata": {},
   "source": [
    "A SASDataFrame is a subclass of pandas DataFrame. Therefore, anything you can do with a pandas DataFrame will also work with SASDataFrame. SASDataFrames are local on the client.\n",
    "\n",
    "Create the **pctDistinct** and **pctMissing** columns using traditional pandas code."
   ]
  },
  {
   "cell_type": "code",
   "execution_count": null,
   "id": "0b0e27e2-e465-4163-adf6-d6bc7334c783",
   "metadata": {},
   "outputs": [],
   "source": [
    "## Number of rows in the CAS table\n",
    "nRows = castbl.shape[0]\n",
    "\n",
    "## Pandas code on the Python client to prepare the SASDataFrame\n",
    "distinct_df = (distinct_df                                                 \n",
    "               .assign(pctDistinct = distinct_df.NDistinct / nRows,\n",
    "                       pctMissing = distinct_df.NMiss / nRows)\n",
    "               .sort_values('pctDistinct', ascending = False)\n",
    "               .drop('Trunc', axis = 1)\n",
    "              )\n",
    "\n",
    "distinct_df"
   ]
  },
  {
   "cell_type": "markdown",
   "id": "a284d843-5bbc-4cf9-bde0-4273debc58c7",
   "metadata": {},
   "source": [
    "Plot the percentage of missing and distinct values using pandas on the client."
   ]
  },
  {
   "cell_type": "code",
   "execution_count": null,
   "id": "65c1c9c2-63e8-44f5-ba75-fff00901fdcf",
   "metadata": {},
   "outputs": [],
   "source": [
    "##\n",
    "## Create the dataframes for the pctMissing and pctDistinct\n",
    "##\n",
    "\n",
    "missing = (distinct_df\n",
    "           .query('pctMissing > 0')\n",
    "           .loc[:,['Column', 'pctMissing']]\n",
    "           .set_index('Column')\n",
    "          )\n",
    "\n",
    "distinct_gt10 = (distinct_df\n",
    "                 .query('pctDistinct > .1')\n",
    "                 .loc[:,['Column','pctDistinct']]\n",
    "                 .set_index('Column')\n",
    "                )\n",
    "\n",
    "display(missing, distinct_gt10)\n",
    "\n",
    "\n",
    "##\n",
    "## Plot the dataframes\n",
    "##\n",
    "\n",
    "fig, (ax1, ax2) = plt.subplots(ncols=2, figsize = (18,6))\n",
    "\n",
    "ax1.bar(missing.index, missing.pctMissing)\n",
    "ax1.set_title('Columns with missing values')\n",
    "ax1.set_ylim(top=1)\n",
    "\n",
    "ax2.bar(distinct_gt10.index, distinct_gt10.pctDistinct)\n",
    "ax2.set_title('Columns with greater than 10% distinct values')\n",
    "ax2.set_ylim(top=1)\n",
    "\n",
    "fig.tight_layout()"
   ]
  },
  {
   "cell_type": "markdown",
   "id": "f7903a20-8a30-4f93-a612-0b1afee2ea77",
   "metadata": {},
   "source": [
    "### b. Categorical columns"
   ]
  },
  {
   "cell_type": "markdown",
   "id": "832c62ae-9458-4a0e-897a-6cfd0cddf00e",
   "metadata": {},
   "source": [
    "The SWAT packages contains a variety of Pandas API methods."
   ]
  },
  {
   "cell_type": "code",
   "execution_count": null,
   "id": "765ef1d3-0577-4b66-84a5-59b3b72e91d8",
   "metadata": {},
   "outputs": [],
   "source": [
    "(castbl                               ## CAS table\n",
    " .make                                ## CAS table column\n",
    " .value_counts(normalize = True)      ## value_count swat method\n",
    ")"
   ]
  },
  {
   "cell_type": "markdown",
   "id": "5c2ecb4e-b5d8-4980-8c90-32d7dfb92a9d",
   "metadata": {},
   "source": [
    "Get unique value counts of each of the following CAS table columns."
   ]
  },
  {
   "cell_type": "code",
   "execution_count": null,
   "id": "084167c0-eaf9-49a7-b966-7a7d2ca29e27",
   "metadata": {},
   "outputs": [],
   "source": [
    "catColumns = ['make', 'product_model', 'platform', 'trim_level', 'model_year', 'engine_model', 'vehicle_assembly_plant', 'repairing_state_province','primary_labor_group']\n",
    "\n",
    "for col in catColumns:\n",
    "    (castbl[col]                                            ## CAS table column\n",
    "     .value_counts(normalize = True)                        ## value_count swat method, summarizes the data in the distributed CAS server\n",
    "     .plot(kind = 'bar', title = col, figsize = (13,5))     ## Plot the SASDataFrame on the client-side\n",
    "    )\n",
    "    plt.show()"
   ]
  },
  {
   "cell_type": "markdown",
   "id": "7947a43e-a691-4f3e-90c1-dd2abef2abc2",
   "metadata": {},
   "source": [
    "Pull information out of the **primary_labor_description** column. View the detailed labor descriptions of the top 20 claims."
   ]
  },
  {
   "cell_type": "code",
   "execution_count": null,
   "id": "d93c0690-439e-4a02-8b55-9bb588dc275f",
   "metadata": {},
   "outputs": [],
   "source": [
    "(castbl\n",
    " .primary_labor_description\n",
    " .value_counts(normalize = True)\n",
    " .iloc[:20]                         \n",
    ")"
   ]
  },
  {
   "cell_type": "markdown",
   "id": "47b76645-b1fe-4fb1-b1fc-9b285fa1458a",
   "metadata": {},
   "source": [
    "View the CASTable object."
   ]
  },
  {
   "cell_type": "code",
   "execution_count": null,
   "id": "aec3bb09-aff2-4c16-a222-9ba18e6eaab4",
   "metadata": {},
   "outputs": [],
   "source": [
    "castbl"
   ]
  },
  {
   "cell_type": "markdown",
   "id": "b964c9c1-68e9-4f0d-abb8-3f495ddef898",
   "metadata": {},
   "source": [
    "Add parameters to a CASTable object to calculate a new column. Notice the output adds how to calculate the new column to the CASTable object. No column has been created."
   ]
  },
  {
   "cell_type": "code",
   "execution_count": null,
   "id": "1cc32e7f-3d15-4e1a-ae05-a812f56b98e1",
   "metadata": {},
   "outputs": [],
   "source": [
    "castbl.eval(\"primary_labor_item = scan(primary_labor_description,1,'–:-','r')\", inplace = False)"
   ]
  },
  {
   "cell_type": "markdown",
   "id": "f6583859-4dcb-493d-b9ac-e711033085f7",
   "metadata": {},
   "source": [
    "View the original CASTable object."
   ]
  },
  {
   "cell_type": "code",
   "execution_count": null,
   "id": "ee7f550b-ee19-4bc4-8a27-4349028c46af",
   "metadata": {},
   "outputs": [],
   "source": [
    "castbl"
   ]
  },
  {
   "cell_type": "markdown",
   "id": "7fe3fef4-cc21-43ed-9311-d6b2a4bbd760",
   "metadata": {},
   "source": [
    "Create a new column in the CASTable object."
   ]
  },
  {
   "cell_type": "code",
   "execution_count": null,
   "id": "b0daa7d3-22c4-4ab0-bd6b-0418c3d01b8f",
   "metadata": {},
   "outputs": [],
   "source": [
    "(castbl\n",
    " .eval(\"primary_labor_item = scan(primary_labor_description,1,'–:-','r')\", inplace = False)\n",
    " .head()\n",
    ")"
   ]
  },
  {
   "cell_type": "code",
   "execution_count": null,
   "id": "9153aa1c-6495-4198-9369-a6d518f42c40",
   "metadata": {},
   "outputs": [],
   "source": [
    "(castbl\n",
    " .eval(\"primary_labor_item = scan(primary_labor_description,1,'–:-','r')\", inplace = False)\n",
    " .primary_labor_item\n",
    " .value_counts(normalize = True)\n",
    ")"
   ]
  },
  {
   "cell_type": "code",
   "execution_count": null,
   "id": "1a08030f-de91-4e51-a310-85d251a59645",
   "metadata": {},
   "outputs": [],
   "source": [
    "castbl"
   ]
  },
  {
   "cell_type": "markdown",
   "id": "ea945657-e18c-4911-bc56-b61595aacdfe",
   "metadata": {},
   "source": [
    "### c. Numeric columns"
   ]
  },
  {
   "cell_type": "code",
   "execution_count": null,
   "id": "4551c41f-0f0d-42cd-86e9-64c114da5d9a",
   "metadata": {},
   "outputs": [],
   "source": [
    "castbl.head()"
   ]
  },
  {
   "cell_type": "code",
   "execution_count": null,
   "id": "190fc1b1-67b9-4691-be65-20a1b7dc491a",
   "metadata": {},
   "outputs": [],
   "source": [
    "numericColumns = ['gross_claim_amount', 'gross_labor_amount', 'gross_material_amount', 'gross_other_amount']\n",
    "\n",
    "(castbl                       ## CAS table\n",
    " .loc[:,numericColumns]       ## CAS table columns\n",
    " .describe()                  ## swat describe method, processes in the CAS server\n",
    ")"
   ]
  },
  {
   "cell_type": "markdown",
   "id": "ef858de2-6b01-4aea-9bcd-33ad0f653b38",
   "metadata": {},
   "source": [
    "### d. Date columns"
   ]
  },
  {
   "cell_type": "markdown",
   "id": "8f3dfcc4-6fc6-48e6-b5ea-53b20f3bbc16",
   "metadata": {},
   "source": [
    "Calculate the **days_to_repair** and **days_to_process_claim** columns."
   ]
  },
  {
   "cell_type": "code",
   "execution_count": null,
   "id": "bf4e5380-0716-4cdf-8c3f-d6d66ac2bf70",
   "metadata": {},
   "outputs": [],
   "source": [
    "(castbl\n",
    " .eval(\"days_to_repair = claim_repair_end_date - claim_repair_start_date\", inplace = False)\n",
    " .eval(\"days_to_process_claim = claim_processed_date - claim_submitted_date\", inplace = False)\n",
    " .loc[:, ['days_to_repair', 'days_to_process_claim']]\n",
    " .describe()\n",
    ")"
   ]
  },
  {
   "cell_type": "markdown",
   "id": "eeaa97d5-3125-4f9f-a5ba-094e751dae80",
   "metadata": {},
   "source": [
    "## 5. Prepare final data"
   ]
  },
  {
   "cell_type": "markdown",
   "id": "34be9a6d-c6bf-425e-a60f-57636e30dda1",
   "metadata": {},
   "source": [
    "### a. Using Python"
   ]
  },
  {
   "cell_type": "code",
   "execution_count": null,
   "id": "762b14ac-1689-4a5d-b9c9-c9cc74c091e6",
   "metadata": {},
   "outputs": [],
   "source": [
    "castbl"
   ]
  },
  {
   "cell_type": "code",
   "execution_count": null,
   "id": "de6a7a68-95c3-4539-a2d9-0f8b85254fdd",
   "metadata": {},
   "outputs": [],
   "source": [
    "castbl.tableInfo()"
   ]
  },
  {
   "cell_type": "markdown",
   "id": "022b36d9-a1c4-4555-8b89-47aa3eceb0f9",
   "metadata": {},
   "source": [
    "If you are using SAS Viya for Learners 3.5 you must use the partition action instead of copyTable."
   ]
  },
  {
   "cell_type": "code",
   "execution_count": null,
   "id": "6dbbeb1e-653f-4cc4-8535-e9184e9e0500",
   "metadata": {},
   "outputs": [],
   "source": [
    "(castbl\n",
    " .eval(\"days_to_repair = claim_repair_end_date - claim_repair_start_date\", inplace = False)\n",
    " .eval(\"days_to_process_claim = claim_processed_date - claim_submitted_date\", inplace = False)\n",
    " .eval(\"primary_labor_item = scan(primary_labor_description,1,'–:-','r')\", inplace = False)\n",
    " .eval(\"car_serviced = ifc(service_year_date = ., 'Not Serviced', 'Serviced')\", inplace = False)\n",
    " .copyTable(casout = {'name':'warranty_final', \n",
    "                      'caslib':'casuser', \n",
    "                      'replace':True})          \n",
    ")\n",
    "\n",
    "\n",
    "#################################################################################################\n",
    "## Use the following code if you are using SAS Viya for Learners (Viya 3.5)                    ##\n",
    "## In SAS Viya 3.5 you must use the partition action instead of copyTable. Code is similar.    ##\n",
    "#################################################################################################\n",
    "# (castbl\n",
    "#  .eval(\"days_to_repair = claim_repair_end_date - claim_repair_start_date\", inplace = False)\n",
    "#  .eval(\"days_to_process_claim = claim_processed_date - claim_submitted_date\", inplace = False)\n",
    "#  .eval(\"primary_labor_item = scan(primary_labor_description,1,'–:-','r')\", inplace = False)\n",
    "#  .eval(\"car_serviced = ifc(service_year_date = ., 'Not Serviced', 'Serviced')\", inplace = False)\n",
    "#  .partition(casout = {'name':'warranty_final', 'caslib':'casuser', 'replace':True})          ## In SAS Viya 3.5 you must use the partition action instead of copyTable. Code is similar.\n",
    "# )"
   ]
  },
  {
   "cell_type": "code",
   "execution_count": null,
   "id": "22bf0e2f-4e5f-4700-828e-4d1274ec3684",
   "metadata": {},
   "outputs": [],
   "source": [
    "conn.tableInfo(caslib = 'casuser')"
   ]
  },
  {
   "cell_type": "code",
   "execution_count": null,
   "id": "9fec7361-b1c0-42e6-be24-ff941e84dbfe",
   "metadata": {},
   "outputs": [],
   "source": [
    "finalTbl = conn.CASTable('WARRANTY_FINAL', caslib = 'casuser')\n",
    "finalTbl.head()"
   ]
  },
  {
   "cell_type": "markdown",
   "id": "8befa4ba-1e0d-410d-9e14-f37106ca7368",
   "metadata": {},
   "source": [
    "### b. Using SQL"
   ]
  },
  {
   "cell_type": "code",
   "execution_count": null,
   "id": "61819557-8ab2-4fbc-8fbc-c2cd9100f3e1",
   "metadata": {},
   "outputs": [],
   "source": [
    "conn.loadActionSet('fedSQL')"
   ]
  },
  {
   "cell_type": "code",
   "execution_count": null,
   "id": "8b29e43a-2df5-4a82-8a06-df93081d7176",
   "metadata": {},
   "outputs": [],
   "source": [
    "conn.fedSQL?"
   ]
  },
  {
   "cell_type": "code",
   "execution_count": null,
   "id": "7b48ea7b-ea35-4853-a7a8-00d79777b99c",
   "metadata": {},
   "outputs": [],
   "source": [
    "createTableQuery = '''\n",
    "    create table casuser.warranty_final_sql{options replace=True} as\n",
    "    select *, \n",
    "           claim_repair_end_date - claim_repair_start_date as days_to_repair, \n",
    "           claim_processed_date - claim_submitted_date as days_to_process_claim,\n",
    "           scan(primary_labor_description,1,'–:-','r') as primary_labor_item,\n",
    "           case\n",
    "               when service_year_date = . then 'Not Serviced'\n",
    "               else 'Serviced'\n",
    "           end as car_serviced\n",
    "    from casuser.warranty_demo;\n",
    "'''\n",
    "\n",
    "conn.execdirect(query = createTableQuery)"
   ]
  },
  {
   "cell_type": "code",
   "execution_count": null,
   "id": "007bd19b-8912-474e-8f4d-1bbe64c7d08c",
   "metadata": {},
   "outputs": [],
   "source": [
    "conn.tableInfo(caslib = 'casuser')"
   ]
  },
  {
   "cell_type": "markdown",
   "id": "82aa213c-52f3-447f-8c43-9c584dda8957",
   "metadata": {},
   "source": [
    "### c. Add column labels for the dashboard for a production report\n",
    "Take the current column name and:\n",
    "- replace the _ with a space\n",
    "- make everything title case\n",
    "- replace Id with ID"
   ]
  },
  {
   "cell_type": "code",
   "execution_count": null,
   "id": "07cfe68e-f579-4518-9839-56c5f3eaa08d",
   "metadata": {},
   "outputs": [],
   "source": [
    "addLabelsToColumns = [{'name':colname, 'label':colname.replace('_',' ').title().replace('Id','ID')} for colname in finalTbl.columns.to_list()]\n",
    "addLabelsToColumns"
   ]
  },
  {
   "cell_type": "markdown",
   "id": "d20506ab-8913-444f-87e4-9f3f8b65caa4",
   "metadata": {},
   "source": [
    "Add labels to the columns."
   ]
  },
  {
   "cell_type": "code",
   "execution_count": null,
   "id": "54edda34-145f-4335-a7b6-7faf28c7ecc3",
   "metadata": {},
   "outputs": [],
   "source": [
    "finalTbl.alterTable(columns = addLabelsToColumns)\n",
    "finalTbl.columnInfo()"
   ]
  },
  {
   "cell_type": "markdown",
   "id": "3d5c6b90-4503-431a-bd82-9bfa283287a8",
   "metadata": {},
   "source": [
    "## 6. Save CAS table as a data source file"
   ]
  },
  {
   "cell_type": "code",
   "execution_count": null,
   "id": "a22a8d83-6930-4c01-8bfa-de5a89a762a9",
   "metadata": {},
   "outputs": [],
   "source": [
    "finalTbl"
   ]
  },
  {
   "cell_type": "code",
   "execution_count": null,
   "id": "28d020e0-37fc-46a3-b964-5e2d8e55104b",
   "metadata": {},
   "outputs": [],
   "source": [
    "finalTbl.save(name='warranty_final.sashdat', \n",
    "              caslib = 'casuser', \n",
    "              replace = True)"
   ]
  },
  {
   "cell_type": "code",
   "execution_count": null,
   "id": "db6242ad-ea7e-405b-8a60-3c20df03e7e8",
   "metadata": {},
   "outputs": [],
   "source": [
    "conn.fileInfo(caslib = 'casuser')"
   ]
  },
  {
   "cell_type": "code",
   "execution_count": null,
   "id": "34c0fe42-b087-4501-8697-c55dea06426c",
   "metadata": {},
   "outputs": [],
   "source": [
    "conn.terminate()"
   ]
  },
  {
   "cell_type": "markdown",
   "id": "d0975fe1-97f7-4fe2-9e7a-627f560b608b",
   "metadata": {},
   "source": [
    "## 7. Open the  **warranty_final.sashdat** in SAS Visual Analytics\n",
    "1. Log into SAS Viya\n",
    "2. Select show applications on the top left\n",
    "3. Select Explore & Visualize"
   ]
  },
  {
   "cell_type": "markdown",
   "id": "a5facfc3-7247-43f4-a092-135c3fdb871a",
   "metadata": {
    "tags": []
   },
   "source": [
    "# Additional Resources\n",
    "\n",
    "SAS Documentation \n",
    "- [SAS® Cloud Analytic Services: Fundamentals](https://go.documentation.sas.com/doc/en/pgmsascdc/default/casfun/titlepage.htm)\n",
    "- [SWAT Package](https://sassoftware.github.io/python-swat/getting-started.html)\n",
    "- [CAS Actions](https://go.documentation.sas.com/doc/en/pgmsascdc/default/pgmsassyntaxwlcm/home.htm)\n",
    "\n",
    "SAS Courses \n",
    "- [SAS® Viya® and Python Integration Fundamentals](https://support.sas.com/edu/schedules.html?crs=PIVY&ctry=US) \n",
    "- [SAS® Viya® and Python Integration for Machine Learning](https://support.sas.com/edu/schedules.html?crs=POSI34&ctry=US)\n",
    "- [High-Performance Data Processing with CASL in SAS® Viya®](https://support.sas.com/edu/schedules.html?crs=CASL&ctry=US)\n",
    "\n",
    "Blog Series \n",
    "- [Getting Started with Python Integration to SAS® Viya®](https://blogs.sas.com/content/sgf/2020/06/19/getting-started-with-python-integration-to-sas-viya-index/) \n",
    "- [CAS Action! - a series on fundamentals](https://blogs.sas.com/content/sgf/2021/08/06/cas-action-a-series-on-fundamentals/)\n",
    "\n",
    "Additional Resources\n",
    "- SAS Explore 2022 - [Using Python for Data Analytics in SAS Viya](https://www.youtube.com/watch?v=skd9-it5NPU)\n",
    "- Free Webinar - [Ask the Expert Webinar - How Do I Use Python in SAS® Viya®?](https://www.sas.com/en_us/webinars/use-python-in-sas-viya.html)\n",
    "- YouTube Tutorial - [SAS Tutorial | Python Integration with SAS Viya](https://www.youtube.com/watch?v=6cDU6JGEYSo)\n",
    "- SAS Viya - [Getting Started with the Python Interface of SAS Viya](https://video.sas.com/detail/video/5430217787001/getting-started-with-the-python-interface-of-sas-viya)\n",
    "- SAS Communities - [Loading Data from Python into CAS](https://communities.sas.com/t5/SAS-Communities-Library/Loading-Data-from-Python-into-CAS/ta-p/263567)\n",
    "- SAS Communities - [4 Approaches for Parallel Data Loading to CAS](https://communities.sas.com/t5/SAS-Communities-Library/4-Approaches-for-Parallel-Data-Loading-to-CAS/ta-p/370955)\n",
    "- SAS Paper - [Seriously Serial or Perfectly Parallel Data Transfer with SAS® Viya®](https://www.sas.com/content/dam/SAS/support/en/sas-global-forum-proceedings/2019/3479-2019.pdf)\n",
    "- SAS Communities - [Hotwire your SWAT inside SAS Studio!](https://communities.sas.com/t5/SAS-Communities-Library/Hotwire-your-SWAT-inside-SAS-Studio/ta-p/835956)"
   ]
  },
  {
   "cell_type": "markdown",
   "id": "48f2e2c1-0dd3-4572-a841-21146bb4def1",
   "metadata": {
    "tags": []
   },
   "source": [
    "# Thank You for Attending!\n",
    "\n",
    "### Connect with me on LinkedIn!\n",
    "[Peter Styliadis](https://www.linkedin.com/in/peter-styliadis-712bb357/) Technical Training Consultant at SAS"
   ]
  },
  {
   "cell_type": "markdown",
   "id": "103b4499-b31f-422f-97b9-549982ec5cbf",
   "metadata": {},
   "source": [
    " "
   ]
  }
 ],
 "metadata": {
  "kernelspec": {
   "display_name": "Python 3 (ipykernel)",
   "language": "python",
   "name": "python3"
  },
  "language_info": {
   "codemirror_mode": {
    "name": "ipython",
    "version": 3
   },
   "file_extension": ".py",
   "mimetype": "text/x-python",
   "name": "python",
   "nbconvert_exporter": "python",
   "pygments_lexer": "ipython3",
   "version": "3.8.16"
  }
 },
 "nbformat": 4,
 "nbformat_minor": 5
}
