{
 "cells": [
  {
   "cell_type": "markdown",
   "id": "8245aef1-d978-4c5e-b8cc-1f251201ae30",
   "metadata": {},
   "source": [
    "# Wordle Analysis"
   ]
  },
  {
   "cell_type": "markdown",
   "id": "4c6eac73-ca16-481c-911a-178eaa0a5c10",
   "metadata": {},
   "source": [
    "## 1. Import packages"
   ]
  },
  {
   "cell_type": "code",
   "execution_count": 56,
   "id": "70fefb03-b757-416c-93eb-e4aaf9b6e42b",
   "metadata": {},
   "outputs": [],
   "source": [
    "import requests\n",
    "import pandas as pd\n",
    "import numpy as np\n",
    "from datetime import datetime\n",
    "import swat\n",
    "\n",
    "## Custom personal module to connect to my CAS environment\n",
    "try:\n",
    "    from casConnect import connect_to_cas \n",
    "except:\n",
    "    print('CasConnect package not available')"
   ]
  },
  {
   "cell_type": "markdown",
   "id": "3cba73d4-d6da-4aaa-99ab-c33e74abaa3d",
   "metadata": {},
   "source": [
    "## 2. Get Wordle word list"
   ]
  },
  {
   "cell_type": "code",
   "execution_count": null,
   "id": "da0b3fe7-38d2-4390-b257-326be9a266f1",
   "metadata": {},
   "outputs": [],
   "source": [
    "url = 'https://www.nytimes.com/games-assets/v2/wordle.303bf7c0c5548c4f655a.js'\n",
    "r = requests.get(url)\n",
    "\n",
    "wordleSiteContents = r.text"
   ]
  },
  {
   "cell_type": "code",
   "execution_count": 6,
   "id": "de12fa16-192b-41f1-81b0-1cb8616f0c8b",
   "metadata": {},
   "outputs": [
    {
     "data": {
      "text/plain": [
       "'StartPosition: 12239'"
      ]
     },
     "metadata": {},
     "output_type": "display_data"
    },
    {
     "data": {
      "text/plain": [
       "'End Position: 131078'"
      ]
     },
     "metadata": {},
     "output_type": "display_data"
    }
   ],
   "source": [
    "findStartPosition = 'va=['\n",
    "findEndPosition = ']'\n",
    "\n",
    "startPosition = wordleSiteContents.find(findStartPosition) + len(findStartPosition)\n",
    "endPosition = wordleSiteContents.find(findEndPosition, startPosition)\n",
    "\n",
    "display(f'StartPosition: {startPosition}', f'End Position: {endPosition}')"
   ]
  },
  {
   "cell_type": "code",
   "execution_count": 9,
   "id": "a3ed4d64-522d-453f-ae66-6d1f481dca66",
   "metadata": {},
   "outputs": [
    {
     "data": {
      "text/plain": [
       "'Total acceptable words in Wordle list: 14855'"
      ]
     },
     "metadata": {},
     "output_type": "display_data"
    },
    {
     "data": {
      "text/plain": [
       "\"Preview new list: ['AAHED', 'AALII', 'AAPAS', 'AARGH', 'AARTI']\""
      ]
     },
     "metadata": {},
     "output_type": "display_data"
    }
   ],
   "source": [
    "## Create a list of words from the Wordle js file\n",
    "wordleWordList = (wordleSiteContents[startPosition:endPosition]  ## Extract word list from NYTimes js file\n",
    "                 .upper()                                        ## Upper case all words\n",
    "                 .replace('\"','')                                ## Remove quotes around each word\n",
    "                 .split(','))                                    ## Create a list by splitting on the comma\n",
    "\n",
    "\n",
    "## Preview the list\n",
    "display(f'Total acceptable words in Wordle list: {len(wordleWordList)}', f'Preview new list: {wordleWordList[0:5]}')"
   ]
  },
  {
   "cell_type": "markdown",
   "id": "b873b540-a144-40fe-8079-cdecc12423f5",
   "metadata": {},
   "source": [
    "## 3. Prepare the DataFrame"
   ]
  },
  {
   "cell_type": "code",
   "execution_count": 10,
   "id": "d70de594-f8c6-439a-8fa0-740f9a0e57af",
   "metadata": {},
   "outputs": [
    {
     "data": {
      "text/html": [
       "<div>\n",
       "<style scoped>\n",
       "    .dataframe tbody tr th:only-of-type {\n",
       "        vertical-align: middle;\n",
       "    }\n",
       "\n",
       "    .dataframe tbody tr th {\n",
       "        vertical-align: top;\n",
       "    }\n",
       "\n",
       "    .dataframe thead th {\n",
       "        text-align: right;\n",
       "    }\n",
       "</style>\n",
       "<table border=\"1\" class=\"dataframe\">\n",
       "  <thead>\n",
       "    <tr style=\"text-align: right;\">\n",
       "      <th></th>\n",
       "      <th>word</th>\n",
       "    </tr>\n",
       "  </thead>\n",
       "  <tbody>\n",
       "    <tr>\n",
       "      <th>0</th>\n",
       "      <td>AAHED</td>\n",
       "    </tr>\n",
       "    <tr>\n",
       "      <th>1</th>\n",
       "      <td>AALII</td>\n",
       "    </tr>\n",
       "    <tr>\n",
       "      <th>2</th>\n",
       "      <td>AAPAS</td>\n",
       "    </tr>\n",
       "    <tr>\n",
       "      <th>3</th>\n",
       "      <td>AARGH</td>\n",
       "    </tr>\n",
       "    <tr>\n",
       "      <th>4</th>\n",
       "      <td>AARTI</td>\n",
       "    </tr>\n",
       "  </tbody>\n",
       "</table>\n",
       "</div>"
      ],
      "text/plain": [
       "    word\n",
       "0  AAHED\n",
       "1  AALII\n",
       "2  AAPAS\n",
       "3  AARGH\n",
       "4  AARTI"
      ]
     },
     "execution_count": 10,
     "metadata": {},
     "output_type": "execute_result"
    }
   ],
   "source": [
    "word_df = pd.DataFrame({'word':wordleWordList})\n",
    "word_df.head()"
   ]
  },
  {
   "cell_type": "code",
   "execution_count": 43,
   "id": "9de4487b-5e35-4f9d-a952-f74e4056a92e",
   "metadata": {},
   "outputs": [
    {
     "data": {
      "text/html": [
       "<div>\n",
       "<style scoped>\n",
       "    .dataframe tbody tr th:only-of-type {\n",
       "        vertical-align: middle;\n",
       "    }\n",
       "\n",
       "    .dataframe tbody tr th {\n",
       "        vertical-align: top;\n",
       "    }\n",
       "\n",
       "    .dataframe thead th {\n",
       "        text-align: right;\n",
       "    }\n",
       "</style>\n",
       "<table border=\"1\" class=\"dataframe\">\n",
       "  <thead>\n",
       "    <tr style=\"text-align: right;\">\n",
       "      <th></th>\n",
       "      <th>word</th>\n",
       "      <th>firstLetter</th>\n",
       "      <th>secondLetter</th>\n",
       "      <th>thirdLetter</th>\n",
       "      <th>fourthLetter</th>\n",
       "      <th>fifthLetter</th>\n",
       "      <th>top5FirstLetter</th>\n",
       "    </tr>\n",
       "  </thead>\n",
       "  <tbody>\n",
       "    <tr>\n",
       "      <th>0</th>\n",
       "      <td>AAHED</td>\n",
       "      <td>A</td>\n",
       "      <td>A</td>\n",
       "      <td>H</td>\n",
       "      <td>E</td>\n",
       "      <td>D</td>\n",
       "      <td></td>\n",
       "    </tr>\n",
       "    <tr>\n",
       "      <th>1</th>\n",
       "      <td>AALII</td>\n",
       "      <td>A</td>\n",
       "      <td>A</td>\n",
       "      <td>L</td>\n",
       "      <td>I</td>\n",
       "      <td>I</td>\n",
       "      <td></td>\n",
       "    </tr>\n",
       "    <tr>\n",
       "      <th>2</th>\n",
       "      <td>AAPAS</td>\n",
       "      <td>A</td>\n",
       "      <td>A</td>\n",
       "      <td>P</td>\n",
       "      <td>A</td>\n",
       "      <td>S</td>\n",
       "      <td></td>\n",
       "    </tr>\n",
       "    <tr>\n",
       "      <th>3</th>\n",
       "      <td>AARGH</td>\n",
       "      <td>A</td>\n",
       "      <td>A</td>\n",
       "      <td>R</td>\n",
       "      <td>G</td>\n",
       "      <td>H</td>\n",
       "      <td></td>\n",
       "    </tr>\n",
       "    <tr>\n",
       "      <th>4</th>\n",
       "      <td>AARTI</td>\n",
       "      <td>A</td>\n",
       "      <td>A</td>\n",
       "      <td>R</td>\n",
       "      <td>T</td>\n",
       "      <td>I</td>\n",
       "      <td></td>\n",
       "    </tr>\n",
       "  </tbody>\n",
       "</table>\n",
       "</div>"
      ],
      "text/plain": [
       "    word firstLetter secondLetter thirdLetter fourthLetter fifthLetter  \\\n",
       "0  AAHED           A            A           H            E           D   \n",
       "1  AALII           A            A           L            I           I   \n",
       "2  AAPAS           A            A           P            A           S   \n",
       "3  AARGH           A            A           R            G           H   \n",
       "4  AARTI           A            A           R            T           I   \n",
       "\n",
       "  top5FirstLetter  \n",
       "0                  \n",
       "1                  \n",
       "2                  \n",
       "3                  \n",
       "4                  "
      ]
     },
     "execution_count": 43,
     "metadata": {},
     "output_type": "execute_result"
    }
   ],
   "source": [
    "final_df = (word_df\n",
    "           .assign(\n",
    "               firstLetter = word_df.word.str[0],\n",
    "               secondLetter = word_df.word.str[1],\n",
    "               thirdLetter = word_df.word.str[2],\n",
    "               fourthLetter = word_df.word.str[3],\n",
    "               fifthLetter = word_df.word.str[4],\n",
    "               top5FirstLetter = lambda _df: np.select([_df.firstLetter.isin(final_df.firstLetter.value_counts()[:5].index.to_list())], ['Top5'],'')\n",
    "           )\n",
    ")\n",
    "\n",
    "final_df.head()"
   ]
  },
  {
   "cell_type": "code",
   "execution_count": 44,
   "id": "ca9d80f7-8d11-4823-acb0-c9eabcb5159c",
   "metadata": {},
   "outputs": [
    {
     "data": {
      "text/plain": [
       "        9135\n",
       "Top5    5720\n",
       "Name: top5FirstLetter, dtype: int64"
      ]
     },
     "execution_count": 44,
     "metadata": {},
     "output_type": "execute_result"
    }
   ],
   "source": [
    "final_df.top5FirstLetter.value_counts()"
   ]
  },
  {
   "cell_type": "code",
   "execution_count": null,
   "id": "5d9776a9-8b69-439e-8777-8923b6145dc1",
   "metadata": {},
   "outputs": [],
   "source": []
  },
  {
   "cell_type": "code",
   "execution_count": 40,
   "id": "2c9aa7b1-26ff-482c-9d98-fce6a96b5801",
   "metadata": {},
   "outputs": [
    {
     "data": {
      "text/plain": [
       "array(['y', 'y', 'y', ..., '0', '0', 'y'], dtype='<U3')"
      ]
     },
     "execution_count": 40,
     "metadata": {},
     "output_type": "execute_result"
    }
   ],
   "source": []
  },
  {
   "cell_type": "markdown",
   "id": "4140f2b9-120f-444b-805c-847cd54e6685",
   "metadata": {},
   "source": [
    "## 4. Save the CSV file to local storage"
   ]
  },
  {
   "cell_type": "code",
   "execution_count": 45,
   "id": "e7017de8-8ad4-4ee2-87dc-09afd6e958a1",
   "metadata": {},
   "outputs": [
    {
     "data": {
      "text/plain": [
       "'File name: wordleList_2023-05-23.csv'"
      ]
     },
     "metadata": {},
     "output_type": "display_data"
    }
   ],
   "source": [
    "todaysDate = datetime.today().strftime('%Y-%m-%d')\n",
    "csvFileName = 'wordleList_' + todaysDate + '.csv'\n",
    "display(f'File name: {csvFileName}')\n",
    "\n",
    "final_df.to_csv('data/' + csvFileName)"
   ]
  },
  {
   "cell_type": "markdown",
   "id": "2eb3b198-fb75-4992-9c6f-bee5772a2c52",
   "metadata": {},
   "source": [
    "## 5. Upload the DataFrame to CAS"
   ]
  },
  {
   "cell_type": "markdown",
   "id": "7aed7974-0662-4dd1-926e-4242ff822927",
   "metadata": {},
   "source": [
    "a. Connect to the CAS server"
   ]
  },
  {
   "cell_type": "code",
   "execution_count": 51,
   "id": "fe49d4ba-dc88-4e79-b8b0-8874fb35f9b4",
   "metadata": {},
   "outputs": [
    {
     "data": {
      "text/plain": [
       "swat.cas.connection.CAS"
      ]
     },
     "execution_count": 51,
     "metadata": {},
     "output_type": "execute_result"
    }
   ],
   "source": [
    "conn = connect_to_cas()\n",
    "type(conn)"
   ]
  },
  {
   "cell_type": "markdown",
   "id": "72c33d54-73d3-4848-ac12-ddd7d17873bc",
   "metadata": {},
   "source": [
    "b. Upload the pandas DataFrame as a CAS table"
   ]
  },
  {
   "cell_type": "code",
   "execution_count": 52,
   "id": "790dd8f1-b7c0-479a-bbf0-e7c2c57a9793",
   "metadata": {},
   "outputs": [
    {
     "name": "stdout",
     "output_type": "stream",
     "text": [
      "NOTE: Cloud Analytic Services made the uploaded file available as table WORDLELIST in caslib CASUSER(Peter.Styliadis@sas.com).\n",
      "NOTE: The table WORDLELIST has been created in caslib CASUSER(Peter.Styliadis@sas.com) from binary data uploaded to Cloud Analytic Services.\n"
     ]
    },
    {
     "data": {
      "text/plain": [
       "CASTable('WORDLELIST', caslib='CASUSER(Peter.Styliadis@sas.com)')"
      ]
     },
     "execution_count": 52,
     "metadata": {},
     "output_type": "execute_result"
    }
   ],
   "source": [
    "conn.upload_frame(final_df, \n",
    "                  casout = {'name':'wordleList','caslib':'casuser'})"
   ]
  },
  {
   "cell_type": "markdown",
   "id": "cae2c2c5-f6cf-4a8f-bb74-1bd5fdd5d4b7",
   "metadata": {},
   "source": [
    "c. Save the CAS table as a CSV file on the CAS server in the Casuser caslib"
   ]
  },
  {
   "cell_type": "code",
   "execution_count": 54,
   "id": "494fa410-4168-4827-a95a-676551a63a18",
   "metadata": {},
   "outputs": [
    {
     "name": "stdout",
     "output_type": "stream",
     "text": [
      "NOTE: Cloud Analytic Services saved the file wordleList_2023-05-23.csv in caslib CASUSER(Peter.Styliadis@sas.com).\n"
     ]
    },
    {
     "data": {
      "text/html": [
       "<div class=\"cas-results-key\"><b>&#167; caslib</b></div>\n",
       "<div class=\"cas-results-body\">\n",
       "<div>CASUSER(Peter.Styliadis@sas.com)</div>\n",
       "</div>\n",
       "<div class=\"cas-results-key\"><hr/><b>&#167; name</b></div>\n",
       "<div class=\"cas-results-body\">\n",
       "<div>wordleList_2023-05-23.csv</div>\n",
       "</div>\n",
       "<div class=\"cas-output-area\"></div>\n",
       "<p class=\"cas-results-performance\"><small><span class=\"cas-elapsed\">elapsed 0.0377s</span> &#183; <span class=\"cas-user\">user 0.0172s</span> &#183; <span class=\"cas-sys\">sys 0.034s</span> &#183; <span class=\"cas-memory\">mem 12.8MB</span></small></p>"
      ],
      "text/plain": [
       "[caslib]\n",
       "\n",
       " 'CASUSER(Peter.Styliadis@sas.com)'\n",
       "\n",
       "[name]\n",
       "\n",
       " 'wordleList_2023-05-23.csv'\n",
       "\n",
       "+ Elapsed: 0.0377s, user: 0.0172s, sys: 0.034s, mem: 12.8mb"
      ]
     },
     "execution_count": 54,
     "metadata": {},
     "output_type": "execute_result"
    }
   ],
   "source": [
    "castbl = conn.CASTable('WORDLELIST', caslib='CASUSER')\n",
    "castbl.save(name = csvFileName, caslib = 'casuser', replace = True)"
   ]
  },
  {
   "cell_type": "markdown",
   "id": "fdf19138-4155-4dd4-ba7a-01f0b2fa7056",
   "metadata": {},
   "source": [
    "d. Terminate the CAS session"
   ]
  },
  {
   "cell_type": "code",
   "execution_count": 55,
   "id": "4ef49b30-31b3-48a6-99fc-da703c17f430",
   "metadata": {},
   "outputs": [],
   "source": [
    "conn.terminate()"
   ]
  },
  {
   "cell_type": "markdown",
   "id": "6c6b42fc-0f28-4172-b82f-187ae22a777d",
   "metadata": {},
   "source": [
    "## 6. Open SAS Visual Analytics and Visualize the Data"
   ]
  },
  {
   "cell_type": "markdown",
   "id": "d75b89d6-3535-4cb5-9ab9-aa46967b0294",
   "metadata": {},
   "source": [
    " "
   ]
  }
 ],
 "metadata": {
  "kernelspec": {
   "display_name": "Python 3 (ipykernel)",
   "language": "python",
   "name": "python3"
  },
  "language_info": {
   "codemirror_mode": {
    "name": "ipython",
    "version": 3
   },
   "file_extension": ".py",
   "mimetype": "text/x-python",
   "name": "python",
   "nbconvert_exporter": "python",
   "pygments_lexer": "ipython3",
   "version": "3.8.16"
  }
 },
 "nbformat": 4,
 "nbformat_minor": 5
}
