{
 "cells": [
  {
   "cell_type": "markdown",
   "metadata": {},
   "source": [
    "# Unlock Your Data with Python and SAS Viya\n",
    "\n",
    "This workshop will use the Python SWAT package on the SAS Viya platform to accelerate your data processing and analytics by taking advantage of SAS Cloud Analytic Services (CAS) on Viya. CAS is a high-performance in-memory analytic engine that performs massively parallel processing (MPP) on data of any size, working with multiple machines, CPUs, and threads for fast results.\n",
    "\n",
    "You will learn how to access, explore, and analyze data on the distributed CAS server using both familiar Pandas API from the SWAT package, and specific SWAT methods.\n",
    "\n",
    "**Sign in to JupyterLab**\n",
    "1. Open Google Chrome and select the **Jupyter Server** bookmark. \n",
    "2. If necessary, sign in to JupyterLab by using the password **Student1**.\n",
    "3. In the **Unlock your data with Python and SAS Viya** folder, open the **Unlock your data with Python and SAS Viya.ipynb** notebook.\n",
    "\n",
    "\n",
    "**Resources**\n",
    "\n",
    "- [SWAT Package](https://sassoftware.github.io/python-swat/getting-started.html)\n",
    "- [CAS Actions](https://go.documentation.sas.com/doc/en/pgmsascdc/default/pgmsassyntaxwlcm/home.htm)\n",
    "- [SAS® Cloud Analytic Services: Fundamentals](https://go.documentation.sas.com/doc/en/pgmsascdc/default/casfun/titlepage.htm)\n",
    "\n",
    "\n",
    "\n",
    "\n",
    "\n",
    "\n",
    "\n",
    "### Simple performance test on 28 million rows of data:\n",
    "**Local pandas**\n",
    "- CPU times: total: 10min 2s\n",
    "- Wall time: 9min 28s\n",
    "- DataFrame was using 8.5+ GB of memory\n",
    "\n",
    "**CAS server**\n",
    "- CPU times: total: 2.98 s\n",
    "- Wall time: 1min 51s\n",
    "\n",
    "**NOTES**: \n",
    "- This was a simple performance test with a few summarization methods in each environment to achieve similar results. \n",
    "- I did not try to optimize the code on either the local Python client or the CAS server.\n",
    "- My local Python client is limited to 16GB or memory.  \n",
    "- With additional data exploration, preparation, and more advanced analytics the CAS server will continue to show improvements in speed.\n",
    "\n",
    "\n",
    "\n",
    "For a more formal benchmarking check out The Futurum Group article [Faster AI & Analytics: SAS Viya Outperforms the Competition](https://futurumgroup.com/sas-viya/).\n",
    "> \"The Performance of SAS Viya was impressive, they didn't just outperform competing AI/ML libraries, they crushed the competition.\""
   ]
  },
  {
   "cell_type": "code",
   "execution_count": null,
   "metadata": {
    "tags": []
   },
   "outputs": [],
   "source": [
    "from IPython.display import Image\n",
    "def display_image(img):\n",
    "    ''' Custom function to display images for presentation'''\n",
    "    return Image(url=r'https://raw.githubusercontent.com/pestyld/Python-Integration-to-SAS-Viya/master/images/' + img, embed=True, width=1100)\n",
    "\n",
    "display_image('Innovate2024_01_Intro.PNG')"
   ]
  },
  {
   "cell_type": "markdown",
   "metadata": {},
   "source": [
    "# Introduction to SAS Viya"
   ]
  },
  {
   "cell_type": "code",
   "execution_count": null,
   "metadata": {
    "tags": []
   },
   "outputs": [],
   "source": [
    "display_image('Innovate2024_03_viya.PNG')"
   ]
  },
  {
   "cell_type": "markdown",
   "metadata": {},
   "source": [
    "**Expand notes below each slide for more information**"
   ]
  },
  {
   "cell_type": "markdown",
   "metadata": {
    "jupyter": {
     "source_hidden": true
    },
    "tags": []
   },
   "source": [
    "It all begins with data. Your organization likely has a variety of data sources, including data from relational databases, the cloud, folder paths, and Hadoop, as well as streaming data and more. \n",
    "\n",
    "With the SAS Viya platform, you can access these data sources with two analytic processing engines: the SAS Compute Server and SAS Cloud Analytic Services, or CAS. Let's discuss each of these at high level.\n",
    "\n",
    "**SAS Compute Server**\n",
    "\n",
    "The Compute Server on the SAS Viya platform enables you to execute traditional SAS code like you always have. The Compute Server is similar to the SAS®9 workspace server. If you have SAS programming knowledge or legacy SAS programs, you can still use the Compute Server to run your traditional SAS code with little to no modifications.  The Compute Server also includes some open source integration with Python and R.\n",
    "\n",
    "**Cloud Analytic Services (CAS)**\n",
    "\n",
    "The platform also includes the CAS server. CAS is the high-performance, in-memory massively parallel processing (MPP) analytic engine available in SAS Viya.\n",
    "\n",
    "- CAS enables you to use a variety of programming languages like SAS, Python, R, Lua, or Java to process your data in parallel.\n",
    "- SAS Viya point-and-click applications use the CAS server for creating dashboards and performing machine learning, text analytics, forecasting, and more.\n",
    "- SAS Viya industry-specific solutions also use the CAS server's MPP environment (for example, SAS Anti-Money Laundering, SAS Model Risk Manager, SAS Customer Intelligence 360, and others).\n",
    "- Lastly, you can create custom applications for your organization using the CAS server and REST APIs.\n",
    "\n",
    "The CAS server is a powerful analytic engine built for the entire organization, no matter the job role, skill level, or programming language.\n",
    "\n",
    "[SAS® Cloud Analytic Services: Fundamentals](https://go.documentation.sas.com/doc/en/pgmsascdc/default/casfun/titlepage.htm)\n",
    "\n",
    "\n",
    "\n",
    "\n",
    "**SAS Viya Architecture**\n",
    "\n",
    "This architecture provides a single platform with end-to-end capabilities that unify technologies, people, and processes.\n",
    "\n",
    "- It democratizes data and analytics by providing applications and programming languages that enable you to work with your data no matter your job role or skill level. This ensures that everyone can make faster, better decisions\n",
    "- It is a cloud-native and cloud-agnostic platform, enabling your organization to run efficiently and smoothly, independent of cloud providers.\n",
    "- Its in-memory engine and massively parallel processing capabilities can have a big impact on execution speed for your big data and resource-intensive programs.\n",
    "- It enables SAS and open source programmers to easily work together in the language that they are most comfortable in.\n",
    "- Together, these features provide a modern analytics engine that can take you from data access and preparation to relevant, actionable results, embedding proven AI that delivers results and helps you discover new opportunities. And it’s all through a scalable, web-based access for your data processing needs.\n",
    "\n",
    "\n",
    "[SAS® Viya® - AI and Analytics Platform](https://www.sas.com/en_us/software/viya.html)\n",
    "\n",
    "[Programming Documentation for the SAS® Viya® Platform](https://go.documentation.sas.com/doc/en/pgmsascdc/default/pgmsaswlcm/titlepage.htm?fromDefault=)"
   ]
  },
  {
   "cell_type": "markdown",
   "metadata": {},
   "source": [
    "## CAS Server Overview"
   ]
  },
  {
   "cell_type": "code",
   "execution_count": null,
   "metadata": {
    "tags": []
   },
   "outputs": [],
   "source": [
    "display_image('Innovate2024_04_cas.PNG')"
   ]
  },
  {
   "cell_type": "markdown",
   "metadata": {
    "jupyter": {
     "source_hidden": true
    },
    "tags": []
   },
   "source": [
    "The CAS server is the cloud-native, high-performance in-memory analytics and massively parallel processing engine. The CAS server is configured to run on multiple machines. Typically, you will have one controller node and several worker nodes. You need to make a connection to the CAS server from your client. This is called a CAS session or CAS connection.\n",
    "\n",
    "SAS Documentation - [SAS® Cloud Analytic Services: Fundamentals](https://go.documentation.sas.com/doc/en/pgmsascdc/v_039/casfun/titlepage.htm?fromDefault=)\n",
    "\n",
    "\n",
    "For data to be processed in CAS, data is copied into memory from some physical storage, and data blocks are automatically distributed across the worker nodes. Once data is loaded into memory it persists in memory until explicitly dropped or the CAS session ends.\n",
    "\n",
    "SAS Documentation - [SAS Viya Data Connectors](https://go.documentation.sas.com/doc/en/pgmsascdc/v_039/casref/p0j09xx6p9ffven1x7z9cq8s1zaa.htm)"
   ]
  },
  {
   "cell_type": "code",
   "execution_count": null,
   "metadata": {
    "tags": []
   },
   "outputs": [],
   "source": [
    "display_image('Innovate2024_05_cas.PNG')"
   ]
  },
  {
   "cell_type": "markdown",
   "metadata": {
    "jupyter": {
     "source_hidden": true
    },
    "tags": []
   },
   "source": [
    "The CAS server needs to access data from some physical data source. CAS can access data from a variety of sources using [SAS Viya Data Connectors](https://go.documentation.sas.com/doc/en/pgmsascdc/v_029/casref/p0j09xx6p9ffven1x7z9cq8s1zaa.htm), including databases, Hadoop, streaming data, path-based files, and data stored in the cloud.\n",
    "\n",
    "Once data is loaded into memory on the CAS server, you can process that data using CAS actions. Actions are optimized units of work built for the distributed CAS server. CAS actions provide a range of functionality from managing, processing, analyzing, and modeling data, to executing most traditional SAS DATA step, FedSQL, and even DS2! \n",
    "\n",
    "CAS actions are organized into groups called CAS action sets, and the actions within a set perform related tasks. You can think of action sets as a package, and the actions within an action set as methods. \n",
    "\n",
    "For example, the table action set provides many actions for accessing and managing data.  These include the caslibInfo action to view available data sources, the tableInfo action to view available tables, the fileInfo action to list the data source files, and the fetch action to retrieve n rows of a table.\n",
    "\n",
    "You request a specific action by specifying the action set name, a period, and the action name. Specifying the action set name is usually optional. However, there are a few actions with the same name in different action sets. In those cases, the action set name is required. In this course, we typically specify only the action.\n",
    "\n",
    "CAS actions provide a variety of benefits.\n",
    "- First, CAS actions are optimized to run in the CAS server's massively parallel processing engine for lightening-fast results.\n",
    "- Second, the same CAS action is used regardless of programming language or application. That means you can use the same CAS action in CASL, Python, R, and more. This enables you to easily pass information between languages.\n",
    "- When using actions in different languages, the results are equivalent (given seeds).\n",
    "- Lastly, actions are multi-purpose. Actions perform a specific task, and within that task, an action can also perform a variety of other tasks like create a new table, create calculated columns, filter rows and columns, and group data.\n",
    "\n",
    "The question is, how can you execute actions? \n",
    "\n",
    "SAS Viya provides a variety of interfaces for executing CAS actions. One way to execute actions on the CAS server is to use the native CAS language, or CASL for short. CASL supports executing CAS actions on the CAS server and uses normal programing logic. If you have experience using languages like Lua, Python, or R, CASL will be an easy language to learn.\n",
    "\n",
    "Instead of using CASL, you can also execute CAS actions through the CAS API using traditional SAS programming, FedSQL, Java, Python, R, Lua, and REST API. This course focuses on using the Python language.\n",
    "\n",
    " Lastly, you can use a variety of SAS Viya applications like SAS Visual Analytics to create dashboards, SAS Visual Statistics and SAS Visual Data Mining and Machine Learning for modeling and statistics, and a variety of others. All applications execute actions behind the scenes.\n",
    "\n",
    "\n",
    "NOTES:\n",
    "1. With the SAS programming language, many PROCs and much of the traditional DATA step is CAS enabled and can be executed on CAS tables. For more information about how to execute traditional SAS code in SAS Viya, you can view the Programming for SAS Viya course: https://support.sas.com/edu/schedules.html?crs=PGVIYA&ctry=US.\n",
    "2. For Java, you must use the CASClient class.\n",
    "3. For Python, R, and Luna, the SWAT package is required. Many familiar methods are available through the SWAT package.\n",
    "4. The CAS API converts the native language syntax to CAS actions behind the scenes.\n",
    "5. Visit the SAS website for detailed information about all available SAS Viya offerings."
   ]
  },
  {
   "cell_type": "markdown",
   "metadata": {},
   "source": [
    "## CAS Actions"
   ]
  },
  {
   "cell_type": "code",
   "execution_count": null,
   "metadata": {
    "tags": []
   },
   "outputs": [],
   "source": [
    "display_image('Innovate2024_06_actions.PNG')"
   ]
  },
  {
   "cell_type": "markdown",
   "metadata": {
    "jupyter": {
     "source_hidden": true
    },
    "tags": []
   },
   "source": [
    "CAS actions are organized into groups called CAS action sets, and the actions within a set perform related tasks. You can think of action sets as a package, and the actions within an action set as methods. \n",
    "\n",
    "For example, the table action set provides many actions for accessing and managing data. These include the caslibInfo action to view available data sources, the tableInfo action to view available tables, the fileInfo action to list the data source files, and the fetch action to retrieve n rows of a table.\n",
    "\n",
    "You request a specific action by specifying the action set name, a period, and the action name. Specifying the action set name is usually optional. However, there are a few actions with the same name in different action sets. In those cases, the action set name is required. In this course, we typically specify only the action.\n",
    "\n",
    "**SAS Documentation**\n",
    "- [Actions by Name](https://go.documentation.sas.com/doc/en/pgmsascdc/default/allprodsactions/actionsByName.htm)\n",
    "- [Action Sets by Name](https://go.documentation.sas.com/doc/en/pgmsascdc/default/allprodsactions/actionSetsByName.htm)"
   ]
  },
  {
   "cell_type": "markdown",
   "metadata": {},
   "source": [
    "## SAS Viya and Python Workflow"
   ]
  },
  {
   "cell_type": "code",
   "execution_count": null,
   "metadata": {
    "tags": []
   },
   "outputs": [],
   "source": [
    "display_image('Innovate2024_07_overview.PNG')"
   ]
  },
  {
   "cell_type": "markdown",
   "metadata": {
    "jupyter": {
     "source_hidden": true
    },
    "tags": []
   },
   "source": [
    "You can use Python on your client to explore, prepare, analyze, and model big data on the CAS server using familiar Python syntax along with CAS actions to take advantage of the parallel processing power of CAS. If you are preparing data in CAS, you can then share that data with other users or other SAS Viya applications like SAS Visual Analytics to create shareable dashboards. \n",
    "\n",
    "If you are exploring, analyzing, or modeling data in CAS to take advantage of the in-memory parallel processing power,  CAS returns smaller summarized results back to your local Python client. Once the summarized results from the CAS server are returned to your client, you can use native Python packages on the smaller, more manageable data.\n"
   ]
  },
  {
   "cell_type": "markdown",
   "metadata": {},
   "source": [
    "# Begin Hands-On Workshop"
   ]
  },
  {
   "cell_type": "code",
   "execution_count": null,
   "metadata": {},
   "outputs": [],
   "source": [
    "## Package required to connect to CAS\n",
    "import swat         \n",
    "\n",
    "## Local packages\n",
    "import pandas as pd\n",
    "import numpy as np\n",
    "import os\n",
    "import sys\n",
    "import seaborn as sns\n",
    "import matplotlib.pyplot as plt\n",
    "pd.set_option('display.max_columns', None)\n",
    "\n",
    "print(f'Python version:{sys.version.split(\"|\")[0]}')\n",
    "print(f'swat version:{swat.__version__}')\n",
    "print(f'pandas version:{pd.__version__}')\n",
    "print(f'numpy version:{np.__version__}')"
   ]
  },
  {
   "cell_type": "markdown",
   "metadata": {},
   "source": [
    "## 1. Connect to the CAS Server\n",
    "**To connect to the CAS server, you need**\n",
    "- the host name \n",
    "- the port number \n",
    "- authentication.\n",
    "\n",
    "**Be aware that connecting to the CAS server can be implemented in various ways, so you might need to see your system administrator about how to make a connection. Please follow company policy regarding authentication.**\n",
    "\n",
    "[SWAT Package Authentication Documentation](https://sassoftware.github.io/python-swat/getting-started.html#authentication)"
   ]
  },
  {
   "cell_type": "code",
   "execution_count": null,
   "metadata": {},
   "outputs": [],
   "source": [
    "## Enter your comnnection information\n",
    "## conn = swat.CAS(connection info)\n",
    "\n",
    "##############################\n",
    "## My Personal connection   ##\n",
    "##############################\n",
    "try:\n",
    "    from casauth import CASAuth\n",
    "    print('Imported personal custom CAS auth package')\n",
    "    path = os.getenv('CAS_CREDENTIALS')\n",
    "    pem_file = os.getenv('CAS_CLIENT_SSL_CA_LIST')\n",
    "    conn = CASAuth(path, ssl_ca_list = pem_file)\n",
    "except:\n",
    "    print('No connection')\n",
    "    pass"
   ]
  },
  {
   "cell_type": "markdown",
   "metadata": {},
   "source": [
    "View the type of the **conn** variable. Notice that it is a CAS connection object."
   ]
  },
  {
   "cell_type": "code",
   "execution_count": null,
   "metadata": {},
   "outputs": [],
   "source": [
    "type(conn)"
   ]
  },
  {
   "cell_type": "markdown",
   "metadata": {},
   "source": [
    "Test the CAS connection and view the SAS Viya version."
   ]
  },
  {
   "cell_type": "code",
   "execution_count": null,
   "metadata": {},
   "outputs": [],
   "source": [
    "conn.about()['About']['Viya Version']"
   ]
  },
  {
   "cell_type": "markdown",
   "metadata": {},
   "source": [
    "## 2. Set up the Workshop Data (REQUIRED)\n",
    "The function below will create the data for this demonstration. It will create a file named **retail_sales.parquet** using sample data that comes with SAS Viya. This should run in all Viya environments."
   ]
  },
  {
   "cell_type": "code",
   "execution_count": null,
   "metadata": {},
   "outputs": [],
   "source": [
    "def setup_demo_data(datasourcefile, incaslib, outfilename, outcaslib, append_value=10, create_local_file = 'N'):\n",
    "    '''\n",
    "    Loads a CAS table into memory and then saves it back to a caslib in the specified file format.\n",
    "    Depending on the size you create this could take a few minutes to run.\n",
    "    If you create a local file this function could take some time to run. \n",
    "    \n",
    "    Parameters\n",
    "    -----------------\n",
    "    datasourcefile : string\n",
    "        Specify a server-side data source file to load into memory.\n",
    "    incaslib : string\n",
    "        Specify the caslib the data source file is located in.\n",
    "    outfilename : string (filename.extension)\n",
    "        Specify the name and extension of the file you want to save the CAS table as.\n",
    "    outcaslib : string\n",
    "        Specify what caslib to save the file back to.\n",
    "    append_value : numeric value (default 10)\n",
    "        Appends the table to itself n times\n",
    "    create_local_file : values Y or N (default N)\n",
    "        Will create a copy of the CAS table locally and increase the size of it based on the append_value value.\n",
    "        Setting this to Y will increase the time for the function to execute. Please be patient.\n",
    "    '''\n",
    "    \n",
    "    # Load data into memory abd name it demo_data in the casuser caslib\n",
    "    conn.loadTable(path = datasourcefile, caslib = incaslib,\n",
    "                   casout = {'name':'demo_data_raw', \n",
    "                             'caslib':'casuser', \n",
    "                             'replace':True})\n",
    "    \n",
    "    ## Create local file if requested. This can take between 5-10 minutes depending on the size.\n",
    "    if create_local_file == 'Y':\n",
    "        castbl = conn.CASTable('demo_data_raw', caslib = 'casuser')\n",
    "        df = castbl.to_frame()\n",
    "        pd.concat([df]*append_value).to_parquet('retail_sales.parquet')\n",
    "        print('created the retail_sales.parquet file in your local directory')\n",
    "    \n",
    "    \n",
    "    ## Duplicate the CAS table in a DATA step\n",
    "    inputcastbl = 'casuser.demo_data_raw '\n",
    "    append_n_times = append_value\n",
    "    \n",
    "    conn.runCode(code = f'''\n",
    "        data casuser.demo_data;\n",
    "            set {inputcastbl * append_n_times + ';'}\n",
    "        run;\n",
    "    ''')\n",
    "\n",
    "    # Save the demo_data CAS table back to disk\n",
    "    conn.save(table = {'name':'demo_data', 'caslib':'casuser'},\n",
    "              name = outfilename, caslib = outcaslib, replace=True)\n",
    "    \n",
    "    # Drop the demo_data CAS table\n",
    "    for castbl in ['demo_data', 'demo_data_raw']:\n",
    "        conn.dropTable(castbl, caslib = 'casuser', quiet = True)"
   ]
  },
  {
   "cell_type": "markdown",
   "metadata": {},
   "source": [
    "### Create demo data. Run if necessary."
   ]
  },
  {
   "cell_type": "code",
   "execution_count": null,
   "metadata": {},
   "outputs": [],
   "source": [
    "# setup_demo_data(datasourcefile='RAND_RETAILDEMO.sashdat', incaslib='samples', outfilename='retail_sales.parquet', outcaslib='casuser')"
   ]
  },
  {
   "cell_type": "markdown",
   "metadata": {},
   "source": [
    "## 3. Explore the Available Data on the CAS Server "
   ]
  },
  {
   "cell_type": "code",
   "execution_count": null,
   "metadata": {
    "tags": []
   },
   "outputs": [],
   "source": [
    "display_image('Innovate2024_08_caslibs.PNG')"
   ]
  },
  {
   "cell_type": "markdown",
   "metadata": {
    "jupyter": {
     "source_hidden": true
    },
    "tags": []
   },
   "source": [
    "CAS stores and accesses data via caslibs. Caslibs provide a common interface into accessing different data sources. No matter which data source you access in CAS, it is connected via a caslib. Caslibs connect into a variety of data sources in your organization.\n",
    "\n",
    "A caslib consists of three main parts. \n",
    "\n",
    "First, there’s the data source portion. The data source portion contains connection information to a physical data source for storage. Data might be stored on disk in a path with familiar formats such as SAS data sets, CSV, Microsoft Excel, or parquet files, or stored in databases, the cloud, Hadoop, or other systems. The data source portion stores the connection and authorization information required for interacting with those files using SAS Viya data connectors. Data stored in the data source portion of a caslib is generally referred to as files. Files in the data source area cannot be processed directly. \n",
    "\n",
    "The second part of a caslib is the in-memory portion. The in-memory portion provides a space to hold tables that can have operations performed on them. You can almost think of a CAS table as a DataFrame on the CAS server. A file must first be loaded into memory from a data source. Data loaded into memory is generally referred to as tables or CAS tables. >When they are loaded, in-memory tables are available for processing, and they persist in memory. Because there's no connection between the in-memory copy and the data source file, if you want to permanently keep changes made to the data during processing, the in-memory table should be explicitly written back to the data source. If you are done with the CAS table, you can drop the table. We discuss this more later.\n",
    "\n",
    "Lastly, a caslib contains access controls about who can access that specific caslib."
   ]
  },
  {
   "cell_type": "markdown",
   "metadata": {},
   "source": [
    "### a. View Available Caslibs\n",
    "The caslibInfo action will display all available data connections to the CAS server."
   ]
  },
  {
   "cell_type": "code",
   "execution_count": null,
   "metadata": {},
   "outputs": [],
   "source": [
    "conn.caslibInfo()"
   ]
  },
  {
   "cell_type": "markdown",
   "metadata": {},
   "source": [
    "### b. View Available CAS Tables\n",
    "The [table.tableInfo](https://documentation.sas.com/doc/en/pgmsascdc/default/caspg/cas-table-tableinfo.htm) CAS action will display all available in-memory CAS tables.\n",
    "\n",
    "View available in-memory tables in the **Samples** caslib."
   ]
  },
  {
   "cell_type": "code",
   "execution_count": null,
   "metadata": {},
   "outputs": [],
   "source": [
    "conn.tableInfo(caslib = 'samples')"
   ]
  },
  {
   "cell_type": "markdown",
   "metadata": {},
   "source": [
    "View available in-memory tables in the **Casuser** caslib."
   ]
  },
  {
   "cell_type": "code",
   "execution_count": null,
   "metadata": {},
   "outputs": [],
   "source": [
    "conn.tableInfo(caslib = 'casuser')"
   ]
  },
  {
   "cell_type": "markdown",
   "metadata": {},
   "source": [
    "### c. View Available Data Source Files\n",
    "The [table.fileInfo](https://documentation.sas.com/doc/en/pgmsascdc/default/caspg/cas-table-fileinfo.htm)  CAS action will display all available files in a caslib.\n",
    "\n",
    "View available files in the **Samples** caslib."
   ]
  },
  {
   "cell_type": "code",
   "execution_count": null,
   "metadata": {},
   "outputs": [],
   "source": [
    "conn.fileInfo(caslib = 'samples')"
   ]
  },
  {
   "cell_type": "markdown",
   "metadata": {},
   "source": [
    "View available files in the **Casuser** caslib."
   ]
  },
  {
   "cell_type": "code",
   "execution_count": null,
   "metadata": {},
   "outputs": [],
   "source": [
    "conn.fileInfo(caslib = 'casuser')"
   ]
  },
  {
   "cell_type": "markdown",
   "metadata": {},
   "source": [
    "## 4. Load Data into Memory on the CAS Server (Server-Side)"
   ]
  },
  {
   "cell_type": "markdown",
   "metadata": {},
   "source": [
    "Use the [table.loadTable](https://go.documentation.sas.com/doc/en/pgmsascdc/default/caspg/cas-table-loadtable.htm) CAS action to load the **retail_sales.parquet** file into memory on the distributed CAS server. Name the new CAS table **retail_sales** and place it in the **Casuser** caslib. \n",
    "\n",
    "**NOTE**: This is similar to using Pandas read_ methods to load files as DataFrames."
   ]
  },
  {
   "cell_type": "code",
   "execution_count": null,
   "metadata": {},
   "outputs": [],
   "source": [
    "conn.loadTable(path = 'retail_sales.parquet', caslib = 'casuser',\n",
    "               casout = {\n",
    "                   'name':'retail_sales',\n",
    "                   'caslib':'casuser',\n",
    "                   'replace':True\n",
    "               })"
   ]
  },
  {
   "cell_type": "markdown",
   "metadata": {},
   "source": [
    "View available in-memory tables in the **Casuser** caslib. Notice that the **RETAIL_SALES** CAS table is now an in-memory CAS table."
   ]
  },
  {
   "cell_type": "code",
   "execution_count": null,
   "metadata": {},
   "outputs": [],
   "source": [
    "conn.tableInfo(caslib = 'casuser')"
   ]
  },
  {
   "cell_type": "markdown",
   "metadata": {},
   "source": [
    "## 5. Explore the CAS Table"
   ]
  },
  {
   "cell_type": "markdown",
   "metadata": {},
   "source": [
    "### a. Reference the CAS table\n",
    "Create a client-side reference to the CAS table named **castbl**. Then display the value and type of **castbl**. Notice that it is a **CASTable** object and is referencing the **retail_sales** CAS table in the **Casuser** caslib. "
   ]
  },
  {
   "cell_type": "code",
   "execution_count": null,
   "metadata": {},
   "outputs": [],
   "source": [
    "castbl = conn.CASTable('retail_sales', caslib = 'casuser')\n",
    "\n",
    "display(type(castbl), castbl)"
   ]
  },
  {
   "cell_type": "markdown",
   "metadata": {},
   "source": [
    "Preview the CAS table using the SWAT head method."
   ]
  },
  {
   "cell_type": "code",
   "execution_count": null,
   "metadata": {
    "tags": []
   },
   "outputs": [],
   "source": [
    "castbl.head()"
   ]
  },
  {
   "cell_type": "markdown",
   "metadata": {},
   "source": [
    "Use the tableDetails CAS action to get detailed information about a CAS table. Notice that the CAS table is broken up into blocks for distributed processing."
   ]
  },
  {
   "cell_type": "code",
   "execution_count": null,
   "metadata": {},
   "outputs": [],
   "source": [
    "castbl.tableDetails()"
   ]
  },
  {
   "cell_type": "markdown",
   "metadata": {},
   "source": [
    "### b. Preview the CAS Table"
   ]
  },
  {
   "cell_type": "markdown",
   "metadata": {},
   "source": [
    "You can execute the SWAT head method on a **CASTable** object to return five rows to your Python client. The head method executes on the CAS server, and the CAS server returns five rows to the Python client as a **SASDataFrame** object.\n",
    "\n",
    "A **SASDataFrame** object is a subclass to a **pandas.DataFrame**. For the most part, you don’t need to worry about the difference between a **SASDataFrame** and a **panda.DataFrame**. They work the same way. The only difference is that a **SASDataFrame** contains extra attributes to store the SAS metadata such as title, label, and name. If you see a **SASDataFrame** object, that data lives on your client."
   ]
  },
  {
   "cell_type": "code",
   "execution_count": null,
   "metadata": {},
   "outputs": [],
   "source": [
    "df = castbl.head()\n",
    "\n",
    "display(type(df), df)"
   ]
  },
  {
   "cell_type": "markdown",
   "metadata": {},
   "source": [
    "### c. Basic CAS Table Exploration"
   ]
  },
  {
   "cell_type": "markdown",
   "metadata": {},
   "source": [
    "View the number of rows and columns in a CAS table using the SWAT shape attribute."
   ]
  },
  {
   "cell_type": "code",
   "execution_count": null,
   "metadata": {},
   "outputs": [],
   "source": [
    "castbl.shape"
   ]
  },
  {
   "cell_type": "markdown",
   "metadata": {},
   "source": [
    "You can also use the numRows CAS action for similar results."
   ]
  },
  {
   "cell_type": "code",
   "execution_count": null,
   "metadata": {},
   "outputs": [],
   "source": [
    "castbl.numRows()"
   ]
  },
  {
   "cell_type": "markdown",
   "metadata": {},
   "source": [
    "Use the [table.columnInfo](https://go.documentation.sas.com/doc/en/pgmsascdc/default/caspg/cas-table-columninfo.htm) CAS action to return column information."
   ]
  },
  {
   "cell_type": "code",
   "execution_count": null,
   "metadata": {},
   "outputs": [],
   "source": [
    "castbl.columnInfo()"
   ]
  },
  {
   "cell_type": "markdown",
   "metadata": {},
   "source": [
    "View the number of missing values in each column using the SWAT nmiss method. This is similar to using the isna and sum methods in Pandas. The processing will be completed on the distributed CAS server and a **series** will be returned to the Python client."
   ]
  },
  {
   "cell_type": "code",
   "execution_count": null,
   "metadata": {},
   "outputs": [],
   "source": [
    "castbl.nmiss()"
   ]
  },
  {
   "cell_type": "markdown",
   "metadata": {},
   "source": [
    "### d. Explore Categorical Columns"
   ]
  },
  {
   "cell_type": "markdown",
   "metadata": {},
   "source": [
    "Find the count of unique values in a CAS table using the SWAT package value_counts method. The CAS server summarizes the data and returns a **series** to the Python client."
   ]
  },
  {
   "cell_type": "code",
   "execution_count": null,
   "metadata": {},
   "outputs": [],
   "source": [
    "(castbl                          ## CAS table\n",
    " .age_bucket                     ## CAS table column\n",
    " .value_counts(normalize=True)   ## SWAT package value_counts method\n",
    ")"
   ]
  },
  {
   "cell_type": "markdown",
   "metadata": {},
   "source": [
    "The SWAT package enables you to summarize your data on the distributed CAS server and then work with the smaller summarized results on the Python client. \n",
    "\n",
    "Here we will plot the **series** returned from the CAS server on the client using the Pandas plot method."
   ]
  },
  {
   "cell_type": "code",
   "execution_count": null,
   "metadata": {},
   "outputs": [],
   "source": [
    "df = (castbl                          ## CAS table\n",
    "      .age_bucket                     ## CAS table column\n",
    "      .value_counts(normalize=True)   ## SWAT package value_counts method\n",
    ")\n",
    "\n",
    "## Plot the Series on the Python client using Pandas\n",
    "df.plot(kind='bar', figsize=(8,6));"
   ]
  },
  {
   "cell_type": "markdown",
   "metadata": {},
   "source": [
    "### e. Explore Numeric Columns"
   ]
  },
  {
   "cell_type": "markdown",
   "metadata": {},
   "source": [
    "You can view descriptive statistics of a CAS table using the SWAT describe method. Notice that the results are similar to the Pandas describe method."
   ]
  },
  {
   "cell_type": "code",
   "execution_count": null,
   "metadata": {},
   "outputs": [],
   "source": [
    "castbl.describe()"
   ]
  },
  {
   "cell_type": "markdown",
   "metadata": {},
   "source": [
    "You can also use the [simple.summary](https://go.documentation.sas.com/doc/en/pgmsascdc/default/casanpg/cas-simple-summary.htm?fromDefault=) CAS action will return similar results."
   ]
  },
  {
   "cell_type": "code",
   "execution_count": null,
   "metadata": {},
   "outputs": [],
   "source": [
    "castbl.summary()"
   ]
  },
  {
   "cell_type": "markdown",
   "metadata": {},
   "source": [
    "### f. Filter CAS Tables"
   ]
  },
  {
   "cell_type": "markdown",
   "metadata": {},
   "source": [
    "You can use the SWAT query method to query a CAS table. This works similarly to the Pandas query method."
   ]
  },
  {
   "cell_type": "code",
   "execution_count": null,
   "metadata": {},
   "outputs": [],
   "source": [
    "(castbl                            ## CASTable object\n",
    " .query('age_bucket = \"26-35\"')    ## SWAT query method\n",
    " .loyalty_card                     ## CAS column\n",
    " .value_counts()                   ## SWAT value_counts method\n",
    ")"
   ]
  },
  {
   "cell_type": "markdown",
   "metadata": {},
   "source": [
    "### g. Group CAS Tables"
   ]
  },
  {
   "cell_type": "markdown",
   "metadata": {},
   "source": [
    "You can also aggregate data by groups using the SWAT groupby method. This is similar to the Pandas groupby method."
   ]
  },
  {
   "cell_type": "code",
   "execution_count": null,
   "metadata": {},
   "outputs": [],
   "source": [
    "(castbl                             ## CASTable object\n",
    " .groupby(['Year','age_bucket'])    ## Grouping columns\n",
    " .loc[:,['Sales','Cost']]           ## Sepcify the columns to aggregate\n",
    " .sum()                             ## Aggregate function\n",
    ")"
   ]
  },
  {
   "cell_type": "markdown",
   "metadata": {},
   "source": [
    "### h. Execute SQL on the CAS Server"
   ]
  },
  {
   "cell_type": "code",
   "execution_count": null,
   "metadata": {},
   "outputs": [],
   "source": [
    "## Load the fedSQL action set to execute SQL in CAS.\n",
    "conn.loadActionSet('fedSQL')\n",
    "\n",
    "## Store a simple SQL query\n",
    "myQuery = '''\n",
    "    select year, \n",
    "           age_bucket,\n",
    "           sum(sales) as Total_Sales,\n",
    "           sum(cost) as Total_Cost\n",
    "        from casuser.retail_sales\n",
    "        group by year, age_bucket\n",
    "        order by year, age_bucket\n",
    "'''\n",
    "\n",
    "## Execute the query in the CAS server\n",
    "cr = conn.execDirect(query = myQuery)\n",
    "\n",
    "display(type(cr), cr)"
   ]
  },
  {
   "cell_type": "markdown",
   "metadata": {},
   "source": [
    "After the data is summarized by the CAS server and returned to the client, you can process the data locally using familiar packages."
   ]
  },
  {
   "cell_type": "code",
   "execution_count": null,
   "metadata": {},
   "outputs": [],
   "source": [
    "df = (cr['Result Set']\n",
    "      .assign(Year = lambda _df: _df.Year.astype('int32'))\n",
    "      .rename(columns=str.lower)\n",
    "     )\n",
    "\n",
    "display(df.head(10))\n",
    "\n",
    "## Plot the DataFrame using seaborn\n",
    "ax = sns.barplot(data=df, x='year', y='total_sales', hue='age_bucket')\n",
    "ax.legend(title='Age Buckets')\n",
    "ax.set_xlabel('')\n",
    "ax.set_ylabel('Millions');"
   ]
  },
  {
   "cell_type": "markdown",
   "metadata": {},
   "source": [
    "## 5. Prepre the CAS Table"
   ]
  },
  {
   "cell_type": "markdown",
   "metadata": {},
   "source": [
    "Preview the CAS table."
   ]
  },
  {
   "cell_type": "code",
   "execution_count": null,
   "metadata": {},
   "outputs": [],
   "source": [
    "castbl.head()"
   ]
  },
  {
   "cell_type": "markdown",
   "metadata": {},
   "source": [
    "### a. Create CAS Table Columns"
   ]
  },
  {
   "cell_type": "markdown",
   "metadata": {},
   "source": [
    "Create two new columns in the CAS table using the eval method. The eval method takes [SAS functions](https://go.documentation.sas.com/doc/en/pgmsascdc/v_039/lefunctionsref/n01f5qrjoh9h4hn1olbdpb5pr2td.htm)."
   ]
  },
  {
   "cell_type": "code",
   "execution_count": null,
   "metadata": {},
   "outputs": [],
   "source": [
    "castbl.eval('Profit = Sales - Cost')\n",
    "castbl.eval(\"loyalty_card_value = IFC(loyalty_card=0,'No Loyalty Card','Loyalty Card')\")"
   ]
  },
  {
   "cell_type": "markdown",
   "metadata": {},
   "source": [
    "View the **CASTable** object. Notice that the eval method added parameters to the **CASTable** object on how to calculate the columns. A **CASTable** object is lazily evaluated and the columns will be calculated only when an action or method is executed on the object."
   ]
  },
  {
   "cell_type": "code",
   "execution_count": null,
   "metadata": {},
   "outputs": [],
   "source": [
    "castbl.params"
   ]
  },
  {
   "cell_type": "markdown",
   "metadata": {},
   "source": [
    "Execute the head method on the **CASTable** object. Notice that the new columns were created."
   ]
  },
  {
   "cell_type": "code",
   "execution_count": null,
   "metadata": {},
   "outputs": [],
   "source": [
    "castbl.head()"
   ]
  },
  {
   "cell_type": "markdown",
   "metadata": {},
   "source": [
    "### b. Create a New CAS Table"
   ]
  },
  {
   "cell_type": "markdown",
   "metadata": {},
   "source": [
    "Create a new CAS table that contains the two new columns from above."
   ]
  },
  {
   "cell_type": "code",
   "execution_count": null,
   "metadata": {},
   "outputs": [],
   "source": [
    "castbl.copyTable(casout={'name':'sales_final', \n",
    "                         'caslib':'casuser', \n",
    "                         'label':'Final table with two new calculated columns'})"
   ]
  },
  {
   "cell_type": "markdown",
   "metadata": {},
   "source": [
    "View all available in-memory CAS tables. Confirm that the new **SALES_FINAL** CAS table was created."
   ]
  },
  {
   "cell_type": "code",
   "execution_count": null,
   "metadata": {},
   "outputs": [],
   "source": [
    "conn.tableInfo(caslib = 'casuser')"
   ]
  },
  {
   "cell_type": "markdown",
   "metadata": {},
   "source": [
    "Reference and preview the new **SALES_FINAL** CAS table."
   ]
  },
  {
   "cell_type": "code",
   "execution_count": null,
   "metadata": {},
   "outputs": [],
   "source": [
    "final_castbl = conn.CASTable('sales_final', caslib = 'casuser')\n",
    "\n",
    "display(final_castbl, final_castbl.head())"
   ]
  },
  {
   "cell_type": "markdown",
   "metadata": {},
   "source": [
    "### c. Save the CAS Table to the Data Source\n",
    "Save a CAS table to a caslib's data source using the [table.save](https://go.documentation.sas.com/doc/en/pgmsascdc/v_037/caspg/cas-table-save.htm) CAS action. This is similar to saving a DataFrame back to disk using a to_ method in Pandas."
   ]
  },
  {
   "cell_type": "code",
   "execution_count": null,
   "metadata": {},
   "outputs": [],
   "source": [
    "final_castbl.save(name = 'sales_final.sashdat', caslib = 'casuser', replace = True)\n",
    "\n",
    "# final_castbl.save(name = 'sales_final.parquet', caslib = 'casuser', replace = True)\n",
    "\n",
    "# final_castbl.save(name = 'sales_final.csv', caslib = 'casuser', replace = True)"
   ]
  },
  {
   "cell_type": "markdown",
   "metadata": {},
   "source": [
    "View the newly saved files in the **Casuser** caslib. Confirm that the **sales_final.sashdat** file was created."
   ]
  },
  {
   "cell_type": "code",
   "execution_count": null,
   "metadata": {},
   "outputs": [],
   "source": [
    "conn.fileInfo(caslib = 'casuser')"
   ]
  },
  {
   "cell_type": "markdown",
   "metadata": {},
   "source": [
    "## 6. Doing More with the SAS Viya Platform"
   ]
  },
  {
   "cell_type": "markdown",
   "metadata": {},
   "source": [
    "### a. Machine learning\n",
    "You can use action sets like the [Regression Action Set](https://go.documentation.sas.com/doc/en/pgmsascdc/default/casactstat/casactstat_regression_toc.htm?fromDefault=) to perform machine learning on the distributed CAS server. This example use the GLM action to fit linear regression models using the method of least squares."
   ]
  },
  {
   "cell_type": "code",
   "execution_count": null,
   "metadata": {
    "tags": []
   },
   "outputs": [],
   "source": [
    "conn.loadActionSet('regression')\n",
    "\n",
    "target = 'Sales'\n",
    "inputs = ['Cost', 'mkt_bdgt', 'Margin']\n",
    "\n",
    "final_castbl.glm(target = target,\n",
    "                 inputs = inputs)"
   ]
  },
  {
   "cell_type": "markdown",
   "metadata": {
    "tags": []
   },
   "source": [
    "### b. Other SAS Viya Applications\n",
    "You can use other SAS Viya applications like SAS Visual Analytics on the data you prepared using Python."
   ]
  },
  {
   "cell_type": "code",
   "execution_count": null,
   "metadata": {
    "tags": []
   },
   "outputs": [],
   "source": [
    "display_image('00_VA_Covid.png')"
   ]
  },
  {
   "cell_type": "markdown",
   "metadata": {},
   "source": [
    "#### Open SAS Visual Analytics and Access the CAS Table\n",
    "1. Open a new tab in your browser.\n",
    "2. Log in to SAS Viya.\n",
    "3. At the top left click the **Applications menu** ![Image](https://raw.githubusercontent.com/pestyld/Python-Integration-to-SAS-Viya/master/images/Icons_ApplicationButton.png) icon.\n",
    "4. Select **Explore and Visualize** to access the SAS Visual Analytics application.\n",
    "5. Then select **Start with Data > Data Sources > cas-shared-default > Casuser**.\n",
    "6. Right-click the **sales_final.sashdat** file and select **Load**. This will load the final data into memory."
   ]
  },
  {
   "cell_type": "markdown",
   "metadata": {},
   "source": [
    "## 7. Terminate the CAS Connection"
   ]
  },
  {
   "cell_type": "markdown",
   "metadata": {
    "tags": []
   },
   "source": [
    "Let's delete the files we created in this demo using the [deleteSource](https://go.documentation.sas.com/doc/en/pgmsascdc/default/caspg/cas-table-deletesource.htm) CAS action."
   ]
  },
  {
   "cell_type": "code",
   "execution_count": null,
   "metadata": {
    "tags": []
   },
   "outputs": [],
   "source": [
    "delFiles = ['retail_sales.parquet', 'sales_final.sashdat']\n",
    "\n",
    "for file in delFiles:\n",
    "    conn.deleteSource(source = file, caslib = 'casuser', quiet = True) "
   ]
  },
  {
   "cell_type": "markdown",
   "metadata": {},
   "source": [
    "When you are finished, it's best practice to terminate your CAS connection."
   ]
  },
  {
   "cell_type": "code",
   "execution_count": null,
   "metadata": {},
   "outputs": [],
   "source": [
    "conn.terminate()"
   ]
  },
  {
   "cell_type": "markdown",
   "metadata": {},
   "source": [
    "## Thank you!"
   ]
  },
  {
   "cell_type": "code",
   "execution_count": null,
   "metadata": {
    "tags": []
   },
   "outputs": [],
   "source": [
    "display_image('Innovate2024_09_thank_you.PNG')"
   ]
  },
  {
   "cell_type": "markdown",
   "metadata": {},
   "source": [
    "# Additional Resources\n",
    "\n",
    "SAS Documentation \n",
    "- [SAS® Cloud Analytic Services: Fundamentals](https://go.documentation.sas.com/doc/en/pgmsascdc/default/casfun/titlepage.htm)\n",
    "- [SWAT Package](https://sassoftware.github.io/python-swat/getting-started.html)\n",
    "- [CAS Actions](https://go.documentation.sas.com/doc/en/pgmsascdc/default/pgmsassyntaxwlcm/home.htm)\n",
    "\n",
    "SAS Viya Quick Start Videos\n",
    "- [Viya Quick Start Tutorials](https://www.youtube.com/watch?v=6eiE1i8QFMQ&list=PLVV6eZFA22Qw2bmAI5_K2P3xU_CVx20n5)\n",
    "\n",
    "Blog Series \n",
    "- [Getting Started with Python Integration to SAS® Viya®](https://blogs.sas.com/content/sgf/2020/06/19/getting-started-with-python-integration-to-sas-viya-index/) \n",
    "- [CAS Action! - a series on fundamentals](https://blogs.sas.com/content/sgf/2021/08/06/cas-action-a-series-on-fundamentals/)\n",
    "\n",
    "SAS Courses \n",
    "- [SAS® Viya® and Python Integration Fundamentals](https://support.sas.com/edu/schedules.html?crs=PIVY&ctry=US) \n",
    "- [SAS® Viya® and Python Integration for Machine Learning](https://support.sas.com/edu/schedules.html?crs=POSI34&ctry=US)\n",
    "- [High-Performance Data Processing with CASL in SAS® Viya®](https://support.sas.com/edu/schedules.html?crs=CASL&ctry=US)\n",
    "\n",
    "Additional Resources\n",
    "- [My Python-Integration-to-SAS-Viya GitHub Repo](https://github.com/pestyld/Python-Integration-to-SAS-Viya)\n",
    "- [SAS Viya Quick Start Videos](https://video.sas.com/category/videos/sas-viya-quick-start)\n",
    "- SAS Explore 2022 - [Using Python for Data Analytics in SAS Viya](https://www.youtube.com/watch?v=skd9-it5NPU)\n",
    "- Free Webinar - [Ask the Expert Webinar - How Do I Use Python in SAS® Viya®?](https://www.sas.com/en_us/webinars/use-python-in-sas-viya.html)\n",
    "- YouTube Tutorial - [SAS Tutorial | Python Integration with SAS Viya](https://www.youtube.com/watch?v=6cDU6JGEYSo)\n",
    "- SAS Viya - [Getting Started with the Python Interface of SAS Viya](https://video.sas.com/detail/video/5430217787001/getting-started-with-the-python-interface-of-sas-viya)\n",
    "- SAS Communities - [Loading Data from Python into CAS](https://communities.sas.com/t5/SAS-Communities-Library/Loading-Data-from-Python-into-CAS/ta-p/263567)\n",
    "- SAS Communities - [4 Approaches for Parallel Data Loading to CAS](https://communities.sas.com/t5/SAS-Communities-Library/4-Approaches-for-Parallel-Data-Loading-to-CAS/ta-p/370955)\n",
    "- SAS Paper - [Seriously Serial or Perfectly Parallel Data Transfer with SAS® Viya®](https://www.sas.com/content/dam/SAS/support/en/sas-global-forum-proceedings/2019/3479-2019.pdf)\n",
    "- SAS Communities - [Hotwire your SWAT inside SAS Studio!](https://communities.sas.com/t5/SAS-Communities-Library/Hotwire-your-SWAT-inside-SAS-Studio/ta-p/835956)\n",
    "\n",
    "# Thank You for Attending!\n",
    "\n",
    "## Connect with me on LinkedIn!\n",
    "[Peter Styliadis](https://www.linkedin.com/in/peter-styliadis-712bb357/) Technical Training Consultant at SAS"
   ]
  },
  {
   "cell_type": "markdown",
   "metadata": {},
   "source": [
    " "
   ]
  }
 ],
 "metadata": {
  "kernelspec": {
   "display_name": "Python 3 (ipykernel)",
   "language": "python",
   "name": "python3"
  },
  "language_info": {
   "codemirror_mode": {
    "name": "ipython",
    "version": 3
   },
   "file_extension": ".py",
   "mimetype": "text/x-python",
   "name": "python",
   "nbconvert_exporter": "python",
   "pygments_lexer": "ipython3",
   "version": "3.11.5"
  }
 },
 "nbformat": 4,
 "nbformat_minor": 4
}
