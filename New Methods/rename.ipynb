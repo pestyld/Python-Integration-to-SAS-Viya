{
 "cells": [
  {
   "cell_type": "code",
   "execution_count": 1,
   "id": "c73754dc-b1a4-471d-b92b-5d6961f78280",
   "metadata": {
    "tags": []
   },
   "outputs": [
    {
     "name": "stdout",
     "output_type": "stream",
     "text": [
      "CAS Connection created\n",
      "NOTE: Grid node action status report: 5 nodes, 9 total actions executed.\n"
     ]
    },
    {
     "data": {
      "text/plain": [
       "'Stable 2023.05'"
      ]
     },
     "execution_count": 1,
     "metadata": {},
     "output_type": "execute_result"
    }
   ],
   "source": [
    "import pandas as pd\n",
    "from casauth import CASAuth\n",
    "import swat\n",
    "import os\n",
    "\n",
    "path = os.getenv('CAS_CREDENTIALS')\n",
    "pem_file = os.getenv('CAS_CLIENT_SSL_CA_LIST')\n",
    "\n",
    "conn = CASAuth(path, ssl_ca_list = pem_file)\n",
    "conn.about()['About']['Viya Version']"
   ]
  },
  {
   "cell_type": "markdown",
   "id": "65e09b1f-c127-4dbd-932d-6f12a67b7e4f",
   "metadata": {},
   "source": [
    "## Create data"
   ]
  },
  {
   "cell_type": "markdown",
   "id": "cee3a26b-bba1-4a63-9b6a-a9a08cd4e17c",
   "metadata": {},
   "source": [
    "### Create DataFrame"
   ]
  },
  {
   "cell_type": "code",
   "execution_count": 74,
   "id": "465595cc-42f9-4d8b-aea0-4a1267bb15ba",
   "metadata": {
    "tags": []
   },
   "outputs": [
    {
     "data": {
      "text/html": [
       "<div>\n",
       "<style scoped>\n",
       "    .dataframe tbody tr th:only-of-type {\n",
       "        vertical-align: middle;\n",
       "    }\n",
       "\n",
       "    .dataframe tbody tr th {\n",
       "        vertical-align: top;\n",
       "    }\n",
       "\n",
       "    .dataframe thead th {\n",
       "        text-align: right;\n",
       "    }\n",
       "</style>\n",
       "<table border=\"1\" class=\"dataframe\">\n",
       "  <thead>\n",
       "    <tr style=\"text-align: right;\">\n",
       "      <th></th>\n",
       "      <th>A</th>\n",
       "      <th>B</th>\n",
       "    </tr>\n",
       "  </thead>\n",
       "  <tbody>\n",
       "    <tr>\n",
       "      <th>0</th>\n",
       "      <td>1</td>\n",
       "      <td>4</td>\n",
       "    </tr>\n",
       "    <tr>\n",
       "      <th>1</th>\n",
       "      <td>2</td>\n",
       "      <td>5</td>\n",
       "    </tr>\n",
       "    <tr>\n",
       "      <th>2</th>\n",
       "      <td>3</td>\n",
       "      <td>6</td>\n",
       "    </tr>\n",
       "  </tbody>\n",
       "</table>\n",
       "</div>"
      ],
      "text/plain": [
       "   A  B\n",
       "0  1  4\n",
       "1  2  5\n",
       "2  3  6"
      ]
     },
     "execution_count": 74,
     "metadata": {},
     "output_type": "execute_result"
    }
   ],
   "source": [
    "df = pd.DataFrame({\"A\": [1, 2, 3], \"B\": [4, 5, 6]})\n",
    "df"
   ]
  },
  {
   "cell_type": "markdown",
   "id": "5f3bee2f-7e30-4d70-9067-ce76b02c340c",
   "metadata": {},
   "source": [
    "### Create CAS table"
   ]
  },
  {
   "cell_type": "code",
   "execution_count": 76,
   "id": "f8f39998-f602-4e06-945e-6fbc616669a4",
   "metadata": {
    "tags": []
   },
   "outputs": [
    {
     "name": "stdout",
     "output_type": "stream",
     "text": [
      "NOTE: Cloud Analytic Services made the uploaded file available as table CAS_TBL in caslib CASUSER(Peter.Styliadis@sas.com).\n",
      "NOTE: The table CAS_TBL has been created in caslib CASUSER(Peter.Styliadis@sas.com) from binary data uploaded to Cloud Analytic Services.\n"
     ]
    },
    {
     "data": {
      "text/html": [
       "<div>\n",
       "<style scoped>\n",
       "    .dataframe tbody tr th:only-of-type {\n",
       "        vertical-align: middle;\n",
       "    }\n",
       "\n",
       "    .dataframe tbody tr th {\n",
       "        vertical-align: top;\n",
       "    }\n",
       "\n",
       "    .dataframe thead th {\n",
       "        text-align: right;\n",
       "    }\n",
       "</style>\n",
       "<table border=\"1\" class=\"dataframe\"><caption>Selected Rows from Table CAS_TBL</caption>\n",
       "  <thead>\n",
       "    <tr style=\"text-align: right;\">\n",
       "      <th title=\"\"></th>\n",
       "      <th title=\"A\">A</th>\n",
       "      <th title=\"B\">B</th>\n",
       "    </tr>\n",
       "  </thead>\n",
       "  <tbody>\n",
       "    <tr>\n",
       "      <td>0</td>\n",
       "      <td>1.0</td>\n",
       "      <td>4.0</td>\n",
       "    </tr>\n",
       "    <tr>\n",
       "      <td>1</td>\n",
       "      <td>2.0</td>\n",
       "      <td>5.0</td>\n",
       "    </tr>\n",
       "    <tr>\n",
       "      <td>2</td>\n",
       "      <td>3.0</td>\n",
       "      <td>6.0</td>\n",
       "    </tr>\n",
       "  </tbody>\n",
       "</table>\n",
       "</div>"
      ],
      "text/plain": [
       "Selected Rows from Table CAS_TBL\n",
       "\n",
       "     A    B\n",
       "0  1.0  4.0\n",
       "1  2.0  5.0\n",
       "2  3.0  6.0"
      ]
     },
     "execution_count": 76,
     "metadata": {},
     "output_type": "execute_result"
    }
   ],
   "source": [
    "castbl = conn.upload_frame(df, casout='CAS_TBL')\n",
    "castbl.head()"
   ]
  },
  {
   "cell_type": "markdown",
   "id": "21f6db81-884d-4b57-847a-6e9f8d9eaebb",
   "metadata": {},
   "source": [
    "## Rename columns using a dict"
   ]
  },
  {
   "cell_type": "markdown",
   "id": "1eb6dd86-47a6-4934-8e10-780bf478c768",
   "metadata": {},
   "source": [
    "### Pandas You need true to rename the columns permanently"
   ]
  },
  {
   "cell_type": "code",
   "execution_count": 77,
   "id": "aad8853f-98f6-4630-be11-48e478f65826",
   "metadata": {
    "tags": []
   },
   "outputs": [],
   "source": [
    "df.rename(columns = {'A':'NEWA', 'B':'NEWB'}, inplace = True)"
   ]
  },
  {
   "cell_type": "code",
   "execution_count": 78,
   "id": "71749b25-ea56-4f79-8595-e2a41b4e2d38",
   "metadata": {
    "tags": []
   },
   "outputs": [
    {
     "data": {
      "text/html": [
       "<div>\n",
       "<style scoped>\n",
       "    .dataframe tbody tr th:only-of-type {\n",
       "        vertical-align: middle;\n",
       "    }\n",
       "\n",
       "    .dataframe tbody tr th {\n",
       "        vertical-align: top;\n",
       "    }\n",
       "\n",
       "    .dataframe thead th {\n",
       "        text-align: right;\n",
       "    }\n",
       "</style>\n",
       "<table border=\"1\" class=\"dataframe\">\n",
       "  <thead>\n",
       "    <tr style=\"text-align: right;\">\n",
       "      <th></th>\n",
       "      <th>NEWA</th>\n",
       "      <th>NEWB</th>\n",
       "    </tr>\n",
       "  </thead>\n",
       "  <tbody>\n",
       "    <tr>\n",
       "      <th>0</th>\n",
       "      <td>1</td>\n",
       "      <td>4</td>\n",
       "    </tr>\n",
       "    <tr>\n",
       "      <th>1</th>\n",
       "      <td>2</td>\n",
       "      <td>5</td>\n",
       "    </tr>\n",
       "    <tr>\n",
       "      <th>2</th>\n",
       "      <td>3</td>\n",
       "      <td>6</td>\n",
       "    </tr>\n",
       "  </tbody>\n",
       "</table>\n",
       "</div>"
      ],
      "text/plain": [
       "   NEWA  NEWB\n",
       "0     1     4\n",
       "1     2     5\n",
       "2     3     6"
      ]
     },
     "execution_count": 78,
     "metadata": {},
     "output_type": "execute_result"
    }
   ],
   "source": [
    "df.head()"
   ]
  },
  {
   "cell_type": "markdown",
   "id": "2ea40006-750b-4f4f-88cb-c2064c2864ff",
   "metadata": {},
   "source": [
    "### Cas table uses alterTable action. Requires list of dicts"
   ]
  },
  {
   "cell_type": "code",
   "execution_count": 79,
   "id": "5aea152e-c895-4f39-80f9-72df473ede7f",
   "metadata": {
    "tags": []
   },
   "outputs": [
    {
     "data": {
      "text/html": [
       "<div class=\"cas-output-area\"></div>\n",
       "<p class=\"cas-results-performance\"><small><span class=\"cas-elapsed\">elapsed 0.00985s</span> &#183; <span class=\"cas-user\">user 0.00486s</span> &#183; <span class=\"cas-sys\">sys 0.0156s</span> &#183; <span class=\"cas-memory\">mem 1.53MB</span></small></p>"
      ],
      "text/plain": [
       "+ Elapsed: 0.00985s, user: 0.00486s, sys: 0.0156s, mem: 1.53mb"
      ]
     },
     "execution_count": 79,
     "metadata": {},
     "output_type": "execute_result"
    }
   ],
   "source": [
    "castbl.alterTable(columns = [{'name':'A', 'rename':'NEWA'}, {'name':'B','rename':'NEWB'}])"
   ]
  },
  {
   "cell_type": "code",
   "execution_count": 80,
   "id": "813aa838-8ed8-4250-8ee2-277f36b0c989",
   "metadata": {
    "tags": []
   },
   "outputs": [
    {
     "data": {
      "text/html": [
       "<div>\n",
       "<style scoped>\n",
       "    .dataframe tbody tr th:only-of-type {\n",
       "        vertical-align: middle;\n",
       "    }\n",
       "\n",
       "    .dataframe tbody tr th {\n",
       "        vertical-align: top;\n",
       "    }\n",
       "\n",
       "    .dataframe thead th {\n",
       "        text-align: right;\n",
       "    }\n",
       "</style>\n",
       "<table border=\"1\" class=\"dataframe\"><caption>Selected Rows from Table CAS_TBL</caption>\n",
       "  <thead>\n",
       "    <tr style=\"text-align: right;\">\n",
       "      <th title=\"\"></th>\n",
       "      <th title=\"NEWA\">NEWA</th>\n",
       "      <th title=\"NEWB\">NEWB</th>\n",
       "    </tr>\n",
       "  </thead>\n",
       "  <tbody>\n",
       "    <tr>\n",
       "      <td>0</td>\n",
       "      <td>1.0</td>\n",
       "      <td>4.0</td>\n",
       "    </tr>\n",
       "    <tr>\n",
       "      <td>1</td>\n",
       "      <td>2.0</td>\n",
       "      <td>5.0</td>\n",
       "    </tr>\n",
       "    <tr>\n",
       "      <td>2</td>\n",
       "      <td>3.0</td>\n",
       "      <td>6.0</td>\n",
       "    </tr>\n",
       "  </tbody>\n",
       "</table>\n",
       "</div>"
      ],
      "text/plain": [
       "Selected Rows from Table CAS_TBL\n",
       "\n",
       "   NEWA  NEWB\n",
       "0   1.0   4.0\n",
       "1   2.0   5.0\n",
       "2   3.0   6.0"
      ]
     },
     "execution_count": 80,
     "metadata": {},
     "output_type": "execute_result"
    }
   ],
   "source": [
    "castbl.head()"
   ]
  },
  {
   "cell_type": "markdown",
   "id": "34cd2534-2089-42c0-b905-d89bcf7ab847",
   "metadata": {},
   "source": [
    "### So for CAS you would most likely need a list comprehension"
   ]
  },
  {
   "cell_type": "code",
   "execution_count": 81,
   "id": "60d40a6d-374e-42c7-82af-e9ee07593451",
   "metadata": {
    "tags": []
   },
   "outputs": [
    {
     "data": {
      "text/plain": [
       "[{'name': 'NEWA', 'rename': 'BACK2A'}, {'name': 'NEWB', 'rename': 'BACK2B'}]"
      ]
     },
     "execution_count": 81,
     "metadata": {},
     "output_type": "execute_result"
    }
   ],
   "source": [
    "## store the dict from columns\n",
    "columns = {'NEWA':'BACK2A', 'NEWB':'BACK2B'}\n",
    "\n",
    "## Create list of dictionaries\n",
    "myListOfDicts = [{'name':key, 'rename':value} for key,value in columns.items()]\n",
    "myListOfDicts"
   ]
  },
  {
   "cell_type": "code",
   "execution_count": 82,
   "id": "f9df5afd-e53a-461e-91e5-2ca139b46a05",
   "metadata": {
    "tags": []
   },
   "outputs": [
    {
     "data": {
      "text/html": [
       "<div class=\"cas-output-area\"></div>\n",
       "<p class=\"cas-results-performance\"><small><span class=\"cas-elapsed\">elapsed 0.0103s</span> &#183; <span class=\"cas-user\">user 0.0122s</span> &#183; <span class=\"cas-sys\">sys 0.00993s</span> &#183; <span class=\"cas-memory\">mem 1.52MB</span></small></p>"
      ],
      "text/plain": [
       "+ Elapsed: 0.0103s, user: 0.0122s, sys: 0.00993s, mem: 1.52mb"
      ]
     },
     "execution_count": 82,
     "metadata": {},
     "output_type": "execute_result"
    }
   ],
   "source": [
    "## Apply change\n",
    "castbl.alterTable(columns = myListOfDicts)"
   ]
  },
  {
   "cell_type": "code",
   "execution_count": 83,
   "id": "7aad3d7e-e886-418c-8b8c-e2a0da065db3",
   "metadata": {
    "tags": []
   },
   "outputs": [
    {
     "data": {
      "text/html": [
       "<div>\n",
       "<style scoped>\n",
       "    .dataframe tbody tr th:only-of-type {\n",
       "        vertical-align: middle;\n",
       "    }\n",
       "\n",
       "    .dataframe tbody tr th {\n",
       "        vertical-align: top;\n",
       "    }\n",
       "\n",
       "    .dataframe thead th {\n",
       "        text-align: right;\n",
       "    }\n",
       "</style>\n",
       "<table border=\"1\" class=\"dataframe\"><caption>Selected Rows from Table CAS_TBL</caption>\n",
       "  <thead>\n",
       "    <tr style=\"text-align: right;\">\n",
       "      <th title=\"\"></th>\n",
       "      <th title=\"BACK2A\">BACK2A</th>\n",
       "      <th title=\"BACK2B\">BACK2B</th>\n",
       "    </tr>\n",
       "  </thead>\n",
       "  <tbody>\n",
       "    <tr>\n",
       "      <td>0</td>\n",
       "      <td>1.0</td>\n",
       "      <td>4.0</td>\n",
       "    </tr>\n",
       "    <tr>\n",
       "      <td>1</td>\n",
       "      <td>2.0</td>\n",
       "      <td>5.0</td>\n",
       "    </tr>\n",
       "    <tr>\n",
       "      <td>2</td>\n",
       "      <td>3.0</td>\n",
       "      <td>6.0</td>\n",
       "    </tr>\n",
       "  </tbody>\n",
       "</table>\n",
       "</div>"
      ],
      "text/plain": [
       "Selected Rows from Table CAS_TBL\n",
       "\n",
       "   BACK2A  BACK2B\n",
       "0     1.0     4.0\n",
       "1     2.0     5.0\n",
       "2     3.0     6.0"
      ]
     },
     "execution_count": 83,
     "metadata": {},
     "output_type": "execute_result"
    }
   ],
   "source": [
    "castbl.head()"
   ]
  },
  {
   "cell_type": "markdown",
   "id": "eec719ce-d742-4e3c-82aa-c57b84e3bbb9",
   "metadata": {
    "tags": []
   },
   "source": [
    "## Rename columns using a function"
   ]
  },
  {
   "cell_type": "markdown",
   "id": "e36583c5-1802-4202-8c03-f82df4795598",
   "metadata": {},
   "source": [
    "###  Pandas \n",
    "Create a python function"
   ]
  },
  {
   "cell_type": "code",
   "execution_count": 63,
   "id": "afd47faa-bc64-4315-9615-33b28bb089bc",
   "metadata": {
    "tags": []
   },
   "outputs": [
    {
     "data": {
      "text/html": [
       "<div>\n",
       "<style scoped>\n",
       "    .dataframe tbody tr th:only-of-type {\n",
       "        vertical-align: middle;\n",
       "    }\n",
       "\n",
       "    .dataframe tbody tr th {\n",
       "        vertical-align: top;\n",
       "    }\n",
       "\n",
       "    .dataframe thead th {\n",
       "        text-align: right;\n",
       "    }\n",
       "</style>\n",
       "<table border=\"1\" class=\"dataframe\">\n",
       "  <thead>\n",
       "    <tr style=\"text-align: right;\">\n",
       "      <th></th>\n",
       "      <th>NEWA</th>\n",
       "      <th>NEWB</th>\n",
       "    </tr>\n",
       "  </thead>\n",
       "  <tbody>\n",
       "    <tr>\n",
       "      <th>0</th>\n",
       "      <td>1</td>\n",
       "      <td>4</td>\n",
       "    </tr>\n",
       "    <tr>\n",
       "      <th>1</th>\n",
       "      <td>2</td>\n",
       "      <td>5</td>\n",
       "    </tr>\n",
       "    <tr>\n",
       "      <th>2</th>\n",
       "      <td>3</td>\n",
       "      <td>6</td>\n",
       "    </tr>\n",
       "  </tbody>\n",
       "</table>\n",
       "</div>"
      ],
      "text/plain": [
       "   NEWA  NEWB\n",
       "0     1     4\n",
       "1     2     5\n",
       "2     3     6"
      ]
     },
     "execution_count": 63,
     "metadata": {},
     "output_type": "execute_result"
    }
   ],
   "source": [
    "df.head()"
   ]
  },
  {
   "cell_type": "code",
   "execution_count": 64,
   "id": "d03d22c0-03b4-452c-8416-22ec2361d449",
   "metadata": {
    "tags": []
   },
   "outputs": [
    {
     "data": {
      "text/html": [
       "<div>\n",
       "<style scoped>\n",
       "    .dataframe tbody tr th:only-of-type {\n",
       "        vertical-align: middle;\n",
       "    }\n",
       "\n",
       "    .dataframe tbody tr th {\n",
       "        vertical-align: top;\n",
       "    }\n",
       "\n",
       "    .dataframe thead th {\n",
       "        text-align: right;\n",
       "    }\n",
       "</style>\n",
       "<table border=\"1\" class=\"dataframe\">\n",
       "  <thead>\n",
       "    <tr style=\"text-align: right;\">\n",
       "      <th></th>\n",
       "      <th>newa</th>\n",
       "      <th>newb</th>\n",
       "    </tr>\n",
       "  </thead>\n",
       "  <tbody>\n",
       "    <tr>\n",
       "      <th>0</th>\n",
       "      <td>1</td>\n",
       "      <td>4</td>\n",
       "    </tr>\n",
       "    <tr>\n",
       "      <th>1</th>\n",
       "      <td>2</td>\n",
       "      <td>5</td>\n",
       "    </tr>\n",
       "    <tr>\n",
       "      <th>2</th>\n",
       "      <td>3</td>\n",
       "      <td>6</td>\n",
       "    </tr>\n",
       "  </tbody>\n",
       "</table>\n",
       "</div>"
      ],
      "text/plain": [
       "   newa  newb\n",
       "0     1     4\n",
       "1     2     5\n",
       "2     3     6"
      ]
     },
     "execution_count": 64,
     "metadata": {},
     "output_type": "execute_result"
    }
   ],
   "source": [
    "def clean_col(_col):\n",
    "    return _col.strip().lower().replace(' ','_')\n",
    "\n",
    "df.rename(columns=clean_col, inplace = True)\n",
    "df.head()"
   ]
  },
  {
   "cell_type": "markdown",
   "id": "9b02f0aa-4ac1-4c1f-9a52-5b155b547027",
   "metadata": {},
   "source": [
    "Using a lambda function"
   ]
  },
  {
   "cell_type": "code",
   "execution_count": 65,
   "id": "60aa29bd-af80-4175-8c68-5f0bc9d1151b",
   "metadata": {
    "tags": []
   },
   "outputs": [
    {
     "data": {
      "text/html": [
       "<div>\n",
       "<style scoped>\n",
       "    .dataframe tbody tr th:only-of-type {\n",
       "        vertical-align: middle;\n",
       "    }\n",
       "\n",
       "    .dataframe tbody tr th {\n",
       "        vertical-align: top;\n",
       "    }\n",
       "\n",
       "    .dataframe thead th {\n",
       "        text-align: right;\n",
       "    }\n",
       "</style>\n",
       "<table border=\"1\" class=\"dataframe\">\n",
       "  <thead>\n",
       "    <tr style=\"text-align: right;\">\n",
       "      <th></th>\n",
       "      <th>NEWA</th>\n",
       "      <th>NEWB</th>\n",
       "    </tr>\n",
       "  </thead>\n",
       "  <tbody>\n",
       "    <tr>\n",
       "      <th>0</th>\n",
       "      <td>1</td>\n",
       "      <td>4</td>\n",
       "    </tr>\n",
       "    <tr>\n",
       "      <th>1</th>\n",
       "      <td>2</td>\n",
       "      <td>5</td>\n",
       "    </tr>\n",
       "    <tr>\n",
       "      <th>2</th>\n",
       "      <td>3</td>\n",
       "      <td>6</td>\n",
       "    </tr>\n",
       "  </tbody>\n",
       "</table>\n",
       "</div>"
      ],
      "text/plain": [
       "   NEWA  NEWB\n",
       "0     1     4\n",
       "1     2     5\n",
       "2     3     6"
      ]
     },
     "execution_count": 65,
     "metadata": {},
     "output_type": "execute_result"
    }
   ],
   "source": [
    "df.rename(columns = lambda col: col.upper(), inplace = True)\n",
    "df.head()"
   ]
  },
  {
   "cell_type": "markdown",
   "id": "0b841faf-3074-47a1-b7a9-a054f917150d",
   "metadata": {},
   "source": [
    "### CAS dynamic rename using function\n",
    "You would have to do something like this in CAS"
   ]
  },
  {
   "cell_type": "code",
   "execution_count": 84,
   "id": "3ec78c84-c89e-4ba1-b420-6e0e9f0cce3f",
   "metadata": {
    "tags": []
   },
   "outputs": [
    {
     "data": {
      "text/html": [
       "<div>\n",
       "<style scoped>\n",
       "    .dataframe tbody tr th:only-of-type {\n",
       "        vertical-align: middle;\n",
       "    }\n",
       "\n",
       "    .dataframe tbody tr th {\n",
       "        vertical-align: top;\n",
       "    }\n",
       "\n",
       "    .dataframe thead th {\n",
       "        text-align: right;\n",
       "    }\n",
       "</style>\n",
       "<table border=\"1\" class=\"dataframe\"><caption>Selected Rows from Table CAS_TBL</caption>\n",
       "  <thead>\n",
       "    <tr style=\"text-align: right;\">\n",
       "      <th title=\"\"></th>\n",
       "      <th title=\"BACK2A\">BACK2A</th>\n",
       "      <th title=\"BACK2B\">BACK2B</th>\n",
       "    </tr>\n",
       "  </thead>\n",
       "  <tbody>\n",
       "    <tr>\n",
       "      <td>0</td>\n",
       "      <td>1.0</td>\n",
       "      <td>4.0</td>\n",
       "    </tr>\n",
       "    <tr>\n",
       "      <td>1</td>\n",
       "      <td>2.0</td>\n",
       "      <td>5.0</td>\n",
       "    </tr>\n",
       "    <tr>\n",
       "      <td>2</td>\n",
       "      <td>3.0</td>\n",
       "      <td>6.0</td>\n",
       "    </tr>\n",
       "  </tbody>\n",
       "</table>\n",
       "</div>"
      ],
      "text/plain": [
       "Selected Rows from Table CAS_TBL\n",
       "\n",
       "   BACK2A  BACK2B\n",
       "0     1.0     4.0\n",
       "1     2.0     5.0\n",
       "2     3.0     6.0"
      ]
     },
     "execution_count": 84,
     "metadata": {},
     "output_type": "execute_result"
    }
   ],
   "source": [
    "castbl.head()"
   ]
  },
  {
   "cell_type": "code",
   "execution_count": 85,
   "id": "32f2a879-27a6-4044-9f1f-8814a7807e01",
   "metadata": {},
   "outputs": [
    {
     "data": {
      "text/plain": [
       "['BACK2A', 'BACK2B']"
      ]
     },
     "execution_count": 85,
     "metadata": {},
     "output_type": "execute_result"
    }
   ],
   "source": [
    "# Store CAS table columns names in a list\n",
    "columnNames = castbl.columns.to_list()\n",
    "columnNames"
   ]
  },
  {
   "cell_type": "code",
   "execution_count": 86,
   "id": "63970e50-c1a2-4650-a0e0-e4b1c2a9b02a",
   "metadata": {
    "tags": []
   },
   "outputs": [
    {
     "data": {
      "text/plain": [
       "[{'name': 'BACK2A', 'rename': 'back2a'},\n",
       " {'name': 'BACK2B', 'rename': 'back2b'}]"
      ]
     },
     "execution_count": 86,
     "metadata": {},
     "output_type": "execute_result"
    }
   ],
   "source": [
    "myListOfDicts = [{'name':col, 'rename':col.lower()} for col in columnNames]\n",
    "myListOfDicts"
   ]
  },
  {
   "cell_type": "code",
   "execution_count": 87,
   "id": "a2f63fff-5834-404e-8533-cf957a631e73",
   "metadata": {
    "tags": []
   },
   "outputs": [
    {
     "data": {
      "text/html": [
       "<div class=\"cas-output-area\"></div>\n",
       "<p class=\"cas-results-performance\"><small><span class=\"cas-elapsed\">elapsed 0.00923s</span> &#183; <span class=\"cas-user\">user 0.00701s</span> &#183; <span class=\"cas-sys\">sys 0.013s</span> &#183; <span class=\"cas-memory\">mem 1.52MB</span></small></p>"
      ],
      "text/plain": [
       "+ Elapsed: 0.00923s, user: 0.00701s, sys: 0.013s, mem: 1.52mb"
      ]
     },
     "execution_count": 87,
     "metadata": {},
     "output_type": "execute_result"
    }
   ],
   "source": [
    "castbl.alterTable(columns = myListOfDicts)"
   ]
  },
  {
   "cell_type": "code",
   "execution_count": 88,
   "id": "35cd5b33-cffb-4037-bcaf-f1876a6d01bd",
   "metadata": {
    "tags": []
   },
   "outputs": [
    {
     "data": {
      "text/html": [
       "<div>\n",
       "<style scoped>\n",
       "    .dataframe tbody tr th:only-of-type {\n",
       "        vertical-align: middle;\n",
       "    }\n",
       "\n",
       "    .dataframe tbody tr th {\n",
       "        vertical-align: top;\n",
       "    }\n",
       "\n",
       "    .dataframe thead th {\n",
       "        text-align: right;\n",
       "    }\n",
       "</style>\n",
       "<table border=\"1\" class=\"dataframe\"><caption>Selected Rows from Table CAS_TBL</caption>\n",
       "  <thead>\n",
       "    <tr style=\"text-align: right;\">\n",
       "      <th title=\"\"></th>\n",
       "      <th title=\"back2a\">back2a</th>\n",
       "      <th title=\"back2b\">back2b</th>\n",
       "    </tr>\n",
       "  </thead>\n",
       "  <tbody>\n",
       "    <tr>\n",
       "      <td>0</td>\n",
       "      <td>1.0</td>\n",
       "      <td>4.0</td>\n",
       "    </tr>\n",
       "    <tr>\n",
       "      <td>1</td>\n",
       "      <td>2.0</td>\n",
       "      <td>5.0</td>\n",
       "    </tr>\n",
       "    <tr>\n",
       "      <td>2</td>\n",
       "      <td>3.0</td>\n",
       "      <td>6.0</td>\n",
       "    </tr>\n",
       "  </tbody>\n",
       "</table>\n",
       "</div>"
      ],
      "text/plain": [
       "Selected Rows from Table CAS_TBL\n",
       "\n",
       "   back2a  back2b\n",
       "0     1.0     4.0\n",
       "1     2.0     5.0\n",
       "2     3.0     6.0"
      ]
     },
     "execution_count": 88,
     "metadata": {},
     "output_type": "execute_result"
    }
   ],
   "source": [
    "castbl.head()"
   ]
  }
 ],
 "metadata": {
  "kernelspec": {
   "display_name": "Python 3 (ipykernel)",
   "language": "python",
   "name": "python3"
  },
  "language_info": {
   "codemirror_mode": {
    "name": "ipython",
    "version": 3
   },
   "file_extension": ".py",
   "mimetype": "text/x-python",
   "name": "python",
   "nbconvert_exporter": "python",
   "pygments_lexer": "ipython3",
   "version": "3.8.16"
  }
 },
 "nbformat": 4,
 "nbformat_minor": 5
}
